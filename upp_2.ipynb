{
 "cells": [
  {
   "cell_type": "code",
   "execution_count": 703,
   "metadata": {},
   "outputs": [
    {
     "data": {
      "text/html": [
       "<div>\n",
       "<style scoped>\n",
       "    .dataframe tbody tr th:only-of-type {\n",
       "        vertical-align: middle;\n",
       "    }\n",
       "\n",
       "    .dataframe tbody tr th {\n",
       "        vertical-align: top;\n",
       "    }\n",
       "\n",
       "    .dataframe thead th {\n",
       "        text-align: right;\n",
       "    }\n",
       "</style>\n",
       "<table border=\"1\" class=\"dataframe\">\n",
       "  <thead>\n",
       "    <tr style=\"text-align: right;\">\n",
       "      <th></th>\n",
       "      <th>ID</th>\n",
       "      <th>Name</th>\n",
       "      <th>Sex</th>\n",
       "      <th>Age</th>\n",
       "      <th>Height</th>\n",
       "      <th>Weight</th>\n",
       "      <th>Team</th>\n",
       "      <th>NOC</th>\n",
       "      <th>Games</th>\n",
       "      <th>Year</th>\n",
       "      <th>Season</th>\n",
       "      <th>City</th>\n",
       "      <th>Sport</th>\n",
       "      <th>Event</th>\n",
       "      <th>Medal</th>\n",
       "    </tr>\n",
       "  </thead>\n",
       "  <tbody>\n",
       "    <tr>\n",
       "      <th>0</th>\n",
       "      <td>1</td>\n",
       "      <td>A Dijiang</td>\n",
       "      <td>M</td>\n",
       "      <td>24.0</td>\n",
       "      <td>180.0</td>\n",
       "      <td>80.0</td>\n",
       "      <td>China</td>\n",
       "      <td>CHN</td>\n",
       "      <td>1992 Summer</td>\n",
       "      <td>1992</td>\n",
       "      <td>Summer</td>\n",
       "      <td>Barcelona</td>\n",
       "      <td>Basketball</td>\n",
       "      <td>Basketball Men's Basketball</td>\n",
       "      <td>NaN</td>\n",
       "    </tr>\n",
       "    <tr>\n",
       "      <th>1</th>\n",
       "      <td>2</td>\n",
       "      <td>A Lamusi</td>\n",
       "      <td>M</td>\n",
       "      <td>23.0</td>\n",
       "      <td>170.0</td>\n",
       "      <td>60.0</td>\n",
       "      <td>China</td>\n",
       "      <td>CHN</td>\n",
       "      <td>2012 Summer</td>\n",
       "      <td>2012</td>\n",
       "      <td>Summer</td>\n",
       "      <td>London</td>\n",
       "      <td>Judo</td>\n",
       "      <td>Judo Men's Extra-Lightweight</td>\n",
       "      <td>NaN</td>\n",
       "    </tr>\n",
       "    <tr>\n",
       "      <th>2</th>\n",
       "      <td>3</td>\n",
       "      <td>Gunnar Nielsen Aaby</td>\n",
       "      <td>M</td>\n",
       "      <td>24.0</td>\n",
       "      <td>NaN</td>\n",
       "      <td>NaN</td>\n",
       "      <td>Denmark</td>\n",
       "      <td>DEN</td>\n",
       "      <td>1920 Summer</td>\n",
       "      <td>1920</td>\n",
       "      <td>Summer</td>\n",
       "      <td>Antwerpen</td>\n",
       "      <td>Football</td>\n",
       "      <td>Football Men's Football</td>\n",
       "      <td>NaN</td>\n",
       "    </tr>\n",
       "    <tr>\n",
       "      <th>3</th>\n",
       "      <td>4</td>\n",
       "      <td>Edgar Lindenau Aabye</td>\n",
       "      <td>M</td>\n",
       "      <td>34.0</td>\n",
       "      <td>NaN</td>\n",
       "      <td>NaN</td>\n",
       "      <td>Denmark/Sweden</td>\n",
       "      <td>DEN</td>\n",
       "      <td>1900 Summer</td>\n",
       "      <td>1900</td>\n",
       "      <td>Summer</td>\n",
       "      <td>Paris</td>\n",
       "      <td>Tug-Of-War</td>\n",
       "      <td>Tug-Of-War Men's Tug-Of-War</td>\n",
       "      <td>Gold</td>\n",
       "    </tr>\n",
       "    <tr>\n",
       "      <th>4</th>\n",
       "      <td>5</td>\n",
       "      <td>Christine Jacoba Aaftink</td>\n",
       "      <td>F</td>\n",
       "      <td>21.0</td>\n",
       "      <td>185.0</td>\n",
       "      <td>82.0</td>\n",
       "      <td>Netherlands</td>\n",
       "      <td>NED</td>\n",
       "      <td>1988 Winter</td>\n",
       "      <td>1988</td>\n",
       "      <td>Winter</td>\n",
       "      <td>Calgary</td>\n",
       "      <td>Speed Skating</td>\n",
       "      <td>Speed Skating Women's 500 metres</td>\n",
       "      <td>NaN</td>\n",
       "    </tr>\n",
       "  </tbody>\n",
       "</table>\n",
       "</div>"
      ],
      "text/plain": [
       "   ID                      Name Sex   Age  Height  Weight            Team  \\\n",
       "0   1                 A Dijiang   M  24.0   180.0    80.0           China   \n",
       "1   2                  A Lamusi   M  23.0   170.0    60.0           China   \n",
       "2   3       Gunnar Nielsen Aaby   M  24.0     NaN     NaN         Denmark   \n",
       "3   4      Edgar Lindenau Aabye   M  34.0     NaN     NaN  Denmark/Sweden   \n",
       "4   5  Christine Jacoba Aaftink   F  21.0   185.0    82.0     Netherlands   \n",
       "\n",
       "   NOC        Games  Year  Season       City          Sport  \\\n",
       "0  CHN  1992 Summer  1992  Summer  Barcelona     Basketball   \n",
       "1  CHN  2012 Summer  2012  Summer     London           Judo   \n",
       "2  DEN  1920 Summer  1920  Summer  Antwerpen       Football   \n",
       "3  DEN  1900 Summer  1900  Summer      Paris     Tug-Of-War   \n",
       "4  NED  1988 Winter  1988  Winter    Calgary  Speed Skating   \n",
       "\n",
       "                              Event Medal  \n",
       "0       Basketball Men's Basketball   NaN  \n",
       "1      Judo Men's Extra-Lightweight   NaN  \n",
       "2           Football Men's Football   NaN  \n",
       "3       Tug-Of-War Men's Tug-Of-War  Gold  \n",
       "4  Speed Skating Women's 500 metres   NaN  "
      ]
     },
     "execution_count": 703,
     "metadata": {},
     "output_type": "execute_result"
    }
   ],
   "source": [
    "import pandas as pd\n",
    "import plotly.express as px \n",
    "\n",
    "Athlete_events = pd.read_csv(\"Data/athlete_events.csv\")\n",
    "Noc_regions = pd.read_csv(\"Data/noc_regions.csv\")\n",
    "\n",
    "df_athlete = pd.DataFrame(Athlete_events)\n",
    "df_regions = pd.DataFrame(Noc_regions)\n",
    "df_athlete.head()"
   ]
  },
  {
   "cell_type": "code",
   "execution_count": 704,
   "metadata": {},
   "outputs": [],
   "source": [
    "# Four sports to study, basketball, football, ice hockey, and boxing\n",
    "# Create a dataframe for the sports of interest"
   ]
  },
  {
   "cell_type": "code",
   "execution_count": 705,
   "metadata": {},
   "outputs": [
    {
     "data": {
      "text/html": [
       "<div>\n",
       "<style scoped>\n",
       "    .dataframe tbody tr th:only-of-type {\n",
       "        vertical-align: middle;\n",
       "    }\n",
       "\n",
       "    .dataframe tbody tr th {\n",
       "        vertical-align: top;\n",
       "    }\n",
       "\n",
       "    .dataframe thead th {\n",
       "        text-align: right;\n",
       "    }\n",
       "</style>\n",
       "<table border=\"1\" class=\"dataframe\">\n",
       "  <thead>\n",
       "    <tr style=\"text-align: right;\">\n",
       "      <th></th>\n",
       "      <th>ID</th>\n",
       "      <th>Name</th>\n",
       "      <th>Sex</th>\n",
       "      <th>Age</th>\n",
       "      <th>Height</th>\n",
       "      <th>Weight</th>\n",
       "      <th>Team</th>\n",
       "      <th>NOC</th>\n",
       "      <th>Games</th>\n",
       "      <th>Year</th>\n",
       "      <th>Season</th>\n",
       "      <th>City</th>\n",
       "      <th>Sport</th>\n",
       "      <th>Event</th>\n",
       "      <th>Medal</th>\n",
       "    </tr>\n",
       "  </thead>\n",
       "  <tbody>\n",
       "    <tr>\n",
       "      <th>0</th>\n",
       "      <td>1</td>\n",
       "      <td>A Dijiang</td>\n",
       "      <td>M</td>\n",
       "      <td>24.0</td>\n",
       "      <td>180.0</td>\n",
       "      <td>80.0</td>\n",
       "      <td>China</td>\n",
       "      <td>CHN</td>\n",
       "      <td>1992 Summer</td>\n",
       "      <td>1992</td>\n",
       "      <td>Summer</td>\n",
       "      <td>Barcelona</td>\n",
       "      <td>Basketball</td>\n",
       "      <td>Basketball Men's Basketball</td>\n",
       "      <td>NaN</td>\n",
       "    </tr>\n",
       "    <tr>\n",
       "      <th>1</th>\n",
       "      <td>3</td>\n",
       "      <td>Gunnar Nielsen Aaby</td>\n",
       "      <td>M</td>\n",
       "      <td>24.0</td>\n",
       "      <td>NaN</td>\n",
       "      <td>NaN</td>\n",
       "      <td>Denmark</td>\n",
       "      <td>DEN</td>\n",
       "      <td>1920 Summer</td>\n",
       "      <td>1920</td>\n",
       "      <td>Summer</td>\n",
       "      <td>Antwerpen</td>\n",
       "      <td>Football</td>\n",
       "      <td>Football Men's Football</td>\n",
       "      <td>NaN</td>\n",
       "    </tr>\n",
       "    <tr>\n",
       "      <th>2</th>\n",
       "      <td>9</td>\n",
       "      <td>Antti Sami Aalto</td>\n",
       "      <td>M</td>\n",
       "      <td>26.0</td>\n",
       "      <td>186.0</td>\n",
       "      <td>96.0</td>\n",
       "      <td>Finland</td>\n",
       "      <td>FIN</td>\n",
       "      <td>2002 Winter</td>\n",
       "      <td>2002</td>\n",
       "      <td>Winter</td>\n",
       "      <td>Salt Lake City</td>\n",
       "      <td>Ice Hockey</td>\n",
       "      <td>Ice Hockey Men's Ice Hockey</td>\n",
       "      <td>NaN</td>\n",
       "    </tr>\n",
       "    <tr>\n",
       "      <th>3</th>\n",
       "      <td>16</td>\n",
       "      <td>Juhamatti Tapio Aaltonen</td>\n",
       "      <td>M</td>\n",
       "      <td>28.0</td>\n",
       "      <td>184.0</td>\n",
       "      <td>85.0</td>\n",
       "      <td>Finland</td>\n",
       "      <td>FIN</td>\n",
       "      <td>2014 Winter</td>\n",
       "      <td>2014</td>\n",
       "      <td>Winter</td>\n",
       "      <td>Sochi</td>\n",
       "      <td>Ice Hockey</td>\n",
       "      <td>Ice Hockey Men's Ice Hockey</td>\n",
       "      <td>Bronze</td>\n",
       "    </tr>\n",
       "    <tr>\n",
       "      <th>4</th>\n",
       "      <td>37</td>\n",
       "      <td>Ann Kristin Aarnes</td>\n",
       "      <td>F</td>\n",
       "      <td>23.0</td>\n",
       "      <td>182.0</td>\n",
       "      <td>64.0</td>\n",
       "      <td>Norway</td>\n",
       "      <td>NOR</td>\n",
       "      <td>1996 Summer</td>\n",
       "      <td>1996</td>\n",
       "      <td>Summer</td>\n",
       "      <td>Atlanta</td>\n",
       "      <td>Football</td>\n",
       "      <td>Football Women's Football</td>\n",
       "      <td>Bronze</td>\n",
       "    </tr>\n",
       "  </tbody>\n",
       "</table>\n",
       "</div>"
      ],
      "text/plain": [
       "   ID                      Name Sex   Age  Height  Weight     Team  NOC  \\\n",
       "0   1                 A Dijiang   M  24.0   180.0    80.0    China  CHN   \n",
       "1   3       Gunnar Nielsen Aaby   M  24.0     NaN     NaN  Denmark  DEN   \n",
       "2   9          Antti Sami Aalto   M  26.0   186.0    96.0  Finland  FIN   \n",
       "3  16  Juhamatti Tapio Aaltonen   M  28.0   184.0    85.0  Finland  FIN   \n",
       "4  37        Ann Kristin Aarnes   F  23.0   182.0    64.0   Norway  NOR   \n",
       "\n",
       "         Games  Year  Season            City       Sport  \\\n",
       "0  1992 Summer  1992  Summer       Barcelona  Basketball   \n",
       "1  1920 Summer  1920  Summer       Antwerpen    Football   \n",
       "2  2002 Winter  2002  Winter  Salt Lake City  Ice Hockey   \n",
       "3  2014 Winter  2014  Winter           Sochi  Ice Hockey   \n",
       "4  1996 Summer  1996  Summer         Atlanta    Football   \n",
       "\n",
       "                         Event   Medal  \n",
       "0  Basketball Men's Basketball     NaN  \n",
       "1      Football Men's Football     NaN  \n",
       "2  Ice Hockey Men's Ice Hockey     NaN  \n",
       "3  Ice Hockey Men's Ice Hockey  Bronze  \n",
       "4    Football Women's Football  Bronze  "
      ]
     },
     "execution_count": 705,
     "metadata": {},
     "output_type": "execute_result"
    }
   ],
   "source": [
    "df_sports = df_athlete[df_athlete['Sport'].isin(['Basketball', 'Football', 'Ice Hockey', 'Boxing'])]\n",
    "df_sports.reset_index(drop=True, inplace=True)\n",
    "df_sports.head()"
   ]
  },
  {
   "cell_type": "code",
   "execution_count": 706,
   "metadata": {},
   "outputs": [
    {
     "data": {
      "text/html": [
       "<div>\n",
       "<style scoped>\n",
       "    .dataframe tbody tr th:only-of-type {\n",
       "        vertical-align: middle;\n",
       "    }\n",
       "\n",
       "    .dataframe tbody tr th {\n",
       "        vertical-align: top;\n",
       "    }\n",
       "\n",
       "    .dataframe thead th {\n",
       "        text-align: right;\n",
       "    }\n",
       "</style>\n",
       "<table border=\"1\" class=\"dataframe\">\n",
       "  <thead>\n",
       "    <tr style=\"text-align: right;\">\n",
       "      <th></th>\n",
       "      <th>ID</th>\n",
       "      <th>Name</th>\n",
       "      <th>Sex</th>\n",
       "      <th>Age</th>\n",
       "      <th>Height</th>\n",
       "      <th>Weight</th>\n",
       "      <th>Team</th>\n",
       "      <th>NOC</th>\n",
       "      <th>Games</th>\n",
       "      <th>Year</th>\n",
       "      <th>Season</th>\n",
       "      <th>City</th>\n",
       "      <th>Sport</th>\n",
       "      <th>Event</th>\n",
       "      <th>Medal</th>\n",
       "    </tr>\n",
       "  </thead>\n",
       "  <tbody>\n",
       "    <tr>\n",
       "      <th>0</th>\n",
       "      <td>1</td>\n",
       "      <td>A Dijiang</td>\n",
       "      <td>M</td>\n",
       "      <td>24.0</td>\n",
       "      <td>180.0</td>\n",
       "      <td>80.0</td>\n",
       "      <td>China</td>\n",
       "      <td>CHN</td>\n",
       "      <td>1992 Summer</td>\n",
       "      <td>1992</td>\n",
       "      <td>Summer</td>\n",
       "      <td>Barcelona</td>\n",
       "      <td>Basketball</td>\n",
       "      <td>Basketball Men's Basketball</td>\n",
       "      <td>NaN</td>\n",
       "    </tr>\n",
       "    <tr>\n",
       "      <th>1</th>\n",
       "      <td>3</td>\n",
       "      <td>Gunnar Nielsen Aaby</td>\n",
       "      <td>M</td>\n",
       "      <td>24.0</td>\n",
       "      <td>NaN</td>\n",
       "      <td>NaN</td>\n",
       "      <td>Denmark</td>\n",
       "      <td>DEN</td>\n",
       "      <td>1920 Summer</td>\n",
       "      <td>1920</td>\n",
       "      <td>Summer</td>\n",
       "      <td>Antwerpen</td>\n",
       "      <td>Football</td>\n",
       "      <td>Football Men's Football</td>\n",
       "      <td>NaN</td>\n",
       "    </tr>\n",
       "    <tr>\n",
       "      <th>2</th>\n",
       "      <td>9</td>\n",
       "      <td>Antti Sami Aalto</td>\n",
       "      <td>M</td>\n",
       "      <td>26.0</td>\n",
       "      <td>186.0</td>\n",
       "      <td>96.0</td>\n",
       "      <td>Finland</td>\n",
       "      <td>FIN</td>\n",
       "      <td>2002 Winter</td>\n",
       "      <td>2002</td>\n",
       "      <td>Winter</td>\n",
       "      <td>Salt Lake City</td>\n",
       "      <td>Ice Hockey</td>\n",
       "      <td>Ice Hockey Men's Ice Hockey</td>\n",
       "      <td>NaN</td>\n",
       "    </tr>\n",
       "    <tr>\n",
       "      <th>3</th>\n",
       "      <td>16</td>\n",
       "      <td>Juhamatti Tapio Aaltonen</td>\n",
       "      <td>M</td>\n",
       "      <td>28.0</td>\n",
       "      <td>184.0</td>\n",
       "      <td>85.0</td>\n",
       "      <td>Finland</td>\n",
       "      <td>FIN</td>\n",
       "      <td>2014 Winter</td>\n",
       "      <td>2014</td>\n",
       "      <td>Winter</td>\n",
       "      <td>Sochi</td>\n",
       "      <td>Ice Hockey</td>\n",
       "      <td>Ice Hockey Men's Ice Hockey</td>\n",
       "      <td>Bronze</td>\n",
       "    </tr>\n",
       "    <tr>\n",
       "      <th>4</th>\n",
       "      <td>37</td>\n",
       "      <td>Ann Kristin Aarnes</td>\n",
       "      <td>F</td>\n",
       "      <td>23.0</td>\n",
       "      <td>182.0</td>\n",
       "      <td>64.0</td>\n",
       "      <td>Norway</td>\n",
       "      <td>NOR</td>\n",
       "      <td>1996 Summer</td>\n",
       "      <td>1996</td>\n",
       "      <td>Summer</td>\n",
       "      <td>Atlanta</td>\n",
       "      <td>Football</td>\n",
       "      <td>Football Women's Football</td>\n",
       "      <td>Bronze</td>\n",
       "    </tr>\n",
       "    <tr>\n",
       "      <th>...</th>\n",
       "      <td>...</td>\n",
       "      <td>...</td>\n",
       "      <td>...</td>\n",
       "      <td>...</td>\n",
       "      <td>...</td>\n",
       "      <td>...</td>\n",
       "      <td>...</td>\n",
       "      <td>...</td>\n",
       "      <td>...</td>\n",
       "      <td>...</td>\n",
       "      <td>...</td>\n",
       "      <td>...</td>\n",
       "      <td>...</td>\n",
       "      <td>...</td>\n",
       "      <td>...</td>\n",
       "    </tr>\n",
       "    <tr>\n",
       "      <th>22839</th>\n",
       "      <td>135530</td>\n",
       "      <td>Philip Zwiener</td>\n",
       "      <td>M</td>\n",
       "      <td>23.0</td>\n",
       "      <td>202.0</td>\n",
       "      <td>98.0</td>\n",
       "      <td>Germany</td>\n",
       "      <td>GER</td>\n",
       "      <td>2008 Summer</td>\n",
       "      <td>2008</td>\n",
       "      <td>Summer</td>\n",
       "      <td>Beijing</td>\n",
       "      <td>Basketball</td>\n",
       "      <td>Basketball Men's Basketball</td>\n",
       "      <td>NaN</td>\n",
       "    </tr>\n",
       "    <tr>\n",
       "      <th>22840</th>\n",
       "      <td>135538</td>\n",
       "      <td>Jonathan Zwikel</td>\n",
       "      <td>M</td>\n",
       "      <td>22.0</td>\n",
       "      <td>183.0</td>\n",
       "      <td>84.0</td>\n",
       "      <td>France</td>\n",
       "      <td>FRA</td>\n",
       "      <td>1998 Winter</td>\n",
       "      <td>1998</td>\n",
       "      <td>Winter</td>\n",
       "      <td>Nagano</td>\n",
       "      <td>Ice Hockey</td>\n",
       "      <td>Ice Hockey Men's Ice Hockey</td>\n",
       "      <td>NaN</td>\n",
       "    </tr>\n",
       "    <tr>\n",
       "      <th>22841</th>\n",
       "      <td>135538</td>\n",
       "      <td>Jonathan Zwikel</td>\n",
       "      <td>M</td>\n",
       "      <td>26.0</td>\n",
       "      <td>183.0</td>\n",
       "      <td>84.0</td>\n",
       "      <td>France</td>\n",
       "      <td>FRA</td>\n",
       "      <td>2002 Winter</td>\n",
       "      <td>2002</td>\n",
       "      <td>Winter</td>\n",
       "      <td>Salt Lake City</td>\n",
       "      <td>Ice Hockey</td>\n",
       "      <td>Ice Hockey Men's Ice Hockey</td>\n",
       "      <td>NaN</td>\n",
       "    </tr>\n",
       "    <tr>\n",
       "      <th>22842</th>\n",
       "      <td>135566</td>\n",
       "      <td>James Francis \"Jim\" Zylker</td>\n",
       "      <td>M</td>\n",
       "      <td>21.0</td>\n",
       "      <td>175.0</td>\n",
       "      <td>75.0</td>\n",
       "      <td>United States</td>\n",
       "      <td>USA</td>\n",
       "      <td>1972 Summer</td>\n",
       "      <td>1972</td>\n",
       "      <td>Summer</td>\n",
       "      <td>Munich</td>\n",
       "      <td>Football</td>\n",
       "      <td>Football Men's Football</td>\n",
       "      <td>NaN</td>\n",
       "    </tr>\n",
       "    <tr>\n",
       "      <th>22843</th>\n",
       "      <td>135568</td>\n",
       "      <td>Olga Igorevna Zyuzkova</td>\n",
       "      <td>F</td>\n",
       "      <td>33.0</td>\n",
       "      <td>171.0</td>\n",
       "      <td>69.0</td>\n",
       "      <td>Belarus</td>\n",
       "      <td>BLR</td>\n",
       "      <td>2016 Summer</td>\n",
       "      <td>2016</td>\n",
       "      <td>Summer</td>\n",
       "      <td>Rio de Janeiro</td>\n",
       "      <td>Basketball</td>\n",
       "      <td>Basketball Women's Basketball</td>\n",
       "      <td>NaN</td>\n",
       "    </tr>\n",
       "  </tbody>\n",
       "</table>\n",
       "<p>22844 rows × 15 columns</p>\n",
       "</div>"
      ],
      "text/plain": [
       "           ID                        Name Sex   Age  Height  Weight  \\\n",
       "0           1                   A Dijiang   M  24.0   180.0    80.0   \n",
       "1           3         Gunnar Nielsen Aaby   M  24.0     NaN     NaN   \n",
       "2           9            Antti Sami Aalto   M  26.0   186.0    96.0   \n",
       "3          16    Juhamatti Tapio Aaltonen   M  28.0   184.0    85.0   \n",
       "4          37          Ann Kristin Aarnes   F  23.0   182.0    64.0   \n",
       "...       ...                         ...  ..   ...     ...     ...   \n",
       "22839  135530              Philip Zwiener   M  23.0   202.0    98.0   \n",
       "22840  135538             Jonathan Zwikel   M  22.0   183.0    84.0   \n",
       "22841  135538             Jonathan Zwikel   M  26.0   183.0    84.0   \n",
       "22842  135566  James Francis \"Jim\" Zylker   M  21.0   175.0    75.0   \n",
       "22843  135568      Olga Igorevna Zyuzkova   F  33.0   171.0    69.0   \n",
       "\n",
       "                Team  NOC        Games  Year  Season            City  \\\n",
       "0              China  CHN  1992 Summer  1992  Summer       Barcelona   \n",
       "1            Denmark  DEN  1920 Summer  1920  Summer       Antwerpen   \n",
       "2            Finland  FIN  2002 Winter  2002  Winter  Salt Lake City   \n",
       "3            Finland  FIN  2014 Winter  2014  Winter           Sochi   \n",
       "4             Norway  NOR  1996 Summer  1996  Summer         Atlanta   \n",
       "...              ...  ...          ...   ...     ...             ...   \n",
       "22839        Germany  GER  2008 Summer  2008  Summer         Beijing   \n",
       "22840         France  FRA  1998 Winter  1998  Winter          Nagano   \n",
       "22841         France  FRA  2002 Winter  2002  Winter  Salt Lake City   \n",
       "22842  United States  USA  1972 Summer  1972  Summer          Munich   \n",
       "22843        Belarus  BLR  2016 Summer  2016  Summer  Rio de Janeiro   \n",
       "\n",
       "            Sport                          Event   Medal  \n",
       "0      Basketball    Basketball Men's Basketball     NaN  \n",
       "1        Football        Football Men's Football     NaN  \n",
       "2      Ice Hockey    Ice Hockey Men's Ice Hockey     NaN  \n",
       "3      Ice Hockey    Ice Hockey Men's Ice Hockey  Bronze  \n",
       "4        Football      Football Women's Football  Bronze  \n",
       "...           ...                            ...     ...  \n",
       "22839  Basketball    Basketball Men's Basketball     NaN  \n",
       "22840  Ice Hockey    Ice Hockey Men's Ice Hockey     NaN  \n",
       "22841  Ice Hockey    Ice Hockey Men's Ice Hockey     NaN  \n",
       "22842    Football        Football Men's Football     NaN  \n",
       "22843  Basketball  Basketball Women's Basketball     NaN  \n",
       "\n",
       "[22844 rows x 15 columns]"
      ]
     },
     "metadata": {},
     "output_type": "display_data"
    }
   ],
   "source": [
    "display(df_sports)"
   ]
  },
  {
   "cell_type": "code",
   "execution_count": 707,
   "metadata": {},
   "outputs": [
    {
     "data": {
      "text/html": [
       "<div>\n",
       "<style scoped>\n",
       "    .dataframe tbody tr th:only-of-type {\n",
       "        vertical-align: middle;\n",
       "    }\n",
       "\n",
       "    .dataframe tbody tr th {\n",
       "        vertical-align: top;\n",
       "    }\n",
       "\n",
       "    .dataframe thead th {\n",
       "        text-align: right;\n",
       "    }\n",
       "</style>\n",
       "<table border=\"1\" class=\"dataframe\">\n",
       "  <thead>\n",
       "    <tr style=\"text-align: right;\">\n",
       "      <th></th>\n",
       "      <th>ID</th>\n",
       "      <th>Name</th>\n",
       "      <th>Sex</th>\n",
       "      <th>Age</th>\n",
       "      <th>Height</th>\n",
       "      <th>Weight</th>\n",
       "      <th>Team</th>\n",
       "      <th>NOC</th>\n",
       "      <th>Games</th>\n",
       "      <th>Year</th>\n",
       "      <th>Season</th>\n",
       "      <th>City</th>\n",
       "      <th>Sport</th>\n",
       "      <th>Event</th>\n",
       "      <th>Medal</th>\n",
       "    </tr>\n",
       "  </thead>\n",
       "  <tbody>\n",
       "    <tr>\n",
       "      <th>73</th>\n",
       "      <td>351</td>\n",
       "      <td>Julius Shareef Abdur-Rahim</td>\n",
       "      <td>M</td>\n",
       "      <td>23.0</td>\n",
       "      <td>202.0</td>\n",
       "      <td>104.0</td>\n",
       "      <td>United States</td>\n",
       "      <td>USA</td>\n",
       "      <td>2000 Summer</td>\n",
       "      <td>2000</td>\n",
       "      <td>Summer</td>\n",
       "      <td>Sydney</td>\n",
       "      <td>Basketball</td>\n",
       "      <td>Basketball Men's Basketball</td>\n",
       "      <td>Gold</td>\n",
       "    </tr>\n",
       "    <tr>\n",
       "      <th>582</th>\n",
       "      <td>2863</td>\n",
       "      <td>Walter Ray Allen</td>\n",
       "      <td>M</td>\n",
       "      <td>25.0</td>\n",
       "      <td>192.0</td>\n",
       "      <td>93.0</td>\n",
       "      <td>United States</td>\n",
       "      <td>USA</td>\n",
       "      <td>2000 Summer</td>\n",
       "      <td>2000</td>\n",
       "      <td>Summer</td>\n",
       "      <td>Sydney</td>\n",
       "      <td>Basketball</td>\n",
       "      <td>Basketball Men's Basketball</td>\n",
       "      <td>Gold</td>\n",
       "    </tr>\n",
       "    <tr>\n",
       "      <th>1425</th>\n",
       "      <td>7040</td>\n",
       "      <td>Vincent Lamont \"Vin\" Baker</td>\n",
       "      <td>M</td>\n",
       "      <td>28.0</td>\n",
       "      <td>207.0</td>\n",
       "      <td>109.0</td>\n",
       "      <td>United States</td>\n",
       "      <td>USA</td>\n",
       "      <td>2000 Summer</td>\n",
       "      <td>2000</td>\n",
       "      <td>Summer</td>\n",
       "      <td>Sydney</td>\n",
       "      <td>Basketball</td>\n",
       "      <td>Basketball Men's Basketball</td>\n",
       "      <td>Gold</td>\n",
       "    </tr>\n",
       "    <tr>\n",
       "      <th>2367</th>\n",
       "      <td>13042</td>\n",
       "      <td>Alice Ruth \"Ruthie\" Bolton-Holifield</td>\n",
       "      <td>F</td>\n",
       "      <td>33.0</td>\n",
       "      <td>173.0</td>\n",
       "      <td>68.0</td>\n",
       "      <td>United States</td>\n",
       "      <td>USA</td>\n",
       "      <td>2000 Summer</td>\n",
       "      <td>2000</td>\n",
       "      <td>Summer</td>\n",
       "      <td>Sydney</td>\n",
       "      <td>Basketball</td>\n",
       "      <td>Basketball Women's Basketball</td>\n",
       "      <td>Gold</td>\n",
       "    </tr>\n",
       "    <tr>\n",
       "      <th>3272</th>\n",
       "      <td>18662</td>\n",
       "      <td>Vincent Lamar \"Vince\" Carter</td>\n",
       "      <td>M</td>\n",
       "      <td>23.0</td>\n",
       "      <td>195.0</td>\n",
       "      <td>102.0</td>\n",
       "      <td>United States</td>\n",
       "      <td>USA</td>\n",
       "      <td>2000 Summer</td>\n",
       "      <td>2000</td>\n",
       "      <td>Summer</td>\n",
       "      <td>Sydney</td>\n",
       "      <td>Basketball</td>\n",
       "      <td>Basketball Men's Basketball</td>\n",
       "      <td>Gold</td>\n",
       "    </tr>\n",
       "    <tr>\n",
       "      <th>5305</th>\n",
       "      <td>31507</td>\n",
       "      <td>Teresa Edwards</td>\n",
       "      <td>F</td>\n",
       "      <td>36.0</td>\n",
       "      <td>175.0</td>\n",
       "      <td>68.0</td>\n",
       "      <td>United States</td>\n",
       "      <td>USA</td>\n",
       "      <td>2000 Summer</td>\n",
       "      <td>2000</td>\n",
       "      <td>Summer</td>\n",
       "      <td>Sydney</td>\n",
       "      <td>Basketball</td>\n",
       "      <td>Basketball Women's Basketball</td>\n",
       "      <td>Gold</td>\n",
       "    </tr>\n",
       "    <tr>\n",
       "      <th>6587</th>\n",
       "      <td>38826</td>\n",
       "      <td>Kevin Maurice Garnett</td>\n",
       "      <td>M</td>\n",
       "      <td>24.0</td>\n",
       "      <td>207.0</td>\n",
       "      <td>100.0</td>\n",
       "      <td>United States</td>\n",
       "      <td>USA</td>\n",
       "      <td>2000 Summer</td>\n",
       "      <td>2000</td>\n",
       "      <td>Summer</td>\n",
       "      <td>Sydney</td>\n",
       "      <td>Basketball</td>\n",
       "      <td>Basketball Men's Basketball</td>\n",
       "      <td>Gold</td>\n",
       "    </tr>\n",
       "    <tr>\n",
       "      <th>7207</th>\n",
       "      <td>42871</td>\n",
       "      <td>Yolanda Yvette Griffith</td>\n",
       "      <td>F</td>\n",
       "      <td>30.0</td>\n",
       "      <td>193.0</td>\n",
       "      <td>81.0</td>\n",
       "      <td>United States</td>\n",
       "      <td>USA</td>\n",
       "      <td>2000 Summer</td>\n",
       "      <td>2000</td>\n",
       "      <td>Summer</td>\n",
       "      <td>Sydney</td>\n",
       "      <td>Basketball</td>\n",
       "      <td>Basketball Women's Basketball</td>\n",
       "      <td>Gold</td>\n",
       "    </tr>\n",
       "    <tr>\n",
       "      <th>7694</th>\n",
       "      <td>45964</td>\n",
       "      <td>Timothy Duane \"Tim\" Hardaway</td>\n",
       "      <td>M</td>\n",
       "      <td>34.0</td>\n",
       "      <td>180.0</td>\n",
       "      <td>88.0</td>\n",
       "      <td>United States</td>\n",
       "      <td>USA</td>\n",
       "      <td>2000 Summer</td>\n",
       "      <td>2000</td>\n",
       "      <td>Summer</td>\n",
       "      <td>Sydney</td>\n",
       "      <td>Basketball</td>\n",
       "      <td>Basketball Men's Basketball</td>\n",
       "      <td>Gold</td>\n",
       "    </tr>\n",
       "    <tr>\n",
       "      <th>8373</th>\n",
       "      <td>50268</td>\n",
       "      <td>Allan Wade Houston</td>\n",
       "      <td>M</td>\n",
       "      <td>29.0</td>\n",
       "      <td>195.0</td>\n",
       "      <td>91.0</td>\n",
       "      <td>United States</td>\n",
       "      <td>USA</td>\n",
       "      <td>2000 Summer</td>\n",
       "      <td>2000</td>\n",
       "      <td>Summer</td>\n",
       "      <td>Sydney</td>\n",
       "      <td>Basketball</td>\n",
       "      <td>Basketball Men's Basketball</td>\n",
       "      <td>Gold</td>\n",
       "    </tr>\n",
       "    <tr>\n",
       "      <th>10010</th>\n",
       "      <td>59569</td>\n",
       "      <td>Jason Frederick Kidd</td>\n",
       "      <td>M</td>\n",
       "      <td>27.0</td>\n",
       "      <td>193.0</td>\n",
       "      <td>96.0</td>\n",
       "      <td>United States</td>\n",
       "      <td>USA</td>\n",
       "      <td>2000 Summer</td>\n",
       "      <td>2000</td>\n",
       "      <td>Summer</td>\n",
       "      <td>Sydney</td>\n",
       "      <td>Basketball</td>\n",
       "      <td>Basketball Men's Basketball</td>\n",
       "      <td>Gold</td>\n",
       "    </tr>\n",
       "    <tr>\n",
       "      <th>11501</th>\n",
       "      <td>68985</td>\n",
       "      <td>Lisa Deshawn Leslie (-Lockwood)</td>\n",
       "      <td>F</td>\n",
       "      <td>28.0</td>\n",
       "      <td>196.0</td>\n",
       "      <td>77.0</td>\n",
       "      <td>United States</td>\n",
       "      <td>USA</td>\n",
       "      <td>2000 Summer</td>\n",
       "      <td>2000</td>\n",
       "      <td>Summer</td>\n",
       "      <td>Sydney</td>\n",
       "      <td>Basketball</td>\n",
       "      <td>Basketball Women's Basketball</td>\n",
       "      <td>Gold</td>\n",
       "    </tr>\n",
       "    <tr>\n",
       "      <th>13024</th>\n",
       "      <td>77407</td>\n",
       "      <td>Nikki Kensengane McCray</td>\n",
       "      <td>F</td>\n",
       "      <td>28.0</td>\n",
       "      <td>181.0</td>\n",
       "      <td>72.0</td>\n",
       "      <td>United States</td>\n",
       "      <td>USA</td>\n",
       "      <td>2000 Summer</td>\n",
       "      <td>2000</td>\n",
       "      <td>Summer</td>\n",
       "      <td>Sydney</td>\n",
       "      <td>Basketball</td>\n",
       "      <td>Basketball Women's Basketball</td>\n",
       "      <td>Gold</td>\n",
       "    </tr>\n",
       "    <tr>\n",
       "      <th>13036</th>\n",
       "      <td>77496</td>\n",
       "      <td>Antonio Keithflen McDyess</td>\n",
       "      <td>M</td>\n",
       "      <td>26.0</td>\n",
       "      <td>202.0</td>\n",
       "      <td>109.0</td>\n",
       "      <td>United States</td>\n",
       "      <td>USA</td>\n",
       "      <td>2000 Summer</td>\n",
       "      <td>2000</td>\n",
       "      <td>Summer</td>\n",
       "      <td>Sydney</td>\n",
       "      <td>Basketball</td>\n",
       "      <td>Basketball Men's Basketball</td>\n",
       "      <td>Gold</td>\n",
       "    </tr>\n",
       "    <tr>\n",
       "      <th>13451</th>\n",
       "      <td>80053</td>\n",
       "      <td>DeLisha Lachell Milton-Jones</td>\n",
       "      <td>F</td>\n",
       "      <td>26.0</td>\n",
       "      <td>185.0</td>\n",
       "      <td>84.0</td>\n",
       "      <td>United States</td>\n",
       "      <td>USA</td>\n",
       "      <td>2000 Summer</td>\n",
       "      <td>2000</td>\n",
       "      <td>Summer</td>\n",
       "      <td>Sydney</td>\n",
       "      <td>Basketball</td>\n",
       "      <td>Basketball Women's Basketball</td>\n",
       "      <td>Gold</td>\n",
       "    </tr>\n",
       "    <tr>\n",
       "      <th>13916</th>\n",
       "      <td>82625</td>\n",
       "      <td>Alonzo Harding Mourning</td>\n",
       "      <td>M</td>\n",
       "      <td>30.0</td>\n",
       "      <td>206.0</td>\n",
       "      <td>117.0</td>\n",
       "      <td>United States</td>\n",
       "      <td>USA</td>\n",
       "      <td>2000 Summer</td>\n",
       "      <td>2000</td>\n",
       "      <td>Summer</td>\n",
       "      <td>Sydney</td>\n",
       "      <td>Basketball</td>\n",
       "      <td>Basketball Men's Basketball</td>\n",
       "      <td>Gold</td>\n",
       "    </tr>\n",
       "    <tr>\n",
       "      <th>15753</th>\n",
       "      <td>92435</td>\n",
       "      <td>Gary Dwayne Payton</td>\n",
       "      <td>M</td>\n",
       "      <td>32.0</td>\n",
       "      <td>190.0</td>\n",
       "      <td>86.0</td>\n",
       "      <td>United States</td>\n",
       "      <td>USA</td>\n",
       "      <td>2000 Summer</td>\n",
       "      <td>2000</td>\n",
       "      <td>Summer</td>\n",
       "      <td>Sydney</td>\n",
       "      <td>Basketball</td>\n",
       "      <td>Basketball Men's Basketball</td>\n",
       "      <td>Gold</td>\n",
       "    </tr>\n",
       "    <tr>\n",
       "      <th>19158</th>\n",
       "      <td>112322</td>\n",
       "      <td>Katherine May \"Katie\" Smith</td>\n",
       "      <td>F</td>\n",
       "      <td>26.0</td>\n",
       "      <td>180.0</td>\n",
       "      <td>79.0</td>\n",
       "      <td>United States</td>\n",
       "      <td>USA</td>\n",
       "      <td>2000 Summer</td>\n",
       "      <td>2000</td>\n",
       "      <td>Summer</td>\n",
       "      <td>Sydney</td>\n",
       "      <td>Basketball</td>\n",
       "      <td>Basketball Women's Basketball</td>\n",
       "      <td>Gold</td>\n",
       "    </tr>\n",
       "    <tr>\n",
       "      <th>19167</th>\n",
       "      <td>112404</td>\n",
       "      <td>Steven Delano \"Steve\" Smith</td>\n",
       "      <td>M</td>\n",
       "      <td>31.0</td>\n",
       "      <td>200.0</td>\n",
       "      <td>100.0</td>\n",
       "      <td>United States</td>\n",
       "      <td>USA</td>\n",
       "      <td>2000 Summer</td>\n",
       "      <td>2000</td>\n",
       "      <td>Summer</td>\n",
       "      <td>Sydney</td>\n",
       "      <td>Basketball</td>\n",
       "      <td>Basketball Men's Basketball</td>\n",
       "      <td>Gold</td>\n",
       "    </tr>\n",
       "    <tr>\n",
       "      <th>19502</th>\n",
       "      <td>114217</td>\n",
       "      <td>Dawn Michelle Staley</td>\n",
       "      <td>F</td>\n",
       "      <td>30.0</td>\n",
       "      <td>165.0</td>\n",
       "      <td>58.0</td>\n",
       "      <td>United States</td>\n",
       "      <td>USA</td>\n",
       "      <td>2000 Summer</td>\n",
       "      <td>2000</td>\n",
       "      <td>Summer</td>\n",
       "      <td>Sydney</td>\n",
       "      <td>Basketball</td>\n",
       "      <td>Basketball Women's Basketball</td>\n",
       "      <td>Gold</td>\n",
       "    </tr>\n",
       "    <tr>\n",
       "      <th>19998</th>\n",
       "      <td>117168</td>\n",
       "      <td>Sheryl Denice Swoopes</td>\n",
       "      <td>F</td>\n",
       "      <td>29.0</td>\n",
       "      <td>182.0</td>\n",
       "      <td>72.0</td>\n",
       "      <td>United States</td>\n",
       "      <td>USA</td>\n",
       "      <td>2000 Summer</td>\n",
       "      <td>2000</td>\n",
       "      <td>Summer</td>\n",
       "      <td>Sydney</td>\n",
       "      <td>Basketball</td>\n",
       "      <td>Basketball Women's Basketball</td>\n",
       "      <td>Gold</td>\n",
       "    </tr>\n",
       "    <tr>\n",
       "      <th>22076</th>\n",
       "      <td>130646</td>\n",
       "      <td>Natalie Jean Williams</td>\n",
       "      <td>F</td>\n",
       "      <td>29.0</td>\n",
       "      <td>188.0</td>\n",
       "      <td>80.0</td>\n",
       "      <td>United States</td>\n",
       "      <td>USA</td>\n",
       "      <td>2000 Summer</td>\n",
       "      <td>2000</td>\n",
       "      <td>Summer</td>\n",
       "      <td>Sydney</td>\n",
       "      <td>Basketball</td>\n",
       "      <td>Basketball Women's Basketball</td>\n",
       "      <td>Gold</td>\n",
       "    </tr>\n",
       "    <tr>\n",
       "      <th>22156</th>\n",
       "      <td>131390</td>\n",
       "      <td>Kara Elizabeth Wolters (-Drinan)</td>\n",
       "      <td>F</td>\n",
       "      <td>25.0</td>\n",
       "      <td>201.0</td>\n",
       "      <td>95.0</td>\n",
       "      <td>United States</td>\n",
       "      <td>USA</td>\n",
       "      <td>2000 Summer</td>\n",
       "      <td>2000</td>\n",
       "      <td>Summer</td>\n",
       "      <td>Sydney</td>\n",
       "      <td>Basketball</td>\n",
       "      <td>Basketball Women's Basketball</td>\n",
       "      <td>Gold</td>\n",
       "    </tr>\n",
       "  </tbody>\n",
       "</table>\n",
       "</div>"
      ],
      "text/plain": [
       "           ID                                  Name Sex   Age  Height  Weight  \\\n",
       "73        351            Julius Shareef Abdur-Rahim   M  23.0   202.0   104.0   \n",
       "582      2863                      Walter Ray Allen   M  25.0   192.0    93.0   \n",
       "1425     7040            Vincent Lamont \"Vin\" Baker   M  28.0   207.0   109.0   \n",
       "2367    13042  Alice Ruth \"Ruthie\" Bolton-Holifield   F  33.0   173.0    68.0   \n",
       "3272    18662          Vincent Lamar \"Vince\" Carter   M  23.0   195.0   102.0   \n",
       "5305    31507                        Teresa Edwards   F  36.0   175.0    68.0   \n",
       "6587    38826                 Kevin Maurice Garnett   M  24.0   207.0   100.0   \n",
       "7207    42871               Yolanda Yvette Griffith   F  30.0   193.0    81.0   \n",
       "7694    45964          Timothy Duane \"Tim\" Hardaway   M  34.0   180.0    88.0   \n",
       "8373    50268                    Allan Wade Houston   M  29.0   195.0    91.0   \n",
       "10010   59569                  Jason Frederick Kidd   M  27.0   193.0    96.0   \n",
       "11501   68985       Lisa Deshawn Leslie (-Lockwood)   F  28.0   196.0    77.0   \n",
       "13024   77407               Nikki Kensengane McCray   F  28.0   181.0    72.0   \n",
       "13036   77496             Antonio Keithflen McDyess   M  26.0   202.0   109.0   \n",
       "13451   80053          DeLisha Lachell Milton-Jones   F  26.0   185.0    84.0   \n",
       "13916   82625               Alonzo Harding Mourning   M  30.0   206.0   117.0   \n",
       "15753   92435                    Gary Dwayne Payton   M  32.0   190.0    86.0   \n",
       "19158  112322           Katherine May \"Katie\" Smith   F  26.0   180.0    79.0   \n",
       "19167  112404           Steven Delano \"Steve\" Smith   M  31.0   200.0   100.0   \n",
       "19502  114217                  Dawn Michelle Staley   F  30.0   165.0    58.0   \n",
       "19998  117168                 Sheryl Denice Swoopes   F  29.0   182.0    72.0   \n",
       "22076  130646                 Natalie Jean Williams   F  29.0   188.0    80.0   \n",
       "22156  131390      Kara Elizabeth Wolters (-Drinan)   F  25.0   201.0    95.0   \n",
       "\n",
       "                Team  NOC        Games  Year  Season    City       Sport  \\\n",
       "73     United States  USA  2000 Summer  2000  Summer  Sydney  Basketball   \n",
       "582    United States  USA  2000 Summer  2000  Summer  Sydney  Basketball   \n",
       "1425   United States  USA  2000 Summer  2000  Summer  Sydney  Basketball   \n",
       "2367   United States  USA  2000 Summer  2000  Summer  Sydney  Basketball   \n",
       "3272   United States  USA  2000 Summer  2000  Summer  Sydney  Basketball   \n",
       "5305   United States  USA  2000 Summer  2000  Summer  Sydney  Basketball   \n",
       "6587   United States  USA  2000 Summer  2000  Summer  Sydney  Basketball   \n",
       "7207   United States  USA  2000 Summer  2000  Summer  Sydney  Basketball   \n",
       "7694   United States  USA  2000 Summer  2000  Summer  Sydney  Basketball   \n",
       "8373   United States  USA  2000 Summer  2000  Summer  Sydney  Basketball   \n",
       "10010  United States  USA  2000 Summer  2000  Summer  Sydney  Basketball   \n",
       "11501  United States  USA  2000 Summer  2000  Summer  Sydney  Basketball   \n",
       "13024  United States  USA  2000 Summer  2000  Summer  Sydney  Basketball   \n",
       "13036  United States  USA  2000 Summer  2000  Summer  Sydney  Basketball   \n",
       "13451  United States  USA  2000 Summer  2000  Summer  Sydney  Basketball   \n",
       "13916  United States  USA  2000 Summer  2000  Summer  Sydney  Basketball   \n",
       "15753  United States  USA  2000 Summer  2000  Summer  Sydney  Basketball   \n",
       "19158  United States  USA  2000 Summer  2000  Summer  Sydney  Basketball   \n",
       "19167  United States  USA  2000 Summer  2000  Summer  Sydney  Basketball   \n",
       "19502  United States  USA  2000 Summer  2000  Summer  Sydney  Basketball   \n",
       "19998  United States  USA  2000 Summer  2000  Summer  Sydney  Basketball   \n",
       "22076  United States  USA  2000 Summer  2000  Summer  Sydney  Basketball   \n",
       "22156  United States  USA  2000 Summer  2000  Summer  Sydney  Basketball   \n",
       "\n",
       "                               Event Medal  \n",
       "73       Basketball Men's Basketball  Gold  \n",
       "582      Basketball Men's Basketball  Gold  \n",
       "1425     Basketball Men's Basketball  Gold  \n",
       "2367   Basketball Women's Basketball  Gold  \n",
       "3272     Basketball Men's Basketball  Gold  \n",
       "5305   Basketball Women's Basketball  Gold  \n",
       "6587     Basketball Men's Basketball  Gold  \n",
       "7207   Basketball Women's Basketball  Gold  \n",
       "7694     Basketball Men's Basketball  Gold  \n",
       "8373     Basketball Men's Basketball  Gold  \n",
       "10010    Basketball Men's Basketball  Gold  \n",
       "11501  Basketball Women's Basketball  Gold  \n",
       "13024  Basketball Women's Basketball  Gold  \n",
       "13036    Basketball Men's Basketball  Gold  \n",
       "13451  Basketball Women's Basketball  Gold  \n",
       "13916    Basketball Men's Basketball  Gold  \n",
       "15753    Basketball Men's Basketball  Gold  \n",
       "19158  Basketball Women's Basketball  Gold  \n",
       "19167    Basketball Men's Basketball  Gold  \n",
       "19502  Basketball Women's Basketball  Gold  \n",
       "19998  Basketball Women's Basketball  Gold  \n",
       "22076  Basketball Women's Basketball  Gold  \n",
       "22156  Basketball Women's Basketball  Gold  "
      ]
     },
     "execution_count": 707,
     "metadata": {},
     "output_type": "execute_result"
    }
   ],
   "source": [
    "# check for a specific year, specific country, specific sport with gold medal\n",
    "df_sports[(df_sports['Year'] == 2000) & (df_sports['NOC'] == 'USA') & (df_sports['Sport'] == 'Basketball') & (df_sports['Medal'] == 'Gold')]"
   ]
  },
  {
   "cell_type": "markdown",
   "metadata": {},
   "source": [
    "Note: the Unified Team is the name used for the sports team of the former Soviet Union at the 1992 Winter Olympics in Albertville and the 1992 Summer Olympics in Barcelona\n",
    "- source: https://en.wikipedia.org/wiki/Unified_Team_at_the_Olympics"
   ]
  },
  {
   "cell_type": "code",
   "execution_count": 708,
   "metadata": {},
   "outputs": [
    {
     "name": "stdout",
     "output_type": "stream",
     "text": [
      "There are 17719 missing values in the Medal column\n",
      "The percentage of missing values in the Medal column is 77.57%\n"
     ]
    }
   ],
   "source": [
    "# check for missing values in Medal column\n",
    "no_medals = df_sports['Medal'].isnull().sum()\n",
    "print(f\"There are {no_medals} missing values in the Medal column\")\n",
    "\n",
    "no_medals_percentage = no_medals/len(df_sports) * 100\n",
    "print(f\"The percentage of missing values in the Medal column is {no_medals_percentage:.2f}%\")"
   ]
  },
  {
   "cell_type": "code",
   "execution_count": 709,
   "metadata": {},
   "outputs": [
    {
     "name": "stdout",
     "output_type": "stream",
     "text": [
      "There are 908 missing values in the Age column\n",
      "The percentage of missing values in the Age column is 3.97%\n"
     ]
    }
   ],
   "source": [
    "# check for missing values in Age column\n",
    "no_age = df_sports[\"Age\"].isnull().sum()\n",
    "print(f\"There are {no_age} missing values in the Age column\")\n",
    "\n",
    "no_age_percentage = no_age / len(df_sports) * 100\n",
    "print(f\"The percentage of missing values in the Age column is {no_age_percentage:.2f}%\")"
   ]
  },
  {
   "cell_type": "markdown",
   "metadata": {},
   "source": [
    "- As we can see, that the proportion of missing values in the Age column is about 3.97% of the total number of rows in the dataframe.\n",
    "- So we can assume that is ok to replace the missing values with the mean of the Age column."
   ]
  },
  {
   "cell_type": "code",
   "execution_count": 710,
   "metadata": {},
   "outputs": [
    {
     "name": "stderr",
     "output_type": "stream",
     "text": [
      "C:\\Users\\hadda\\AppData\\Local\\Temp\\ipykernel_17260\\1433037379.py:2: SettingWithCopyWarning:\n",
      "\n",
      "\n",
      "A value is trying to be set on a copy of a slice from a DataFrame\n",
      "\n",
      "See the caveats in the documentation: https://pandas.pydata.org/pandas-docs/stable/user_guide/indexing.html#returning-a-view-versus-a-copy\n",
      "\n",
      "C:\\Users\\hadda\\AppData\\Local\\Temp\\ipykernel_17260\\1433037379.py:5: SettingWithCopyWarning:\n",
      "\n",
      "\n",
      "A value is trying to be set on a copy of a slice from a DataFrame.\n",
      "Try using .loc[row_indexer,col_indexer] = value instead\n",
      "\n",
      "See the caveats in the documentation: https://pandas.pydata.org/pandas-docs/stable/user_guide/indexing.html#returning-a-view-versus-a-copy\n",
      "\n"
     ]
    }
   ],
   "source": [
    "# replace the missing values in age column with the mean age\n",
    "df_sports[\"Age\"].fillna(df_sports[\"Age\"].mean(), inplace=True)\n",
    "\n",
    "# convert the Age column to int\n",
    "df_sports[\"Age\"] = df_sports[\"Age\"].astype(int)\n"
   ]
  },
  {
   "cell_type": "markdown",
   "metadata": {},
   "source": [
    "- After thorough examination, the missing values are not missing at random, they are missing because the athlete did not win a medal."
   ]
  },
  {
   "cell_type": "code",
   "execution_count": 711,
   "metadata": {},
   "outputs": [
    {
     "data": {
      "text/html": [
       "<div>\n",
       "<style scoped>\n",
       "    .dataframe tbody tr th:only-of-type {\n",
       "        vertical-align: middle;\n",
       "    }\n",
       "\n",
       "    .dataframe tbody tr th {\n",
       "        vertical-align: top;\n",
       "    }\n",
       "\n",
       "    .dataframe thead th {\n",
       "        text-align: right;\n",
       "    }\n",
       "</style>\n",
       "<table border=\"1\" class=\"dataframe\">\n",
       "  <thead>\n",
       "    <tr style=\"text-align: right;\">\n",
       "      <th></th>\n",
       "      <th>ID</th>\n",
       "      <th>Name</th>\n",
       "      <th>Sex</th>\n",
       "      <th>Age</th>\n",
       "      <th>Height</th>\n",
       "      <th>Weight</th>\n",
       "      <th>Team</th>\n",
       "      <th>NOC</th>\n",
       "      <th>Games</th>\n",
       "      <th>Year</th>\n",
       "      <th>Season</th>\n",
       "      <th>City</th>\n",
       "      <th>Sport</th>\n",
       "      <th>Event</th>\n",
       "      <th>Medal</th>\n",
       "    </tr>\n",
       "  </thead>\n",
       "  <tbody>\n",
       "    <tr>\n",
       "      <th>6</th>\n",
       "      <td>48</td>\n",
       "      <td>Abdelhak Aatakni</td>\n",
       "      <td>M</td>\n",
       "      <td>24</td>\n",
       "      <td>NaN</td>\n",
       "      <td>64.0</td>\n",
       "      <td>Morocco</td>\n",
       "      <td>MAR</td>\n",
       "      <td>2012 Summer</td>\n",
       "      <td>2012</td>\n",
       "      <td>Summer</td>\n",
       "      <td>London</td>\n",
       "      <td>Boxing</td>\n",
       "      <td>Boxing Men's Light-Welterweight</td>\n",
       "      <td>NaN</td>\n",
       "    </tr>\n",
       "    <tr>\n",
       "      <th>7</th>\n",
       "      <td>54</td>\n",
       "      <td>Mohamed Jamshid Abadi</td>\n",
       "      <td>M</td>\n",
       "      <td>24</td>\n",
       "      <td>NaN</td>\n",
       "      <td>NaN</td>\n",
       "      <td>Iran</td>\n",
       "      <td>IRI</td>\n",
       "      <td>1948 Summer</td>\n",
       "      <td>1948</td>\n",
       "      <td>Summer</td>\n",
       "      <td>London</td>\n",
       "      <td>Boxing</td>\n",
       "      <td>Boxing Men's Heavyweight</td>\n",
       "      <td>NaN</td>\n",
       "    </tr>\n",
       "    <tr>\n",
       "      <th>8</th>\n",
       "      <td>57</td>\n",
       "      <td>Borislav Abadzhiev</td>\n",
       "      <td>M</td>\n",
       "      <td>24</td>\n",
       "      <td>176.0</td>\n",
       "      <td>66.0</td>\n",
       "      <td>Bulgaria</td>\n",
       "      <td>BUL</td>\n",
       "      <td>1988 Summer</td>\n",
       "      <td>1988</td>\n",
       "      <td>Summer</td>\n",
       "      <td>Seoul</td>\n",
       "      <td>Boxing</td>\n",
       "      <td>Boxing Men's Light-Welterweight</td>\n",
       "      <td>NaN</td>\n",
       "    </tr>\n",
       "    <tr>\n",
       "      <th>10</th>\n",
       "      <td>66</td>\n",
       "      <td>Mohamed Abakkar</td>\n",
       "      <td>M</td>\n",
       "      <td>24</td>\n",
       "      <td>156.0</td>\n",
       "      <td>48.0</td>\n",
       "      <td>Sudan</td>\n",
       "      <td>SUD</td>\n",
       "      <td>1972 Summer</td>\n",
       "      <td>1972</td>\n",
       "      <td>Summer</td>\n",
       "      <td>Munich</td>\n",
       "      <td>Boxing</td>\n",
       "      <td>Boxing Men's Flyweight</td>\n",
       "      <td>NaN</td>\n",
       "    </tr>\n",
       "    <tr>\n",
       "      <th>13</th>\n",
       "      <td>77</td>\n",
       "      <td>Antoine Abang</td>\n",
       "      <td>M</td>\n",
       "      <td>27</td>\n",
       "      <td>166.0</td>\n",
       "      <td>75.0</td>\n",
       "      <td>Cameroon</td>\n",
       "      <td>CMR</td>\n",
       "      <td>1968 Summer</td>\n",
       "      <td>1968</td>\n",
       "      <td>Summer</td>\n",
       "      <td>Mexico City</td>\n",
       "      <td>Boxing</td>\n",
       "      <td>Boxing Men's Middleweight</td>\n",
       "      <td>NaN</td>\n",
       "    </tr>\n",
       "  </tbody>\n",
       "</table>\n",
       "</div>"
      ],
      "text/plain": [
       "    ID                   Name Sex  Age  Height  Weight      Team  NOC  \\\n",
       "6   48       Abdelhak Aatakni   M   24     NaN    64.0   Morocco  MAR   \n",
       "7   54  Mohamed Jamshid Abadi   M   24     NaN     NaN      Iran  IRI   \n",
       "8   57     Borislav Abadzhiev   M   24   176.0    66.0  Bulgaria  BUL   \n",
       "10  66        Mohamed Abakkar   M   24   156.0    48.0     Sudan  SUD   \n",
       "13  77          Antoine Abang   M   27   166.0    75.0  Cameroon  CMR   \n",
       "\n",
       "          Games  Year  Season         City   Sport  \\\n",
       "6   2012 Summer  2012  Summer       London  Boxing   \n",
       "7   1948 Summer  1948  Summer       London  Boxing   \n",
       "8   1988 Summer  1988  Summer        Seoul  Boxing   \n",
       "10  1972 Summer  1972  Summer       Munich  Boxing   \n",
       "13  1968 Summer  1968  Summer  Mexico City  Boxing   \n",
       "\n",
       "                              Event Medal  \n",
       "6   Boxing Men's Light-Welterweight   NaN  \n",
       "7          Boxing Men's Heavyweight   NaN  \n",
       "8   Boxing Men's Light-Welterweight   NaN  \n",
       "10           Boxing Men's Flyweight   NaN  \n",
       "13        Boxing Men's Middleweight   NaN  "
      ]
     },
     "execution_count": 711,
     "metadata": {},
     "output_type": "execute_result"
    }
   ],
   "source": [
    "df_boxing = df_sports[df_sports[\"Sport\"] == \"Boxing\"]\n",
    "df_boxing.head()"
   ]
  },
  {
   "cell_type": "code",
   "execution_count": 712,
   "metadata": {},
   "outputs": [
    {
     "data": {
      "text/plain": [
       "array(['Summer'], dtype=object)"
      ]
     },
     "execution_count": 712,
     "metadata": {},
     "output_type": "execute_result"
    }
   ],
   "source": [
    "df_boxing[\"Season\"].unique() # boxing only has Summer season"
   ]
  },
  {
   "cell_type": "code",
   "execution_count": 713,
   "metadata": {},
   "outputs": [],
   "source": [
    "# since we are trying to visualize the medal distribution for each land(not athlete) we have to:\n",
    "# exclude the athletes who did not win a medal from the dataframe "
   ]
  },
  {
   "cell_type": "code",
   "execution_count": 714,
   "metadata": {},
   "outputs": [
    {
     "data": {
      "text/html": [
       "<div>\n",
       "<style scoped>\n",
       "    .dataframe tbody tr th:only-of-type {\n",
       "        vertical-align: middle;\n",
       "    }\n",
       "\n",
       "    .dataframe tbody tr th {\n",
       "        vertical-align: top;\n",
       "    }\n",
       "\n",
       "    .dataframe thead th {\n",
       "        text-align: right;\n",
       "    }\n",
       "</style>\n",
       "<table border=\"1\" class=\"dataframe\">\n",
       "  <thead>\n",
       "    <tr style=\"text-align: right;\">\n",
       "      <th></th>\n",
       "      <th>Age</th>\n",
       "      <th>Team</th>\n",
       "      <th>Medal</th>\n",
       "    </tr>\n",
       "  </thead>\n",
       "  <tbody>\n",
       "    <tr>\n",
       "      <th>69</th>\n",
       "      <td>26</td>\n",
       "      <td>Uzbekistan</td>\n",
       "      <td>Gold</td>\n",
       "    </tr>\n",
       "    <tr>\n",
       "      <th>134</th>\n",
       "      <td>21</td>\n",
       "      <td>Puerto Rico</td>\n",
       "      <td>Bronze</td>\n",
       "    </tr>\n",
       "    <tr>\n",
       "      <th>140</th>\n",
       "      <td>29</td>\n",
       "      <td>Morocco</td>\n",
       "      <td>Bronze</td>\n",
       "    </tr>\n",
       "    <tr>\n",
       "      <th>142</th>\n",
       "      <td>27</td>\n",
       "      <td>Morocco</td>\n",
       "      <td>Bronze</td>\n",
       "    </tr>\n",
       "    <tr>\n",
       "      <th>149</th>\n",
       "      <td>23</td>\n",
       "      <td>Cuba</td>\n",
       "      <td>Bronze</td>\n",
       "    </tr>\n",
       "    <tr>\n",
       "      <th>...</th>\n",
       "      <td>...</td>\n",
       "      <td>...</td>\n",
       "      <td>...</td>\n",
       "    </tr>\n",
       "    <tr>\n",
       "      <th>22788</th>\n",
       "      <td>27</td>\n",
       "      <td>China</td>\n",
       "      <td>Gold</td>\n",
       "    </tr>\n",
       "    <tr>\n",
       "      <th>22789</th>\n",
       "      <td>31</td>\n",
       "      <td>China</td>\n",
       "      <td>Gold</td>\n",
       "    </tr>\n",
       "    <tr>\n",
       "      <th>22813</th>\n",
       "      <td>20</td>\n",
       "      <td>Italy</td>\n",
       "      <td>Silver</td>\n",
       "    </tr>\n",
       "    <tr>\n",
       "      <th>22821</th>\n",
       "      <td>22</td>\n",
       "      <td>East Germany</td>\n",
       "      <td>Gold</td>\n",
       "    </tr>\n",
       "    <tr>\n",
       "      <th>22836</th>\n",
       "      <td>21</td>\n",
       "      <td>Belarus</td>\n",
       "      <td>Silver</td>\n",
       "    </tr>\n",
       "  </tbody>\n",
       "</table>\n",
       "<p>944 rows × 3 columns</p>\n",
       "</div>"
      ],
      "text/plain": [
       "       Age          Team   Medal\n",
       "69      26    Uzbekistan    Gold\n",
       "134     21   Puerto Rico  Bronze\n",
       "140     29       Morocco  Bronze\n",
       "142     27       Morocco  Bronze\n",
       "149     23          Cuba  Bronze\n",
       "...    ...           ...     ...\n",
       "22788   27         China    Gold\n",
       "22789   31         China    Gold\n",
       "22813   20         Italy  Silver\n",
       "22821   22  East Germany    Gold\n",
       "22836   21       Belarus  Silver\n",
       "\n",
       "[944 rows x 3 columns]"
      ]
     },
     "execution_count": 714,
     "metadata": {},
     "output_type": "execute_result"
    }
   ],
   "source": [
    "# remove all columns except Age, Team and Medal\n",
    "df_boxing = df_boxing[[\"Age\", \"Team\", \"Medal\"]]\n",
    "\n",
    "# remove all rows where the medal is NaN\n",
    "df_boxing = df_boxing[df_boxing[\"Medal\"].notna()] # notna() is the same as isnull() == False\n",
    "df_boxing"
   ]
  },
  {
   "cell_type": "code",
   "execution_count": 715,
   "metadata": {},
   "outputs": [
    {
     "data": {
      "text/html": [
       "<div>\n",
       "<style scoped>\n",
       "    .dataframe tbody tr th:only-of-type {\n",
       "        vertical-align: middle;\n",
       "    }\n",
       "\n",
       "    .dataframe tbody tr th {\n",
       "        vertical-align: top;\n",
       "    }\n",
       "\n",
       "    .dataframe thead th {\n",
       "        text-align: right;\n",
       "    }\n",
       "</style>\n",
       "<table border=\"1\" class=\"dataframe\">\n",
       "  <thead>\n",
       "    <tr style=\"text-align: right;\">\n",
       "      <th></th>\n",
       "      <th>Team</th>\n",
       "      <th>Medal</th>\n",
       "      <th>Count</th>\n",
       "    </tr>\n",
       "  </thead>\n",
       "  <tbody>\n",
       "    <tr>\n",
       "      <th>0</th>\n",
       "      <td>United States</td>\n",
       "      <td>Gold</td>\n",
       "      <td>50</td>\n",
       "    </tr>\n",
       "    <tr>\n",
       "      <th>1</th>\n",
       "      <td>United States</td>\n",
       "      <td>Bronze</td>\n",
       "      <td>39</td>\n",
       "    </tr>\n",
       "    <tr>\n",
       "      <th>2</th>\n",
       "      <td>Cuba</td>\n",
       "      <td>Gold</td>\n",
       "      <td>37</td>\n",
       "    </tr>\n",
       "    <tr>\n",
       "      <th>3</th>\n",
       "      <td>Poland</td>\n",
       "      <td>Bronze</td>\n",
       "      <td>26</td>\n",
       "    </tr>\n",
       "    <tr>\n",
       "      <th>4</th>\n",
       "      <td>Great Britain</td>\n",
       "      <td>Bronze</td>\n",
       "      <td>25</td>\n",
       "    </tr>\n",
       "    <tr>\n",
       "      <th>...</th>\n",
       "      <td>...</td>\n",
       "      <td>...</td>\n",
       "      <td>...</td>\n",
       "    </tr>\n",
       "    <tr>\n",
       "      <th>167</th>\n",
       "      <td>Guyana</td>\n",
       "      <td>Bronze</td>\n",
       "      <td>1</td>\n",
       "    </tr>\n",
       "    <tr>\n",
       "      <th>168</th>\n",
       "      <td>Ghana</td>\n",
       "      <td>Silver</td>\n",
       "      <td>1</td>\n",
       "    </tr>\n",
       "    <tr>\n",
       "      <th>169</th>\n",
       "      <td>Georgia</td>\n",
       "      <td>Bronze</td>\n",
       "      <td>1</td>\n",
       "    </tr>\n",
       "    <tr>\n",
       "      <th>170</th>\n",
       "      <td>Finland</td>\n",
       "      <td>Silver</td>\n",
       "      <td>1</td>\n",
       "    </tr>\n",
       "    <tr>\n",
       "      <th>171</th>\n",
       "      <td>Zambia</td>\n",
       "      <td>Bronze</td>\n",
       "      <td>1</td>\n",
       "    </tr>\n",
       "  </tbody>\n",
       "</table>\n",
       "<p>172 rows × 3 columns</p>\n",
       "</div>"
      ],
      "text/plain": [
       "              Team   Medal  Count\n",
       "0    United States    Gold     50\n",
       "1    United States  Bronze     39\n",
       "2             Cuba    Gold     37\n",
       "3           Poland  Bronze     26\n",
       "4    Great Britain  Bronze     25\n",
       "..             ...     ...    ...\n",
       "167         Guyana  Bronze      1\n",
       "168          Ghana  Silver      1\n",
       "169        Georgia  Bronze      1\n",
       "170        Finland  Silver      1\n",
       "171         Zambia  Bronze      1\n",
       "\n",
       "[172 rows x 3 columns]"
      ]
     },
     "execution_count": 715,
     "metadata": {},
     "output_type": "execute_result"
    }
   ],
   "source": [
    "# use groupby to group the data by Team and Medal\n",
    "df_boxing_medal = df_boxing.groupby([\"Team\", \"Medal\"]) \n",
    "df_boxing_medal = df_boxing_medal.size() # size() counts the number of rows in each group\n",
    "df_boxing_medal = df_boxing_medal.reset_index(name=\"Count\") # reset_index(name=\"Count\") resets the index and adds a new column named Count\n",
    "# sort by count of gold medals\n",
    "df_boxing_medal = df_boxing_medal.sort_values(by=[\"Count\"], ascending=False).reset_index(drop=True)\n",
    "df_boxing_medal"
   ]
  },
  {
   "cell_type": "code",
   "execution_count": 716,
   "metadata": {},
   "outputs": [
    {
     "data": {
      "application/vnd.plotly.v1+json": {
       "config": {
        "plotlyServerURL": "https://plot.ly"
       },
       "data": [
        {
         "alignmentgroup": "True",
         "hovertemplate": "Medal=Gold<br>Team=%{x}<br>Count=%{y}<extra></extra>",
         "legendgroup": "Gold",
         "marker": {
          "color": "gold",
          "pattern": {
           "shape": ""
          }
         },
         "name": "Gold",
         "offsetgroup": "Gold",
         "orientation": "v",
         "showlegend": true,
         "textposition": "auto",
         "type": "bar",
         "x": [
          "United States",
          "Cuba",
          "Great Britain",
          "Italy",
          "Soviet Union",
          "Hungary",
          "Russia",
          "Poland",
          "Argentina",
          "Kazakhstan",
          "France",
          "South Africa",
          "Germany",
          "East Germany",
          "Bulgaria",
          "Thailand",
          "Uzbekistan",
          "Ukraine",
          "Canada",
          "Yugoslavia",
          "China",
          "South Korea",
          "Czechoslovakia",
          "Mexico",
          "Ireland",
          "North Korea",
          "Finland",
          "Japan",
          "West Germany",
          "Venezuela",
          "Romania",
          "Denmark",
          "Brazil",
          "Belgium",
          "Dominican Republic",
          "Mongolia",
          "Norway",
          "New Zealand",
          "Netherlands",
          "Algeria",
          "Kenya"
         ],
         "xaxis": "x",
         "y": [
          50,
          37,
          18,
          15,
          14,
          10,
          10,
          8,
          7,
          7,
          6,
          6,
          5,
          5,
          4,
          4,
          4,
          4,
          3,
          3,
          3,
          3,
          3,
          2,
          2,
          2,
          2,
          2,
          1,
          1,
          1,
          1,
          1,
          1,
          1,
          1,
          1,
          1,
          1,
          1,
          1
         ],
         "yaxis": "y"
        },
        {
         "alignmentgroup": "True",
         "hovertemplate": "Medal=Silver<br>Team=%{x}<br>Count=%{y}<extra></extra>",
         "legendgroup": "Silver",
         "marker": {
          "color": "silver",
          "pattern": {
           "shape": ""
          }
         },
         "name": "Silver",
         "offsetgroup": "Silver",
         "orientation": "v",
         "showlegend": true,
         "textposition": "auto",
         "type": "bar",
         "x": [
          "United States",
          "Soviet Union",
          "Cuba",
          "Italy",
          "Great Britain",
          "Germany",
          "France",
          "Poland",
          "Romania",
          "Kazakhstan",
          "Argentina",
          "Canada",
          "South Korea",
          "Russia",
          "Ireland",
          "Sweden",
          "Denmark",
          "Bulgaria",
          "South Africa",
          "Thailand",
          "North Korea",
          "Nigeria",
          "Uganda",
          "Mexico",
          "Ukraine",
          "China",
          "Norway",
          "Philippines",
          "Hungary",
          "Uzbekistan",
          "East Germany",
          "Belarus",
          "Spain",
          "Turkey",
          "Netherlands",
          "Mongolia",
          "Yugoslavia",
          "Venezuela",
          "Tonga",
          "Unified Team",
          "Kenya",
          "Puerto Rico",
          "Czechoslovakia",
          "Czech Republic",
          "Colombia",
          "Chile",
          "Cameroon",
          "Brazil",
          "Belgium",
          "Azerbaijan",
          "Australia",
          "Australasia",
          "Egypt",
          "New Zealand",
          "Estonia",
          "Ghana",
          "Finland"
         ],
         "xaxis": "x",
         "y": [
          24,
          19,
          19,
          15,
          13,
          12,
          9,
          9,
          9,
          7,
          7,
          7,
          7,
          5,
          5,
          5,
          5,
          5,
          4,
          4,
          3,
          3,
          3,
          3,
          3,
          3,
          2,
          2,
          2,
          2,
          2,
          2,
          2,
          2,
          2,
          2,
          2,
          2,
          1,
          1,
          1,
          1,
          1,
          1,
          1,
          1,
          1,
          1,
          1,
          1,
          1,
          1,
          1,
          1,
          1,
          1,
          1
         ],
         "yaxis": "y"
        },
        {
         "alignmentgroup": "True",
         "hovertemplate": "Medal=Bronze<br>Team=%{x}<br>Count=%{y}<extra></extra>",
         "legendgroup": "Bronze",
         "marker": {
          "color": "brown",
          "pattern": {
           "shape": ""
          }
         },
         "name": "Bronze",
         "offsetgroup": "Bronze",
         "orientation": "v",
         "showlegend": true,
         "textposition": "auto",
         "type": "bar",
         "x": [
          "United States",
          "Poland",
          "Great Britain",
          "Soviet Union",
          "Cuba",
          "Italy",
          "Russia",
          "Romania",
          "Finland",
          "Germany",
          "Argentina",
          "France",
          "South Korea",
          "Ireland",
          "South Africa",
          "Bulgaria",
          "Kazakhstan",
          "Hungary",
          "Mexico",
          "Uzbekistan",
          "Azerbaijan",
          "Canada",
          "Ukraine",
          "Yugoslavia",
          "East Germany",
          "Sweden",
          "Denmark",
          "Thailand",
          "China",
          "Puerto Rico",
          "Kenya",
          "Algeria",
          "West Germany",
          "Morocco",
          "Mongolia",
          "Colombia",
          "Netherlands",
          "Venezuela",
          "Philippines",
          "Brazil",
          "North Korea",
          "Nigeria",
          "Australia",
          "Turkey",
          "Japan",
          "Spain",
          "Norway",
          "India",
          "Belgium",
          "Egypt",
          "Chile",
          "Ghana",
          "Czechoslovakia",
          "Moldova",
          "Tunisia",
          "Unified Team",
          "United Arab Republic",
          "Syria",
          "Tajikistan",
          "Uruguay",
          "Uganda",
          "Croatia",
          "Cameroon",
          "Bermuda",
          "Armenia",
          "Dominican Republic",
          "Pakistan",
          "Niger",
          "New Zealand",
          "Mauritius",
          "Lithuania",
          "Guyana",
          "Georgia",
          "Zambia"
         ],
         "xaxis": "x",
         "y": [
          39,
          26,
          25,
          18,
          17,
          17,
          15,
          15,
          12,
          12,
          10,
          10,
          10,
          9,
          9,
          9,
          8,
          8,
          8,
          8,
          7,
          7,
          7,
          6,
          6,
          6,
          6,
          6,
          6,
          5,
          5,
          5,
          5,
          4,
          4,
          4,
          4,
          3,
          3,
          3,
          3,
          3,
          3,
          3,
          3,
          2,
          2,
          2,
          2,
          2,
          2,
          2,
          2,
          2,
          2,
          1,
          1,
          1,
          1,
          1,
          1,
          1,
          1,
          1,
          1,
          1,
          1,
          1,
          1,
          1,
          1,
          1,
          1,
          1
         ],
         "yaxis": "y"
        }
       ],
       "layout": {
        "barmode": "relative",
        "legend": {
         "title": {
          "text": "Medal"
         },
         "tracegroupgap": 0
        },
        "template": {
         "data": {
          "bar": [
           {
            "error_x": {
             "color": "#2a3f5f"
            },
            "error_y": {
             "color": "#2a3f5f"
            },
            "marker": {
             "line": {
              "color": "#E5ECF6",
              "width": 0.5
             },
             "pattern": {
              "fillmode": "overlay",
              "size": 10,
              "solidity": 0.2
             }
            },
            "type": "bar"
           }
          ],
          "barpolar": [
           {
            "marker": {
             "line": {
              "color": "#E5ECF6",
              "width": 0.5
             },
             "pattern": {
              "fillmode": "overlay",
              "size": 10,
              "solidity": 0.2
             }
            },
            "type": "barpolar"
           }
          ],
          "carpet": [
           {
            "aaxis": {
             "endlinecolor": "#2a3f5f",
             "gridcolor": "white",
             "linecolor": "white",
             "minorgridcolor": "white",
             "startlinecolor": "#2a3f5f"
            },
            "baxis": {
             "endlinecolor": "#2a3f5f",
             "gridcolor": "white",
             "linecolor": "white",
             "minorgridcolor": "white",
             "startlinecolor": "#2a3f5f"
            },
            "type": "carpet"
           }
          ],
          "choropleth": [
           {
            "colorbar": {
             "outlinewidth": 0,
             "ticks": ""
            },
            "type": "choropleth"
           }
          ],
          "contour": [
           {
            "colorbar": {
             "outlinewidth": 0,
             "ticks": ""
            },
            "colorscale": [
             [
              0,
              "#0d0887"
             ],
             [
              0.1111111111111111,
              "#46039f"
             ],
             [
              0.2222222222222222,
              "#7201a8"
             ],
             [
              0.3333333333333333,
              "#9c179e"
             ],
             [
              0.4444444444444444,
              "#bd3786"
             ],
             [
              0.5555555555555556,
              "#d8576b"
             ],
             [
              0.6666666666666666,
              "#ed7953"
             ],
             [
              0.7777777777777778,
              "#fb9f3a"
             ],
             [
              0.8888888888888888,
              "#fdca26"
             ],
             [
              1,
              "#f0f921"
             ]
            ],
            "type": "contour"
           }
          ],
          "contourcarpet": [
           {
            "colorbar": {
             "outlinewidth": 0,
             "ticks": ""
            },
            "type": "contourcarpet"
           }
          ],
          "heatmap": [
           {
            "colorbar": {
             "outlinewidth": 0,
             "ticks": ""
            },
            "colorscale": [
             [
              0,
              "#0d0887"
             ],
             [
              0.1111111111111111,
              "#46039f"
             ],
             [
              0.2222222222222222,
              "#7201a8"
             ],
             [
              0.3333333333333333,
              "#9c179e"
             ],
             [
              0.4444444444444444,
              "#bd3786"
             ],
             [
              0.5555555555555556,
              "#d8576b"
             ],
             [
              0.6666666666666666,
              "#ed7953"
             ],
             [
              0.7777777777777778,
              "#fb9f3a"
             ],
             [
              0.8888888888888888,
              "#fdca26"
             ],
             [
              1,
              "#f0f921"
             ]
            ],
            "type": "heatmap"
           }
          ],
          "heatmapgl": [
           {
            "colorbar": {
             "outlinewidth": 0,
             "ticks": ""
            },
            "colorscale": [
             [
              0,
              "#0d0887"
             ],
             [
              0.1111111111111111,
              "#46039f"
             ],
             [
              0.2222222222222222,
              "#7201a8"
             ],
             [
              0.3333333333333333,
              "#9c179e"
             ],
             [
              0.4444444444444444,
              "#bd3786"
             ],
             [
              0.5555555555555556,
              "#d8576b"
             ],
             [
              0.6666666666666666,
              "#ed7953"
             ],
             [
              0.7777777777777778,
              "#fb9f3a"
             ],
             [
              0.8888888888888888,
              "#fdca26"
             ],
             [
              1,
              "#f0f921"
             ]
            ],
            "type": "heatmapgl"
           }
          ],
          "histogram": [
           {
            "marker": {
             "pattern": {
              "fillmode": "overlay",
              "size": 10,
              "solidity": 0.2
             }
            },
            "type": "histogram"
           }
          ],
          "histogram2d": [
           {
            "colorbar": {
             "outlinewidth": 0,
             "ticks": ""
            },
            "colorscale": [
             [
              0,
              "#0d0887"
             ],
             [
              0.1111111111111111,
              "#46039f"
             ],
             [
              0.2222222222222222,
              "#7201a8"
             ],
             [
              0.3333333333333333,
              "#9c179e"
             ],
             [
              0.4444444444444444,
              "#bd3786"
             ],
             [
              0.5555555555555556,
              "#d8576b"
             ],
             [
              0.6666666666666666,
              "#ed7953"
             ],
             [
              0.7777777777777778,
              "#fb9f3a"
             ],
             [
              0.8888888888888888,
              "#fdca26"
             ],
             [
              1,
              "#f0f921"
             ]
            ],
            "type": "histogram2d"
           }
          ],
          "histogram2dcontour": [
           {
            "colorbar": {
             "outlinewidth": 0,
             "ticks": ""
            },
            "colorscale": [
             [
              0,
              "#0d0887"
             ],
             [
              0.1111111111111111,
              "#46039f"
             ],
             [
              0.2222222222222222,
              "#7201a8"
             ],
             [
              0.3333333333333333,
              "#9c179e"
             ],
             [
              0.4444444444444444,
              "#bd3786"
             ],
             [
              0.5555555555555556,
              "#d8576b"
             ],
             [
              0.6666666666666666,
              "#ed7953"
             ],
             [
              0.7777777777777778,
              "#fb9f3a"
             ],
             [
              0.8888888888888888,
              "#fdca26"
             ],
             [
              1,
              "#f0f921"
             ]
            ],
            "type": "histogram2dcontour"
           }
          ],
          "mesh3d": [
           {
            "colorbar": {
             "outlinewidth": 0,
             "ticks": ""
            },
            "type": "mesh3d"
           }
          ],
          "parcoords": [
           {
            "line": {
             "colorbar": {
              "outlinewidth": 0,
              "ticks": ""
             }
            },
            "type": "parcoords"
           }
          ],
          "pie": [
           {
            "automargin": true,
            "type": "pie"
           }
          ],
          "scatter": [
           {
            "fillpattern": {
             "fillmode": "overlay",
             "size": 10,
             "solidity": 0.2
            },
            "type": "scatter"
           }
          ],
          "scatter3d": [
           {
            "line": {
             "colorbar": {
              "outlinewidth": 0,
              "ticks": ""
             }
            },
            "marker": {
             "colorbar": {
              "outlinewidth": 0,
              "ticks": ""
             }
            },
            "type": "scatter3d"
           }
          ],
          "scattercarpet": [
           {
            "marker": {
             "colorbar": {
              "outlinewidth": 0,
              "ticks": ""
             }
            },
            "type": "scattercarpet"
           }
          ],
          "scattergeo": [
           {
            "marker": {
             "colorbar": {
              "outlinewidth": 0,
              "ticks": ""
             }
            },
            "type": "scattergeo"
           }
          ],
          "scattergl": [
           {
            "marker": {
             "colorbar": {
              "outlinewidth": 0,
              "ticks": ""
             }
            },
            "type": "scattergl"
           }
          ],
          "scattermapbox": [
           {
            "marker": {
             "colorbar": {
              "outlinewidth": 0,
              "ticks": ""
             }
            },
            "type": "scattermapbox"
           }
          ],
          "scatterpolar": [
           {
            "marker": {
             "colorbar": {
              "outlinewidth": 0,
              "ticks": ""
             }
            },
            "type": "scatterpolar"
           }
          ],
          "scatterpolargl": [
           {
            "marker": {
             "colorbar": {
              "outlinewidth": 0,
              "ticks": ""
             }
            },
            "type": "scatterpolargl"
           }
          ],
          "scatterternary": [
           {
            "marker": {
             "colorbar": {
              "outlinewidth": 0,
              "ticks": ""
             }
            },
            "type": "scatterternary"
           }
          ],
          "surface": [
           {
            "colorbar": {
             "outlinewidth": 0,
             "ticks": ""
            },
            "colorscale": [
             [
              0,
              "#0d0887"
             ],
             [
              0.1111111111111111,
              "#46039f"
             ],
             [
              0.2222222222222222,
              "#7201a8"
             ],
             [
              0.3333333333333333,
              "#9c179e"
             ],
             [
              0.4444444444444444,
              "#bd3786"
             ],
             [
              0.5555555555555556,
              "#d8576b"
             ],
             [
              0.6666666666666666,
              "#ed7953"
             ],
             [
              0.7777777777777778,
              "#fb9f3a"
             ],
             [
              0.8888888888888888,
              "#fdca26"
             ],
             [
              1,
              "#f0f921"
             ]
            ],
            "type": "surface"
           }
          ],
          "table": [
           {
            "cells": {
             "fill": {
              "color": "#EBF0F8"
             },
             "line": {
              "color": "white"
             }
            },
            "header": {
             "fill": {
              "color": "#C8D4E3"
             },
             "line": {
              "color": "white"
             }
            },
            "type": "table"
           }
          ]
         },
         "layout": {
          "annotationdefaults": {
           "arrowcolor": "#2a3f5f",
           "arrowhead": 0,
           "arrowwidth": 1
          },
          "autotypenumbers": "strict",
          "coloraxis": {
           "colorbar": {
            "outlinewidth": 0,
            "ticks": ""
           }
          },
          "colorscale": {
           "diverging": [
            [
             0,
             "#8e0152"
            ],
            [
             0.1,
             "#c51b7d"
            ],
            [
             0.2,
             "#de77ae"
            ],
            [
             0.3,
             "#f1b6da"
            ],
            [
             0.4,
             "#fde0ef"
            ],
            [
             0.5,
             "#f7f7f7"
            ],
            [
             0.6,
             "#e6f5d0"
            ],
            [
             0.7,
             "#b8e186"
            ],
            [
             0.8,
             "#7fbc41"
            ],
            [
             0.9,
             "#4d9221"
            ],
            [
             1,
             "#276419"
            ]
           ],
           "sequential": [
            [
             0,
             "#0d0887"
            ],
            [
             0.1111111111111111,
             "#46039f"
            ],
            [
             0.2222222222222222,
             "#7201a8"
            ],
            [
             0.3333333333333333,
             "#9c179e"
            ],
            [
             0.4444444444444444,
             "#bd3786"
            ],
            [
             0.5555555555555556,
             "#d8576b"
            ],
            [
             0.6666666666666666,
             "#ed7953"
            ],
            [
             0.7777777777777778,
             "#fb9f3a"
            ],
            [
             0.8888888888888888,
             "#fdca26"
            ],
            [
             1,
             "#f0f921"
            ]
           ],
           "sequentialminus": [
            [
             0,
             "#0d0887"
            ],
            [
             0.1111111111111111,
             "#46039f"
            ],
            [
             0.2222222222222222,
             "#7201a8"
            ],
            [
             0.3333333333333333,
             "#9c179e"
            ],
            [
             0.4444444444444444,
             "#bd3786"
            ],
            [
             0.5555555555555556,
             "#d8576b"
            ],
            [
             0.6666666666666666,
             "#ed7953"
            ],
            [
             0.7777777777777778,
             "#fb9f3a"
            ],
            [
             0.8888888888888888,
             "#fdca26"
            ],
            [
             1,
             "#f0f921"
            ]
           ]
          },
          "colorway": [
           "#636efa",
           "#EF553B",
           "#00cc96",
           "#ab63fa",
           "#FFA15A",
           "#19d3f3",
           "#FF6692",
           "#B6E880",
           "#FF97FF",
           "#FECB52"
          ],
          "font": {
           "color": "#2a3f5f"
          },
          "geo": {
           "bgcolor": "white",
           "lakecolor": "white",
           "landcolor": "#E5ECF6",
           "showlakes": true,
           "showland": true,
           "subunitcolor": "white"
          },
          "hoverlabel": {
           "align": "left"
          },
          "hovermode": "closest",
          "mapbox": {
           "style": "light"
          },
          "paper_bgcolor": "white",
          "plot_bgcolor": "#E5ECF6",
          "polar": {
           "angularaxis": {
            "gridcolor": "white",
            "linecolor": "white",
            "ticks": ""
           },
           "bgcolor": "#E5ECF6",
           "radialaxis": {
            "gridcolor": "white",
            "linecolor": "white",
            "ticks": ""
           }
          },
          "scene": {
           "xaxis": {
            "backgroundcolor": "#E5ECF6",
            "gridcolor": "white",
            "gridwidth": 2,
            "linecolor": "white",
            "showbackground": true,
            "ticks": "",
            "zerolinecolor": "white"
           },
           "yaxis": {
            "backgroundcolor": "#E5ECF6",
            "gridcolor": "white",
            "gridwidth": 2,
            "linecolor": "white",
            "showbackground": true,
            "ticks": "",
            "zerolinecolor": "white"
           },
           "zaxis": {
            "backgroundcolor": "#E5ECF6",
            "gridcolor": "white",
            "gridwidth": 2,
            "linecolor": "white",
            "showbackground": true,
            "ticks": "",
            "zerolinecolor": "white"
           }
          },
          "shapedefaults": {
           "line": {
            "color": "#2a3f5f"
           }
          },
          "ternary": {
           "aaxis": {
            "gridcolor": "white",
            "linecolor": "white",
            "ticks": ""
           },
           "baxis": {
            "gridcolor": "white",
            "linecolor": "white",
            "ticks": ""
           },
           "bgcolor": "#E5ECF6",
           "caxis": {
            "gridcolor": "white",
            "linecolor": "white",
            "ticks": ""
           }
          },
          "title": {
           "x": 0.05
          },
          "xaxis": {
           "automargin": true,
           "gridcolor": "white",
           "linecolor": "white",
           "ticks": "",
           "title": {
            "standoff": 15
           },
           "zerolinecolor": "white",
           "zerolinewidth": 2
          },
          "yaxis": {
           "automargin": true,
           "gridcolor": "white",
           "linecolor": "white",
           "ticks": "",
           "title": {
            "standoff": 15
           },
           "zerolinecolor": "white",
           "zerolinewidth": 2
          }
         }
        },
        "title": {
         "text": "Medal distribution for boxing"
        },
        "xaxis": {
         "anchor": "y",
         "domain": [
          0,
          1
         ],
         "title": {
          "text": "Team"
         }
        },
        "yaxis": {
         "anchor": "x",
         "domain": [
          0,
          1
         ],
         "title": {
          "text": "Count"
         },
         "type": "log"
        }
       }
      }
     },
     "metadata": {},
     "output_type": "display_data"
    }
   ],
   "source": [
    "# plot the data change the color of medel to gold, silver, bronze.\n",
    "fig = px.bar(\n",
    "    df_boxing_medal,\n",
    "    x=\"Team\",\n",
    "    y=\"Count\",\n",
    "    log_y=True,\n",
    "    color=\"Medal\",\n",
    "    # barmode=\"group\",\n",
    "    category_orders={\"Medal\": [\"Gold\", \"Silver\", \"Bronze\"]},\n",
    "    color_discrete_sequence=[\"gold\", \"silver\", \"brown\"],\n",
    "    title=\"Medal distribution for boxing\",\n",
    ")\n",
    "fig.show()\n",
    "# not all countries are shown on the x-axis"
   ]
  },
  {
   "cell_type": "code",
   "execution_count": 717,
   "metadata": {},
   "outputs": [
    {
     "data": {
      "application/vnd.plotly.v1+json": {
       "config": {
        "plotlyServerURL": "https://plot.ly"
       },
       "data": [
        {
         "alignmentgroup": "True",
         "bingroup": "x",
         "hovertemplate": "Medal=Gold<br>Team=%{x}<br>count=%{y}<extra></extra>",
         "legendgroup": "Gold",
         "marker": {
          "color": "#636efa",
          "pattern": {
           "shape": ""
          }
         },
         "name": "Gold",
         "offsetgroup": "Gold",
         "orientation": "v",
         "showlegend": true,
         "type": "histogram",
         "x": [
          "Uzbekistan",
          "Great Britain",
          "Great Britain",
          "United States",
          "Cuba",
          "Kazakhstan",
          "France",
          "Italy",
          "Argentina",
          "East Germany",
          "Cuba",
          "United States",
          "Cuba",
          "Germany",
          "Italy",
          "United States",
          "United States",
          "Italy",
          "Thailand",
          "United States",
          "Bulgaria",
          "United States",
          "United States",
          "Italy",
          "Great Britain",
          "Ireland",
          "South Africa",
          "Cuba",
          "Argentina",
          "Russia",
          "North Korea",
          "Poland",
          "United States",
          "Brazil",
          "Cuba",
          "United States",
          "Hungary",
          "United States",
          "United States",
          "Italy",
          "Great Britain",
          "Belgium",
          "Mexico",
          "France",
          "Dominican Republic",
          "Great Britain",
          "South Africa",
          "Uzbekistan",
          "United States",
          "Hungary",
          "Soviet Union",
          "Mongolia",
          "United States",
          "East Germany",
          "Great Britain",
          "United States",
          "United States",
          "United States",
          "Italy",
          "United States",
          "France",
          "Cuba",
          "Uzbekistan",
          "Russia",
          "Hungary",
          "United States",
          "Cuba",
          "United States",
          "Great Britain",
          "Soviet Union",
          "Poland",
          "North Korea",
          "Great Britain",
          "Cuba",
          "Canada",
          "Finland",
          "Hungary",
          "United States",
          "Great Britain",
          "Cuba",
          "Cuba",
          "Cuba",
          "Cuba",
          "Cuba",
          "Cuba",
          "South Africa",
          "Kazakhstan",
          "Argentina",
          "Cuba",
          "Thailand",
          "Great Britain",
          "Yugoslavia",
          "Yugoslavia",
          "Germany",
          "Thailand",
          "Poland",
          "South Korea",
          "Cuba",
          "Cuba",
          "United States",
          "United States",
          "Ukraine",
          "Hungary",
          "Bulgaria",
          "West Germany",
          "Hungary",
          "Poland",
          "Poland",
          "Soviet Union",
          "Cuba",
          "United States",
          "Soviet Union",
          "Soviet Union",
          "Russia",
          "United States",
          "Soviet Union",
          "Cuba",
          "United States",
          "Bulgaria",
          "Canada",
          "Romania",
          "Ukraine",
          "Ukraine",
          "Cuba",
          "Argentina",
          "Great Britain",
          "Great Britain",
          "Cuba",
          "Cuba",
          "Cuba",
          "East Germany",
          "Germany",
          "United States",
          "United States",
          "United States",
          "United States",
          "United States",
          "Great Britain",
          "Russia",
          "United States",
          "France",
          "Great Britain",
          "New Zealand",
          "United States",
          "France",
          "Japan",
          "Italy",
          "Bulgaria",
          "Czechoslovakia",
          "Denmark",
          "Great Britain",
          "Italy",
          "Italy",
          "United States",
          "Hungary",
          "Hungary",
          "Hungary",
          "Italy",
          "South Korea",
          "Yugoslavia",
          "United States",
          "Poland",
          "Argentina",
          "Italy",
          "Thailand",
          "Soviet Union",
          "Russia",
          "Soviet Union",
          "United States",
          "Cuba",
          "Cuba",
          "United States",
          "Great Britain",
          "United States",
          "Cuba",
          "Cuba",
          "Argentina",
          "Argentina",
          "Venezuela",
          "Mexico",
          "Cuba",
          "Germany",
          "Poland",
          "Soviet Union",
          "Soviet Union",
          "Russia",
          "Russia",
          "Japan",
          "United States",
          "Kazakhstan",
          "Kazakhstan",
          "Kazakhstan",
          "Cuba",
          "Cuba",
          "Cuba",
          "Canada",
          "United States",
          "Italy",
          "Soviet Union",
          "United States",
          "United States",
          "South Korea",
          "South Africa",
          "Soviet Union",
          "Cuba",
          "Algeria",
          "United States",
          "United States",
          "United States",
          "Great Britain",
          "Italy",
          "Soviet Union",
          "South Africa",
          "Cuba",
          "Cuba",
          "Cuba",
          "Finland",
          "Poland",
          "Italy",
          "United States",
          "Ireland",
          "United States",
          "Germany",
          "Great Britain",
          "United States",
          "Russia",
          "Russia",
          "Russia",
          "Czechoslovakia",
          "Hungary",
          "Italy",
          "Ukraine",
          "Netherlands",
          "Cuba",
          "Cuba",
          "Norway",
          "South Africa",
          "Kenya",
          "United States",
          "United States",
          "East Germany",
          "Soviet Union",
          "Kazakhstan",
          "France",
          "United States",
          "Czechoslovakia",
          "China",
          "Kazakhstan",
          "Uzbekistan",
          "China",
          "China",
          "East Germany"
         ],
         "xaxis": "x",
         "yaxis": "y"
        },
        {
         "alignmentgroup": "True",
         "bingroup": "x",
         "hovertemplate": "Medal=Bronze<br>Team=%{x}<br>count=%{y}<extra></extra>",
         "legendgroup": "Bronze",
         "marker": {
          "color": "#EF553B",
          "pattern": {
           "shape": ""
          }
         },
         "name": "Bronze",
         "offsetgroup": "Bronze",
         "orientation": "v",
         "showlegend": true,
         "type": "histogram",
         "x": [
          "Puerto Rico",
          "Morocco",
          "Morocco",
          "Cuba",
          "Poland",
          "Sweden",
          "Cuba",
          "Finland",
          "Uzbekistan",
          "Syria",
          "Algeria",
          "Russia",
          "Cuba",
          "Cuba",
          "Ghana",
          "Guyana",
          "Poland",
          "Brazil",
          "Cuba",
          "South Africa",
          "Azerbaijan",
          "Uzbekistan",
          "United States",
          "Turkey",
          "Russia",
          "Algeria",
          "Russia",
          "United States",
          "Italy",
          "Ireland",
          "Ireland",
          "Chile",
          "Poland",
          "East Germany",
          "France",
          "Belgium",
          "Mexico",
          "South Africa",
          "Russia",
          "Poland",
          "Hungary",
          "Sweden",
          "Italy",
          "Kenya",
          "Ghana",
          "Poland",
          "Poland",
          "Venezuela",
          "United States",
          "Hungary",
          "United States",
          "Italy",
          "United States",
          "Italy",
          "Great Britain",
          "Soviet Union",
          "Ireland",
          "Ireland",
          "Italy",
          "Turkey",
          "Sweden",
          "United States",
          "United States",
          "Venezuela",
          "United States",
          "Italy",
          "France",
          "Georgia",
          "Argentina",
          "France",
          "Thailand",
          "Tajikistan",
          "Argentina",
          "Romania",
          "France",
          "Ireland",
          "Great Britain",
          "Great Britain",
          "Romania",
          "Niger",
          "Romania",
          "United States",
          "Ukraine",
          "Brazil",
          "United States",
          "United States",
          "Italy",
          "Nigeria",
          "Mongolia",
          "Romania",
          "Romania",
          "Canada",
          "Poland",
          "Poland",
          "Romania",
          "Russia",
          "Kazakhstan",
          "Kazakhstan",
          "Poland",
          "Russia",
          "United Arab Republic",
          "Egypt",
          "United States",
          "France",
          "Hungary",
          "United States",
          "Great Britain",
          "Mexico",
          "Brazil",
          "East Germany",
          "United States",
          "Ukraine",
          "United States",
          "Soviet Union",
          "Romania",
          "Venezuela",
          "Great Britain",
          "Italy",
          "Czechoslovakia",
          "Great Britain",
          "Romania",
          "Tunisia",
          "South Korea",
          "Cuba",
          "Soviet Union",
          "Great Britain",
          "Italy",
          "Bulgaria",
          "Romania",
          "West Germany",
          "United States",
          "Ireland",
          "Moldova",
          "Puerto Rico",
          "Mexico",
          "Poland",
          "Poland",
          "United States",
          "Poland",
          "Moldova",
          "Poland",
          "Argentina",
          "Finland",
          "South Korea",
          "China",
          "United States",
          "Germany",
          "Germany",
          "United States",
          "Cuba",
          "Argentina",
          "Canada",
          "Bermuda",
          "Ukraine",
          "Australia",
          "United States",
          "South Korea",
          "Croatia",
          "China",
          "Pakistan",
          "West Germany",
          "Ukraine",
          "Kazakhstan",
          "Cuba",
          "Nigeria",
          "Azerbaijan",
          "South Africa",
          "Hungary",
          "Egypt",
          "South Korea",
          "Armenia",
          "Great Britain",
          "South Korea",
          "South Korea",
          "Canada",
          "Great Britain",
          "United States",
          "United States",
          "United States",
          "Denmark",
          "Denmark",
          "Mauritius",
          "Colombia",
          "Poland",
          "East Germany",
          "Russia",
          "Thailand",
          "Uzbekistan",
          "Russia",
          "Turkey",
          "South Korea",
          "South Korea",
          "North Korea",
          "Ukraine",
          "Finland",
          "Germany",
          "United States",
          "Bulgaria",
          "India",
          "Poland",
          "Poland",
          "Finland",
          "Hungary",
          "Germany",
          "East Germany",
          "Soviet Union",
          "Soviet Union",
          "Argentina",
          "United States",
          "South Korea",
          "South Korea",
          "South Africa",
          "Hungary",
          "Canada",
          "North Korea",
          "North Korea",
          "China",
          "China",
          "France",
          "Finland",
          "Azerbaijan",
          "Great Britain",
          "Cuba",
          "South Africa",
          "Spain",
          "Chile",
          "Cuba",
          "Germany",
          "United States",
          "Russia",
          "Australia",
          "Nigeria",
          "Russia",
          "Puerto Rico",
          "Russia",
          "Finland",
          "Italy",
          "United States",
          "Cuba",
          "United States",
          "Kenya",
          "Great Britain",
          "Ireland",
          "Great Britain",
          "Great Britain",
          "Azerbaijan",
          "West Germany",
          "South Africa",
          "United States",
          "Denmark",
          "Bulgaria",
          "Uzbekistan",
          "Netherlands",
          "Germany",
          "Great Britain",
          "Soviet Union",
          "Tunisia",
          "Hungary",
          "Azerbaijan",
          "Azerbaijan",
          "Romania",
          "Thailand",
          "Japan",
          "Algeria",
          "Soviet Union",
          "Kenya",
          "Soviet Union",
          "Italy",
          "Bulgaria",
          "Zambia",
          "Sweden",
          "Mongolia",
          "Romania",
          "Cameroon",
          "Czechoslovakia",
          "Mongolia",
          "Canada",
          "Poland",
          "Denmark",
          "South Africa",
          "Russia",
          "Bulgaria",
          "Bulgaria",
          "Norway",
          "Finland",
          "Kazakhstan",
          "Dominican Republic",
          "East Germany",
          "Finland",
          "Great Britain",
          "Mexico",
          "Russia",
          "Finland",
          "Unified Team",
          "Mexico",
          "Great Britain",
          "Denmark",
          "South Africa",
          "Colombia",
          "Soviet Union",
          "Lithuania",
          "Poland",
          "Great Britain",
          "Italy",
          "Poland",
          "Poland",
          "Thailand",
          "Argentina",
          "Finland",
          "Thailand",
          "Great Britain",
          "Bulgaria",
          "Finland",
          "Yugoslavia",
          "Argentina",
          "Germany",
          "Morocco",
          "Germany",
          "Great Britain",
          "China",
          "Argentina",
          "Mexico",
          "Great Britain",
          "Cuba",
          "Spain",
          "Mexico",
          "Uruguay",
          "Colombia",
          "Cuba",
          "Cuba",
          "Italy",
          "Yugoslavia",
          "Bulgaria",
          "Ireland",
          "Uganda",
          "Soviet Union",
          "Soviet Union",
          "Poland",
          "Azerbaijan",
          "Uzbekistan",
          "Russia",
          "United States",
          "Yugoslavia",
          "Kenya",
          "Puerto Rico",
          "Italy",
          "Soviet Union",
          "Cuba",
          "Germany",
          "Soviet Union",
          "Philippines",
          "Kazakhstan",
          "Ukraine",
          "Japan",
          "Kazakhstan",
          "Germany",
          "Romania",
          "Finland",
          "Romania",
          "Romania",
          "India",
          "Sweden",
          "Yugoslavia",
          "West Germany",
          "Poland",
          "Canada",
          "Soviet Union",
          "Algeria",
          "Soviet Union",
          "Norway",
          "Bulgaria",
          "Belgium",
          "United States",
          "Uzbekistan",
          "Ireland",
          "Ukraine",
          "Poland",
          "Poland",
          "Germany",
          "Morocco",
          "Japan",
          "United States",
          "United States",
          "United States",
          "Australia",
          "France",
          "Sweden",
          "Thailand",
          "East Germany",
          "France",
          "Soviet Union",
          "Cuba",
          "Soviet Union",
          "South Africa",
          "New Zealand",
          "Uzbekistan",
          "Uzbekistan",
          "Great Britain",
          "Cuba",
          "Germany",
          "Mongolia",
          "Denmark",
          "United States",
          "Colombia",
          "Italy",
          "Netherlands",
          "Netherlands",
          "Netherlands",
          "Hungary",
          "France",
          "Philippines",
          "Puerto Rico",
          "France",
          "Italy",
          "Philippines",
          "Argentina",
          "United States",
          "Italy",
          "Kazakhstan",
          "Yugoslavia",
          "Yugoslavia",
          "Poland",
          "United States",
          "Canada",
          "Kenya",
          "Great Britain",
          "Great Britain",
          "United States",
          "United States",
          "Great Britain",
          "Great Britain",
          "Kazakhstan",
          "Soviet Union",
          "Argentina",
          "Russia",
          "Algeria",
          "Mexico",
          "Poland",
          "West Germany",
          "Romania",
          "China"
         ],
         "xaxis": "x",
         "yaxis": "y"
        },
        {
         "alignmentgroup": "True",
         "bingroup": "x",
         "hovertemplate": "Medal=Silver<br>Team=%{x}<br>count=%{y}<extra></extra>",
         "legendgroup": "Silver",
         "marker": {
          "color": "#00cc96",
          "pattern": {
           "shape": ""
          }
         },
         "name": "Silver",
         "offsetgroup": "Silver",
         "orientation": "v",
         "showlegend": true,
         "type": "histogram",
         "x": [
          "Poland",
          "Sweden",
          "Cuba",
          "Romania",
          "Egypt",
          "South Korea",
          "Bulgaria",
          "Poland",
          "France",
          "Cuba",
          "Belarus",
          "Argentina",
          "South Korea",
          "Australasia",
          "Italy",
          "Cuba",
          "Soviet Union",
          "New Zealand",
          "Germany",
          "South Africa",
          "Ukraine",
          "Cameroon",
          "Turkey",
          "Thailand",
          "Italy",
          "France",
          "United States",
          "Bulgaria",
          "United States",
          "United States",
          "Mexico",
          "Italy",
          "Germany",
          "Italy",
          "United States",
          "Cuba",
          "South Africa",
          "Soviet Union",
          "Australia",
          "Great Britain",
          "Argentina",
          "Cuba",
          "Sweden",
          "Romania",
          "United States",
          "Italy",
          "Canada",
          "Netherlands",
          "Soviet Union",
          "Canada",
          "Kazakhstan",
          "France",
          "Romania",
          "Ukraine",
          "Romania",
          "Cuba",
          "Cuba",
          "Ireland",
          "Great Britain",
          "Great Britain",
          "Great Britain",
          "United States",
          "Brazil",
          "Netherlands",
          "Soviet Union",
          "France",
          "Venezuela",
          "Cuba",
          "Russia",
          "Uzbekistan",
          "Kazakhstan",
          "France",
          "Cuba",
          "Canada",
          "Poland",
          "United States",
          "United States",
          "South Korea",
          "Czechoslovakia",
          "Cuba",
          "Cuba",
          "United States",
          "United States",
          "Cuba",
          "Germany",
          "Russia",
          "Nigeria",
          "Great Britain",
          "Nigeria",
          "South Korea",
          "South Korea",
          "Denmark",
          "Sweden",
          "Cuba",
          "United States",
          "Great Britain",
          "United States",
          "Yugoslavia",
          "Hungary",
          "Great Britain",
          "Bulgaria",
          "North Korea",
          "North Korea",
          "Soviet Union",
          "Soviet Union",
          "Soviet Union",
          "Nigeria",
          "Soviet Union",
          "Ukraine",
          "Czech Republic",
          "Germany",
          "Cuba",
          "Argentina",
          "Canada",
          "South Korea",
          "Cuba",
          "Kazakhstan",
          "North Korea",
          "Mexico",
          "Italy",
          "Argentina",
          "Spain",
          "Russia",
          "Canada",
          "Colombia",
          "Italy",
          "United States",
          "Ireland",
          "Great Britain",
          "Ireland",
          "Soviet Union",
          "Uzbekistan",
          "Argentina",
          "Cuba",
          "Soviet Union",
          "Romania",
          "United States",
          "Great Britain",
          "Uganda",
          "Soviet Union",
          "Uganda",
          "Germany",
          "Romania",
          "Italy",
          "Ireland",
          "Great Britain",
          "Sweden",
          "Kazakhstan",
          "Kazakhstan",
          "East Germany",
          "Mongolia",
          "Russia",
          "Poland",
          "Poland",
          "Hungary",
          "Puerto Rico",
          "Canada",
          "France",
          "France",
          "Argentina",
          "Denmark",
          "Argentina",
          "Thailand",
          "Denmark",
          "Denmark",
          "Denmark",
          "Poland",
          "Venezuela",
          "Germany",
          "Thailand",
          "Canada",
          "Mongolia",
          "Ghana",
          "Soviet Union",
          "Sweden",
          "Cuba",
          "Yugoslavia",
          "Cuba",
          "China",
          "Spain",
          "Soviet Union",
          "United States",
          "Italy",
          "Italy",
          "Poland",
          "Germany",
          "Italy",
          "Italy",
          "Uganda",
          "United States",
          "Soviet Union",
          "Germany",
          "Germany",
          "Great Britain",
          "Soviet Union",
          "Soviet Union",
          "South Africa",
          "Romania",
          "Romania",
          "Soviet Union",
          "Poland",
          "South Korea",
          "Cuba",
          "Azerbaijan",
          "France",
          "Norway",
          "United States",
          "Great Britain",
          "United States",
          "Estonia",
          "United States",
          "Soviet Union",
          "Chile",
          "East Germany",
          "France",
          "Ireland",
          "Norway",
          "Romania",
          "Italy",
          "Bulgaria",
          "Bulgaria",
          "Russia",
          "United States",
          "United States",
          "Thailand",
          "Germany",
          "United States",
          "South Africa",
          "Philippines",
          "Philippines",
          "Finland",
          "Belgium",
          "Germany",
          "Poland",
          "Kenya",
          "United States",
          "United States",
          "Tonga",
          "Great Britain",
          "Turkey",
          "China",
          "Mexico",
          "Italy",
          "Unified Team",
          "Soviet Union",
          "China",
          "Kazakhstan",
          "Kazakhstan",
          "Germany",
          "Italy",
          "Belarus"
         ],
         "xaxis": "x",
         "yaxis": "y"
        }
       ],
       "layout": {
        "barmode": "group",
        "legend": {
         "title": {
          "text": "Medal"
         },
         "tracegroupgap": 0
        },
        "template": {
         "data": {
          "bar": [
           {
            "error_x": {
             "color": "#2a3f5f"
            },
            "error_y": {
             "color": "#2a3f5f"
            },
            "marker": {
             "line": {
              "color": "#E5ECF6",
              "width": 0.5
             },
             "pattern": {
              "fillmode": "overlay",
              "size": 10,
              "solidity": 0.2
             }
            },
            "type": "bar"
           }
          ],
          "barpolar": [
           {
            "marker": {
             "line": {
              "color": "#E5ECF6",
              "width": 0.5
             },
             "pattern": {
              "fillmode": "overlay",
              "size": 10,
              "solidity": 0.2
             }
            },
            "type": "barpolar"
           }
          ],
          "carpet": [
           {
            "aaxis": {
             "endlinecolor": "#2a3f5f",
             "gridcolor": "white",
             "linecolor": "white",
             "minorgridcolor": "white",
             "startlinecolor": "#2a3f5f"
            },
            "baxis": {
             "endlinecolor": "#2a3f5f",
             "gridcolor": "white",
             "linecolor": "white",
             "minorgridcolor": "white",
             "startlinecolor": "#2a3f5f"
            },
            "type": "carpet"
           }
          ],
          "choropleth": [
           {
            "colorbar": {
             "outlinewidth": 0,
             "ticks": ""
            },
            "type": "choropleth"
           }
          ],
          "contour": [
           {
            "colorbar": {
             "outlinewidth": 0,
             "ticks": ""
            },
            "colorscale": [
             [
              0,
              "#0d0887"
             ],
             [
              0.1111111111111111,
              "#46039f"
             ],
             [
              0.2222222222222222,
              "#7201a8"
             ],
             [
              0.3333333333333333,
              "#9c179e"
             ],
             [
              0.4444444444444444,
              "#bd3786"
             ],
             [
              0.5555555555555556,
              "#d8576b"
             ],
             [
              0.6666666666666666,
              "#ed7953"
             ],
             [
              0.7777777777777778,
              "#fb9f3a"
             ],
             [
              0.8888888888888888,
              "#fdca26"
             ],
             [
              1,
              "#f0f921"
             ]
            ],
            "type": "contour"
           }
          ],
          "contourcarpet": [
           {
            "colorbar": {
             "outlinewidth": 0,
             "ticks": ""
            },
            "type": "contourcarpet"
           }
          ],
          "heatmap": [
           {
            "colorbar": {
             "outlinewidth": 0,
             "ticks": ""
            },
            "colorscale": [
             [
              0,
              "#0d0887"
             ],
             [
              0.1111111111111111,
              "#46039f"
             ],
             [
              0.2222222222222222,
              "#7201a8"
             ],
             [
              0.3333333333333333,
              "#9c179e"
             ],
             [
              0.4444444444444444,
              "#bd3786"
             ],
             [
              0.5555555555555556,
              "#d8576b"
             ],
             [
              0.6666666666666666,
              "#ed7953"
             ],
             [
              0.7777777777777778,
              "#fb9f3a"
             ],
             [
              0.8888888888888888,
              "#fdca26"
             ],
             [
              1,
              "#f0f921"
             ]
            ],
            "type": "heatmap"
           }
          ],
          "heatmapgl": [
           {
            "colorbar": {
             "outlinewidth": 0,
             "ticks": ""
            },
            "colorscale": [
             [
              0,
              "#0d0887"
             ],
             [
              0.1111111111111111,
              "#46039f"
             ],
             [
              0.2222222222222222,
              "#7201a8"
             ],
             [
              0.3333333333333333,
              "#9c179e"
             ],
             [
              0.4444444444444444,
              "#bd3786"
             ],
             [
              0.5555555555555556,
              "#d8576b"
             ],
             [
              0.6666666666666666,
              "#ed7953"
             ],
             [
              0.7777777777777778,
              "#fb9f3a"
             ],
             [
              0.8888888888888888,
              "#fdca26"
             ],
             [
              1,
              "#f0f921"
             ]
            ],
            "type": "heatmapgl"
           }
          ],
          "histogram": [
           {
            "marker": {
             "pattern": {
              "fillmode": "overlay",
              "size": 10,
              "solidity": 0.2
             }
            },
            "type": "histogram"
           }
          ],
          "histogram2d": [
           {
            "colorbar": {
             "outlinewidth": 0,
             "ticks": ""
            },
            "colorscale": [
             [
              0,
              "#0d0887"
             ],
             [
              0.1111111111111111,
              "#46039f"
             ],
             [
              0.2222222222222222,
              "#7201a8"
             ],
             [
              0.3333333333333333,
              "#9c179e"
             ],
             [
              0.4444444444444444,
              "#bd3786"
             ],
             [
              0.5555555555555556,
              "#d8576b"
             ],
             [
              0.6666666666666666,
              "#ed7953"
             ],
             [
              0.7777777777777778,
              "#fb9f3a"
             ],
             [
              0.8888888888888888,
              "#fdca26"
             ],
             [
              1,
              "#f0f921"
             ]
            ],
            "type": "histogram2d"
           }
          ],
          "histogram2dcontour": [
           {
            "colorbar": {
             "outlinewidth": 0,
             "ticks": ""
            },
            "colorscale": [
             [
              0,
              "#0d0887"
             ],
             [
              0.1111111111111111,
              "#46039f"
             ],
             [
              0.2222222222222222,
              "#7201a8"
             ],
             [
              0.3333333333333333,
              "#9c179e"
             ],
             [
              0.4444444444444444,
              "#bd3786"
             ],
             [
              0.5555555555555556,
              "#d8576b"
             ],
             [
              0.6666666666666666,
              "#ed7953"
             ],
             [
              0.7777777777777778,
              "#fb9f3a"
             ],
             [
              0.8888888888888888,
              "#fdca26"
             ],
             [
              1,
              "#f0f921"
             ]
            ],
            "type": "histogram2dcontour"
           }
          ],
          "mesh3d": [
           {
            "colorbar": {
             "outlinewidth": 0,
             "ticks": ""
            },
            "type": "mesh3d"
           }
          ],
          "parcoords": [
           {
            "line": {
             "colorbar": {
              "outlinewidth": 0,
              "ticks": ""
             }
            },
            "type": "parcoords"
           }
          ],
          "pie": [
           {
            "automargin": true,
            "type": "pie"
           }
          ],
          "scatter": [
           {
            "fillpattern": {
             "fillmode": "overlay",
             "size": 10,
             "solidity": 0.2
            },
            "type": "scatter"
           }
          ],
          "scatter3d": [
           {
            "line": {
             "colorbar": {
              "outlinewidth": 0,
              "ticks": ""
             }
            },
            "marker": {
             "colorbar": {
              "outlinewidth": 0,
              "ticks": ""
             }
            },
            "type": "scatter3d"
           }
          ],
          "scattercarpet": [
           {
            "marker": {
             "colorbar": {
              "outlinewidth": 0,
              "ticks": ""
             }
            },
            "type": "scattercarpet"
           }
          ],
          "scattergeo": [
           {
            "marker": {
             "colorbar": {
              "outlinewidth": 0,
              "ticks": ""
             }
            },
            "type": "scattergeo"
           }
          ],
          "scattergl": [
           {
            "marker": {
             "colorbar": {
              "outlinewidth": 0,
              "ticks": ""
             }
            },
            "type": "scattergl"
           }
          ],
          "scattermapbox": [
           {
            "marker": {
             "colorbar": {
              "outlinewidth": 0,
              "ticks": ""
             }
            },
            "type": "scattermapbox"
           }
          ],
          "scatterpolar": [
           {
            "marker": {
             "colorbar": {
              "outlinewidth": 0,
              "ticks": ""
             }
            },
            "type": "scatterpolar"
           }
          ],
          "scatterpolargl": [
           {
            "marker": {
             "colorbar": {
              "outlinewidth": 0,
              "ticks": ""
             }
            },
            "type": "scatterpolargl"
           }
          ],
          "scatterternary": [
           {
            "marker": {
             "colorbar": {
              "outlinewidth": 0,
              "ticks": ""
             }
            },
            "type": "scatterternary"
           }
          ],
          "surface": [
           {
            "colorbar": {
             "outlinewidth": 0,
             "ticks": ""
            },
            "colorscale": [
             [
              0,
              "#0d0887"
             ],
             [
              0.1111111111111111,
              "#46039f"
             ],
             [
              0.2222222222222222,
              "#7201a8"
             ],
             [
              0.3333333333333333,
              "#9c179e"
             ],
             [
              0.4444444444444444,
              "#bd3786"
             ],
             [
              0.5555555555555556,
              "#d8576b"
             ],
             [
              0.6666666666666666,
              "#ed7953"
             ],
             [
              0.7777777777777778,
              "#fb9f3a"
             ],
             [
              0.8888888888888888,
              "#fdca26"
             ],
             [
              1,
              "#f0f921"
             ]
            ],
            "type": "surface"
           }
          ],
          "table": [
           {
            "cells": {
             "fill": {
              "color": "#EBF0F8"
             },
             "line": {
              "color": "white"
             }
            },
            "header": {
             "fill": {
              "color": "#C8D4E3"
             },
             "line": {
              "color": "white"
             }
            },
            "type": "table"
           }
          ]
         },
         "layout": {
          "annotationdefaults": {
           "arrowcolor": "#2a3f5f",
           "arrowhead": 0,
           "arrowwidth": 1
          },
          "autotypenumbers": "strict",
          "coloraxis": {
           "colorbar": {
            "outlinewidth": 0,
            "ticks": ""
           }
          },
          "colorscale": {
           "diverging": [
            [
             0,
             "#8e0152"
            ],
            [
             0.1,
             "#c51b7d"
            ],
            [
             0.2,
             "#de77ae"
            ],
            [
             0.3,
             "#f1b6da"
            ],
            [
             0.4,
             "#fde0ef"
            ],
            [
             0.5,
             "#f7f7f7"
            ],
            [
             0.6,
             "#e6f5d0"
            ],
            [
             0.7,
             "#b8e186"
            ],
            [
             0.8,
             "#7fbc41"
            ],
            [
             0.9,
             "#4d9221"
            ],
            [
             1,
             "#276419"
            ]
           ],
           "sequential": [
            [
             0,
             "#0d0887"
            ],
            [
             0.1111111111111111,
             "#46039f"
            ],
            [
             0.2222222222222222,
             "#7201a8"
            ],
            [
             0.3333333333333333,
             "#9c179e"
            ],
            [
             0.4444444444444444,
             "#bd3786"
            ],
            [
             0.5555555555555556,
             "#d8576b"
            ],
            [
             0.6666666666666666,
             "#ed7953"
            ],
            [
             0.7777777777777778,
             "#fb9f3a"
            ],
            [
             0.8888888888888888,
             "#fdca26"
            ],
            [
             1,
             "#f0f921"
            ]
           ],
           "sequentialminus": [
            [
             0,
             "#0d0887"
            ],
            [
             0.1111111111111111,
             "#46039f"
            ],
            [
             0.2222222222222222,
             "#7201a8"
            ],
            [
             0.3333333333333333,
             "#9c179e"
            ],
            [
             0.4444444444444444,
             "#bd3786"
            ],
            [
             0.5555555555555556,
             "#d8576b"
            ],
            [
             0.6666666666666666,
             "#ed7953"
            ],
            [
             0.7777777777777778,
             "#fb9f3a"
            ],
            [
             0.8888888888888888,
             "#fdca26"
            ],
            [
             1,
             "#f0f921"
            ]
           ]
          },
          "colorway": [
           "#636efa",
           "#EF553B",
           "#00cc96",
           "#ab63fa",
           "#FFA15A",
           "#19d3f3",
           "#FF6692",
           "#B6E880",
           "#FF97FF",
           "#FECB52"
          ],
          "font": {
           "color": "#2a3f5f"
          },
          "geo": {
           "bgcolor": "white",
           "lakecolor": "white",
           "landcolor": "#E5ECF6",
           "showlakes": true,
           "showland": true,
           "subunitcolor": "white"
          },
          "hoverlabel": {
           "align": "left"
          },
          "hovermode": "closest",
          "mapbox": {
           "style": "light"
          },
          "paper_bgcolor": "white",
          "plot_bgcolor": "#E5ECF6",
          "polar": {
           "angularaxis": {
            "gridcolor": "white",
            "linecolor": "white",
            "ticks": ""
           },
           "bgcolor": "#E5ECF6",
           "radialaxis": {
            "gridcolor": "white",
            "linecolor": "white",
            "ticks": ""
           }
          },
          "scene": {
           "xaxis": {
            "backgroundcolor": "#E5ECF6",
            "gridcolor": "white",
            "gridwidth": 2,
            "linecolor": "white",
            "showbackground": true,
            "ticks": "",
            "zerolinecolor": "white"
           },
           "yaxis": {
            "backgroundcolor": "#E5ECF6",
            "gridcolor": "white",
            "gridwidth": 2,
            "linecolor": "white",
            "showbackground": true,
            "ticks": "",
            "zerolinecolor": "white"
           },
           "zaxis": {
            "backgroundcolor": "#E5ECF6",
            "gridcolor": "white",
            "gridwidth": 2,
            "linecolor": "white",
            "showbackground": true,
            "ticks": "",
            "zerolinecolor": "white"
           }
          },
          "shapedefaults": {
           "line": {
            "color": "#2a3f5f"
           }
          },
          "ternary": {
           "aaxis": {
            "gridcolor": "white",
            "linecolor": "white",
            "ticks": ""
           },
           "baxis": {
            "gridcolor": "white",
            "linecolor": "white",
            "ticks": ""
           },
           "bgcolor": "#E5ECF6",
           "caxis": {
            "gridcolor": "white",
            "linecolor": "white",
            "ticks": ""
           }
          },
          "title": {
           "x": 0.05
          },
          "xaxis": {
           "automargin": true,
           "gridcolor": "white",
           "linecolor": "white",
           "ticks": "",
           "title": {
            "standoff": 15
           },
           "zerolinecolor": "white",
           "zerolinewidth": 2
          },
          "yaxis": {
           "automargin": true,
           "gridcolor": "white",
           "linecolor": "white",
           "ticks": "",
           "title": {
            "standoff": 15
           },
           "zerolinecolor": "white",
           "zerolinewidth": 2
          }
         }
        },
        "title": {
         "text": "Medals won by each country in boxing"
        },
        "xaxis": {
         "anchor": "y",
         "domain": [
          0,
          1
         ],
         "title": {
          "text": "Team"
         }
        },
        "yaxis": {
         "anchor": "x",
         "domain": [
          0,
          1
         ],
         "title": {
          "text": "count"
         },
         "type": "log"
        }
       }
      }
     },
     "metadata": {},
     "output_type": "display_data"
    }
   ],
   "source": [
    "# plot all medals won by each country\n",
    "fig = px.histogram(\n",
    "    df_boxing,\n",
    "    x=\"Team\",\n",
    "    log_y=True,\n",
    "    barmode=\"group\",\n",
    "    color=\"Medal\",\n",
    "    title=\"Medals won by each country in boxing\",\n",
    ")\n",
    "fig.show()\n",
    "\n",
    "# as we notice that including all the countries in the plot makes it hard to read"
   ]
  },
  {
   "cell_type": "code",
   "execution_count": 718,
   "metadata": {},
   "outputs": [
    {
     "data": {
      "text/html": [
       "<div>\n",
       "<style scoped>\n",
       "    .dataframe tbody tr th:only-of-type {\n",
       "        vertical-align: middle;\n",
       "    }\n",
       "\n",
       "    .dataframe tbody tr th {\n",
       "        vertical-align: top;\n",
       "    }\n",
       "\n",
       "    .dataframe thead th {\n",
       "        text-align: right;\n",
       "    }\n",
       "</style>\n",
       "<table border=\"1\" class=\"dataframe\">\n",
       "  <thead>\n",
       "    <tr style=\"text-align: right;\">\n",
       "      <th></th>\n",
       "      <th>Age</th>\n",
       "      <th>Team</th>\n",
       "      <th>Medal</th>\n",
       "    </tr>\n",
       "  </thead>\n",
       "  <tbody>\n",
       "    <tr>\n",
       "      <th>69</th>\n",
       "      <td>26</td>\n",
       "      <td>Uzbekistan</td>\n",
       "      <td>Gold</td>\n",
       "    </tr>\n",
       "    <tr>\n",
       "      <th>174</th>\n",
       "      <td>29</td>\n",
       "      <td>Great Britain</td>\n",
       "      <td>Gold</td>\n",
       "    </tr>\n",
       "    <tr>\n",
       "      <th>175</th>\n",
       "      <td>33</td>\n",
       "      <td>Great Britain</td>\n",
       "      <td>Gold</td>\n",
       "    </tr>\n",
       "    <tr>\n",
       "      <th>201</th>\n",
       "      <td>20</td>\n",
       "      <td>United States</td>\n",
       "      <td>Gold</td>\n",
       "    </tr>\n",
       "    <tr>\n",
       "      <th>486</th>\n",
       "      <td>24</td>\n",
       "      <td>Cuba</td>\n",
       "      <td>Gold</td>\n",
       "    </tr>\n",
       "    <tr>\n",
       "      <th>...</th>\n",
       "      <td>...</td>\n",
       "      <td>...</td>\n",
       "      <td>...</td>\n",
       "    </tr>\n",
       "    <tr>\n",
       "      <th>22698</th>\n",
       "      <td>22</td>\n",
       "      <td>Kazakhstan</td>\n",
       "      <td>Gold</td>\n",
       "    </tr>\n",
       "    <tr>\n",
       "      <th>22777</th>\n",
       "      <td>23</td>\n",
       "      <td>Uzbekistan</td>\n",
       "      <td>Gold</td>\n",
       "    </tr>\n",
       "    <tr>\n",
       "      <th>22788</th>\n",
       "      <td>27</td>\n",
       "      <td>China</td>\n",
       "      <td>Gold</td>\n",
       "    </tr>\n",
       "    <tr>\n",
       "      <th>22789</th>\n",
       "      <td>31</td>\n",
       "      <td>China</td>\n",
       "      <td>Gold</td>\n",
       "    </tr>\n",
       "    <tr>\n",
       "      <th>22821</th>\n",
       "      <td>22</td>\n",
       "      <td>East Germany</td>\n",
       "      <td>Gold</td>\n",
       "    </tr>\n",
       "  </tbody>\n",
       "</table>\n",
       "<p>252 rows × 3 columns</p>\n",
       "</div>"
      ],
      "text/plain": [
       "       Age           Team Medal\n",
       "69      26     Uzbekistan  Gold\n",
       "174     29  Great Britain  Gold\n",
       "175     33  Great Britain  Gold\n",
       "201     20  United States  Gold\n",
       "486     24           Cuba  Gold\n",
       "...    ...            ...   ...\n",
       "22698   22     Kazakhstan  Gold\n",
       "22777   23     Uzbekistan  Gold\n",
       "22788   27          China  Gold\n",
       "22789   31          China  Gold\n",
       "22821   22   East Germany  Gold\n",
       "\n",
       "[252 rows x 3 columns]"
      ]
     },
     "execution_count": 718,
     "metadata": {},
     "output_type": "execute_result"
    }
   ],
   "source": [
    "# keep only gold medals\n",
    "df_boxing_gold = df_boxing[df_boxing[\"Medal\"] == \"Gold\"]\n",
    "df_boxing_gold"
   ]
  },
  {
   "cell_type": "code",
   "execution_count": 719,
   "metadata": {},
   "outputs": [
    {
     "data": {
      "application/vnd.plotly.v1+json": {
       "config": {
        "plotlyServerURL": "https://plot.ly"
       },
       "data": [
        {
         "alignmentgroup": "True",
         "bingroup": "x",
         "hovertemplate": "Team=%{x}<br>count=%{y}<extra></extra>",
         "legendgroup": "Uzbekistan",
         "marker": {
          "color": "#636efa",
          "pattern": {
           "shape": ""
          }
         },
         "name": "Uzbekistan",
         "offsetgroup": "Uzbekistan",
         "orientation": "v",
         "showlegend": true,
         "type": "histogram",
         "x": [
          "Uzbekistan",
          "Uzbekistan",
          "Uzbekistan",
          "Uzbekistan"
         ],
         "xaxis": "x",
         "yaxis": "y"
        },
        {
         "alignmentgroup": "True",
         "bingroup": "x",
         "hovertemplate": "Team=%{x}<br>count=%{y}<extra></extra>",
         "legendgroup": "Great Britain",
         "marker": {
          "color": "#EF553B",
          "pattern": {
           "shape": ""
          }
         },
         "name": "Great Britain",
         "offsetgroup": "Great Britain",
         "orientation": "v",
         "showlegend": true,
         "type": "histogram",
         "x": [
          "Great Britain",
          "Great Britain",
          "Great Britain",
          "Great Britain",
          "Great Britain",
          "Great Britain",
          "Great Britain",
          "Great Britain",
          "Great Britain",
          "Great Britain",
          "Great Britain",
          "Great Britain",
          "Great Britain",
          "Great Britain",
          "Great Britain",
          "Great Britain",
          "Great Britain",
          "Great Britain"
         ],
         "xaxis": "x",
         "yaxis": "y"
        },
        {
         "alignmentgroup": "True",
         "bingroup": "x",
         "hovertemplate": "Team=%{x}<br>count=%{y}<extra></extra>",
         "legendgroup": "United States",
         "marker": {
          "color": "#00cc96",
          "pattern": {
           "shape": ""
          }
         },
         "name": "United States",
         "offsetgroup": "United States",
         "orientation": "v",
         "showlegend": true,
         "type": "histogram",
         "x": [
          "United States",
          "United States",
          "United States",
          "United States",
          "United States",
          "United States",
          "United States",
          "United States",
          "United States",
          "United States",
          "United States",
          "United States",
          "United States",
          "United States",
          "United States",
          "United States",
          "United States",
          "United States",
          "United States",
          "United States",
          "United States",
          "United States",
          "United States",
          "United States",
          "United States",
          "United States",
          "United States",
          "United States",
          "United States",
          "United States",
          "United States",
          "United States",
          "United States",
          "United States",
          "United States",
          "United States",
          "United States",
          "United States",
          "United States",
          "United States",
          "United States",
          "United States",
          "United States",
          "United States",
          "United States",
          "United States",
          "United States",
          "United States",
          "United States",
          "United States"
         ],
         "xaxis": "x",
         "yaxis": "y"
        },
        {
         "alignmentgroup": "True",
         "bingroup": "x",
         "hovertemplate": "Team=%{x}<br>count=%{y}<extra></extra>",
         "legendgroup": "Cuba",
         "marker": {
          "color": "#ab63fa",
          "pattern": {
           "shape": ""
          }
         },
         "name": "Cuba",
         "offsetgroup": "Cuba",
         "orientation": "v",
         "showlegend": true,
         "type": "histogram",
         "x": [
          "Cuba",
          "Cuba",
          "Cuba",
          "Cuba",
          "Cuba",
          "Cuba",
          "Cuba",
          "Cuba",
          "Cuba",
          "Cuba",
          "Cuba",
          "Cuba",
          "Cuba",
          "Cuba",
          "Cuba",
          "Cuba",
          "Cuba",
          "Cuba",
          "Cuba",
          "Cuba",
          "Cuba",
          "Cuba",
          "Cuba",
          "Cuba",
          "Cuba",
          "Cuba",
          "Cuba",
          "Cuba",
          "Cuba",
          "Cuba",
          "Cuba",
          "Cuba",
          "Cuba",
          "Cuba",
          "Cuba",
          "Cuba",
          "Cuba"
         ],
         "xaxis": "x",
         "yaxis": "y"
        },
        {
         "alignmentgroup": "True",
         "bingroup": "x",
         "hovertemplate": "Team=%{x}<br>count=%{y}<extra></extra>",
         "legendgroup": "Kazakhstan",
         "marker": {
          "color": "#FFA15A",
          "pattern": {
           "shape": ""
          }
         },
         "name": "Kazakhstan",
         "offsetgroup": "Kazakhstan",
         "orientation": "v",
         "showlegend": true,
         "type": "histogram",
         "x": [
          "Kazakhstan",
          "Kazakhstan",
          "Kazakhstan",
          "Kazakhstan",
          "Kazakhstan",
          "Kazakhstan",
          "Kazakhstan"
         ],
         "xaxis": "x",
         "yaxis": "y"
        },
        {
         "alignmentgroup": "True",
         "bingroup": "x",
         "hovertemplate": "Team=%{x}<br>count=%{y}<extra></extra>",
         "legendgroup": "France",
         "marker": {
          "color": "#19d3f3",
          "pattern": {
           "shape": ""
          }
         },
         "name": "France",
         "offsetgroup": "France",
         "orientation": "v",
         "showlegend": true,
         "type": "histogram",
         "x": [
          "France",
          "France",
          "France",
          "France",
          "France",
          "France"
         ],
         "xaxis": "x",
         "yaxis": "y"
        },
        {
         "alignmentgroup": "True",
         "bingroup": "x",
         "hovertemplate": "Team=%{x}<br>count=%{y}<extra></extra>",
         "legendgroup": "Italy",
         "marker": {
          "color": "#FF6692",
          "pattern": {
           "shape": ""
          }
         },
         "name": "Italy",
         "offsetgroup": "Italy",
         "orientation": "v",
         "showlegend": true,
         "type": "histogram",
         "x": [
          "Italy",
          "Italy",
          "Italy",
          "Italy",
          "Italy",
          "Italy",
          "Italy",
          "Italy",
          "Italy",
          "Italy",
          "Italy",
          "Italy",
          "Italy",
          "Italy",
          "Italy"
         ],
         "xaxis": "x",
         "yaxis": "y"
        },
        {
         "alignmentgroup": "True",
         "bingroup": "x",
         "hovertemplate": "Team=%{x}<br>count=%{y}<extra></extra>",
         "legendgroup": "Argentina",
         "marker": {
          "color": "#B6E880",
          "pattern": {
           "shape": ""
          }
         },
         "name": "Argentina",
         "offsetgroup": "Argentina",
         "orientation": "v",
         "showlegend": true,
         "type": "histogram",
         "x": [
          "Argentina",
          "Argentina",
          "Argentina",
          "Argentina",
          "Argentina",
          "Argentina",
          "Argentina"
         ],
         "xaxis": "x",
         "yaxis": "y"
        },
        {
         "alignmentgroup": "True",
         "bingroup": "x",
         "hovertemplate": "Team=%{x}<br>count=%{y}<extra></extra>",
         "legendgroup": "East Germany",
         "marker": {
          "color": "#FF97FF",
          "pattern": {
           "shape": ""
          }
         },
         "name": "East Germany",
         "offsetgroup": "East Germany",
         "orientation": "v",
         "showlegend": true,
         "type": "histogram",
         "x": [
          "East Germany",
          "East Germany",
          "East Germany",
          "East Germany",
          "East Germany"
         ],
         "xaxis": "x",
         "yaxis": "y"
        },
        {
         "alignmentgroup": "True",
         "bingroup": "x",
         "hovertemplate": "Team=%{x}<br>count=%{y}<extra></extra>",
         "legendgroup": "Germany",
         "marker": {
          "color": "#FECB52",
          "pattern": {
           "shape": ""
          }
         },
         "name": "Germany",
         "offsetgroup": "Germany",
         "orientation": "v",
         "showlegend": true,
         "type": "histogram",
         "x": [
          "Germany",
          "Germany",
          "Germany",
          "Germany",
          "Germany"
         ],
         "xaxis": "x",
         "yaxis": "y"
        },
        {
         "alignmentgroup": "True",
         "bingroup": "x",
         "hovertemplate": "Team=%{x}<br>count=%{y}<extra></extra>",
         "legendgroup": "Thailand",
         "marker": {
          "color": "#636efa",
          "pattern": {
           "shape": ""
          }
         },
         "name": "Thailand",
         "offsetgroup": "Thailand",
         "orientation": "v",
         "showlegend": true,
         "type": "histogram",
         "x": [
          "Thailand",
          "Thailand",
          "Thailand",
          "Thailand"
         ],
         "xaxis": "x",
         "yaxis": "y"
        },
        {
         "alignmentgroup": "True",
         "bingroup": "x",
         "hovertemplate": "Team=%{x}<br>count=%{y}<extra></extra>",
         "legendgroup": "Bulgaria",
         "marker": {
          "color": "#EF553B",
          "pattern": {
           "shape": ""
          }
         },
         "name": "Bulgaria",
         "offsetgroup": "Bulgaria",
         "orientation": "v",
         "showlegend": true,
         "type": "histogram",
         "x": [
          "Bulgaria",
          "Bulgaria",
          "Bulgaria",
          "Bulgaria"
         ],
         "xaxis": "x",
         "yaxis": "y"
        },
        {
         "alignmentgroup": "True",
         "bingroup": "x",
         "hovertemplate": "Team=%{x}<br>count=%{y}<extra></extra>",
         "legendgroup": "Ireland",
         "marker": {
          "color": "#00cc96",
          "pattern": {
           "shape": ""
          }
         },
         "name": "Ireland",
         "offsetgroup": "Ireland",
         "orientation": "v",
         "showlegend": true,
         "type": "histogram",
         "x": [
          "Ireland",
          "Ireland"
         ],
         "xaxis": "x",
         "yaxis": "y"
        },
        {
         "alignmentgroup": "True",
         "bingroup": "x",
         "hovertemplate": "Team=%{x}<br>count=%{y}<extra></extra>",
         "legendgroup": "South Africa",
         "marker": {
          "color": "#ab63fa",
          "pattern": {
           "shape": ""
          }
         },
         "name": "South Africa",
         "offsetgroup": "South Africa",
         "orientation": "v",
         "showlegend": true,
         "type": "histogram",
         "x": [
          "South Africa",
          "South Africa",
          "South Africa",
          "South Africa",
          "South Africa",
          "South Africa"
         ],
         "xaxis": "x",
         "yaxis": "y"
        },
        {
         "alignmentgroup": "True",
         "bingroup": "x",
         "hovertemplate": "Team=%{x}<br>count=%{y}<extra></extra>",
         "legendgroup": "Russia",
         "marker": {
          "color": "#FFA15A",
          "pattern": {
           "shape": ""
          }
         },
         "name": "Russia",
         "offsetgroup": "Russia",
         "orientation": "v",
         "showlegend": true,
         "type": "histogram",
         "x": [
          "Russia",
          "Russia",
          "Russia",
          "Russia",
          "Russia",
          "Russia",
          "Russia",
          "Russia",
          "Russia",
          "Russia"
         ],
         "xaxis": "x",
         "yaxis": "y"
        },
        {
         "alignmentgroup": "True",
         "bingroup": "x",
         "hovertemplate": "Team=%{x}<br>count=%{y}<extra></extra>",
         "legendgroup": "North Korea",
         "marker": {
          "color": "#19d3f3",
          "pattern": {
           "shape": ""
          }
         },
         "name": "North Korea",
         "offsetgroup": "North Korea",
         "orientation": "v",
         "showlegend": true,
         "type": "histogram",
         "x": [
          "North Korea",
          "North Korea"
         ],
         "xaxis": "x",
         "yaxis": "y"
        },
        {
         "alignmentgroup": "True",
         "bingroup": "x",
         "hovertemplate": "Team=%{x}<br>count=%{y}<extra></extra>",
         "legendgroup": "Poland",
         "marker": {
          "color": "#FF6692",
          "pattern": {
           "shape": ""
          }
         },
         "name": "Poland",
         "offsetgroup": "Poland",
         "orientation": "v",
         "showlegend": true,
         "type": "histogram",
         "x": [
          "Poland",
          "Poland",
          "Poland",
          "Poland",
          "Poland",
          "Poland",
          "Poland",
          "Poland"
         ],
         "xaxis": "x",
         "yaxis": "y"
        },
        {
         "alignmentgroup": "True",
         "bingroup": "x",
         "hovertemplate": "Team=%{x}<br>count=%{y}<extra></extra>",
         "legendgroup": "Brazil",
         "marker": {
          "color": "#B6E880",
          "pattern": {
           "shape": ""
          }
         },
         "name": "Brazil",
         "offsetgroup": "Brazil",
         "orientation": "v",
         "showlegend": true,
         "type": "histogram",
         "x": [
          "Brazil"
         ],
         "xaxis": "x",
         "yaxis": "y"
        },
        {
         "alignmentgroup": "True",
         "bingroup": "x",
         "hovertemplate": "Team=%{x}<br>count=%{y}<extra></extra>",
         "legendgroup": "Hungary",
         "marker": {
          "color": "#FF97FF",
          "pattern": {
           "shape": ""
          }
         },
         "name": "Hungary",
         "offsetgroup": "Hungary",
         "orientation": "v",
         "showlegend": true,
         "type": "histogram",
         "x": [
          "Hungary",
          "Hungary",
          "Hungary",
          "Hungary",
          "Hungary",
          "Hungary",
          "Hungary",
          "Hungary",
          "Hungary",
          "Hungary"
         ],
         "xaxis": "x",
         "yaxis": "y"
        },
        {
         "alignmentgroup": "True",
         "bingroup": "x",
         "hovertemplate": "Team=%{x}<br>count=%{y}<extra></extra>",
         "legendgroup": "Belgium",
         "marker": {
          "color": "#FECB52",
          "pattern": {
           "shape": ""
          }
         },
         "name": "Belgium",
         "offsetgroup": "Belgium",
         "orientation": "v",
         "showlegend": true,
         "type": "histogram",
         "x": [
          "Belgium"
         ],
         "xaxis": "x",
         "yaxis": "y"
        },
        {
         "alignmentgroup": "True",
         "bingroup": "x",
         "hovertemplate": "Team=%{x}<br>count=%{y}<extra></extra>",
         "legendgroup": "Mexico",
         "marker": {
          "color": "#636efa",
          "pattern": {
           "shape": ""
          }
         },
         "name": "Mexico",
         "offsetgroup": "Mexico",
         "orientation": "v",
         "showlegend": true,
         "type": "histogram",
         "x": [
          "Mexico",
          "Mexico"
         ],
         "xaxis": "x",
         "yaxis": "y"
        },
        {
         "alignmentgroup": "True",
         "bingroup": "x",
         "hovertemplate": "Team=%{x}<br>count=%{y}<extra></extra>",
         "legendgroup": "Dominican Republic",
         "marker": {
          "color": "#EF553B",
          "pattern": {
           "shape": ""
          }
         },
         "name": "Dominican Republic",
         "offsetgroup": "Dominican Republic",
         "orientation": "v",
         "showlegend": true,
         "type": "histogram",
         "x": [
          "Dominican Republic"
         ],
         "xaxis": "x",
         "yaxis": "y"
        },
        {
         "alignmentgroup": "True",
         "bingroup": "x",
         "hovertemplate": "Team=%{x}<br>count=%{y}<extra></extra>",
         "legendgroup": "Soviet Union",
         "marker": {
          "color": "#00cc96",
          "pattern": {
           "shape": ""
          }
         },
         "name": "Soviet Union",
         "offsetgroup": "Soviet Union",
         "orientation": "v",
         "showlegend": true,
         "type": "histogram",
         "x": [
          "Soviet Union",
          "Soviet Union",
          "Soviet Union",
          "Soviet Union",
          "Soviet Union",
          "Soviet Union",
          "Soviet Union",
          "Soviet Union",
          "Soviet Union",
          "Soviet Union",
          "Soviet Union",
          "Soviet Union",
          "Soviet Union",
          "Soviet Union"
         ],
         "xaxis": "x",
         "yaxis": "y"
        },
        {
         "alignmentgroup": "True",
         "bingroup": "x",
         "hovertemplate": "Team=%{x}<br>count=%{y}<extra></extra>",
         "legendgroup": "Mongolia",
         "marker": {
          "color": "#ab63fa",
          "pattern": {
           "shape": ""
          }
         },
         "name": "Mongolia",
         "offsetgroup": "Mongolia",
         "orientation": "v",
         "showlegend": true,
         "type": "histogram",
         "x": [
          "Mongolia"
         ],
         "xaxis": "x",
         "yaxis": "y"
        },
        {
         "alignmentgroup": "True",
         "bingroup": "x",
         "hovertemplate": "Team=%{x}<br>count=%{y}<extra></extra>",
         "legendgroup": "Canada",
         "marker": {
          "color": "#FFA15A",
          "pattern": {
           "shape": ""
          }
         },
         "name": "Canada",
         "offsetgroup": "Canada",
         "orientation": "v",
         "showlegend": true,
         "type": "histogram",
         "x": [
          "Canada",
          "Canada",
          "Canada"
         ],
         "xaxis": "x",
         "yaxis": "y"
        },
        {
         "alignmentgroup": "True",
         "bingroup": "x",
         "hovertemplate": "Team=%{x}<br>count=%{y}<extra></extra>",
         "legendgroup": "Finland",
         "marker": {
          "color": "#19d3f3",
          "pattern": {
           "shape": ""
          }
         },
         "name": "Finland",
         "offsetgroup": "Finland",
         "orientation": "v",
         "showlegend": true,
         "type": "histogram",
         "x": [
          "Finland",
          "Finland"
         ],
         "xaxis": "x",
         "yaxis": "y"
        },
        {
         "alignmentgroup": "True",
         "bingroup": "x",
         "hovertemplate": "Team=%{x}<br>count=%{y}<extra></extra>",
         "legendgroup": "Yugoslavia",
         "marker": {
          "color": "#FF6692",
          "pattern": {
           "shape": ""
          }
         },
         "name": "Yugoslavia",
         "offsetgroup": "Yugoslavia",
         "orientation": "v",
         "showlegend": true,
         "type": "histogram",
         "x": [
          "Yugoslavia",
          "Yugoslavia",
          "Yugoslavia"
         ],
         "xaxis": "x",
         "yaxis": "y"
        },
        {
         "alignmentgroup": "True",
         "bingroup": "x",
         "hovertemplate": "Team=%{x}<br>count=%{y}<extra></extra>",
         "legendgroup": "South Korea",
         "marker": {
          "color": "#B6E880",
          "pattern": {
           "shape": ""
          }
         },
         "name": "South Korea",
         "offsetgroup": "South Korea",
         "orientation": "v",
         "showlegend": true,
         "type": "histogram",
         "x": [
          "South Korea",
          "South Korea",
          "South Korea"
         ],
         "xaxis": "x",
         "yaxis": "y"
        },
        {
         "alignmentgroup": "True",
         "bingroup": "x",
         "hovertemplate": "Team=%{x}<br>count=%{y}<extra></extra>",
         "legendgroup": "Ukraine",
         "marker": {
          "color": "#FF97FF",
          "pattern": {
           "shape": ""
          }
         },
         "name": "Ukraine",
         "offsetgroup": "Ukraine",
         "orientation": "v",
         "showlegend": true,
         "type": "histogram",
         "x": [
          "Ukraine",
          "Ukraine",
          "Ukraine",
          "Ukraine"
         ],
         "xaxis": "x",
         "yaxis": "y"
        },
        {
         "alignmentgroup": "True",
         "bingroup": "x",
         "hovertemplate": "Team=%{x}<br>count=%{y}<extra></extra>",
         "legendgroup": "West Germany",
         "marker": {
          "color": "#FECB52",
          "pattern": {
           "shape": ""
          }
         },
         "name": "West Germany",
         "offsetgroup": "West Germany",
         "orientation": "v",
         "showlegend": true,
         "type": "histogram",
         "x": [
          "West Germany"
         ],
         "xaxis": "x",
         "yaxis": "y"
        },
        {
         "alignmentgroup": "True",
         "bingroup": "x",
         "hovertemplate": "Team=%{x}<br>count=%{y}<extra></extra>",
         "legendgroup": "Romania",
         "marker": {
          "color": "#636efa",
          "pattern": {
           "shape": ""
          }
         },
         "name": "Romania",
         "offsetgroup": "Romania",
         "orientation": "v",
         "showlegend": true,
         "type": "histogram",
         "x": [
          "Romania"
         ],
         "xaxis": "x",
         "yaxis": "y"
        },
        {
         "alignmentgroup": "True",
         "bingroup": "x",
         "hovertemplate": "Team=%{x}<br>count=%{y}<extra></extra>",
         "legendgroup": "New Zealand",
         "marker": {
          "color": "#EF553B",
          "pattern": {
           "shape": ""
          }
         },
         "name": "New Zealand",
         "offsetgroup": "New Zealand",
         "orientation": "v",
         "showlegend": true,
         "type": "histogram",
         "x": [
          "New Zealand"
         ],
         "xaxis": "x",
         "yaxis": "y"
        },
        {
         "alignmentgroup": "True",
         "bingroup": "x",
         "hovertemplate": "Team=%{x}<br>count=%{y}<extra></extra>",
         "legendgroup": "Japan",
         "marker": {
          "color": "#00cc96",
          "pattern": {
           "shape": ""
          }
         },
         "name": "Japan",
         "offsetgroup": "Japan",
         "orientation": "v",
         "showlegend": true,
         "type": "histogram",
         "x": [
          "Japan",
          "Japan"
         ],
         "xaxis": "x",
         "yaxis": "y"
        },
        {
         "alignmentgroup": "True",
         "bingroup": "x",
         "hovertemplate": "Team=%{x}<br>count=%{y}<extra></extra>",
         "legendgroup": "Czechoslovakia",
         "marker": {
          "color": "#ab63fa",
          "pattern": {
           "shape": ""
          }
         },
         "name": "Czechoslovakia",
         "offsetgroup": "Czechoslovakia",
         "orientation": "v",
         "showlegend": true,
         "type": "histogram",
         "x": [
          "Czechoslovakia",
          "Czechoslovakia",
          "Czechoslovakia"
         ],
         "xaxis": "x",
         "yaxis": "y"
        },
        {
         "alignmentgroup": "True",
         "bingroup": "x",
         "hovertemplate": "Team=%{x}<br>count=%{y}<extra></extra>",
         "legendgroup": "Denmark",
         "marker": {
          "color": "#FFA15A",
          "pattern": {
           "shape": ""
          }
         },
         "name": "Denmark",
         "offsetgroup": "Denmark",
         "orientation": "v",
         "showlegend": true,
         "type": "histogram",
         "x": [
          "Denmark"
         ],
         "xaxis": "x",
         "yaxis": "y"
        },
        {
         "alignmentgroup": "True",
         "bingroup": "x",
         "hovertemplate": "Team=%{x}<br>count=%{y}<extra></extra>",
         "legendgroup": "Venezuela",
         "marker": {
          "color": "#19d3f3",
          "pattern": {
           "shape": ""
          }
         },
         "name": "Venezuela",
         "offsetgroup": "Venezuela",
         "orientation": "v",
         "showlegend": true,
         "type": "histogram",
         "x": [
          "Venezuela"
         ],
         "xaxis": "x",
         "yaxis": "y"
        },
        {
         "alignmentgroup": "True",
         "bingroup": "x",
         "hovertemplate": "Team=%{x}<br>count=%{y}<extra></extra>",
         "legendgroup": "Algeria",
         "marker": {
          "color": "#FF6692",
          "pattern": {
           "shape": ""
          }
         },
         "name": "Algeria",
         "offsetgroup": "Algeria",
         "orientation": "v",
         "showlegend": true,
         "type": "histogram",
         "x": [
          "Algeria"
         ],
         "xaxis": "x",
         "yaxis": "y"
        },
        {
         "alignmentgroup": "True",
         "bingroup": "x",
         "hovertemplate": "Team=%{x}<br>count=%{y}<extra></extra>",
         "legendgroup": "Netherlands",
         "marker": {
          "color": "#B6E880",
          "pattern": {
           "shape": ""
          }
         },
         "name": "Netherlands",
         "offsetgroup": "Netherlands",
         "orientation": "v",
         "showlegend": true,
         "type": "histogram",
         "x": [
          "Netherlands"
         ],
         "xaxis": "x",
         "yaxis": "y"
        },
        {
         "alignmentgroup": "True",
         "bingroup": "x",
         "hovertemplate": "Team=%{x}<br>count=%{y}<extra></extra>",
         "legendgroup": "Norway",
         "marker": {
          "color": "#FF97FF",
          "pattern": {
           "shape": ""
          }
         },
         "name": "Norway",
         "offsetgroup": "Norway",
         "orientation": "v",
         "showlegend": true,
         "type": "histogram",
         "x": [
          "Norway"
         ],
         "xaxis": "x",
         "yaxis": "y"
        },
        {
         "alignmentgroup": "True",
         "bingroup": "x",
         "hovertemplate": "Team=%{x}<br>count=%{y}<extra></extra>",
         "legendgroup": "Kenya",
         "marker": {
          "color": "#FECB52",
          "pattern": {
           "shape": ""
          }
         },
         "name": "Kenya",
         "offsetgroup": "Kenya",
         "orientation": "v",
         "showlegend": true,
         "type": "histogram",
         "x": [
          "Kenya"
         ],
         "xaxis": "x",
         "yaxis": "y"
        },
        {
         "alignmentgroup": "True",
         "bingroup": "x",
         "hovertemplate": "Team=%{x}<br>count=%{y}<extra></extra>",
         "legendgroup": "China",
         "marker": {
          "color": "#636efa",
          "pattern": {
           "shape": ""
          }
         },
         "name": "China",
         "offsetgroup": "China",
         "orientation": "v",
         "showlegend": true,
         "type": "histogram",
         "x": [
          "China",
          "China",
          "China"
         ],
         "xaxis": "x",
         "yaxis": "y"
        }
       ],
       "layout": {
        "barmode": "relative",
        "legend": {
         "title": {
          "text": "Team"
         },
         "tracegroupgap": 0
        },
        "template": {
         "data": {
          "bar": [
           {
            "error_x": {
             "color": "#2a3f5f"
            },
            "error_y": {
             "color": "#2a3f5f"
            },
            "marker": {
             "line": {
              "color": "#E5ECF6",
              "width": 0.5
             },
             "pattern": {
              "fillmode": "overlay",
              "size": 10,
              "solidity": 0.2
             }
            },
            "type": "bar"
           }
          ],
          "barpolar": [
           {
            "marker": {
             "line": {
              "color": "#E5ECF6",
              "width": 0.5
             },
             "pattern": {
              "fillmode": "overlay",
              "size": 10,
              "solidity": 0.2
             }
            },
            "type": "barpolar"
           }
          ],
          "carpet": [
           {
            "aaxis": {
             "endlinecolor": "#2a3f5f",
             "gridcolor": "white",
             "linecolor": "white",
             "minorgridcolor": "white",
             "startlinecolor": "#2a3f5f"
            },
            "baxis": {
             "endlinecolor": "#2a3f5f",
             "gridcolor": "white",
             "linecolor": "white",
             "minorgridcolor": "white",
             "startlinecolor": "#2a3f5f"
            },
            "type": "carpet"
           }
          ],
          "choropleth": [
           {
            "colorbar": {
             "outlinewidth": 0,
             "ticks": ""
            },
            "type": "choropleth"
           }
          ],
          "contour": [
           {
            "colorbar": {
             "outlinewidth": 0,
             "ticks": ""
            },
            "colorscale": [
             [
              0,
              "#0d0887"
             ],
             [
              0.1111111111111111,
              "#46039f"
             ],
             [
              0.2222222222222222,
              "#7201a8"
             ],
             [
              0.3333333333333333,
              "#9c179e"
             ],
             [
              0.4444444444444444,
              "#bd3786"
             ],
             [
              0.5555555555555556,
              "#d8576b"
             ],
             [
              0.6666666666666666,
              "#ed7953"
             ],
             [
              0.7777777777777778,
              "#fb9f3a"
             ],
             [
              0.8888888888888888,
              "#fdca26"
             ],
             [
              1,
              "#f0f921"
             ]
            ],
            "type": "contour"
           }
          ],
          "contourcarpet": [
           {
            "colorbar": {
             "outlinewidth": 0,
             "ticks": ""
            },
            "type": "contourcarpet"
           }
          ],
          "heatmap": [
           {
            "colorbar": {
             "outlinewidth": 0,
             "ticks": ""
            },
            "colorscale": [
             [
              0,
              "#0d0887"
             ],
             [
              0.1111111111111111,
              "#46039f"
             ],
             [
              0.2222222222222222,
              "#7201a8"
             ],
             [
              0.3333333333333333,
              "#9c179e"
             ],
             [
              0.4444444444444444,
              "#bd3786"
             ],
             [
              0.5555555555555556,
              "#d8576b"
             ],
             [
              0.6666666666666666,
              "#ed7953"
             ],
             [
              0.7777777777777778,
              "#fb9f3a"
             ],
             [
              0.8888888888888888,
              "#fdca26"
             ],
             [
              1,
              "#f0f921"
             ]
            ],
            "type": "heatmap"
           }
          ],
          "heatmapgl": [
           {
            "colorbar": {
             "outlinewidth": 0,
             "ticks": ""
            },
            "colorscale": [
             [
              0,
              "#0d0887"
             ],
             [
              0.1111111111111111,
              "#46039f"
             ],
             [
              0.2222222222222222,
              "#7201a8"
             ],
             [
              0.3333333333333333,
              "#9c179e"
             ],
             [
              0.4444444444444444,
              "#bd3786"
             ],
             [
              0.5555555555555556,
              "#d8576b"
             ],
             [
              0.6666666666666666,
              "#ed7953"
             ],
             [
              0.7777777777777778,
              "#fb9f3a"
             ],
             [
              0.8888888888888888,
              "#fdca26"
             ],
             [
              1,
              "#f0f921"
             ]
            ],
            "type": "heatmapgl"
           }
          ],
          "histogram": [
           {
            "marker": {
             "pattern": {
              "fillmode": "overlay",
              "size": 10,
              "solidity": 0.2
             }
            },
            "type": "histogram"
           }
          ],
          "histogram2d": [
           {
            "colorbar": {
             "outlinewidth": 0,
             "ticks": ""
            },
            "colorscale": [
             [
              0,
              "#0d0887"
             ],
             [
              0.1111111111111111,
              "#46039f"
             ],
             [
              0.2222222222222222,
              "#7201a8"
             ],
             [
              0.3333333333333333,
              "#9c179e"
             ],
             [
              0.4444444444444444,
              "#bd3786"
             ],
             [
              0.5555555555555556,
              "#d8576b"
             ],
             [
              0.6666666666666666,
              "#ed7953"
             ],
             [
              0.7777777777777778,
              "#fb9f3a"
             ],
             [
              0.8888888888888888,
              "#fdca26"
             ],
             [
              1,
              "#f0f921"
             ]
            ],
            "type": "histogram2d"
           }
          ],
          "histogram2dcontour": [
           {
            "colorbar": {
             "outlinewidth": 0,
             "ticks": ""
            },
            "colorscale": [
             [
              0,
              "#0d0887"
             ],
             [
              0.1111111111111111,
              "#46039f"
             ],
             [
              0.2222222222222222,
              "#7201a8"
             ],
             [
              0.3333333333333333,
              "#9c179e"
             ],
             [
              0.4444444444444444,
              "#bd3786"
             ],
             [
              0.5555555555555556,
              "#d8576b"
             ],
             [
              0.6666666666666666,
              "#ed7953"
             ],
             [
              0.7777777777777778,
              "#fb9f3a"
             ],
             [
              0.8888888888888888,
              "#fdca26"
             ],
             [
              1,
              "#f0f921"
             ]
            ],
            "type": "histogram2dcontour"
           }
          ],
          "mesh3d": [
           {
            "colorbar": {
             "outlinewidth": 0,
             "ticks": ""
            },
            "type": "mesh3d"
           }
          ],
          "parcoords": [
           {
            "line": {
             "colorbar": {
              "outlinewidth": 0,
              "ticks": ""
             }
            },
            "type": "parcoords"
           }
          ],
          "pie": [
           {
            "automargin": true,
            "type": "pie"
           }
          ],
          "scatter": [
           {
            "fillpattern": {
             "fillmode": "overlay",
             "size": 10,
             "solidity": 0.2
            },
            "type": "scatter"
           }
          ],
          "scatter3d": [
           {
            "line": {
             "colorbar": {
              "outlinewidth": 0,
              "ticks": ""
             }
            },
            "marker": {
             "colorbar": {
              "outlinewidth": 0,
              "ticks": ""
             }
            },
            "type": "scatter3d"
           }
          ],
          "scattercarpet": [
           {
            "marker": {
             "colorbar": {
              "outlinewidth": 0,
              "ticks": ""
             }
            },
            "type": "scattercarpet"
           }
          ],
          "scattergeo": [
           {
            "marker": {
             "colorbar": {
              "outlinewidth": 0,
              "ticks": ""
             }
            },
            "type": "scattergeo"
           }
          ],
          "scattergl": [
           {
            "marker": {
             "colorbar": {
              "outlinewidth": 0,
              "ticks": ""
             }
            },
            "type": "scattergl"
           }
          ],
          "scattermapbox": [
           {
            "marker": {
             "colorbar": {
              "outlinewidth": 0,
              "ticks": ""
             }
            },
            "type": "scattermapbox"
           }
          ],
          "scatterpolar": [
           {
            "marker": {
             "colorbar": {
              "outlinewidth": 0,
              "ticks": ""
             }
            },
            "type": "scatterpolar"
           }
          ],
          "scatterpolargl": [
           {
            "marker": {
             "colorbar": {
              "outlinewidth": 0,
              "ticks": ""
             }
            },
            "type": "scatterpolargl"
           }
          ],
          "scatterternary": [
           {
            "marker": {
             "colorbar": {
              "outlinewidth": 0,
              "ticks": ""
             }
            },
            "type": "scatterternary"
           }
          ],
          "surface": [
           {
            "colorbar": {
             "outlinewidth": 0,
             "ticks": ""
            },
            "colorscale": [
             [
              0,
              "#0d0887"
             ],
             [
              0.1111111111111111,
              "#46039f"
             ],
             [
              0.2222222222222222,
              "#7201a8"
             ],
             [
              0.3333333333333333,
              "#9c179e"
             ],
             [
              0.4444444444444444,
              "#bd3786"
             ],
             [
              0.5555555555555556,
              "#d8576b"
             ],
             [
              0.6666666666666666,
              "#ed7953"
             ],
             [
              0.7777777777777778,
              "#fb9f3a"
             ],
             [
              0.8888888888888888,
              "#fdca26"
             ],
             [
              1,
              "#f0f921"
             ]
            ],
            "type": "surface"
           }
          ],
          "table": [
           {
            "cells": {
             "fill": {
              "color": "#EBF0F8"
             },
             "line": {
              "color": "white"
             }
            },
            "header": {
             "fill": {
              "color": "#C8D4E3"
             },
             "line": {
              "color": "white"
             }
            },
            "type": "table"
           }
          ]
         },
         "layout": {
          "annotationdefaults": {
           "arrowcolor": "#2a3f5f",
           "arrowhead": 0,
           "arrowwidth": 1
          },
          "autotypenumbers": "strict",
          "coloraxis": {
           "colorbar": {
            "outlinewidth": 0,
            "ticks": ""
           }
          },
          "colorscale": {
           "diverging": [
            [
             0,
             "#8e0152"
            ],
            [
             0.1,
             "#c51b7d"
            ],
            [
             0.2,
             "#de77ae"
            ],
            [
             0.3,
             "#f1b6da"
            ],
            [
             0.4,
             "#fde0ef"
            ],
            [
             0.5,
             "#f7f7f7"
            ],
            [
             0.6,
             "#e6f5d0"
            ],
            [
             0.7,
             "#b8e186"
            ],
            [
             0.8,
             "#7fbc41"
            ],
            [
             0.9,
             "#4d9221"
            ],
            [
             1,
             "#276419"
            ]
           ],
           "sequential": [
            [
             0,
             "#0d0887"
            ],
            [
             0.1111111111111111,
             "#46039f"
            ],
            [
             0.2222222222222222,
             "#7201a8"
            ],
            [
             0.3333333333333333,
             "#9c179e"
            ],
            [
             0.4444444444444444,
             "#bd3786"
            ],
            [
             0.5555555555555556,
             "#d8576b"
            ],
            [
             0.6666666666666666,
             "#ed7953"
            ],
            [
             0.7777777777777778,
             "#fb9f3a"
            ],
            [
             0.8888888888888888,
             "#fdca26"
            ],
            [
             1,
             "#f0f921"
            ]
           ],
           "sequentialminus": [
            [
             0,
             "#0d0887"
            ],
            [
             0.1111111111111111,
             "#46039f"
            ],
            [
             0.2222222222222222,
             "#7201a8"
            ],
            [
             0.3333333333333333,
             "#9c179e"
            ],
            [
             0.4444444444444444,
             "#bd3786"
            ],
            [
             0.5555555555555556,
             "#d8576b"
            ],
            [
             0.6666666666666666,
             "#ed7953"
            ],
            [
             0.7777777777777778,
             "#fb9f3a"
            ],
            [
             0.8888888888888888,
             "#fdca26"
            ],
            [
             1,
             "#f0f921"
            ]
           ]
          },
          "colorway": [
           "#636efa",
           "#EF553B",
           "#00cc96",
           "#ab63fa",
           "#FFA15A",
           "#19d3f3",
           "#FF6692",
           "#B6E880",
           "#FF97FF",
           "#FECB52"
          ],
          "font": {
           "color": "#2a3f5f"
          },
          "geo": {
           "bgcolor": "white",
           "lakecolor": "white",
           "landcolor": "#E5ECF6",
           "showlakes": true,
           "showland": true,
           "subunitcolor": "white"
          },
          "hoverlabel": {
           "align": "left"
          },
          "hovermode": "closest",
          "mapbox": {
           "style": "light"
          },
          "paper_bgcolor": "white",
          "plot_bgcolor": "#E5ECF6",
          "polar": {
           "angularaxis": {
            "gridcolor": "white",
            "linecolor": "white",
            "ticks": ""
           },
           "bgcolor": "#E5ECF6",
           "radialaxis": {
            "gridcolor": "white",
            "linecolor": "white",
            "ticks": ""
           }
          },
          "scene": {
           "xaxis": {
            "backgroundcolor": "#E5ECF6",
            "gridcolor": "white",
            "gridwidth": 2,
            "linecolor": "white",
            "showbackground": true,
            "ticks": "",
            "zerolinecolor": "white"
           },
           "yaxis": {
            "backgroundcolor": "#E5ECF6",
            "gridcolor": "white",
            "gridwidth": 2,
            "linecolor": "white",
            "showbackground": true,
            "ticks": "",
            "zerolinecolor": "white"
           },
           "zaxis": {
            "backgroundcolor": "#E5ECF6",
            "gridcolor": "white",
            "gridwidth": 2,
            "linecolor": "white",
            "showbackground": true,
            "ticks": "",
            "zerolinecolor": "white"
           }
          },
          "shapedefaults": {
           "line": {
            "color": "#2a3f5f"
           }
          },
          "ternary": {
           "aaxis": {
            "gridcolor": "white",
            "linecolor": "white",
            "ticks": ""
           },
           "baxis": {
            "gridcolor": "white",
            "linecolor": "white",
            "ticks": ""
           },
           "bgcolor": "#E5ECF6",
           "caxis": {
            "gridcolor": "white",
            "linecolor": "white",
            "ticks": ""
           }
          },
          "title": {
           "x": 0.05
          },
          "xaxis": {
           "automargin": true,
           "gridcolor": "white",
           "linecolor": "white",
           "ticks": "",
           "title": {
            "standoff": 15
           },
           "zerolinecolor": "white",
           "zerolinewidth": 2
          },
          "yaxis": {
           "automargin": true,
           "gridcolor": "white",
           "linecolor": "white",
           "ticks": "",
           "title": {
            "standoff": 15
           },
           "zerolinecolor": "white",
           "zerolinewidth": 2
          }
         }
        },
        "title": {
         "text": "Distribution of gold medals for each team in boxing"
        },
        "xaxis": {
         "anchor": "y",
         "categoryarray": [
          "Uzbekistan",
          "Great Britain",
          "United States",
          "Cuba",
          "Kazakhstan",
          "France",
          "Italy",
          "Argentina",
          "East Germany",
          "Germany",
          "Thailand",
          "Bulgaria",
          "Ireland",
          "South Africa",
          "Russia",
          "North Korea",
          "Poland",
          "Brazil",
          "Hungary",
          "Belgium",
          "Mexico",
          "Dominican Republic",
          "Soviet Union",
          "Mongolia",
          "Canada",
          "Finland",
          "Yugoslavia",
          "South Korea",
          "Ukraine",
          "West Germany",
          "Romania",
          "New Zealand",
          "Japan",
          "Czechoslovakia",
          "Denmark",
          "Venezuela",
          "Algeria",
          "Netherlands",
          "Norway",
          "Kenya",
          "China"
         ],
         "categoryorder": "array",
         "domain": [
          0,
          1
         ],
         "title": {
          "text": "Team"
         }
        },
        "yaxis": {
         "anchor": "x",
         "domain": [
          0,
          1
         ],
         "title": {
          "text": "count"
         },
         "type": "log"
        }
       }
      }
     },
     "metadata": {},
     "output_type": "display_data"
    }
   ],
   "source": [
    "# plot the distribution of gold medals for each team\n",
    "fig = px.histogram(\n",
    "    df_boxing_gold,\n",
    "    x=\"Team\",\n",
    "    log_y=True,\n",
    "    color=\"Team\",\n",
    "    title=\"Distribution of gold medals for each team in boxing\",\n",
    "    labels={\"Team\": \"Team\", \"count\": \"Number of gold medals\"}, # why can't I change the count label? \n",
    ")\n",
    "fig.show()"
   ]
  },
  {
   "cell_type": "code",
   "execution_count": 720,
   "metadata": {},
   "outputs": [
    {
     "data": {
      "text/html": [
       "<div>\n",
       "<style scoped>\n",
       "    .dataframe tbody tr th:only-of-type {\n",
       "        vertical-align: middle;\n",
       "    }\n",
       "\n",
       "    .dataframe tbody tr th {\n",
       "        vertical-align: top;\n",
       "    }\n",
       "\n",
       "    .dataframe thead th {\n",
       "        text-align: right;\n",
       "    }\n",
       "</style>\n",
       "<table border=\"1\" class=\"dataframe\">\n",
       "  <thead>\n",
       "    <tr style=\"text-align: right;\">\n",
       "      <th></th>\n",
       "      <th>Age</th>\n",
       "      <th>Team</th>\n",
       "      <th>Medal</th>\n",
       "    </tr>\n",
       "  </thead>\n",
       "  <tbody>\n",
       "    <tr>\n",
       "      <th>176</th>\n",
       "      <td>23</td>\n",
       "      <td>Poland</td>\n",
       "      <td>Silver</td>\n",
       "    </tr>\n",
       "    <tr>\n",
       "      <th>299</th>\n",
       "      <td>25</td>\n",
       "      <td>Sweden</td>\n",
       "      <td>Silver</td>\n",
       "    </tr>\n",
       "    <tr>\n",
       "      <th>485</th>\n",
       "      <td>20</td>\n",
       "      <td>Cuba</td>\n",
       "      <td>Silver</td>\n",
       "    </tr>\n",
       "    <tr>\n",
       "      <th>519</th>\n",
       "      <td>26</td>\n",
       "      <td>Romania</td>\n",
       "      <td>Silver</td>\n",
       "    </tr>\n",
       "    <tr>\n",
       "      <th>669</th>\n",
       "      <td>29</td>\n",
       "      <td>Egypt</td>\n",
       "      <td>Silver</td>\n",
       "    </tr>\n",
       "    <tr>\n",
       "      <th>...</th>\n",
       "      <td>...</td>\n",
       "      <td>...</td>\n",
       "      <td>...</td>\n",
       "    </tr>\n",
       "    <tr>\n",
       "      <th>22716</th>\n",
       "      <td>23</td>\n",
       "      <td>Kazakhstan</td>\n",
       "      <td>Silver</td>\n",
       "    </tr>\n",
       "    <tr>\n",
       "      <th>22717</th>\n",
       "      <td>27</td>\n",
       "      <td>Kazakhstan</td>\n",
       "      <td>Silver</td>\n",
       "    </tr>\n",
       "    <tr>\n",
       "      <th>22745</th>\n",
       "      <td>26</td>\n",
       "      <td>Germany</td>\n",
       "      <td>Silver</td>\n",
       "    </tr>\n",
       "    <tr>\n",
       "      <th>22813</th>\n",
       "      <td>20</td>\n",
       "      <td>Italy</td>\n",
       "      <td>Silver</td>\n",
       "    </tr>\n",
       "    <tr>\n",
       "      <th>22836</th>\n",
       "      <td>21</td>\n",
       "      <td>Belarus</td>\n",
       "      <td>Silver</td>\n",
       "    </tr>\n",
       "  </tbody>\n",
       "</table>\n",
       "<p>251 rows × 3 columns</p>\n",
       "</div>"
      ],
      "text/plain": [
       "       Age        Team   Medal\n",
       "176     23      Poland  Silver\n",
       "299     25      Sweden  Silver\n",
       "485     20        Cuba  Silver\n",
       "519     26     Romania  Silver\n",
       "669     29       Egypt  Silver\n",
       "...    ...         ...     ...\n",
       "22716   23  Kazakhstan  Silver\n",
       "22717   27  Kazakhstan  Silver\n",
       "22745   26     Germany  Silver\n",
       "22813   20       Italy  Silver\n",
       "22836   21     Belarus  Silver\n",
       "\n",
       "[251 rows x 3 columns]"
      ]
     },
     "execution_count": 720,
     "metadata": {},
     "output_type": "execute_result"
    }
   ],
   "source": [
    "# keep only silver medals\n",
    "df_boxing_silver = df_boxing[df_boxing[\"Medal\"] == \"Silver\"]\n",
    "df_boxing_silver"
   ]
  },
  {
   "cell_type": "code",
   "execution_count": 721,
   "metadata": {},
   "outputs": [
    {
     "data": {
      "application/vnd.plotly.v1+json": {
       "config": {
        "plotlyServerURL": "https://plot.ly"
       },
       "data": [
        {
         "alignmentgroup": "True",
         "bingroup": "x",
         "hovertemplate": "Team=%{x}<br>count=%{y}<extra></extra>",
         "legendgroup": "Poland",
         "marker": {
          "color": "#636efa",
          "pattern": {
           "shape": ""
          }
         },
         "name": "Poland",
         "offsetgroup": "Poland",
         "orientation": "v",
         "showlegend": true,
         "type": "histogram",
         "x": [
          "Poland",
          "Poland",
          "Poland",
          "Poland",
          "Poland",
          "Poland",
          "Poland",
          "Poland",
          "Poland"
         ],
         "xaxis": "x",
         "yaxis": "y"
        },
        {
         "alignmentgroup": "True",
         "bingroup": "x",
         "hovertemplate": "Team=%{x}<br>count=%{y}<extra></extra>",
         "legendgroup": "Sweden",
         "marker": {
          "color": "#EF553B",
          "pattern": {
           "shape": ""
          }
         },
         "name": "Sweden",
         "offsetgroup": "Sweden",
         "orientation": "v",
         "showlegend": true,
         "type": "histogram",
         "x": [
          "Sweden",
          "Sweden",
          "Sweden",
          "Sweden",
          "Sweden"
         ],
         "xaxis": "x",
         "yaxis": "y"
        },
        {
         "alignmentgroup": "True",
         "bingroup": "x",
         "hovertemplate": "Team=%{x}<br>count=%{y}<extra></extra>",
         "legendgroup": "Cuba",
         "marker": {
          "color": "#00cc96",
          "pattern": {
           "shape": ""
          }
         },
         "name": "Cuba",
         "offsetgroup": "Cuba",
         "orientation": "v",
         "showlegend": true,
         "type": "histogram",
         "x": [
          "Cuba",
          "Cuba",
          "Cuba",
          "Cuba",
          "Cuba",
          "Cuba",
          "Cuba",
          "Cuba",
          "Cuba",
          "Cuba",
          "Cuba",
          "Cuba",
          "Cuba",
          "Cuba",
          "Cuba",
          "Cuba",
          "Cuba",
          "Cuba",
          "Cuba"
         ],
         "xaxis": "x",
         "yaxis": "y"
        },
        {
         "alignmentgroup": "True",
         "bingroup": "x",
         "hovertemplate": "Team=%{x}<br>count=%{y}<extra></extra>",
         "legendgroup": "Romania",
         "marker": {
          "color": "#ab63fa",
          "pattern": {
           "shape": ""
          }
         },
         "name": "Romania",
         "offsetgroup": "Romania",
         "orientation": "v",
         "showlegend": true,
         "type": "histogram",
         "x": [
          "Romania",
          "Romania",
          "Romania",
          "Romania",
          "Romania",
          "Romania",
          "Romania",
          "Romania",
          "Romania"
         ],
         "xaxis": "x",
         "yaxis": "y"
        },
        {
         "alignmentgroup": "True",
         "bingroup": "x",
         "hovertemplate": "Team=%{x}<br>count=%{y}<extra></extra>",
         "legendgroup": "Egypt",
         "marker": {
          "color": "#FFA15A",
          "pattern": {
           "shape": ""
          }
         },
         "name": "Egypt",
         "offsetgroup": "Egypt",
         "orientation": "v",
         "showlegend": true,
         "type": "histogram",
         "x": [
          "Egypt"
         ],
         "xaxis": "x",
         "yaxis": "y"
        },
        {
         "alignmentgroup": "True",
         "bingroup": "x",
         "hovertemplate": "Team=%{x}<br>count=%{y}<extra></extra>",
         "legendgroup": "South Korea",
         "marker": {
          "color": "#19d3f3",
          "pattern": {
           "shape": ""
          }
         },
         "name": "South Korea",
         "offsetgroup": "South Korea",
         "orientation": "v",
         "showlegend": true,
         "type": "histogram",
         "x": [
          "South Korea",
          "South Korea",
          "South Korea",
          "South Korea",
          "South Korea",
          "South Korea",
          "South Korea"
         ],
         "xaxis": "x",
         "yaxis": "y"
        },
        {
         "alignmentgroup": "True",
         "bingroup": "x",
         "hovertemplate": "Team=%{x}<br>count=%{y}<extra></extra>",
         "legendgroup": "Bulgaria",
         "marker": {
          "color": "#FF6692",
          "pattern": {
           "shape": ""
          }
         },
         "name": "Bulgaria",
         "offsetgroup": "Bulgaria",
         "orientation": "v",
         "showlegend": true,
         "type": "histogram",
         "x": [
          "Bulgaria",
          "Bulgaria",
          "Bulgaria",
          "Bulgaria",
          "Bulgaria"
         ],
         "xaxis": "x",
         "yaxis": "y"
        },
        {
         "alignmentgroup": "True",
         "bingroup": "x",
         "hovertemplate": "Team=%{x}<br>count=%{y}<extra></extra>",
         "legendgroup": "France",
         "marker": {
          "color": "#B6E880",
          "pattern": {
           "shape": ""
          }
         },
         "name": "France",
         "offsetgroup": "France",
         "orientation": "v",
         "showlegend": true,
         "type": "histogram",
         "x": [
          "France",
          "France",
          "France",
          "France",
          "France",
          "France",
          "France",
          "France",
          "France"
         ],
         "xaxis": "x",
         "yaxis": "y"
        },
        {
         "alignmentgroup": "True",
         "bingroup": "x",
         "hovertemplate": "Team=%{x}<br>count=%{y}<extra></extra>",
         "legendgroup": "Belarus",
         "marker": {
          "color": "#FF97FF",
          "pattern": {
           "shape": ""
          }
         },
         "name": "Belarus",
         "offsetgroup": "Belarus",
         "orientation": "v",
         "showlegend": true,
         "type": "histogram",
         "x": [
          "Belarus",
          "Belarus"
         ],
         "xaxis": "x",
         "yaxis": "y"
        },
        {
         "alignmentgroup": "True",
         "bingroup": "x",
         "hovertemplate": "Team=%{x}<br>count=%{y}<extra></extra>",
         "legendgroup": "Argentina",
         "marker": {
          "color": "#FECB52",
          "pattern": {
           "shape": ""
          }
         },
         "name": "Argentina",
         "offsetgroup": "Argentina",
         "orientation": "v",
         "showlegend": true,
         "type": "histogram",
         "x": [
          "Argentina",
          "Argentina",
          "Argentina",
          "Argentina",
          "Argentina",
          "Argentina",
          "Argentina"
         ],
         "xaxis": "x",
         "yaxis": "y"
        },
        {
         "alignmentgroup": "True",
         "bingroup": "x",
         "hovertemplate": "Team=%{x}<br>count=%{y}<extra></extra>",
         "legendgroup": "Australasia",
         "marker": {
          "color": "#636efa",
          "pattern": {
           "shape": ""
          }
         },
         "name": "Australasia",
         "offsetgroup": "Australasia",
         "orientation": "v",
         "showlegend": true,
         "type": "histogram",
         "x": [
          "Australasia"
         ],
         "xaxis": "x",
         "yaxis": "y"
        },
        {
         "alignmentgroup": "True",
         "bingroup": "x",
         "hovertemplate": "Team=%{x}<br>count=%{y}<extra></extra>",
         "legendgroup": "Italy",
         "marker": {
          "color": "#EF553B",
          "pattern": {
           "shape": ""
          }
         },
         "name": "Italy",
         "offsetgroup": "Italy",
         "orientation": "v",
         "showlegend": true,
         "type": "histogram",
         "x": [
          "Italy",
          "Italy",
          "Italy",
          "Italy",
          "Italy",
          "Italy",
          "Italy",
          "Italy",
          "Italy",
          "Italy",
          "Italy",
          "Italy",
          "Italy",
          "Italy",
          "Italy"
         ],
         "xaxis": "x",
         "yaxis": "y"
        },
        {
         "alignmentgroup": "True",
         "bingroup": "x",
         "hovertemplate": "Team=%{x}<br>count=%{y}<extra></extra>",
         "legendgroup": "Soviet Union",
         "marker": {
          "color": "#00cc96",
          "pattern": {
           "shape": ""
          }
         },
         "name": "Soviet Union",
         "offsetgroup": "Soviet Union",
         "orientation": "v",
         "showlegend": true,
         "type": "histogram",
         "x": [
          "Soviet Union",
          "Soviet Union",
          "Soviet Union",
          "Soviet Union",
          "Soviet Union",
          "Soviet Union",
          "Soviet Union",
          "Soviet Union",
          "Soviet Union",
          "Soviet Union",
          "Soviet Union",
          "Soviet Union",
          "Soviet Union",
          "Soviet Union",
          "Soviet Union",
          "Soviet Union",
          "Soviet Union",
          "Soviet Union",
          "Soviet Union"
         ],
         "xaxis": "x",
         "yaxis": "y"
        },
        {
         "alignmentgroup": "True",
         "bingroup": "x",
         "hovertemplate": "Team=%{x}<br>count=%{y}<extra></extra>",
         "legendgroup": "New Zealand",
         "marker": {
          "color": "#ab63fa",
          "pattern": {
           "shape": ""
          }
         },
         "name": "New Zealand",
         "offsetgroup": "New Zealand",
         "orientation": "v",
         "showlegend": true,
         "type": "histogram",
         "x": [
          "New Zealand"
         ],
         "xaxis": "x",
         "yaxis": "y"
        },
        {
         "alignmentgroup": "True",
         "bingroup": "x",
         "hovertemplate": "Team=%{x}<br>count=%{y}<extra></extra>",
         "legendgroup": "Germany",
         "marker": {
          "color": "#FFA15A",
          "pattern": {
           "shape": ""
          }
         },
         "name": "Germany",
         "offsetgroup": "Germany",
         "orientation": "v",
         "showlegend": true,
         "type": "histogram",
         "x": [
          "Germany",
          "Germany",
          "Germany",
          "Germany",
          "Germany",
          "Germany",
          "Germany",
          "Germany",
          "Germany",
          "Germany",
          "Germany",
          "Germany"
         ],
         "xaxis": "x",
         "yaxis": "y"
        },
        {
         "alignmentgroup": "True",
         "bingroup": "x",
         "hovertemplate": "Team=%{x}<br>count=%{y}<extra></extra>",
         "legendgroup": "South Africa",
         "marker": {
          "color": "#19d3f3",
          "pattern": {
           "shape": ""
          }
         },
         "name": "South Africa",
         "offsetgroup": "South Africa",
         "orientation": "v",
         "showlegend": true,
         "type": "histogram",
         "x": [
          "South Africa",
          "South Africa",
          "South Africa",
          "South Africa"
         ],
         "xaxis": "x",
         "yaxis": "y"
        },
        {
         "alignmentgroup": "True",
         "bingroup": "x",
         "hovertemplate": "Team=%{x}<br>count=%{y}<extra></extra>",
         "legendgroup": "Ukraine",
         "marker": {
          "color": "#FF6692",
          "pattern": {
           "shape": ""
          }
         },
         "name": "Ukraine",
         "offsetgroup": "Ukraine",
         "orientation": "v",
         "showlegend": true,
         "type": "histogram",
         "x": [
          "Ukraine",
          "Ukraine",
          "Ukraine"
         ],
         "xaxis": "x",
         "yaxis": "y"
        },
        {
         "alignmentgroup": "True",
         "bingroup": "x",
         "hovertemplate": "Team=%{x}<br>count=%{y}<extra></extra>",
         "legendgroup": "Cameroon",
         "marker": {
          "color": "#B6E880",
          "pattern": {
           "shape": ""
          }
         },
         "name": "Cameroon",
         "offsetgroup": "Cameroon",
         "orientation": "v",
         "showlegend": true,
         "type": "histogram",
         "x": [
          "Cameroon"
         ],
         "xaxis": "x",
         "yaxis": "y"
        },
        {
         "alignmentgroup": "True",
         "bingroup": "x",
         "hovertemplate": "Team=%{x}<br>count=%{y}<extra></extra>",
         "legendgroup": "Turkey",
         "marker": {
          "color": "#FF97FF",
          "pattern": {
           "shape": ""
          }
         },
         "name": "Turkey",
         "offsetgroup": "Turkey",
         "orientation": "v",
         "showlegend": true,
         "type": "histogram",
         "x": [
          "Turkey",
          "Turkey"
         ],
         "xaxis": "x",
         "yaxis": "y"
        },
        {
         "alignmentgroup": "True",
         "bingroup": "x",
         "hovertemplate": "Team=%{x}<br>count=%{y}<extra></extra>",
         "legendgroup": "Thailand",
         "marker": {
          "color": "#FECB52",
          "pattern": {
           "shape": ""
          }
         },
         "name": "Thailand",
         "offsetgroup": "Thailand",
         "orientation": "v",
         "showlegend": true,
         "type": "histogram",
         "x": [
          "Thailand",
          "Thailand",
          "Thailand",
          "Thailand"
         ],
         "xaxis": "x",
         "yaxis": "y"
        },
        {
         "alignmentgroup": "True",
         "bingroup": "x",
         "hovertemplate": "Team=%{x}<br>count=%{y}<extra></extra>",
         "legendgroup": "United States",
         "marker": {
          "color": "#636efa",
          "pattern": {
           "shape": ""
          }
         },
         "name": "United States",
         "offsetgroup": "United States",
         "orientation": "v",
         "showlegend": true,
         "type": "histogram",
         "x": [
          "United States",
          "United States",
          "United States",
          "United States",
          "United States",
          "United States",
          "United States",
          "United States",
          "United States",
          "United States",
          "United States",
          "United States",
          "United States",
          "United States",
          "United States",
          "United States",
          "United States",
          "United States",
          "United States",
          "United States",
          "United States",
          "United States",
          "United States",
          "United States"
         ],
         "xaxis": "x",
         "yaxis": "y"
        },
        {
         "alignmentgroup": "True",
         "bingroup": "x",
         "hovertemplate": "Team=%{x}<br>count=%{y}<extra></extra>",
         "legendgroup": "Mexico",
         "marker": {
          "color": "#EF553B",
          "pattern": {
           "shape": ""
          }
         },
         "name": "Mexico",
         "offsetgroup": "Mexico",
         "orientation": "v",
         "showlegend": true,
         "type": "histogram",
         "x": [
          "Mexico",
          "Mexico",
          "Mexico"
         ],
         "xaxis": "x",
         "yaxis": "y"
        },
        {
         "alignmentgroup": "True",
         "bingroup": "x",
         "hovertemplate": "Team=%{x}<br>count=%{y}<extra></extra>",
         "legendgroup": "Australia",
         "marker": {
          "color": "#00cc96",
          "pattern": {
           "shape": ""
          }
         },
         "name": "Australia",
         "offsetgroup": "Australia",
         "orientation": "v",
         "showlegend": true,
         "type": "histogram",
         "x": [
          "Australia"
         ],
         "xaxis": "x",
         "yaxis": "y"
        },
        {
         "alignmentgroup": "True",
         "bingroup": "x",
         "hovertemplate": "Team=%{x}<br>count=%{y}<extra></extra>",
         "legendgroup": "Great Britain",
         "marker": {
          "color": "#ab63fa",
          "pattern": {
           "shape": ""
          }
         },
         "name": "Great Britain",
         "offsetgroup": "Great Britain",
         "orientation": "v",
         "showlegend": true,
         "type": "histogram",
         "x": [
          "Great Britain",
          "Great Britain",
          "Great Britain",
          "Great Britain",
          "Great Britain",
          "Great Britain",
          "Great Britain",
          "Great Britain",
          "Great Britain",
          "Great Britain",
          "Great Britain",
          "Great Britain",
          "Great Britain"
         ],
         "xaxis": "x",
         "yaxis": "y"
        },
        {
         "alignmentgroup": "True",
         "bingroup": "x",
         "hovertemplate": "Team=%{x}<br>count=%{y}<extra></extra>",
         "legendgroup": "Canada",
         "marker": {
          "color": "#FFA15A",
          "pattern": {
           "shape": ""
          }
         },
         "name": "Canada",
         "offsetgroup": "Canada",
         "orientation": "v",
         "showlegend": true,
         "type": "histogram",
         "x": [
          "Canada",
          "Canada",
          "Canada",
          "Canada",
          "Canada",
          "Canada",
          "Canada"
         ],
         "xaxis": "x",
         "yaxis": "y"
        },
        {
         "alignmentgroup": "True",
         "bingroup": "x",
         "hovertemplate": "Team=%{x}<br>count=%{y}<extra></extra>",
         "legendgroup": "Netherlands",
         "marker": {
          "color": "#19d3f3",
          "pattern": {
           "shape": ""
          }
         },
         "name": "Netherlands",
         "offsetgroup": "Netherlands",
         "orientation": "v",
         "showlegend": true,
         "type": "histogram",
         "x": [
          "Netherlands",
          "Netherlands"
         ],
         "xaxis": "x",
         "yaxis": "y"
        },
        {
         "alignmentgroup": "True",
         "bingroup": "x",
         "hovertemplate": "Team=%{x}<br>count=%{y}<extra></extra>",
         "legendgroup": "Kazakhstan",
         "marker": {
          "color": "#FF6692",
          "pattern": {
           "shape": ""
          }
         },
         "name": "Kazakhstan",
         "offsetgroup": "Kazakhstan",
         "orientation": "v",
         "showlegend": true,
         "type": "histogram",
         "x": [
          "Kazakhstan",
          "Kazakhstan",
          "Kazakhstan",
          "Kazakhstan",
          "Kazakhstan",
          "Kazakhstan",
          "Kazakhstan"
         ],
         "xaxis": "x",
         "yaxis": "y"
        },
        {
         "alignmentgroup": "True",
         "bingroup": "x",
         "hovertemplate": "Team=%{x}<br>count=%{y}<extra></extra>",
         "legendgroup": "Ireland",
         "marker": {
          "color": "#B6E880",
          "pattern": {
           "shape": ""
          }
         },
         "name": "Ireland",
         "offsetgroup": "Ireland",
         "orientation": "v",
         "showlegend": true,
         "type": "histogram",
         "x": [
          "Ireland",
          "Ireland",
          "Ireland",
          "Ireland",
          "Ireland"
         ],
         "xaxis": "x",
         "yaxis": "y"
        },
        {
         "alignmentgroup": "True",
         "bingroup": "x",
         "hovertemplate": "Team=%{x}<br>count=%{y}<extra></extra>",
         "legendgroup": "Brazil",
         "marker": {
          "color": "#FF97FF",
          "pattern": {
           "shape": ""
          }
         },
         "name": "Brazil",
         "offsetgroup": "Brazil",
         "orientation": "v",
         "showlegend": true,
         "type": "histogram",
         "x": [
          "Brazil"
         ],
         "xaxis": "x",
         "yaxis": "y"
        },
        {
         "alignmentgroup": "True",
         "bingroup": "x",
         "hovertemplate": "Team=%{x}<br>count=%{y}<extra></extra>",
         "legendgroup": "Venezuela",
         "marker": {
          "color": "#FECB52",
          "pattern": {
           "shape": ""
          }
         },
         "name": "Venezuela",
         "offsetgroup": "Venezuela",
         "orientation": "v",
         "showlegend": true,
         "type": "histogram",
         "x": [
          "Venezuela",
          "Venezuela"
         ],
         "xaxis": "x",
         "yaxis": "y"
        },
        {
         "alignmentgroup": "True",
         "bingroup": "x",
         "hovertemplate": "Team=%{x}<br>count=%{y}<extra></extra>",
         "legendgroup": "Russia",
         "marker": {
          "color": "#636efa",
          "pattern": {
           "shape": ""
          }
         },
         "name": "Russia",
         "offsetgroup": "Russia",
         "orientation": "v",
         "showlegend": true,
         "type": "histogram",
         "x": [
          "Russia",
          "Russia",
          "Russia",
          "Russia",
          "Russia"
         ],
         "xaxis": "x",
         "yaxis": "y"
        },
        {
         "alignmentgroup": "True",
         "bingroup": "x",
         "hovertemplate": "Team=%{x}<br>count=%{y}<extra></extra>",
         "legendgroup": "Uzbekistan",
         "marker": {
          "color": "#EF553B",
          "pattern": {
           "shape": ""
          }
         },
         "name": "Uzbekistan",
         "offsetgroup": "Uzbekistan",
         "orientation": "v",
         "showlegend": true,
         "type": "histogram",
         "x": [
          "Uzbekistan",
          "Uzbekistan"
         ],
         "xaxis": "x",
         "yaxis": "y"
        },
        {
         "alignmentgroup": "True",
         "bingroup": "x",
         "hovertemplate": "Team=%{x}<br>count=%{y}<extra></extra>",
         "legendgroup": "Czechoslovakia",
         "marker": {
          "color": "#00cc96",
          "pattern": {
           "shape": ""
          }
         },
         "name": "Czechoslovakia",
         "offsetgroup": "Czechoslovakia",
         "orientation": "v",
         "showlegend": true,
         "type": "histogram",
         "x": [
          "Czechoslovakia"
         ],
         "xaxis": "x",
         "yaxis": "y"
        },
        {
         "alignmentgroup": "True",
         "bingroup": "x",
         "hovertemplate": "Team=%{x}<br>count=%{y}<extra></extra>",
         "legendgroup": "Nigeria",
         "marker": {
          "color": "#ab63fa",
          "pattern": {
           "shape": ""
          }
         },
         "name": "Nigeria",
         "offsetgroup": "Nigeria",
         "orientation": "v",
         "showlegend": true,
         "type": "histogram",
         "x": [
          "Nigeria",
          "Nigeria",
          "Nigeria"
         ],
         "xaxis": "x",
         "yaxis": "y"
        },
        {
         "alignmentgroup": "True",
         "bingroup": "x",
         "hovertemplate": "Team=%{x}<br>count=%{y}<extra></extra>",
         "legendgroup": "Denmark",
         "marker": {
          "color": "#FFA15A",
          "pattern": {
           "shape": ""
          }
         },
         "name": "Denmark",
         "offsetgroup": "Denmark",
         "orientation": "v",
         "showlegend": true,
         "type": "histogram",
         "x": [
          "Denmark",
          "Denmark",
          "Denmark",
          "Denmark",
          "Denmark"
         ],
         "xaxis": "x",
         "yaxis": "y"
        },
        {
         "alignmentgroup": "True",
         "bingroup": "x",
         "hovertemplate": "Team=%{x}<br>count=%{y}<extra></extra>",
         "legendgroup": "Yugoslavia",
         "marker": {
          "color": "#19d3f3",
          "pattern": {
           "shape": ""
          }
         },
         "name": "Yugoslavia",
         "offsetgroup": "Yugoslavia",
         "orientation": "v",
         "showlegend": true,
         "type": "histogram",
         "x": [
          "Yugoslavia",
          "Yugoslavia"
         ],
         "xaxis": "x",
         "yaxis": "y"
        },
        {
         "alignmentgroup": "True",
         "bingroup": "x",
         "hovertemplate": "Team=%{x}<br>count=%{y}<extra></extra>",
         "legendgroup": "Hungary",
         "marker": {
          "color": "#FF6692",
          "pattern": {
           "shape": ""
          }
         },
         "name": "Hungary",
         "offsetgroup": "Hungary",
         "orientation": "v",
         "showlegend": true,
         "type": "histogram",
         "x": [
          "Hungary",
          "Hungary"
         ],
         "xaxis": "x",
         "yaxis": "y"
        },
        {
         "alignmentgroup": "True",
         "bingroup": "x",
         "hovertemplate": "Team=%{x}<br>count=%{y}<extra></extra>",
         "legendgroup": "North Korea",
         "marker": {
          "color": "#B6E880",
          "pattern": {
           "shape": ""
          }
         },
         "name": "North Korea",
         "offsetgroup": "North Korea",
         "orientation": "v",
         "showlegend": true,
         "type": "histogram",
         "x": [
          "North Korea",
          "North Korea",
          "North Korea"
         ],
         "xaxis": "x",
         "yaxis": "y"
        },
        {
         "alignmentgroup": "True",
         "bingroup": "x",
         "hovertemplate": "Team=%{x}<br>count=%{y}<extra></extra>",
         "legendgroup": "Czech Republic",
         "marker": {
          "color": "#FF97FF",
          "pattern": {
           "shape": ""
          }
         },
         "name": "Czech Republic",
         "offsetgroup": "Czech Republic",
         "orientation": "v",
         "showlegend": true,
         "type": "histogram",
         "x": [
          "Czech Republic"
         ],
         "xaxis": "x",
         "yaxis": "y"
        },
        {
         "alignmentgroup": "True",
         "bingroup": "x",
         "hovertemplate": "Team=%{x}<br>count=%{y}<extra></extra>",
         "legendgroup": "Spain",
         "marker": {
          "color": "#FECB52",
          "pattern": {
           "shape": ""
          }
         },
         "name": "Spain",
         "offsetgroup": "Spain",
         "orientation": "v",
         "showlegend": true,
         "type": "histogram",
         "x": [
          "Spain",
          "Spain"
         ],
         "xaxis": "x",
         "yaxis": "y"
        },
        {
         "alignmentgroup": "True",
         "bingroup": "x",
         "hovertemplate": "Team=%{x}<br>count=%{y}<extra></extra>",
         "legendgroup": "Colombia",
         "marker": {
          "color": "#636efa",
          "pattern": {
           "shape": ""
          }
         },
         "name": "Colombia",
         "offsetgroup": "Colombia",
         "orientation": "v",
         "showlegend": true,
         "type": "histogram",
         "x": [
          "Colombia"
         ],
         "xaxis": "x",
         "yaxis": "y"
        },
        {
         "alignmentgroup": "True",
         "bingroup": "x",
         "hovertemplate": "Team=%{x}<br>count=%{y}<extra></extra>",
         "legendgroup": "Uganda",
         "marker": {
          "color": "#EF553B",
          "pattern": {
           "shape": ""
          }
         },
         "name": "Uganda",
         "offsetgroup": "Uganda",
         "orientation": "v",
         "showlegend": true,
         "type": "histogram",
         "x": [
          "Uganda",
          "Uganda",
          "Uganda"
         ],
         "xaxis": "x",
         "yaxis": "y"
        },
        {
         "alignmentgroup": "True",
         "bingroup": "x",
         "hovertemplate": "Team=%{x}<br>count=%{y}<extra></extra>",
         "legendgroup": "East Germany",
         "marker": {
          "color": "#00cc96",
          "pattern": {
           "shape": ""
          }
         },
         "name": "East Germany",
         "offsetgroup": "East Germany",
         "orientation": "v",
         "showlegend": true,
         "type": "histogram",
         "x": [
          "East Germany",
          "East Germany"
         ],
         "xaxis": "x",
         "yaxis": "y"
        },
        {
         "alignmentgroup": "True",
         "bingroup": "x",
         "hovertemplate": "Team=%{x}<br>count=%{y}<extra></extra>",
         "legendgroup": "Mongolia",
         "marker": {
          "color": "#ab63fa",
          "pattern": {
           "shape": ""
          }
         },
         "name": "Mongolia",
         "offsetgroup": "Mongolia",
         "orientation": "v",
         "showlegend": true,
         "type": "histogram",
         "x": [
          "Mongolia",
          "Mongolia"
         ],
         "xaxis": "x",
         "yaxis": "y"
        },
        {
         "alignmentgroup": "True",
         "bingroup": "x",
         "hovertemplate": "Team=%{x}<br>count=%{y}<extra></extra>",
         "legendgroup": "Puerto Rico",
         "marker": {
          "color": "#FFA15A",
          "pattern": {
           "shape": ""
          }
         },
         "name": "Puerto Rico",
         "offsetgroup": "Puerto Rico",
         "orientation": "v",
         "showlegend": true,
         "type": "histogram",
         "x": [
          "Puerto Rico"
         ],
         "xaxis": "x",
         "yaxis": "y"
        },
        {
         "alignmentgroup": "True",
         "bingroup": "x",
         "hovertemplate": "Team=%{x}<br>count=%{y}<extra></extra>",
         "legendgroup": "Ghana",
         "marker": {
          "color": "#19d3f3",
          "pattern": {
           "shape": ""
          }
         },
         "name": "Ghana",
         "offsetgroup": "Ghana",
         "orientation": "v",
         "showlegend": true,
         "type": "histogram",
         "x": [
          "Ghana"
         ],
         "xaxis": "x",
         "yaxis": "y"
        },
        {
         "alignmentgroup": "True",
         "bingroup": "x",
         "hovertemplate": "Team=%{x}<br>count=%{y}<extra></extra>",
         "legendgroup": "China",
         "marker": {
          "color": "#FF6692",
          "pattern": {
           "shape": ""
          }
         },
         "name": "China",
         "offsetgroup": "China",
         "orientation": "v",
         "showlegend": true,
         "type": "histogram",
         "x": [
          "China",
          "China",
          "China"
         ],
         "xaxis": "x",
         "yaxis": "y"
        },
        {
         "alignmentgroup": "True",
         "bingroup": "x",
         "hovertemplate": "Team=%{x}<br>count=%{y}<extra></extra>",
         "legendgroup": "Azerbaijan",
         "marker": {
          "color": "#B6E880",
          "pattern": {
           "shape": ""
          }
         },
         "name": "Azerbaijan",
         "offsetgroup": "Azerbaijan",
         "orientation": "v",
         "showlegend": true,
         "type": "histogram",
         "x": [
          "Azerbaijan"
         ],
         "xaxis": "x",
         "yaxis": "y"
        },
        {
         "alignmentgroup": "True",
         "bingroup": "x",
         "hovertemplate": "Team=%{x}<br>count=%{y}<extra></extra>",
         "legendgroup": "Norway",
         "marker": {
          "color": "#FF97FF",
          "pattern": {
           "shape": ""
          }
         },
         "name": "Norway",
         "offsetgroup": "Norway",
         "orientation": "v",
         "showlegend": true,
         "type": "histogram",
         "x": [
          "Norway",
          "Norway"
         ],
         "xaxis": "x",
         "yaxis": "y"
        },
        {
         "alignmentgroup": "True",
         "bingroup": "x",
         "hovertemplate": "Team=%{x}<br>count=%{y}<extra></extra>",
         "legendgroup": "Estonia",
         "marker": {
          "color": "#FECB52",
          "pattern": {
           "shape": ""
          }
         },
         "name": "Estonia",
         "offsetgroup": "Estonia",
         "orientation": "v",
         "showlegend": true,
         "type": "histogram",
         "x": [
          "Estonia"
         ],
         "xaxis": "x",
         "yaxis": "y"
        },
        {
         "alignmentgroup": "True",
         "bingroup": "x",
         "hovertemplate": "Team=%{x}<br>count=%{y}<extra></extra>",
         "legendgroup": "Chile",
         "marker": {
          "color": "#636efa",
          "pattern": {
           "shape": ""
          }
         },
         "name": "Chile",
         "offsetgroup": "Chile",
         "orientation": "v",
         "showlegend": true,
         "type": "histogram",
         "x": [
          "Chile"
         ],
         "xaxis": "x",
         "yaxis": "y"
        },
        {
         "alignmentgroup": "True",
         "bingroup": "x",
         "hovertemplate": "Team=%{x}<br>count=%{y}<extra></extra>",
         "legendgroup": "Philippines",
         "marker": {
          "color": "#EF553B",
          "pattern": {
           "shape": ""
          }
         },
         "name": "Philippines",
         "offsetgroup": "Philippines",
         "orientation": "v",
         "showlegend": true,
         "type": "histogram",
         "x": [
          "Philippines",
          "Philippines"
         ],
         "xaxis": "x",
         "yaxis": "y"
        },
        {
         "alignmentgroup": "True",
         "bingroup": "x",
         "hovertemplate": "Team=%{x}<br>count=%{y}<extra></extra>",
         "legendgroup": "Finland",
         "marker": {
          "color": "#00cc96",
          "pattern": {
           "shape": ""
          }
         },
         "name": "Finland",
         "offsetgroup": "Finland",
         "orientation": "v",
         "showlegend": true,
         "type": "histogram",
         "x": [
          "Finland"
         ],
         "xaxis": "x",
         "yaxis": "y"
        },
        {
         "alignmentgroup": "True",
         "bingroup": "x",
         "hovertemplate": "Team=%{x}<br>count=%{y}<extra></extra>",
         "legendgroup": "Belgium",
         "marker": {
          "color": "#ab63fa",
          "pattern": {
           "shape": ""
          }
         },
         "name": "Belgium",
         "offsetgroup": "Belgium",
         "orientation": "v",
         "showlegend": true,
         "type": "histogram",
         "x": [
          "Belgium"
         ],
         "xaxis": "x",
         "yaxis": "y"
        },
        {
         "alignmentgroup": "True",
         "bingroup": "x",
         "hovertemplate": "Team=%{x}<br>count=%{y}<extra></extra>",
         "legendgroup": "Kenya",
         "marker": {
          "color": "#FFA15A",
          "pattern": {
           "shape": ""
          }
         },
         "name": "Kenya",
         "offsetgroup": "Kenya",
         "orientation": "v",
         "showlegend": true,
         "type": "histogram",
         "x": [
          "Kenya"
         ],
         "xaxis": "x",
         "yaxis": "y"
        },
        {
         "alignmentgroup": "True",
         "bingroup": "x",
         "hovertemplate": "Team=%{x}<br>count=%{y}<extra></extra>",
         "legendgroup": "Tonga",
         "marker": {
          "color": "#19d3f3",
          "pattern": {
           "shape": ""
          }
         },
         "name": "Tonga",
         "offsetgroup": "Tonga",
         "orientation": "v",
         "showlegend": true,
         "type": "histogram",
         "x": [
          "Tonga"
         ],
         "xaxis": "x",
         "yaxis": "y"
        },
        {
         "alignmentgroup": "True",
         "bingroup": "x",
         "hovertemplate": "Team=%{x}<br>count=%{y}<extra></extra>",
         "legendgroup": "Unified Team",
         "marker": {
          "color": "#FF6692",
          "pattern": {
           "shape": ""
          }
         },
         "name": "Unified Team",
         "offsetgroup": "Unified Team",
         "orientation": "v",
         "showlegend": true,
         "type": "histogram",
         "x": [
          "Unified Team"
         ],
         "xaxis": "x",
         "yaxis": "y"
        }
       ],
       "layout": {
        "barmode": "relative",
        "legend": {
         "title": {
          "text": "Team"
         },
         "tracegroupgap": 0
        },
        "template": {
         "data": {
          "bar": [
           {
            "error_x": {
             "color": "#2a3f5f"
            },
            "error_y": {
             "color": "#2a3f5f"
            },
            "marker": {
             "line": {
              "color": "#E5ECF6",
              "width": 0.5
             },
             "pattern": {
              "fillmode": "overlay",
              "size": 10,
              "solidity": 0.2
             }
            },
            "type": "bar"
           }
          ],
          "barpolar": [
           {
            "marker": {
             "line": {
              "color": "#E5ECF6",
              "width": 0.5
             },
             "pattern": {
              "fillmode": "overlay",
              "size": 10,
              "solidity": 0.2
             }
            },
            "type": "barpolar"
           }
          ],
          "carpet": [
           {
            "aaxis": {
             "endlinecolor": "#2a3f5f",
             "gridcolor": "white",
             "linecolor": "white",
             "minorgridcolor": "white",
             "startlinecolor": "#2a3f5f"
            },
            "baxis": {
             "endlinecolor": "#2a3f5f",
             "gridcolor": "white",
             "linecolor": "white",
             "minorgridcolor": "white",
             "startlinecolor": "#2a3f5f"
            },
            "type": "carpet"
           }
          ],
          "choropleth": [
           {
            "colorbar": {
             "outlinewidth": 0,
             "ticks": ""
            },
            "type": "choropleth"
           }
          ],
          "contour": [
           {
            "colorbar": {
             "outlinewidth": 0,
             "ticks": ""
            },
            "colorscale": [
             [
              0,
              "#0d0887"
             ],
             [
              0.1111111111111111,
              "#46039f"
             ],
             [
              0.2222222222222222,
              "#7201a8"
             ],
             [
              0.3333333333333333,
              "#9c179e"
             ],
             [
              0.4444444444444444,
              "#bd3786"
             ],
             [
              0.5555555555555556,
              "#d8576b"
             ],
             [
              0.6666666666666666,
              "#ed7953"
             ],
             [
              0.7777777777777778,
              "#fb9f3a"
             ],
             [
              0.8888888888888888,
              "#fdca26"
             ],
             [
              1,
              "#f0f921"
             ]
            ],
            "type": "contour"
           }
          ],
          "contourcarpet": [
           {
            "colorbar": {
             "outlinewidth": 0,
             "ticks": ""
            },
            "type": "contourcarpet"
           }
          ],
          "heatmap": [
           {
            "colorbar": {
             "outlinewidth": 0,
             "ticks": ""
            },
            "colorscale": [
             [
              0,
              "#0d0887"
             ],
             [
              0.1111111111111111,
              "#46039f"
             ],
             [
              0.2222222222222222,
              "#7201a8"
             ],
             [
              0.3333333333333333,
              "#9c179e"
             ],
             [
              0.4444444444444444,
              "#bd3786"
             ],
             [
              0.5555555555555556,
              "#d8576b"
             ],
             [
              0.6666666666666666,
              "#ed7953"
             ],
             [
              0.7777777777777778,
              "#fb9f3a"
             ],
             [
              0.8888888888888888,
              "#fdca26"
             ],
             [
              1,
              "#f0f921"
             ]
            ],
            "type": "heatmap"
           }
          ],
          "heatmapgl": [
           {
            "colorbar": {
             "outlinewidth": 0,
             "ticks": ""
            },
            "colorscale": [
             [
              0,
              "#0d0887"
             ],
             [
              0.1111111111111111,
              "#46039f"
             ],
             [
              0.2222222222222222,
              "#7201a8"
             ],
             [
              0.3333333333333333,
              "#9c179e"
             ],
             [
              0.4444444444444444,
              "#bd3786"
             ],
             [
              0.5555555555555556,
              "#d8576b"
             ],
             [
              0.6666666666666666,
              "#ed7953"
             ],
             [
              0.7777777777777778,
              "#fb9f3a"
             ],
             [
              0.8888888888888888,
              "#fdca26"
             ],
             [
              1,
              "#f0f921"
             ]
            ],
            "type": "heatmapgl"
           }
          ],
          "histogram": [
           {
            "marker": {
             "pattern": {
              "fillmode": "overlay",
              "size": 10,
              "solidity": 0.2
             }
            },
            "type": "histogram"
           }
          ],
          "histogram2d": [
           {
            "colorbar": {
             "outlinewidth": 0,
             "ticks": ""
            },
            "colorscale": [
             [
              0,
              "#0d0887"
             ],
             [
              0.1111111111111111,
              "#46039f"
             ],
             [
              0.2222222222222222,
              "#7201a8"
             ],
             [
              0.3333333333333333,
              "#9c179e"
             ],
             [
              0.4444444444444444,
              "#bd3786"
             ],
             [
              0.5555555555555556,
              "#d8576b"
             ],
             [
              0.6666666666666666,
              "#ed7953"
             ],
             [
              0.7777777777777778,
              "#fb9f3a"
             ],
             [
              0.8888888888888888,
              "#fdca26"
             ],
             [
              1,
              "#f0f921"
             ]
            ],
            "type": "histogram2d"
           }
          ],
          "histogram2dcontour": [
           {
            "colorbar": {
             "outlinewidth": 0,
             "ticks": ""
            },
            "colorscale": [
             [
              0,
              "#0d0887"
             ],
             [
              0.1111111111111111,
              "#46039f"
             ],
             [
              0.2222222222222222,
              "#7201a8"
             ],
             [
              0.3333333333333333,
              "#9c179e"
             ],
             [
              0.4444444444444444,
              "#bd3786"
             ],
             [
              0.5555555555555556,
              "#d8576b"
             ],
             [
              0.6666666666666666,
              "#ed7953"
             ],
             [
              0.7777777777777778,
              "#fb9f3a"
             ],
             [
              0.8888888888888888,
              "#fdca26"
             ],
             [
              1,
              "#f0f921"
             ]
            ],
            "type": "histogram2dcontour"
           }
          ],
          "mesh3d": [
           {
            "colorbar": {
             "outlinewidth": 0,
             "ticks": ""
            },
            "type": "mesh3d"
           }
          ],
          "parcoords": [
           {
            "line": {
             "colorbar": {
              "outlinewidth": 0,
              "ticks": ""
             }
            },
            "type": "parcoords"
           }
          ],
          "pie": [
           {
            "automargin": true,
            "type": "pie"
           }
          ],
          "scatter": [
           {
            "fillpattern": {
             "fillmode": "overlay",
             "size": 10,
             "solidity": 0.2
            },
            "type": "scatter"
           }
          ],
          "scatter3d": [
           {
            "line": {
             "colorbar": {
              "outlinewidth": 0,
              "ticks": ""
             }
            },
            "marker": {
             "colorbar": {
              "outlinewidth": 0,
              "ticks": ""
             }
            },
            "type": "scatter3d"
           }
          ],
          "scattercarpet": [
           {
            "marker": {
             "colorbar": {
              "outlinewidth": 0,
              "ticks": ""
             }
            },
            "type": "scattercarpet"
           }
          ],
          "scattergeo": [
           {
            "marker": {
             "colorbar": {
              "outlinewidth": 0,
              "ticks": ""
             }
            },
            "type": "scattergeo"
           }
          ],
          "scattergl": [
           {
            "marker": {
             "colorbar": {
              "outlinewidth": 0,
              "ticks": ""
             }
            },
            "type": "scattergl"
           }
          ],
          "scattermapbox": [
           {
            "marker": {
             "colorbar": {
              "outlinewidth": 0,
              "ticks": ""
             }
            },
            "type": "scattermapbox"
           }
          ],
          "scatterpolar": [
           {
            "marker": {
             "colorbar": {
              "outlinewidth": 0,
              "ticks": ""
             }
            },
            "type": "scatterpolar"
           }
          ],
          "scatterpolargl": [
           {
            "marker": {
             "colorbar": {
              "outlinewidth": 0,
              "ticks": ""
             }
            },
            "type": "scatterpolargl"
           }
          ],
          "scatterternary": [
           {
            "marker": {
             "colorbar": {
              "outlinewidth": 0,
              "ticks": ""
             }
            },
            "type": "scatterternary"
           }
          ],
          "surface": [
           {
            "colorbar": {
             "outlinewidth": 0,
             "ticks": ""
            },
            "colorscale": [
             [
              0,
              "#0d0887"
             ],
             [
              0.1111111111111111,
              "#46039f"
             ],
             [
              0.2222222222222222,
              "#7201a8"
             ],
             [
              0.3333333333333333,
              "#9c179e"
             ],
             [
              0.4444444444444444,
              "#bd3786"
             ],
             [
              0.5555555555555556,
              "#d8576b"
             ],
             [
              0.6666666666666666,
              "#ed7953"
             ],
             [
              0.7777777777777778,
              "#fb9f3a"
             ],
             [
              0.8888888888888888,
              "#fdca26"
             ],
             [
              1,
              "#f0f921"
             ]
            ],
            "type": "surface"
           }
          ],
          "table": [
           {
            "cells": {
             "fill": {
              "color": "#EBF0F8"
             },
             "line": {
              "color": "white"
             }
            },
            "header": {
             "fill": {
              "color": "#C8D4E3"
             },
             "line": {
              "color": "white"
             }
            },
            "type": "table"
           }
          ]
         },
         "layout": {
          "annotationdefaults": {
           "arrowcolor": "#2a3f5f",
           "arrowhead": 0,
           "arrowwidth": 1
          },
          "autotypenumbers": "strict",
          "coloraxis": {
           "colorbar": {
            "outlinewidth": 0,
            "ticks": ""
           }
          },
          "colorscale": {
           "diverging": [
            [
             0,
             "#8e0152"
            ],
            [
             0.1,
             "#c51b7d"
            ],
            [
             0.2,
             "#de77ae"
            ],
            [
             0.3,
             "#f1b6da"
            ],
            [
             0.4,
             "#fde0ef"
            ],
            [
             0.5,
             "#f7f7f7"
            ],
            [
             0.6,
             "#e6f5d0"
            ],
            [
             0.7,
             "#b8e186"
            ],
            [
             0.8,
             "#7fbc41"
            ],
            [
             0.9,
             "#4d9221"
            ],
            [
             1,
             "#276419"
            ]
           ],
           "sequential": [
            [
             0,
             "#0d0887"
            ],
            [
             0.1111111111111111,
             "#46039f"
            ],
            [
             0.2222222222222222,
             "#7201a8"
            ],
            [
             0.3333333333333333,
             "#9c179e"
            ],
            [
             0.4444444444444444,
             "#bd3786"
            ],
            [
             0.5555555555555556,
             "#d8576b"
            ],
            [
             0.6666666666666666,
             "#ed7953"
            ],
            [
             0.7777777777777778,
             "#fb9f3a"
            ],
            [
             0.8888888888888888,
             "#fdca26"
            ],
            [
             1,
             "#f0f921"
            ]
           ],
           "sequentialminus": [
            [
             0,
             "#0d0887"
            ],
            [
             0.1111111111111111,
             "#46039f"
            ],
            [
             0.2222222222222222,
             "#7201a8"
            ],
            [
             0.3333333333333333,
             "#9c179e"
            ],
            [
             0.4444444444444444,
             "#bd3786"
            ],
            [
             0.5555555555555556,
             "#d8576b"
            ],
            [
             0.6666666666666666,
             "#ed7953"
            ],
            [
             0.7777777777777778,
             "#fb9f3a"
            ],
            [
             0.8888888888888888,
             "#fdca26"
            ],
            [
             1,
             "#f0f921"
            ]
           ]
          },
          "colorway": [
           "#636efa",
           "#EF553B",
           "#00cc96",
           "#ab63fa",
           "#FFA15A",
           "#19d3f3",
           "#FF6692",
           "#B6E880",
           "#FF97FF",
           "#FECB52"
          ],
          "font": {
           "color": "#2a3f5f"
          },
          "geo": {
           "bgcolor": "white",
           "lakecolor": "white",
           "landcolor": "#E5ECF6",
           "showlakes": true,
           "showland": true,
           "subunitcolor": "white"
          },
          "hoverlabel": {
           "align": "left"
          },
          "hovermode": "closest",
          "mapbox": {
           "style": "light"
          },
          "paper_bgcolor": "white",
          "plot_bgcolor": "#E5ECF6",
          "polar": {
           "angularaxis": {
            "gridcolor": "white",
            "linecolor": "white",
            "ticks": ""
           },
           "bgcolor": "#E5ECF6",
           "radialaxis": {
            "gridcolor": "white",
            "linecolor": "white",
            "ticks": ""
           }
          },
          "scene": {
           "xaxis": {
            "backgroundcolor": "#E5ECF6",
            "gridcolor": "white",
            "gridwidth": 2,
            "linecolor": "white",
            "showbackground": true,
            "ticks": "",
            "zerolinecolor": "white"
           },
           "yaxis": {
            "backgroundcolor": "#E5ECF6",
            "gridcolor": "white",
            "gridwidth": 2,
            "linecolor": "white",
            "showbackground": true,
            "ticks": "",
            "zerolinecolor": "white"
           },
           "zaxis": {
            "backgroundcolor": "#E5ECF6",
            "gridcolor": "white",
            "gridwidth": 2,
            "linecolor": "white",
            "showbackground": true,
            "ticks": "",
            "zerolinecolor": "white"
           }
          },
          "shapedefaults": {
           "line": {
            "color": "#2a3f5f"
           }
          },
          "ternary": {
           "aaxis": {
            "gridcolor": "white",
            "linecolor": "white",
            "ticks": ""
           },
           "baxis": {
            "gridcolor": "white",
            "linecolor": "white",
            "ticks": ""
           },
           "bgcolor": "#E5ECF6",
           "caxis": {
            "gridcolor": "white",
            "linecolor": "white",
            "ticks": ""
           }
          },
          "title": {
           "x": 0.05
          },
          "xaxis": {
           "automargin": true,
           "gridcolor": "white",
           "linecolor": "white",
           "ticks": "",
           "title": {
            "standoff": 15
           },
           "zerolinecolor": "white",
           "zerolinewidth": 2
          },
          "yaxis": {
           "automargin": true,
           "gridcolor": "white",
           "linecolor": "white",
           "ticks": "",
           "title": {
            "standoff": 15
           },
           "zerolinecolor": "white",
           "zerolinewidth": 2
          }
         }
        },
        "title": {
         "text": "Distribution of silver medals for each team in boxing"
        },
        "xaxis": {
         "anchor": "y",
         "categoryarray": [
          "Poland",
          "Sweden",
          "Cuba",
          "Romania",
          "Egypt",
          "South Korea",
          "Bulgaria",
          "France",
          "Belarus",
          "Argentina",
          "Australasia",
          "Italy",
          "Soviet Union",
          "New Zealand",
          "Germany",
          "South Africa",
          "Ukraine",
          "Cameroon",
          "Turkey",
          "Thailand",
          "United States",
          "Mexico",
          "Australia",
          "Great Britain",
          "Canada",
          "Netherlands",
          "Kazakhstan",
          "Ireland",
          "Brazil",
          "Venezuela",
          "Russia",
          "Uzbekistan",
          "Czechoslovakia",
          "Nigeria",
          "Denmark",
          "Yugoslavia",
          "Hungary",
          "North Korea",
          "Czech Republic",
          "Spain",
          "Colombia",
          "Uganda",
          "East Germany",
          "Mongolia",
          "Puerto Rico",
          "Ghana",
          "China",
          "Azerbaijan",
          "Norway",
          "Estonia",
          "Chile",
          "Philippines",
          "Finland",
          "Belgium",
          "Kenya",
          "Tonga",
          "Unified Team"
         ],
         "categoryorder": "array",
         "domain": [
          0,
          1
         ],
         "title": {
          "text": "Team"
         }
        },
        "yaxis": {
         "anchor": "x",
         "domain": [
          0,
          1
         ],
         "title": {
          "text": "count"
         },
         "type": "log"
        }
       }
      }
     },
     "metadata": {},
     "output_type": "display_data"
    }
   ],
   "source": [
    "# plot the distribution of silver medals for each team\n",
    "fig = px.histogram(\n",
    "    df_boxing_silver,\n",
    "    x=\"Team\",\n",
    "    log_y=True,\n",
    "    color=\"Team\",\n",
    "    title=\"Distribution of silver medals for each team in boxing\",\n",
    "    labels={\"Team\": \"Team\", \"count\": \"Number of silver medals\"},\n",
    ")\n",
    "fig.show()"
   ]
  },
  {
   "cell_type": "code",
   "execution_count": 722,
   "metadata": {},
   "outputs": [
    {
     "data": {
      "text/html": [
       "<div>\n",
       "<style scoped>\n",
       "    .dataframe tbody tr th:only-of-type {\n",
       "        vertical-align: middle;\n",
       "    }\n",
       "\n",
       "    .dataframe tbody tr th {\n",
       "        vertical-align: top;\n",
       "    }\n",
       "\n",
       "    .dataframe thead th {\n",
       "        text-align: right;\n",
       "    }\n",
       "</style>\n",
       "<table border=\"1\" class=\"dataframe\">\n",
       "  <thead>\n",
       "    <tr style=\"text-align: right;\">\n",
       "      <th></th>\n",
       "      <th>Age</th>\n",
       "      <th>Team</th>\n",
       "      <th>Medal</th>\n",
       "    </tr>\n",
       "  </thead>\n",
       "  <tbody>\n",
       "    <tr>\n",
       "      <th>134</th>\n",
       "      <td>21</td>\n",
       "      <td>Puerto Rico</td>\n",
       "      <td>Bronze</td>\n",
       "    </tr>\n",
       "    <tr>\n",
       "      <th>140</th>\n",
       "      <td>29</td>\n",
       "      <td>Morocco</td>\n",
       "      <td>Bronze</td>\n",
       "    </tr>\n",
       "    <tr>\n",
       "      <th>142</th>\n",
       "      <td>27</td>\n",
       "      <td>Morocco</td>\n",
       "      <td>Bronze</td>\n",
       "    </tr>\n",
       "    <tr>\n",
       "      <th>149</th>\n",
       "      <td>23</td>\n",
       "      <td>Cuba</td>\n",
       "      <td>Bronze</td>\n",
       "    </tr>\n",
       "    <tr>\n",
       "      <th>164</th>\n",
       "      <td>23</td>\n",
       "      <td>Poland</td>\n",
       "      <td>Bronze</td>\n",
       "    </tr>\n",
       "    <tr>\n",
       "      <th>...</th>\n",
       "      <td>...</td>\n",
       "      <td>...</td>\n",
       "      <td>...</td>\n",
       "    </tr>\n",
       "    <tr>\n",
       "      <th>22540</th>\n",
       "      <td>27</td>\n",
       "      <td>Mexico</td>\n",
       "      <td>Bronze</td>\n",
       "    </tr>\n",
       "    <tr>\n",
       "      <th>22543</th>\n",
       "      <td>29</td>\n",
       "      <td>Poland</td>\n",
       "      <td>Bronze</td>\n",
       "    </tr>\n",
       "    <tr>\n",
       "      <th>22739</th>\n",
       "      <td>23</td>\n",
       "      <td>West Germany</td>\n",
       "      <td>Bronze</td>\n",
       "    </tr>\n",
       "    <tr>\n",
       "      <th>22748</th>\n",
       "      <td>28</td>\n",
       "      <td>Romania</td>\n",
       "      <td>Bronze</td>\n",
       "    </tr>\n",
       "    <tr>\n",
       "      <th>22787</th>\n",
       "      <td>23</td>\n",
       "      <td>China</td>\n",
       "      <td>Bronze</td>\n",
       "    </tr>\n",
       "  </tbody>\n",
       "</table>\n",
       "<p>441 rows × 3 columns</p>\n",
       "</div>"
      ],
      "text/plain": [
       "       Age          Team   Medal\n",
       "134     21   Puerto Rico  Bronze\n",
       "140     29       Morocco  Bronze\n",
       "142     27       Morocco  Bronze\n",
       "149     23          Cuba  Bronze\n",
       "164     23        Poland  Bronze\n",
       "...    ...           ...     ...\n",
       "22540   27        Mexico  Bronze\n",
       "22543   29        Poland  Bronze\n",
       "22739   23  West Germany  Bronze\n",
       "22748   28       Romania  Bronze\n",
       "22787   23         China  Bronze\n",
       "\n",
       "[441 rows x 3 columns]"
      ]
     },
     "execution_count": 722,
     "metadata": {},
     "output_type": "execute_result"
    }
   ],
   "source": [
    "# keep only bronze medals\n",
    "df_boxing_bronze = df_boxing[df_boxing[\"Medal\"] == \"Bronze\"]    \n",
    "df_boxing_bronze"
   ]
  },
  {
   "cell_type": "code",
   "execution_count": 723,
   "metadata": {},
   "outputs": [
    {
     "data": {
      "application/vnd.plotly.v1+json": {
       "config": {
        "plotlyServerURL": "https://plot.ly"
       },
       "data": [
        {
         "alignmentgroup": "True",
         "bingroup": "x",
         "hovertemplate": "Team=%{x}<br>count=%{y}<extra></extra>",
         "legendgroup": "Puerto Rico",
         "marker": {
          "color": "#636efa",
          "pattern": {
           "shape": ""
          }
         },
         "name": "Puerto Rico",
         "offsetgroup": "Puerto Rico",
         "orientation": "v",
         "showlegend": true,
         "type": "histogram",
         "x": [
          "Puerto Rico",
          "Puerto Rico",
          "Puerto Rico",
          "Puerto Rico",
          "Puerto Rico"
         ],
         "xaxis": "x",
         "yaxis": "y"
        },
        {
         "alignmentgroup": "True",
         "bingroup": "x",
         "hovertemplate": "Team=%{x}<br>count=%{y}<extra></extra>",
         "legendgroup": "Morocco",
         "marker": {
          "color": "#EF553B",
          "pattern": {
           "shape": ""
          }
         },
         "name": "Morocco",
         "offsetgroup": "Morocco",
         "orientation": "v",
         "showlegend": true,
         "type": "histogram",
         "x": [
          "Morocco",
          "Morocco",
          "Morocco",
          "Morocco"
         ],
         "xaxis": "x",
         "yaxis": "y"
        },
        {
         "alignmentgroup": "True",
         "bingroup": "x",
         "hovertemplate": "Team=%{x}<br>count=%{y}<extra></extra>",
         "legendgroup": "Cuba",
         "marker": {
          "color": "#00cc96",
          "pattern": {
           "shape": ""
          }
         },
         "name": "Cuba",
         "offsetgroup": "Cuba",
         "orientation": "v",
         "showlegend": true,
         "type": "histogram",
         "x": [
          "Cuba",
          "Cuba",
          "Cuba",
          "Cuba",
          "Cuba",
          "Cuba",
          "Cuba",
          "Cuba",
          "Cuba",
          "Cuba",
          "Cuba",
          "Cuba",
          "Cuba",
          "Cuba",
          "Cuba",
          "Cuba",
          "Cuba"
         ],
         "xaxis": "x",
         "yaxis": "y"
        },
        {
         "alignmentgroup": "True",
         "bingroup": "x",
         "hovertemplate": "Team=%{x}<br>count=%{y}<extra></extra>",
         "legendgroup": "Poland",
         "marker": {
          "color": "#ab63fa",
          "pattern": {
           "shape": ""
          }
         },
         "name": "Poland",
         "offsetgroup": "Poland",
         "orientation": "v",
         "showlegend": true,
         "type": "histogram",
         "x": [
          "Poland",
          "Poland",
          "Poland",
          "Poland",
          "Poland",
          "Poland",
          "Poland",
          "Poland",
          "Poland",
          "Poland",
          "Poland",
          "Poland",
          "Poland",
          "Poland",
          "Poland",
          "Poland",
          "Poland",
          "Poland",
          "Poland",
          "Poland",
          "Poland",
          "Poland",
          "Poland",
          "Poland",
          "Poland",
          "Poland"
         ],
         "xaxis": "x",
         "yaxis": "y"
        },
        {
         "alignmentgroup": "True",
         "bingroup": "x",
         "hovertemplate": "Team=%{x}<br>count=%{y}<extra></extra>",
         "legendgroup": "Sweden",
         "marker": {
          "color": "#FFA15A",
          "pattern": {
           "shape": ""
          }
         },
         "name": "Sweden",
         "offsetgroup": "Sweden",
         "orientation": "v",
         "showlegend": true,
         "type": "histogram",
         "x": [
          "Sweden",
          "Sweden",
          "Sweden",
          "Sweden",
          "Sweden",
          "Sweden"
         ],
         "xaxis": "x",
         "yaxis": "y"
        },
        {
         "alignmentgroup": "True",
         "bingroup": "x",
         "hovertemplate": "Team=%{x}<br>count=%{y}<extra></extra>",
         "legendgroup": "Finland",
         "marker": {
          "color": "#19d3f3",
          "pattern": {
           "shape": ""
          }
         },
         "name": "Finland",
         "offsetgroup": "Finland",
         "orientation": "v",
         "showlegend": true,
         "type": "histogram",
         "x": [
          "Finland",
          "Finland",
          "Finland",
          "Finland",
          "Finland",
          "Finland",
          "Finland",
          "Finland",
          "Finland",
          "Finland",
          "Finland",
          "Finland"
         ],
         "xaxis": "x",
         "yaxis": "y"
        },
        {
         "alignmentgroup": "True",
         "bingroup": "x",
         "hovertemplate": "Team=%{x}<br>count=%{y}<extra></extra>",
         "legendgroup": "Uzbekistan",
         "marker": {
          "color": "#FF6692",
          "pattern": {
           "shape": ""
          }
         },
         "name": "Uzbekistan",
         "offsetgroup": "Uzbekistan",
         "orientation": "v",
         "showlegend": true,
         "type": "histogram",
         "x": [
          "Uzbekistan",
          "Uzbekistan",
          "Uzbekistan",
          "Uzbekistan",
          "Uzbekistan",
          "Uzbekistan",
          "Uzbekistan",
          "Uzbekistan"
         ],
         "xaxis": "x",
         "yaxis": "y"
        },
        {
         "alignmentgroup": "True",
         "bingroup": "x",
         "hovertemplate": "Team=%{x}<br>count=%{y}<extra></extra>",
         "legendgroup": "Syria",
         "marker": {
          "color": "#B6E880",
          "pattern": {
           "shape": ""
          }
         },
         "name": "Syria",
         "offsetgroup": "Syria",
         "orientation": "v",
         "showlegend": true,
         "type": "histogram",
         "x": [
          "Syria"
         ],
         "xaxis": "x",
         "yaxis": "y"
        },
        {
         "alignmentgroup": "True",
         "bingroup": "x",
         "hovertemplate": "Team=%{x}<br>count=%{y}<extra></extra>",
         "legendgroup": "Algeria",
         "marker": {
          "color": "#FF97FF",
          "pattern": {
           "shape": ""
          }
         },
         "name": "Algeria",
         "offsetgroup": "Algeria",
         "orientation": "v",
         "showlegend": true,
         "type": "histogram",
         "x": [
          "Algeria",
          "Algeria",
          "Algeria",
          "Algeria",
          "Algeria"
         ],
         "xaxis": "x",
         "yaxis": "y"
        },
        {
         "alignmentgroup": "True",
         "bingroup": "x",
         "hovertemplate": "Team=%{x}<br>count=%{y}<extra></extra>",
         "legendgroup": "Russia",
         "marker": {
          "color": "#FECB52",
          "pattern": {
           "shape": ""
          }
         },
         "name": "Russia",
         "offsetgroup": "Russia",
         "orientation": "v",
         "showlegend": true,
         "type": "histogram",
         "x": [
          "Russia",
          "Russia",
          "Russia",
          "Russia",
          "Russia",
          "Russia",
          "Russia",
          "Russia",
          "Russia",
          "Russia",
          "Russia",
          "Russia",
          "Russia",
          "Russia",
          "Russia"
         ],
         "xaxis": "x",
         "yaxis": "y"
        },
        {
         "alignmentgroup": "True",
         "bingroup": "x",
         "hovertemplate": "Team=%{x}<br>count=%{y}<extra></extra>",
         "legendgroup": "Ghana",
         "marker": {
          "color": "#636efa",
          "pattern": {
           "shape": ""
          }
         },
         "name": "Ghana",
         "offsetgroup": "Ghana",
         "orientation": "v",
         "showlegend": true,
         "type": "histogram",
         "x": [
          "Ghana",
          "Ghana"
         ],
         "xaxis": "x",
         "yaxis": "y"
        },
        {
         "alignmentgroup": "True",
         "bingroup": "x",
         "hovertemplate": "Team=%{x}<br>count=%{y}<extra></extra>",
         "legendgroup": "Guyana",
         "marker": {
          "color": "#EF553B",
          "pattern": {
           "shape": ""
          }
         },
         "name": "Guyana",
         "offsetgroup": "Guyana",
         "orientation": "v",
         "showlegend": true,
         "type": "histogram",
         "x": [
          "Guyana"
         ],
         "xaxis": "x",
         "yaxis": "y"
        },
        {
         "alignmentgroup": "True",
         "bingroup": "x",
         "hovertemplate": "Team=%{x}<br>count=%{y}<extra></extra>",
         "legendgroup": "Brazil",
         "marker": {
          "color": "#00cc96",
          "pattern": {
           "shape": ""
          }
         },
         "name": "Brazil",
         "offsetgroup": "Brazil",
         "orientation": "v",
         "showlegend": true,
         "type": "histogram",
         "x": [
          "Brazil",
          "Brazil",
          "Brazil"
         ],
         "xaxis": "x",
         "yaxis": "y"
        },
        {
         "alignmentgroup": "True",
         "bingroup": "x",
         "hovertemplate": "Team=%{x}<br>count=%{y}<extra></extra>",
         "legendgroup": "South Africa",
         "marker": {
          "color": "#ab63fa",
          "pattern": {
           "shape": ""
          }
         },
         "name": "South Africa",
         "offsetgroup": "South Africa",
         "orientation": "v",
         "showlegend": true,
         "type": "histogram",
         "x": [
          "South Africa",
          "South Africa",
          "South Africa",
          "South Africa",
          "South Africa",
          "South Africa",
          "South Africa",
          "South Africa",
          "South Africa"
         ],
         "xaxis": "x",
         "yaxis": "y"
        },
        {
         "alignmentgroup": "True",
         "bingroup": "x",
         "hovertemplate": "Team=%{x}<br>count=%{y}<extra></extra>",
         "legendgroup": "Azerbaijan",
         "marker": {
          "color": "#FFA15A",
          "pattern": {
           "shape": ""
          }
         },
         "name": "Azerbaijan",
         "offsetgroup": "Azerbaijan",
         "orientation": "v",
         "showlegend": true,
         "type": "histogram",
         "x": [
          "Azerbaijan",
          "Azerbaijan",
          "Azerbaijan",
          "Azerbaijan",
          "Azerbaijan",
          "Azerbaijan",
          "Azerbaijan"
         ],
         "xaxis": "x",
         "yaxis": "y"
        },
        {
         "alignmentgroup": "True",
         "bingroup": "x",
         "hovertemplate": "Team=%{x}<br>count=%{y}<extra></extra>",
         "legendgroup": "United States",
         "marker": {
          "color": "#19d3f3",
          "pattern": {
           "shape": ""
          }
         },
         "name": "United States",
         "offsetgroup": "United States",
         "orientation": "v",
         "showlegend": true,
         "type": "histogram",
         "x": [
          "United States",
          "United States",
          "United States",
          "United States",
          "United States",
          "United States",
          "United States",
          "United States",
          "United States",
          "United States",
          "United States",
          "United States",
          "United States",
          "United States",
          "United States",
          "United States",
          "United States",
          "United States",
          "United States",
          "United States",
          "United States",
          "United States",
          "United States",
          "United States",
          "United States",
          "United States",
          "United States",
          "United States",
          "United States",
          "United States",
          "United States",
          "United States",
          "United States",
          "United States",
          "United States",
          "United States",
          "United States",
          "United States",
          "United States"
         ],
         "xaxis": "x",
         "yaxis": "y"
        },
        {
         "alignmentgroup": "True",
         "bingroup": "x",
         "hovertemplate": "Team=%{x}<br>count=%{y}<extra></extra>",
         "legendgroup": "Turkey",
         "marker": {
          "color": "#FF6692",
          "pattern": {
           "shape": ""
          }
         },
         "name": "Turkey",
         "offsetgroup": "Turkey",
         "orientation": "v",
         "showlegend": true,
         "type": "histogram",
         "x": [
          "Turkey",
          "Turkey",
          "Turkey"
         ],
         "xaxis": "x",
         "yaxis": "y"
        },
        {
         "alignmentgroup": "True",
         "bingroup": "x",
         "hovertemplate": "Team=%{x}<br>count=%{y}<extra></extra>",
         "legendgroup": "Italy",
         "marker": {
          "color": "#B6E880",
          "pattern": {
           "shape": ""
          }
         },
         "name": "Italy",
         "offsetgroup": "Italy",
         "orientation": "v",
         "showlegend": true,
         "type": "histogram",
         "x": [
          "Italy",
          "Italy",
          "Italy",
          "Italy",
          "Italy",
          "Italy",
          "Italy",
          "Italy",
          "Italy",
          "Italy",
          "Italy",
          "Italy",
          "Italy",
          "Italy",
          "Italy",
          "Italy",
          "Italy"
         ],
         "xaxis": "x",
         "yaxis": "y"
        },
        {
         "alignmentgroup": "True",
         "bingroup": "x",
         "hovertemplate": "Team=%{x}<br>count=%{y}<extra></extra>",
         "legendgroup": "Ireland",
         "marker": {
          "color": "#FF97FF",
          "pattern": {
           "shape": ""
          }
         },
         "name": "Ireland",
         "offsetgroup": "Ireland",
         "orientation": "v",
         "showlegend": true,
         "type": "histogram",
         "x": [
          "Ireland",
          "Ireland",
          "Ireland",
          "Ireland",
          "Ireland",
          "Ireland",
          "Ireland",
          "Ireland",
          "Ireland"
         ],
         "xaxis": "x",
         "yaxis": "y"
        },
        {
         "alignmentgroup": "True",
         "bingroup": "x",
         "hovertemplate": "Team=%{x}<br>count=%{y}<extra></extra>",
         "legendgroup": "Chile",
         "marker": {
          "color": "#FECB52",
          "pattern": {
           "shape": ""
          }
         },
         "name": "Chile",
         "offsetgroup": "Chile",
         "orientation": "v",
         "showlegend": true,
         "type": "histogram",
         "x": [
          "Chile",
          "Chile"
         ],
         "xaxis": "x",
         "yaxis": "y"
        },
        {
         "alignmentgroup": "True",
         "bingroup": "x",
         "hovertemplate": "Team=%{x}<br>count=%{y}<extra></extra>",
         "legendgroup": "East Germany",
         "marker": {
          "color": "#636efa",
          "pattern": {
           "shape": ""
          }
         },
         "name": "East Germany",
         "offsetgroup": "East Germany",
         "orientation": "v",
         "showlegend": true,
         "type": "histogram",
         "x": [
          "East Germany",
          "East Germany",
          "East Germany",
          "East Germany",
          "East Germany",
          "East Germany"
         ],
         "xaxis": "x",
         "yaxis": "y"
        },
        {
         "alignmentgroup": "True",
         "bingroup": "x",
         "hovertemplate": "Team=%{x}<br>count=%{y}<extra></extra>",
         "legendgroup": "France",
         "marker": {
          "color": "#EF553B",
          "pattern": {
           "shape": ""
          }
         },
         "name": "France",
         "offsetgroup": "France",
         "orientation": "v",
         "showlegend": true,
         "type": "histogram",
         "x": [
          "France",
          "France",
          "France",
          "France",
          "France",
          "France",
          "France",
          "France",
          "France",
          "France"
         ],
         "xaxis": "x",
         "yaxis": "y"
        },
        {
         "alignmentgroup": "True",
         "bingroup": "x",
         "hovertemplate": "Team=%{x}<br>count=%{y}<extra></extra>",
         "legendgroup": "Belgium",
         "marker": {
          "color": "#00cc96",
          "pattern": {
           "shape": ""
          }
         },
         "name": "Belgium",
         "offsetgroup": "Belgium",
         "orientation": "v",
         "showlegend": true,
         "type": "histogram",
         "x": [
          "Belgium",
          "Belgium"
         ],
         "xaxis": "x",
         "yaxis": "y"
        },
        {
         "alignmentgroup": "True",
         "bingroup": "x",
         "hovertemplate": "Team=%{x}<br>count=%{y}<extra></extra>",
         "legendgroup": "Mexico",
         "marker": {
          "color": "#ab63fa",
          "pattern": {
           "shape": ""
          }
         },
         "name": "Mexico",
         "offsetgroup": "Mexico",
         "orientation": "v",
         "showlegend": true,
         "type": "histogram",
         "x": [
          "Mexico",
          "Mexico",
          "Mexico",
          "Mexico",
          "Mexico",
          "Mexico",
          "Mexico",
          "Mexico"
         ],
         "xaxis": "x",
         "yaxis": "y"
        },
        {
         "alignmentgroup": "True",
         "bingroup": "x",
         "hovertemplate": "Team=%{x}<br>count=%{y}<extra></extra>",
         "legendgroup": "Hungary",
         "marker": {
          "color": "#FFA15A",
          "pattern": {
           "shape": ""
          }
         },
         "name": "Hungary",
         "offsetgroup": "Hungary",
         "orientation": "v",
         "showlegend": true,
         "type": "histogram",
         "x": [
          "Hungary",
          "Hungary",
          "Hungary",
          "Hungary",
          "Hungary",
          "Hungary",
          "Hungary",
          "Hungary"
         ],
         "xaxis": "x",
         "yaxis": "y"
        },
        {
         "alignmentgroup": "True",
         "bingroup": "x",
         "hovertemplate": "Team=%{x}<br>count=%{y}<extra></extra>",
         "legendgroup": "Kenya",
         "marker": {
          "color": "#19d3f3",
          "pattern": {
           "shape": ""
          }
         },
         "name": "Kenya",
         "offsetgroup": "Kenya",
         "orientation": "v",
         "showlegend": true,
         "type": "histogram",
         "x": [
          "Kenya",
          "Kenya",
          "Kenya",
          "Kenya",
          "Kenya"
         ],
         "xaxis": "x",
         "yaxis": "y"
        },
        {
         "alignmentgroup": "True",
         "bingroup": "x",
         "hovertemplate": "Team=%{x}<br>count=%{y}<extra></extra>",
         "legendgroup": "Venezuela",
         "marker": {
          "color": "#FF6692",
          "pattern": {
           "shape": ""
          }
         },
         "name": "Venezuela",
         "offsetgroup": "Venezuela",
         "orientation": "v",
         "showlegend": true,
         "type": "histogram",
         "x": [
          "Venezuela",
          "Venezuela",
          "Venezuela"
         ],
         "xaxis": "x",
         "yaxis": "y"
        },
        {
         "alignmentgroup": "True",
         "bingroup": "x",
         "hovertemplate": "Team=%{x}<br>count=%{y}<extra></extra>",
         "legendgroup": "Great Britain",
         "marker": {
          "color": "#B6E880",
          "pattern": {
           "shape": ""
          }
         },
         "name": "Great Britain",
         "offsetgroup": "Great Britain",
         "orientation": "v",
         "showlegend": true,
         "type": "histogram",
         "x": [
          "Great Britain",
          "Great Britain",
          "Great Britain",
          "Great Britain",
          "Great Britain",
          "Great Britain",
          "Great Britain",
          "Great Britain",
          "Great Britain",
          "Great Britain",
          "Great Britain",
          "Great Britain",
          "Great Britain",
          "Great Britain",
          "Great Britain",
          "Great Britain",
          "Great Britain",
          "Great Britain",
          "Great Britain",
          "Great Britain",
          "Great Britain",
          "Great Britain",
          "Great Britain",
          "Great Britain",
          "Great Britain"
         ],
         "xaxis": "x",
         "yaxis": "y"
        },
        {
         "alignmentgroup": "True",
         "bingroup": "x",
         "hovertemplate": "Team=%{x}<br>count=%{y}<extra></extra>",
         "legendgroup": "Soviet Union",
         "marker": {
          "color": "#FF97FF",
          "pattern": {
           "shape": ""
          }
         },
         "name": "Soviet Union",
         "offsetgroup": "Soviet Union",
         "orientation": "v",
         "showlegend": true,
         "type": "histogram",
         "x": [
          "Soviet Union",
          "Soviet Union",
          "Soviet Union",
          "Soviet Union",
          "Soviet Union",
          "Soviet Union",
          "Soviet Union",
          "Soviet Union",
          "Soviet Union",
          "Soviet Union",
          "Soviet Union",
          "Soviet Union",
          "Soviet Union",
          "Soviet Union",
          "Soviet Union",
          "Soviet Union",
          "Soviet Union",
          "Soviet Union"
         ],
         "xaxis": "x",
         "yaxis": "y"
        },
        {
         "alignmentgroup": "True",
         "bingroup": "x",
         "hovertemplate": "Team=%{x}<br>count=%{y}<extra></extra>",
         "legendgroup": "Georgia",
         "marker": {
          "color": "#FECB52",
          "pattern": {
           "shape": ""
          }
         },
         "name": "Georgia",
         "offsetgroup": "Georgia",
         "orientation": "v",
         "showlegend": true,
         "type": "histogram",
         "x": [
          "Georgia"
         ],
         "xaxis": "x",
         "yaxis": "y"
        },
        {
         "alignmentgroup": "True",
         "bingroup": "x",
         "hovertemplate": "Team=%{x}<br>count=%{y}<extra></extra>",
         "legendgroup": "Argentina",
         "marker": {
          "color": "#636efa",
          "pattern": {
           "shape": ""
          }
         },
         "name": "Argentina",
         "offsetgroup": "Argentina",
         "orientation": "v",
         "showlegend": true,
         "type": "histogram",
         "x": [
          "Argentina",
          "Argentina",
          "Argentina",
          "Argentina",
          "Argentina",
          "Argentina",
          "Argentina",
          "Argentina",
          "Argentina",
          "Argentina"
         ],
         "xaxis": "x",
         "yaxis": "y"
        },
        {
         "alignmentgroup": "True",
         "bingroup": "x",
         "hovertemplate": "Team=%{x}<br>count=%{y}<extra></extra>",
         "legendgroup": "Thailand",
         "marker": {
          "color": "#EF553B",
          "pattern": {
           "shape": ""
          }
         },
         "name": "Thailand",
         "offsetgroup": "Thailand",
         "orientation": "v",
         "showlegend": true,
         "type": "histogram",
         "x": [
          "Thailand",
          "Thailand",
          "Thailand",
          "Thailand",
          "Thailand",
          "Thailand"
         ],
         "xaxis": "x",
         "yaxis": "y"
        },
        {
         "alignmentgroup": "True",
         "bingroup": "x",
         "hovertemplate": "Team=%{x}<br>count=%{y}<extra></extra>",
         "legendgroup": "Tajikistan",
         "marker": {
          "color": "#00cc96",
          "pattern": {
           "shape": ""
          }
         },
         "name": "Tajikistan",
         "offsetgroup": "Tajikistan",
         "orientation": "v",
         "showlegend": true,
         "type": "histogram",
         "x": [
          "Tajikistan"
         ],
         "xaxis": "x",
         "yaxis": "y"
        },
        {
         "alignmentgroup": "True",
         "bingroup": "x",
         "hovertemplate": "Team=%{x}<br>count=%{y}<extra></extra>",
         "legendgroup": "Romania",
         "marker": {
          "color": "#ab63fa",
          "pattern": {
           "shape": ""
          }
         },
         "name": "Romania",
         "offsetgroup": "Romania",
         "orientation": "v",
         "showlegend": true,
         "type": "histogram",
         "x": [
          "Romania",
          "Romania",
          "Romania",
          "Romania",
          "Romania",
          "Romania",
          "Romania",
          "Romania",
          "Romania",
          "Romania",
          "Romania",
          "Romania",
          "Romania",
          "Romania",
          "Romania"
         ],
         "xaxis": "x",
         "yaxis": "y"
        },
        {
         "alignmentgroup": "True",
         "bingroup": "x",
         "hovertemplate": "Team=%{x}<br>count=%{y}<extra></extra>",
         "legendgroup": "Niger",
         "marker": {
          "color": "#FFA15A",
          "pattern": {
           "shape": ""
          }
         },
         "name": "Niger",
         "offsetgroup": "Niger",
         "orientation": "v",
         "showlegend": true,
         "type": "histogram",
         "x": [
          "Niger"
         ],
         "xaxis": "x",
         "yaxis": "y"
        },
        {
         "alignmentgroup": "True",
         "bingroup": "x",
         "hovertemplate": "Team=%{x}<br>count=%{y}<extra></extra>",
         "legendgroup": "Ukraine",
         "marker": {
          "color": "#19d3f3",
          "pattern": {
           "shape": ""
          }
         },
         "name": "Ukraine",
         "offsetgroup": "Ukraine",
         "orientation": "v",
         "showlegend": true,
         "type": "histogram",
         "x": [
          "Ukraine",
          "Ukraine",
          "Ukraine",
          "Ukraine",
          "Ukraine",
          "Ukraine",
          "Ukraine"
         ],
         "xaxis": "x",
         "yaxis": "y"
        },
        {
         "alignmentgroup": "True",
         "bingroup": "x",
         "hovertemplate": "Team=%{x}<br>count=%{y}<extra></extra>",
         "legendgroup": "Nigeria",
         "marker": {
          "color": "#FF6692",
          "pattern": {
           "shape": ""
          }
         },
         "name": "Nigeria",
         "offsetgroup": "Nigeria",
         "orientation": "v",
         "showlegend": true,
         "type": "histogram",
         "x": [
          "Nigeria",
          "Nigeria",
          "Nigeria"
         ],
         "xaxis": "x",
         "yaxis": "y"
        },
        {
         "alignmentgroup": "True",
         "bingroup": "x",
         "hovertemplate": "Team=%{x}<br>count=%{y}<extra></extra>",
         "legendgroup": "Mongolia",
         "marker": {
          "color": "#B6E880",
          "pattern": {
           "shape": ""
          }
         },
         "name": "Mongolia",
         "offsetgroup": "Mongolia",
         "orientation": "v",
         "showlegend": true,
         "type": "histogram",
         "x": [
          "Mongolia",
          "Mongolia",
          "Mongolia",
          "Mongolia"
         ],
         "xaxis": "x",
         "yaxis": "y"
        },
        {
         "alignmentgroup": "True",
         "bingroup": "x",
         "hovertemplate": "Team=%{x}<br>count=%{y}<extra></extra>",
         "legendgroup": "Canada",
         "marker": {
          "color": "#FF97FF",
          "pattern": {
           "shape": ""
          }
         },
         "name": "Canada",
         "offsetgroup": "Canada",
         "orientation": "v",
         "showlegend": true,
         "type": "histogram",
         "x": [
          "Canada",
          "Canada",
          "Canada",
          "Canada",
          "Canada",
          "Canada",
          "Canada"
         ],
         "xaxis": "x",
         "yaxis": "y"
        },
        {
         "alignmentgroup": "True",
         "bingroup": "x",
         "hovertemplate": "Team=%{x}<br>count=%{y}<extra></extra>",
         "legendgroup": "Kazakhstan",
         "marker": {
          "color": "#FECB52",
          "pattern": {
           "shape": ""
          }
         },
         "name": "Kazakhstan",
         "offsetgroup": "Kazakhstan",
         "orientation": "v",
         "showlegend": true,
         "type": "histogram",
         "x": [
          "Kazakhstan",
          "Kazakhstan",
          "Kazakhstan",
          "Kazakhstan",
          "Kazakhstan",
          "Kazakhstan",
          "Kazakhstan",
          "Kazakhstan"
         ],
         "xaxis": "x",
         "yaxis": "y"
        },
        {
         "alignmentgroup": "True",
         "bingroup": "x",
         "hovertemplate": "Team=%{x}<br>count=%{y}<extra></extra>",
         "legendgroup": "United Arab Republic",
         "marker": {
          "color": "#636efa",
          "pattern": {
           "shape": ""
          }
         },
         "name": "United Arab Republic",
         "offsetgroup": "United Arab Republic",
         "orientation": "v",
         "showlegend": true,
         "type": "histogram",
         "x": [
          "United Arab Republic"
         ],
         "xaxis": "x",
         "yaxis": "y"
        },
        {
         "alignmentgroup": "True",
         "bingroup": "x",
         "hovertemplate": "Team=%{x}<br>count=%{y}<extra></extra>",
         "legendgroup": "Egypt",
         "marker": {
          "color": "#EF553B",
          "pattern": {
           "shape": ""
          }
         },
         "name": "Egypt",
         "offsetgroup": "Egypt",
         "orientation": "v",
         "showlegend": true,
         "type": "histogram",
         "x": [
          "Egypt",
          "Egypt"
         ],
         "xaxis": "x",
         "yaxis": "y"
        },
        {
         "alignmentgroup": "True",
         "bingroup": "x",
         "hovertemplate": "Team=%{x}<br>count=%{y}<extra></extra>",
         "legendgroup": "Czechoslovakia",
         "marker": {
          "color": "#00cc96",
          "pattern": {
           "shape": ""
          }
         },
         "name": "Czechoslovakia",
         "offsetgroup": "Czechoslovakia",
         "orientation": "v",
         "showlegend": true,
         "type": "histogram",
         "x": [
          "Czechoslovakia",
          "Czechoslovakia"
         ],
         "xaxis": "x",
         "yaxis": "y"
        },
        {
         "alignmentgroup": "True",
         "bingroup": "x",
         "hovertemplate": "Team=%{x}<br>count=%{y}<extra></extra>",
         "legendgroup": "Tunisia",
         "marker": {
          "color": "#ab63fa",
          "pattern": {
           "shape": ""
          }
         },
         "name": "Tunisia",
         "offsetgroup": "Tunisia",
         "orientation": "v",
         "showlegend": true,
         "type": "histogram",
         "x": [
          "Tunisia",
          "Tunisia"
         ],
         "xaxis": "x",
         "yaxis": "y"
        },
        {
         "alignmentgroup": "True",
         "bingroup": "x",
         "hovertemplate": "Team=%{x}<br>count=%{y}<extra></extra>",
         "legendgroup": "South Korea",
         "marker": {
          "color": "#FFA15A",
          "pattern": {
           "shape": ""
          }
         },
         "name": "South Korea",
         "offsetgroup": "South Korea",
         "orientation": "v",
         "showlegend": true,
         "type": "histogram",
         "x": [
          "South Korea",
          "South Korea",
          "South Korea",
          "South Korea",
          "South Korea",
          "South Korea",
          "South Korea",
          "South Korea",
          "South Korea",
          "South Korea"
         ],
         "xaxis": "x",
         "yaxis": "y"
        },
        {
         "alignmentgroup": "True",
         "bingroup": "x",
         "hovertemplate": "Team=%{x}<br>count=%{y}<extra></extra>",
         "legendgroup": "Bulgaria",
         "marker": {
          "color": "#19d3f3",
          "pattern": {
           "shape": ""
          }
         },
         "name": "Bulgaria",
         "offsetgroup": "Bulgaria",
         "orientation": "v",
         "showlegend": true,
         "type": "histogram",
         "x": [
          "Bulgaria",
          "Bulgaria",
          "Bulgaria",
          "Bulgaria",
          "Bulgaria",
          "Bulgaria",
          "Bulgaria",
          "Bulgaria",
          "Bulgaria"
         ],
         "xaxis": "x",
         "yaxis": "y"
        },
        {
         "alignmentgroup": "True",
         "bingroup": "x",
         "hovertemplate": "Team=%{x}<br>count=%{y}<extra></extra>",
         "legendgroup": "West Germany",
         "marker": {
          "color": "#FF6692",
          "pattern": {
           "shape": ""
          }
         },
         "name": "West Germany",
         "offsetgroup": "West Germany",
         "orientation": "v",
         "showlegend": true,
         "type": "histogram",
         "x": [
          "West Germany",
          "West Germany",
          "West Germany",
          "West Germany",
          "West Germany"
         ],
         "xaxis": "x",
         "yaxis": "y"
        },
        {
         "alignmentgroup": "True",
         "bingroup": "x",
         "hovertemplate": "Team=%{x}<br>count=%{y}<extra></extra>",
         "legendgroup": "Moldova",
         "marker": {
          "color": "#B6E880",
          "pattern": {
           "shape": ""
          }
         },
         "name": "Moldova",
         "offsetgroup": "Moldova",
         "orientation": "v",
         "showlegend": true,
         "type": "histogram",
         "x": [
          "Moldova",
          "Moldova"
         ],
         "xaxis": "x",
         "yaxis": "y"
        },
        {
         "alignmentgroup": "True",
         "bingroup": "x",
         "hovertemplate": "Team=%{x}<br>count=%{y}<extra></extra>",
         "legendgroup": "China",
         "marker": {
          "color": "#FF97FF",
          "pattern": {
           "shape": ""
          }
         },
         "name": "China",
         "offsetgroup": "China",
         "orientation": "v",
         "showlegend": true,
         "type": "histogram",
         "x": [
          "China",
          "China",
          "China",
          "China",
          "China",
          "China"
         ],
         "xaxis": "x",
         "yaxis": "y"
        },
        {
         "alignmentgroup": "True",
         "bingroup": "x",
         "hovertemplate": "Team=%{x}<br>count=%{y}<extra></extra>",
         "legendgroup": "Germany",
         "marker": {
          "color": "#FECB52",
          "pattern": {
           "shape": ""
          }
         },
         "name": "Germany",
         "offsetgroup": "Germany",
         "orientation": "v",
         "showlegend": true,
         "type": "histogram",
         "x": [
          "Germany",
          "Germany",
          "Germany",
          "Germany",
          "Germany",
          "Germany",
          "Germany",
          "Germany",
          "Germany",
          "Germany",
          "Germany",
          "Germany"
         ],
         "xaxis": "x",
         "yaxis": "y"
        },
        {
         "alignmentgroup": "True",
         "bingroup": "x",
         "hovertemplate": "Team=%{x}<br>count=%{y}<extra></extra>",
         "legendgroup": "Bermuda",
         "marker": {
          "color": "#636efa",
          "pattern": {
           "shape": ""
          }
         },
         "name": "Bermuda",
         "offsetgroup": "Bermuda",
         "orientation": "v",
         "showlegend": true,
         "type": "histogram",
         "x": [
          "Bermuda"
         ],
         "xaxis": "x",
         "yaxis": "y"
        },
        {
         "alignmentgroup": "True",
         "bingroup": "x",
         "hovertemplate": "Team=%{x}<br>count=%{y}<extra></extra>",
         "legendgroup": "Australia",
         "marker": {
          "color": "#EF553B",
          "pattern": {
           "shape": ""
          }
         },
         "name": "Australia",
         "offsetgroup": "Australia",
         "orientation": "v",
         "showlegend": true,
         "type": "histogram",
         "x": [
          "Australia",
          "Australia",
          "Australia"
         ],
         "xaxis": "x",
         "yaxis": "y"
        },
        {
         "alignmentgroup": "True",
         "bingroup": "x",
         "hovertemplate": "Team=%{x}<br>count=%{y}<extra></extra>",
         "legendgroup": "Croatia",
         "marker": {
          "color": "#00cc96",
          "pattern": {
           "shape": ""
          }
         },
         "name": "Croatia",
         "offsetgroup": "Croatia",
         "orientation": "v",
         "showlegend": true,
         "type": "histogram",
         "x": [
          "Croatia"
         ],
         "xaxis": "x",
         "yaxis": "y"
        },
        {
         "alignmentgroup": "True",
         "bingroup": "x",
         "hovertemplate": "Team=%{x}<br>count=%{y}<extra></extra>",
         "legendgroup": "Pakistan",
         "marker": {
          "color": "#ab63fa",
          "pattern": {
           "shape": ""
          }
         },
         "name": "Pakistan",
         "offsetgroup": "Pakistan",
         "orientation": "v",
         "showlegend": true,
         "type": "histogram",
         "x": [
          "Pakistan"
         ],
         "xaxis": "x",
         "yaxis": "y"
        },
        {
         "alignmentgroup": "True",
         "bingroup": "x",
         "hovertemplate": "Team=%{x}<br>count=%{y}<extra></extra>",
         "legendgroup": "Armenia",
         "marker": {
          "color": "#FFA15A",
          "pattern": {
           "shape": ""
          }
         },
         "name": "Armenia",
         "offsetgroup": "Armenia",
         "orientation": "v",
         "showlegend": true,
         "type": "histogram",
         "x": [
          "Armenia"
         ],
         "xaxis": "x",
         "yaxis": "y"
        },
        {
         "alignmentgroup": "True",
         "bingroup": "x",
         "hovertemplate": "Team=%{x}<br>count=%{y}<extra></extra>",
         "legendgroup": "Denmark",
         "marker": {
          "color": "#19d3f3",
          "pattern": {
           "shape": ""
          }
         },
         "name": "Denmark",
         "offsetgroup": "Denmark",
         "orientation": "v",
         "showlegend": true,
         "type": "histogram",
         "x": [
          "Denmark",
          "Denmark",
          "Denmark",
          "Denmark",
          "Denmark",
          "Denmark"
         ],
         "xaxis": "x",
         "yaxis": "y"
        },
        {
         "alignmentgroup": "True",
         "bingroup": "x",
         "hovertemplate": "Team=%{x}<br>count=%{y}<extra></extra>",
         "legendgroup": "Mauritius",
         "marker": {
          "color": "#FF6692",
          "pattern": {
           "shape": ""
          }
         },
         "name": "Mauritius",
         "offsetgroup": "Mauritius",
         "orientation": "v",
         "showlegend": true,
         "type": "histogram",
         "x": [
          "Mauritius"
         ],
         "xaxis": "x",
         "yaxis": "y"
        },
        {
         "alignmentgroup": "True",
         "bingroup": "x",
         "hovertemplate": "Team=%{x}<br>count=%{y}<extra></extra>",
         "legendgroup": "Colombia",
         "marker": {
          "color": "#B6E880",
          "pattern": {
           "shape": ""
          }
         },
         "name": "Colombia",
         "offsetgroup": "Colombia",
         "orientation": "v",
         "showlegend": true,
         "type": "histogram",
         "x": [
          "Colombia",
          "Colombia",
          "Colombia",
          "Colombia"
         ],
         "xaxis": "x",
         "yaxis": "y"
        },
        {
         "alignmentgroup": "True",
         "bingroup": "x",
         "hovertemplate": "Team=%{x}<br>count=%{y}<extra></extra>",
         "legendgroup": "North Korea",
         "marker": {
          "color": "#FF97FF",
          "pattern": {
           "shape": ""
          }
         },
         "name": "North Korea",
         "offsetgroup": "North Korea",
         "orientation": "v",
         "showlegend": true,
         "type": "histogram",
         "x": [
          "North Korea",
          "North Korea",
          "North Korea"
         ],
         "xaxis": "x",
         "yaxis": "y"
        },
        {
         "alignmentgroup": "True",
         "bingroup": "x",
         "hovertemplate": "Team=%{x}<br>count=%{y}<extra></extra>",
         "legendgroup": "India",
         "marker": {
          "color": "#FECB52",
          "pattern": {
           "shape": ""
          }
         },
         "name": "India",
         "offsetgroup": "India",
         "orientation": "v",
         "showlegend": true,
         "type": "histogram",
         "x": [
          "India",
          "India"
         ],
         "xaxis": "x",
         "yaxis": "y"
        },
        {
         "alignmentgroup": "True",
         "bingroup": "x",
         "hovertemplate": "Team=%{x}<br>count=%{y}<extra></extra>",
         "legendgroup": "Spain",
         "marker": {
          "color": "#636efa",
          "pattern": {
           "shape": ""
          }
         },
         "name": "Spain",
         "offsetgroup": "Spain",
         "orientation": "v",
         "showlegend": true,
         "type": "histogram",
         "x": [
          "Spain",
          "Spain"
         ],
         "xaxis": "x",
         "yaxis": "y"
        },
        {
         "alignmentgroup": "True",
         "bingroup": "x",
         "hovertemplate": "Team=%{x}<br>count=%{y}<extra></extra>",
         "legendgroup": "Netherlands",
         "marker": {
          "color": "#EF553B",
          "pattern": {
           "shape": ""
          }
         },
         "name": "Netherlands",
         "offsetgroup": "Netherlands",
         "orientation": "v",
         "showlegend": true,
         "type": "histogram",
         "x": [
          "Netherlands",
          "Netherlands",
          "Netherlands",
          "Netherlands"
         ],
         "xaxis": "x",
         "yaxis": "y"
        },
        {
         "alignmentgroup": "True",
         "bingroup": "x",
         "hovertemplate": "Team=%{x}<br>count=%{y}<extra></extra>",
         "legendgroup": "Japan",
         "marker": {
          "color": "#00cc96",
          "pattern": {
           "shape": ""
          }
         },
         "name": "Japan",
         "offsetgroup": "Japan",
         "orientation": "v",
         "showlegend": true,
         "type": "histogram",
         "x": [
          "Japan",
          "Japan",
          "Japan"
         ],
         "xaxis": "x",
         "yaxis": "y"
        },
        {
         "alignmentgroup": "True",
         "bingroup": "x",
         "hovertemplate": "Team=%{x}<br>count=%{y}<extra></extra>",
         "legendgroup": "Zambia",
         "marker": {
          "color": "#ab63fa",
          "pattern": {
           "shape": ""
          }
         },
         "name": "Zambia",
         "offsetgroup": "Zambia",
         "orientation": "v",
         "showlegend": true,
         "type": "histogram",
         "x": [
          "Zambia"
         ],
         "xaxis": "x",
         "yaxis": "y"
        },
        {
         "alignmentgroup": "True",
         "bingroup": "x",
         "hovertemplate": "Team=%{x}<br>count=%{y}<extra></extra>",
         "legendgroup": "Cameroon",
         "marker": {
          "color": "#FFA15A",
          "pattern": {
           "shape": ""
          }
         },
         "name": "Cameroon",
         "offsetgroup": "Cameroon",
         "orientation": "v",
         "showlegend": true,
         "type": "histogram",
         "x": [
          "Cameroon"
         ],
         "xaxis": "x",
         "yaxis": "y"
        },
        {
         "alignmentgroup": "True",
         "bingroup": "x",
         "hovertemplate": "Team=%{x}<br>count=%{y}<extra></extra>",
         "legendgroup": "Norway",
         "marker": {
          "color": "#19d3f3",
          "pattern": {
           "shape": ""
          }
         },
         "name": "Norway",
         "offsetgroup": "Norway",
         "orientation": "v",
         "showlegend": true,
         "type": "histogram",
         "x": [
          "Norway",
          "Norway"
         ],
         "xaxis": "x",
         "yaxis": "y"
        },
        {
         "alignmentgroup": "True",
         "bingroup": "x",
         "hovertemplate": "Team=%{x}<br>count=%{y}<extra></extra>",
         "legendgroup": "Dominican Republic",
         "marker": {
          "color": "#FF6692",
          "pattern": {
           "shape": ""
          }
         },
         "name": "Dominican Republic",
         "offsetgroup": "Dominican Republic",
         "orientation": "v",
         "showlegend": true,
         "type": "histogram",
         "x": [
          "Dominican Republic"
         ],
         "xaxis": "x",
         "yaxis": "y"
        },
        {
         "alignmentgroup": "True",
         "bingroup": "x",
         "hovertemplate": "Team=%{x}<br>count=%{y}<extra></extra>",
         "legendgroup": "Unified Team",
         "marker": {
          "color": "#B6E880",
          "pattern": {
           "shape": ""
          }
         },
         "name": "Unified Team",
         "offsetgroup": "Unified Team",
         "orientation": "v",
         "showlegend": true,
         "type": "histogram",
         "x": [
          "Unified Team"
         ],
         "xaxis": "x",
         "yaxis": "y"
        },
        {
         "alignmentgroup": "True",
         "bingroup": "x",
         "hovertemplate": "Team=%{x}<br>count=%{y}<extra></extra>",
         "legendgroup": "Lithuania",
         "marker": {
          "color": "#FF97FF",
          "pattern": {
           "shape": ""
          }
         },
         "name": "Lithuania",
         "offsetgroup": "Lithuania",
         "orientation": "v",
         "showlegend": true,
         "type": "histogram",
         "x": [
          "Lithuania"
         ],
         "xaxis": "x",
         "yaxis": "y"
        },
        {
         "alignmentgroup": "True",
         "bingroup": "x",
         "hovertemplate": "Team=%{x}<br>count=%{y}<extra></extra>",
         "legendgroup": "Yugoslavia",
         "marker": {
          "color": "#FECB52",
          "pattern": {
           "shape": ""
          }
         },
         "name": "Yugoslavia",
         "offsetgroup": "Yugoslavia",
         "orientation": "v",
         "showlegend": true,
         "type": "histogram",
         "x": [
          "Yugoslavia",
          "Yugoslavia",
          "Yugoslavia",
          "Yugoslavia",
          "Yugoslavia",
          "Yugoslavia"
         ],
         "xaxis": "x",
         "yaxis": "y"
        },
        {
         "alignmentgroup": "True",
         "bingroup": "x",
         "hovertemplate": "Team=%{x}<br>count=%{y}<extra></extra>",
         "legendgroup": "Uruguay",
         "marker": {
          "color": "#636efa",
          "pattern": {
           "shape": ""
          }
         },
         "name": "Uruguay",
         "offsetgroup": "Uruguay",
         "orientation": "v",
         "showlegend": true,
         "type": "histogram",
         "x": [
          "Uruguay"
         ],
         "xaxis": "x",
         "yaxis": "y"
        },
        {
         "alignmentgroup": "True",
         "bingroup": "x",
         "hovertemplate": "Team=%{x}<br>count=%{y}<extra></extra>",
         "legendgroup": "Uganda",
         "marker": {
          "color": "#EF553B",
          "pattern": {
           "shape": ""
          }
         },
         "name": "Uganda",
         "offsetgroup": "Uganda",
         "orientation": "v",
         "showlegend": true,
         "type": "histogram",
         "x": [
          "Uganda"
         ],
         "xaxis": "x",
         "yaxis": "y"
        },
        {
         "alignmentgroup": "True",
         "bingroup": "x",
         "hovertemplate": "Team=%{x}<br>count=%{y}<extra></extra>",
         "legendgroup": "Philippines",
         "marker": {
          "color": "#00cc96",
          "pattern": {
           "shape": ""
          }
         },
         "name": "Philippines",
         "offsetgroup": "Philippines",
         "orientation": "v",
         "showlegend": true,
         "type": "histogram",
         "x": [
          "Philippines",
          "Philippines",
          "Philippines"
         ],
         "xaxis": "x",
         "yaxis": "y"
        },
        {
         "alignmentgroup": "True",
         "bingroup": "x",
         "hovertemplate": "Team=%{x}<br>count=%{y}<extra></extra>",
         "legendgroup": "New Zealand",
         "marker": {
          "color": "#ab63fa",
          "pattern": {
           "shape": ""
          }
         },
         "name": "New Zealand",
         "offsetgroup": "New Zealand",
         "orientation": "v",
         "showlegend": true,
         "type": "histogram",
         "x": [
          "New Zealand"
         ],
         "xaxis": "x",
         "yaxis": "y"
        }
       ],
       "layout": {
        "barmode": "relative",
        "legend": {
         "title": {
          "text": "Team"
         },
         "tracegroupgap": 0
        },
        "template": {
         "data": {
          "bar": [
           {
            "error_x": {
             "color": "#2a3f5f"
            },
            "error_y": {
             "color": "#2a3f5f"
            },
            "marker": {
             "line": {
              "color": "#E5ECF6",
              "width": 0.5
             },
             "pattern": {
              "fillmode": "overlay",
              "size": 10,
              "solidity": 0.2
             }
            },
            "type": "bar"
           }
          ],
          "barpolar": [
           {
            "marker": {
             "line": {
              "color": "#E5ECF6",
              "width": 0.5
             },
             "pattern": {
              "fillmode": "overlay",
              "size": 10,
              "solidity": 0.2
             }
            },
            "type": "barpolar"
           }
          ],
          "carpet": [
           {
            "aaxis": {
             "endlinecolor": "#2a3f5f",
             "gridcolor": "white",
             "linecolor": "white",
             "minorgridcolor": "white",
             "startlinecolor": "#2a3f5f"
            },
            "baxis": {
             "endlinecolor": "#2a3f5f",
             "gridcolor": "white",
             "linecolor": "white",
             "minorgridcolor": "white",
             "startlinecolor": "#2a3f5f"
            },
            "type": "carpet"
           }
          ],
          "choropleth": [
           {
            "colorbar": {
             "outlinewidth": 0,
             "ticks": ""
            },
            "type": "choropleth"
           }
          ],
          "contour": [
           {
            "colorbar": {
             "outlinewidth": 0,
             "ticks": ""
            },
            "colorscale": [
             [
              0,
              "#0d0887"
             ],
             [
              0.1111111111111111,
              "#46039f"
             ],
             [
              0.2222222222222222,
              "#7201a8"
             ],
             [
              0.3333333333333333,
              "#9c179e"
             ],
             [
              0.4444444444444444,
              "#bd3786"
             ],
             [
              0.5555555555555556,
              "#d8576b"
             ],
             [
              0.6666666666666666,
              "#ed7953"
             ],
             [
              0.7777777777777778,
              "#fb9f3a"
             ],
             [
              0.8888888888888888,
              "#fdca26"
             ],
             [
              1,
              "#f0f921"
             ]
            ],
            "type": "contour"
           }
          ],
          "contourcarpet": [
           {
            "colorbar": {
             "outlinewidth": 0,
             "ticks": ""
            },
            "type": "contourcarpet"
           }
          ],
          "heatmap": [
           {
            "colorbar": {
             "outlinewidth": 0,
             "ticks": ""
            },
            "colorscale": [
             [
              0,
              "#0d0887"
             ],
             [
              0.1111111111111111,
              "#46039f"
             ],
             [
              0.2222222222222222,
              "#7201a8"
             ],
             [
              0.3333333333333333,
              "#9c179e"
             ],
             [
              0.4444444444444444,
              "#bd3786"
             ],
             [
              0.5555555555555556,
              "#d8576b"
             ],
             [
              0.6666666666666666,
              "#ed7953"
             ],
             [
              0.7777777777777778,
              "#fb9f3a"
             ],
             [
              0.8888888888888888,
              "#fdca26"
             ],
             [
              1,
              "#f0f921"
             ]
            ],
            "type": "heatmap"
           }
          ],
          "heatmapgl": [
           {
            "colorbar": {
             "outlinewidth": 0,
             "ticks": ""
            },
            "colorscale": [
             [
              0,
              "#0d0887"
             ],
             [
              0.1111111111111111,
              "#46039f"
             ],
             [
              0.2222222222222222,
              "#7201a8"
             ],
             [
              0.3333333333333333,
              "#9c179e"
             ],
             [
              0.4444444444444444,
              "#bd3786"
             ],
             [
              0.5555555555555556,
              "#d8576b"
             ],
             [
              0.6666666666666666,
              "#ed7953"
             ],
             [
              0.7777777777777778,
              "#fb9f3a"
             ],
             [
              0.8888888888888888,
              "#fdca26"
             ],
             [
              1,
              "#f0f921"
             ]
            ],
            "type": "heatmapgl"
           }
          ],
          "histogram": [
           {
            "marker": {
             "pattern": {
              "fillmode": "overlay",
              "size": 10,
              "solidity": 0.2
             }
            },
            "type": "histogram"
           }
          ],
          "histogram2d": [
           {
            "colorbar": {
             "outlinewidth": 0,
             "ticks": ""
            },
            "colorscale": [
             [
              0,
              "#0d0887"
             ],
             [
              0.1111111111111111,
              "#46039f"
             ],
             [
              0.2222222222222222,
              "#7201a8"
             ],
             [
              0.3333333333333333,
              "#9c179e"
             ],
             [
              0.4444444444444444,
              "#bd3786"
             ],
             [
              0.5555555555555556,
              "#d8576b"
             ],
             [
              0.6666666666666666,
              "#ed7953"
             ],
             [
              0.7777777777777778,
              "#fb9f3a"
             ],
             [
              0.8888888888888888,
              "#fdca26"
             ],
             [
              1,
              "#f0f921"
             ]
            ],
            "type": "histogram2d"
           }
          ],
          "histogram2dcontour": [
           {
            "colorbar": {
             "outlinewidth": 0,
             "ticks": ""
            },
            "colorscale": [
             [
              0,
              "#0d0887"
             ],
             [
              0.1111111111111111,
              "#46039f"
             ],
             [
              0.2222222222222222,
              "#7201a8"
             ],
             [
              0.3333333333333333,
              "#9c179e"
             ],
             [
              0.4444444444444444,
              "#bd3786"
             ],
             [
              0.5555555555555556,
              "#d8576b"
             ],
             [
              0.6666666666666666,
              "#ed7953"
             ],
             [
              0.7777777777777778,
              "#fb9f3a"
             ],
             [
              0.8888888888888888,
              "#fdca26"
             ],
             [
              1,
              "#f0f921"
             ]
            ],
            "type": "histogram2dcontour"
           }
          ],
          "mesh3d": [
           {
            "colorbar": {
             "outlinewidth": 0,
             "ticks": ""
            },
            "type": "mesh3d"
           }
          ],
          "parcoords": [
           {
            "line": {
             "colorbar": {
              "outlinewidth": 0,
              "ticks": ""
             }
            },
            "type": "parcoords"
           }
          ],
          "pie": [
           {
            "automargin": true,
            "type": "pie"
           }
          ],
          "scatter": [
           {
            "fillpattern": {
             "fillmode": "overlay",
             "size": 10,
             "solidity": 0.2
            },
            "type": "scatter"
           }
          ],
          "scatter3d": [
           {
            "line": {
             "colorbar": {
              "outlinewidth": 0,
              "ticks": ""
             }
            },
            "marker": {
             "colorbar": {
              "outlinewidth": 0,
              "ticks": ""
             }
            },
            "type": "scatter3d"
           }
          ],
          "scattercarpet": [
           {
            "marker": {
             "colorbar": {
              "outlinewidth": 0,
              "ticks": ""
             }
            },
            "type": "scattercarpet"
           }
          ],
          "scattergeo": [
           {
            "marker": {
             "colorbar": {
              "outlinewidth": 0,
              "ticks": ""
             }
            },
            "type": "scattergeo"
           }
          ],
          "scattergl": [
           {
            "marker": {
             "colorbar": {
              "outlinewidth": 0,
              "ticks": ""
             }
            },
            "type": "scattergl"
           }
          ],
          "scattermapbox": [
           {
            "marker": {
             "colorbar": {
              "outlinewidth": 0,
              "ticks": ""
             }
            },
            "type": "scattermapbox"
           }
          ],
          "scatterpolar": [
           {
            "marker": {
             "colorbar": {
              "outlinewidth": 0,
              "ticks": ""
             }
            },
            "type": "scatterpolar"
           }
          ],
          "scatterpolargl": [
           {
            "marker": {
             "colorbar": {
              "outlinewidth": 0,
              "ticks": ""
             }
            },
            "type": "scatterpolargl"
           }
          ],
          "scatterternary": [
           {
            "marker": {
             "colorbar": {
              "outlinewidth": 0,
              "ticks": ""
             }
            },
            "type": "scatterternary"
           }
          ],
          "surface": [
           {
            "colorbar": {
             "outlinewidth": 0,
             "ticks": ""
            },
            "colorscale": [
             [
              0,
              "#0d0887"
             ],
             [
              0.1111111111111111,
              "#46039f"
             ],
             [
              0.2222222222222222,
              "#7201a8"
             ],
             [
              0.3333333333333333,
              "#9c179e"
             ],
             [
              0.4444444444444444,
              "#bd3786"
             ],
             [
              0.5555555555555556,
              "#d8576b"
             ],
             [
              0.6666666666666666,
              "#ed7953"
             ],
             [
              0.7777777777777778,
              "#fb9f3a"
             ],
             [
              0.8888888888888888,
              "#fdca26"
             ],
             [
              1,
              "#f0f921"
             ]
            ],
            "type": "surface"
           }
          ],
          "table": [
           {
            "cells": {
             "fill": {
              "color": "#EBF0F8"
             },
             "line": {
              "color": "white"
             }
            },
            "header": {
             "fill": {
              "color": "#C8D4E3"
             },
             "line": {
              "color": "white"
             }
            },
            "type": "table"
           }
          ]
         },
         "layout": {
          "annotationdefaults": {
           "arrowcolor": "#2a3f5f",
           "arrowhead": 0,
           "arrowwidth": 1
          },
          "autotypenumbers": "strict",
          "coloraxis": {
           "colorbar": {
            "outlinewidth": 0,
            "ticks": ""
           }
          },
          "colorscale": {
           "diverging": [
            [
             0,
             "#8e0152"
            ],
            [
             0.1,
             "#c51b7d"
            ],
            [
             0.2,
             "#de77ae"
            ],
            [
             0.3,
             "#f1b6da"
            ],
            [
             0.4,
             "#fde0ef"
            ],
            [
             0.5,
             "#f7f7f7"
            ],
            [
             0.6,
             "#e6f5d0"
            ],
            [
             0.7,
             "#b8e186"
            ],
            [
             0.8,
             "#7fbc41"
            ],
            [
             0.9,
             "#4d9221"
            ],
            [
             1,
             "#276419"
            ]
           ],
           "sequential": [
            [
             0,
             "#0d0887"
            ],
            [
             0.1111111111111111,
             "#46039f"
            ],
            [
             0.2222222222222222,
             "#7201a8"
            ],
            [
             0.3333333333333333,
             "#9c179e"
            ],
            [
             0.4444444444444444,
             "#bd3786"
            ],
            [
             0.5555555555555556,
             "#d8576b"
            ],
            [
             0.6666666666666666,
             "#ed7953"
            ],
            [
             0.7777777777777778,
             "#fb9f3a"
            ],
            [
             0.8888888888888888,
             "#fdca26"
            ],
            [
             1,
             "#f0f921"
            ]
           ],
           "sequentialminus": [
            [
             0,
             "#0d0887"
            ],
            [
             0.1111111111111111,
             "#46039f"
            ],
            [
             0.2222222222222222,
             "#7201a8"
            ],
            [
             0.3333333333333333,
             "#9c179e"
            ],
            [
             0.4444444444444444,
             "#bd3786"
            ],
            [
             0.5555555555555556,
             "#d8576b"
            ],
            [
             0.6666666666666666,
             "#ed7953"
            ],
            [
             0.7777777777777778,
             "#fb9f3a"
            ],
            [
             0.8888888888888888,
             "#fdca26"
            ],
            [
             1,
             "#f0f921"
            ]
           ]
          },
          "colorway": [
           "#636efa",
           "#EF553B",
           "#00cc96",
           "#ab63fa",
           "#FFA15A",
           "#19d3f3",
           "#FF6692",
           "#B6E880",
           "#FF97FF",
           "#FECB52"
          ],
          "font": {
           "color": "#2a3f5f"
          },
          "geo": {
           "bgcolor": "white",
           "lakecolor": "white",
           "landcolor": "#E5ECF6",
           "showlakes": true,
           "showland": true,
           "subunitcolor": "white"
          },
          "hoverlabel": {
           "align": "left"
          },
          "hovermode": "closest",
          "mapbox": {
           "style": "light"
          },
          "paper_bgcolor": "white",
          "plot_bgcolor": "#E5ECF6",
          "polar": {
           "angularaxis": {
            "gridcolor": "white",
            "linecolor": "white",
            "ticks": ""
           },
           "bgcolor": "#E5ECF6",
           "radialaxis": {
            "gridcolor": "white",
            "linecolor": "white",
            "ticks": ""
           }
          },
          "scene": {
           "xaxis": {
            "backgroundcolor": "#E5ECF6",
            "gridcolor": "white",
            "gridwidth": 2,
            "linecolor": "white",
            "showbackground": true,
            "ticks": "",
            "zerolinecolor": "white"
           },
           "yaxis": {
            "backgroundcolor": "#E5ECF6",
            "gridcolor": "white",
            "gridwidth": 2,
            "linecolor": "white",
            "showbackground": true,
            "ticks": "",
            "zerolinecolor": "white"
           },
           "zaxis": {
            "backgroundcolor": "#E5ECF6",
            "gridcolor": "white",
            "gridwidth": 2,
            "linecolor": "white",
            "showbackground": true,
            "ticks": "",
            "zerolinecolor": "white"
           }
          },
          "shapedefaults": {
           "line": {
            "color": "#2a3f5f"
           }
          },
          "ternary": {
           "aaxis": {
            "gridcolor": "white",
            "linecolor": "white",
            "ticks": ""
           },
           "baxis": {
            "gridcolor": "white",
            "linecolor": "white",
            "ticks": ""
           },
           "bgcolor": "#E5ECF6",
           "caxis": {
            "gridcolor": "white",
            "linecolor": "white",
            "ticks": ""
           }
          },
          "title": {
           "x": 0.05
          },
          "xaxis": {
           "automargin": true,
           "gridcolor": "white",
           "linecolor": "white",
           "ticks": "",
           "title": {
            "standoff": 15
           },
           "zerolinecolor": "white",
           "zerolinewidth": 2
          },
          "yaxis": {
           "automargin": true,
           "gridcolor": "white",
           "linecolor": "white",
           "ticks": "",
           "title": {
            "standoff": 15
           },
           "zerolinecolor": "white",
           "zerolinewidth": 2
          }
         }
        },
        "title": {
         "text": "Distribution of bronze medals for each team in boxing"
        },
        "xaxis": {
         "anchor": "y",
         "categoryarray": [
          "Puerto Rico",
          "Morocco",
          "Cuba",
          "Poland",
          "Sweden",
          "Finland",
          "Uzbekistan",
          "Syria",
          "Algeria",
          "Russia",
          "Ghana",
          "Guyana",
          "Brazil",
          "South Africa",
          "Azerbaijan",
          "United States",
          "Turkey",
          "Italy",
          "Ireland",
          "Chile",
          "East Germany",
          "France",
          "Belgium",
          "Mexico",
          "Hungary",
          "Kenya",
          "Venezuela",
          "Great Britain",
          "Soviet Union",
          "Georgia",
          "Argentina",
          "Thailand",
          "Tajikistan",
          "Romania",
          "Niger",
          "Ukraine",
          "Nigeria",
          "Mongolia",
          "Canada",
          "Kazakhstan",
          "United Arab Republic",
          "Egypt",
          "Czechoslovakia",
          "Tunisia",
          "South Korea",
          "Bulgaria",
          "West Germany",
          "Moldova",
          "China",
          "Germany",
          "Bermuda",
          "Australia",
          "Croatia",
          "Pakistan",
          "Armenia",
          "Denmark",
          "Mauritius",
          "Colombia",
          "North Korea",
          "India",
          "Spain",
          "Netherlands",
          "Japan",
          "Zambia",
          "Cameroon",
          "Norway",
          "Dominican Republic",
          "Unified Team",
          "Lithuania",
          "Yugoslavia",
          "Uruguay",
          "Uganda",
          "Philippines",
          "New Zealand"
         ],
         "categoryorder": "array",
         "domain": [
          0,
          1
         ],
         "title": {
          "text": "Team"
         }
        },
        "yaxis": {
         "anchor": "x",
         "domain": [
          0,
          1
         ],
         "title": {
          "text": "count"
         },
         "type": "log"
        }
       }
      }
     },
     "metadata": {},
     "output_type": "display_data"
    }
   ],
   "source": [
    "# plot the distribution of bronze medals for each team\n",
    "fig = px.histogram(\n",
    "    df_boxing_bronze,\n",
    "    x=\"Team\",\n",
    "    log_y=True,\n",
    "    color=\"Team\",\n",
    "    title=\"Distribution of bronze medals for each team in boxing\",\n",
    "    labels={\"Team\": \"Team\", \"count\": \"Number of bronze medals\"},\n",
    ")\n",
    "fig.show()"
   ]
  },
  {
   "cell_type": "code",
   "execution_count": 724,
   "metadata": {},
   "outputs": [
    {
     "data": {
      "application/vnd.plotly.v1+json": {
       "config": {
        "plotlyServerURL": "https://plot.ly"
       },
       "data": [
        {
         "hovertemplate": "Team=%{x}<br>Age=%{y}<extra></extra>",
         "legendgroup": "Uzbekistan",
         "marker": {
          "color": "#636efa",
          "symbol": "circle"
         },
         "mode": "markers",
         "name": "Uzbekistan",
         "orientation": "v",
         "showlegend": true,
         "type": "scatter",
         "x": [
          "Uzbekistan",
          "Uzbekistan",
          "Uzbekistan",
          "Uzbekistan",
          "Uzbekistan",
          "Uzbekistan",
          "Uzbekistan",
          "Uzbekistan",
          "Uzbekistan",
          "Uzbekistan",
          "Uzbekistan",
          "Uzbekistan",
          "Uzbekistan",
          "Uzbekistan"
         ],
         "xaxis": "x",
         "y": [
          26,
          21,
          26,
          23,
          25,
          23,
          30,
          20,
          24,
          22,
          19,
          24,
          22,
          23
         ],
         "yaxis": "y"
        },
        {
         "hovertemplate": "Team=%{x}<br>Age=%{y}<extra></extra>",
         "legendgroup": "Puerto Rico",
         "marker": {
          "color": "#EF553B",
          "symbol": "circle"
         },
         "mode": "markers",
         "name": "Puerto Rico",
         "orientation": "v",
         "showlegend": true,
         "type": "scatter",
         "x": [
          "Puerto Rico",
          "Puerto Rico",
          "Puerto Rico",
          "Puerto Rico",
          "Puerto Rico",
          "Puerto Rico"
         ],
         "xaxis": "x",
         "y": [
          21,
          23,
          17,
          18,
          20,
          19
         ],
         "yaxis": "y"
        },
        {
         "hovertemplate": "Team=%{x}<br>Age=%{y}<extra></extra>",
         "legendgroup": "Morocco",
         "marker": {
          "color": "#00cc96",
          "symbol": "circle"
         },
         "mode": "markers",
         "name": "Morocco",
         "orientation": "v",
         "showlegend": true,
         "type": "scatter",
         "x": [
          "Morocco",
          "Morocco",
          "Morocco",
          "Morocco"
         ],
         "xaxis": "x",
         "y": [
          29,
          27,
          23,
          20
         ],
         "yaxis": "y"
        },
        {
         "hovertemplate": "Team=%{x}<br>Age=%{y}<extra></extra>",
         "legendgroup": "Cuba",
         "marker": {
          "color": "#ab63fa",
          "symbol": "circle"
         },
         "mode": "markers",
         "name": "Cuba",
         "orientation": "v",
         "showlegend": true,
         "type": "scatter",
         "x": [
          "Cuba",
          "Cuba",
          "Cuba",
          "Cuba",
          "Cuba",
          "Cuba",
          "Cuba",
          "Cuba",
          "Cuba",
          "Cuba",
          "Cuba",
          "Cuba",
          "Cuba",
          "Cuba",
          "Cuba",
          "Cuba",
          "Cuba",
          "Cuba",
          "Cuba",
          "Cuba",
          "Cuba",
          "Cuba",
          "Cuba",
          "Cuba",
          "Cuba",
          "Cuba",
          "Cuba",
          "Cuba",
          "Cuba",
          "Cuba",
          "Cuba",
          "Cuba",
          "Cuba",
          "Cuba",
          "Cuba",
          "Cuba",
          "Cuba",
          "Cuba",
          "Cuba",
          "Cuba",
          "Cuba",
          "Cuba",
          "Cuba",
          "Cuba",
          "Cuba",
          "Cuba",
          "Cuba",
          "Cuba",
          "Cuba",
          "Cuba",
          "Cuba",
          "Cuba",
          "Cuba",
          "Cuba",
          "Cuba",
          "Cuba",
          "Cuba",
          "Cuba",
          "Cuba",
          "Cuba",
          "Cuba",
          "Cuba",
          "Cuba",
          "Cuba",
          "Cuba",
          "Cuba",
          "Cuba",
          "Cuba",
          "Cuba",
          "Cuba",
          "Cuba",
          "Cuba",
          "Cuba"
         ],
         "xaxis": "x",
         "y": [
          23,
          20,
          20,
          24,
          21,
          25,
          30,
          19,
          23,
          21,
          24,
          21,
          21,
          19,
          22,
          21,
          28,
          22,
          20,
          28,
          21,
          25,
          24,
          22,
          26,
          21,
          23,
          17,
          23,
          27,
          18,
          22,
          22,
          19,
          23,
          23,
          29,
          33,
          26,
          30,
          27,
          26,
          23,
          27,
          23,
          27,
          18,
          21,
          27,
          28,
          18,
          22,
          24,
          20,
          19,
          23,
          22,
          25,
          23,
          27,
          26,
          24,
          28,
          32,
          24,
          22,
          20,
          24,
          28,
          22,
          22,
          19,
          23
         ],
         "yaxis": "y"
        },
        {
         "hovertemplate": "Team=%{x}<br>Age=%{y}<extra></extra>",
         "legendgroup": "Poland",
         "marker": {
          "color": "#FFA15A",
          "symbol": "circle"
         },
         "mode": "markers",
         "name": "Poland",
         "orientation": "v",
         "showlegend": true,
         "type": "scatter",
         "x": [
          "Poland",
          "Poland",
          "Poland",
          "Poland",
          "Poland",
          "Poland",
          "Poland",
          "Poland",
          "Poland",
          "Poland",
          "Poland",
          "Poland",
          "Poland",
          "Poland",
          "Poland",
          "Poland",
          "Poland",
          "Poland",
          "Poland",
          "Poland",
          "Poland",
          "Poland",
          "Poland",
          "Poland",
          "Poland",
          "Poland",
          "Poland",
          "Poland",
          "Poland",
          "Poland",
          "Poland",
          "Poland",
          "Poland",
          "Poland",
          "Poland",
          "Poland",
          "Poland",
          "Poland",
          "Poland",
          "Poland",
          "Poland",
          "Poland",
          "Poland"
         ],
         "xaxis": "x",
         "y": [
          23,
          23,
          24,
          28,
          24,
          21,
          23,
          27,
          25,
          26,
          27,
          20,
          24,
          28,
          20,
          25,
          29,
          23,
          20,
          25,
          19,
          22,
          23,
          27,
          23,
          24,
          28,
          25,
          29,
          22,
          25,
          30,
          25,
          23,
          27,
          22,
          25,
          32,
          22,
          26,
          24,
          28,
          29
         ],
         "yaxis": "y"
        },
        {
         "hovertemplate": "Team=%{x}<br>Age=%{y}<extra></extra>",
         "legendgroup": "Great Britain",
         "marker": {
          "color": "#19d3f3",
          "symbol": "circle"
         },
         "mode": "markers",
         "name": "Great Britain",
         "orientation": "v",
         "showlegend": true,
         "type": "scatter",
         "x": [
          "Great Britain",
          "Great Britain",
          "Great Britain",
          "Great Britain",
          "Great Britain",
          "Great Britain",
          "Great Britain",
          "Great Britain",
          "Great Britain",
          "Great Britain",
          "Great Britain",
          "Great Britain",
          "Great Britain",
          "Great Britain",
          "Great Britain",
          "Great Britain",
          "Great Britain",
          "Great Britain",
          "Great Britain",
          "Great Britain",
          "Great Britain",
          "Great Britain",
          "Great Britain",
          "Great Britain",
          "Great Britain",
          "Great Britain",
          "Great Britain",
          "Great Britain",
          "Great Britain",
          "Great Britain",
          "Great Britain",
          "Great Britain",
          "Great Britain",
          "Great Britain",
          "Great Britain",
          "Great Britain",
          "Great Britain",
          "Great Britain",
          "Great Britain",
          "Great Britain",
          "Great Britain",
          "Great Britain",
          "Great Britain",
          "Great Britain",
          "Great Britain",
          "Great Britain",
          "Great Britain",
          "Great Britain",
          "Great Britain",
          "Great Britain",
          "Great Britain",
          "Great Britain",
          "Great Britain",
          "Great Britain",
          "Great Britain",
          "Great Britain"
         ],
         "xaxis": "x",
         "y": [
          29,
          33,
          23,
          24,
          19,
          22,
          17,
          22,
          25,
          22,
          21,
          18,
          24,
          24,
          20,
          24,
          22,
          24,
          37,
          28,
          19,
          23,
          20,
          22,
          30,
          17,
          21,
          27,
          31,
          21,
          19,
          20,
          21,
          24,
          21,
          26,
          24,
          25,
          23,
          24,
          33,
          26,
          25,
          27,
          21,
          21,
          20,
          23,
          18,
          19,
          20,
          25,
          23,
          20,
          20,
          19
         ],
         "yaxis": "y"
        },
        {
         "hovertemplate": "Team=%{x}<br>Age=%{y}<extra></extra>",
         "legendgroup": "United States",
         "marker": {
          "color": "#FF6692",
          "symbol": "circle"
         },
         "mode": "markers",
         "name": "United States",
         "orientation": "v",
         "showlegend": true,
         "type": "scatter",
         "x": [
          "United States",
          "United States",
          "United States",
          "United States",
          "United States",
          "United States",
          "United States",
          "United States",
          "United States",
          "United States",
          "United States",
          "United States",
          "United States",
          "United States",
          "United States",
          "United States",
          "United States",
          "United States",
          "United States",
          "United States",
          "United States",
          "United States",
          "United States",
          "United States",
          "United States",
          "United States",
          "United States",
          "United States",
          "United States",
          "United States",
          "United States",
          "United States",
          "United States",
          "United States",
          "United States",
          "United States",
          "United States",
          "United States",
          "United States",
          "United States",
          "United States",
          "United States",
          "United States",
          "United States",
          "United States",
          "United States",
          "United States",
          "United States",
          "United States",
          "United States",
          "United States",
          "United States",
          "United States",
          "United States",
          "United States",
          "United States",
          "United States",
          "United States",
          "United States",
          "United States",
          "United States",
          "United States",
          "United States",
          "United States",
          "United States",
          "United States",
          "United States",
          "United States",
          "United States",
          "United States",
          "United States",
          "United States",
          "United States",
          "United States",
          "United States",
          "United States",
          "United States",
          "United States",
          "United States",
          "United States",
          "United States",
          "United States",
          "United States",
          "United States",
          "United States",
          "United States",
          "United States",
          "United States",
          "United States",
          "United States",
          "United States",
          "United States",
          "United States",
          "United States",
          "United States",
          "United States",
          "United States",
          "United States",
          "United States",
          "United States",
          "United States",
          "United States",
          "United States",
          "United States",
          "United States",
          "United States",
          "United States",
          "United States",
          "United States",
          "United States",
          "United States",
          "United States",
          "United States"
         ],
         "xaxis": "x",
         "y": [
          20,
          21,
          19,
          19,
          19,
          23,
          19,
          21,
          25,
          21,
          21,
          18,
          25,
          19,
          21,
          21,
          26,
          22,
          20,
          18,
          31,
          18,
          19,
          20,
          19,
          18,
          21,
          21,
          22,
          22,
          20,
          21,
          16,
          24,
          24,
          22,
          19,
          20,
          18,
          17,
          20,
          21,
          19,
          21,
          20,
          17,
          20,
          26,
          20,
          21,
          18,
          22,
          23,
          19,
          20,
          20,
          20,
          19,
          18,
          18,
          27,
          20,
          26,
          25,
          24,
          24,
          24,
          19,
          21,
          20,
          22,
          27,
          27,
          25,
          23,
          23,
          17,
          28,
          18,
          22,
          21,
          20,
          19,
          22,
          19,
          17,
          21,
          31,
          31,
          23,
          19,
          24,
          19,
          18,
          27,
          19,
          21,
          22,
          17,
          23,
          20,
          19,
          25,
          18,
          22,
          24,
          20,
          19,
          20,
          22,
          19,
          18,
          26
         ],
         "yaxis": "y"
        },
        {
         "hovertemplate": "Team=%{x}<br>Age=%{y}<extra></extra>",
         "legendgroup": "Sweden",
         "marker": {
          "color": "#B6E880",
          "symbol": "circle"
         },
         "mode": "markers",
         "name": "Sweden",
         "orientation": "v",
         "showlegend": true,
         "type": "scatter",
         "x": [
          "Sweden",
          "Sweden",
          "Sweden",
          "Sweden",
          "Sweden",
          "Sweden",
          "Sweden",
          "Sweden",
          "Sweden",
          "Sweden",
          "Sweden"
         ],
         "xaxis": "x",
         "y": [
          20,
          25,
          20,
          21,
          21,
          19,
          23,
          25,
          25,
          23,
          30
         ],
         "yaxis": "y"
        },
        {
         "hovertemplate": "Team=%{x}<br>Age=%{y}<extra></extra>",
         "legendgroup": "Finland",
         "marker": {
          "color": "#FF97FF",
          "symbol": "circle"
         },
         "mode": "markers",
         "name": "Finland",
         "orientation": "v",
         "showlegend": true,
         "type": "scatter",
         "x": [
          "Finland",
          "Finland",
          "Finland",
          "Finland",
          "Finland",
          "Finland",
          "Finland",
          "Finland",
          "Finland",
          "Finland",
          "Finland",
          "Finland",
          "Finland",
          "Finland",
          "Finland"
         ],
         "xaxis": "x",
         "y": [
          21,
          22,
          26,
          23,
          24,
          25,
          24,
          20,
          21,
          22,
          35,
          22,
          29,
          24,
          24
         ],
         "yaxis": "y"
        },
        {
         "hovertemplate": "Team=%{x}<br>Age=%{y}<extra></extra>",
         "legendgroup": "Syria",
         "marker": {
          "color": "#FECB52",
          "symbol": "circle"
         },
         "mode": "markers",
         "name": "Syria",
         "orientation": "v",
         "showlegend": true,
         "type": "scatter",
         "x": [
          "Syria"
         ],
         "xaxis": "x",
         "y": [
          22
         ],
         "yaxis": "y"
        },
        {
         "hovertemplate": "Team=%{x}<br>Age=%{y}<extra></extra>",
         "legendgroup": "Romania",
         "marker": {
          "color": "#636efa",
          "symbol": "circle"
         },
         "mode": "markers",
         "name": "Romania",
         "orientation": "v",
         "showlegend": true,
         "type": "scatter",
         "x": [
          "Romania",
          "Romania",
          "Romania",
          "Romania",
          "Romania",
          "Romania",
          "Romania",
          "Romania",
          "Romania",
          "Romania",
          "Romania",
          "Romania",
          "Romania",
          "Romania",
          "Romania",
          "Romania",
          "Romania",
          "Romania",
          "Romania",
          "Romania",
          "Romania",
          "Romania",
          "Romania",
          "Romania",
          "Romania"
         ],
         "xaxis": "x",
         "y": [
          26,
          22,
          20,
          24,
          22,
          26,
          22,
          26,
          25,
          19,
          23,
          25,
          20,
          27,
          19,
          27,
          27,
          22,
          23,
          23,
          20,
          24,
          22,
          24,
          28
         ],
         "yaxis": "y"
        },
        {
         "hovertemplate": "Team=%{x}<br>Age=%{y}<extra></extra>",
         "legendgroup": "Algeria",
         "marker": {
          "color": "#EF553B",
          "symbol": "circle"
         },
         "mode": "markers",
         "name": "Algeria",
         "orientation": "v",
         "showlegend": true,
         "type": "scatter",
         "x": [
          "Algeria",
          "Algeria",
          "Algeria",
          "Algeria",
          "Algeria",
          "Algeria"
         ],
         "xaxis": "x",
         "y": [
          26,
          20,
          22,
          19,
          23,
          24
         ],
         "yaxis": "y"
        },
        {
         "hovertemplate": "Team=%{x}<br>Age=%{y}<extra></extra>",
         "legendgroup": "Russia",
         "marker": {
          "color": "#00cc96",
          "symbol": "circle"
         },
         "mode": "markers",
         "name": "Russia",
         "orientation": "v",
         "showlegend": true,
         "type": "scatter",
         "x": [
          "Russia",
          "Russia",
          "Russia",
          "Russia",
          "Russia",
          "Russia",
          "Russia",
          "Russia",
          "Russia",
          "Russia",
          "Russia",
          "Russia",
          "Russia",
          "Russia",
          "Russia",
          "Russia",
          "Russia",
          "Russia",
          "Russia",
          "Russia",
          "Russia",
          "Russia",
          "Russia",
          "Russia",
          "Russia",
          "Russia",
          "Russia",
          "Russia",
          "Russia",
          "Russia"
         ],
         "xaxis": "x",
         "y": [
          23,
          28,
          28,
          23,
          25,
          24,
          21,
          23,
          27,
          25,
          28,
          21,
          31,
          23,
          21,
          26,
          25,
          27,
          26,
          25,
          28,
          24,
          22,
          26,
          30,
          20,
          24,
          25,
          33,
          25
         ],
         "yaxis": "y"
        },
        {
         "hovertemplate": "Team=%{x}<br>Age=%{y}<extra></extra>",
         "legendgroup": "Egypt",
         "marker": {
          "color": "#ab63fa",
          "symbol": "circle"
         },
         "mode": "markers",
         "name": "Egypt",
         "orientation": "v",
         "showlegend": true,
         "type": "scatter",
         "x": [
          "Egypt",
          "Egypt",
          "Egypt"
         ],
         "xaxis": "x",
         "y": [
          29,
          31,
          28
         ],
         "yaxis": "y"
        },
        {
         "hovertemplate": "Team=%{x}<br>Age=%{y}<extra></extra>",
         "legendgroup": "Ghana",
         "marker": {
          "color": "#FFA15A",
          "symbol": "circle"
         },
         "mode": "markers",
         "name": "Ghana",
         "orientation": "v",
         "showlegend": true,
         "type": "scatter",
         "x": [
          "Ghana",
          "Ghana",
          "Ghana"
         ],
         "xaxis": "x",
         "y": [
          28,
          26,
          22
         ],
         "yaxis": "y"
        },
        {
         "hovertemplate": "Team=%{x}<br>Age=%{y}<extra></extra>",
         "legendgroup": "South Korea",
         "marker": {
          "color": "#19d3f3",
          "symbol": "circle"
         },
         "mode": "markers",
         "name": "South Korea",
         "orientation": "v",
         "showlegend": true,
         "type": "scatter",
         "x": [
          "South Korea",
          "South Korea",
          "South Korea",
          "South Korea",
          "South Korea",
          "South Korea",
          "South Korea",
          "South Korea",
          "South Korea",
          "South Korea",
          "South Korea",
          "South Korea",
          "South Korea",
          "South Korea",
          "South Korea",
          "South Korea",
          "South Korea",
          "South Korea",
          "South Korea",
          "South Korea"
         ],
         "xaxis": "x",
         "y": [
          20,
          24,
          24,
          22,
          27,
          24,
          22,
          23,
          24,
          19,
          24,
          24,
          22,
          26,
          19,
          21,
          25,
          22,
          21,
          22
         ],
         "yaxis": "y"
        },
        {
         "hovertemplate": "Team=%{x}<br>Age=%{y}<extra></extra>",
         "legendgroup": "Bulgaria",
         "marker": {
          "color": "#FF6692",
          "symbol": "circle"
         },
         "mode": "markers",
         "name": "Bulgaria",
         "orientation": "v",
         "showlegend": true,
         "type": "scatter",
         "x": [
          "Bulgaria",
          "Bulgaria",
          "Bulgaria",
          "Bulgaria",
          "Bulgaria",
          "Bulgaria",
          "Bulgaria",
          "Bulgaria",
          "Bulgaria",
          "Bulgaria",
          "Bulgaria",
          "Bulgaria",
          "Bulgaria",
          "Bulgaria",
          "Bulgaria",
          "Bulgaria",
          "Bulgaria",
          "Bulgaria"
         ],
         "xaxis": "x",
         "y": [
          24,
          20,
          24,
          21,
          24,
          22,
          22,
          19,
          23,
          20,
          28,
          24,
          23,
          29,
          28,
          25,
          27,
          23
         ],
         "yaxis": "y"
        },
        {
         "hovertemplate": "Team=%{x}<br>Age=%{y}<extra></extra>",
         "legendgroup": "Guyana",
         "marker": {
          "color": "#B6E880",
          "symbol": "circle"
         },
         "mode": "markers",
         "name": "Guyana",
         "orientation": "v",
         "showlegend": true,
         "type": "scatter",
         "x": [
          "Guyana"
         ],
         "xaxis": "x",
         "y": [
          22
         ],
         "yaxis": "y"
        },
        {
         "hovertemplate": "Team=%{x}<br>Age=%{y}<extra></extra>",
         "legendgroup": "France",
         "marker": {
          "color": "#FF97FF",
          "symbol": "circle"
         },
         "mode": "markers",
         "name": "France",
         "orientation": "v",
         "showlegend": true,
         "type": "scatter",
         "x": [
          "France",
          "France",
          "France",
          "France",
          "France",
          "France",
          "France",
          "France",
          "France",
          "France",
          "France",
          "France",
          "France",
          "France",
          "France",
          "France",
          "France",
          "France",
          "France",
          "France",
          "France",
          "France",
          "France",
          "France",
          "France"
         ],
         "xaxis": "x",
         "y": [
          23,
          21,
          27,
          21,
          17,
          23,
          25,
          20,
          24,
          22,
          19,
          25,
          23,
          21,
          24,
          23,
          21,
          34,
          25,
          21,
          25,
          21,
          21,
          22,
          24
         ],
         "yaxis": "y"
        },
        {
         "hovertemplate": "Team=%{x}<br>Age=%{y}<extra></extra>",
         "legendgroup": "Brazil",
         "marker": {
          "color": "#FECB52",
          "symbol": "circle"
         },
         "mode": "markers",
         "name": "Brazil",
         "orientation": "v",
         "showlegend": true,
         "type": "scatter",
         "x": [
          "Brazil",
          "Brazil",
          "Brazil",
          "Brazil",
          "Brazil"
         ],
         "xaxis": "x",
         "y": [
          30,
          27,
          20,
          24,
          22
         ],
         "yaxis": "y"
        },
        {
         "hovertemplate": "Team=%{x}<br>Age=%{y}<extra></extra>",
         "legendgroup": "Belarus",
         "marker": {
          "color": "#636efa",
          "symbol": "circle"
         },
         "mode": "markers",
         "name": "Belarus",
         "orientation": "v",
         "showlegend": true,
         "type": "scatter",
         "x": [
          "Belarus",
          "Belarus"
         ],
         "xaxis": "x",
         "y": [
          26,
          21
         ],
         "yaxis": "y"
        },
        {
         "hovertemplate": "Team=%{x}<br>Age=%{y}<extra></extra>",
         "legendgroup": "Kazakhstan",
         "marker": {
          "color": "#EF553B",
          "symbol": "circle"
         },
         "mode": "markers",
         "name": "Kazakhstan",
         "orientation": "v",
         "showlegend": true,
         "type": "scatter",
         "x": [
          "Kazakhstan",
          "Kazakhstan",
          "Kazakhstan",
          "Kazakhstan",
          "Kazakhstan",
          "Kazakhstan",
          "Kazakhstan",
          "Kazakhstan",
          "Kazakhstan",
          "Kazakhstan",
          "Kazakhstan",
          "Kazakhstan",
          "Kazakhstan",
          "Kazakhstan",
          "Kazakhstan",
          "Kazakhstan",
          "Kazakhstan",
          "Kazakhstan",
          "Kazakhstan",
          "Kazakhstan",
          "Kazakhstan",
          "Kazakhstan"
         ],
         "xaxis": "x",
         "y": [
          21,
          24,
          21,
          25,
          22,
          24,
          28,
          28,
          23,
          27,
          23,
          28,
          26,
          20,
          27,
          20,
          22,
          23,
          25,
          22,
          23,
          27
         ],
         "yaxis": "y"
        },
        {
         "hovertemplate": "Team=%{x}<br>Age=%{y}<extra></extra>",
         "legendgroup": "South Africa",
         "marker": {
          "color": "#00cc96",
          "symbol": "circle"
         },
         "mode": "markers",
         "name": "South Africa",
         "orientation": "v",
         "showlegend": true,
         "type": "scatter",
         "x": [
          "South Africa",
          "South Africa",
          "South Africa",
          "South Africa",
          "South Africa",
          "South Africa",
          "South Africa",
          "South Africa",
          "South Africa",
          "South Africa",
          "South Africa",
          "South Africa",
          "South Africa",
          "South Africa",
          "South Africa",
          "South Africa",
          "South Africa",
          "South Africa",
          "South Africa"
         ],
         "xaxis": "x",
         "y": [
          18,
          24,
          28,
          24,
          21,
          18,
          21,
          20,
          17,
          20,
          17,
          24,
          22,
          21,
          19,
          19,
          18,
          22,
          21
         ],
         "yaxis": "y"
        },
        {
         "hovertemplate": "Team=%{x}<br>Age=%{y}<extra></extra>",
         "legendgroup": "Azerbaijan",
         "marker": {
          "color": "#ab63fa",
          "symbol": "circle"
         },
         "mode": "markers",
         "name": "Azerbaijan",
         "orientation": "v",
         "showlegend": true,
         "type": "scatter",
         "x": [
          "Azerbaijan",
          "Azerbaijan",
          "Azerbaijan",
          "Azerbaijan",
          "Azerbaijan",
          "Azerbaijan",
          "Azerbaijan",
          "Azerbaijan"
         ],
         "xaxis": "x",
         "y": [
          21,
          27,
          19,
          25,
          24,
          19,
          23,
          31
         ],
         "yaxis": "y"
        },
        {
         "hovertemplate": "Team=%{x}<br>Age=%{y}<extra></extra>",
         "legendgroup": "Italy",
         "marker": {
          "color": "#FFA15A",
          "symbol": "circle"
         },
         "mode": "markers",
         "name": "Italy",
         "orientation": "v",
         "showlegend": true,
         "type": "scatter",
         "x": [
          "Italy",
          "Italy",
          "Italy",
          "Italy",
          "Italy",
          "Italy",
          "Italy",
          "Italy",
          "Italy",
          "Italy",
          "Italy",
          "Italy",
          "Italy",
          "Italy",
          "Italy",
          "Italy",
          "Italy",
          "Italy",
          "Italy",
          "Italy",
          "Italy",
          "Italy",
          "Italy",
          "Italy",
          "Italy",
          "Italy",
          "Italy",
          "Italy",
          "Italy",
          "Italy",
          "Italy",
          "Italy",
          "Italy",
          "Italy",
          "Italy",
          "Italy",
          "Italy",
          "Italy",
          "Italy",
          "Italy",
          "Italy",
          "Italy",
          "Italy",
          "Italy",
          "Italy",
          "Italy",
          "Italy"
         ],
         "xaxis": "x",
         "y": [
          22,
          23,
          27,
          22,
          24,
          21,
          20,
          23,
          21,
          24,
          28,
          31,
          20,
          21,
          25,
          22,
          20,
          21,
          20,
          19,
          20,
          23,
          26,
          21,
          23,
          21,
          21,
          18,
          20,
          24,
          21,
          22,
          24,
          27,
          26,
          29,
          22,
          23,
          21,
          18,
          22,
          23,
          24,
          30,
          19,
          21,
          20
         ],
         "yaxis": "y"
        },
        {
         "hovertemplate": "Team=%{x}<br>Age=%{y}<extra></extra>",
         "legendgroup": "Argentina",
         "marker": {
          "color": "#19d3f3",
          "symbol": "circle"
         },
         "mode": "markers",
         "name": "Argentina",
         "orientation": "v",
         "showlegend": true,
         "type": "scatter",
         "x": [
          "Argentina",
          "Argentina",
          "Argentina",
          "Argentina",
          "Argentina",
          "Argentina",
          "Argentina",
          "Argentina",
          "Argentina",
          "Argentina",
          "Argentina",
          "Argentina",
          "Argentina",
          "Argentina",
          "Argentina",
          "Argentina",
          "Argentina",
          "Argentina",
          "Argentina",
          "Argentina",
          "Argentina",
          "Argentina",
          "Argentina",
          "Argentina"
         ],
         "xaxis": "x",
         "y": [
          20,
          18,
          22,
          21,
          29,
          21,
          22,
          22,
          24,
          18,
          21,
          20,
          18,
          26,
          24,
          20,
          22,
          23,
          18,
          19,
          20,
          20,
          26,
          23
         ],
         "yaxis": "y"
        },
        {
         "hovertemplate": "Team=%{x}<br>Age=%{y}<extra></extra>",
         "legendgroup": "Turkey",
         "marker": {
          "color": "#FF6692",
          "symbol": "circle"
         },
         "mode": "markers",
         "name": "Turkey",
         "orientation": "v",
         "showlegend": true,
         "type": "scatter",
         "x": [
          "Turkey",
          "Turkey",
          "Turkey",
          "Turkey",
          "Turkey"
         ],
         "xaxis": "x",
         "y": [
          26,
          26,
          19,
          22,
          17
         ],
         "yaxis": "y"
        },
        {
         "hovertemplate": "Team=%{x}<br>Age=%{y}<extra></extra>",
         "legendgroup": "East Germany",
         "marker": {
          "color": "#B6E880",
          "symbol": "circle"
         },
         "mode": "markers",
         "name": "East Germany",
         "orientation": "v",
         "showlegend": true,
         "type": "scatter",
         "x": [
          "East Germany",
          "East Germany",
          "East Germany",
          "East Germany",
          "East Germany",
          "East Germany",
          "East Germany",
          "East Germany",
          "East Germany",
          "East Germany",
          "East Germany",
          "East Germany",
          "East Germany"
         ],
         "xaxis": "x",
         "y": [
          23,
          23,
          28,
          22,
          22,
          26,
          24,
          20,
          24,
          20,
          26,
          25,
          22
         ],
         "yaxis": "y"
        },
        {
         "hovertemplate": "Team=%{x}<br>Age=%{y}<extra></extra>",
         "legendgroup": "Australasia",
         "marker": {
          "color": "#FF97FF",
          "symbol": "circle"
         },
         "mode": "markers",
         "name": "Australasia",
         "orientation": "v",
         "showlegend": true,
         "type": "scatter",
         "x": [
          "Australasia"
         ],
         "xaxis": "x",
         "y": [
          24
         ],
         "yaxis": "y"
        },
        {
         "hovertemplate": "Team=%{x}<br>Age=%{y}<extra></extra>",
         "legendgroup": "Soviet Union",
         "marker": {
          "color": "#FECB52",
          "symbol": "circle"
         },
         "mode": "markers",
         "name": "Soviet Union",
         "orientation": "v",
         "showlegend": true,
         "type": "scatter",
         "x": [
          "Soviet Union",
          "Soviet Union",
          "Soviet Union",
          "Soviet Union",
          "Soviet Union",
          "Soviet Union",
          "Soviet Union",
          "Soviet Union",
          "Soviet Union",
          "Soviet Union",
          "Soviet Union",
          "Soviet Union",
          "Soviet Union",
          "Soviet Union",
          "Soviet Union",
          "Soviet Union",
          "Soviet Union",
          "Soviet Union",
          "Soviet Union",
          "Soviet Union",
          "Soviet Union",
          "Soviet Union",
          "Soviet Union",
          "Soviet Union",
          "Soviet Union",
          "Soviet Union",
          "Soviet Union",
          "Soviet Union",
          "Soviet Union",
          "Soviet Union",
          "Soviet Union",
          "Soviet Union",
          "Soviet Union",
          "Soviet Union",
          "Soviet Union",
          "Soviet Union",
          "Soviet Union",
          "Soviet Union",
          "Soviet Union",
          "Soviet Union",
          "Soviet Union",
          "Soviet Union",
          "Soviet Union",
          "Soviet Union",
          "Soviet Union",
          "Soviet Union",
          "Soviet Union",
          "Soviet Union",
          "Soviet Union",
          "Soviet Union",
          "Soviet Union"
         ],
         "xaxis": "x",
         "y": [
          26,
          22,
          29,
          21,
          24,
          23,
          23,
          21,
          22,
          26,
          30,
          20,
          21,
          25,
          20,
          22,
          26,
          30,
          20,
          24,
          24,
          20,
          20,
          22,
          23,
          25,
          27,
          28,
          24,
          26,
          20,
          24,
          21,
          21,
          23,
          27,
          20,
          23,
          24,
          34,
          20,
          22,
          23,
          23,
          24,
          26,
          23,
          25,
          31,
          22,
          26
         ],
         "yaxis": "y"
        },
        {
         "hovertemplate": "Team=%{x}<br>Age=%{y}<extra></extra>",
         "legendgroup": "Ireland",
         "marker": {
          "color": "#636efa",
          "symbol": "circle"
         },
         "mode": "markers",
         "name": "Ireland",
         "orientation": "v",
         "showlegend": true,
         "type": "scatter",
         "x": [
          "Ireland",
          "Ireland",
          "Ireland",
          "Ireland",
          "Ireland",
          "Ireland",
          "Ireland",
          "Ireland",
          "Ireland",
          "Ireland",
          "Ireland",
          "Ireland",
          "Ireland",
          "Ireland",
          "Ireland",
          "Ireland"
         ],
         "xaxis": "x",
         "y": [
          21,
          25,
          26,
          18,
          25,
          20,
          26,
          20,
          20,
          22,
          19,
          23,
          20,
          26,
          26,
          21
         ],
         "yaxis": "y"
        },
        {
         "hovertemplate": "Team=%{x}<br>Age=%{y}<extra></extra>",
         "legendgroup": "Chile",
         "marker": {
          "color": "#EF553B",
          "symbol": "circle"
         },
         "mode": "markers",
         "name": "Chile",
         "orientation": "v",
         "showlegend": true,
         "type": "scatter",
         "x": [
          "Chile",
          "Chile",
          "Chile"
         ],
         "xaxis": "x",
         "y": [
          21,
          26,
          24
         ],
         "yaxis": "y"
        },
        {
         "hovertemplate": "Team=%{x}<br>Age=%{y}<extra></extra>",
         "legendgroup": "New Zealand",
         "marker": {
          "color": "#00cc96",
          "symbol": "circle"
         },
         "mode": "markers",
         "name": "New Zealand",
         "orientation": "v",
         "showlegend": true,
         "type": "scatter",
         "x": [
          "New Zealand",
          "New Zealand",
          "New Zealand"
         ],
         "xaxis": "x",
         "y": [
          24,
          22,
          19
         ],
         "yaxis": "y"
        },
        {
         "hovertemplate": "Team=%{x}<br>Age=%{y}<extra></extra>",
         "legendgroup": "Germany",
         "marker": {
          "color": "#ab63fa",
          "symbol": "circle"
         },
         "mode": "markers",
         "name": "Germany",
         "orientation": "v",
         "showlegend": true,
         "type": "scatter",
         "x": [
          "Germany",
          "Germany",
          "Germany",
          "Germany",
          "Germany",
          "Germany",
          "Germany",
          "Germany",
          "Germany",
          "Germany",
          "Germany",
          "Germany",
          "Germany",
          "Germany",
          "Germany",
          "Germany",
          "Germany",
          "Germany",
          "Germany",
          "Germany",
          "Germany",
          "Germany",
          "Germany",
          "Germany",
          "Germany",
          "Germany",
          "Germany",
          "Germany",
          "Germany"
         ],
         "xaxis": "x",
         "y": [
          21,
          20,
          20,
          25,
          19,
          30,
          24,
          21,
          25,
          23,
          26,
          22,
          22,
          25,
          21,
          22,
          29,
          22,
          23,
          22,
          26,
          29,
          23,
          22,
          23,
          21,
          26,
          23,
          26
         ],
         "yaxis": "y"
        },
        {
         "hovertemplate": "Team=%{x}<br>Age=%{y}<extra></extra>",
         "legendgroup": "Belgium",
         "marker": {
          "color": "#FFA15A",
          "symbol": "circle"
         },
         "mode": "markers",
         "name": "Belgium",
         "orientation": "v",
         "showlegend": true,
         "type": "scatter",
         "x": [
          "Belgium",
          "Belgium",
          "Belgium",
          "Belgium"
         ],
         "xaxis": "x",
         "y": [
          20,
          18,
          24,
          19
         ],
         "yaxis": "y"
        },
        {
         "hovertemplate": "Team=%{x}<br>Age=%{y}<extra></extra>",
         "legendgroup": "Mexico",
         "marker": {
          "color": "#19d3f3",
          "symbol": "circle"
         },
         "mode": "markers",
         "name": "Mexico",
         "orientation": "v",
         "showlegend": true,
         "type": "scatter",
         "x": [
          "Mexico",
          "Mexico",
          "Mexico",
          "Mexico",
          "Mexico",
          "Mexico",
          "Mexico",
          "Mexico",
          "Mexico",
          "Mexico",
          "Mexico",
          "Mexico",
          "Mexico"
         ],
         "xaxis": "x",
         "y": [
          19,
          20,
          21,
          20,
          19,
          17,
          27,
          23,
          24,
          22,
          22,
          18,
          27
         ],
         "yaxis": "y"
        },
        {
         "hovertemplate": "Team=%{x}<br>Age=%{y}<extra></extra>",
         "legendgroup": "Hungary",
         "marker": {
          "color": "#FF6692",
          "symbol": "circle"
         },
         "mode": "markers",
         "name": "Hungary",
         "orientation": "v",
         "showlegend": true,
         "type": "scatter",
         "x": [
          "Hungary",
          "Hungary",
          "Hungary",
          "Hungary",
          "Hungary",
          "Hungary",
          "Hungary",
          "Hungary",
          "Hungary",
          "Hungary",
          "Hungary",
          "Hungary",
          "Hungary",
          "Hungary",
          "Hungary",
          "Hungary",
          "Hungary",
          "Hungary",
          "Hungary",
          "Hungary"
         ],
         "xaxis": "x",
         "y": [
          24,
          20,
          20,
          21,
          26,
          23,
          22,
          23,
          32,
          22,
          21,
          25,
          23,
          20,
          22,
          22,
          26,
          30,
          22,
          19
         ],
         "yaxis": "y"
        },
        {
         "hovertemplate": "Team=%{x}<br>Age=%{y}<extra></extra>",
         "legendgroup": "Ukraine",
         "marker": {
          "color": "#B6E880",
          "symbol": "circle"
         },
         "mode": "markers",
         "name": "Ukraine",
         "orientation": "v",
         "showlegend": true,
         "type": "scatter",
         "x": [
          "Ukraine",
          "Ukraine",
          "Ukraine",
          "Ukraine",
          "Ukraine",
          "Ukraine",
          "Ukraine",
          "Ukraine",
          "Ukraine",
          "Ukraine",
          "Ukraine",
          "Ukraine",
          "Ukraine",
          "Ukraine"
         ],
         "xaxis": "x",
         "y": [
          24,
          26,
          21,
          20,
          23,
          25,
          21,
          20,
          22,
          20,
          24,
          26,
          23,
          25
         ],
         "yaxis": "y"
        },
        {
         "hovertemplate": "Team=%{x}<br>Age=%{y}<extra></extra>",
         "legendgroup": "Cameroon",
         "marker": {
          "color": "#FF97FF",
          "symbol": "circle"
         },
         "mode": "markers",
         "name": "Cameroon",
         "orientation": "v",
         "showlegend": true,
         "type": "scatter",
         "x": [
          "Cameroon",
          "Cameroon"
         ],
         "xaxis": "x",
         "y": [
          27,
          18
         ],
         "yaxis": "y"
        },
        {
         "hovertemplate": "Team=%{x}<br>Age=%{y}<extra></extra>",
         "legendgroup": "Kenya",
         "marker": {
          "color": "#FECB52",
          "symbol": "circle"
         },
         "mode": "markers",
         "name": "Kenya",
         "orientation": "v",
         "showlegend": true,
         "type": "scatter",
         "x": [
          "Kenya",
          "Kenya",
          "Kenya",
          "Kenya",
          "Kenya",
          "Kenya",
          "Kenya"
         ],
         "xaxis": "x",
         "y": [
          19,
          26,
          23,
          24,
          22,
          23,
          27
         ],
         "yaxis": "y"
        },
        {
         "hovertemplate": "Team=%{x}<br>Age=%{y}<extra></extra>",
         "legendgroup": "Venezuela",
         "marker": {
          "color": "#636efa",
          "symbol": "circle"
         },
         "mode": "markers",
         "name": "Venezuela",
         "orientation": "v",
         "showlegend": true,
         "type": "scatter",
         "x": [
          "Venezuela",
          "Venezuela",
          "Venezuela",
          "Venezuela",
          "Venezuela",
          "Venezuela"
         ],
         "xaxis": "x",
         "y": [
          20,
          20,
          19,
          21,
          20,
          23
         ],
         "yaxis": "y"
        },
        {
         "hovertemplate": "Team=%{x}<br>Age=%{y}<extra></extra>",
         "legendgroup": "Thailand",
         "marker": {
          "color": "#EF553B",
          "symbol": "circle"
         },
         "mode": "markers",
         "name": "Thailand",
         "orientation": "v",
         "showlegend": true,
         "type": "scatter",
         "x": [
          "Thailand",
          "Thailand",
          "Thailand",
          "Thailand",
          "Thailand",
          "Thailand",
          "Thailand",
          "Thailand",
          "Thailand",
          "Thailand",
          "Thailand",
          "Thailand",
          "Thailand",
          "Thailand"
         ],
         "xaxis": "x",
         "y": [
          24,
          28,
          22,
          33,
          23,
          28,
          20,
          23,
          32,
          24,
          18,
          24,
          26,
          24
         ],
         "yaxis": "y"
        },
        {
         "hovertemplate": "Team=%{x}<br>Age=%{y}<extra></extra>",
         "legendgroup": "Georgia",
         "marker": {
          "color": "#00cc96",
          "symbol": "circle"
         },
         "mode": "markers",
         "name": "Georgia",
         "orientation": "v",
         "showlegend": true,
         "type": "scatter",
         "x": [
          "Georgia"
         ],
         "xaxis": "x",
         "y": [
          22
         ],
         "yaxis": "y"
        },
        {
         "hovertemplate": "Team=%{x}<br>Age=%{y}<extra></extra>",
         "legendgroup": "Australia",
         "marker": {
          "color": "#ab63fa",
          "symbol": "circle"
         },
         "mode": "markers",
         "name": "Australia",
         "orientation": "v",
         "showlegend": true,
         "type": "scatter",
         "x": [
          "Australia",
          "Australia",
          "Australia",
          "Australia"
         ],
         "xaxis": "x",
         "y": [
          19,
          22,
          30,
          22
         ],
         "yaxis": "y"
        },
        {
         "hovertemplate": "Team=%{x}<br>Age=%{y}<extra></extra>",
         "legendgroup": "North Korea",
         "marker": {
          "color": "#FFA15A",
          "symbol": "circle"
         },
         "mode": "markers",
         "name": "North Korea",
         "orientation": "v",
         "showlegend": true,
         "type": "scatter",
         "x": [
          "North Korea",
          "North Korea",
          "North Korea",
          "North Korea",
          "North Korea",
          "North Korea",
          "North Korea",
          "North Korea"
         ],
         "xaxis": "x",
         "y": [
          22,
          21,
          20,
          22,
          20,
          21,
          25,
          22
         ],
         "yaxis": "y"
        },
        {
         "hovertemplate": "Team=%{x}<br>Age=%{y}<extra></extra>",
         "legendgroup": "Tajikistan",
         "marker": {
          "color": "#19d3f3",
          "symbol": "circle"
         },
         "mode": "markers",
         "name": "Tajikistan",
         "orientation": "v",
         "showlegend": true,
         "type": "scatter",
         "x": [
          "Tajikistan"
         ],
         "xaxis": "x",
         "y": [
          19
         ],
         "yaxis": "y"
        },
        {
         "hovertemplate": "Team=%{x}<br>Age=%{y}<extra></extra>",
         "legendgroup": "Niger",
         "marker": {
          "color": "#FF6692",
          "symbol": "circle"
         },
         "mode": "markers",
         "name": "Niger",
         "orientation": "v",
         "showlegend": true,
         "type": "scatter",
         "x": [
          "Niger"
         ],
         "xaxis": "x",
         "y": [
          24
         ],
         "yaxis": "y"
        },
        {
         "hovertemplate": "Team=%{x}<br>Age=%{y}<extra></extra>",
         "legendgroup": "Canada",
         "marker": {
          "color": "#B6E880",
          "symbol": "circle"
         },
         "mode": "markers",
         "name": "Canada",
         "orientation": "v",
         "showlegend": true,
         "type": "scatter",
         "x": [
          "Canada",
          "Canada",
          "Canada",
          "Canada",
          "Canada",
          "Canada",
          "Canada",
          "Canada",
          "Canada",
          "Canada",
          "Canada",
          "Canada",
          "Canada",
          "Canada",
          "Canada",
          "Canada",
          "Canada"
         ],
         "xaxis": "x",
         "y": [
          26,
          23,
          19,
          20,
          19,
          22,
          20,
          28,
          25,
          23,
          23,
          21,
          22,
          24,
          22,
          24,
          20
         ],
         "yaxis": "y"
        },
        {
         "hovertemplate": "Team=%{x}<br>Age=%{y}<extra></extra>",
         "legendgroup": "Netherlands",
         "marker": {
          "color": "#FF97FF",
          "symbol": "circle"
         },
         "mode": "markers",
         "name": "Netherlands",
         "orientation": "v",
         "showlegend": true,
         "type": "scatter",
         "x": [
          "Netherlands",
          "Netherlands",
          "Netherlands",
          "Netherlands",
          "Netherlands",
          "Netherlands",
          "Netherlands"
         ],
         "xaxis": "x",
         "y": [
          21,
          28,
          24,
          20,
          21,
          25,
          29
         ],
         "yaxis": "y"
        },
        {
         "hovertemplate": "Team=%{x}<br>Age=%{y}<extra></extra>",
         "legendgroup": "Dominican Republic",
         "marker": {
          "color": "#FECB52",
          "symbol": "circle"
         },
         "mode": "markers",
         "name": "Dominican Republic",
         "orientation": "v",
         "showlegend": true,
         "type": "scatter",
         "x": [
          "Dominican Republic",
          "Dominican Republic"
         ],
         "xaxis": "x",
         "y": [
          24,
          22
         ],
         "yaxis": "y"
        },
        {
         "hovertemplate": "Team=%{x}<br>Age=%{y}<extra></extra>",
         "legendgroup": "Nigeria",
         "marker": {
          "color": "#636efa",
          "symbol": "circle"
         },
         "mode": "markers",
         "name": "Nigeria",
         "orientation": "v",
         "showlegend": true,
         "type": "scatter",
         "x": [
          "Nigeria",
          "Nigeria",
          "Nigeria",
          "Nigeria",
          "Nigeria",
          "Nigeria"
         ],
         "xaxis": "x",
         "y": [
          23,
          24,
          24,
          29,
          18,
          23
         ],
         "yaxis": "y"
        },
        {
         "hovertemplate": "Team=%{x}<br>Age=%{y}<extra></extra>",
         "legendgroup": "Mongolia",
         "marker": {
          "color": "#EF553B",
          "symbol": "circle"
         },
         "mode": "markers",
         "name": "Mongolia",
         "orientation": "v",
         "showlegend": true,
         "type": "scatter",
         "x": [
          "Mongolia",
          "Mongolia",
          "Mongolia",
          "Mongolia",
          "Mongolia",
          "Mongolia",
          "Mongolia"
         ],
         "xaxis": "x",
         "y": [
          28,
          23,
          26,
          26,
          20,
          23,
          30
         ],
         "yaxis": "y"
        },
        {
         "hovertemplate": "Team=%{x}<br>Age=%{y}<extra></extra>",
         "legendgroup": "United Arab Republic",
         "marker": {
          "color": "#00cc96",
          "symbol": "circle"
         },
         "mode": "markers",
         "name": "United Arab Republic",
         "orientation": "v",
         "showlegend": true,
         "type": "scatter",
         "x": [
          "United Arab Republic"
         ],
         "xaxis": "x",
         "y": [
          24
         ],
         "yaxis": "y"
        },
        {
         "hovertemplate": "Team=%{x}<br>Age=%{y}<extra></extra>",
         "legendgroup": "Czechoslovakia",
         "marker": {
          "color": "#ab63fa",
          "symbol": "circle"
         },
         "mode": "markers",
         "name": "Czechoslovakia",
         "orientation": "v",
         "showlegend": true,
         "type": "scatter",
         "x": [
          "Czechoslovakia",
          "Czechoslovakia",
          "Czechoslovakia",
          "Czechoslovakia",
          "Czechoslovakia",
          "Czechoslovakia"
         ],
         "xaxis": "x",
         "y": [
          20,
          20,
          26,
          22,
          26,
          23
         ],
         "yaxis": "y"
        },
        {
         "hovertemplate": "Team=%{x}<br>Age=%{y}<extra></extra>",
         "legendgroup": "Tunisia",
         "marker": {
          "color": "#FFA15A",
          "symbol": "circle"
         },
         "mode": "markers",
         "name": "Tunisia",
         "orientation": "v",
         "showlegend": true,
         "type": "scatter",
         "x": [
          "Tunisia",
          "Tunisia"
         ],
         "xaxis": "x",
         "y": [
          23,
          22
         ],
         "yaxis": "y"
        },
        {
         "hovertemplate": "Team=%{x}<br>Age=%{y}<extra></extra>",
         "legendgroup": "West Germany",
         "marker": {
          "color": "#19d3f3",
          "symbol": "circle"
         },
         "mode": "markers",
         "name": "West Germany",
         "orientation": "v",
         "showlegend": true,
         "type": "scatter",
         "x": [
          "West Germany",
          "West Germany",
          "West Germany",
          "West Germany",
          "West Germany",
          "West Germany"
         ],
         "xaxis": "x",
         "y": [
          25,
          24,
          29,
          27,
          28,
          23
         ],
         "yaxis": "y"
        },
        {
         "hovertemplate": "Team=%{x}<br>Age=%{y}<extra></extra>",
         "legendgroup": "Moldova",
         "marker": {
          "color": "#FF6692",
          "symbol": "circle"
         },
         "mode": "markers",
         "name": "Moldova",
         "orientation": "v",
         "showlegend": true,
         "type": "scatter",
         "x": [
          "Moldova",
          "Moldova"
         ],
         "xaxis": "x",
         "y": [
          25,
          23
         ],
         "yaxis": "y"
        },
        {
         "hovertemplate": "Team=%{x}<br>Age=%{y}<extra></extra>",
         "legendgroup": "China",
         "marker": {
          "color": "#B6E880",
          "symbol": "circle"
         },
         "mode": "markers",
         "name": "China",
         "orientation": "v",
         "showlegend": true,
         "type": "scatter",
         "x": [
          "China",
          "China",
          "China",
          "China",
          "China",
          "China",
          "China",
          "China",
          "China",
          "China",
          "China",
          "China"
         ],
         "xaxis": "x",
         "y": [
          23,
          23,
          22,
          26,
          24,
          28,
          25,
          26,
          25,
          23,
          27,
          31
         ],
         "yaxis": "y"
        },
        {
         "hovertemplate": "Team=%{x}<br>Age=%{y}<extra></extra>",
         "legendgroup": "Bermuda",
         "marker": {
          "color": "#FF97FF",
          "symbol": "circle"
         },
         "mode": "markers",
         "name": "Bermuda",
         "orientation": "v",
         "showlegend": true,
         "type": "scatter",
         "x": [
          "Bermuda"
         ],
         "xaxis": "x",
         "y": [
          25
         ],
         "yaxis": "y"
        },
        {
         "hovertemplate": "Team=%{x}<br>Age=%{y}<extra></extra>",
         "legendgroup": "Croatia",
         "marker": {
          "color": "#FECB52",
          "symbol": "circle"
         },
         "mode": "markers",
         "name": "Croatia",
         "orientation": "v",
         "showlegend": true,
         "type": "scatter",
         "x": [
          "Croatia"
         ],
         "xaxis": "x",
         "y": [
          24
         ],
         "yaxis": "y"
        },
        {
         "hovertemplate": "Team=%{x}<br>Age=%{y}<extra></extra>",
         "legendgroup": "Pakistan",
         "marker": {
          "color": "#636efa",
          "symbol": "circle"
         },
         "mode": "markers",
         "name": "Pakistan",
         "orientation": "v",
         "showlegend": true,
         "type": "scatter",
         "x": [
          "Pakistan"
         ],
         "xaxis": "x",
         "y": [
          24
         ],
         "yaxis": "y"
        },
        {
         "hovertemplate": "Team=%{x}<br>Age=%{y}<extra></extra>",
         "legendgroup": "Armenia",
         "marker": {
          "color": "#EF553B",
          "symbol": "circle"
         },
         "mode": "markers",
         "name": "Armenia",
         "orientation": "v",
         "showlegend": true,
         "type": "scatter",
         "x": [
          "Armenia"
         ],
         "xaxis": "x",
         "y": [
          24
         ],
         "yaxis": "y"
        },
        {
         "hovertemplate": "Team=%{x}<br>Age=%{y}<extra></extra>",
         "legendgroup": "Denmark",
         "marker": {
          "color": "#00cc96",
          "symbol": "circle"
         },
         "mode": "markers",
         "name": "Denmark",
         "orientation": "v",
         "showlegend": true,
         "type": "scatter",
         "x": [
          "Denmark",
          "Denmark",
          "Denmark",
          "Denmark",
          "Denmark",
          "Denmark",
          "Denmark",
          "Denmark",
          "Denmark",
          "Denmark",
          "Denmark",
          "Denmark"
         ],
         "xaxis": "x",
         "y": [
          24,
          25,
          28,
          29,
          27,
          24,
          20,
          24,
          25,
          29,
          21,
          20
         ],
         "yaxis": "y"
        },
        {
         "hovertemplate": "Team=%{x}<br>Age=%{y}<extra></extra>",
         "legendgroup": "Yugoslavia",
         "marker": {
          "color": "#ab63fa",
          "symbol": "circle"
         },
         "mode": "markers",
         "name": "Yugoslavia",
         "orientation": "v",
         "showlegend": true,
         "type": "scatter",
         "x": [
          "Yugoslavia",
          "Yugoslavia",
          "Yugoslavia",
          "Yugoslavia",
          "Yugoslavia",
          "Yugoslavia",
          "Yugoslavia",
          "Yugoslavia",
          "Yugoslavia",
          "Yugoslavia",
          "Yugoslavia"
         ],
         "xaxis": "x",
         "y": [
          22,
          22,
          20,
          23,
          28,
          21,
          19,
          30,
          28,
          25,
          29
         ],
         "yaxis": "y"
        },
        {
         "hovertemplate": "Team=%{x}<br>Age=%{y}<extra></extra>",
         "legendgroup": "Mauritius",
         "marker": {
          "color": "#FFA15A",
          "symbol": "circle"
         },
         "mode": "markers",
         "name": "Mauritius",
         "orientation": "v",
         "showlegend": true,
         "type": "scatter",
         "x": [
          "Mauritius"
         ],
         "xaxis": "x",
         "y": [
          30
         ],
         "yaxis": "y"
        },
        {
         "hovertemplate": "Team=%{x}<br>Age=%{y}<extra></extra>",
         "legendgroup": "Colombia",
         "marker": {
          "color": "#19d3f3",
          "symbol": "circle"
         },
         "mode": "markers",
         "name": "Colombia",
         "orientation": "v",
         "showlegend": true,
         "type": "scatter",
         "x": [
          "Colombia",
          "Colombia",
          "Colombia",
          "Colombia",
          "Colombia"
         ],
         "xaxis": "x",
         "y": [
          19,
          24,
          23,
          19,
          27
         ],
         "yaxis": "y"
        },
        {
         "hovertemplate": "Team=%{x}<br>Age=%{y}<extra></extra>",
         "legendgroup": "India",
         "marker": {
          "color": "#FF6692",
          "symbol": "circle"
         },
         "mode": "markers",
         "name": "India",
         "orientation": "v",
         "showlegend": true,
         "type": "scatter",
         "x": [
          "India",
          "India"
         ],
         "xaxis": "x",
         "y": [
          29,
          22
         ],
         "yaxis": "y"
        },
        {
         "hovertemplate": "Team=%{x}<br>Age=%{y}<extra></extra>",
         "legendgroup": "Czech Republic",
         "marker": {
          "color": "#B6E880",
          "symbol": "circle"
         },
         "mode": "markers",
         "name": "Czech Republic",
         "orientation": "v",
         "showlegend": true,
         "type": "scatter",
         "x": [
          "Czech Republic"
         ],
         "xaxis": "x",
         "y": [
          22
         ],
         "yaxis": "y"
        },
        {
         "hovertemplate": "Team=%{x}<br>Age=%{y}<extra></extra>",
         "legendgroup": "Spain",
         "marker": {
          "color": "#FF97FF",
          "symbol": "circle"
         },
         "mode": "markers",
         "name": "Spain",
         "orientation": "v",
         "showlegend": true,
         "type": "scatter",
         "x": [
          "Spain",
          "Spain",
          "Spain",
          "Spain"
         ],
         "xaxis": "x",
         "y": [
          26,
          30,
          17,
          20
         ],
         "yaxis": "y"
        },
        {
         "hovertemplate": "Team=%{x}<br>Age=%{y}<extra></extra>",
         "legendgroup": "Japan",
         "marker": {
          "color": "#FECB52",
          "symbol": "circle"
         },
         "mode": "markers",
         "name": "Japan",
         "orientation": "v",
         "showlegend": true,
         "type": "scatter",
         "x": [
          "Japan",
          "Japan",
          "Japan",
          "Japan",
          "Japan"
         ],
         "xaxis": "x",
         "y": [
          22,
          26,
          23,
          26,
          19
         ],
         "yaxis": "y"
        },
        {
         "hovertemplate": "Team=%{x}<br>Age=%{y}<extra></extra>",
         "legendgroup": "Uganda",
         "marker": {
          "color": "#636efa",
          "symbol": "circle"
         },
         "mode": "markers",
         "name": "Uganda",
         "orientation": "v",
         "showlegend": true,
         "type": "scatter",
         "x": [
          "Uganda",
          "Uganda",
          "Uganda",
          "Uganda"
         ],
         "xaxis": "x",
         "y": [
          20,
          25,
          19,
          23
         ],
         "yaxis": "y"
        },
        {
         "hovertemplate": "Team=%{x}<br>Age=%{y}<extra></extra>",
         "legendgroup": "Zambia",
         "marker": {
          "color": "#EF553B",
          "symbol": "circle"
         },
         "mode": "markers",
         "name": "Zambia",
         "orientation": "v",
         "showlegend": true,
         "type": "scatter",
         "x": [
          "Zambia"
         ],
         "xaxis": "x",
         "y": [
          24
         ],
         "yaxis": "y"
        },
        {
         "hovertemplate": "Team=%{x}<br>Age=%{y}<extra></extra>",
         "legendgroup": "Norway",
         "marker": {
          "color": "#00cc96",
          "symbol": "circle"
         },
         "mode": "markers",
         "name": "Norway",
         "orientation": "v",
         "showlegend": true,
         "type": "scatter",
         "x": [
          "Norway",
          "Norway",
          "Norway",
          "Norway",
          "Norway"
         ],
         "xaxis": "x",
         "y": [
          25,
          19,
          23,
          22,
          20
         ],
         "yaxis": "y"
        },
        {
         "hovertemplate": "Team=%{x}<br>Age=%{y}<extra></extra>",
         "legendgroup": "Unified Team",
         "marker": {
          "color": "#ab63fa",
          "symbol": "circle"
         },
         "mode": "markers",
         "name": "Unified Team",
         "orientation": "v",
         "showlegend": true,
         "type": "scatter",
         "x": [
          "Unified Team",
          "Unified Team"
         ],
         "xaxis": "x",
         "y": [
          18,
          23
         ],
         "yaxis": "y"
        },
        {
         "hovertemplate": "Team=%{x}<br>Age=%{y}<extra></extra>",
         "legendgroup": "Lithuania",
         "marker": {
          "color": "#FFA15A",
          "symbol": "circle"
         },
         "mode": "markers",
         "name": "Lithuania",
         "orientation": "v",
         "showlegend": true,
         "type": "scatter",
         "x": [
          "Lithuania"
         ],
         "xaxis": "x",
         "y": [
          20
         ],
         "yaxis": "y"
        },
        {
         "hovertemplate": "Team=%{x}<br>Age=%{y}<extra></extra>",
         "legendgroup": "Uruguay",
         "marker": {
          "color": "#19d3f3",
          "symbol": "circle"
         },
         "mode": "markers",
         "name": "Uruguay",
         "orientation": "v",
         "showlegend": true,
         "type": "scatter",
         "x": [
          "Uruguay"
         ],
         "xaxis": "x",
         "y": [
          20
         ],
         "yaxis": "y"
        },
        {
         "hovertemplate": "Team=%{x}<br>Age=%{y}<extra></extra>",
         "legendgroup": "Philippines",
         "marker": {
          "color": "#FF6692",
          "symbol": "circle"
         },
         "mode": "markers",
         "name": "Philippines",
         "orientation": "v",
         "showlegend": true,
         "type": "scatter",
         "x": [
          "Philippines",
          "Philippines",
          "Philippines",
          "Philippines",
          "Philippines"
         ],
         "xaxis": "x",
         "y": [
          26,
          22,
          20,
          19,
          19
         ],
         "yaxis": "y"
        },
        {
         "hovertemplate": "Team=%{x}<br>Age=%{y}<extra></extra>",
         "legendgroup": "Estonia",
         "marker": {
          "color": "#B6E880",
          "symbol": "circle"
         },
         "mode": "markers",
         "name": "Estonia",
         "orientation": "v",
         "showlegend": true,
         "type": "scatter",
         "x": [
          "Estonia"
         ],
         "xaxis": "x",
         "y": [
          23
         ],
         "yaxis": "y"
        },
        {
         "hovertemplate": "Team=%{x}<br>Age=%{y}<extra></extra>",
         "legendgroup": "Tonga",
         "marker": {
          "color": "#FF97FF",
          "symbol": "circle"
         },
         "mode": "markers",
         "name": "Tonga",
         "orientation": "v",
         "showlegend": true,
         "type": "scatter",
         "x": [
          "Tonga"
         ],
         "xaxis": "x",
         "y": [
          26
         ],
         "yaxis": "y"
        }
       ],
       "layout": {
        "legend": {
         "title": {
          "text": "Team"
         },
         "tracegroupgap": 0
        },
        "template": {
         "data": {
          "bar": [
           {
            "error_x": {
             "color": "#2a3f5f"
            },
            "error_y": {
             "color": "#2a3f5f"
            },
            "marker": {
             "line": {
              "color": "#E5ECF6",
              "width": 0.5
             },
             "pattern": {
              "fillmode": "overlay",
              "size": 10,
              "solidity": 0.2
             }
            },
            "type": "bar"
           }
          ],
          "barpolar": [
           {
            "marker": {
             "line": {
              "color": "#E5ECF6",
              "width": 0.5
             },
             "pattern": {
              "fillmode": "overlay",
              "size": 10,
              "solidity": 0.2
             }
            },
            "type": "barpolar"
           }
          ],
          "carpet": [
           {
            "aaxis": {
             "endlinecolor": "#2a3f5f",
             "gridcolor": "white",
             "linecolor": "white",
             "minorgridcolor": "white",
             "startlinecolor": "#2a3f5f"
            },
            "baxis": {
             "endlinecolor": "#2a3f5f",
             "gridcolor": "white",
             "linecolor": "white",
             "minorgridcolor": "white",
             "startlinecolor": "#2a3f5f"
            },
            "type": "carpet"
           }
          ],
          "choropleth": [
           {
            "colorbar": {
             "outlinewidth": 0,
             "ticks": ""
            },
            "type": "choropleth"
           }
          ],
          "contour": [
           {
            "colorbar": {
             "outlinewidth": 0,
             "ticks": ""
            },
            "colorscale": [
             [
              0,
              "#0d0887"
             ],
             [
              0.1111111111111111,
              "#46039f"
             ],
             [
              0.2222222222222222,
              "#7201a8"
             ],
             [
              0.3333333333333333,
              "#9c179e"
             ],
             [
              0.4444444444444444,
              "#bd3786"
             ],
             [
              0.5555555555555556,
              "#d8576b"
             ],
             [
              0.6666666666666666,
              "#ed7953"
             ],
             [
              0.7777777777777778,
              "#fb9f3a"
             ],
             [
              0.8888888888888888,
              "#fdca26"
             ],
             [
              1,
              "#f0f921"
             ]
            ],
            "type": "contour"
           }
          ],
          "contourcarpet": [
           {
            "colorbar": {
             "outlinewidth": 0,
             "ticks": ""
            },
            "type": "contourcarpet"
           }
          ],
          "heatmap": [
           {
            "colorbar": {
             "outlinewidth": 0,
             "ticks": ""
            },
            "colorscale": [
             [
              0,
              "#0d0887"
             ],
             [
              0.1111111111111111,
              "#46039f"
             ],
             [
              0.2222222222222222,
              "#7201a8"
             ],
             [
              0.3333333333333333,
              "#9c179e"
             ],
             [
              0.4444444444444444,
              "#bd3786"
             ],
             [
              0.5555555555555556,
              "#d8576b"
             ],
             [
              0.6666666666666666,
              "#ed7953"
             ],
             [
              0.7777777777777778,
              "#fb9f3a"
             ],
             [
              0.8888888888888888,
              "#fdca26"
             ],
             [
              1,
              "#f0f921"
             ]
            ],
            "type": "heatmap"
           }
          ],
          "heatmapgl": [
           {
            "colorbar": {
             "outlinewidth": 0,
             "ticks": ""
            },
            "colorscale": [
             [
              0,
              "#0d0887"
             ],
             [
              0.1111111111111111,
              "#46039f"
             ],
             [
              0.2222222222222222,
              "#7201a8"
             ],
             [
              0.3333333333333333,
              "#9c179e"
             ],
             [
              0.4444444444444444,
              "#bd3786"
             ],
             [
              0.5555555555555556,
              "#d8576b"
             ],
             [
              0.6666666666666666,
              "#ed7953"
             ],
             [
              0.7777777777777778,
              "#fb9f3a"
             ],
             [
              0.8888888888888888,
              "#fdca26"
             ],
             [
              1,
              "#f0f921"
             ]
            ],
            "type": "heatmapgl"
           }
          ],
          "histogram": [
           {
            "marker": {
             "pattern": {
              "fillmode": "overlay",
              "size": 10,
              "solidity": 0.2
             }
            },
            "type": "histogram"
           }
          ],
          "histogram2d": [
           {
            "colorbar": {
             "outlinewidth": 0,
             "ticks": ""
            },
            "colorscale": [
             [
              0,
              "#0d0887"
             ],
             [
              0.1111111111111111,
              "#46039f"
             ],
             [
              0.2222222222222222,
              "#7201a8"
             ],
             [
              0.3333333333333333,
              "#9c179e"
             ],
             [
              0.4444444444444444,
              "#bd3786"
             ],
             [
              0.5555555555555556,
              "#d8576b"
             ],
             [
              0.6666666666666666,
              "#ed7953"
             ],
             [
              0.7777777777777778,
              "#fb9f3a"
             ],
             [
              0.8888888888888888,
              "#fdca26"
             ],
             [
              1,
              "#f0f921"
             ]
            ],
            "type": "histogram2d"
           }
          ],
          "histogram2dcontour": [
           {
            "colorbar": {
             "outlinewidth": 0,
             "ticks": ""
            },
            "colorscale": [
             [
              0,
              "#0d0887"
             ],
             [
              0.1111111111111111,
              "#46039f"
             ],
             [
              0.2222222222222222,
              "#7201a8"
             ],
             [
              0.3333333333333333,
              "#9c179e"
             ],
             [
              0.4444444444444444,
              "#bd3786"
             ],
             [
              0.5555555555555556,
              "#d8576b"
             ],
             [
              0.6666666666666666,
              "#ed7953"
             ],
             [
              0.7777777777777778,
              "#fb9f3a"
             ],
             [
              0.8888888888888888,
              "#fdca26"
             ],
             [
              1,
              "#f0f921"
             ]
            ],
            "type": "histogram2dcontour"
           }
          ],
          "mesh3d": [
           {
            "colorbar": {
             "outlinewidth": 0,
             "ticks": ""
            },
            "type": "mesh3d"
           }
          ],
          "parcoords": [
           {
            "line": {
             "colorbar": {
              "outlinewidth": 0,
              "ticks": ""
             }
            },
            "type": "parcoords"
           }
          ],
          "pie": [
           {
            "automargin": true,
            "type": "pie"
           }
          ],
          "scatter": [
           {
            "fillpattern": {
             "fillmode": "overlay",
             "size": 10,
             "solidity": 0.2
            },
            "type": "scatter"
           }
          ],
          "scatter3d": [
           {
            "line": {
             "colorbar": {
              "outlinewidth": 0,
              "ticks": ""
             }
            },
            "marker": {
             "colorbar": {
              "outlinewidth": 0,
              "ticks": ""
             }
            },
            "type": "scatter3d"
           }
          ],
          "scattercarpet": [
           {
            "marker": {
             "colorbar": {
              "outlinewidth": 0,
              "ticks": ""
             }
            },
            "type": "scattercarpet"
           }
          ],
          "scattergeo": [
           {
            "marker": {
             "colorbar": {
              "outlinewidth": 0,
              "ticks": ""
             }
            },
            "type": "scattergeo"
           }
          ],
          "scattergl": [
           {
            "marker": {
             "colorbar": {
              "outlinewidth": 0,
              "ticks": ""
             }
            },
            "type": "scattergl"
           }
          ],
          "scattermapbox": [
           {
            "marker": {
             "colorbar": {
              "outlinewidth": 0,
              "ticks": ""
             }
            },
            "type": "scattermapbox"
           }
          ],
          "scatterpolar": [
           {
            "marker": {
             "colorbar": {
              "outlinewidth": 0,
              "ticks": ""
             }
            },
            "type": "scatterpolar"
           }
          ],
          "scatterpolargl": [
           {
            "marker": {
             "colorbar": {
              "outlinewidth": 0,
              "ticks": ""
             }
            },
            "type": "scatterpolargl"
           }
          ],
          "scatterternary": [
           {
            "marker": {
             "colorbar": {
              "outlinewidth": 0,
              "ticks": ""
             }
            },
            "type": "scatterternary"
           }
          ],
          "surface": [
           {
            "colorbar": {
             "outlinewidth": 0,
             "ticks": ""
            },
            "colorscale": [
             [
              0,
              "#0d0887"
             ],
             [
              0.1111111111111111,
              "#46039f"
             ],
             [
              0.2222222222222222,
              "#7201a8"
             ],
             [
              0.3333333333333333,
              "#9c179e"
             ],
             [
              0.4444444444444444,
              "#bd3786"
             ],
             [
              0.5555555555555556,
              "#d8576b"
             ],
             [
              0.6666666666666666,
              "#ed7953"
             ],
             [
              0.7777777777777778,
              "#fb9f3a"
             ],
             [
              0.8888888888888888,
              "#fdca26"
             ],
             [
              1,
              "#f0f921"
             ]
            ],
            "type": "surface"
           }
          ],
          "table": [
           {
            "cells": {
             "fill": {
              "color": "#EBF0F8"
             },
             "line": {
              "color": "white"
             }
            },
            "header": {
             "fill": {
              "color": "#C8D4E3"
             },
             "line": {
              "color": "white"
             }
            },
            "type": "table"
           }
          ]
         },
         "layout": {
          "annotationdefaults": {
           "arrowcolor": "#2a3f5f",
           "arrowhead": 0,
           "arrowwidth": 1
          },
          "autotypenumbers": "strict",
          "coloraxis": {
           "colorbar": {
            "outlinewidth": 0,
            "ticks": ""
           }
          },
          "colorscale": {
           "diverging": [
            [
             0,
             "#8e0152"
            ],
            [
             0.1,
             "#c51b7d"
            ],
            [
             0.2,
             "#de77ae"
            ],
            [
             0.3,
             "#f1b6da"
            ],
            [
             0.4,
             "#fde0ef"
            ],
            [
             0.5,
             "#f7f7f7"
            ],
            [
             0.6,
             "#e6f5d0"
            ],
            [
             0.7,
             "#b8e186"
            ],
            [
             0.8,
             "#7fbc41"
            ],
            [
             0.9,
             "#4d9221"
            ],
            [
             1,
             "#276419"
            ]
           ],
           "sequential": [
            [
             0,
             "#0d0887"
            ],
            [
             0.1111111111111111,
             "#46039f"
            ],
            [
             0.2222222222222222,
             "#7201a8"
            ],
            [
             0.3333333333333333,
             "#9c179e"
            ],
            [
             0.4444444444444444,
             "#bd3786"
            ],
            [
             0.5555555555555556,
             "#d8576b"
            ],
            [
             0.6666666666666666,
             "#ed7953"
            ],
            [
             0.7777777777777778,
             "#fb9f3a"
            ],
            [
             0.8888888888888888,
             "#fdca26"
            ],
            [
             1,
             "#f0f921"
            ]
           ],
           "sequentialminus": [
            [
             0,
             "#0d0887"
            ],
            [
             0.1111111111111111,
             "#46039f"
            ],
            [
             0.2222222222222222,
             "#7201a8"
            ],
            [
             0.3333333333333333,
             "#9c179e"
            ],
            [
             0.4444444444444444,
             "#bd3786"
            ],
            [
             0.5555555555555556,
             "#d8576b"
            ],
            [
             0.6666666666666666,
             "#ed7953"
            ],
            [
             0.7777777777777778,
             "#fb9f3a"
            ],
            [
             0.8888888888888888,
             "#fdca26"
            ],
            [
             1,
             "#f0f921"
            ]
           ]
          },
          "colorway": [
           "#636efa",
           "#EF553B",
           "#00cc96",
           "#ab63fa",
           "#FFA15A",
           "#19d3f3",
           "#FF6692",
           "#B6E880",
           "#FF97FF",
           "#FECB52"
          ],
          "font": {
           "color": "#2a3f5f"
          },
          "geo": {
           "bgcolor": "white",
           "lakecolor": "white",
           "landcolor": "#E5ECF6",
           "showlakes": true,
           "showland": true,
           "subunitcolor": "white"
          },
          "hoverlabel": {
           "align": "left"
          },
          "hovermode": "closest",
          "mapbox": {
           "style": "light"
          },
          "paper_bgcolor": "white",
          "plot_bgcolor": "#E5ECF6",
          "polar": {
           "angularaxis": {
            "gridcolor": "white",
            "linecolor": "white",
            "ticks": ""
           },
           "bgcolor": "#E5ECF6",
           "radialaxis": {
            "gridcolor": "white",
            "linecolor": "white",
            "ticks": ""
           }
          },
          "scene": {
           "xaxis": {
            "backgroundcolor": "#E5ECF6",
            "gridcolor": "white",
            "gridwidth": 2,
            "linecolor": "white",
            "showbackground": true,
            "ticks": "",
            "zerolinecolor": "white"
           },
           "yaxis": {
            "backgroundcolor": "#E5ECF6",
            "gridcolor": "white",
            "gridwidth": 2,
            "linecolor": "white",
            "showbackground": true,
            "ticks": "",
            "zerolinecolor": "white"
           },
           "zaxis": {
            "backgroundcolor": "#E5ECF6",
            "gridcolor": "white",
            "gridwidth": 2,
            "linecolor": "white",
            "showbackground": true,
            "ticks": "",
            "zerolinecolor": "white"
           }
          },
          "shapedefaults": {
           "line": {
            "color": "#2a3f5f"
           }
          },
          "ternary": {
           "aaxis": {
            "gridcolor": "white",
            "linecolor": "white",
            "ticks": ""
           },
           "baxis": {
            "gridcolor": "white",
            "linecolor": "white",
            "ticks": ""
           },
           "bgcolor": "#E5ECF6",
           "caxis": {
            "gridcolor": "white",
            "linecolor": "white",
            "ticks": ""
           }
          },
          "title": {
           "x": 0.05
          },
          "xaxis": {
           "automargin": true,
           "gridcolor": "white",
           "linecolor": "white",
           "ticks": "",
           "title": {
            "standoff": 15
           },
           "zerolinecolor": "white",
           "zerolinewidth": 2
          },
          "yaxis": {
           "automargin": true,
           "gridcolor": "white",
           "linecolor": "white",
           "ticks": "",
           "title": {
            "standoff": 15
           },
           "zerolinecolor": "white",
           "zerolinewidth": 2
          }
         }
        },
        "title": {
         "text": "Age distribution in boxing teams"
        },
        "xaxis": {
         "anchor": "y",
         "categoryarray": [
          "Uzbekistan",
          "Puerto Rico",
          "Morocco",
          "Cuba",
          "Poland",
          "Great Britain",
          "United States",
          "Sweden",
          "Finland",
          "Syria",
          "Romania",
          "Algeria",
          "Russia",
          "Egypt",
          "Ghana",
          "South Korea",
          "Bulgaria",
          "Guyana",
          "France",
          "Brazil",
          "Belarus",
          "Kazakhstan",
          "South Africa",
          "Azerbaijan",
          "Italy",
          "Argentina",
          "Turkey",
          "East Germany",
          "Australasia",
          "Soviet Union",
          "Ireland",
          "Chile",
          "New Zealand",
          "Germany",
          "Belgium",
          "Mexico",
          "Hungary",
          "Ukraine",
          "Cameroon",
          "Kenya",
          "Venezuela",
          "Thailand",
          "Georgia",
          "Australia",
          "North Korea",
          "Tajikistan",
          "Niger",
          "Canada",
          "Netherlands",
          "Dominican Republic",
          "Nigeria",
          "Mongolia",
          "United Arab Republic",
          "Czechoslovakia",
          "Tunisia",
          "West Germany",
          "Moldova",
          "China",
          "Bermuda",
          "Croatia",
          "Pakistan",
          "Armenia",
          "Denmark",
          "Yugoslavia",
          "Mauritius",
          "Colombia",
          "India",
          "Czech Republic",
          "Spain",
          "Japan",
          "Uganda",
          "Zambia",
          "Norway",
          "Unified Team",
          "Lithuania",
          "Uruguay",
          "Philippines",
          "Estonia",
          "Tonga"
         ],
         "categoryorder": "array",
         "domain": [
          0,
          1
         ],
         "title": {
          "text": "Team"
         }
        },
        "yaxis": {
         "anchor": "x",
         "domain": [
          0,
          1
         ],
         "title": {
          "text": "Age"
         }
        }
       }
      }
     },
     "metadata": {},
     "output_type": "display_data"
    }
   ],
   "source": [
    "# plot the age distribution in teams\n",
    "# i went with scatter plot because it is easier to read than a histogram\n",
    "fig = px.scatter(\n",
    "    df_boxing,\n",
    "    x=\"Team\",\n",
    "    y=\"Age\",\n",
    "    color=\"Team\",\n",
    "    title=\"Age distribution in boxing teams\",\n",
    ")\n",
    "fig.show()"
   ]
  },
  {
   "cell_type": "code",
   "execution_count": 725,
   "metadata": {},
   "outputs": [
    {
     "data": {
      "application/vnd.plotly.v1+json": {
       "config": {
        "plotlyServerURL": "https://plot.ly"
       },
       "data": [
        {
         "alignmentgroup": "True",
         "hovertemplate": "Team=%{x}<br>Age=%{y}<extra></extra>",
         "legendgroup": "Uzbekistan",
         "marker": {
          "color": "#636efa"
         },
         "name": "Uzbekistan",
         "notched": false,
         "offsetgroup": "Uzbekistan",
         "orientation": "v",
         "showlegend": true,
         "type": "box",
         "x": [
          "Uzbekistan",
          "Uzbekistan",
          "Uzbekistan",
          "Uzbekistan",
          "Uzbekistan",
          "Uzbekistan",
          "Uzbekistan",
          "Uzbekistan",
          "Uzbekistan",
          "Uzbekistan",
          "Uzbekistan",
          "Uzbekistan",
          "Uzbekistan",
          "Uzbekistan"
         ],
         "x0": " ",
         "xaxis": "x",
         "y": [
          26,
          21,
          26,
          23,
          25,
          23,
          30,
          20,
          24,
          22,
          19,
          24,
          22,
          23
         ],
         "y0": " ",
         "yaxis": "y"
        },
        {
         "alignmentgroup": "True",
         "hovertemplate": "Team=%{x}<br>Age=%{y}<extra></extra>",
         "legendgroup": "Puerto Rico",
         "marker": {
          "color": "#EF553B"
         },
         "name": "Puerto Rico",
         "notched": false,
         "offsetgroup": "Puerto Rico",
         "orientation": "v",
         "showlegend": true,
         "type": "box",
         "x": [
          "Puerto Rico",
          "Puerto Rico",
          "Puerto Rico",
          "Puerto Rico",
          "Puerto Rico",
          "Puerto Rico"
         ],
         "x0": " ",
         "xaxis": "x",
         "y": [
          21,
          23,
          17,
          18,
          20,
          19
         ],
         "y0": " ",
         "yaxis": "y"
        },
        {
         "alignmentgroup": "True",
         "hovertemplate": "Team=%{x}<br>Age=%{y}<extra></extra>",
         "legendgroup": "Morocco",
         "marker": {
          "color": "#00cc96"
         },
         "name": "Morocco",
         "notched": false,
         "offsetgroup": "Morocco",
         "orientation": "v",
         "showlegend": true,
         "type": "box",
         "x": [
          "Morocco",
          "Morocco",
          "Morocco",
          "Morocco"
         ],
         "x0": " ",
         "xaxis": "x",
         "y": [
          29,
          27,
          23,
          20
         ],
         "y0": " ",
         "yaxis": "y"
        },
        {
         "alignmentgroup": "True",
         "hovertemplate": "Team=%{x}<br>Age=%{y}<extra></extra>",
         "legendgroup": "Cuba",
         "marker": {
          "color": "#ab63fa"
         },
         "name": "Cuba",
         "notched": false,
         "offsetgroup": "Cuba",
         "orientation": "v",
         "showlegend": true,
         "type": "box",
         "x": [
          "Cuba",
          "Cuba",
          "Cuba",
          "Cuba",
          "Cuba",
          "Cuba",
          "Cuba",
          "Cuba",
          "Cuba",
          "Cuba",
          "Cuba",
          "Cuba",
          "Cuba",
          "Cuba",
          "Cuba",
          "Cuba",
          "Cuba",
          "Cuba",
          "Cuba",
          "Cuba",
          "Cuba",
          "Cuba",
          "Cuba",
          "Cuba",
          "Cuba",
          "Cuba",
          "Cuba",
          "Cuba",
          "Cuba",
          "Cuba",
          "Cuba",
          "Cuba",
          "Cuba",
          "Cuba",
          "Cuba",
          "Cuba",
          "Cuba",
          "Cuba",
          "Cuba",
          "Cuba",
          "Cuba",
          "Cuba",
          "Cuba",
          "Cuba",
          "Cuba",
          "Cuba",
          "Cuba",
          "Cuba",
          "Cuba",
          "Cuba",
          "Cuba",
          "Cuba",
          "Cuba",
          "Cuba",
          "Cuba",
          "Cuba",
          "Cuba",
          "Cuba",
          "Cuba",
          "Cuba",
          "Cuba",
          "Cuba",
          "Cuba",
          "Cuba",
          "Cuba",
          "Cuba",
          "Cuba",
          "Cuba",
          "Cuba",
          "Cuba",
          "Cuba",
          "Cuba",
          "Cuba"
         ],
         "x0": " ",
         "xaxis": "x",
         "y": [
          23,
          20,
          20,
          24,
          21,
          25,
          30,
          19,
          23,
          21,
          24,
          21,
          21,
          19,
          22,
          21,
          28,
          22,
          20,
          28,
          21,
          25,
          24,
          22,
          26,
          21,
          23,
          17,
          23,
          27,
          18,
          22,
          22,
          19,
          23,
          23,
          29,
          33,
          26,
          30,
          27,
          26,
          23,
          27,
          23,
          27,
          18,
          21,
          27,
          28,
          18,
          22,
          24,
          20,
          19,
          23,
          22,
          25,
          23,
          27,
          26,
          24,
          28,
          32,
          24,
          22,
          20,
          24,
          28,
          22,
          22,
          19,
          23
         ],
         "y0": " ",
         "yaxis": "y"
        },
        {
         "alignmentgroup": "True",
         "hovertemplate": "Team=%{x}<br>Age=%{y}<extra></extra>",
         "legendgroup": "Poland",
         "marker": {
          "color": "#FFA15A"
         },
         "name": "Poland",
         "notched": false,
         "offsetgroup": "Poland",
         "orientation": "v",
         "showlegend": true,
         "type": "box",
         "x": [
          "Poland",
          "Poland",
          "Poland",
          "Poland",
          "Poland",
          "Poland",
          "Poland",
          "Poland",
          "Poland",
          "Poland",
          "Poland",
          "Poland",
          "Poland",
          "Poland",
          "Poland",
          "Poland",
          "Poland",
          "Poland",
          "Poland",
          "Poland",
          "Poland",
          "Poland",
          "Poland",
          "Poland",
          "Poland",
          "Poland",
          "Poland",
          "Poland",
          "Poland",
          "Poland",
          "Poland",
          "Poland",
          "Poland",
          "Poland",
          "Poland",
          "Poland",
          "Poland",
          "Poland",
          "Poland",
          "Poland",
          "Poland",
          "Poland",
          "Poland"
         ],
         "x0": " ",
         "xaxis": "x",
         "y": [
          23,
          23,
          24,
          28,
          24,
          21,
          23,
          27,
          25,
          26,
          27,
          20,
          24,
          28,
          20,
          25,
          29,
          23,
          20,
          25,
          19,
          22,
          23,
          27,
          23,
          24,
          28,
          25,
          29,
          22,
          25,
          30,
          25,
          23,
          27,
          22,
          25,
          32,
          22,
          26,
          24,
          28,
          29
         ],
         "y0": " ",
         "yaxis": "y"
        },
        {
         "alignmentgroup": "True",
         "hovertemplate": "Team=%{x}<br>Age=%{y}<extra></extra>",
         "legendgroup": "Great Britain",
         "marker": {
          "color": "#19d3f3"
         },
         "name": "Great Britain",
         "notched": false,
         "offsetgroup": "Great Britain",
         "orientation": "v",
         "showlegend": true,
         "type": "box",
         "x": [
          "Great Britain",
          "Great Britain",
          "Great Britain",
          "Great Britain",
          "Great Britain",
          "Great Britain",
          "Great Britain",
          "Great Britain",
          "Great Britain",
          "Great Britain",
          "Great Britain",
          "Great Britain",
          "Great Britain",
          "Great Britain",
          "Great Britain",
          "Great Britain",
          "Great Britain",
          "Great Britain",
          "Great Britain",
          "Great Britain",
          "Great Britain",
          "Great Britain",
          "Great Britain",
          "Great Britain",
          "Great Britain",
          "Great Britain",
          "Great Britain",
          "Great Britain",
          "Great Britain",
          "Great Britain",
          "Great Britain",
          "Great Britain",
          "Great Britain",
          "Great Britain",
          "Great Britain",
          "Great Britain",
          "Great Britain",
          "Great Britain",
          "Great Britain",
          "Great Britain",
          "Great Britain",
          "Great Britain",
          "Great Britain",
          "Great Britain",
          "Great Britain",
          "Great Britain",
          "Great Britain",
          "Great Britain",
          "Great Britain",
          "Great Britain",
          "Great Britain",
          "Great Britain",
          "Great Britain",
          "Great Britain",
          "Great Britain",
          "Great Britain"
         ],
         "x0": " ",
         "xaxis": "x",
         "y": [
          29,
          33,
          23,
          24,
          19,
          22,
          17,
          22,
          25,
          22,
          21,
          18,
          24,
          24,
          20,
          24,
          22,
          24,
          37,
          28,
          19,
          23,
          20,
          22,
          30,
          17,
          21,
          27,
          31,
          21,
          19,
          20,
          21,
          24,
          21,
          26,
          24,
          25,
          23,
          24,
          33,
          26,
          25,
          27,
          21,
          21,
          20,
          23,
          18,
          19,
          20,
          25,
          23,
          20,
          20,
          19
         ],
         "y0": " ",
         "yaxis": "y"
        },
        {
         "alignmentgroup": "True",
         "hovertemplate": "Team=%{x}<br>Age=%{y}<extra></extra>",
         "legendgroup": "United States",
         "marker": {
          "color": "#FF6692"
         },
         "name": "United States",
         "notched": false,
         "offsetgroup": "United States",
         "orientation": "v",
         "showlegend": true,
         "type": "box",
         "x": [
          "United States",
          "United States",
          "United States",
          "United States",
          "United States",
          "United States",
          "United States",
          "United States",
          "United States",
          "United States",
          "United States",
          "United States",
          "United States",
          "United States",
          "United States",
          "United States",
          "United States",
          "United States",
          "United States",
          "United States",
          "United States",
          "United States",
          "United States",
          "United States",
          "United States",
          "United States",
          "United States",
          "United States",
          "United States",
          "United States",
          "United States",
          "United States",
          "United States",
          "United States",
          "United States",
          "United States",
          "United States",
          "United States",
          "United States",
          "United States",
          "United States",
          "United States",
          "United States",
          "United States",
          "United States",
          "United States",
          "United States",
          "United States",
          "United States",
          "United States",
          "United States",
          "United States",
          "United States",
          "United States",
          "United States",
          "United States",
          "United States",
          "United States",
          "United States",
          "United States",
          "United States",
          "United States",
          "United States",
          "United States",
          "United States",
          "United States",
          "United States",
          "United States",
          "United States",
          "United States",
          "United States",
          "United States",
          "United States",
          "United States",
          "United States",
          "United States",
          "United States",
          "United States",
          "United States",
          "United States",
          "United States",
          "United States",
          "United States",
          "United States",
          "United States",
          "United States",
          "United States",
          "United States",
          "United States",
          "United States",
          "United States",
          "United States",
          "United States",
          "United States",
          "United States",
          "United States",
          "United States",
          "United States",
          "United States",
          "United States",
          "United States",
          "United States",
          "United States",
          "United States",
          "United States",
          "United States",
          "United States",
          "United States",
          "United States",
          "United States",
          "United States",
          "United States",
          "United States"
         ],
         "x0": " ",
         "xaxis": "x",
         "y": [
          20,
          21,
          19,
          19,
          19,
          23,
          19,
          21,
          25,
          21,
          21,
          18,
          25,
          19,
          21,
          21,
          26,
          22,
          20,
          18,
          31,
          18,
          19,
          20,
          19,
          18,
          21,
          21,
          22,
          22,
          20,
          21,
          16,
          24,
          24,
          22,
          19,
          20,
          18,
          17,
          20,
          21,
          19,
          21,
          20,
          17,
          20,
          26,
          20,
          21,
          18,
          22,
          23,
          19,
          20,
          20,
          20,
          19,
          18,
          18,
          27,
          20,
          26,
          25,
          24,
          24,
          24,
          19,
          21,
          20,
          22,
          27,
          27,
          25,
          23,
          23,
          17,
          28,
          18,
          22,
          21,
          20,
          19,
          22,
          19,
          17,
          21,
          31,
          31,
          23,
          19,
          24,
          19,
          18,
          27,
          19,
          21,
          22,
          17,
          23,
          20,
          19,
          25,
          18,
          22,
          24,
          20,
          19,
          20,
          22,
          19,
          18,
          26
         ],
         "y0": " ",
         "yaxis": "y"
        },
        {
         "alignmentgroup": "True",
         "hovertemplate": "Team=%{x}<br>Age=%{y}<extra></extra>",
         "legendgroup": "Sweden",
         "marker": {
          "color": "#B6E880"
         },
         "name": "Sweden",
         "notched": false,
         "offsetgroup": "Sweden",
         "orientation": "v",
         "showlegend": true,
         "type": "box",
         "x": [
          "Sweden",
          "Sweden",
          "Sweden",
          "Sweden",
          "Sweden",
          "Sweden",
          "Sweden",
          "Sweden",
          "Sweden",
          "Sweden",
          "Sweden"
         ],
         "x0": " ",
         "xaxis": "x",
         "y": [
          20,
          25,
          20,
          21,
          21,
          19,
          23,
          25,
          25,
          23,
          30
         ],
         "y0": " ",
         "yaxis": "y"
        },
        {
         "alignmentgroup": "True",
         "hovertemplate": "Team=%{x}<br>Age=%{y}<extra></extra>",
         "legendgroup": "Finland",
         "marker": {
          "color": "#FF97FF"
         },
         "name": "Finland",
         "notched": false,
         "offsetgroup": "Finland",
         "orientation": "v",
         "showlegend": true,
         "type": "box",
         "x": [
          "Finland",
          "Finland",
          "Finland",
          "Finland",
          "Finland",
          "Finland",
          "Finland",
          "Finland",
          "Finland",
          "Finland",
          "Finland",
          "Finland",
          "Finland",
          "Finland",
          "Finland"
         ],
         "x0": " ",
         "xaxis": "x",
         "y": [
          21,
          22,
          26,
          23,
          24,
          25,
          24,
          20,
          21,
          22,
          35,
          22,
          29,
          24,
          24
         ],
         "y0": " ",
         "yaxis": "y"
        },
        {
         "alignmentgroup": "True",
         "hovertemplate": "Team=%{x}<br>Age=%{y}<extra></extra>",
         "legendgroup": "Syria",
         "marker": {
          "color": "#FECB52"
         },
         "name": "Syria",
         "notched": false,
         "offsetgroup": "Syria",
         "orientation": "v",
         "showlegend": true,
         "type": "box",
         "x": [
          "Syria"
         ],
         "x0": " ",
         "xaxis": "x",
         "y": [
          22
         ],
         "y0": " ",
         "yaxis": "y"
        },
        {
         "alignmentgroup": "True",
         "hovertemplate": "Team=%{x}<br>Age=%{y}<extra></extra>",
         "legendgroup": "Romania",
         "marker": {
          "color": "#636efa"
         },
         "name": "Romania",
         "notched": false,
         "offsetgroup": "Romania",
         "orientation": "v",
         "showlegend": true,
         "type": "box",
         "x": [
          "Romania",
          "Romania",
          "Romania",
          "Romania",
          "Romania",
          "Romania",
          "Romania",
          "Romania",
          "Romania",
          "Romania",
          "Romania",
          "Romania",
          "Romania",
          "Romania",
          "Romania",
          "Romania",
          "Romania",
          "Romania",
          "Romania",
          "Romania",
          "Romania",
          "Romania",
          "Romania",
          "Romania",
          "Romania"
         ],
         "x0": " ",
         "xaxis": "x",
         "y": [
          26,
          22,
          20,
          24,
          22,
          26,
          22,
          26,
          25,
          19,
          23,
          25,
          20,
          27,
          19,
          27,
          27,
          22,
          23,
          23,
          20,
          24,
          22,
          24,
          28
         ],
         "y0": " ",
         "yaxis": "y"
        },
        {
         "alignmentgroup": "True",
         "hovertemplate": "Team=%{x}<br>Age=%{y}<extra></extra>",
         "legendgroup": "Algeria",
         "marker": {
          "color": "#EF553B"
         },
         "name": "Algeria",
         "notched": false,
         "offsetgroup": "Algeria",
         "orientation": "v",
         "showlegend": true,
         "type": "box",
         "x": [
          "Algeria",
          "Algeria",
          "Algeria",
          "Algeria",
          "Algeria",
          "Algeria"
         ],
         "x0": " ",
         "xaxis": "x",
         "y": [
          26,
          20,
          22,
          19,
          23,
          24
         ],
         "y0": " ",
         "yaxis": "y"
        },
        {
         "alignmentgroup": "True",
         "hovertemplate": "Team=%{x}<br>Age=%{y}<extra></extra>",
         "legendgroup": "Russia",
         "marker": {
          "color": "#00cc96"
         },
         "name": "Russia",
         "notched": false,
         "offsetgroup": "Russia",
         "orientation": "v",
         "showlegend": true,
         "type": "box",
         "x": [
          "Russia",
          "Russia",
          "Russia",
          "Russia",
          "Russia",
          "Russia",
          "Russia",
          "Russia",
          "Russia",
          "Russia",
          "Russia",
          "Russia",
          "Russia",
          "Russia",
          "Russia",
          "Russia",
          "Russia",
          "Russia",
          "Russia",
          "Russia",
          "Russia",
          "Russia",
          "Russia",
          "Russia",
          "Russia",
          "Russia",
          "Russia",
          "Russia",
          "Russia",
          "Russia"
         ],
         "x0": " ",
         "xaxis": "x",
         "y": [
          23,
          28,
          28,
          23,
          25,
          24,
          21,
          23,
          27,
          25,
          28,
          21,
          31,
          23,
          21,
          26,
          25,
          27,
          26,
          25,
          28,
          24,
          22,
          26,
          30,
          20,
          24,
          25,
          33,
          25
         ],
         "y0": " ",
         "yaxis": "y"
        },
        {
         "alignmentgroup": "True",
         "hovertemplate": "Team=%{x}<br>Age=%{y}<extra></extra>",
         "legendgroup": "Egypt",
         "marker": {
          "color": "#ab63fa"
         },
         "name": "Egypt",
         "notched": false,
         "offsetgroup": "Egypt",
         "orientation": "v",
         "showlegend": true,
         "type": "box",
         "x": [
          "Egypt",
          "Egypt",
          "Egypt"
         ],
         "x0": " ",
         "xaxis": "x",
         "y": [
          29,
          31,
          28
         ],
         "y0": " ",
         "yaxis": "y"
        },
        {
         "alignmentgroup": "True",
         "hovertemplate": "Team=%{x}<br>Age=%{y}<extra></extra>",
         "legendgroup": "Ghana",
         "marker": {
          "color": "#FFA15A"
         },
         "name": "Ghana",
         "notched": false,
         "offsetgroup": "Ghana",
         "orientation": "v",
         "showlegend": true,
         "type": "box",
         "x": [
          "Ghana",
          "Ghana",
          "Ghana"
         ],
         "x0": " ",
         "xaxis": "x",
         "y": [
          28,
          26,
          22
         ],
         "y0": " ",
         "yaxis": "y"
        },
        {
         "alignmentgroup": "True",
         "hovertemplate": "Team=%{x}<br>Age=%{y}<extra></extra>",
         "legendgroup": "South Korea",
         "marker": {
          "color": "#19d3f3"
         },
         "name": "South Korea",
         "notched": false,
         "offsetgroup": "South Korea",
         "orientation": "v",
         "showlegend": true,
         "type": "box",
         "x": [
          "South Korea",
          "South Korea",
          "South Korea",
          "South Korea",
          "South Korea",
          "South Korea",
          "South Korea",
          "South Korea",
          "South Korea",
          "South Korea",
          "South Korea",
          "South Korea",
          "South Korea",
          "South Korea",
          "South Korea",
          "South Korea",
          "South Korea",
          "South Korea",
          "South Korea",
          "South Korea"
         ],
         "x0": " ",
         "xaxis": "x",
         "y": [
          20,
          24,
          24,
          22,
          27,
          24,
          22,
          23,
          24,
          19,
          24,
          24,
          22,
          26,
          19,
          21,
          25,
          22,
          21,
          22
         ],
         "y0": " ",
         "yaxis": "y"
        },
        {
         "alignmentgroup": "True",
         "hovertemplate": "Team=%{x}<br>Age=%{y}<extra></extra>",
         "legendgroup": "Bulgaria",
         "marker": {
          "color": "#FF6692"
         },
         "name": "Bulgaria",
         "notched": false,
         "offsetgroup": "Bulgaria",
         "orientation": "v",
         "showlegend": true,
         "type": "box",
         "x": [
          "Bulgaria",
          "Bulgaria",
          "Bulgaria",
          "Bulgaria",
          "Bulgaria",
          "Bulgaria",
          "Bulgaria",
          "Bulgaria",
          "Bulgaria",
          "Bulgaria",
          "Bulgaria",
          "Bulgaria",
          "Bulgaria",
          "Bulgaria",
          "Bulgaria",
          "Bulgaria",
          "Bulgaria",
          "Bulgaria"
         ],
         "x0": " ",
         "xaxis": "x",
         "y": [
          24,
          20,
          24,
          21,
          24,
          22,
          22,
          19,
          23,
          20,
          28,
          24,
          23,
          29,
          28,
          25,
          27,
          23
         ],
         "y0": " ",
         "yaxis": "y"
        },
        {
         "alignmentgroup": "True",
         "hovertemplate": "Team=%{x}<br>Age=%{y}<extra></extra>",
         "legendgroup": "Guyana",
         "marker": {
          "color": "#B6E880"
         },
         "name": "Guyana",
         "notched": false,
         "offsetgroup": "Guyana",
         "orientation": "v",
         "showlegend": true,
         "type": "box",
         "x": [
          "Guyana"
         ],
         "x0": " ",
         "xaxis": "x",
         "y": [
          22
         ],
         "y0": " ",
         "yaxis": "y"
        },
        {
         "alignmentgroup": "True",
         "hovertemplate": "Team=%{x}<br>Age=%{y}<extra></extra>",
         "legendgroup": "France",
         "marker": {
          "color": "#FF97FF"
         },
         "name": "France",
         "notched": false,
         "offsetgroup": "France",
         "orientation": "v",
         "showlegend": true,
         "type": "box",
         "x": [
          "France",
          "France",
          "France",
          "France",
          "France",
          "France",
          "France",
          "France",
          "France",
          "France",
          "France",
          "France",
          "France",
          "France",
          "France",
          "France",
          "France",
          "France",
          "France",
          "France",
          "France",
          "France",
          "France",
          "France",
          "France"
         ],
         "x0": " ",
         "xaxis": "x",
         "y": [
          23,
          21,
          27,
          21,
          17,
          23,
          25,
          20,
          24,
          22,
          19,
          25,
          23,
          21,
          24,
          23,
          21,
          34,
          25,
          21,
          25,
          21,
          21,
          22,
          24
         ],
         "y0": " ",
         "yaxis": "y"
        },
        {
         "alignmentgroup": "True",
         "hovertemplate": "Team=%{x}<br>Age=%{y}<extra></extra>",
         "legendgroup": "Brazil",
         "marker": {
          "color": "#FECB52"
         },
         "name": "Brazil",
         "notched": false,
         "offsetgroup": "Brazil",
         "orientation": "v",
         "showlegend": true,
         "type": "box",
         "x": [
          "Brazil",
          "Brazil",
          "Brazil",
          "Brazil",
          "Brazil"
         ],
         "x0": " ",
         "xaxis": "x",
         "y": [
          30,
          27,
          20,
          24,
          22
         ],
         "y0": " ",
         "yaxis": "y"
        },
        {
         "alignmentgroup": "True",
         "hovertemplate": "Team=%{x}<br>Age=%{y}<extra></extra>",
         "legendgroup": "Belarus",
         "marker": {
          "color": "#636efa"
         },
         "name": "Belarus",
         "notched": false,
         "offsetgroup": "Belarus",
         "orientation": "v",
         "showlegend": true,
         "type": "box",
         "x": [
          "Belarus",
          "Belarus"
         ],
         "x0": " ",
         "xaxis": "x",
         "y": [
          26,
          21
         ],
         "y0": " ",
         "yaxis": "y"
        },
        {
         "alignmentgroup": "True",
         "hovertemplate": "Team=%{x}<br>Age=%{y}<extra></extra>",
         "legendgroup": "Kazakhstan",
         "marker": {
          "color": "#EF553B"
         },
         "name": "Kazakhstan",
         "notched": false,
         "offsetgroup": "Kazakhstan",
         "orientation": "v",
         "showlegend": true,
         "type": "box",
         "x": [
          "Kazakhstan",
          "Kazakhstan",
          "Kazakhstan",
          "Kazakhstan",
          "Kazakhstan",
          "Kazakhstan",
          "Kazakhstan",
          "Kazakhstan",
          "Kazakhstan",
          "Kazakhstan",
          "Kazakhstan",
          "Kazakhstan",
          "Kazakhstan",
          "Kazakhstan",
          "Kazakhstan",
          "Kazakhstan",
          "Kazakhstan",
          "Kazakhstan",
          "Kazakhstan",
          "Kazakhstan",
          "Kazakhstan",
          "Kazakhstan"
         ],
         "x0": " ",
         "xaxis": "x",
         "y": [
          21,
          24,
          21,
          25,
          22,
          24,
          28,
          28,
          23,
          27,
          23,
          28,
          26,
          20,
          27,
          20,
          22,
          23,
          25,
          22,
          23,
          27
         ],
         "y0": " ",
         "yaxis": "y"
        },
        {
         "alignmentgroup": "True",
         "hovertemplate": "Team=%{x}<br>Age=%{y}<extra></extra>",
         "legendgroup": "South Africa",
         "marker": {
          "color": "#00cc96"
         },
         "name": "South Africa",
         "notched": false,
         "offsetgroup": "South Africa",
         "orientation": "v",
         "showlegend": true,
         "type": "box",
         "x": [
          "South Africa",
          "South Africa",
          "South Africa",
          "South Africa",
          "South Africa",
          "South Africa",
          "South Africa",
          "South Africa",
          "South Africa",
          "South Africa",
          "South Africa",
          "South Africa",
          "South Africa",
          "South Africa",
          "South Africa",
          "South Africa",
          "South Africa",
          "South Africa",
          "South Africa"
         ],
         "x0": " ",
         "xaxis": "x",
         "y": [
          18,
          24,
          28,
          24,
          21,
          18,
          21,
          20,
          17,
          20,
          17,
          24,
          22,
          21,
          19,
          19,
          18,
          22,
          21
         ],
         "y0": " ",
         "yaxis": "y"
        },
        {
         "alignmentgroup": "True",
         "hovertemplate": "Team=%{x}<br>Age=%{y}<extra></extra>",
         "legendgroup": "Azerbaijan",
         "marker": {
          "color": "#ab63fa"
         },
         "name": "Azerbaijan",
         "notched": false,
         "offsetgroup": "Azerbaijan",
         "orientation": "v",
         "showlegend": true,
         "type": "box",
         "x": [
          "Azerbaijan",
          "Azerbaijan",
          "Azerbaijan",
          "Azerbaijan",
          "Azerbaijan",
          "Azerbaijan",
          "Azerbaijan",
          "Azerbaijan"
         ],
         "x0": " ",
         "xaxis": "x",
         "y": [
          21,
          27,
          19,
          25,
          24,
          19,
          23,
          31
         ],
         "y0": " ",
         "yaxis": "y"
        },
        {
         "alignmentgroup": "True",
         "hovertemplate": "Team=%{x}<br>Age=%{y}<extra></extra>",
         "legendgroup": "Italy",
         "marker": {
          "color": "#FFA15A"
         },
         "name": "Italy",
         "notched": false,
         "offsetgroup": "Italy",
         "orientation": "v",
         "showlegend": true,
         "type": "box",
         "x": [
          "Italy",
          "Italy",
          "Italy",
          "Italy",
          "Italy",
          "Italy",
          "Italy",
          "Italy",
          "Italy",
          "Italy",
          "Italy",
          "Italy",
          "Italy",
          "Italy",
          "Italy",
          "Italy",
          "Italy",
          "Italy",
          "Italy",
          "Italy",
          "Italy",
          "Italy",
          "Italy",
          "Italy",
          "Italy",
          "Italy",
          "Italy",
          "Italy",
          "Italy",
          "Italy",
          "Italy",
          "Italy",
          "Italy",
          "Italy",
          "Italy",
          "Italy",
          "Italy",
          "Italy",
          "Italy",
          "Italy",
          "Italy",
          "Italy",
          "Italy",
          "Italy",
          "Italy",
          "Italy",
          "Italy"
         ],
         "x0": " ",
         "xaxis": "x",
         "y": [
          22,
          23,
          27,
          22,
          24,
          21,
          20,
          23,
          21,
          24,
          28,
          31,
          20,
          21,
          25,
          22,
          20,
          21,
          20,
          19,
          20,
          23,
          26,
          21,
          23,
          21,
          21,
          18,
          20,
          24,
          21,
          22,
          24,
          27,
          26,
          29,
          22,
          23,
          21,
          18,
          22,
          23,
          24,
          30,
          19,
          21,
          20
         ],
         "y0": " ",
         "yaxis": "y"
        },
        {
         "alignmentgroup": "True",
         "hovertemplate": "Team=%{x}<br>Age=%{y}<extra></extra>",
         "legendgroup": "Argentina",
         "marker": {
          "color": "#19d3f3"
         },
         "name": "Argentina",
         "notched": false,
         "offsetgroup": "Argentina",
         "orientation": "v",
         "showlegend": true,
         "type": "box",
         "x": [
          "Argentina",
          "Argentina",
          "Argentina",
          "Argentina",
          "Argentina",
          "Argentina",
          "Argentina",
          "Argentina",
          "Argentina",
          "Argentina",
          "Argentina",
          "Argentina",
          "Argentina",
          "Argentina",
          "Argentina",
          "Argentina",
          "Argentina",
          "Argentina",
          "Argentina",
          "Argentina",
          "Argentina",
          "Argentina",
          "Argentina",
          "Argentina"
         ],
         "x0": " ",
         "xaxis": "x",
         "y": [
          20,
          18,
          22,
          21,
          29,
          21,
          22,
          22,
          24,
          18,
          21,
          20,
          18,
          26,
          24,
          20,
          22,
          23,
          18,
          19,
          20,
          20,
          26,
          23
         ],
         "y0": " ",
         "yaxis": "y"
        },
        {
         "alignmentgroup": "True",
         "hovertemplate": "Team=%{x}<br>Age=%{y}<extra></extra>",
         "legendgroup": "Turkey",
         "marker": {
          "color": "#FF6692"
         },
         "name": "Turkey",
         "notched": false,
         "offsetgroup": "Turkey",
         "orientation": "v",
         "showlegend": true,
         "type": "box",
         "x": [
          "Turkey",
          "Turkey",
          "Turkey",
          "Turkey",
          "Turkey"
         ],
         "x0": " ",
         "xaxis": "x",
         "y": [
          26,
          26,
          19,
          22,
          17
         ],
         "y0": " ",
         "yaxis": "y"
        },
        {
         "alignmentgroup": "True",
         "hovertemplate": "Team=%{x}<br>Age=%{y}<extra></extra>",
         "legendgroup": "East Germany",
         "marker": {
          "color": "#B6E880"
         },
         "name": "East Germany",
         "notched": false,
         "offsetgroup": "East Germany",
         "orientation": "v",
         "showlegend": true,
         "type": "box",
         "x": [
          "East Germany",
          "East Germany",
          "East Germany",
          "East Germany",
          "East Germany",
          "East Germany",
          "East Germany",
          "East Germany",
          "East Germany",
          "East Germany",
          "East Germany",
          "East Germany",
          "East Germany"
         ],
         "x0": " ",
         "xaxis": "x",
         "y": [
          23,
          23,
          28,
          22,
          22,
          26,
          24,
          20,
          24,
          20,
          26,
          25,
          22
         ],
         "y0": " ",
         "yaxis": "y"
        },
        {
         "alignmentgroup": "True",
         "hovertemplate": "Team=%{x}<br>Age=%{y}<extra></extra>",
         "legendgroup": "Australasia",
         "marker": {
          "color": "#FF97FF"
         },
         "name": "Australasia",
         "notched": false,
         "offsetgroup": "Australasia",
         "orientation": "v",
         "showlegend": true,
         "type": "box",
         "x": [
          "Australasia"
         ],
         "x0": " ",
         "xaxis": "x",
         "y": [
          24
         ],
         "y0": " ",
         "yaxis": "y"
        },
        {
         "alignmentgroup": "True",
         "hovertemplate": "Team=%{x}<br>Age=%{y}<extra></extra>",
         "legendgroup": "Soviet Union",
         "marker": {
          "color": "#FECB52"
         },
         "name": "Soviet Union",
         "notched": false,
         "offsetgroup": "Soviet Union",
         "orientation": "v",
         "showlegend": true,
         "type": "box",
         "x": [
          "Soviet Union",
          "Soviet Union",
          "Soviet Union",
          "Soviet Union",
          "Soviet Union",
          "Soviet Union",
          "Soviet Union",
          "Soviet Union",
          "Soviet Union",
          "Soviet Union",
          "Soviet Union",
          "Soviet Union",
          "Soviet Union",
          "Soviet Union",
          "Soviet Union",
          "Soviet Union",
          "Soviet Union",
          "Soviet Union",
          "Soviet Union",
          "Soviet Union",
          "Soviet Union",
          "Soviet Union",
          "Soviet Union",
          "Soviet Union",
          "Soviet Union",
          "Soviet Union",
          "Soviet Union",
          "Soviet Union",
          "Soviet Union",
          "Soviet Union",
          "Soviet Union",
          "Soviet Union",
          "Soviet Union",
          "Soviet Union",
          "Soviet Union",
          "Soviet Union",
          "Soviet Union",
          "Soviet Union",
          "Soviet Union",
          "Soviet Union",
          "Soviet Union",
          "Soviet Union",
          "Soviet Union",
          "Soviet Union",
          "Soviet Union",
          "Soviet Union",
          "Soviet Union",
          "Soviet Union",
          "Soviet Union",
          "Soviet Union",
          "Soviet Union"
         ],
         "x0": " ",
         "xaxis": "x",
         "y": [
          26,
          22,
          29,
          21,
          24,
          23,
          23,
          21,
          22,
          26,
          30,
          20,
          21,
          25,
          20,
          22,
          26,
          30,
          20,
          24,
          24,
          20,
          20,
          22,
          23,
          25,
          27,
          28,
          24,
          26,
          20,
          24,
          21,
          21,
          23,
          27,
          20,
          23,
          24,
          34,
          20,
          22,
          23,
          23,
          24,
          26,
          23,
          25,
          31,
          22,
          26
         ],
         "y0": " ",
         "yaxis": "y"
        },
        {
         "alignmentgroup": "True",
         "hovertemplate": "Team=%{x}<br>Age=%{y}<extra></extra>",
         "legendgroup": "Ireland",
         "marker": {
          "color": "#636efa"
         },
         "name": "Ireland",
         "notched": false,
         "offsetgroup": "Ireland",
         "orientation": "v",
         "showlegend": true,
         "type": "box",
         "x": [
          "Ireland",
          "Ireland",
          "Ireland",
          "Ireland",
          "Ireland",
          "Ireland",
          "Ireland",
          "Ireland",
          "Ireland",
          "Ireland",
          "Ireland",
          "Ireland",
          "Ireland",
          "Ireland",
          "Ireland",
          "Ireland"
         ],
         "x0": " ",
         "xaxis": "x",
         "y": [
          21,
          25,
          26,
          18,
          25,
          20,
          26,
          20,
          20,
          22,
          19,
          23,
          20,
          26,
          26,
          21
         ],
         "y0": " ",
         "yaxis": "y"
        },
        {
         "alignmentgroup": "True",
         "hovertemplate": "Team=%{x}<br>Age=%{y}<extra></extra>",
         "legendgroup": "Chile",
         "marker": {
          "color": "#EF553B"
         },
         "name": "Chile",
         "notched": false,
         "offsetgroup": "Chile",
         "orientation": "v",
         "showlegend": true,
         "type": "box",
         "x": [
          "Chile",
          "Chile",
          "Chile"
         ],
         "x0": " ",
         "xaxis": "x",
         "y": [
          21,
          26,
          24
         ],
         "y0": " ",
         "yaxis": "y"
        },
        {
         "alignmentgroup": "True",
         "hovertemplate": "Team=%{x}<br>Age=%{y}<extra></extra>",
         "legendgroup": "New Zealand",
         "marker": {
          "color": "#00cc96"
         },
         "name": "New Zealand",
         "notched": false,
         "offsetgroup": "New Zealand",
         "orientation": "v",
         "showlegend": true,
         "type": "box",
         "x": [
          "New Zealand",
          "New Zealand",
          "New Zealand"
         ],
         "x0": " ",
         "xaxis": "x",
         "y": [
          24,
          22,
          19
         ],
         "y0": " ",
         "yaxis": "y"
        },
        {
         "alignmentgroup": "True",
         "hovertemplate": "Team=%{x}<br>Age=%{y}<extra></extra>",
         "legendgroup": "Germany",
         "marker": {
          "color": "#ab63fa"
         },
         "name": "Germany",
         "notched": false,
         "offsetgroup": "Germany",
         "orientation": "v",
         "showlegend": true,
         "type": "box",
         "x": [
          "Germany",
          "Germany",
          "Germany",
          "Germany",
          "Germany",
          "Germany",
          "Germany",
          "Germany",
          "Germany",
          "Germany",
          "Germany",
          "Germany",
          "Germany",
          "Germany",
          "Germany",
          "Germany",
          "Germany",
          "Germany",
          "Germany",
          "Germany",
          "Germany",
          "Germany",
          "Germany",
          "Germany",
          "Germany",
          "Germany",
          "Germany",
          "Germany",
          "Germany"
         ],
         "x0": " ",
         "xaxis": "x",
         "y": [
          21,
          20,
          20,
          25,
          19,
          30,
          24,
          21,
          25,
          23,
          26,
          22,
          22,
          25,
          21,
          22,
          29,
          22,
          23,
          22,
          26,
          29,
          23,
          22,
          23,
          21,
          26,
          23,
          26
         ],
         "y0": " ",
         "yaxis": "y"
        },
        {
         "alignmentgroup": "True",
         "hovertemplate": "Team=%{x}<br>Age=%{y}<extra></extra>",
         "legendgroup": "Belgium",
         "marker": {
          "color": "#FFA15A"
         },
         "name": "Belgium",
         "notched": false,
         "offsetgroup": "Belgium",
         "orientation": "v",
         "showlegend": true,
         "type": "box",
         "x": [
          "Belgium",
          "Belgium",
          "Belgium",
          "Belgium"
         ],
         "x0": " ",
         "xaxis": "x",
         "y": [
          20,
          18,
          24,
          19
         ],
         "y0": " ",
         "yaxis": "y"
        },
        {
         "alignmentgroup": "True",
         "hovertemplate": "Team=%{x}<br>Age=%{y}<extra></extra>",
         "legendgroup": "Mexico",
         "marker": {
          "color": "#19d3f3"
         },
         "name": "Mexico",
         "notched": false,
         "offsetgroup": "Mexico",
         "orientation": "v",
         "showlegend": true,
         "type": "box",
         "x": [
          "Mexico",
          "Mexico",
          "Mexico",
          "Mexico",
          "Mexico",
          "Mexico",
          "Mexico",
          "Mexico",
          "Mexico",
          "Mexico",
          "Mexico",
          "Mexico",
          "Mexico"
         ],
         "x0": " ",
         "xaxis": "x",
         "y": [
          19,
          20,
          21,
          20,
          19,
          17,
          27,
          23,
          24,
          22,
          22,
          18,
          27
         ],
         "y0": " ",
         "yaxis": "y"
        },
        {
         "alignmentgroup": "True",
         "hovertemplate": "Team=%{x}<br>Age=%{y}<extra></extra>",
         "legendgroup": "Hungary",
         "marker": {
          "color": "#FF6692"
         },
         "name": "Hungary",
         "notched": false,
         "offsetgroup": "Hungary",
         "orientation": "v",
         "showlegend": true,
         "type": "box",
         "x": [
          "Hungary",
          "Hungary",
          "Hungary",
          "Hungary",
          "Hungary",
          "Hungary",
          "Hungary",
          "Hungary",
          "Hungary",
          "Hungary",
          "Hungary",
          "Hungary",
          "Hungary",
          "Hungary",
          "Hungary",
          "Hungary",
          "Hungary",
          "Hungary",
          "Hungary",
          "Hungary"
         ],
         "x0": " ",
         "xaxis": "x",
         "y": [
          24,
          20,
          20,
          21,
          26,
          23,
          22,
          23,
          32,
          22,
          21,
          25,
          23,
          20,
          22,
          22,
          26,
          30,
          22,
          19
         ],
         "y0": " ",
         "yaxis": "y"
        },
        {
         "alignmentgroup": "True",
         "hovertemplate": "Team=%{x}<br>Age=%{y}<extra></extra>",
         "legendgroup": "Ukraine",
         "marker": {
          "color": "#B6E880"
         },
         "name": "Ukraine",
         "notched": false,
         "offsetgroup": "Ukraine",
         "orientation": "v",
         "showlegend": true,
         "type": "box",
         "x": [
          "Ukraine",
          "Ukraine",
          "Ukraine",
          "Ukraine",
          "Ukraine",
          "Ukraine",
          "Ukraine",
          "Ukraine",
          "Ukraine",
          "Ukraine",
          "Ukraine",
          "Ukraine",
          "Ukraine",
          "Ukraine"
         ],
         "x0": " ",
         "xaxis": "x",
         "y": [
          24,
          26,
          21,
          20,
          23,
          25,
          21,
          20,
          22,
          20,
          24,
          26,
          23,
          25
         ],
         "y0": " ",
         "yaxis": "y"
        },
        {
         "alignmentgroup": "True",
         "hovertemplate": "Team=%{x}<br>Age=%{y}<extra></extra>",
         "legendgroup": "Cameroon",
         "marker": {
          "color": "#FF97FF"
         },
         "name": "Cameroon",
         "notched": false,
         "offsetgroup": "Cameroon",
         "orientation": "v",
         "showlegend": true,
         "type": "box",
         "x": [
          "Cameroon",
          "Cameroon"
         ],
         "x0": " ",
         "xaxis": "x",
         "y": [
          27,
          18
         ],
         "y0": " ",
         "yaxis": "y"
        },
        {
         "alignmentgroup": "True",
         "hovertemplate": "Team=%{x}<br>Age=%{y}<extra></extra>",
         "legendgroup": "Kenya",
         "marker": {
          "color": "#FECB52"
         },
         "name": "Kenya",
         "notched": false,
         "offsetgroup": "Kenya",
         "orientation": "v",
         "showlegend": true,
         "type": "box",
         "x": [
          "Kenya",
          "Kenya",
          "Kenya",
          "Kenya",
          "Kenya",
          "Kenya",
          "Kenya"
         ],
         "x0": " ",
         "xaxis": "x",
         "y": [
          19,
          26,
          23,
          24,
          22,
          23,
          27
         ],
         "y0": " ",
         "yaxis": "y"
        },
        {
         "alignmentgroup": "True",
         "hovertemplate": "Team=%{x}<br>Age=%{y}<extra></extra>",
         "legendgroup": "Venezuela",
         "marker": {
          "color": "#636efa"
         },
         "name": "Venezuela",
         "notched": false,
         "offsetgroup": "Venezuela",
         "orientation": "v",
         "showlegend": true,
         "type": "box",
         "x": [
          "Venezuela",
          "Venezuela",
          "Venezuela",
          "Venezuela",
          "Venezuela",
          "Venezuela"
         ],
         "x0": " ",
         "xaxis": "x",
         "y": [
          20,
          20,
          19,
          21,
          20,
          23
         ],
         "y0": " ",
         "yaxis": "y"
        },
        {
         "alignmentgroup": "True",
         "hovertemplate": "Team=%{x}<br>Age=%{y}<extra></extra>",
         "legendgroup": "Thailand",
         "marker": {
          "color": "#EF553B"
         },
         "name": "Thailand",
         "notched": false,
         "offsetgroup": "Thailand",
         "orientation": "v",
         "showlegend": true,
         "type": "box",
         "x": [
          "Thailand",
          "Thailand",
          "Thailand",
          "Thailand",
          "Thailand",
          "Thailand",
          "Thailand",
          "Thailand",
          "Thailand",
          "Thailand",
          "Thailand",
          "Thailand",
          "Thailand",
          "Thailand"
         ],
         "x0": " ",
         "xaxis": "x",
         "y": [
          24,
          28,
          22,
          33,
          23,
          28,
          20,
          23,
          32,
          24,
          18,
          24,
          26,
          24
         ],
         "y0": " ",
         "yaxis": "y"
        },
        {
         "alignmentgroup": "True",
         "hovertemplate": "Team=%{x}<br>Age=%{y}<extra></extra>",
         "legendgroup": "Georgia",
         "marker": {
          "color": "#00cc96"
         },
         "name": "Georgia",
         "notched": false,
         "offsetgroup": "Georgia",
         "orientation": "v",
         "showlegend": true,
         "type": "box",
         "x": [
          "Georgia"
         ],
         "x0": " ",
         "xaxis": "x",
         "y": [
          22
         ],
         "y0": " ",
         "yaxis": "y"
        },
        {
         "alignmentgroup": "True",
         "hovertemplate": "Team=%{x}<br>Age=%{y}<extra></extra>",
         "legendgroup": "Australia",
         "marker": {
          "color": "#ab63fa"
         },
         "name": "Australia",
         "notched": false,
         "offsetgroup": "Australia",
         "orientation": "v",
         "showlegend": true,
         "type": "box",
         "x": [
          "Australia",
          "Australia",
          "Australia",
          "Australia"
         ],
         "x0": " ",
         "xaxis": "x",
         "y": [
          19,
          22,
          30,
          22
         ],
         "y0": " ",
         "yaxis": "y"
        },
        {
         "alignmentgroup": "True",
         "hovertemplate": "Team=%{x}<br>Age=%{y}<extra></extra>",
         "legendgroup": "North Korea",
         "marker": {
          "color": "#FFA15A"
         },
         "name": "North Korea",
         "notched": false,
         "offsetgroup": "North Korea",
         "orientation": "v",
         "showlegend": true,
         "type": "box",
         "x": [
          "North Korea",
          "North Korea",
          "North Korea",
          "North Korea",
          "North Korea",
          "North Korea",
          "North Korea",
          "North Korea"
         ],
         "x0": " ",
         "xaxis": "x",
         "y": [
          22,
          21,
          20,
          22,
          20,
          21,
          25,
          22
         ],
         "y0": " ",
         "yaxis": "y"
        },
        {
         "alignmentgroup": "True",
         "hovertemplate": "Team=%{x}<br>Age=%{y}<extra></extra>",
         "legendgroup": "Tajikistan",
         "marker": {
          "color": "#19d3f3"
         },
         "name": "Tajikistan",
         "notched": false,
         "offsetgroup": "Tajikistan",
         "orientation": "v",
         "showlegend": true,
         "type": "box",
         "x": [
          "Tajikistan"
         ],
         "x0": " ",
         "xaxis": "x",
         "y": [
          19
         ],
         "y0": " ",
         "yaxis": "y"
        },
        {
         "alignmentgroup": "True",
         "hovertemplate": "Team=%{x}<br>Age=%{y}<extra></extra>",
         "legendgroup": "Niger",
         "marker": {
          "color": "#FF6692"
         },
         "name": "Niger",
         "notched": false,
         "offsetgroup": "Niger",
         "orientation": "v",
         "showlegend": true,
         "type": "box",
         "x": [
          "Niger"
         ],
         "x0": " ",
         "xaxis": "x",
         "y": [
          24
         ],
         "y0": " ",
         "yaxis": "y"
        },
        {
         "alignmentgroup": "True",
         "hovertemplate": "Team=%{x}<br>Age=%{y}<extra></extra>",
         "legendgroup": "Canada",
         "marker": {
          "color": "#B6E880"
         },
         "name": "Canada",
         "notched": false,
         "offsetgroup": "Canada",
         "orientation": "v",
         "showlegend": true,
         "type": "box",
         "x": [
          "Canada",
          "Canada",
          "Canada",
          "Canada",
          "Canada",
          "Canada",
          "Canada",
          "Canada",
          "Canada",
          "Canada",
          "Canada",
          "Canada",
          "Canada",
          "Canada",
          "Canada",
          "Canada",
          "Canada"
         ],
         "x0": " ",
         "xaxis": "x",
         "y": [
          26,
          23,
          19,
          20,
          19,
          22,
          20,
          28,
          25,
          23,
          23,
          21,
          22,
          24,
          22,
          24,
          20
         ],
         "y0": " ",
         "yaxis": "y"
        },
        {
         "alignmentgroup": "True",
         "hovertemplate": "Team=%{x}<br>Age=%{y}<extra></extra>",
         "legendgroup": "Netherlands",
         "marker": {
          "color": "#FF97FF"
         },
         "name": "Netherlands",
         "notched": false,
         "offsetgroup": "Netherlands",
         "orientation": "v",
         "showlegend": true,
         "type": "box",
         "x": [
          "Netherlands",
          "Netherlands",
          "Netherlands",
          "Netherlands",
          "Netherlands",
          "Netherlands",
          "Netherlands"
         ],
         "x0": " ",
         "xaxis": "x",
         "y": [
          21,
          28,
          24,
          20,
          21,
          25,
          29
         ],
         "y0": " ",
         "yaxis": "y"
        },
        {
         "alignmentgroup": "True",
         "hovertemplate": "Team=%{x}<br>Age=%{y}<extra></extra>",
         "legendgroup": "Dominican Republic",
         "marker": {
          "color": "#FECB52"
         },
         "name": "Dominican Republic",
         "notched": false,
         "offsetgroup": "Dominican Republic",
         "orientation": "v",
         "showlegend": true,
         "type": "box",
         "x": [
          "Dominican Republic",
          "Dominican Republic"
         ],
         "x0": " ",
         "xaxis": "x",
         "y": [
          24,
          22
         ],
         "y0": " ",
         "yaxis": "y"
        },
        {
         "alignmentgroup": "True",
         "hovertemplate": "Team=%{x}<br>Age=%{y}<extra></extra>",
         "legendgroup": "Nigeria",
         "marker": {
          "color": "#636efa"
         },
         "name": "Nigeria",
         "notched": false,
         "offsetgroup": "Nigeria",
         "orientation": "v",
         "showlegend": true,
         "type": "box",
         "x": [
          "Nigeria",
          "Nigeria",
          "Nigeria",
          "Nigeria",
          "Nigeria",
          "Nigeria"
         ],
         "x0": " ",
         "xaxis": "x",
         "y": [
          23,
          24,
          24,
          29,
          18,
          23
         ],
         "y0": " ",
         "yaxis": "y"
        },
        {
         "alignmentgroup": "True",
         "hovertemplate": "Team=%{x}<br>Age=%{y}<extra></extra>",
         "legendgroup": "Mongolia",
         "marker": {
          "color": "#EF553B"
         },
         "name": "Mongolia",
         "notched": false,
         "offsetgroup": "Mongolia",
         "orientation": "v",
         "showlegend": true,
         "type": "box",
         "x": [
          "Mongolia",
          "Mongolia",
          "Mongolia",
          "Mongolia",
          "Mongolia",
          "Mongolia",
          "Mongolia"
         ],
         "x0": " ",
         "xaxis": "x",
         "y": [
          28,
          23,
          26,
          26,
          20,
          23,
          30
         ],
         "y0": " ",
         "yaxis": "y"
        },
        {
         "alignmentgroup": "True",
         "hovertemplate": "Team=%{x}<br>Age=%{y}<extra></extra>",
         "legendgroup": "United Arab Republic",
         "marker": {
          "color": "#00cc96"
         },
         "name": "United Arab Republic",
         "notched": false,
         "offsetgroup": "United Arab Republic",
         "orientation": "v",
         "showlegend": true,
         "type": "box",
         "x": [
          "United Arab Republic"
         ],
         "x0": " ",
         "xaxis": "x",
         "y": [
          24
         ],
         "y0": " ",
         "yaxis": "y"
        },
        {
         "alignmentgroup": "True",
         "hovertemplate": "Team=%{x}<br>Age=%{y}<extra></extra>",
         "legendgroup": "Czechoslovakia",
         "marker": {
          "color": "#ab63fa"
         },
         "name": "Czechoslovakia",
         "notched": false,
         "offsetgroup": "Czechoslovakia",
         "orientation": "v",
         "showlegend": true,
         "type": "box",
         "x": [
          "Czechoslovakia",
          "Czechoslovakia",
          "Czechoslovakia",
          "Czechoslovakia",
          "Czechoslovakia",
          "Czechoslovakia"
         ],
         "x0": " ",
         "xaxis": "x",
         "y": [
          20,
          20,
          26,
          22,
          26,
          23
         ],
         "y0": " ",
         "yaxis": "y"
        },
        {
         "alignmentgroup": "True",
         "hovertemplate": "Team=%{x}<br>Age=%{y}<extra></extra>",
         "legendgroup": "Tunisia",
         "marker": {
          "color": "#FFA15A"
         },
         "name": "Tunisia",
         "notched": false,
         "offsetgroup": "Tunisia",
         "orientation": "v",
         "showlegend": true,
         "type": "box",
         "x": [
          "Tunisia",
          "Tunisia"
         ],
         "x0": " ",
         "xaxis": "x",
         "y": [
          23,
          22
         ],
         "y0": " ",
         "yaxis": "y"
        },
        {
         "alignmentgroup": "True",
         "hovertemplate": "Team=%{x}<br>Age=%{y}<extra></extra>",
         "legendgroup": "West Germany",
         "marker": {
          "color": "#19d3f3"
         },
         "name": "West Germany",
         "notched": false,
         "offsetgroup": "West Germany",
         "orientation": "v",
         "showlegend": true,
         "type": "box",
         "x": [
          "West Germany",
          "West Germany",
          "West Germany",
          "West Germany",
          "West Germany",
          "West Germany"
         ],
         "x0": " ",
         "xaxis": "x",
         "y": [
          25,
          24,
          29,
          27,
          28,
          23
         ],
         "y0": " ",
         "yaxis": "y"
        },
        {
         "alignmentgroup": "True",
         "hovertemplate": "Team=%{x}<br>Age=%{y}<extra></extra>",
         "legendgroup": "Moldova",
         "marker": {
          "color": "#FF6692"
         },
         "name": "Moldova",
         "notched": false,
         "offsetgroup": "Moldova",
         "orientation": "v",
         "showlegend": true,
         "type": "box",
         "x": [
          "Moldova",
          "Moldova"
         ],
         "x0": " ",
         "xaxis": "x",
         "y": [
          25,
          23
         ],
         "y0": " ",
         "yaxis": "y"
        },
        {
         "alignmentgroup": "True",
         "hovertemplate": "Team=%{x}<br>Age=%{y}<extra></extra>",
         "legendgroup": "China",
         "marker": {
          "color": "#B6E880"
         },
         "name": "China",
         "notched": false,
         "offsetgroup": "China",
         "orientation": "v",
         "showlegend": true,
         "type": "box",
         "x": [
          "China",
          "China",
          "China",
          "China",
          "China",
          "China",
          "China",
          "China",
          "China",
          "China",
          "China",
          "China"
         ],
         "x0": " ",
         "xaxis": "x",
         "y": [
          23,
          23,
          22,
          26,
          24,
          28,
          25,
          26,
          25,
          23,
          27,
          31
         ],
         "y0": " ",
         "yaxis": "y"
        },
        {
         "alignmentgroup": "True",
         "hovertemplate": "Team=%{x}<br>Age=%{y}<extra></extra>",
         "legendgroup": "Bermuda",
         "marker": {
          "color": "#FF97FF"
         },
         "name": "Bermuda",
         "notched": false,
         "offsetgroup": "Bermuda",
         "orientation": "v",
         "showlegend": true,
         "type": "box",
         "x": [
          "Bermuda"
         ],
         "x0": " ",
         "xaxis": "x",
         "y": [
          25
         ],
         "y0": " ",
         "yaxis": "y"
        },
        {
         "alignmentgroup": "True",
         "hovertemplate": "Team=%{x}<br>Age=%{y}<extra></extra>",
         "legendgroup": "Croatia",
         "marker": {
          "color": "#FECB52"
         },
         "name": "Croatia",
         "notched": false,
         "offsetgroup": "Croatia",
         "orientation": "v",
         "showlegend": true,
         "type": "box",
         "x": [
          "Croatia"
         ],
         "x0": " ",
         "xaxis": "x",
         "y": [
          24
         ],
         "y0": " ",
         "yaxis": "y"
        },
        {
         "alignmentgroup": "True",
         "hovertemplate": "Team=%{x}<br>Age=%{y}<extra></extra>",
         "legendgroup": "Pakistan",
         "marker": {
          "color": "#636efa"
         },
         "name": "Pakistan",
         "notched": false,
         "offsetgroup": "Pakistan",
         "orientation": "v",
         "showlegend": true,
         "type": "box",
         "x": [
          "Pakistan"
         ],
         "x0": " ",
         "xaxis": "x",
         "y": [
          24
         ],
         "y0": " ",
         "yaxis": "y"
        },
        {
         "alignmentgroup": "True",
         "hovertemplate": "Team=%{x}<br>Age=%{y}<extra></extra>",
         "legendgroup": "Armenia",
         "marker": {
          "color": "#EF553B"
         },
         "name": "Armenia",
         "notched": false,
         "offsetgroup": "Armenia",
         "orientation": "v",
         "showlegend": true,
         "type": "box",
         "x": [
          "Armenia"
         ],
         "x0": " ",
         "xaxis": "x",
         "y": [
          24
         ],
         "y0": " ",
         "yaxis": "y"
        },
        {
         "alignmentgroup": "True",
         "hovertemplate": "Team=%{x}<br>Age=%{y}<extra></extra>",
         "legendgroup": "Denmark",
         "marker": {
          "color": "#00cc96"
         },
         "name": "Denmark",
         "notched": false,
         "offsetgroup": "Denmark",
         "orientation": "v",
         "showlegend": true,
         "type": "box",
         "x": [
          "Denmark",
          "Denmark",
          "Denmark",
          "Denmark",
          "Denmark",
          "Denmark",
          "Denmark",
          "Denmark",
          "Denmark",
          "Denmark",
          "Denmark",
          "Denmark"
         ],
         "x0": " ",
         "xaxis": "x",
         "y": [
          24,
          25,
          28,
          29,
          27,
          24,
          20,
          24,
          25,
          29,
          21,
          20
         ],
         "y0": " ",
         "yaxis": "y"
        },
        {
         "alignmentgroup": "True",
         "hovertemplate": "Team=%{x}<br>Age=%{y}<extra></extra>",
         "legendgroup": "Yugoslavia",
         "marker": {
          "color": "#ab63fa"
         },
         "name": "Yugoslavia",
         "notched": false,
         "offsetgroup": "Yugoslavia",
         "orientation": "v",
         "showlegend": true,
         "type": "box",
         "x": [
          "Yugoslavia",
          "Yugoslavia",
          "Yugoslavia",
          "Yugoslavia",
          "Yugoslavia",
          "Yugoslavia",
          "Yugoslavia",
          "Yugoslavia",
          "Yugoslavia",
          "Yugoslavia",
          "Yugoslavia"
         ],
         "x0": " ",
         "xaxis": "x",
         "y": [
          22,
          22,
          20,
          23,
          28,
          21,
          19,
          30,
          28,
          25,
          29
         ],
         "y0": " ",
         "yaxis": "y"
        },
        {
         "alignmentgroup": "True",
         "hovertemplate": "Team=%{x}<br>Age=%{y}<extra></extra>",
         "legendgroup": "Mauritius",
         "marker": {
          "color": "#FFA15A"
         },
         "name": "Mauritius",
         "notched": false,
         "offsetgroup": "Mauritius",
         "orientation": "v",
         "showlegend": true,
         "type": "box",
         "x": [
          "Mauritius"
         ],
         "x0": " ",
         "xaxis": "x",
         "y": [
          30
         ],
         "y0": " ",
         "yaxis": "y"
        },
        {
         "alignmentgroup": "True",
         "hovertemplate": "Team=%{x}<br>Age=%{y}<extra></extra>",
         "legendgroup": "Colombia",
         "marker": {
          "color": "#19d3f3"
         },
         "name": "Colombia",
         "notched": false,
         "offsetgroup": "Colombia",
         "orientation": "v",
         "showlegend": true,
         "type": "box",
         "x": [
          "Colombia",
          "Colombia",
          "Colombia",
          "Colombia",
          "Colombia"
         ],
         "x0": " ",
         "xaxis": "x",
         "y": [
          19,
          24,
          23,
          19,
          27
         ],
         "y0": " ",
         "yaxis": "y"
        },
        {
         "alignmentgroup": "True",
         "hovertemplate": "Team=%{x}<br>Age=%{y}<extra></extra>",
         "legendgroup": "India",
         "marker": {
          "color": "#FF6692"
         },
         "name": "India",
         "notched": false,
         "offsetgroup": "India",
         "orientation": "v",
         "showlegend": true,
         "type": "box",
         "x": [
          "India",
          "India"
         ],
         "x0": " ",
         "xaxis": "x",
         "y": [
          29,
          22
         ],
         "y0": " ",
         "yaxis": "y"
        },
        {
         "alignmentgroup": "True",
         "hovertemplate": "Team=%{x}<br>Age=%{y}<extra></extra>",
         "legendgroup": "Czech Republic",
         "marker": {
          "color": "#B6E880"
         },
         "name": "Czech Republic",
         "notched": false,
         "offsetgroup": "Czech Republic",
         "orientation": "v",
         "showlegend": true,
         "type": "box",
         "x": [
          "Czech Republic"
         ],
         "x0": " ",
         "xaxis": "x",
         "y": [
          22
         ],
         "y0": " ",
         "yaxis": "y"
        },
        {
         "alignmentgroup": "True",
         "hovertemplate": "Team=%{x}<br>Age=%{y}<extra></extra>",
         "legendgroup": "Spain",
         "marker": {
          "color": "#FF97FF"
         },
         "name": "Spain",
         "notched": false,
         "offsetgroup": "Spain",
         "orientation": "v",
         "showlegend": true,
         "type": "box",
         "x": [
          "Spain",
          "Spain",
          "Spain",
          "Spain"
         ],
         "x0": " ",
         "xaxis": "x",
         "y": [
          26,
          30,
          17,
          20
         ],
         "y0": " ",
         "yaxis": "y"
        },
        {
         "alignmentgroup": "True",
         "hovertemplate": "Team=%{x}<br>Age=%{y}<extra></extra>",
         "legendgroup": "Japan",
         "marker": {
          "color": "#FECB52"
         },
         "name": "Japan",
         "notched": false,
         "offsetgroup": "Japan",
         "orientation": "v",
         "showlegend": true,
         "type": "box",
         "x": [
          "Japan",
          "Japan",
          "Japan",
          "Japan",
          "Japan"
         ],
         "x0": " ",
         "xaxis": "x",
         "y": [
          22,
          26,
          23,
          26,
          19
         ],
         "y0": " ",
         "yaxis": "y"
        },
        {
         "alignmentgroup": "True",
         "hovertemplate": "Team=%{x}<br>Age=%{y}<extra></extra>",
         "legendgroup": "Uganda",
         "marker": {
          "color": "#636efa"
         },
         "name": "Uganda",
         "notched": false,
         "offsetgroup": "Uganda",
         "orientation": "v",
         "showlegend": true,
         "type": "box",
         "x": [
          "Uganda",
          "Uganda",
          "Uganda",
          "Uganda"
         ],
         "x0": " ",
         "xaxis": "x",
         "y": [
          20,
          25,
          19,
          23
         ],
         "y0": " ",
         "yaxis": "y"
        },
        {
         "alignmentgroup": "True",
         "hovertemplate": "Team=%{x}<br>Age=%{y}<extra></extra>",
         "legendgroup": "Zambia",
         "marker": {
          "color": "#EF553B"
         },
         "name": "Zambia",
         "notched": false,
         "offsetgroup": "Zambia",
         "orientation": "v",
         "showlegend": true,
         "type": "box",
         "x": [
          "Zambia"
         ],
         "x0": " ",
         "xaxis": "x",
         "y": [
          24
         ],
         "y0": " ",
         "yaxis": "y"
        },
        {
         "alignmentgroup": "True",
         "hovertemplate": "Team=%{x}<br>Age=%{y}<extra></extra>",
         "legendgroup": "Norway",
         "marker": {
          "color": "#00cc96"
         },
         "name": "Norway",
         "notched": false,
         "offsetgroup": "Norway",
         "orientation": "v",
         "showlegend": true,
         "type": "box",
         "x": [
          "Norway",
          "Norway",
          "Norway",
          "Norway",
          "Norway"
         ],
         "x0": " ",
         "xaxis": "x",
         "y": [
          25,
          19,
          23,
          22,
          20
         ],
         "y0": " ",
         "yaxis": "y"
        },
        {
         "alignmentgroup": "True",
         "hovertemplate": "Team=%{x}<br>Age=%{y}<extra></extra>",
         "legendgroup": "Unified Team",
         "marker": {
          "color": "#ab63fa"
         },
         "name": "Unified Team",
         "notched": false,
         "offsetgroup": "Unified Team",
         "orientation": "v",
         "showlegend": true,
         "type": "box",
         "x": [
          "Unified Team",
          "Unified Team"
         ],
         "x0": " ",
         "xaxis": "x",
         "y": [
          18,
          23
         ],
         "y0": " ",
         "yaxis": "y"
        },
        {
         "alignmentgroup": "True",
         "hovertemplate": "Team=%{x}<br>Age=%{y}<extra></extra>",
         "legendgroup": "Lithuania",
         "marker": {
          "color": "#FFA15A"
         },
         "name": "Lithuania",
         "notched": false,
         "offsetgroup": "Lithuania",
         "orientation": "v",
         "showlegend": true,
         "type": "box",
         "x": [
          "Lithuania"
         ],
         "x0": " ",
         "xaxis": "x",
         "y": [
          20
         ],
         "y0": " ",
         "yaxis": "y"
        },
        {
         "alignmentgroup": "True",
         "hovertemplate": "Team=%{x}<br>Age=%{y}<extra></extra>",
         "legendgroup": "Uruguay",
         "marker": {
          "color": "#19d3f3"
         },
         "name": "Uruguay",
         "notched": false,
         "offsetgroup": "Uruguay",
         "orientation": "v",
         "showlegend": true,
         "type": "box",
         "x": [
          "Uruguay"
         ],
         "x0": " ",
         "xaxis": "x",
         "y": [
          20
         ],
         "y0": " ",
         "yaxis": "y"
        },
        {
         "alignmentgroup": "True",
         "hovertemplate": "Team=%{x}<br>Age=%{y}<extra></extra>",
         "legendgroup": "Philippines",
         "marker": {
          "color": "#FF6692"
         },
         "name": "Philippines",
         "notched": false,
         "offsetgroup": "Philippines",
         "orientation": "v",
         "showlegend": true,
         "type": "box",
         "x": [
          "Philippines",
          "Philippines",
          "Philippines",
          "Philippines",
          "Philippines"
         ],
         "x0": " ",
         "xaxis": "x",
         "y": [
          26,
          22,
          20,
          19,
          19
         ],
         "y0": " ",
         "yaxis": "y"
        },
        {
         "alignmentgroup": "True",
         "hovertemplate": "Team=%{x}<br>Age=%{y}<extra></extra>",
         "legendgroup": "Estonia",
         "marker": {
          "color": "#B6E880"
         },
         "name": "Estonia",
         "notched": false,
         "offsetgroup": "Estonia",
         "orientation": "v",
         "showlegend": true,
         "type": "box",
         "x": [
          "Estonia"
         ],
         "x0": " ",
         "xaxis": "x",
         "y": [
          23
         ],
         "y0": " ",
         "yaxis": "y"
        },
        {
         "alignmentgroup": "True",
         "hovertemplate": "Team=%{x}<br>Age=%{y}<extra></extra>",
         "legendgroup": "Tonga",
         "marker": {
          "color": "#FF97FF"
         },
         "name": "Tonga",
         "notched": false,
         "offsetgroup": "Tonga",
         "orientation": "v",
         "showlegend": true,
         "type": "box",
         "x": [
          "Tonga"
         ],
         "x0": " ",
         "xaxis": "x",
         "y": [
          26
         ],
         "y0": " ",
         "yaxis": "y"
        }
       ],
       "layout": {
        "boxmode": "overlay",
        "legend": {
         "title": {
          "text": "Team"
         },
         "tracegroupgap": 0
        },
        "template": {
         "data": {
          "bar": [
           {
            "error_x": {
             "color": "#2a3f5f"
            },
            "error_y": {
             "color": "#2a3f5f"
            },
            "marker": {
             "line": {
              "color": "#E5ECF6",
              "width": 0.5
             },
             "pattern": {
              "fillmode": "overlay",
              "size": 10,
              "solidity": 0.2
             }
            },
            "type": "bar"
           }
          ],
          "barpolar": [
           {
            "marker": {
             "line": {
              "color": "#E5ECF6",
              "width": 0.5
             },
             "pattern": {
              "fillmode": "overlay",
              "size": 10,
              "solidity": 0.2
             }
            },
            "type": "barpolar"
           }
          ],
          "carpet": [
           {
            "aaxis": {
             "endlinecolor": "#2a3f5f",
             "gridcolor": "white",
             "linecolor": "white",
             "minorgridcolor": "white",
             "startlinecolor": "#2a3f5f"
            },
            "baxis": {
             "endlinecolor": "#2a3f5f",
             "gridcolor": "white",
             "linecolor": "white",
             "minorgridcolor": "white",
             "startlinecolor": "#2a3f5f"
            },
            "type": "carpet"
           }
          ],
          "choropleth": [
           {
            "colorbar": {
             "outlinewidth": 0,
             "ticks": ""
            },
            "type": "choropleth"
           }
          ],
          "contour": [
           {
            "colorbar": {
             "outlinewidth": 0,
             "ticks": ""
            },
            "colorscale": [
             [
              0,
              "#0d0887"
             ],
             [
              0.1111111111111111,
              "#46039f"
             ],
             [
              0.2222222222222222,
              "#7201a8"
             ],
             [
              0.3333333333333333,
              "#9c179e"
             ],
             [
              0.4444444444444444,
              "#bd3786"
             ],
             [
              0.5555555555555556,
              "#d8576b"
             ],
             [
              0.6666666666666666,
              "#ed7953"
             ],
             [
              0.7777777777777778,
              "#fb9f3a"
             ],
             [
              0.8888888888888888,
              "#fdca26"
             ],
             [
              1,
              "#f0f921"
             ]
            ],
            "type": "contour"
           }
          ],
          "contourcarpet": [
           {
            "colorbar": {
             "outlinewidth": 0,
             "ticks": ""
            },
            "type": "contourcarpet"
           }
          ],
          "heatmap": [
           {
            "colorbar": {
             "outlinewidth": 0,
             "ticks": ""
            },
            "colorscale": [
             [
              0,
              "#0d0887"
             ],
             [
              0.1111111111111111,
              "#46039f"
             ],
             [
              0.2222222222222222,
              "#7201a8"
             ],
             [
              0.3333333333333333,
              "#9c179e"
             ],
             [
              0.4444444444444444,
              "#bd3786"
             ],
             [
              0.5555555555555556,
              "#d8576b"
             ],
             [
              0.6666666666666666,
              "#ed7953"
             ],
             [
              0.7777777777777778,
              "#fb9f3a"
             ],
             [
              0.8888888888888888,
              "#fdca26"
             ],
             [
              1,
              "#f0f921"
             ]
            ],
            "type": "heatmap"
           }
          ],
          "heatmapgl": [
           {
            "colorbar": {
             "outlinewidth": 0,
             "ticks": ""
            },
            "colorscale": [
             [
              0,
              "#0d0887"
             ],
             [
              0.1111111111111111,
              "#46039f"
             ],
             [
              0.2222222222222222,
              "#7201a8"
             ],
             [
              0.3333333333333333,
              "#9c179e"
             ],
             [
              0.4444444444444444,
              "#bd3786"
             ],
             [
              0.5555555555555556,
              "#d8576b"
             ],
             [
              0.6666666666666666,
              "#ed7953"
             ],
             [
              0.7777777777777778,
              "#fb9f3a"
             ],
             [
              0.8888888888888888,
              "#fdca26"
             ],
             [
              1,
              "#f0f921"
             ]
            ],
            "type": "heatmapgl"
           }
          ],
          "histogram": [
           {
            "marker": {
             "pattern": {
              "fillmode": "overlay",
              "size": 10,
              "solidity": 0.2
             }
            },
            "type": "histogram"
           }
          ],
          "histogram2d": [
           {
            "colorbar": {
             "outlinewidth": 0,
             "ticks": ""
            },
            "colorscale": [
             [
              0,
              "#0d0887"
             ],
             [
              0.1111111111111111,
              "#46039f"
             ],
             [
              0.2222222222222222,
              "#7201a8"
             ],
             [
              0.3333333333333333,
              "#9c179e"
             ],
             [
              0.4444444444444444,
              "#bd3786"
             ],
             [
              0.5555555555555556,
              "#d8576b"
             ],
             [
              0.6666666666666666,
              "#ed7953"
             ],
             [
              0.7777777777777778,
              "#fb9f3a"
             ],
             [
              0.8888888888888888,
              "#fdca26"
             ],
             [
              1,
              "#f0f921"
             ]
            ],
            "type": "histogram2d"
           }
          ],
          "histogram2dcontour": [
           {
            "colorbar": {
             "outlinewidth": 0,
             "ticks": ""
            },
            "colorscale": [
             [
              0,
              "#0d0887"
             ],
             [
              0.1111111111111111,
              "#46039f"
             ],
             [
              0.2222222222222222,
              "#7201a8"
             ],
             [
              0.3333333333333333,
              "#9c179e"
             ],
             [
              0.4444444444444444,
              "#bd3786"
             ],
             [
              0.5555555555555556,
              "#d8576b"
             ],
             [
              0.6666666666666666,
              "#ed7953"
             ],
             [
              0.7777777777777778,
              "#fb9f3a"
             ],
             [
              0.8888888888888888,
              "#fdca26"
             ],
             [
              1,
              "#f0f921"
             ]
            ],
            "type": "histogram2dcontour"
           }
          ],
          "mesh3d": [
           {
            "colorbar": {
             "outlinewidth": 0,
             "ticks": ""
            },
            "type": "mesh3d"
           }
          ],
          "parcoords": [
           {
            "line": {
             "colorbar": {
              "outlinewidth": 0,
              "ticks": ""
             }
            },
            "type": "parcoords"
           }
          ],
          "pie": [
           {
            "automargin": true,
            "type": "pie"
           }
          ],
          "scatter": [
           {
            "fillpattern": {
             "fillmode": "overlay",
             "size": 10,
             "solidity": 0.2
            },
            "type": "scatter"
           }
          ],
          "scatter3d": [
           {
            "line": {
             "colorbar": {
              "outlinewidth": 0,
              "ticks": ""
             }
            },
            "marker": {
             "colorbar": {
              "outlinewidth": 0,
              "ticks": ""
             }
            },
            "type": "scatter3d"
           }
          ],
          "scattercarpet": [
           {
            "marker": {
             "colorbar": {
              "outlinewidth": 0,
              "ticks": ""
             }
            },
            "type": "scattercarpet"
           }
          ],
          "scattergeo": [
           {
            "marker": {
             "colorbar": {
              "outlinewidth": 0,
              "ticks": ""
             }
            },
            "type": "scattergeo"
           }
          ],
          "scattergl": [
           {
            "marker": {
             "colorbar": {
              "outlinewidth": 0,
              "ticks": ""
             }
            },
            "type": "scattergl"
           }
          ],
          "scattermapbox": [
           {
            "marker": {
             "colorbar": {
              "outlinewidth": 0,
              "ticks": ""
             }
            },
            "type": "scattermapbox"
           }
          ],
          "scatterpolar": [
           {
            "marker": {
             "colorbar": {
              "outlinewidth": 0,
              "ticks": ""
             }
            },
            "type": "scatterpolar"
           }
          ],
          "scatterpolargl": [
           {
            "marker": {
             "colorbar": {
              "outlinewidth": 0,
              "ticks": ""
             }
            },
            "type": "scatterpolargl"
           }
          ],
          "scatterternary": [
           {
            "marker": {
             "colorbar": {
              "outlinewidth": 0,
              "ticks": ""
             }
            },
            "type": "scatterternary"
           }
          ],
          "surface": [
           {
            "colorbar": {
             "outlinewidth": 0,
             "ticks": ""
            },
            "colorscale": [
             [
              0,
              "#0d0887"
             ],
             [
              0.1111111111111111,
              "#46039f"
             ],
             [
              0.2222222222222222,
              "#7201a8"
             ],
             [
              0.3333333333333333,
              "#9c179e"
             ],
             [
              0.4444444444444444,
              "#bd3786"
             ],
             [
              0.5555555555555556,
              "#d8576b"
             ],
             [
              0.6666666666666666,
              "#ed7953"
             ],
             [
              0.7777777777777778,
              "#fb9f3a"
             ],
             [
              0.8888888888888888,
              "#fdca26"
             ],
             [
              1,
              "#f0f921"
             ]
            ],
            "type": "surface"
           }
          ],
          "table": [
           {
            "cells": {
             "fill": {
              "color": "#EBF0F8"
             },
             "line": {
              "color": "white"
             }
            },
            "header": {
             "fill": {
              "color": "#C8D4E3"
             },
             "line": {
              "color": "white"
             }
            },
            "type": "table"
           }
          ]
         },
         "layout": {
          "annotationdefaults": {
           "arrowcolor": "#2a3f5f",
           "arrowhead": 0,
           "arrowwidth": 1
          },
          "autotypenumbers": "strict",
          "coloraxis": {
           "colorbar": {
            "outlinewidth": 0,
            "ticks": ""
           }
          },
          "colorscale": {
           "diverging": [
            [
             0,
             "#8e0152"
            ],
            [
             0.1,
             "#c51b7d"
            ],
            [
             0.2,
             "#de77ae"
            ],
            [
             0.3,
             "#f1b6da"
            ],
            [
             0.4,
             "#fde0ef"
            ],
            [
             0.5,
             "#f7f7f7"
            ],
            [
             0.6,
             "#e6f5d0"
            ],
            [
             0.7,
             "#b8e186"
            ],
            [
             0.8,
             "#7fbc41"
            ],
            [
             0.9,
             "#4d9221"
            ],
            [
             1,
             "#276419"
            ]
           ],
           "sequential": [
            [
             0,
             "#0d0887"
            ],
            [
             0.1111111111111111,
             "#46039f"
            ],
            [
             0.2222222222222222,
             "#7201a8"
            ],
            [
             0.3333333333333333,
             "#9c179e"
            ],
            [
             0.4444444444444444,
             "#bd3786"
            ],
            [
             0.5555555555555556,
             "#d8576b"
            ],
            [
             0.6666666666666666,
             "#ed7953"
            ],
            [
             0.7777777777777778,
             "#fb9f3a"
            ],
            [
             0.8888888888888888,
             "#fdca26"
            ],
            [
             1,
             "#f0f921"
            ]
           ],
           "sequentialminus": [
            [
             0,
             "#0d0887"
            ],
            [
             0.1111111111111111,
             "#46039f"
            ],
            [
             0.2222222222222222,
             "#7201a8"
            ],
            [
             0.3333333333333333,
             "#9c179e"
            ],
            [
             0.4444444444444444,
             "#bd3786"
            ],
            [
             0.5555555555555556,
             "#d8576b"
            ],
            [
             0.6666666666666666,
             "#ed7953"
            ],
            [
             0.7777777777777778,
             "#fb9f3a"
            ],
            [
             0.8888888888888888,
             "#fdca26"
            ],
            [
             1,
             "#f0f921"
            ]
           ]
          },
          "colorway": [
           "#636efa",
           "#EF553B",
           "#00cc96",
           "#ab63fa",
           "#FFA15A",
           "#19d3f3",
           "#FF6692",
           "#B6E880",
           "#FF97FF",
           "#FECB52"
          ],
          "font": {
           "color": "#2a3f5f"
          },
          "geo": {
           "bgcolor": "white",
           "lakecolor": "white",
           "landcolor": "#E5ECF6",
           "showlakes": true,
           "showland": true,
           "subunitcolor": "white"
          },
          "hoverlabel": {
           "align": "left"
          },
          "hovermode": "closest",
          "mapbox": {
           "style": "light"
          },
          "paper_bgcolor": "white",
          "plot_bgcolor": "#E5ECF6",
          "polar": {
           "angularaxis": {
            "gridcolor": "white",
            "linecolor": "white",
            "ticks": ""
           },
           "bgcolor": "#E5ECF6",
           "radialaxis": {
            "gridcolor": "white",
            "linecolor": "white",
            "ticks": ""
           }
          },
          "scene": {
           "xaxis": {
            "backgroundcolor": "#E5ECF6",
            "gridcolor": "white",
            "gridwidth": 2,
            "linecolor": "white",
            "showbackground": true,
            "ticks": "",
            "zerolinecolor": "white"
           },
           "yaxis": {
            "backgroundcolor": "#E5ECF6",
            "gridcolor": "white",
            "gridwidth": 2,
            "linecolor": "white",
            "showbackground": true,
            "ticks": "",
            "zerolinecolor": "white"
           },
           "zaxis": {
            "backgroundcolor": "#E5ECF6",
            "gridcolor": "white",
            "gridwidth": 2,
            "linecolor": "white",
            "showbackground": true,
            "ticks": "",
            "zerolinecolor": "white"
           }
          },
          "shapedefaults": {
           "line": {
            "color": "#2a3f5f"
           }
          },
          "ternary": {
           "aaxis": {
            "gridcolor": "white",
            "linecolor": "white",
            "ticks": ""
           },
           "baxis": {
            "gridcolor": "white",
            "linecolor": "white",
            "ticks": ""
           },
           "bgcolor": "#E5ECF6",
           "caxis": {
            "gridcolor": "white",
            "linecolor": "white",
            "ticks": ""
           }
          },
          "title": {
           "x": 0.05
          },
          "xaxis": {
           "automargin": true,
           "gridcolor": "white",
           "linecolor": "white",
           "ticks": "",
           "title": {
            "standoff": 15
           },
           "zerolinecolor": "white",
           "zerolinewidth": 2
          },
          "yaxis": {
           "automargin": true,
           "gridcolor": "white",
           "linecolor": "white",
           "ticks": "",
           "title": {
            "standoff": 15
           },
           "zerolinecolor": "white",
           "zerolinewidth": 2
          }
         }
        },
        "title": {
         "text": "Age distribution in boxing teams"
        },
        "xaxis": {
         "anchor": "y",
         "categoryarray": [
          "Uzbekistan",
          "Puerto Rico",
          "Morocco",
          "Cuba",
          "Poland",
          "Great Britain",
          "United States",
          "Sweden",
          "Finland",
          "Syria",
          "Romania",
          "Algeria",
          "Russia",
          "Egypt",
          "Ghana",
          "South Korea",
          "Bulgaria",
          "Guyana",
          "France",
          "Brazil",
          "Belarus",
          "Kazakhstan",
          "South Africa",
          "Azerbaijan",
          "Italy",
          "Argentina",
          "Turkey",
          "East Germany",
          "Australasia",
          "Soviet Union",
          "Ireland",
          "Chile",
          "New Zealand",
          "Germany",
          "Belgium",
          "Mexico",
          "Hungary",
          "Ukraine",
          "Cameroon",
          "Kenya",
          "Venezuela",
          "Thailand",
          "Georgia",
          "Australia",
          "North Korea",
          "Tajikistan",
          "Niger",
          "Canada",
          "Netherlands",
          "Dominican Republic",
          "Nigeria",
          "Mongolia",
          "United Arab Republic",
          "Czechoslovakia",
          "Tunisia",
          "West Germany",
          "Moldova",
          "China",
          "Bermuda",
          "Croatia",
          "Pakistan",
          "Armenia",
          "Denmark",
          "Yugoslavia",
          "Mauritius",
          "Colombia",
          "India",
          "Czech Republic",
          "Spain",
          "Japan",
          "Uganda",
          "Zambia",
          "Norway",
          "Unified Team",
          "Lithuania",
          "Uruguay",
          "Philippines",
          "Estonia",
          "Tonga"
         ],
         "categoryorder": "array",
         "domain": [
          0,
          1
         ],
         "title": {
          "text": "Team"
         }
        },
        "yaxis": {
         "anchor": "x",
         "domain": [
          0,
          1
         ],
         "title": {
          "text": "Age"
         }
        }
       }
      }
     },
     "metadata": {},
     "output_type": "display_data"
    }
   ],
   "source": [
    "# plot the age distribution in teams using box plot\n",
    "fig = px.box(\n",
    "    df_boxing,\n",
    "    x=\"Team\",\n",
    "    y=\"Age\",\n",
    "    color=\"Team\",\n",
    "    title=\"Age distribution in boxing teams\",\n",
    ")\n",
    "fig.show()"
   ]
  },
  {
   "cell_type": "code",
   "execution_count": 726,
   "metadata": {},
   "outputs": [
    {
     "data": {
      "application/vnd.plotly.v1+json": {
       "config": {
        "plotlyServerURL": "https://plot.ly"
       },
       "data": [
        {
         "alignmentgroup": "True",
         "box": {
          "visible": false
         },
         "hovertemplate": "Team=%{x}<br>Age=%{y}<extra></extra>",
         "legendgroup": "Uzbekistan",
         "marker": {
          "color": "#636efa"
         },
         "name": "Uzbekistan",
         "offsetgroup": "Uzbekistan",
         "orientation": "v",
         "scalegroup": "True",
         "showlegend": true,
         "type": "violin",
         "x": [
          "Uzbekistan",
          "Uzbekistan",
          "Uzbekistan",
          "Uzbekistan",
          "Uzbekistan",
          "Uzbekistan",
          "Uzbekistan",
          "Uzbekistan",
          "Uzbekistan",
          "Uzbekistan",
          "Uzbekistan",
          "Uzbekistan",
          "Uzbekistan",
          "Uzbekistan"
         ],
         "x0": " ",
         "xaxis": "x",
         "y": [
          26,
          21,
          26,
          23,
          25,
          23,
          30,
          20,
          24,
          22,
          19,
          24,
          22,
          23
         ],
         "y0": " ",
         "yaxis": "y"
        },
        {
         "alignmentgroup": "True",
         "box": {
          "visible": false
         },
         "hovertemplate": "Team=%{x}<br>Age=%{y}<extra></extra>",
         "legendgroup": "Puerto Rico",
         "marker": {
          "color": "#EF553B"
         },
         "name": "Puerto Rico",
         "offsetgroup": "Puerto Rico",
         "orientation": "v",
         "scalegroup": "True",
         "showlegend": true,
         "type": "violin",
         "x": [
          "Puerto Rico",
          "Puerto Rico",
          "Puerto Rico",
          "Puerto Rico",
          "Puerto Rico",
          "Puerto Rico"
         ],
         "x0": " ",
         "xaxis": "x",
         "y": [
          21,
          23,
          17,
          18,
          20,
          19
         ],
         "y0": " ",
         "yaxis": "y"
        },
        {
         "alignmentgroup": "True",
         "box": {
          "visible": false
         },
         "hovertemplate": "Team=%{x}<br>Age=%{y}<extra></extra>",
         "legendgroup": "Morocco",
         "marker": {
          "color": "#00cc96"
         },
         "name": "Morocco",
         "offsetgroup": "Morocco",
         "orientation": "v",
         "scalegroup": "True",
         "showlegend": true,
         "type": "violin",
         "x": [
          "Morocco",
          "Morocco",
          "Morocco",
          "Morocco"
         ],
         "x0": " ",
         "xaxis": "x",
         "y": [
          29,
          27,
          23,
          20
         ],
         "y0": " ",
         "yaxis": "y"
        },
        {
         "alignmentgroup": "True",
         "box": {
          "visible": false
         },
         "hovertemplate": "Team=%{x}<br>Age=%{y}<extra></extra>",
         "legendgroup": "Cuba",
         "marker": {
          "color": "#ab63fa"
         },
         "name": "Cuba",
         "offsetgroup": "Cuba",
         "orientation": "v",
         "scalegroup": "True",
         "showlegend": true,
         "type": "violin",
         "x": [
          "Cuba",
          "Cuba",
          "Cuba",
          "Cuba",
          "Cuba",
          "Cuba",
          "Cuba",
          "Cuba",
          "Cuba",
          "Cuba",
          "Cuba",
          "Cuba",
          "Cuba",
          "Cuba",
          "Cuba",
          "Cuba",
          "Cuba",
          "Cuba",
          "Cuba",
          "Cuba",
          "Cuba",
          "Cuba",
          "Cuba",
          "Cuba",
          "Cuba",
          "Cuba",
          "Cuba",
          "Cuba",
          "Cuba",
          "Cuba",
          "Cuba",
          "Cuba",
          "Cuba",
          "Cuba",
          "Cuba",
          "Cuba",
          "Cuba",
          "Cuba",
          "Cuba",
          "Cuba",
          "Cuba",
          "Cuba",
          "Cuba",
          "Cuba",
          "Cuba",
          "Cuba",
          "Cuba",
          "Cuba",
          "Cuba",
          "Cuba",
          "Cuba",
          "Cuba",
          "Cuba",
          "Cuba",
          "Cuba",
          "Cuba",
          "Cuba",
          "Cuba",
          "Cuba",
          "Cuba",
          "Cuba",
          "Cuba",
          "Cuba",
          "Cuba",
          "Cuba",
          "Cuba",
          "Cuba",
          "Cuba",
          "Cuba",
          "Cuba",
          "Cuba",
          "Cuba",
          "Cuba"
         ],
         "x0": " ",
         "xaxis": "x",
         "y": [
          23,
          20,
          20,
          24,
          21,
          25,
          30,
          19,
          23,
          21,
          24,
          21,
          21,
          19,
          22,
          21,
          28,
          22,
          20,
          28,
          21,
          25,
          24,
          22,
          26,
          21,
          23,
          17,
          23,
          27,
          18,
          22,
          22,
          19,
          23,
          23,
          29,
          33,
          26,
          30,
          27,
          26,
          23,
          27,
          23,
          27,
          18,
          21,
          27,
          28,
          18,
          22,
          24,
          20,
          19,
          23,
          22,
          25,
          23,
          27,
          26,
          24,
          28,
          32,
          24,
          22,
          20,
          24,
          28,
          22,
          22,
          19,
          23
         ],
         "y0": " ",
         "yaxis": "y"
        },
        {
         "alignmentgroup": "True",
         "box": {
          "visible": false
         },
         "hovertemplate": "Team=%{x}<br>Age=%{y}<extra></extra>",
         "legendgroup": "Poland",
         "marker": {
          "color": "#FFA15A"
         },
         "name": "Poland",
         "offsetgroup": "Poland",
         "orientation": "v",
         "scalegroup": "True",
         "showlegend": true,
         "type": "violin",
         "x": [
          "Poland",
          "Poland",
          "Poland",
          "Poland",
          "Poland",
          "Poland",
          "Poland",
          "Poland",
          "Poland",
          "Poland",
          "Poland",
          "Poland",
          "Poland",
          "Poland",
          "Poland",
          "Poland",
          "Poland",
          "Poland",
          "Poland",
          "Poland",
          "Poland",
          "Poland",
          "Poland",
          "Poland",
          "Poland",
          "Poland",
          "Poland",
          "Poland",
          "Poland",
          "Poland",
          "Poland",
          "Poland",
          "Poland",
          "Poland",
          "Poland",
          "Poland",
          "Poland",
          "Poland",
          "Poland",
          "Poland",
          "Poland",
          "Poland",
          "Poland"
         ],
         "x0": " ",
         "xaxis": "x",
         "y": [
          23,
          23,
          24,
          28,
          24,
          21,
          23,
          27,
          25,
          26,
          27,
          20,
          24,
          28,
          20,
          25,
          29,
          23,
          20,
          25,
          19,
          22,
          23,
          27,
          23,
          24,
          28,
          25,
          29,
          22,
          25,
          30,
          25,
          23,
          27,
          22,
          25,
          32,
          22,
          26,
          24,
          28,
          29
         ],
         "y0": " ",
         "yaxis": "y"
        },
        {
         "alignmentgroup": "True",
         "box": {
          "visible": false
         },
         "hovertemplate": "Team=%{x}<br>Age=%{y}<extra></extra>",
         "legendgroup": "Great Britain",
         "marker": {
          "color": "#19d3f3"
         },
         "name": "Great Britain",
         "offsetgroup": "Great Britain",
         "orientation": "v",
         "scalegroup": "True",
         "showlegend": true,
         "type": "violin",
         "x": [
          "Great Britain",
          "Great Britain",
          "Great Britain",
          "Great Britain",
          "Great Britain",
          "Great Britain",
          "Great Britain",
          "Great Britain",
          "Great Britain",
          "Great Britain",
          "Great Britain",
          "Great Britain",
          "Great Britain",
          "Great Britain",
          "Great Britain",
          "Great Britain",
          "Great Britain",
          "Great Britain",
          "Great Britain",
          "Great Britain",
          "Great Britain",
          "Great Britain",
          "Great Britain",
          "Great Britain",
          "Great Britain",
          "Great Britain",
          "Great Britain",
          "Great Britain",
          "Great Britain",
          "Great Britain",
          "Great Britain",
          "Great Britain",
          "Great Britain",
          "Great Britain",
          "Great Britain",
          "Great Britain",
          "Great Britain",
          "Great Britain",
          "Great Britain",
          "Great Britain",
          "Great Britain",
          "Great Britain",
          "Great Britain",
          "Great Britain",
          "Great Britain",
          "Great Britain",
          "Great Britain",
          "Great Britain",
          "Great Britain",
          "Great Britain",
          "Great Britain",
          "Great Britain",
          "Great Britain",
          "Great Britain",
          "Great Britain",
          "Great Britain"
         ],
         "x0": " ",
         "xaxis": "x",
         "y": [
          29,
          33,
          23,
          24,
          19,
          22,
          17,
          22,
          25,
          22,
          21,
          18,
          24,
          24,
          20,
          24,
          22,
          24,
          37,
          28,
          19,
          23,
          20,
          22,
          30,
          17,
          21,
          27,
          31,
          21,
          19,
          20,
          21,
          24,
          21,
          26,
          24,
          25,
          23,
          24,
          33,
          26,
          25,
          27,
          21,
          21,
          20,
          23,
          18,
          19,
          20,
          25,
          23,
          20,
          20,
          19
         ],
         "y0": " ",
         "yaxis": "y"
        },
        {
         "alignmentgroup": "True",
         "box": {
          "visible": false
         },
         "hovertemplate": "Team=%{x}<br>Age=%{y}<extra></extra>",
         "legendgroup": "United States",
         "marker": {
          "color": "#FF6692"
         },
         "name": "United States",
         "offsetgroup": "United States",
         "orientation": "v",
         "scalegroup": "True",
         "showlegend": true,
         "type": "violin",
         "x": [
          "United States",
          "United States",
          "United States",
          "United States",
          "United States",
          "United States",
          "United States",
          "United States",
          "United States",
          "United States",
          "United States",
          "United States",
          "United States",
          "United States",
          "United States",
          "United States",
          "United States",
          "United States",
          "United States",
          "United States",
          "United States",
          "United States",
          "United States",
          "United States",
          "United States",
          "United States",
          "United States",
          "United States",
          "United States",
          "United States",
          "United States",
          "United States",
          "United States",
          "United States",
          "United States",
          "United States",
          "United States",
          "United States",
          "United States",
          "United States",
          "United States",
          "United States",
          "United States",
          "United States",
          "United States",
          "United States",
          "United States",
          "United States",
          "United States",
          "United States",
          "United States",
          "United States",
          "United States",
          "United States",
          "United States",
          "United States",
          "United States",
          "United States",
          "United States",
          "United States",
          "United States",
          "United States",
          "United States",
          "United States",
          "United States",
          "United States",
          "United States",
          "United States",
          "United States",
          "United States",
          "United States",
          "United States",
          "United States",
          "United States",
          "United States",
          "United States",
          "United States",
          "United States",
          "United States",
          "United States",
          "United States",
          "United States",
          "United States",
          "United States",
          "United States",
          "United States",
          "United States",
          "United States",
          "United States",
          "United States",
          "United States",
          "United States",
          "United States",
          "United States",
          "United States",
          "United States",
          "United States",
          "United States",
          "United States",
          "United States",
          "United States",
          "United States",
          "United States",
          "United States",
          "United States",
          "United States",
          "United States",
          "United States",
          "United States",
          "United States",
          "United States",
          "United States",
          "United States"
         ],
         "x0": " ",
         "xaxis": "x",
         "y": [
          20,
          21,
          19,
          19,
          19,
          23,
          19,
          21,
          25,
          21,
          21,
          18,
          25,
          19,
          21,
          21,
          26,
          22,
          20,
          18,
          31,
          18,
          19,
          20,
          19,
          18,
          21,
          21,
          22,
          22,
          20,
          21,
          16,
          24,
          24,
          22,
          19,
          20,
          18,
          17,
          20,
          21,
          19,
          21,
          20,
          17,
          20,
          26,
          20,
          21,
          18,
          22,
          23,
          19,
          20,
          20,
          20,
          19,
          18,
          18,
          27,
          20,
          26,
          25,
          24,
          24,
          24,
          19,
          21,
          20,
          22,
          27,
          27,
          25,
          23,
          23,
          17,
          28,
          18,
          22,
          21,
          20,
          19,
          22,
          19,
          17,
          21,
          31,
          31,
          23,
          19,
          24,
          19,
          18,
          27,
          19,
          21,
          22,
          17,
          23,
          20,
          19,
          25,
          18,
          22,
          24,
          20,
          19,
          20,
          22,
          19,
          18,
          26
         ],
         "y0": " ",
         "yaxis": "y"
        },
        {
         "alignmentgroup": "True",
         "box": {
          "visible": false
         },
         "hovertemplate": "Team=%{x}<br>Age=%{y}<extra></extra>",
         "legendgroup": "Sweden",
         "marker": {
          "color": "#B6E880"
         },
         "name": "Sweden",
         "offsetgroup": "Sweden",
         "orientation": "v",
         "scalegroup": "True",
         "showlegend": true,
         "type": "violin",
         "x": [
          "Sweden",
          "Sweden",
          "Sweden",
          "Sweden",
          "Sweden",
          "Sweden",
          "Sweden",
          "Sweden",
          "Sweden",
          "Sweden",
          "Sweden"
         ],
         "x0": " ",
         "xaxis": "x",
         "y": [
          20,
          25,
          20,
          21,
          21,
          19,
          23,
          25,
          25,
          23,
          30
         ],
         "y0": " ",
         "yaxis": "y"
        },
        {
         "alignmentgroup": "True",
         "box": {
          "visible": false
         },
         "hovertemplate": "Team=%{x}<br>Age=%{y}<extra></extra>",
         "legendgroup": "Finland",
         "marker": {
          "color": "#FF97FF"
         },
         "name": "Finland",
         "offsetgroup": "Finland",
         "orientation": "v",
         "scalegroup": "True",
         "showlegend": true,
         "type": "violin",
         "x": [
          "Finland",
          "Finland",
          "Finland",
          "Finland",
          "Finland",
          "Finland",
          "Finland",
          "Finland",
          "Finland",
          "Finland",
          "Finland",
          "Finland",
          "Finland",
          "Finland",
          "Finland"
         ],
         "x0": " ",
         "xaxis": "x",
         "y": [
          21,
          22,
          26,
          23,
          24,
          25,
          24,
          20,
          21,
          22,
          35,
          22,
          29,
          24,
          24
         ],
         "y0": " ",
         "yaxis": "y"
        },
        {
         "alignmentgroup": "True",
         "box": {
          "visible": false
         },
         "hovertemplate": "Team=%{x}<br>Age=%{y}<extra></extra>",
         "legendgroup": "Syria",
         "marker": {
          "color": "#FECB52"
         },
         "name": "Syria",
         "offsetgroup": "Syria",
         "orientation": "v",
         "scalegroup": "True",
         "showlegend": true,
         "type": "violin",
         "x": [
          "Syria"
         ],
         "x0": " ",
         "xaxis": "x",
         "y": [
          22
         ],
         "y0": " ",
         "yaxis": "y"
        },
        {
         "alignmentgroup": "True",
         "box": {
          "visible": false
         },
         "hovertemplate": "Team=%{x}<br>Age=%{y}<extra></extra>",
         "legendgroup": "Romania",
         "marker": {
          "color": "#636efa"
         },
         "name": "Romania",
         "offsetgroup": "Romania",
         "orientation": "v",
         "scalegroup": "True",
         "showlegend": true,
         "type": "violin",
         "x": [
          "Romania",
          "Romania",
          "Romania",
          "Romania",
          "Romania",
          "Romania",
          "Romania",
          "Romania",
          "Romania",
          "Romania",
          "Romania",
          "Romania",
          "Romania",
          "Romania",
          "Romania",
          "Romania",
          "Romania",
          "Romania",
          "Romania",
          "Romania",
          "Romania",
          "Romania",
          "Romania",
          "Romania",
          "Romania"
         ],
         "x0": " ",
         "xaxis": "x",
         "y": [
          26,
          22,
          20,
          24,
          22,
          26,
          22,
          26,
          25,
          19,
          23,
          25,
          20,
          27,
          19,
          27,
          27,
          22,
          23,
          23,
          20,
          24,
          22,
          24,
          28
         ],
         "y0": " ",
         "yaxis": "y"
        },
        {
         "alignmentgroup": "True",
         "box": {
          "visible": false
         },
         "hovertemplate": "Team=%{x}<br>Age=%{y}<extra></extra>",
         "legendgroup": "Algeria",
         "marker": {
          "color": "#EF553B"
         },
         "name": "Algeria",
         "offsetgroup": "Algeria",
         "orientation": "v",
         "scalegroup": "True",
         "showlegend": true,
         "type": "violin",
         "x": [
          "Algeria",
          "Algeria",
          "Algeria",
          "Algeria",
          "Algeria",
          "Algeria"
         ],
         "x0": " ",
         "xaxis": "x",
         "y": [
          26,
          20,
          22,
          19,
          23,
          24
         ],
         "y0": " ",
         "yaxis": "y"
        },
        {
         "alignmentgroup": "True",
         "box": {
          "visible": false
         },
         "hovertemplate": "Team=%{x}<br>Age=%{y}<extra></extra>",
         "legendgroup": "Russia",
         "marker": {
          "color": "#00cc96"
         },
         "name": "Russia",
         "offsetgroup": "Russia",
         "orientation": "v",
         "scalegroup": "True",
         "showlegend": true,
         "type": "violin",
         "x": [
          "Russia",
          "Russia",
          "Russia",
          "Russia",
          "Russia",
          "Russia",
          "Russia",
          "Russia",
          "Russia",
          "Russia",
          "Russia",
          "Russia",
          "Russia",
          "Russia",
          "Russia",
          "Russia",
          "Russia",
          "Russia",
          "Russia",
          "Russia",
          "Russia",
          "Russia",
          "Russia",
          "Russia",
          "Russia",
          "Russia",
          "Russia",
          "Russia",
          "Russia",
          "Russia"
         ],
         "x0": " ",
         "xaxis": "x",
         "y": [
          23,
          28,
          28,
          23,
          25,
          24,
          21,
          23,
          27,
          25,
          28,
          21,
          31,
          23,
          21,
          26,
          25,
          27,
          26,
          25,
          28,
          24,
          22,
          26,
          30,
          20,
          24,
          25,
          33,
          25
         ],
         "y0": " ",
         "yaxis": "y"
        },
        {
         "alignmentgroup": "True",
         "box": {
          "visible": false
         },
         "hovertemplate": "Team=%{x}<br>Age=%{y}<extra></extra>",
         "legendgroup": "Egypt",
         "marker": {
          "color": "#ab63fa"
         },
         "name": "Egypt",
         "offsetgroup": "Egypt",
         "orientation": "v",
         "scalegroup": "True",
         "showlegend": true,
         "type": "violin",
         "x": [
          "Egypt",
          "Egypt",
          "Egypt"
         ],
         "x0": " ",
         "xaxis": "x",
         "y": [
          29,
          31,
          28
         ],
         "y0": " ",
         "yaxis": "y"
        },
        {
         "alignmentgroup": "True",
         "box": {
          "visible": false
         },
         "hovertemplate": "Team=%{x}<br>Age=%{y}<extra></extra>",
         "legendgroup": "Ghana",
         "marker": {
          "color": "#FFA15A"
         },
         "name": "Ghana",
         "offsetgroup": "Ghana",
         "orientation": "v",
         "scalegroup": "True",
         "showlegend": true,
         "type": "violin",
         "x": [
          "Ghana",
          "Ghana",
          "Ghana"
         ],
         "x0": " ",
         "xaxis": "x",
         "y": [
          28,
          26,
          22
         ],
         "y0": " ",
         "yaxis": "y"
        },
        {
         "alignmentgroup": "True",
         "box": {
          "visible": false
         },
         "hovertemplate": "Team=%{x}<br>Age=%{y}<extra></extra>",
         "legendgroup": "South Korea",
         "marker": {
          "color": "#19d3f3"
         },
         "name": "South Korea",
         "offsetgroup": "South Korea",
         "orientation": "v",
         "scalegroup": "True",
         "showlegend": true,
         "type": "violin",
         "x": [
          "South Korea",
          "South Korea",
          "South Korea",
          "South Korea",
          "South Korea",
          "South Korea",
          "South Korea",
          "South Korea",
          "South Korea",
          "South Korea",
          "South Korea",
          "South Korea",
          "South Korea",
          "South Korea",
          "South Korea",
          "South Korea",
          "South Korea",
          "South Korea",
          "South Korea",
          "South Korea"
         ],
         "x0": " ",
         "xaxis": "x",
         "y": [
          20,
          24,
          24,
          22,
          27,
          24,
          22,
          23,
          24,
          19,
          24,
          24,
          22,
          26,
          19,
          21,
          25,
          22,
          21,
          22
         ],
         "y0": " ",
         "yaxis": "y"
        },
        {
         "alignmentgroup": "True",
         "box": {
          "visible": false
         },
         "hovertemplate": "Team=%{x}<br>Age=%{y}<extra></extra>",
         "legendgroup": "Bulgaria",
         "marker": {
          "color": "#FF6692"
         },
         "name": "Bulgaria",
         "offsetgroup": "Bulgaria",
         "orientation": "v",
         "scalegroup": "True",
         "showlegend": true,
         "type": "violin",
         "x": [
          "Bulgaria",
          "Bulgaria",
          "Bulgaria",
          "Bulgaria",
          "Bulgaria",
          "Bulgaria",
          "Bulgaria",
          "Bulgaria",
          "Bulgaria",
          "Bulgaria",
          "Bulgaria",
          "Bulgaria",
          "Bulgaria",
          "Bulgaria",
          "Bulgaria",
          "Bulgaria",
          "Bulgaria",
          "Bulgaria"
         ],
         "x0": " ",
         "xaxis": "x",
         "y": [
          24,
          20,
          24,
          21,
          24,
          22,
          22,
          19,
          23,
          20,
          28,
          24,
          23,
          29,
          28,
          25,
          27,
          23
         ],
         "y0": " ",
         "yaxis": "y"
        },
        {
         "alignmentgroup": "True",
         "box": {
          "visible": false
         },
         "hovertemplate": "Team=%{x}<br>Age=%{y}<extra></extra>",
         "legendgroup": "Guyana",
         "marker": {
          "color": "#B6E880"
         },
         "name": "Guyana",
         "offsetgroup": "Guyana",
         "orientation": "v",
         "scalegroup": "True",
         "showlegend": true,
         "type": "violin",
         "x": [
          "Guyana"
         ],
         "x0": " ",
         "xaxis": "x",
         "y": [
          22
         ],
         "y0": " ",
         "yaxis": "y"
        },
        {
         "alignmentgroup": "True",
         "box": {
          "visible": false
         },
         "hovertemplate": "Team=%{x}<br>Age=%{y}<extra></extra>",
         "legendgroup": "France",
         "marker": {
          "color": "#FF97FF"
         },
         "name": "France",
         "offsetgroup": "France",
         "orientation": "v",
         "scalegroup": "True",
         "showlegend": true,
         "type": "violin",
         "x": [
          "France",
          "France",
          "France",
          "France",
          "France",
          "France",
          "France",
          "France",
          "France",
          "France",
          "France",
          "France",
          "France",
          "France",
          "France",
          "France",
          "France",
          "France",
          "France",
          "France",
          "France",
          "France",
          "France",
          "France",
          "France"
         ],
         "x0": " ",
         "xaxis": "x",
         "y": [
          23,
          21,
          27,
          21,
          17,
          23,
          25,
          20,
          24,
          22,
          19,
          25,
          23,
          21,
          24,
          23,
          21,
          34,
          25,
          21,
          25,
          21,
          21,
          22,
          24
         ],
         "y0": " ",
         "yaxis": "y"
        },
        {
         "alignmentgroup": "True",
         "box": {
          "visible": false
         },
         "hovertemplate": "Team=%{x}<br>Age=%{y}<extra></extra>",
         "legendgroup": "Brazil",
         "marker": {
          "color": "#FECB52"
         },
         "name": "Brazil",
         "offsetgroup": "Brazil",
         "orientation": "v",
         "scalegroup": "True",
         "showlegend": true,
         "type": "violin",
         "x": [
          "Brazil",
          "Brazil",
          "Brazil",
          "Brazil",
          "Brazil"
         ],
         "x0": " ",
         "xaxis": "x",
         "y": [
          30,
          27,
          20,
          24,
          22
         ],
         "y0": " ",
         "yaxis": "y"
        },
        {
         "alignmentgroup": "True",
         "box": {
          "visible": false
         },
         "hovertemplate": "Team=%{x}<br>Age=%{y}<extra></extra>",
         "legendgroup": "Belarus",
         "marker": {
          "color": "#636efa"
         },
         "name": "Belarus",
         "offsetgroup": "Belarus",
         "orientation": "v",
         "scalegroup": "True",
         "showlegend": true,
         "type": "violin",
         "x": [
          "Belarus",
          "Belarus"
         ],
         "x0": " ",
         "xaxis": "x",
         "y": [
          26,
          21
         ],
         "y0": " ",
         "yaxis": "y"
        },
        {
         "alignmentgroup": "True",
         "box": {
          "visible": false
         },
         "hovertemplate": "Team=%{x}<br>Age=%{y}<extra></extra>",
         "legendgroup": "Kazakhstan",
         "marker": {
          "color": "#EF553B"
         },
         "name": "Kazakhstan",
         "offsetgroup": "Kazakhstan",
         "orientation": "v",
         "scalegroup": "True",
         "showlegend": true,
         "type": "violin",
         "x": [
          "Kazakhstan",
          "Kazakhstan",
          "Kazakhstan",
          "Kazakhstan",
          "Kazakhstan",
          "Kazakhstan",
          "Kazakhstan",
          "Kazakhstan",
          "Kazakhstan",
          "Kazakhstan",
          "Kazakhstan",
          "Kazakhstan",
          "Kazakhstan",
          "Kazakhstan",
          "Kazakhstan",
          "Kazakhstan",
          "Kazakhstan",
          "Kazakhstan",
          "Kazakhstan",
          "Kazakhstan",
          "Kazakhstan",
          "Kazakhstan"
         ],
         "x0": " ",
         "xaxis": "x",
         "y": [
          21,
          24,
          21,
          25,
          22,
          24,
          28,
          28,
          23,
          27,
          23,
          28,
          26,
          20,
          27,
          20,
          22,
          23,
          25,
          22,
          23,
          27
         ],
         "y0": " ",
         "yaxis": "y"
        },
        {
         "alignmentgroup": "True",
         "box": {
          "visible": false
         },
         "hovertemplate": "Team=%{x}<br>Age=%{y}<extra></extra>",
         "legendgroup": "South Africa",
         "marker": {
          "color": "#00cc96"
         },
         "name": "South Africa",
         "offsetgroup": "South Africa",
         "orientation": "v",
         "scalegroup": "True",
         "showlegend": true,
         "type": "violin",
         "x": [
          "South Africa",
          "South Africa",
          "South Africa",
          "South Africa",
          "South Africa",
          "South Africa",
          "South Africa",
          "South Africa",
          "South Africa",
          "South Africa",
          "South Africa",
          "South Africa",
          "South Africa",
          "South Africa",
          "South Africa",
          "South Africa",
          "South Africa",
          "South Africa",
          "South Africa"
         ],
         "x0": " ",
         "xaxis": "x",
         "y": [
          18,
          24,
          28,
          24,
          21,
          18,
          21,
          20,
          17,
          20,
          17,
          24,
          22,
          21,
          19,
          19,
          18,
          22,
          21
         ],
         "y0": " ",
         "yaxis": "y"
        },
        {
         "alignmentgroup": "True",
         "box": {
          "visible": false
         },
         "hovertemplate": "Team=%{x}<br>Age=%{y}<extra></extra>",
         "legendgroup": "Azerbaijan",
         "marker": {
          "color": "#ab63fa"
         },
         "name": "Azerbaijan",
         "offsetgroup": "Azerbaijan",
         "orientation": "v",
         "scalegroup": "True",
         "showlegend": true,
         "type": "violin",
         "x": [
          "Azerbaijan",
          "Azerbaijan",
          "Azerbaijan",
          "Azerbaijan",
          "Azerbaijan",
          "Azerbaijan",
          "Azerbaijan",
          "Azerbaijan"
         ],
         "x0": " ",
         "xaxis": "x",
         "y": [
          21,
          27,
          19,
          25,
          24,
          19,
          23,
          31
         ],
         "y0": " ",
         "yaxis": "y"
        },
        {
         "alignmentgroup": "True",
         "box": {
          "visible": false
         },
         "hovertemplate": "Team=%{x}<br>Age=%{y}<extra></extra>",
         "legendgroup": "Italy",
         "marker": {
          "color": "#FFA15A"
         },
         "name": "Italy",
         "offsetgroup": "Italy",
         "orientation": "v",
         "scalegroup": "True",
         "showlegend": true,
         "type": "violin",
         "x": [
          "Italy",
          "Italy",
          "Italy",
          "Italy",
          "Italy",
          "Italy",
          "Italy",
          "Italy",
          "Italy",
          "Italy",
          "Italy",
          "Italy",
          "Italy",
          "Italy",
          "Italy",
          "Italy",
          "Italy",
          "Italy",
          "Italy",
          "Italy",
          "Italy",
          "Italy",
          "Italy",
          "Italy",
          "Italy",
          "Italy",
          "Italy",
          "Italy",
          "Italy",
          "Italy",
          "Italy",
          "Italy",
          "Italy",
          "Italy",
          "Italy",
          "Italy",
          "Italy",
          "Italy",
          "Italy",
          "Italy",
          "Italy",
          "Italy",
          "Italy",
          "Italy",
          "Italy",
          "Italy",
          "Italy"
         ],
         "x0": " ",
         "xaxis": "x",
         "y": [
          22,
          23,
          27,
          22,
          24,
          21,
          20,
          23,
          21,
          24,
          28,
          31,
          20,
          21,
          25,
          22,
          20,
          21,
          20,
          19,
          20,
          23,
          26,
          21,
          23,
          21,
          21,
          18,
          20,
          24,
          21,
          22,
          24,
          27,
          26,
          29,
          22,
          23,
          21,
          18,
          22,
          23,
          24,
          30,
          19,
          21,
          20
         ],
         "y0": " ",
         "yaxis": "y"
        },
        {
         "alignmentgroup": "True",
         "box": {
          "visible": false
         },
         "hovertemplate": "Team=%{x}<br>Age=%{y}<extra></extra>",
         "legendgroup": "Argentina",
         "marker": {
          "color": "#19d3f3"
         },
         "name": "Argentina",
         "offsetgroup": "Argentina",
         "orientation": "v",
         "scalegroup": "True",
         "showlegend": true,
         "type": "violin",
         "x": [
          "Argentina",
          "Argentina",
          "Argentina",
          "Argentina",
          "Argentina",
          "Argentina",
          "Argentina",
          "Argentina",
          "Argentina",
          "Argentina",
          "Argentina",
          "Argentina",
          "Argentina",
          "Argentina",
          "Argentina",
          "Argentina",
          "Argentina",
          "Argentina",
          "Argentina",
          "Argentina",
          "Argentina",
          "Argentina",
          "Argentina",
          "Argentina"
         ],
         "x0": " ",
         "xaxis": "x",
         "y": [
          20,
          18,
          22,
          21,
          29,
          21,
          22,
          22,
          24,
          18,
          21,
          20,
          18,
          26,
          24,
          20,
          22,
          23,
          18,
          19,
          20,
          20,
          26,
          23
         ],
         "y0": " ",
         "yaxis": "y"
        },
        {
         "alignmentgroup": "True",
         "box": {
          "visible": false
         },
         "hovertemplate": "Team=%{x}<br>Age=%{y}<extra></extra>",
         "legendgroup": "Turkey",
         "marker": {
          "color": "#FF6692"
         },
         "name": "Turkey",
         "offsetgroup": "Turkey",
         "orientation": "v",
         "scalegroup": "True",
         "showlegend": true,
         "type": "violin",
         "x": [
          "Turkey",
          "Turkey",
          "Turkey",
          "Turkey",
          "Turkey"
         ],
         "x0": " ",
         "xaxis": "x",
         "y": [
          26,
          26,
          19,
          22,
          17
         ],
         "y0": " ",
         "yaxis": "y"
        },
        {
         "alignmentgroup": "True",
         "box": {
          "visible": false
         },
         "hovertemplate": "Team=%{x}<br>Age=%{y}<extra></extra>",
         "legendgroup": "East Germany",
         "marker": {
          "color": "#B6E880"
         },
         "name": "East Germany",
         "offsetgroup": "East Germany",
         "orientation": "v",
         "scalegroup": "True",
         "showlegend": true,
         "type": "violin",
         "x": [
          "East Germany",
          "East Germany",
          "East Germany",
          "East Germany",
          "East Germany",
          "East Germany",
          "East Germany",
          "East Germany",
          "East Germany",
          "East Germany",
          "East Germany",
          "East Germany",
          "East Germany"
         ],
         "x0": " ",
         "xaxis": "x",
         "y": [
          23,
          23,
          28,
          22,
          22,
          26,
          24,
          20,
          24,
          20,
          26,
          25,
          22
         ],
         "y0": " ",
         "yaxis": "y"
        },
        {
         "alignmentgroup": "True",
         "box": {
          "visible": false
         },
         "hovertemplate": "Team=%{x}<br>Age=%{y}<extra></extra>",
         "legendgroup": "Australasia",
         "marker": {
          "color": "#FF97FF"
         },
         "name": "Australasia",
         "offsetgroup": "Australasia",
         "orientation": "v",
         "scalegroup": "True",
         "showlegend": true,
         "type": "violin",
         "x": [
          "Australasia"
         ],
         "x0": " ",
         "xaxis": "x",
         "y": [
          24
         ],
         "y0": " ",
         "yaxis": "y"
        },
        {
         "alignmentgroup": "True",
         "box": {
          "visible": false
         },
         "hovertemplate": "Team=%{x}<br>Age=%{y}<extra></extra>",
         "legendgroup": "Soviet Union",
         "marker": {
          "color": "#FECB52"
         },
         "name": "Soviet Union",
         "offsetgroup": "Soviet Union",
         "orientation": "v",
         "scalegroup": "True",
         "showlegend": true,
         "type": "violin",
         "x": [
          "Soviet Union",
          "Soviet Union",
          "Soviet Union",
          "Soviet Union",
          "Soviet Union",
          "Soviet Union",
          "Soviet Union",
          "Soviet Union",
          "Soviet Union",
          "Soviet Union",
          "Soviet Union",
          "Soviet Union",
          "Soviet Union",
          "Soviet Union",
          "Soviet Union",
          "Soviet Union",
          "Soviet Union",
          "Soviet Union",
          "Soviet Union",
          "Soviet Union",
          "Soviet Union",
          "Soviet Union",
          "Soviet Union",
          "Soviet Union",
          "Soviet Union",
          "Soviet Union",
          "Soviet Union",
          "Soviet Union",
          "Soviet Union",
          "Soviet Union",
          "Soviet Union",
          "Soviet Union",
          "Soviet Union",
          "Soviet Union",
          "Soviet Union",
          "Soviet Union",
          "Soviet Union",
          "Soviet Union",
          "Soviet Union",
          "Soviet Union",
          "Soviet Union",
          "Soviet Union",
          "Soviet Union",
          "Soviet Union",
          "Soviet Union",
          "Soviet Union",
          "Soviet Union",
          "Soviet Union",
          "Soviet Union",
          "Soviet Union",
          "Soviet Union"
         ],
         "x0": " ",
         "xaxis": "x",
         "y": [
          26,
          22,
          29,
          21,
          24,
          23,
          23,
          21,
          22,
          26,
          30,
          20,
          21,
          25,
          20,
          22,
          26,
          30,
          20,
          24,
          24,
          20,
          20,
          22,
          23,
          25,
          27,
          28,
          24,
          26,
          20,
          24,
          21,
          21,
          23,
          27,
          20,
          23,
          24,
          34,
          20,
          22,
          23,
          23,
          24,
          26,
          23,
          25,
          31,
          22,
          26
         ],
         "y0": " ",
         "yaxis": "y"
        },
        {
         "alignmentgroup": "True",
         "box": {
          "visible": false
         },
         "hovertemplate": "Team=%{x}<br>Age=%{y}<extra></extra>",
         "legendgroup": "Ireland",
         "marker": {
          "color": "#636efa"
         },
         "name": "Ireland",
         "offsetgroup": "Ireland",
         "orientation": "v",
         "scalegroup": "True",
         "showlegend": true,
         "type": "violin",
         "x": [
          "Ireland",
          "Ireland",
          "Ireland",
          "Ireland",
          "Ireland",
          "Ireland",
          "Ireland",
          "Ireland",
          "Ireland",
          "Ireland",
          "Ireland",
          "Ireland",
          "Ireland",
          "Ireland",
          "Ireland",
          "Ireland"
         ],
         "x0": " ",
         "xaxis": "x",
         "y": [
          21,
          25,
          26,
          18,
          25,
          20,
          26,
          20,
          20,
          22,
          19,
          23,
          20,
          26,
          26,
          21
         ],
         "y0": " ",
         "yaxis": "y"
        },
        {
         "alignmentgroup": "True",
         "box": {
          "visible": false
         },
         "hovertemplate": "Team=%{x}<br>Age=%{y}<extra></extra>",
         "legendgroup": "Chile",
         "marker": {
          "color": "#EF553B"
         },
         "name": "Chile",
         "offsetgroup": "Chile",
         "orientation": "v",
         "scalegroup": "True",
         "showlegend": true,
         "type": "violin",
         "x": [
          "Chile",
          "Chile",
          "Chile"
         ],
         "x0": " ",
         "xaxis": "x",
         "y": [
          21,
          26,
          24
         ],
         "y0": " ",
         "yaxis": "y"
        },
        {
         "alignmentgroup": "True",
         "box": {
          "visible": false
         },
         "hovertemplate": "Team=%{x}<br>Age=%{y}<extra></extra>",
         "legendgroup": "New Zealand",
         "marker": {
          "color": "#00cc96"
         },
         "name": "New Zealand",
         "offsetgroup": "New Zealand",
         "orientation": "v",
         "scalegroup": "True",
         "showlegend": true,
         "type": "violin",
         "x": [
          "New Zealand",
          "New Zealand",
          "New Zealand"
         ],
         "x0": " ",
         "xaxis": "x",
         "y": [
          24,
          22,
          19
         ],
         "y0": " ",
         "yaxis": "y"
        },
        {
         "alignmentgroup": "True",
         "box": {
          "visible": false
         },
         "hovertemplate": "Team=%{x}<br>Age=%{y}<extra></extra>",
         "legendgroup": "Germany",
         "marker": {
          "color": "#ab63fa"
         },
         "name": "Germany",
         "offsetgroup": "Germany",
         "orientation": "v",
         "scalegroup": "True",
         "showlegend": true,
         "type": "violin",
         "x": [
          "Germany",
          "Germany",
          "Germany",
          "Germany",
          "Germany",
          "Germany",
          "Germany",
          "Germany",
          "Germany",
          "Germany",
          "Germany",
          "Germany",
          "Germany",
          "Germany",
          "Germany",
          "Germany",
          "Germany",
          "Germany",
          "Germany",
          "Germany",
          "Germany",
          "Germany",
          "Germany",
          "Germany",
          "Germany",
          "Germany",
          "Germany",
          "Germany",
          "Germany"
         ],
         "x0": " ",
         "xaxis": "x",
         "y": [
          21,
          20,
          20,
          25,
          19,
          30,
          24,
          21,
          25,
          23,
          26,
          22,
          22,
          25,
          21,
          22,
          29,
          22,
          23,
          22,
          26,
          29,
          23,
          22,
          23,
          21,
          26,
          23,
          26
         ],
         "y0": " ",
         "yaxis": "y"
        },
        {
         "alignmentgroup": "True",
         "box": {
          "visible": false
         },
         "hovertemplate": "Team=%{x}<br>Age=%{y}<extra></extra>",
         "legendgroup": "Belgium",
         "marker": {
          "color": "#FFA15A"
         },
         "name": "Belgium",
         "offsetgroup": "Belgium",
         "orientation": "v",
         "scalegroup": "True",
         "showlegend": true,
         "type": "violin",
         "x": [
          "Belgium",
          "Belgium",
          "Belgium",
          "Belgium"
         ],
         "x0": " ",
         "xaxis": "x",
         "y": [
          20,
          18,
          24,
          19
         ],
         "y0": " ",
         "yaxis": "y"
        },
        {
         "alignmentgroup": "True",
         "box": {
          "visible": false
         },
         "hovertemplate": "Team=%{x}<br>Age=%{y}<extra></extra>",
         "legendgroup": "Mexico",
         "marker": {
          "color": "#19d3f3"
         },
         "name": "Mexico",
         "offsetgroup": "Mexico",
         "orientation": "v",
         "scalegroup": "True",
         "showlegend": true,
         "type": "violin",
         "x": [
          "Mexico",
          "Mexico",
          "Mexico",
          "Mexico",
          "Mexico",
          "Mexico",
          "Mexico",
          "Mexico",
          "Mexico",
          "Mexico",
          "Mexico",
          "Mexico",
          "Mexico"
         ],
         "x0": " ",
         "xaxis": "x",
         "y": [
          19,
          20,
          21,
          20,
          19,
          17,
          27,
          23,
          24,
          22,
          22,
          18,
          27
         ],
         "y0": " ",
         "yaxis": "y"
        },
        {
         "alignmentgroup": "True",
         "box": {
          "visible": false
         },
         "hovertemplate": "Team=%{x}<br>Age=%{y}<extra></extra>",
         "legendgroup": "Hungary",
         "marker": {
          "color": "#FF6692"
         },
         "name": "Hungary",
         "offsetgroup": "Hungary",
         "orientation": "v",
         "scalegroup": "True",
         "showlegend": true,
         "type": "violin",
         "x": [
          "Hungary",
          "Hungary",
          "Hungary",
          "Hungary",
          "Hungary",
          "Hungary",
          "Hungary",
          "Hungary",
          "Hungary",
          "Hungary",
          "Hungary",
          "Hungary",
          "Hungary",
          "Hungary",
          "Hungary",
          "Hungary",
          "Hungary",
          "Hungary",
          "Hungary",
          "Hungary"
         ],
         "x0": " ",
         "xaxis": "x",
         "y": [
          24,
          20,
          20,
          21,
          26,
          23,
          22,
          23,
          32,
          22,
          21,
          25,
          23,
          20,
          22,
          22,
          26,
          30,
          22,
          19
         ],
         "y0": " ",
         "yaxis": "y"
        },
        {
         "alignmentgroup": "True",
         "box": {
          "visible": false
         },
         "hovertemplate": "Team=%{x}<br>Age=%{y}<extra></extra>",
         "legendgroup": "Ukraine",
         "marker": {
          "color": "#B6E880"
         },
         "name": "Ukraine",
         "offsetgroup": "Ukraine",
         "orientation": "v",
         "scalegroup": "True",
         "showlegend": true,
         "type": "violin",
         "x": [
          "Ukraine",
          "Ukraine",
          "Ukraine",
          "Ukraine",
          "Ukraine",
          "Ukraine",
          "Ukraine",
          "Ukraine",
          "Ukraine",
          "Ukraine",
          "Ukraine",
          "Ukraine",
          "Ukraine",
          "Ukraine"
         ],
         "x0": " ",
         "xaxis": "x",
         "y": [
          24,
          26,
          21,
          20,
          23,
          25,
          21,
          20,
          22,
          20,
          24,
          26,
          23,
          25
         ],
         "y0": " ",
         "yaxis": "y"
        },
        {
         "alignmentgroup": "True",
         "box": {
          "visible": false
         },
         "hovertemplate": "Team=%{x}<br>Age=%{y}<extra></extra>",
         "legendgroup": "Cameroon",
         "marker": {
          "color": "#FF97FF"
         },
         "name": "Cameroon",
         "offsetgroup": "Cameroon",
         "orientation": "v",
         "scalegroup": "True",
         "showlegend": true,
         "type": "violin",
         "x": [
          "Cameroon",
          "Cameroon"
         ],
         "x0": " ",
         "xaxis": "x",
         "y": [
          27,
          18
         ],
         "y0": " ",
         "yaxis": "y"
        },
        {
         "alignmentgroup": "True",
         "box": {
          "visible": false
         },
         "hovertemplate": "Team=%{x}<br>Age=%{y}<extra></extra>",
         "legendgroup": "Kenya",
         "marker": {
          "color": "#FECB52"
         },
         "name": "Kenya",
         "offsetgroup": "Kenya",
         "orientation": "v",
         "scalegroup": "True",
         "showlegend": true,
         "type": "violin",
         "x": [
          "Kenya",
          "Kenya",
          "Kenya",
          "Kenya",
          "Kenya",
          "Kenya",
          "Kenya"
         ],
         "x0": " ",
         "xaxis": "x",
         "y": [
          19,
          26,
          23,
          24,
          22,
          23,
          27
         ],
         "y0": " ",
         "yaxis": "y"
        },
        {
         "alignmentgroup": "True",
         "box": {
          "visible": false
         },
         "hovertemplate": "Team=%{x}<br>Age=%{y}<extra></extra>",
         "legendgroup": "Venezuela",
         "marker": {
          "color": "#636efa"
         },
         "name": "Venezuela",
         "offsetgroup": "Venezuela",
         "orientation": "v",
         "scalegroup": "True",
         "showlegend": true,
         "type": "violin",
         "x": [
          "Venezuela",
          "Venezuela",
          "Venezuela",
          "Venezuela",
          "Venezuela",
          "Venezuela"
         ],
         "x0": " ",
         "xaxis": "x",
         "y": [
          20,
          20,
          19,
          21,
          20,
          23
         ],
         "y0": " ",
         "yaxis": "y"
        },
        {
         "alignmentgroup": "True",
         "box": {
          "visible": false
         },
         "hovertemplate": "Team=%{x}<br>Age=%{y}<extra></extra>",
         "legendgroup": "Thailand",
         "marker": {
          "color": "#EF553B"
         },
         "name": "Thailand",
         "offsetgroup": "Thailand",
         "orientation": "v",
         "scalegroup": "True",
         "showlegend": true,
         "type": "violin",
         "x": [
          "Thailand",
          "Thailand",
          "Thailand",
          "Thailand",
          "Thailand",
          "Thailand",
          "Thailand",
          "Thailand",
          "Thailand",
          "Thailand",
          "Thailand",
          "Thailand",
          "Thailand",
          "Thailand"
         ],
         "x0": " ",
         "xaxis": "x",
         "y": [
          24,
          28,
          22,
          33,
          23,
          28,
          20,
          23,
          32,
          24,
          18,
          24,
          26,
          24
         ],
         "y0": " ",
         "yaxis": "y"
        },
        {
         "alignmentgroup": "True",
         "box": {
          "visible": false
         },
         "hovertemplate": "Team=%{x}<br>Age=%{y}<extra></extra>",
         "legendgroup": "Georgia",
         "marker": {
          "color": "#00cc96"
         },
         "name": "Georgia",
         "offsetgroup": "Georgia",
         "orientation": "v",
         "scalegroup": "True",
         "showlegend": true,
         "type": "violin",
         "x": [
          "Georgia"
         ],
         "x0": " ",
         "xaxis": "x",
         "y": [
          22
         ],
         "y0": " ",
         "yaxis": "y"
        },
        {
         "alignmentgroup": "True",
         "box": {
          "visible": false
         },
         "hovertemplate": "Team=%{x}<br>Age=%{y}<extra></extra>",
         "legendgroup": "Australia",
         "marker": {
          "color": "#ab63fa"
         },
         "name": "Australia",
         "offsetgroup": "Australia",
         "orientation": "v",
         "scalegroup": "True",
         "showlegend": true,
         "type": "violin",
         "x": [
          "Australia",
          "Australia",
          "Australia",
          "Australia"
         ],
         "x0": " ",
         "xaxis": "x",
         "y": [
          19,
          22,
          30,
          22
         ],
         "y0": " ",
         "yaxis": "y"
        },
        {
         "alignmentgroup": "True",
         "box": {
          "visible": false
         },
         "hovertemplate": "Team=%{x}<br>Age=%{y}<extra></extra>",
         "legendgroup": "North Korea",
         "marker": {
          "color": "#FFA15A"
         },
         "name": "North Korea",
         "offsetgroup": "North Korea",
         "orientation": "v",
         "scalegroup": "True",
         "showlegend": true,
         "type": "violin",
         "x": [
          "North Korea",
          "North Korea",
          "North Korea",
          "North Korea",
          "North Korea",
          "North Korea",
          "North Korea",
          "North Korea"
         ],
         "x0": " ",
         "xaxis": "x",
         "y": [
          22,
          21,
          20,
          22,
          20,
          21,
          25,
          22
         ],
         "y0": " ",
         "yaxis": "y"
        },
        {
         "alignmentgroup": "True",
         "box": {
          "visible": false
         },
         "hovertemplate": "Team=%{x}<br>Age=%{y}<extra></extra>",
         "legendgroup": "Tajikistan",
         "marker": {
          "color": "#19d3f3"
         },
         "name": "Tajikistan",
         "offsetgroup": "Tajikistan",
         "orientation": "v",
         "scalegroup": "True",
         "showlegend": true,
         "type": "violin",
         "x": [
          "Tajikistan"
         ],
         "x0": " ",
         "xaxis": "x",
         "y": [
          19
         ],
         "y0": " ",
         "yaxis": "y"
        },
        {
         "alignmentgroup": "True",
         "box": {
          "visible": false
         },
         "hovertemplate": "Team=%{x}<br>Age=%{y}<extra></extra>",
         "legendgroup": "Niger",
         "marker": {
          "color": "#FF6692"
         },
         "name": "Niger",
         "offsetgroup": "Niger",
         "orientation": "v",
         "scalegroup": "True",
         "showlegend": true,
         "type": "violin",
         "x": [
          "Niger"
         ],
         "x0": " ",
         "xaxis": "x",
         "y": [
          24
         ],
         "y0": " ",
         "yaxis": "y"
        },
        {
         "alignmentgroup": "True",
         "box": {
          "visible": false
         },
         "hovertemplate": "Team=%{x}<br>Age=%{y}<extra></extra>",
         "legendgroup": "Canada",
         "marker": {
          "color": "#B6E880"
         },
         "name": "Canada",
         "offsetgroup": "Canada",
         "orientation": "v",
         "scalegroup": "True",
         "showlegend": true,
         "type": "violin",
         "x": [
          "Canada",
          "Canada",
          "Canada",
          "Canada",
          "Canada",
          "Canada",
          "Canada",
          "Canada",
          "Canada",
          "Canada",
          "Canada",
          "Canada",
          "Canada",
          "Canada",
          "Canada",
          "Canada",
          "Canada"
         ],
         "x0": " ",
         "xaxis": "x",
         "y": [
          26,
          23,
          19,
          20,
          19,
          22,
          20,
          28,
          25,
          23,
          23,
          21,
          22,
          24,
          22,
          24,
          20
         ],
         "y0": " ",
         "yaxis": "y"
        },
        {
         "alignmentgroup": "True",
         "box": {
          "visible": false
         },
         "hovertemplate": "Team=%{x}<br>Age=%{y}<extra></extra>",
         "legendgroup": "Netherlands",
         "marker": {
          "color": "#FF97FF"
         },
         "name": "Netherlands",
         "offsetgroup": "Netherlands",
         "orientation": "v",
         "scalegroup": "True",
         "showlegend": true,
         "type": "violin",
         "x": [
          "Netherlands",
          "Netherlands",
          "Netherlands",
          "Netherlands",
          "Netherlands",
          "Netherlands",
          "Netherlands"
         ],
         "x0": " ",
         "xaxis": "x",
         "y": [
          21,
          28,
          24,
          20,
          21,
          25,
          29
         ],
         "y0": " ",
         "yaxis": "y"
        },
        {
         "alignmentgroup": "True",
         "box": {
          "visible": false
         },
         "hovertemplate": "Team=%{x}<br>Age=%{y}<extra></extra>",
         "legendgroup": "Dominican Republic",
         "marker": {
          "color": "#FECB52"
         },
         "name": "Dominican Republic",
         "offsetgroup": "Dominican Republic",
         "orientation": "v",
         "scalegroup": "True",
         "showlegend": true,
         "type": "violin",
         "x": [
          "Dominican Republic",
          "Dominican Republic"
         ],
         "x0": " ",
         "xaxis": "x",
         "y": [
          24,
          22
         ],
         "y0": " ",
         "yaxis": "y"
        },
        {
         "alignmentgroup": "True",
         "box": {
          "visible": false
         },
         "hovertemplate": "Team=%{x}<br>Age=%{y}<extra></extra>",
         "legendgroup": "Nigeria",
         "marker": {
          "color": "#636efa"
         },
         "name": "Nigeria",
         "offsetgroup": "Nigeria",
         "orientation": "v",
         "scalegroup": "True",
         "showlegend": true,
         "type": "violin",
         "x": [
          "Nigeria",
          "Nigeria",
          "Nigeria",
          "Nigeria",
          "Nigeria",
          "Nigeria"
         ],
         "x0": " ",
         "xaxis": "x",
         "y": [
          23,
          24,
          24,
          29,
          18,
          23
         ],
         "y0": " ",
         "yaxis": "y"
        },
        {
         "alignmentgroup": "True",
         "box": {
          "visible": false
         },
         "hovertemplate": "Team=%{x}<br>Age=%{y}<extra></extra>",
         "legendgroup": "Mongolia",
         "marker": {
          "color": "#EF553B"
         },
         "name": "Mongolia",
         "offsetgroup": "Mongolia",
         "orientation": "v",
         "scalegroup": "True",
         "showlegend": true,
         "type": "violin",
         "x": [
          "Mongolia",
          "Mongolia",
          "Mongolia",
          "Mongolia",
          "Mongolia",
          "Mongolia",
          "Mongolia"
         ],
         "x0": " ",
         "xaxis": "x",
         "y": [
          28,
          23,
          26,
          26,
          20,
          23,
          30
         ],
         "y0": " ",
         "yaxis": "y"
        },
        {
         "alignmentgroup": "True",
         "box": {
          "visible": false
         },
         "hovertemplate": "Team=%{x}<br>Age=%{y}<extra></extra>",
         "legendgroup": "United Arab Republic",
         "marker": {
          "color": "#00cc96"
         },
         "name": "United Arab Republic",
         "offsetgroup": "United Arab Republic",
         "orientation": "v",
         "scalegroup": "True",
         "showlegend": true,
         "type": "violin",
         "x": [
          "United Arab Republic"
         ],
         "x0": " ",
         "xaxis": "x",
         "y": [
          24
         ],
         "y0": " ",
         "yaxis": "y"
        },
        {
         "alignmentgroup": "True",
         "box": {
          "visible": false
         },
         "hovertemplate": "Team=%{x}<br>Age=%{y}<extra></extra>",
         "legendgroup": "Czechoslovakia",
         "marker": {
          "color": "#ab63fa"
         },
         "name": "Czechoslovakia",
         "offsetgroup": "Czechoslovakia",
         "orientation": "v",
         "scalegroup": "True",
         "showlegend": true,
         "type": "violin",
         "x": [
          "Czechoslovakia",
          "Czechoslovakia",
          "Czechoslovakia",
          "Czechoslovakia",
          "Czechoslovakia",
          "Czechoslovakia"
         ],
         "x0": " ",
         "xaxis": "x",
         "y": [
          20,
          20,
          26,
          22,
          26,
          23
         ],
         "y0": " ",
         "yaxis": "y"
        },
        {
         "alignmentgroup": "True",
         "box": {
          "visible": false
         },
         "hovertemplate": "Team=%{x}<br>Age=%{y}<extra></extra>",
         "legendgroup": "Tunisia",
         "marker": {
          "color": "#FFA15A"
         },
         "name": "Tunisia",
         "offsetgroup": "Tunisia",
         "orientation": "v",
         "scalegroup": "True",
         "showlegend": true,
         "type": "violin",
         "x": [
          "Tunisia",
          "Tunisia"
         ],
         "x0": " ",
         "xaxis": "x",
         "y": [
          23,
          22
         ],
         "y0": " ",
         "yaxis": "y"
        },
        {
         "alignmentgroup": "True",
         "box": {
          "visible": false
         },
         "hovertemplate": "Team=%{x}<br>Age=%{y}<extra></extra>",
         "legendgroup": "West Germany",
         "marker": {
          "color": "#19d3f3"
         },
         "name": "West Germany",
         "offsetgroup": "West Germany",
         "orientation": "v",
         "scalegroup": "True",
         "showlegend": true,
         "type": "violin",
         "x": [
          "West Germany",
          "West Germany",
          "West Germany",
          "West Germany",
          "West Germany",
          "West Germany"
         ],
         "x0": " ",
         "xaxis": "x",
         "y": [
          25,
          24,
          29,
          27,
          28,
          23
         ],
         "y0": " ",
         "yaxis": "y"
        },
        {
         "alignmentgroup": "True",
         "box": {
          "visible": false
         },
         "hovertemplate": "Team=%{x}<br>Age=%{y}<extra></extra>",
         "legendgroup": "Moldova",
         "marker": {
          "color": "#FF6692"
         },
         "name": "Moldova",
         "offsetgroup": "Moldova",
         "orientation": "v",
         "scalegroup": "True",
         "showlegend": true,
         "type": "violin",
         "x": [
          "Moldova",
          "Moldova"
         ],
         "x0": " ",
         "xaxis": "x",
         "y": [
          25,
          23
         ],
         "y0": " ",
         "yaxis": "y"
        },
        {
         "alignmentgroup": "True",
         "box": {
          "visible": false
         },
         "hovertemplate": "Team=%{x}<br>Age=%{y}<extra></extra>",
         "legendgroup": "China",
         "marker": {
          "color": "#B6E880"
         },
         "name": "China",
         "offsetgroup": "China",
         "orientation": "v",
         "scalegroup": "True",
         "showlegend": true,
         "type": "violin",
         "x": [
          "China",
          "China",
          "China",
          "China",
          "China",
          "China",
          "China",
          "China",
          "China",
          "China",
          "China",
          "China"
         ],
         "x0": " ",
         "xaxis": "x",
         "y": [
          23,
          23,
          22,
          26,
          24,
          28,
          25,
          26,
          25,
          23,
          27,
          31
         ],
         "y0": " ",
         "yaxis": "y"
        },
        {
         "alignmentgroup": "True",
         "box": {
          "visible": false
         },
         "hovertemplate": "Team=%{x}<br>Age=%{y}<extra></extra>",
         "legendgroup": "Bermuda",
         "marker": {
          "color": "#FF97FF"
         },
         "name": "Bermuda",
         "offsetgroup": "Bermuda",
         "orientation": "v",
         "scalegroup": "True",
         "showlegend": true,
         "type": "violin",
         "x": [
          "Bermuda"
         ],
         "x0": " ",
         "xaxis": "x",
         "y": [
          25
         ],
         "y0": " ",
         "yaxis": "y"
        },
        {
         "alignmentgroup": "True",
         "box": {
          "visible": false
         },
         "hovertemplate": "Team=%{x}<br>Age=%{y}<extra></extra>",
         "legendgroup": "Croatia",
         "marker": {
          "color": "#FECB52"
         },
         "name": "Croatia",
         "offsetgroup": "Croatia",
         "orientation": "v",
         "scalegroup": "True",
         "showlegend": true,
         "type": "violin",
         "x": [
          "Croatia"
         ],
         "x0": " ",
         "xaxis": "x",
         "y": [
          24
         ],
         "y0": " ",
         "yaxis": "y"
        },
        {
         "alignmentgroup": "True",
         "box": {
          "visible": false
         },
         "hovertemplate": "Team=%{x}<br>Age=%{y}<extra></extra>",
         "legendgroup": "Pakistan",
         "marker": {
          "color": "#636efa"
         },
         "name": "Pakistan",
         "offsetgroup": "Pakistan",
         "orientation": "v",
         "scalegroup": "True",
         "showlegend": true,
         "type": "violin",
         "x": [
          "Pakistan"
         ],
         "x0": " ",
         "xaxis": "x",
         "y": [
          24
         ],
         "y0": " ",
         "yaxis": "y"
        },
        {
         "alignmentgroup": "True",
         "box": {
          "visible": false
         },
         "hovertemplate": "Team=%{x}<br>Age=%{y}<extra></extra>",
         "legendgroup": "Armenia",
         "marker": {
          "color": "#EF553B"
         },
         "name": "Armenia",
         "offsetgroup": "Armenia",
         "orientation": "v",
         "scalegroup": "True",
         "showlegend": true,
         "type": "violin",
         "x": [
          "Armenia"
         ],
         "x0": " ",
         "xaxis": "x",
         "y": [
          24
         ],
         "y0": " ",
         "yaxis": "y"
        },
        {
         "alignmentgroup": "True",
         "box": {
          "visible": false
         },
         "hovertemplate": "Team=%{x}<br>Age=%{y}<extra></extra>",
         "legendgroup": "Denmark",
         "marker": {
          "color": "#00cc96"
         },
         "name": "Denmark",
         "offsetgroup": "Denmark",
         "orientation": "v",
         "scalegroup": "True",
         "showlegend": true,
         "type": "violin",
         "x": [
          "Denmark",
          "Denmark",
          "Denmark",
          "Denmark",
          "Denmark",
          "Denmark",
          "Denmark",
          "Denmark",
          "Denmark",
          "Denmark",
          "Denmark",
          "Denmark"
         ],
         "x0": " ",
         "xaxis": "x",
         "y": [
          24,
          25,
          28,
          29,
          27,
          24,
          20,
          24,
          25,
          29,
          21,
          20
         ],
         "y0": " ",
         "yaxis": "y"
        },
        {
         "alignmentgroup": "True",
         "box": {
          "visible": false
         },
         "hovertemplate": "Team=%{x}<br>Age=%{y}<extra></extra>",
         "legendgroup": "Yugoslavia",
         "marker": {
          "color": "#ab63fa"
         },
         "name": "Yugoslavia",
         "offsetgroup": "Yugoslavia",
         "orientation": "v",
         "scalegroup": "True",
         "showlegend": true,
         "type": "violin",
         "x": [
          "Yugoslavia",
          "Yugoslavia",
          "Yugoslavia",
          "Yugoslavia",
          "Yugoslavia",
          "Yugoslavia",
          "Yugoslavia",
          "Yugoslavia",
          "Yugoslavia",
          "Yugoslavia",
          "Yugoslavia"
         ],
         "x0": " ",
         "xaxis": "x",
         "y": [
          22,
          22,
          20,
          23,
          28,
          21,
          19,
          30,
          28,
          25,
          29
         ],
         "y0": " ",
         "yaxis": "y"
        },
        {
         "alignmentgroup": "True",
         "box": {
          "visible": false
         },
         "hovertemplate": "Team=%{x}<br>Age=%{y}<extra></extra>",
         "legendgroup": "Mauritius",
         "marker": {
          "color": "#FFA15A"
         },
         "name": "Mauritius",
         "offsetgroup": "Mauritius",
         "orientation": "v",
         "scalegroup": "True",
         "showlegend": true,
         "type": "violin",
         "x": [
          "Mauritius"
         ],
         "x0": " ",
         "xaxis": "x",
         "y": [
          30
         ],
         "y0": " ",
         "yaxis": "y"
        },
        {
         "alignmentgroup": "True",
         "box": {
          "visible": false
         },
         "hovertemplate": "Team=%{x}<br>Age=%{y}<extra></extra>",
         "legendgroup": "Colombia",
         "marker": {
          "color": "#19d3f3"
         },
         "name": "Colombia",
         "offsetgroup": "Colombia",
         "orientation": "v",
         "scalegroup": "True",
         "showlegend": true,
         "type": "violin",
         "x": [
          "Colombia",
          "Colombia",
          "Colombia",
          "Colombia",
          "Colombia"
         ],
         "x0": " ",
         "xaxis": "x",
         "y": [
          19,
          24,
          23,
          19,
          27
         ],
         "y0": " ",
         "yaxis": "y"
        },
        {
         "alignmentgroup": "True",
         "box": {
          "visible": false
         },
         "hovertemplate": "Team=%{x}<br>Age=%{y}<extra></extra>",
         "legendgroup": "India",
         "marker": {
          "color": "#FF6692"
         },
         "name": "India",
         "offsetgroup": "India",
         "orientation": "v",
         "scalegroup": "True",
         "showlegend": true,
         "type": "violin",
         "x": [
          "India",
          "India"
         ],
         "x0": " ",
         "xaxis": "x",
         "y": [
          29,
          22
         ],
         "y0": " ",
         "yaxis": "y"
        },
        {
         "alignmentgroup": "True",
         "box": {
          "visible": false
         },
         "hovertemplate": "Team=%{x}<br>Age=%{y}<extra></extra>",
         "legendgroup": "Czech Republic",
         "marker": {
          "color": "#B6E880"
         },
         "name": "Czech Republic",
         "offsetgroup": "Czech Republic",
         "orientation": "v",
         "scalegroup": "True",
         "showlegend": true,
         "type": "violin",
         "x": [
          "Czech Republic"
         ],
         "x0": " ",
         "xaxis": "x",
         "y": [
          22
         ],
         "y0": " ",
         "yaxis": "y"
        },
        {
         "alignmentgroup": "True",
         "box": {
          "visible": false
         },
         "hovertemplate": "Team=%{x}<br>Age=%{y}<extra></extra>",
         "legendgroup": "Spain",
         "marker": {
          "color": "#FF97FF"
         },
         "name": "Spain",
         "offsetgroup": "Spain",
         "orientation": "v",
         "scalegroup": "True",
         "showlegend": true,
         "type": "violin",
         "x": [
          "Spain",
          "Spain",
          "Spain",
          "Spain"
         ],
         "x0": " ",
         "xaxis": "x",
         "y": [
          26,
          30,
          17,
          20
         ],
         "y0": " ",
         "yaxis": "y"
        },
        {
         "alignmentgroup": "True",
         "box": {
          "visible": false
         },
         "hovertemplate": "Team=%{x}<br>Age=%{y}<extra></extra>",
         "legendgroup": "Japan",
         "marker": {
          "color": "#FECB52"
         },
         "name": "Japan",
         "offsetgroup": "Japan",
         "orientation": "v",
         "scalegroup": "True",
         "showlegend": true,
         "type": "violin",
         "x": [
          "Japan",
          "Japan",
          "Japan",
          "Japan",
          "Japan"
         ],
         "x0": " ",
         "xaxis": "x",
         "y": [
          22,
          26,
          23,
          26,
          19
         ],
         "y0": " ",
         "yaxis": "y"
        },
        {
         "alignmentgroup": "True",
         "box": {
          "visible": false
         },
         "hovertemplate": "Team=%{x}<br>Age=%{y}<extra></extra>",
         "legendgroup": "Uganda",
         "marker": {
          "color": "#636efa"
         },
         "name": "Uganda",
         "offsetgroup": "Uganda",
         "orientation": "v",
         "scalegroup": "True",
         "showlegend": true,
         "type": "violin",
         "x": [
          "Uganda",
          "Uganda",
          "Uganda",
          "Uganda"
         ],
         "x0": " ",
         "xaxis": "x",
         "y": [
          20,
          25,
          19,
          23
         ],
         "y0": " ",
         "yaxis": "y"
        },
        {
         "alignmentgroup": "True",
         "box": {
          "visible": false
         },
         "hovertemplate": "Team=%{x}<br>Age=%{y}<extra></extra>",
         "legendgroup": "Zambia",
         "marker": {
          "color": "#EF553B"
         },
         "name": "Zambia",
         "offsetgroup": "Zambia",
         "orientation": "v",
         "scalegroup": "True",
         "showlegend": true,
         "type": "violin",
         "x": [
          "Zambia"
         ],
         "x0": " ",
         "xaxis": "x",
         "y": [
          24
         ],
         "y0": " ",
         "yaxis": "y"
        },
        {
         "alignmentgroup": "True",
         "box": {
          "visible": false
         },
         "hovertemplate": "Team=%{x}<br>Age=%{y}<extra></extra>",
         "legendgroup": "Norway",
         "marker": {
          "color": "#00cc96"
         },
         "name": "Norway",
         "offsetgroup": "Norway",
         "orientation": "v",
         "scalegroup": "True",
         "showlegend": true,
         "type": "violin",
         "x": [
          "Norway",
          "Norway",
          "Norway",
          "Norway",
          "Norway"
         ],
         "x0": " ",
         "xaxis": "x",
         "y": [
          25,
          19,
          23,
          22,
          20
         ],
         "y0": " ",
         "yaxis": "y"
        },
        {
         "alignmentgroup": "True",
         "box": {
          "visible": false
         },
         "hovertemplate": "Team=%{x}<br>Age=%{y}<extra></extra>",
         "legendgroup": "Unified Team",
         "marker": {
          "color": "#ab63fa"
         },
         "name": "Unified Team",
         "offsetgroup": "Unified Team",
         "orientation": "v",
         "scalegroup": "True",
         "showlegend": true,
         "type": "violin",
         "x": [
          "Unified Team",
          "Unified Team"
         ],
         "x0": " ",
         "xaxis": "x",
         "y": [
          18,
          23
         ],
         "y0": " ",
         "yaxis": "y"
        },
        {
         "alignmentgroup": "True",
         "box": {
          "visible": false
         },
         "hovertemplate": "Team=%{x}<br>Age=%{y}<extra></extra>",
         "legendgroup": "Lithuania",
         "marker": {
          "color": "#FFA15A"
         },
         "name": "Lithuania",
         "offsetgroup": "Lithuania",
         "orientation": "v",
         "scalegroup": "True",
         "showlegend": true,
         "type": "violin",
         "x": [
          "Lithuania"
         ],
         "x0": " ",
         "xaxis": "x",
         "y": [
          20
         ],
         "y0": " ",
         "yaxis": "y"
        },
        {
         "alignmentgroup": "True",
         "box": {
          "visible": false
         },
         "hovertemplate": "Team=%{x}<br>Age=%{y}<extra></extra>",
         "legendgroup": "Uruguay",
         "marker": {
          "color": "#19d3f3"
         },
         "name": "Uruguay",
         "offsetgroup": "Uruguay",
         "orientation": "v",
         "scalegroup": "True",
         "showlegend": true,
         "type": "violin",
         "x": [
          "Uruguay"
         ],
         "x0": " ",
         "xaxis": "x",
         "y": [
          20
         ],
         "y0": " ",
         "yaxis": "y"
        },
        {
         "alignmentgroup": "True",
         "box": {
          "visible": false
         },
         "hovertemplate": "Team=%{x}<br>Age=%{y}<extra></extra>",
         "legendgroup": "Philippines",
         "marker": {
          "color": "#FF6692"
         },
         "name": "Philippines",
         "offsetgroup": "Philippines",
         "orientation": "v",
         "scalegroup": "True",
         "showlegend": true,
         "type": "violin",
         "x": [
          "Philippines",
          "Philippines",
          "Philippines",
          "Philippines",
          "Philippines"
         ],
         "x0": " ",
         "xaxis": "x",
         "y": [
          26,
          22,
          20,
          19,
          19
         ],
         "y0": " ",
         "yaxis": "y"
        },
        {
         "alignmentgroup": "True",
         "box": {
          "visible": false
         },
         "hovertemplate": "Team=%{x}<br>Age=%{y}<extra></extra>",
         "legendgroup": "Estonia",
         "marker": {
          "color": "#B6E880"
         },
         "name": "Estonia",
         "offsetgroup": "Estonia",
         "orientation": "v",
         "scalegroup": "True",
         "showlegend": true,
         "type": "violin",
         "x": [
          "Estonia"
         ],
         "x0": " ",
         "xaxis": "x",
         "y": [
          23
         ],
         "y0": " ",
         "yaxis": "y"
        },
        {
         "alignmentgroup": "True",
         "box": {
          "visible": false
         },
         "hovertemplate": "Team=%{x}<br>Age=%{y}<extra></extra>",
         "legendgroup": "Tonga",
         "marker": {
          "color": "#FF97FF"
         },
         "name": "Tonga",
         "offsetgroup": "Tonga",
         "orientation": "v",
         "scalegroup": "True",
         "showlegend": true,
         "type": "violin",
         "x": [
          "Tonga"
         ],
         "x0": " ",
         "xaxis": "x",
         "y": [
          26
         ],
         "y0": " ",
         "yaxis": "y"
        }
       ],
       "layout": {
        "legend": {
         "title": {
          "text": "Team"
         },
         "tracegroupgap": 0
        },
        "template": {
         "data": {
          "bar": [
           {
            "error_x": {
             "color": "#2a3f5f"
            },
            "error_y": {
             "color": "#2a3f5f"
            },
            "marker": {
             "line": {
              "color": "#E5ECF6",
              "width": 0.5
             },
             "pattern": {
              "fillmode": "overlay",
              "size": 10,
              "solidity": 0.2
             }
            },
            "type": "bar"
           }
          ],
          "barpolar": [
           {
            "marker": {
             "line": {
              "color": "#E5ECF6",
              "width": 0.5
             },
             "pattern": {
              "fillmode": "overlay",
              "size": 10,
              "solidity": 0.2
             }
            },
            "type": "barpolar"
           }
          ],
          "carpet": [
           {
            "aaxis": {
             "endlinecolor": "#2a3f5f",
             "gridcolor": "white",
             "linecolor": "white",
             "minorgridcolor": "white",
             "startlinecolor": "#2a3f5f"
            },
            "baxis": {
             "endlinecolor": "#2a3f5f",
             "gridcolor": "white",
             "linecolor": "white",
             "minorgridcolor": "white",
             "startlinecolor": "#2a3f5f"
            },
            "type": "carpet"
           }
          ],
          "choropleth": [
           {
            "colorbar": {
             "outlinewidth": 0,
             "ticks": ""
            },
            "type": "choropleth"
           }
          ],
          "contour": [
           {
            "colorbar": {
             "outlinewidth": 0,
             "ticks": ""
            },
            "colorscale": [
             [
              0,
              "#0d0887"
             ],
             [
              0.1111111111111111,
              "#46039f"
             ],
             [
              0.2222222222222222,
              "#7201a8"
             ],
             [
              0.3333333333333333,
              "#9c179e"
             ],
             [
              0.4444444444444444,
              "#bd3786"
             ],
             [
              0.5555555555555556,
              "#d8576b"
             ],
             [
              0.6666666666666666,
              "#ed7953"
             ],
             [
              0.7777777777777778,
              "#fb9f3a"
             ],
             [
              0.8888888888888888,
              "#fdca26"
             ],
             [
              1,
              "#f0f921"
             ]
            ],
            "type": "contour"
           }
          ],
          "contourcarpet": [
           {
            "colorbar": {
             "outlinewidth": 0,
             "ticks": ""
            },
            "type": "contourcarpet"
           }
          ],
          "heatmap": [
           {
            "colorbar": {
             "outlinewidth": 0,
             "ticks": ""
            },
            "colorscale": [
             [
              0,
              "#0d0887"
             ],
             [
              0.1111111111111111,
              "#46039f"
             ],
             [
              0.2222222222222222,
              "#7201a8"
             ],
             [
              0.3333333333333333,
              "#9c179e"
             ],
             [
              0.4444444444444444,
              "#bd3786"
             ],
             [
              0.5555555555555556,
              "#d8576b"
             ],
             [
              0.6666666666666666,
              "#ed7953"
             ],
             [
              0.7777777777777778,
              "#fb9f3a"
             ],
             [
              0.8888888888888888,
              "#fdca26"
             ],
             [
              1,
              "#f0f921"
             ]
            ],
            "type": "heatmap"
           }
          ],
          "heatmapgl": [
           {
            "colorbar": {
             "outlinewidth": 0,
             "ticks": ""
            },
            "colorscale": [
             [
              0,
              "#0d0887"
             ],
             [
              0.1111111111111111,
              "#46039f"
             ],
             [
              0.2222222222222222,
              "#7201a8"
             ],
             [
              0.3333333333333333,
              "#9c179e"
             ],
             [
              0.4444444444444444,
              "#bd3786"
             ],
             [
              0.5555555555555556,
              "#d8576b"
             ],
             [
              0.6666666666666666,
              "#ed7953"
             ],
             [
              0.7777777777777778,
              "#fb9f3a"
             ],
             [
              0.8888888888888888,
              "#fdca26"
             ],
             [
              1,
              "#f0f921"
             ]
            ],
            "type": "heatmapgl"
           }
          ],
          "histogram": [
           {
            "marker": {
             "pattern": {
              "fillmode": "overlay",
              "size": 10,
              "solidity": 0.2
             }
            },
            "type": "histogram"
           }
          ],
          "histogram2d": [
           {
            "colorbar": {
             "outlinewidth": 0,
             "ticks": ""
            },
            "colorscale": [
             [
              0,
              "#0d0887"
             ],
             [
              0.1111111111111111,
              "#46039f"
             ],
             [
              0.2222222222222222,
              "#7201a8"
             ],
             [
              0.3333333333333333,
              "#9c179e"
             ],
             [
              0.4444444444444444,
              "#bd3786"
             ],
             [
              0.5555555555555556,
              "#d8576b"
             ],
             [
              0.6666666666666666,
              "#ed7953"
             ],
             [
              0.7777777777777778,
              "#fb9f3a"
             ],
             [
              0.8888888888888888,
              "#fdca26"
             ],
             [
              1,
              "#f0f921"
             ]
            ],
            "type": "histogram2d"
           }
          ],
          "histogram2dcontour": [
           {
            "colorbar": {
             "outlinewidth": 0,
             "ticks": ""
            },
            "colorscale": [
             [
              0,
              "#0d0887"
             ],
             [
              0.1111111111111111,
              "#46039f"
             ],
             [
              0.2222222222222222,
              "#7201a8"
             ],
             [
              0.3333333333333333,
              "#9c179e"
             ],
             [
              0.4444444444444444,
              "#bd3786"
             ],
             [
              0.5555555555555556,
              "#d8576b"
             ],
             [
              0.6666666666666666,
              "#ed7953"
             ],
             [
              0.7777777777777778,
              "#fb9f3a"
             ],
             [
              0.8888888888888888,
              "#fdca26"
             ],
             [
              1,
              "#f0f921"
             ]
            ],
            "type": "histogram2dcontour"
           }
          ],
          "mesh3d": [
           {
            "colorbar": {
             "outlinewidth": 0,
             "ticks": ""
            },
            "type": "mesh3d"
           }
          ],
          "parcoords": [
           {
            "line": {
             "colorbar": {
              "outlinewidth": 0,
              "ticks": ""
             }
            },
            "type": "parcoords"
           }
          ],
          "pie": [
           {
            "automargin": true,
            "type": "pie"
           }
          ],
          "scatter": [
           {
            "fillpattern": {
             "fillmode": "overlay",
             "size": 10,
             "solidity": 0.2
            },
            "type": "scatter"
           }
          ],
          "scatter3d": [
           {
            "line": {
             "colorbar": {
              "outlinewidth": 0,
              "ticks": ""
             }
            },
            "marker": {
             "colorbar": {
              "outlinewidth": 0,
              "ticks": ""
             }
            },
            "type": "scatter3d"
           }
          ],
          "scattercarpet": [
           {
            "marker": {
             "colorbar": {
              "outlinewidth": 0,
              "ticks": ""
             }
            },
            "type": "scattercarpet"
           }
          ],
          "scattergeo": [
           {
            "marker": {
             "colorbar": {
              "outlinewidth": 0,
              "ticks": ""
             }
            },
            "type": "scattergeo"
           }
          ],
          "scattergl": [
           {
            "marker": {
             "colorbar": {
              "outlinewidth": 0,
              "ticks": ""
             }
            },
            "type": "scattergl"
           }
          ],
          "scattermapbox": [
           {
            "marker": {
             "colorbar": {
              "outlinewidth": 0,
              "ticks": ""
             }
            },
            "type": "scattermapbox"
           }
          ],
          "scatterpolar": [
           {
            "marker": {
             "colorbar": {
              "outlinewidth": 0,
              "ticks": ""
             }
            },
            "type": "scatterpolar"
           }
          ],
          "scatterpolargl": [
           {
            "marker": {
             "colorbar": {
              "outlinewidth": 0,
              "ticks": ""
             }
            },
            "type": "scatterpolargl"
           }
          ],
          "scatterternary": [
           {
            "marker": {
             "colorbar": {
              "outlinewidth": 0,
              "ticks": ""
             }
            },
            "type": "scatterternary"
           }
          ],
          "surface": [
           {
            "colorbar": {
             "outlinewidth": 0,
             "ticks": ""
            },
            "colorscale": [
             [
              0,
              "#0d0887"
             ],
             [
              0.1111111111111111,
              "#46039f"
             ],
             [
              0.2222222222222222,
              "#7201a8"
             ],
             [
              0.3333333333333333,
              "#9c179e"
             ],
             [
              0.4444444444444444,
              "#bd3786"
             ],
             [
              0.5555555555555556,
              "#d8576b"
             ],
             [
              0.6666666666666666,
              "#ed7953"
             ],
             [
              0.7777777777777778,
              "#fb9f3a"
             ],
             [
              0.8888888888888888,
              "#fdca26"
             ],
             [
              1,
              "#f0f921"
             ]
            ],
            "type": "surface"
           }
          ],
          "table": [
           {
            "cells": {
             "fill": {
              "color": "#EBF0F8"
             },
             "line": {
              "color": "white"
             }
            },
            "header": {
             "fill": {
              "color": "#C8D4E3"
             },
             "line": {
              "color": "white"
             }
            },
            "type": "table"
           }
          ]
         },
         "layout": {
          "annotationdefaults": {
           "arrowcolor": "#2a3f5f",
           "arrowhead": 0,
           "arrowwidth": 1
          },
          "autotypenumbers": "strict",
          "coloraxis": {
           "colorbar": {
            "outlinewidth": 0,
            "ticks": ""
           }
          },
          "colorscale": {
           "diverging": [
            [
             0,
             "#8e0152"
            ],
            [
             0.1,
             "#c51b7d"
            ],
            [
             0.2,
             "#de77ae"
            ],
            [
             0.3,
             "#f1b6da"
            ],
            [
             0.4,
             "#fde0ef"
            ],
            [
             0.5,
             "#f7f7f7"
            ],
            [
             0.6,
             "#e6f5d0"
            ],
            [
             0.7,
             "#b8e186"
            ],
            [
             0.8,
             "#7fbc41"
            ],
            [
             0.9,
             "#4d9221"
            ],
            [
             1,
             "#276419"
            ]
           ],
           "sequential": [
            [
             0,
             "#0d0887"
            ],
            [
             0.1111111111111111,
             "#46039f"
            ],
            [
             0.2222222222222222,
             "#7201a8"
            ],
            [
             0.3333333333333333,
             "#9c179e"
            ],
            [
             0.4444444444444444,
             "#bd3786"
            ],
            [
             0.5555555555555556,
             "#d8576b"
            ],
            [
             0.6666666666666666,
             "#ed7953"
            ],
            [
             0.7777777777777778,
             "#fb9f3a"
            ],
            [
             0.8888888888888888,
             "#fdca26"
            ],
            [
             1,
             "#f0f921"
            ]
           ],
           "sequentialminus": [
            [
             0,
             "#0d0887"
            ],
            [
             0.1111111111111111,
             "#46039f"
            ],
            [
             0.2222222222222222,
             "#7201a8"
            ],
            [
             0.3333333333333333,
             "#9c179e"
            ],
            [
             0.4444444444444444,
             "#bd3786"
            ],
            [
             0.5555555555555556,
             "#d8576b"
            ],
            [
             0.6666666666666666,
             "#ed7953"
            ],
            [
             0.7777777777777778,
             "#fb9f3a"
            ],
            [
             0.8888888888888888,
             "#fdca26"
            ],
            [
             1,
             "#f0f921"
            ]
           ]
          },
          "colorway": [
           "#636efa",
           "#EF553B",
           "#00cc96",
           "#ab63fa",
           "#FFA15A",
           "#19d3f3",
           "#FF6692",
           "#B6E880",
           "#FF97FF",
           "#FECB52"
          ],
          "font": {
           "color": "#2a3f5f"
          },
          "geo": {
           "bgcolor": "white",
           "lakecolor": "white",
           "landcolor": "#E5ECF6",
           "showlakes": true,
           "showland": true,
           "subunitcolor": "white"
          },
          "hoverlabel": {
           "align": "left"
          },
          "hovermode": "closest",
          "mapbox": {
           "style": "light"
          },
          "paper_bgcolor": "white",
          "plot_bgcolor": "#E5ECF6",
          "polar": {
           "angularaxis": {
            "gridcolor": "white",
            "linecolor": "white",
            "ticks": ""
           },
           "bgcolor": "#E5ECF6",
           "radialaxis": {
            "gridcolor": "white",
            "linecolor": "white",
            "ticks": ""
           }
          },
          "scene": {
           "xaxis": {
            "backgroundcolor": "#E5ECF6",
            "gridcolor": "white",
            "gridwidth": 2,
            "linecolor": "white",
            "showbackground": true,
            "ticks": "",
            "zerolinecolor": "white"
           },
           "yaxis": {
            "backgroundcolor": "#E5ECF6",
            "gridcolor": "white",
            "gridwidth": 2,
            "linecolor": "white",
            "showbackground": true,
            "ticks": "",
            "zerolinecolor": "white"
           },
           "zaxis": {
            "backgroundcolor": "#E5ECF6",
            "gridcolor": "white",
            "gridwidth": 2,
            "linecolor": "white",
            "showbackground": true,
            "ticks": "",
            "zerolinecolor": "white"
           }
          },
          "shapedefaults": {
           "line": {
            "color": "#2a3f5f"
           }
          },
          "ternary": {
           "aaxis": {
            "gridcolor": "white",
            "linecolor": "white",
            "ticks": ""
           },
           "baxis": {
            "gridcolor": "white",
            "linecolor": "white",
            "ticks": ""
           },
           "bgcolor": "#E5ECF6",
           "caxis": {
            "gridcolor": "white",
            "linecolor": "white",
            "ticks": ""
           }
          },
          "title": {
           "x": 0.05
          },
          "xaxis": {
           "automargin": true,
           "gridcolor": "white",
           "linecolor": "white",
           "ticks": "",
           "title": {
            "standoff": 15
           },
           "zerolinecolor": "white",
           "zerolinewidth": 2
          },
          "yaxis": {
           "automargin": true,
           "gridcolor": "white",
           "linecolor": "white",
           "ticks": "",
           "title": {
            "standoff": 15
           },
           "zerolinecolor": "white",
           "zerolinewidth": 2
          }
         }
        },
        "title": {
         "text": "Age distribution in boxing teams"
        },
        "violinmode": "overlay",
        "xaxis": {
         "anchor": "y",
         "categoryarray": [
          "Uzbekistan",
          "Puerto Rico",
          "Morocco",
          "Cuba",
          "Poland",
          "Great Britain",
          "United States",
          "Sweden",
          "Finland",
          "Syria",
          "Romania",
          "Algeria",
          "Russia",
          "Egypt",
          "Ghana",
          "South Korea",
          "Bulgaria",
          "Guyana",
          "France",
          "Brazil",
          "Belarus",
          "Kazakhstan",
          "South Africa",
          "Azerbaijan",
          "Italy",
          "Argentina",
          "Turkey",
          "East Germany",
          "Australasia",
          "Soviet Union",
          "Ireland",
          "Chile",
          "New Zealand",
          "Germany",
          "Belgium",
          "Mexico",
          "Hungary",
          "Ukraine",
          "Cameroon",
          "Kenya",
          "Venezuela",
          "Thailand",
          "Georgia",
          "Australia",
          "North Korea",
          "Tajikistan",
          "Niger",
          "Canada",
          "Netherlands",
          "Dominican Republic",
          "Nigeria",
          "Mongolia",
          "United Arab Republic",
          "Czechoslovakia",
          "Tunisia",
          "West Germany",
          "Moldova",
          "China",
          "Bermuda",
          "Croatia",
          "Pakistan",
          "Armenia",
          "Denmark",
          "Yugoslavia",
          "Mauritius",
          "Colombia",
          "India",
          "Czech Republic",
          "Spain",
          "Japan",
          "Uganda",
          "Zambia",
          "Norway",
          "Unified Team",
          "Lithuania",
          "Uruguay",
          "Philippines",
          "Estonia",
          "Tonga"
         ],
         "categoryorder": "array",
         "domain": [
          0,
          1
         ],
         "title": {
          "text": "Team"
         }
        },
        "yaxis": {
         "anchor": "x",
         "domain": [
          0,
          1
         ],
         "title": {
          "text": "Age"
         }
        }
       }
      }
     },
     "metadata": {},
     "output_type": "display_data"
    }
   ],
   "source": [
    "# violin plot\n",
    "fig = px.violin(\n",
    "    df_boxing,\n",
    "    x=\"Team\",\n",
    "    y=\"Age\",\n",
    "    color=\"Team\",\n",
    "    title=\"Age distribution in boxing teams\",\n",
    ")\n",
    "fig.show()"
   ]
  },
  {
   "cell_type": "code",
   "execution_count": 727,
   "metadata": {},
   "outputs": [],
   "source": [
    "# sort by land that won most medals\n",
    "# medel värde till gold medal \n",
    "# kön fördelning "
   ]
  },
  {
   "cell_type": "code",
   "execution_count": 728,
   "metadata": {},
   "outputs": [],
   "source": [
    "# # i main när en callback funktion körs för att ändra inställning på grafen:\n",
    "# # (detta händer alltså varje gång någon klickar på en knapp som ändrar inställningar)\n",
    "\n",
    "# # exempel på variabler för att ändra på grafen:\n",
    "# x, y = \"År\", \"Antal Deltagare\"\n",
    "# sortering, log = (\"Summer\", \"\"), False\n",
    "# title = f\"{y} per {x}\"\n",
    "\n",
    "# data = df[df[\"Årstid\"].isin([*sortering])] # dataframen sorteras enligt någon variabel\n",
    "# px.bar(data, x = x, y = y, log_y = log, title = title) # grafen plottas med specifika series för x och y (notera att vi också kan modifiera data här)"
   ]
  },
  {
   "cell_type": "code",
   "execution_count": 729,
   "metadata": {},
   "outputs": [
    {
     "data": {
      "text/html": [
       "<div>\n",
       "<style scoped>\n",
       "    .dataframe tbody tr th:only-of-type {\n",
       "        vertical-align: middle;\n",
       "    }\n",
       "\n",
       "    .dataframe tbody tr th {\n",
       "        vertical-align: top;\n",
       "    }\n",
       "\n",
       "    .dataframe thead th {\n",
       "        text-align: right;\n",
       "    }\n",
       "</style>\n",
       "<table border=\"1\" class=\"dataframe\">\n",
       "  <thead>\n",
       "    <tr style=\"text-align: right;\">\n",
       "      <th></th>\n",
       "      <th>ID</th>\n",
       "      <th>Name</th>\n",
       "      <th>Sex</th>\n",
       "      <th>Age</th>\n",
       "      <th>Height</th>\n",
       "      <th>Weight</th>\n",
       "      <th>Team</th>\n",
       "      <th>NOC</th>\n",
       "      <th>Games</th>\n",
       "      <th>Year</th>\n",
       "      <th>Season</th>\n",
       "      <th>City</th>\n",
       "      <th>Sport</th>\n",
       "      <th>Event</th>\n",
       "      <th>Medal</th>\n",
       "    </tr>\n",
       "  </thead>\n",
       "  <tbody>\n",
       "    <tr>\n",
       "      <th>0</th>\n",
       "      <td>1</td>\n",
       "      <td>A Dijiang</td>\n",
       "      <td>M</td>\n",
       "      <td>24</td>\n",
       "      <td>180.0</td>\n",
       "      <td>80.0</td>\n",
       "      <td>China</td>\n",
       "      <td>CHN</td>\n",
       "      <td>1992 Summer</td>\n",
       "      <td>1992</td>\n",
       "      <td>Summer</td>\n",
       "      <td>Barcelona</td>\n",
       "      <td>Basketball</td>\n",
       "      <td>Basketball Men's Basketball</td>\n",
       "      <td>NaN</td>\n",
       "    </tr>\n",
       "    <tr>\n",
       "      <th>11</th>\n",
       "      <td>69</td>\n",
       "      <td>Tamara Abalde Daz</td>\n",
       "      <td>F</td>\n",
       "      <td>19</td>\n",
       "      <td>185.0</td>\n",
       "      <td>72.0</td>\n",
       "      <td>Spain</td>\n",
       "      <td>ESP</td>\n",
       "      <td>2008 Summer</td>\n",
       "      <td>2008</td>\n",
       "      <td>Summer</td>\n",
       "      <td>Beijing</td>\n",
       "      <td>Basketball</td>\n",
       "      <td>Basketball Women's Basketball</td>\n",
       "      <td>NaN</td>\n",
       "    </tr>\n",
       "    <tr>\n",
       "      <th>23</th>\n",
       "      <td>124</td>\n",
       "      <td>Youssef Mohamed Abbas</td>\n",
       "      <td>M</td>\n",
       "      <td>31</td>\n",
       "      <td>NaN</td>\n",
       "      <td>NaN</td>\n",
       "      <td>Egypt</td>\n",
       "      <td>EGY</td>\n",
       "      <td>1952 Summer</td>\n",
       "      <td>1952</td>\n",
       "      <td>Summer</td>\n",
       "      <td>Helsinki</td>\n",
       "      <td>Basketball</td>\n",
       "      <td>Basketball Men's Basketball</td>\n",
       "      <td>NaN</td>\n",
       "    </tr>\n",
       "    <tr>\n",
       "      <th>25</th>\n",
       "      <td>136</td>\n",
       "      <td>Alessandro Abbio</td>\n",
       "      <td>M</td>\n",
       "      <td>29</td>\n",
       "      <td>195.0</td>\n",
       "      <td>85.0</td>\n",
       "      <td>Italy</td>\n",
       "      <td>ITA</td>\n",
       "      <td>2000 Summer</td>\n",
       "      <td>2000</td>\n",
       "      <td>Summer</td>\n",
       "      <td>Sydney</td>\n",
       "      <td>Basketball</td>\n",
       "      <td>Basketball Men's Basketball</td>\n",
       "      <td>NaN</td>\n",
       "    </tr>\n",
       "    <tr>\n",
       "      <th>33</th>\n",
       "      <td>192</td>\n",
       "      <td>Ahmed El-Sayed Abdel Hamid Mobarak</td>\n",
       "      <td>M</td>\n",
       "      <td>25</td>\n",
       "      <td>189.0</td>\n",
       "      <td>85.0</td>\n",
       "      <td>Egypt</td>\n",
       "      <td>EGY</td>\n",
       "      <td>1972 Summer</td>\n",
       "      <td>1972</td>\n",
       "      <td>Summer</td>\n",
       "      <td>Munich</td>\n",
       "      <td>Basketball</td>\n",
       "      <td>Basketball Men's Basketball</td>\n",
       "      <td>NaN</td>\n",
       "    </tr>\n",
       "  </tbody>\n",
       "</table>\n",
       "</div>"
      ],
      "text/plain": [
       "     ID                                Name Sex  Age  Height  Weight   Team  \\\n",
       "0     1                           A Dijiang   M   24   180.0    80.0  China   \n",
       "11   69                   Tamara Abalde Daz   F   19   185.0    72.0  Spain   \n",
       "23  124               Youssef Mohamed Abbas   M   31     NaN     NaN  Egypt   \n",
       "25  136                    Alessandro Abbio   M   29   195.0    85.0  Italy   \n",
       "33  192  Ahmed El-Sayed Abdel Hamid Mobarak   M   25   189.0    85.0  Egypt   \n",
       "\n",
       "    NOC        Games  Year  Season       City       Sport  \\\n",
       "0   CHN  1992 Summer  1992  Summer  Barcelona  Basketball   \n",
       "11  ESP  2008 Summer  2008  Summer    Beijing  Basketball   \n",
       "23  EGY  1952 Summer  1952  Summer   Helsinki  Basketball   \n",
       "25  ITA  2000 Summer  2000  Summer     Sydney  Basketball   \n",
       "33  EGY  1972 Summer  1972  Summer     Munich  Basketball   \n",
       "\n",
       "                            Event Medal  \n",
       "0     Basketball Men's Basketball   NaN  \n",
       "11  Basketball Women's Basketball   NaN  \n",
       "23    Basketball Men's Basketball   NaN  \n",
       "25    Basketball Men's Basketball   NaN  \n",
       "33    Basketball Men's Basketball   NaN  "
      ]
     },
     "execution_count": 729,
     "metadata": {},
     "output_type": "execute_result"
    }
   ],
   "source": [
    "df_basketball = df_sports[df_sports[\"Sport\"] == \"Basketball\"]\n",
    "df_basketball.head()"
   ]
  },
  {
   "cell_type": "code",
   "execution_count": 730,
   "metadata": {},
   "outputs": [
    {
     "data": {
      "text/html": [
       "<div>\n",
       "<style scoped>\n",
       "    .dataframe tbody tr th:only-of-type {\n",
       "        vertical-align: middle;\n",
       "    }\n",
       "\n",
       "    .dataframe tbody tr th {\n",
       "        vertical-align: top;\n",
       "    }\n",
       "\n",
       "    .dataframe thead th {\n",
       "        text-align: right;\n",
       "    }\n",
       "</style>\n",
       "<table border=\"1\" class=\"dataframe\">\n",
       "  <thead>\n",
       "    <tr style=\"text-align: right;\">\n",
       "      <th></th>\n",
       "      <th>ID</th>\n",
       "      <th>Name</th>\n",
       "      <th>Sex</th>\n",
       "      <th>Age</th>\n",
       "      <th>Height</th>\n",
       "      <th>Weight</th>\n",
       "      <th>Team</th>\n",
       "      <th>NOC</th>\n",
       "      <th>Games</th>\n",
       "      <th>Year</th>\n",
       "      <th>Season</th>\n",
       "      <th>City</th>\n",
       "      <th>Sport</th>\n",
       "      <th>Event</th>\n",
       "      <th>Medal</th>\n",
       "    </tr>\n",
       "  </thead>\n",
       "  <tbody>\n",
       "    <tr>\n",
       "      <th>73</th>\n",
       "      <td>351</td>\n",
       "      <td>Julius Shareef Abdur-Rahim</td>\n",
       "      <td>M</td>\n",
       "      <td>23</td>\n",
       "      <td>202.0</td>\n",
       "      <td>104.0</td>\n",
       "      <td>United States</td>\n",
       "      <td>USA</td>\n",
       "      <td>2000 Summer</td>\n",
       "      <td>2000</td>\n",
       "      <td>Summer</td>\n",
       "      <td>Sydney</td>\n",
       "      <td>Basketball</td>\n",
       "      <td>Basketball Men's Basketball</td>\n",
       "      <td>Gold</td>\n",
       "    </tr>\n",
       "    <tr>\n",
       "      <th>122</th>\n",
       "      <td>576</td>\n",
       "      <td>Alejandro \"lex\" Abrines Redondo</td>\n",
       "      <td>M</td>\n",
       "      <td>23</td>\n",
       "      <td>198.0</td>\n",
       "      <td>93.0</td>\n",
       "      <td>Spain</td>\n",
       "      <td>ESP</td>\n",
       "      <td>2016 Summer</td>\n",
       "      <td>2016</td>\n",
       "      <td>Summer</td>\n",
       "      <td>Rio de Janeiro</td>\n",
       "      <td>Basketball</td>\n",
       "      <td>Basketball Men's Basketball</td>\n",
       "      <td>Bronze</td>\n",
       "    </tr>\n",
       "    <tr>\n",
       "      <th>124</th>\n",
       "      <td>580</td>\n",
       "      <td>Svetlana Olegovna Abrosimova</td>\n",
       "      <td>F</td>\n",
       "      <td>28</td>\n",
       "      <td>188.0</td>\n",
       "      <td>77.0</td>\n",
       "      <td>Russia</td>\n",
       "      <td>RUS</td>\n",
       "      <td>2008 Summer</td>\n",
       "      <td>2008</td>\n",
       "      <td>Summer</td>\n",
       "      <td>Beijing</td>\n",
       "      <td>Basketball</td>\n",
       "      <td>Basketball Women's Basketball</td>\n",
       "      <td>Bronze</td>\n",
       "    </tr>\n",
       "    <tr>\n",
       "      <th>152</th>\n",
       "      <td>727</td>\n",
       "      <td>Martn Ral Acosta y Lara Daz</td>\n",
       "      <td>M</td>\n",
       "      <td>27</td>\n",
       "      <td>NaN</td>\n",
       "      <td>NaN</td>\n",
       "      <td>Uruguay</td>\n",
       "      <td>URU</td>\n",
       "      <td>1952 Summer</td>\n",
       "      <td>1952</td>\n",
       "      <td>Summer</td>\n",
       "      <td>Helsinki</td>\n",
       "      <td>Basketball</td>\n",
       "      <td>Basketball Men's Basketball</td>\n",
       "      <td>Bronze</td>\n",
       "    </tr>\n",
       "    <tr>\n",
       "      <th>206</th>\n",
       "      <td>1000</td>\n",
       "      <td>Dainius Adomaitis</td>\n",
       "      <td>M</td>\n",
       "      <td>26</td>\n",
       "      <td>202.0</td>\n",
       "      <td>100.0</td>\n",
       "      <td>Lithuania</td>\n",
       "      <td>LTU</td>\n",
       "      <td>2000 Summer</td>\n",
       "      <td>2000</td>\n",
       "      <td>Summer</td>\n",
       "      <td>Sydney</td>\n",
       "      <td>Basketball</td>\n",
       "      <td>Basketball Men's Basketball</td>\n",
       "      <td>Bronze</td>\n",
       "    </tr>\n",
       "    <tr>\n",
       "      <th>...</th>\n",
       "      <td>...</td>\n",
       "      <td>...</td>\n",
       "      <td>...</td>\n",
       "      <td>...</td>\n",
       "      <td>...</td>\n",
       "      <td>...</td>\n",
       "      <td>...</td>\n",
       "      <td>...</td>\n",
       "      <td>...</td>\n",
       "      <td>...</td>\n",
       "      <td>...</td>\n",
       "      <td>...</td>\n",
       "      <td>...</td>\n",
       "      <td>...</td>\n",
       "      <td>...</td>\n",
       "    </tr>\n",
       "    <tr>\n",
       "      <th>22802</th>\n",
       "      <td>135345</td>\n",
       "      <td>Viktor Alekseyevich Zubkov</td>\n",
       "      <td>M</td>\n",
       "      <td>19</td>\n",
       "      <td>202.0</td>\n",
       "      <td>88.0</td>\n",
       "      <td>Soviet Union</td>\n",
       "      <td>URS</td>\n",
       "      <td>1956 Summer</td>\n",
       "      <td>1956</td>\n",
       "      <td>Summer</td>\n",
       "      <td>Melbourne</td>\n",
       "      <td>Basketball</td>\n",
       "      <td>Basketball Men's Basketball</td>\n",
       "      <td>Silver</td>\n",
       "    </tr>\n",
       "    <tr>\n",
       "      <th>22803</th>\n",
       "      <td>135345</td>\n",
       "      <td>Viktor Alekseyevich Zubkov</td>\n",
       "      <td>M</td>\n",
       "      <td>23</td>\n",
       "      <td>202.0</td>\n",
       "      <td>88.0</td>\n",
       "      <td>Soviet Union</td>\n",
       "      <td>URS</td>\n",
       "      <td>1960 Summer</td>\n",
       "      <td>1960</td>\n",
       "      <td>Summer</td>\n",
       "      <td>Roma</td>\n",
       "      <td>Basketball</td>\n",
       "      <td>Basketball Men's Basketball</td>\n",
       "      <td>Silver</td>\n",
       "    </tr>\n",
       "    <tr>\n",
       "      <th>22816</th>\n",
       "      <td>135401</td>\n",
       "      <td>Eurelijus ukauskas</td>\n",
       "      <td>M</td>\n",
       "      <td>22</td>\n",
       "      <td>218.0</td>\n",
       "      <td>115.0</td>\n",
       "      <td>Lithuania</td>\n",
       "      <td>LTU</td>\n",
       "      <td>1996 Summer</td>\n",
       "      <td>1996</td>\n",
       "      <td>Summer</td>\n",
       "      <td>Atlanta</td>\n",
       "      <td>Basketball</td>\n",
       "      <td>Basketball Men's Basketball</td>\n",
       "      <td>Bronze</td>\n",
       "    </tr>\n",
       "    <tr>\n",
       "      <th>22817</th>\n",
       "      <td>135401</td>\n",
       "      <td>Eurelijus ukauskas</td>\n",
       "      <td>M</td>\n",
       "      <td>27</td>\n",
       "      <td>218.0</td>\n",
       "      <td>115.0</td>\n",
       "      <td>Lithuania</td>\n",
       "      <td>LTU</td>\n",
       "      <td>2000 Summer</td>\n",
       "      <td>2000</td>\n",
       "      <td>Summer</td>\n",
       "      <td>Sydney</td>\n",
       "      <td>Basketball</td>\n",
       "      <td>Basketball Men's Basketball</td>\n",
       "      <td>Bronze</td>\n",
       "    </tr>\n",
       "    <tr>\n",
       "      <th>22819</th>\n",
       "      <td>135402</td>\n",
       "      <td>Mindaugas ukauskas</td>\n",
       "      <td>M</td>\n",
       "      <td>20</td>\n",
       "      <td>201.0</td>\n",
       "      <td>100.0</td>\n",
       "      <td>Lithuania</td>\n",
       "      <td>LTU</td>\n",
       "      <td>1996 Summer</td>\n",
       "      <td>1996</td>\n",
       "      <td>Summer</td>\n",
       "      <td>Atlanta</td>\n",
       "      <td>Basketball</td>\n",
       "      <td>Basketball Men's Basketball</td>\n",
       "      <td>Bronze</td>\n",
       "    </tr>\n",
       "  </tbody>\n",
       "</table>\n",
       "<p>1080 rows × 15 columns</p>\n",
       "</div>"
      ],
      "text/plain": [
       "           ID                             Name Sex  Age  Height  Weight  \\\n",
       "73        351       Julius Shareef Abdur-Rahim   M   23   202.0   104.0   \n",
       "122       576  Alejandro \"lex\" Abrines Redondo   M   23   198.0    93.0   \n",
       "124       580     Svetlana Olegovna Abrosimova   F   28   188.0    77.0   \n",
       "152       727      Martn Ral Acosta y Lara Daz   M   27     NaN     NaN   \n",
       "206      1000                Dainius Adomaitis   M   26   202.0   100.0   \n",
       "...       ...                              ...  ..  ...     ...     ...   \n",
       "22802  135345       Viktor Alekseyevich Zubkov   M   19   202.0    88.0   \n",
       "22803  135345       Viktor Alekseyevich Zubkov   M   23   202.0    88.0   \n",
       "22816  135401               Eurelijus ukauskas   M   22   218.0   115.0   \n",
       "22817  135401               Eurelijus ukauskas   M   27   218.0   115.0   \n",
       "22819  135402               Mindaugas ukauskas   M   20   201.0   100.0   \n",
       "\n",
       "                Team  NOC        Games  Year  Season            City  \\\n",
       "73     United States  USA  2000 Summer  2000  Summer          Sydney   \n",
       "122            Spain  ESP  2016 Summer  2016  Summer  Rio de Janeiro   \n",
       "124           Russia  RUS  2008 Summer  2008  Summer         Beijing   \n",
       "152          Uruguay  URU  1952 Summer  1952  Summer        Helsinki   \n",
       "206        Lithuania  LTU  2000 Summer  2000  Summer          Sydney   \n",
       "...              ...  ...          ...   ...     ...             ...   \n",
       "22802   Soviet Union  URS  1956 Summer  1956  Summer       Melbourne   \n",
       "22803   Soviet Union  URS  1960 Summer  1960  Summer            Roma   \n",
       "22816      Lithuania  LTU  1996 Summer  1996  Summer         Atlanta   \n",
       "22817      Lithuania  LTU  2000 Summer  2000  Summer          Sydney   \n",
       "22819      Lithuania  LTU  1996 Summer  1996  Summer         Atlanta   \n",
       "\n",
       "            Sport                          Event   Medal  \n",
       "73     Basketball    Basketball Men's Basketball    Gold  \n",
       "122    Basketball    Basketball Men's Basketball  Bronze  \n",
       "124    Basketball  Basketball Women's Basketball  Bronze  \n",
       "152    Basketball    Basketball Men's Basketball  Bronze  \n",
       "206    Basketball    Basketball Men's Basketball  Bronze  \n",
       "...           ...                            ...     ...  \n",
       "22802  Basketball    Basketball Men's Basketball  Silver  \n",
       "22803  Basketball    Basketball Men's Basketball  Silver  \n",
       "22816  Basketball    Basketball Men's Basketball  Bronze  \n",
       "22817  Basketball    Basketball Men's Basketball  Bronze  \n",
       "22819  Basketball    Basketball Men's Basketball  Bronze  \n",
       "\n",
       "[1080 rows x 15 columns]"
      ]
     },
     "execution_count": 730,
     "metadata": {},
     "output_type": "execute_result"
    }
   ],
   "source": [
    "# remove all nan rows in the Medal column\n",
    "df_basketball = df_basketball[df_basketball[\"Medal\"].notna()]\n",
    "df_basketball"
   ]
  },
  {
   "cell_type": "code",
   "execution_count": 731,
   "metadata": {},
   "outputs": [
    {
     "name": "stdout",
     "output_type": "stream",
     "text": [
      "The percentage of athletes with no height is 5.19%, and the percentage of athletes with no weight is 7.41%.\n"
     ]
    }
   ],
   "source": [
    "# how many nan values in height and weight?\n",
    "height_basketball = df_basketball[\"Height\"].isnull().sum() \n",
    "weight_basketball = df_basketball[\"Weight\"].isnull().sum()\n",
    "no_height_percentage = round(height_basketball / len(df_basketball) * 100, 2)\n",
    "no_weight_percentage = round(weight_basketball / len(df_basketball) * 100, 2)\n",
    "print(f\"The percentage of athletes with no height is {no_height_percentage}%, and the percentage of athletes with no weight is {no_weight_percentage}%.\")"
   ]
  },
  {
   "cell_type": "code",
   "execution_count": 750,
   "metadata": {},
   "outputs": [
    {
     "data": {
      "text/html": [
       "<div>\n",
       "<style scoped>\n",
       "    .dataframe tbody tr th:only-of-type {\n",
       "        vertical-align: middle;\n",
       "    }\n",
       "\n",
       "    .dataframe tbody tr th {\n",
       "        vertical-align: top;\n",
       "    }\n",
       "\n",
       "    .dataframe thead th {\n",
       "        text-align: right;\n",
       "    }\n",
       "</style>\n",
       "<table border=\"1\" class=\"dataframe\">\n",
       "  <thead>\n",
       "    <tr style=\"text-align: right;\">\n",
       "      <th></th>\n",
       "      <th>ID</th>\n",
       "      <th>Name</th>\n",
       "      <th>Sex</th>\n",
       "      <th>Age</th>\n",
       "      <th>Height</th>\n",
       "      <th>Weight</th>\n",
       "      <th>Team</th>\n",
       "      <th>NOC</th>\n",
       "      <th>Games</th>\n",
       "      <th>Year</th>\n",
       "      <th>Season</th>\n",
       "      <th>City</th>\n",
       "      <th>Sport</th>\n",
       "      <th>Event</th>\n",
       "      <th>Medal</th>\n",
       "    </tr>\n",
       "  </thead>\n",
       "  <tbody>\n",
       "    <tr>\n",
       "      <th>326</th>\n",
       "      <td>1530</td>\n",
       "      <td>Gordon \"Gord\" Aitchison</td>\n",
       "      <td>M</td>\n",
       "      <td>27</td>\n",
       "      <td>191</td>\n",
       "      <td>86</td>\n",
       "      <td>Canada</td>\n",
       "      <td>CAN</td>\n",
       "      <td>1936 Summer</td>\n",
       "      <td>1936</td>\n",
       "      <td>Summer</td>\n",
       "      <td>Berlin</td>\n",
       "      <td>Basketball</td>\n",
       "      <td>Basketball Men's Basketball</td>\n",
       "      <td>Silver</td>\n",
       "    </tr>\n",
       "    <tr>\n",
       "      <th>589</th>\n",
       "      <td>2909</td>\n",
       "      <td>Ian Alistair \"Al\" Allison</td>\n",
       "      <td>M</td>\n",
       "      <td>27</td>\n",
       "      <td>191</td>\n",
       "      <td>86</td>\n",
       "      <td>Canada</td>\n",
       "      <td>CAN</td>\n",
       "      <td>1936 Summer</td>\n",
       "      <td>1936</td>\n",
       "      <td>Summer</td>\n",
       "      <td>Berlin</td>\n",
       "      <td>Basketball</td>\n",
       "      <td>Basketball Men's Basketball</td>\n",
       "      <td>Silver</td>\n",
       "    </tr>\n",
       "    <tr>\n",
       "      <th>3466</th>\n",
       "      <td>19836</td>\n",
       "      <td>Arthur St. Clair \"Art\" Chapman</td>\n",
       "      <td>M</td>\n",
       "      <td>23</td>\n",
       "      <td>191</td>\n",
       "      <td>86</td>\n",
       "      <td>Canada</td>\n",
       "      <td>CAN</td>\n",
       "      <td>1936 Summer</td>\n",
       "      <td>1936</td>\n",
       "      <td>Summer</td>\n",
       "      <td>Berlin</td>\n",
       "      <td>Basketball</td>\n",
       "      <td>Basketball Men's Basketball</td>\n",
       "      <td>Silver</td>\n",
       "    </tr>\n",
       "    <tr>\n",
       "      <th>3469</th>\n",
       "      <td>19838</td>\n",
       "      <td>Charles Winston \"Chuck\" Chapman</td>\n",
       "      <td>M</td>\n",
       "      <td>25</td>\n",
       "      <td>188</td>\n",
       "      <td>86</td>\n",
       "      <td>Canada</td>\n",
       "      <td>CAN</td>\n",
       "      <td>1936 Summer</td>\n",
       "      <td>1936</td>\n",
       "      <td>Summer</td>\n",
       "      <td>Berlin</td>\n",
       "      <td>Basketball</td>\n",
       "      <td>Basketball Men's Basketball</td>\n",
       "      <td>Silver</td>\n",
       "    </tr>\n",
       "    <tr>\n",
       "      <th>4440</th>\n",
       "      <td>25790</td>\n",
       "      <td>Edward John \"Ed\" Dawson</td>\n",
       "      <td>M</td>\n",
       "      <td>28</td>\n",
       "      <td>191</td>\n",
       "      <td>86</td>\n",
       "      <td>Canada</td>\n",
       "      <td>CAN</td>\n",
       "      <td>1936 Summer</td>\n",
       "      <td>1936</td>\n",
       "      <td>Summer</td>\n",
       "      <td>Berlin</td>\n",
       "      <td>Basketball</td>\n",
       "      <td>Basketball Men's Basketball</td>\n",
       "      <td>Silver</td>\n",
       "    </tr>\n",
       "    <tr>\n",
       "      <th>13244</th>\n",
       "      <td>78873</td>\n",
       "      <td>Irving \"Toots\" Meretsky</td>\n",
       "      <td>M</td>\n",
       "      <td>24</td>\n",
       "      <td>191</td>\n",
       "      <td>86</td>\n",
       "      <td>Canada</td>\n",
       "      <td>CAN</td>\n",
       "      <td>1936 Summer</td>\n",
       "      <td>1936</td>\n",
       "      <td>Summer</td>\n",
       "      <td>Berlin</td>\n",
       "      <td>Basketball</td>\n",
       "      <td>Basketball Men's Basketball</td>\n",
       "      <td>Silver</td>\n",
       "    </tr>\n",
       "    <tr>\n",
       "      <th>15774</th>\n",
       "      <td>92595</td>\n",
       "      <td>James Douglas \"Doug\" Peden</td>\n",
       "      <td>M</td>\n",
       "      <td>20</td>\n",
       "      <td>183</td>\n",
       "      <td>86</td>\n",
       "      <td>Canada</td>\n",
       "      <td>CAN</td>\n",
       "      <td>1936 Summer</td>\n",
       "      <td>1936</td>\n",
       "      <td>Summer</td>\n",
       "      <td>Berlin</td>\n",
       "      <td>Basketball</td>\n",
       "      <td>Basketball Men's Basketball</td>\n",
       "      <td>Silver</td>\n",
       "    </tr>\n",
       "    <tr>\n",
       "      <th>19640</th>\n",
       "      <td>115153</td>\n",
       "      <td>James \"Jimmy\" Stewart</td>\n",
       "      <td>M</td>\n",
       "      <td>26</td>\n",
       "      <td>191</td>\n",
       "      <td>86</td>\n",
       "      <td>Canada</td>\n",
       "      <td>CAN</td>\n",
       "      <td>1936 Summer</td>\n",
       "      <td>1936</td>\n",
       "      <td>Summer</td>\n",
       "      <td>Berlin</td>\n",
       "      <td>Basketball</td>\n",
       "      <td>Basketball Men's Basketball</td>\n",
       "      <td>Silver</td>\n",
       "    </tr>\n",
       "    <tr>\n",
       "      <th>22122</th>\n",
       "      <td>131117</td>\n",
       "      <td>Malcolm Edward \"Red\" Wiseman</td>\n",
       "      <td>M</td>\n",
       "      <td>23</td>\n",
       "      <td>191</td>\n",
       "      <td>86</td>\n",
       "      <td>Canada</td>\n",
       "      <td>CAN</td>\n",
       "      <td>1936 Summer</td>\n",
       "      <td>1936</td>\n",
       "      <td>Summer</td>\n",
       "      <td>Berlin</td>\n",
       "      <td>Basketball</td>\n",
       "      <td>Basketball Men's Basketball</td>\n",
       "      <td>Silver</td>\n",
       "    </tr>\n",
       "  </tbody>\n",
       "</table>\n",
       "</div>"
      ],
      "text/plain": [
       "           ID                             Name Sex  Age  Height  Weight  \\\n",
       "326      1530          Gordon \"Gord\" Aitchison   M   27     191      86   \n",
       "589      2909        Ian Alistair \"Al\" Allison   M   27     191      86   \n",
       "3466    19836   Arthur St. Clair \"Art\" Chapman   M   23     191      86   \n",
       "3469    19838  Charles Winston \"Chuck\" Chapman   M   25     188      86   \n",
       "4440    25790          Edward John \"Ed\" Dawson   M   28     191      86   \n",
       "13244   78873          Irving \"Toots\" Meretsky   M   24     191      86   \n",
       "15774   92595       James Douglas \"Doug\" Peden   M   20     183      86   \n",
       "19640  115153            James \"Jimmy\" Stewart   M   26     191      86   \n",
       "22122  131117     Malcolm Edward \"Red\" Wiseman   M   23     191      86   \n",
       "\n",
       "         Team  NOC        Games  Year  Season    City       Sport  \\\n",
       "326    Canada  CAN  1936 Summer  1936  Summer  Berlin  Basketball   \n",
       "589    Canada  CAN  1936 Summer  1936  Summer  Berlin  Basketball   \n",
       "3466   Canada  CAN  1936 Summer  1936  Summer  Berlin  Basketball   \n",
       "3469   Canada  CAN  1936 Summer  1936  Summer  Berlin  Basketball   \n",
       "4440   Canada  CAN  1936 Summer  1936  Summer  Berlin  Basketball   \n",
       "13244  Canada  CAN  1936 Summer  1936  Summer  Berlin  Basketball   \n",
       "15774  Canada  CAN  1936 Summer  1936  Summer  Berlin  Basketball   \n",
       "19640  Canada  CAN  1936 Summer  1936  Summer  Berlin  Basketball   \n",
       "22122  Canada  CAN  1936 Summer  1936  Summer  Berlin  Basketball   \n",
       "\n",
       "                             Event   Medal  \n",
       "326    Basketball Men's Basketball  Silver  \n",
       "589    Basketball Men's Basketball  Silver  \n",
       "3466   Basketball Men's Basketball  Silver  \n",
       "3469   Basketball Men's Basketball  Silver  \n",
       "4440   Basketball Men's Basketball  Silver  \n",
       "13244  Basketball Men's Basketball  Silver  \n",
       "15774  Basketball Men's Basketball  Silver  \n",
       "19640  Basketball Men's Basketball  Silver  \n",
       "22122  Basketball Men's Basketball  Silver  "
      ]
     },
     "execution_count": 750,
     "metadata": {},
     "output_type": "execute_result"
    }
   ],
   "source": [
    "# replace all nan values in height and weight with the mean\n",
    "df_basketball[\"Height\"].fillna(df_basketball[\"Height\"].mean(), inplace=True)\n",
    "df_basketball[\"Weight\"].fillna(df_basketball[\"Weight\"].mean(), inplace=True)\n",
    "\n",
    "# convert height and weight to int\n",
    "df_basketball[\"Height\"] = df_basketball[\"Height\"].astype(int)\n",
    "df_basketball[\"Weight\"] = df_basketball[\"Weight\"].astype(int)"
   ]
  },
  {
   "cell_type": "code",
   "execution_count": 740,
   "metadata": {},
   "outputs": [
    {
     "data": {
      "application/vnd.plotly.v1+json": {
       "config": {
        "plotlyServerURL": "https://plot.ly"
       },
       "data": [
        {
         "alignmentgroup": "True",
         "bingroup": "x",
         "hovertemplate": "Medal=Gold<br>Team=%{x}<br>count=%{y}<extra></extra>",
         "legendgroup": "Gold",
         "marker": {
          "color": "#636efa",
          "pattern": {
           "shape": ""
          }
         },
         "name": "Gold",
         "offsetgroup": "Gold",
         "orientation": "v",
         "showlegend": true,
         "type": "histogram",
         "x": [
          "United States",
          "United States",
          "United States",
          "United States",
          "United States",
          "United States",
          "United States",
          "United States",
          "United States",
          "United States",
          "United States",
          "United States",
          "United States",
          "United States",
          "Unified Team",
          "United States",
          "United States",
          "United States",
          "United States",
          "United States",
          "United States",
          "United States",
          "Soviet Union",
          "Soviet Union",
          "United States",
          "United States",
          "United States",
          "Soviet Union",
          "Soviet Union",
          "Soviet Union",
          "Soviet Union",
          "United States",
          "United States",
          "United States",
          "United States",
          "United States",
          "United States",
          "Soviet Union",
          "United States",
          "United States",
          "United States",
          "United States",
          "United States",
          "United States",
          "United States",
          "United States",
          "United States",
          "United States",
          "United States",
          "United States",
          "United States",
          "United States",
          "United States",
          "United States",
          "Unified Team",
          "United States",
          "United States",
          "United States",
          "United States",
          "United States",
          "United States",
          "United States",
          "United States",
          "United States",
          "United States",
          "United States",
          "United States",
          "United States",
          "United States",
          "United States",
          "Soviet Union",
          "United States",
          "United States",
          "Yugoslavia",
          "United States",
          "United States",
          "United States",
          "Yugoslavia",
          "United States",
          "United States",
          "Soviet Union",
          "United States",
          "United States",
          "United States",
          "United States",
          "Argentina",
          "Yugoslavia",
          "United States",
          "United States",
          "United States",
          "United States",
          "United States",
          "United States",
          "United States",
          "United States",
          "Soviet Union",
          "United States",
          "United States",
          "United States",
          "United States",
          "United States",
          "United States",
          "United States",
          "United States",
          "Argentina",
          "Soviet Union",
          "Soviet Union",
          "United States",
          "United States",
          "United States",
          "United States",
          "United States",
          "United States",
          "United States",
          "United States",
          "United States",
          "United States",
          "United States",
          "Unified Team",
          "United States",
          "United States",
          "Argentina",
          "United States",
          "United States",
          "United States",
          "United States",
          "United States",
          "United States",
          "United States",
          "United States",
          "Argentina",
          "United States",
          "United States",
          "United States",
          "United States",
          "United States",
          "United States",
          "United States",
          "United States",
          "Argentina",
          "United States",
          "United States",
          "Soviet Union",
          "United States",
          "United States",
          "United States",
          "United States",
          "United States",
          "United States",
          "United States",
          "United States",
          "United States",
          "Soviet Union",
          "United States",
          "United States",
          "United States",
          "United States",
          "Yugoslavia",
          "United States",
          "United States",
          "United States",
          "United States",
          "United States",
          "United States",
          "United States",
          "United States",
          "United States",
          "United States",
          "United States",
          "United States",
          "United States",
          "Unified Team",
          "Yugoslavia",
          "United States",
          "United States",
          "United States",
          "United States",
          "Soviet Union",
          "Yugoslavia",
          "United States",
          "United States",
          "Soviet Union",
          "Soviet Union",
          "Yugoslavia",
          "United States",
          "United States",
          "United States",
          "Soviet Union",
          "Soviet Union",
          "United States",
          "United States",
          "United States",
          "United States",
          "United States",
          "United States",
          "United States",
          "United States",
          "United States",
          "United States",
          "United States",
          "United States",
          "United States",
          "United States",
          "United States",
          "United States",
          "United States",
          "United States",
          "United States",
          "United States",
          "United States",
          "Soviet Union",
          "United States",
          "United States",
          "United States",
          "United States",
          "United States",
          "United States",
          "United States",
          "United States",
          "United States",
          "United States",
          "United States",
          "United States",
          "United States",
          "United States",
          "Soviet Union",
          "United States",
          "United States",
          "United States",
          "United States",
          "Unified Team",
          "United States",
          "Argentina",
          "United States",
          "United States",
          "United States",
          "United States",
          "United States",
          "United States",
          "United States",
          "Yugoslavia",
          "United States",
          "Argentina",
          "Argentina",
          "United States",
          "United States",
          "Soviet Union",
          "Soviet Union",
          "Soviet Union",
          "United States",
          "United States",
          "United States",
          "United States",
          "Soviet Union",
          "United States",
          "United States",
          "United States",
          "United States",
          "United States",
          "United States",
          "United States",
          "United States",
          "Soviet Union",
          "United States",
          "United States",
          "Yugoslavia",
          "United States",
          "United States",
          "United States",
          "United States",
          "United States",
          "United States",
          "United States",
          "United States",
          "United States",
          "United States",
          "Soviet Union",
          "United States",
          "Soviet Union",
          "Soviet Union",
          "United States",
          "Soviet Union",
          "Soviet Union",
          "Argentina",
          "United States",
          "United States",
          "Argentina",
          "Argentina",
          "United States",
          "Soviet Union",
          "Soviet Union",
          "Soviet Union",
          "United States",
          "United States",
          "Soviet Union",
          "Soviet Union",
          "Unified Team",
          "United States",
          "United States",
          "Yugoslavia",
          "Yugoslavia",
          "United States",
          "United States",
          "United States",
          "United States",
          "United States",
          "Soviet Union",
          "United States",
          "United States",
          "United States",
          "United States",
          "United States",
          "United States",
          "United States",
          "United States",
          "Soviet Union",
          "Soviet Union",
          "Unified Team",
          "United States",
          "United States",
          "United States",
          "United States",
          "Soviet Union",
          "United States",
          "United States",
          "United States",
          "United States",
          "United States",
          "United States",
          "United States",
          "Soviet Union",
          "United States",
          "Unified Team",
          "United States",
          "Unified Team",
          "United States",
          "Soviet Union",
          "Soviet Union",
          "United States",
          "United States",
          "United States",
          "United States",
          "United States",
          "United States",
          "United States",
          "United States",
          "United States",
          "United States",
          "United States",
          "United States",
          "United States",
          "United States",
          "Argentina",
          "United States",
          "United States",
          "United States",
          "Soviet Union",
          "Unified Team",
          "Soviet Union",
          "Soviet Union",
          "Soviet Union",
          "Unified Team",
          "Soviet Union",
          "Unified Team",
          "Yugoslavia"
         ],
         "xaxis": "x",
         "yaxis": "y"
        },
        {
         "alignmentgroup": "True",
         "bingroup": "x",
         "hovertemplate": "Medal=Bronze<br>Team=%{x}<br>count=%{y}<extra></extra>",
         "legendgroup": "Bronze",
         "marker": {
          "color": "#EF553B",
          "pattern": {
           "shape": ""
          }
         },
         "name": "Bronze",
         "offsetgroup": "Bronze",
         "orientation": "v",
         "showlegend": true,
         "type": "histogram",
         "x": [
          "Spain",
          "Russia",
          "Uruguay",
          "Lithuania",
          "Brazil",
          "Brazil",
          "Brazil",
          "Brazil",
          "Brazil",
          "Cuba",
          "Brazil",
          "Brazil",
          "United States",
          "Soviet Union",
          "United States",
          "Russia",
          "Russia",
          "Russia",
          "Soviet Union",
          "United States",
          "China",
          "Uruguay",
          "Russia",
          "Soviet Union",
          "Australia",
          "Yugoslavia",
          "Soviet Union",
          "Soviet Union",
          "Soviet Union",
          "Soviet Union",
          "Soviet Union",
          "Brazil",
          "Australia",
          "Yugoslavia",
          "Brazil",
          "Brazil",
          "Uruguay",
          "Brazil",
          "Bulgaria",
          "United States",
          "Uruguay",
          "Mexico",
          "Mexico",
          "Australia",
          "Brazil",
          "Lithuania",
          "Australia",
          "Australia",
          "United States",
          "Soviet Union",
          "Serbia",
          "Spain",
          "Cuba",
          "Australia",
          "Cuba",
          "Serbia",
          "Australia",
          "Cuba",
          "United States",
          "Uruguay",
          "China",
          "Lithuania",
          "Mexico",
          "Uruguay",
          "Brazil",
          "Brazil",
          "Spain",
          "United States",
          "China",
          "Australia",
          "United States",
          "Uruguay",
          "Uruguay",
          "Uruguay",
          "Serbia",
          "Brazil",
          "Serbia",
          "Serbia",
          "Yugoslavia",
          "United States",
          "Brazil",
          "Mexico",
          "Argentina",
          "Uruguay",
          "Uruguay",
          "Soviet Union",
          "Yugoslavia",
          "Brazil",
          "Bulgaria",
          "Lithuania",
          "United States",
          "Cuba",
          "United States",
          "Yugoslavia",
          "Yugoslavia",
          "Brazil",
          "Brazil",
          "United States",
          "Lithuania",
          "Lithuania",
          "Lithuania",
          "Brazil",
          "Australia",
          "Mexico",
          "Spain",
          "Brazil",
          "Russia",
          "Brazil",
          "Uruguay",
          "Uruguay",
          "Spain",
          "Brazil",
          "Soviet Union",
          "Lithuania",
          "Argentina",
          "Bulgaria",
          "Mexico",
          "Uruguay",
          "Argentina",
          "Australia",
          "United States",
          "Russia",
          "Argentina",
          "Argentina",
          "Bulgaria",
          "Yugoslavia",
          "Russia",
          "Australia",
          "United States",
          "Brazil",
          "Mexico",
          "Spain",
          "Cuba",
          "Cuba",
          "United States",
          "Australia",
          "United States",
          "United States",
          "Brazil",
          "Australia",
          "Lithuania",
          "Brazil",
          "Brazil",
          "United States",
          "United States",
          "Soviet Union",
          "Lithuania",
          "Serbia",
          "Russia",
          "Argentina",
          "Soviet Union",
          "Russia",
          "Lithuania",
          "Lithuania",
          "Russia",
          "Russia",
          "Russia",
          "Brazil",
          "Russia",
          "Soviet Union",
          "Russia",
          "Russia",
          "Yugoslavia",
          "Yugoslavia",
          "Soviet Union",
          "Russia",
          "Russia",
          "Soviet Union",
          "Lithuania",
          "Soviet Union",
          "Serbia",
          "Lithuania",
          "Lithuania",
          "Russia",
          "Soviet Union",
          "China",
          "Brazil",
          "Soviet Union",
          "Russia",
          "China",
          "Spain",
          "Uruguay",
          "Soviet Union",
          "Uruguay",
          "Lithuania",
          "Australia",
          "Australia",
          "United States",
          "Yugoslavia",
          "Bulgaria",
          "Soviet Union",
          "United States",
          "United States",
          "Lithuania",
          "Lithuania",
          "Lithuania",
          "United States",
          "Brazil",
          "Brazil",
          "Brazil",
          "Mexico",
          "Lithuania",
          "Lithuania",
          "Uruguay",
          "Uruguay",
          "United States",
          "United States",
          "Uruguay",
          "Bulgaria",
          "Bulgaria",
          "Soviet Union",
          "Soviet Union",
          "Serbia",
          "Soviet Union",
          "Spain",
          "Brazil",
          "Yugoslavia",
          "Uruguay",
          "Russia",
          "Brazil",
          "Brazil",
          "Russia",
          "Yugoslavia",
          "Soviet Union",
          "Soviet Union",
          "Yugoslavia",
          "Spain",
          "Argentina",
          "Argentina",
          "United States",
          "Australia",
          "United States",
          "Uruguay",
          "Mexico",
          "United States",
          "Russia",
          "Russia",
          "Yugoslavia",
          "Lithuania",
          "Brazil",
          "Serbia",
          "Mexico",
          "Soviet Union",
          "Lithuania",
          "Yugoslavia",
          "Uruguay",
          "Yugoslavia",
          "Cuba",
          "Yugoslavia",
          "Yugoslavia",
          "Serbia",
          "Soviet Union",
          "Russia",
          "Argentina",
          "Argentina",
          "China",
          "Argentina",
          "Serbia",
          "Yugoslavia",
          "Russia",
          "Russia",
          "United States",
          "Spain",
          "Australia",
          "United States",
          "United States",
          "Australia",
          "Cuba",
          "Spain",
          "Brazil",
          "Brazil",
          "Uruguay",
          "Spain",
          "Lithuania",
          "Lithuania",
          "Soviet Union",
          "Soviet Union",
          "Soviet Union",
          "Soviet Union",
          "Uruguay",
          "Argentina",
          "Australia",
          "Soviet Union",
          "Brazil",
          "Russia",
          "Russia",
          "Bulgaria",
          "Russia",
          "Brazil",
          "Brazil",
          "Lithuania",
          "Bulgaria",
          "Mexico",
          "United States",
          "United States",
          "Australia",
          "Brazil",
          "Russia",
          "China",
          "Lithuania",
          "Brazil",
          "Australia",
          "Cuba",
          "Serbia",
          "Russia",
          "Russia",
          "Lithuania",
          "Lithuania",
          "United States",
          "Bulgaria",
          "Bulgaria",
          "Brazil",
          "Brazil",
          "Australia",
          "Soviet Union",
          "Yugoslavia",
          "Soviet Union",
          "Lithuania",
          "Australia",
          "Soviet Union",
          "Soviet Union",
          "Soviet Union",
          "Yugoslavia",
          "Soviet Union",
          "Cuba",
          "Lithuania",
          "Cuba",
          "Lithuania",
          "Russia",
          "Russia",
          "Soviet Union",
          "Russia",
          "Yugoslavia",
          "United States",
          "China",
          "United States",
          "Australia",
          "China",
          "Soviet Union",
          "Soviet Union",
          "Soviet Union",
          "Soviet Union",
          "Bulgaria",
          "Brazil",
          "Soviet Union",
          "China",
          "China",
          "Soviet Union",
          "China",
          "Soviet Union",
          "Soviet Union",
          "Yugoslavia",
          "Yugoslavia",
          "Lithuania",
          "Lithuania",
          "Lithuania"
         ],
         "xaxis": "x",
         "yaxis": "y"
        },
        {
         "alignmentgroup": "True",
         "bingroup": "x",
         "hovertemplate": "Medal=Silver<br>Team=%{x}<br>count=%{y}<extra></extra>",
         "legendgroup": "Silver",
         "marker": {
          "color": "#00cc96",
          "pattern": {
           "shape": ""
          }
         },
         "name": "Silver",
         "offsetgroup": "Silver",
         "orientation": "v",
         "showlegend": true,
         "type": "histogram",
         "x": [
          "Brazil",
          "Canada",
          "Soviet Union",
          "Croatia",
          "Brazil",
          "Canada",
          "Yugoslavia",
          "Croatia",
          "Yugoslavia",
          "Spain",
          "Soviet Union",
          "Yugoslavia",
          "United States",
          "France",
          "Italy",
          "Australia",
          "Australia",
          "France",
          "Spain",
          "Serbia and Montenegro",
          "Australia",
          "France",
          "Serbia",
          "Soviet Union",
          "Serbia and Montenegro",
          "Bulgaria",
          "Serbia",
          "Italy",
          "France",
          "France",
          "Australia",
          "Brazil",
          "United States",
          "Australia",
          "United States",
          "Australia",
          "Australia",
          "Italy",
          "France",
          "Italy",
          "United States",
          "Soviet Union",
          "Spain",
          "Spain",
          "Yugoslavia",
          "Canada",
          "Canada",
          "Italy",
          "France",
          "South Korea",
          "South Korea",
          "Brazil",
          "Brazil",
          "Spain",
          "United States",
          "China",
          "Australia",
          "Spain",
          "Yugoslavia",
          "Yugoslavia",
          "Australia",
          "Spain",
          "Yugoslavia",
          "Yugoslavia",
          "Yugoslavia",
          "Croatia",
          "Yugoslavia",
          "Yugoslavia",
          "Serbia and Montenegro",
          "United States",
          "Canada",
          "Spain",
          "Yugoslavia",
          "Italy",
          "France",
          "Bulgaria",
          "France",
          "France",
          "Bulgaria",
          "France",
          "Yugoslavia",
          "Serbia and Montenegro",
          "Spain",
          "Yugoslavia",
          "Serbia and Montenegro",
          "France",
          "United States",
          "France",
          "Australia",
          "Australia",
          "Spain",
          "Spain",
          "France",
          "United States",
          "France",
          "Italy",
          "Spain",
          "Italy",
          "Spain",
          "Spain",
          "Spain",
          "Spain",
          "Italy",
          "Yugoslavia",
          "Bulgaria",
          "Spain",
          "Italy",
          "France",
          "France",
          "Bulgaria",
          "Yugoslavia",
          "France",
          "Australia",
          "Croatia",
          "Australia",
          "France",
          "France",
          "United States",
          "Australia",
          "Australia",
          "Australia",
          "China",
          "United States",
          "United States",
          "Australia",
          "Brazil",
          "Spain",
          "Australia",
          "Australia",
          "Australia",
          "Brazil",
          "Yugoslavia",
          "South Korea",
          "Yugoslavia",
          "Spain",
          "Spain",
          "Serbia",
          "United States",
          "United States",
          "Soviet Union",
          "Serbia",
          "United States",
          "France",
          "Serbia",
          "Soviet Union",
          "Soviet Union",
          "Yugoslavia",
          "South Korea",
          "South Korea",
          "South Korea",
          "Yugoslavia",
          "Croatia",
          "Soviet Union",
          "Yugoslavia",
          "Soviet Union",
          "Soviet Union",
          "Soviet Union",
          "Soviet Union",
          "Soviet Union",
          "Soviet Union",
          "Soviet Union",
          "Yugoslavia",
          "Croatia",
          "Soviet Union",
          "Yugoslavia",
          "Australia",
          "France",
          "Soviet Union",
          "Yugoslavia",
          "Soviet Union",
          "France",
          "South Korea",
          "South Korea",
          "Brazil",
          "Yugoslavia",
          "France",
          "United States",
          "China",
          "China",
          "United States",
          "Soviet Union",
          "China",
          "China",
          "Spain",
          "Spain",
          "Serbia and Montenegro",
          "Spain",
          "Spain",
          "Soviet Union",
          "Serbia",
          "Bulgaria",
          "Italy",
          "Spain",
          "Serbia",
          "Yugoslavia",
          "United States",
          "Spain",
          "Italy",
          "United States",
          "Italy",
          "Canada",
          "Bulgaria",
          "United States",
          "Italy",
          "Bulgaria",
          "Bulgaria",
          "Yugoslavia",
          "Soviet Union",
          "France",
          "Soviet Union",
          "South Korea",
          "Soviet Union",
          "Soviet Union",
          "Soviet Union",
          "Soviet Union",
          "Yugoslavia",
          "Spain",
          "Croatia",
          "Yugoslavia",
          "Spain",
          "Spain",
          "France",
          "Spain",
          "Serbia",
          "Spain",
          "Serbia and Montenegro",
          "Yugoslavia",
          "United States",
          "France",
          "Soviet Union",
          "Soviet Union",
          "Soviet Union",
          "Spain",
          "France",
          "South Korea",
          "Spain",
          "Yugoslavia",
          "Serbia and Montenegro",
          "Brazil",
          "Canada",
          "China",
          "Croatia",
          "France",
          "Soviet Union",
          "Soviet Union",
          "Soviet Union",
          "Soviet Union",
          "Yugoslavia",
          "Croatia",
          "Australia",
          "Yugoslavia",
          "Australia",
          "Australia",
          "Italy",
          "France",
          "Spain",
          "Bulgaria",
          "Serbia",
          "Italy",
          "Yugoslavia",
          "Yugoslavia",
          "Australia",
          "United States",
          "Yugoslavia",
          "Yugoslavia",
          "Croatia",
          "Serbia and Montenegro",
          "France",
          "Spain",
          "Spain",
          "France",
          "Italy",
          "France",
          "United States",
          "Spain",
          "Spain",
          "Spain",
          "United States",
          "Spain",
          "Italy",
          "Spain",
          "Brazil",
          "Spain",
          "Italy",
          "Spain",
          "Spain",
          "Spain",
          "Serbia and Montenegro",
          "France",
          "Australia",
          "Soviet Union",
          "Soviet Union",
          "South Korea",
          "Brazil",
          "Serbia",
          "United States",
          "Yugoslavia",
          "Bulgaria",
          "Yugoslavia",
          "Australia",
          "Australia",
          "Brazil",
          "Italy",
          "Yugoslavia",
          "Yugoslavia",
          "Spain",
          "France",
          "Italy",
          "Australia",
          "Australia",
          "Canada",
          "Serbia",
          "Soviet Union",
          "Soviet Union",
          "Bulgaria",
          "Soviet Union",
          "Australia",
          "Australia",
          "Italy",
          "Croatia",
          "Australia",
          "Australia",
          "Serbia",
          "France",
          "Australia",
          "Serbia and Montenegro",
          "Serbia and Montenegro",
          "Soviet Union",
          "Spain",
          "Soviet Union",
          "Soviet Union",
          "Soviet Union",
          "Soviet Union",
          "Soviet Union",
          "Soviet Union",
          "Yugoslavia",
          "Yugoslavia",
          "Italy",
          "Yugoslavia",
          "Italy",
          "Soviet Union",
          "Soviet Union",
          "Soviet Union",
          "Yugoslavia",
          "Croatia",
          "China",
          "France",
          "Australia",
          "Canada",
          "Spain",
          "France",
          "Yugoslavia",
          "China",
          "China",
          "China",
          "Yugoslavia",
          "Yugoslavia",
          "Soviet Union",
          "Soviet Union"
         ],
         "xaxis": "x",
         "yaxis": "y"
        }
       ],
       "layout": {
        "barmode": "group",
        "legend": {
         "title": {
          "text": "Medal"
         },
         "tracegroupgap": 0
        },
        "template": {
         "data": {
          "bar": [
           {
            "error_x": {
             "color": "#2a3f5f"
            },
            "error_y": {
             "color": "#2a3f5f"
            },
            "marker": {
             "line": {
              "color": "#E5ECF6",
              "width": 0.5
             },
             "pattern": {
              "fillmode": "overlay",
              "size": 10,
              "solidity": 0.2
             }
            },
            "type": "bar"
           }
          ],
          "barpolar": [
           {
            "marker": {
             "line": {
              "color": "#E5ECF6",
              "width": 0.5
             },
             "pattern": {
              "fillmode": "overlay",
              "size": 10,
              "solidity": 0.2
             }
            },
            "type": "barpolar"
           }
          ],
          "carpet": [
           {
            "aaxis": {
             "endlinecolor": "#2a3f5f",
             "gridcolor": "white",
             "linecolor": "white",
             "minorgridcolor": "white",
             "startlinecolor": "#2a3f5f"
            },
            "baxis": {
             "endlinecolor": "#2a3f5f",
             "gridcolor": "white",
             "linecolor": "white",
             "minorgridcolor": "white",
             "startlinecolor": "#2a3f5f"
            },
            "type": "carpet"
           }
          ],
          "choropleth": [
           {
            "colorbar": {
             "outlinewidth": 0,
             "ticks": ""
            },
            "type": "choropleth"
           }
          ],
          "contour": [
           {
            "colorbar": {
             "outlinewidth": 0,
             "ticks": ""
            },
            "colorscale": [
             [
              0,
              "#0d0887"
             ],
             [
              0.1111111111111111,
              "#46039f"
             ],
             [
              0.2222222222222222,
              "#7201a8"
             ],
             [
              0.3333333333333333,
              "#9c179e"
             ],
             [
              0.4444444444444444,
              "#bd3786"
             ],
             [
              0.5555555555555556,
              "#d8576b"
             ],
             [
              0.6666666666666666,
              "#ed7953"
             ],
             [
              0.7777777777777778,
              "#fb9f3a"
             ],
             [
              0.8888888888888888,
              "#fdca26"
             ],
             [
              1,
              "#f0f921"
             ]
            ],
            "type": "contour"
           }
          ],
          "contourcarpet": [
           {
            "colorbar": {
             "outlinewidth": 0,
             "ticks": ""
            },
            "type": "contourcarpet"
           }
          ],
          "heatmap": [
           {
            "colorbar": {
             "outlinewidth": 0,
             "ticks": ""
            },
            "colorscale": [
             [
              0,
              "#0d0887"
             ],
             [
              0.1111111111111111,
              "#46039f"
             ],
             [
              0.2222222222222222,
              "#7201a8"
             ],
             [
              0.3333333333333333,
              "#9c179e"
             ],
             [
              0.4444444444444444,
              "#bd3786"
             ],
             [
              0.5555555555555556,
              "#d8576b"
             ],
             [
              0.6666666666666666,
              "#ed7953"
             ],
             [
              0.7777777777777778,
              "#fb9f3a"
             ],
             [
              0.8888888888888888,
              "#fdca26"
             ],
             [
              1,
              "#f0f921"
             ]
            ],
            "type": "heatmap"
           }
          ],
          "heatmapgl": [
           {
            "colorbar": {
             "outlinewidth": 0,
             "ticks": ""
            },
            "colorscale": [
             [
              0,
              "#0d0887"
             ],
             [
              0.1111111111111111,
              "#46039f"
             ],
             [
              0.2222222222222222,
              "#7201a8"
             ],
             [
              0.3333333333333333,
              "#9c179e"
             ],
             [
              0.4444444444444444,
              "#bd3786"
             ],
             [
              0.5555555555555556,
              "#d8576b"
             ],
             [
              0.6666666666666666,
              "#ed7953"
             ],
             [
              0.7777777777777778,
              "#fb9f3a"
             ],
             [
              0.8888888888888888,
              "#fdca26"
             ],
             [
              1,
              "#f0f921"
             ]
            ],
            "type": "heatmapgl"
           }
          ],
          "histogram": [
           {
            "marker": {
             "pattern": {
              "fillmode": "overlay",
              "size": 10,
              "solidity": 0.2
             }
            },
            "type": "histogram"
           }
          ],
          "histogram2d": [
           {
            "colorbar": {
             "outlinewidth": 0,
             "ticks": ""
            },
            "colorscale": [
             [
              0,
              "#0d0887"
             ],
             [
              0.1111111111111111,
              "#46039f"
             ],
             [
              0.2222222222222222,
              "#7201a8"
             ],
             [
              0.3333333333333333,
              "#9c179e"
             ],
             [
              0.4444444444444444,
              "#bd3786"
             ],
             [
              0.5555555555555556,
              "#d8576b"
             ],
             [
              0.6666666666666666,
              "#ed7953"
             ],
             [
              0.7777777777777778,
              "#fb9f3a"
             ],
             [
              0.8888888888888888,
              "#fdca26"
             ],
             [
              1,
              "#f0f921"
             ]
            ],
            "type": "histogram2d"
           }
          ],
          "histogram2dcontour": [
           {
            "colorbar": {
             "outlinewidth": 0,
             "ticks": ""
            },
            "colorscale": [
             [
              0,
              "#0d0887"
             ],
             [
              0.1111111111111111,
              "#46039f"
             ],
             [
              0.2222222222222222,
              "#7201a8"
             ],
             [
              0.3333333333333333,
              "#9c179e"
             ],
             [
              0.4444444444444444,
              "#bd3786"
             ],
             [
              0.5555555555555556,
              "#d8576b"
             ],
             [
              0.6666666666666666,
              "#ed7953"
             ],
             [
              0.7777777777777778,
              "#fb9f3a"
             ],
             [
              0.8888888888888888,
              "#fdca26"
             ],
             [
              1,
              "#f0f921"
             ]
            ],
            "type": "histogram2dcontour"
           }
          ],
          "mesh3d": [
           {
            "colorbar": {
             "outlinewidth": 0,
             "ticks": ""
            },
            "type": "mesh3d"
           }
          ],
          "parcoords": [
           {
            "line": {
             "colorbar": {
              "outlinewidth": 0,
              "ticks": ""
             }
            },
            "type": "parcoords"
           }
          ],
          "pie": [
           {
            "automargin": true,
            "type": "pie"
           }
          ],
          "scatter": [
           {
            "fillpattern": {
             "fillmode": "overlay",
             "size": 10,
             "solidity": 0.2
            },
            "type": "scatter"
           }
          ],
          "scatter3d": [
           {
            "line": {
             "colorbar": {
              "outlinewidth": 0,
              "ticks": ""
             }
            },
            "marker": {
             "colorbar": {
              "outlinewidth": 0,
              "ticks": ""
             }
            },
            "type": "scatter3d"
           }
          ],
          "scattercarpet": [
           {
            "marker": {
             "colorbar": {
              "outlinewidth": 0,
              "ticks": ""
             }
            },
            "type": "scattercarpet"
           }
          ],
          "scattergeo": [
           {
            "marker": {
             "colorbar": {
              "outlinewidth": 0,
              "ticks": ""
             }
            },
            "type": "scattergeo"
           }
          ],
          "scattergl": [
           {
            "marker": {
             "colorbar": {
              "outlinewidth": 0,
              "ticks": ""
             }
            },
            "type": "scattergl"
           }
          ],
          "scattermapbox": [
           {
            "marker": {
             "colorbar": {
              "outlinewidth": 0,
              "ticks": ""
             }
            },
            "type": "scattermapbox"
           }
          ],
          "scatterpolar": [
           {
            "marker": {
             "colorbar": {
              "outlinewidth": 0,
              "ticks": ""
             }
            },
            "type": "scatterpolar"
           }
          ],
          "scatterpolargl": [
           {
            "marker": {
             "colorbar": {
              "outlinewidth": 0,
              "ticks": ""
             }
            },
            "type": "scatterpolargl"
           }
          ],
          "scatterternary": [
           {
            "marker": {
             "colorbar": {
              "outlinewidth": 0,
              "ticks": ""
             }
            },
            "type": "scatterternary"
           }
          ],
          "surface": [
           {
            "colorbar": {
             "outlinewidth": 0,
             "ticks": ""
            },
            "colorscale": [
             [
              0,
              "#0d0887"
             ],
             [
              0.1111111111111111,
              "#46039f"
             ],
             [
              0.2222222222222222,
              "#7201a8"
             ],
             [
              0.3333333333333333,
              "#9c179e"
             ],
             [
              0.4444444444444444,
              "#bd3786"
             ],
             [
              0.5555555555555556,
              "#d8576b"
             ],
             [
              0.6666666666666666,
              "#ed7953"
             ],
             [
              0.7777777777777778,
              "#fb9f3a"
             ],
             [
              0.8888888888888888,
              "#fdca26"
             ],
             [
              1,
              "#f0f921"
             ]
            ],
            "type": "surface"
           }
          ],
          "table": [
           {
            "cells": {
             "fill": {
              "color": "#EBF0F8"
             },
             "line": {
              "color": "white"
             }
            },
            "header": {
             "fill": {
              "color": "#C8D4E3"
             },
             "line": {
              "color": "white"
             }
            },
            "type": "table"
           }
          ]
         },
         "layout": {
          "annotationdefaults": {
           "arrowcolor": "#2a3f5f",
           "arrowhead": 0,
           "arrowwidth": 1
          },
          "autotypenumbers": "strict",
          "coloraxis": {
           "colorbar": {
            "outlinewidth": 0,
            "ticks": ""
           }
          },
          "colorscale": {
           "diverging": [
            [
             0,
             "#8e0152"
            ],
            [
             0.1,
             "#c51b7d"
            ],
            [
             0.2,
             "#de77ae"
            ],
            [
             0.3,
             "#f1b6da"
            ],
            [
             0.4,
             "#fde0ef"
            ],
            [
             0.5,
             "#f7f7f7"
            ],
            [
             0.6,
             "#e6f5d0"
            ],
            [
             0.7,
             "#b8e186"
            ],
            [
             0.8,
             "#7fbc41"
            ],
            [
             0.9,
             "#4d9221"
            ],
            [
             1,
             "#276419"
            ]
           ],
           "sequential": [
            [
             0,
             "#0d0887"
            ],
            [
             0.1111111111111111,
             "#46039f"
            ],
            [
             0.2222222222222222,
             "#7201a8"
            ],
            [
             0.3333333333333333,
             "#9c179e"
            ],
            [
             0.4444444444444444,
             "#bd3786"
            ],
            [
             0.5555555555555556,
             "#d8576b"
            ],
            [
             0.6666666666666666,
             "#ed7953"
            ],
            [
             0.7777777777777778,
             "#fb9f3a"
            ],
            [
             0.8888888888888888,
             "#fdca26"
            ],
            [
             1,
             "#f0f921"
            ]
           ],
           "sequentialminus": [
            [
             0,
             "#0d0887"
            ],
            [
             0.1111111111111111,
             "#46039f"
            ],
            [
             0.2222222222222222,
             "#7201a8"
            ],
            [
             0.3333333333333333,
             "#9c179e"
            ],
            [
             0.4444444444444444,
             "#bd3786"
            ],
            [
             0.5555555555555556,
             "#d8576b"
            ],
            [
             0.6666666666666666,
             "#ed7953"
            ],
            [
             0.7777777777777778,
             "#fb9f3a"
            ],
            [
             0.8888888888888888,
             "#fdca26"
            ],
            [
             1,
             "#f0f921"
            ]
           ]
          },
          "colorway": [
           "#636efa",
           "#EF553B",
           "#00cc96",
           "#ab63fa",
           "#FFA15A",
           "#19d3f3",
           "#FF6692",
           "#B6E880",
           "#FF97FF",
           "#FECB52"
          ],
          "font": {
           "color": "#2a3f5f"
          },
          "geo": {
           "bgcolor": "white",
           "lakecolor": "white",
           "landcolor": "#E5ECF6",
           "showlakes": true,
           "showland": true,
           "subunitcolor": "white"
          },
          "hoverlabel": {
           "align": "left"
          },
          "hovermode": "closest",
          "mapbox": {
           "style": "light"
          },
          "paper_bgcolor": "white",
          "plot_bgcolor": "#E5ECF6",
          "polar": {
           "angularaxis": {
            "gridcolor": "white",
            "linecolor": "white",
            "ticks": ""
           },
           "bgcolor": "#E5ECF6",
           "radialaxis": {
            "gridcolor": "white",
            "linecolor": "white",
            "ticks": ""
           }
          },
          "scene": {
           "xaxis": {
            "backgroundcolor": "#E5ECF6",
            "gridcolor": "white",
            "gridwidth": 2,
            "linecolor": "white",
            "showbackground": true,
            "ticks": "",
            "zerolinecolor": "white"
           },
           "yaxis": {
            "backgroundcolor": "#E5ECF6",
            "gridcolor": "white",
            "gridwidth": 2,
            "linecolor": "white",
            "showbackground": true,
            "ticks": "",
            "zerolinecolor": "white"
           },
           "zaxis": {
            "backgroundcolor": "#E5ECF6",
            "gridcolor": "white",
            "gridwidth": 2,
            "linecolor": "white",
            "showbackground": true,
            "ticks": "",
            "zerolinecolor": "white"
           }
          },
          "shapedefaults": {
           "line": {
            "color": "#2a3f5f"
           }
          },
          "ternary": {
           "aaxis": {
            "gridcolor": "white",
            "linecolor": "white",
            "ticks": ""
           },
           "baxis": {
            "gridcolor": "white",
            "linecolor": "white",
            "ticks": ""
           },
           "bgcolor": "#E5ECF6",
           "caxis": {
            "gridcolor": "white",
            "linecolor": "white",
            "ticks": ""
           }
          },
          "title": {
           "x": 0.05
          },
          "xaxis": {
           "automargin": true,
           "gridcolor": "white",
           "linecolor": "white",
           "ticks": "",
           "title": {
            "standoff": 15
           },
           "zerolinecolor": "white",
           "zerolinewidth": 2
          },
          "yaxis": {
           "automargin": true,
           "gridcolor": "white",
           "linecolor": "white",
           "ticks": "",
           "title": {
            "standoff": 15
           },
           "zerolinecolor": "white",
           "zerolinewidth": 2
          }
         }
        },
        "title": {
         "text": "Medals won by each country in basketball"
        },
        "xaxis": {
         "anchor": "y",
         "domain": [
          0,
          1
         ],
         "title": {
          "text": "Team"
         }
        },
        "yaxis": {
         "anchor": "x",
         "domain": [
          0,
          1
         ],
         "title": {
          "text": "count"
         },
         "type": "log"
        }
       }
      }
     },
     "metadata": {},
     "output_type": "display_data"
    }
   ],
   "source": [
    "# plot medal distribution for each team\n",
    "fig = px.histogram(\n",
    "    df_basketball,\n",
    "    x=\"Team\",\n",
    "    log_y=True,\n",
    "    barmode=\"group\",\n",
    "    color=\"Medal\",\n",
    "    title=\"Medals won by each country in basketball\",\n",
    ")\n",
    "fig.show()"
   ]
  },
  {
   "cell_type": "code",
   "execution_count": 754,
   "metadata": {},
   "outputs": [
    {
     "data": {
      "text/html": [
       "<div>\n",
       "<style scoped>\n",
       "    .dataframe tbody tr th:only-of-type {\n",
       "        vertical-align: middle;\n",
       "    }\n",
       "\n",
       "    .dataframe tbody tr th {\n",
       "        vertical-align: top;\n",
       "    }\n",
       "\n",
       "    .dataframe thead th {\n",
       "        text-align: right;\n",
       "    }\n",
       "</style>\n",
       "<table border=\"1\" class=\"dataframe\">\n",
       "  <thead>\n",
       "    <tr style=\"text-align: right;\">\n",
       "      <th></th>\n",
       "      <th>Team</th>\n",
       "      <th>Games</th>\n",
       "      <th>Year</th>\n",
       "      <th>Season</th>\n",
       "      <th>City</th>\n",
       "      <th>Event</th>\n",
       "      <th>Medal</th>\n",
       "      <th>Count</th>\n",
       "    </tr>\n",
       "  </thead>\n",
       "  <tbody>\n",
       "    <tr>\n",
       "      <th>0</th>\n",
       "      <td>Argentina</td>\n",
       "      <td>2004 Summer</td>\n",
       "      <td>2004</td>\n",
       "      <td>Summer</td>\n",
       "      <td>Athina</td>\n",
       "      <td>Basketball Men's Basketball</td>\n",
       "      <td>Gold</td>\n",
       "      <td>1</td>\n",
       "    </tr>\n",
       "    <tr>\n",
       "      <th>1</th>\n",
       "      <td>Argentina</td>\n",
       "      <td>2008 Summer</td>\n",
       "      <td>2008</td>\n",
       "      <td>Summer</td>\n",
       "      <td>Beijing</td>\n",
       "      <td>Basketball Men's Basketball</td>\n",
       "      <td>Bronze</td>\n",
       "      <td>1</td>\n",
       "    </tr>\n",
       "    <tr>\n",
       "      <th>2</th>\n",
       "      <td>Australia</td>\n",
       "      <td>1996 Summer</td>\n",
       "      <td>1996</td>\n",
       "      <td>Summer</td>\n",
       "      <td>Atlanta</td>\n",
       "      <td>Basketball Women's Basketball</td>\n",
       "      <td>Bronze</td>\n",
       "      <td>1</td>\n",
       "    </tr>\n",
       "    <tr>\n",
       "      <th>3</th>\n",
       "      <td>Australia</td>\n",
       "      <td>2000 Summer</td>\n",
       "      <td>2000</td>\n",
       "      <td>Summer</td>\n",
       "      <td>Sydney</td>\n",
       "      <td>Basketball Women's Basketball</td>\n",
       "      <td>Silver</td>\n",
       "      <td>1</td>\n",
       "    </tr>\n",
       "    <tr>\n",
       "      <th>4</th>\n",
       "      <td>Australia</td>\n",
       "      <td>2004 Summer</td>\n",
       "      <td>2004</td>\n",
       "      <td>Summer</td>\n",
       "      <td>Athina</td>\n",
       "      <td>Basketball Women's Basketball</td>\n",
       "      <td>Silver</td>\n",
       "      <td>1</td>\n",
       "    </tr>\n",
       "    <tr>\n",
       "      <th>5</th>\n",
       "      <td>Australia</td>\n",
       "      <td>2008 Summer</td>\n",
       "      <td>2008</td>\n",
       "      <td>Summer</td>\n",
       "      <td>Beijing</td>\n",
       "      <td>Basketball Women's Basketball</td>\n",
       "      <td>Silver</td>\n",
       "      <td>1</td>\n",
       "    </tr>\n",
       "    <tr>\n",
       "      <th>6</th>\n",
       "      <td>Australia</td>\n",
       "      <td>2012 Summer</td>\n",
       "      <td>2012</td>\n",
       "      <td>Summer</td>\n",
       "      <td>London</td>\n",
       "      <td>Basketball Women's Basketball</td>\n",
       "      <td>Bronze</td>\n",
       "      <td>1</td>\n",
       "    </tr>\n",
       "    <tr>\n",
       "      <th>7</th>\n",
       "      <td>Brazil</td>\n",
       "      <td>1948 Summer</td>\n",
       "      <td>1948</td>\n",
       "      <td>Summer</td>\n",
       "      <td>London</td>\n",
       "      <td>Basketball Men's Basketball</td>\n",
       "      <td>Bronze</td>\n",
       "      <td>1</td>\n",
       "    </tr>\n",
       "    <tr>\n",
       "      <th>8</th>\n",
       "      <td>Brazil</td>\n",
       "      <td>1960 Summer</td>\n",
       "      <td>1960</td>\n",
       "      <td>Summer</td>\n",
       "      <td>Roma</td>\n",
       "      <td>Basketball Men's Basketball</td>\n",
       "      <td>Bronze</td>\n",
       "      <td>1</td>\n",
       "    </tr>\n",
       "    <tr>\n",
       "      <th>9</th>\n",
       "      <td>Brazil</td>\n",
       "      <td>1964 Summer</td>\n",
       "      <td>1964</td>\n",
       "      <td>Summer</td>\n",
       "      <td>Tokyo</td>\n",
       "      <td>Basketball Men's Basketball</td>\n",
       "      <td>Bronze</td>\n",
       "      <td>1</td>\n",
       "    </tr>\n",
       "    <tr>\n",
       "      <th>10</th>\n",
       "      <td>Brazil</td>\n",
       "      <td>1996 Summer</td>\n",
       "      <td>1996</td>\n",
       "      <td>Summer</td>\n",
       "      <td>Atlanta</td>\n",
       "      <td>Basketball Women's Basketball</td>\n",
       "      <td>Silver</td>\n",
       "      <td>1</td>\n",
       "    </tr>\n",
       "    <tr>\n",
       "      <th>11</th>\n",
       "      <td>Brazil</td>\n",
       "      <td>2000 Summer</td>\n",
       "      <td>2000</td>\n",
       "      <td>Summer</td>\n",
       "      <td>Sydney</td>\n",
       "      <td>Basketball Women's Basketball</td>\n",
       "      <td>Bronze</td>\n",
       "      <td>1</td>\n",
       "    </tr>\n",
       "    <tr>\n",
       "      <th>12</th>\n",
       "      <td>Bulgaria</td>\n",
       "      <td>1976 Summer</td>\n",
       "      <td>1976</td>\n",
       "      <td>Summer</td>\n",
       "      <td>Montreal</td>\n",
       "      <td>Basketball Women's Basketball</td>\n",
       "      <td>Bronze</td>\n",
       "      <td>1</td>\n",
       "    </tr>\n",
       "    <tr>\n",
       "      <th>13</th>\n",
       "      <td>Bulgaria</td>\n",
       "      <td>1980 Summer</td>\n",
       "      <td>1980</td>\n",
       "      <td>Summer</td>\n",
       "      <td>Moskva</td>\n",
       "      <td>Basketball Women's Basketball</td>\n",
       "      <td>Silver</td>\n",
       "      <td>1</td>\n",
       "    </tr>\n",
       "    <tr>\n",
       "      <th>14</th>\n",
       "      <td>Canada</td>\n",
       "      <td>1936 Summer</td>\n",
       "      <td>1936</td>\n",
       "      <td>Summer</td>\n",
       "      <td>Berlin</td>\n",
       "      <td>Basketball Men's Basketball</td>\n",
       "      <td>Silver</td>\n",
       "      <td>1</td>\n",
       "    </tr>\n",
       "    <tr>\n",
       "      <th>15</th>\n",
       "      <td>China</td>\n",
       "      <td>1984 Summer</td>\n",
       "      <td>1984</td>\n",
       "      <td>Summer</td>\n",
       "      <td>Los Angeles</td>\n",
       "      <td>Basketball Women's Basketball</td>\n",
       "      <td>Bronze</td>\n",
       "      <td>1</td>\n",
       "    </tr>\n",
       "    <tr>\n",
       "      <th>16</th>\n",
       "      <td>China</td>\n",
       "      <td>1992 Summer</td>\n",
       "      <td>1992</td>\n",
       "      <td>Summer</td>\n",
       "      <td>Barcelona</td>\n",
       "      <td>Basketball Women's Basketball</td>\n",
       "      <td>Silver</td>\n",
       "      <td>1</td>\n",
       "    </tr>\n",
       "    <tr>\n",
       "      <th>17</th>\n",
       "      <td>Croatia</td>\n",
       "      <td>1992 Summer</td>\n",
       "      <td>1992</td>\n",
       "      <td>Summer</td>\n",
       "      <td>Barcelona</td>\n",
       "      <td>Basketball Men's Basketball</td>\n",
       "      <td>Silver</td>\n",
       "      <td>1</td>\n",
       "    </tr>\n",
       "    <tr>\n",
       "      <th>18</th>\n",
       "      <td>Cuba</td>\n",
       "      <td>1972 Summer</td>\n",
       "      <td>1972</td>\n",
       "      <td>Summer</td>\n",
       "      <td>Munich</td>\n",
       "      <td>Basketball Men's Basketball</td>\n",
       "      <td>Bronze</td>\n",
       "      <td>1</td>\n",
       "    </tr>\n",
       "    <tr>\n",
       "      <th>19</th>\n",
       "      <td>France</td>\n",
       "      <td>1948 Summer</td>\n",
       "      <td>1948</td>\n",
       "      <td>Summer</td>\n",
       "      <td>London</td>\n",
       "      <td>Basketball Men's Basketball</td>\n",
       "      <td>Silver</td>\n",
       "      <td>1</td>\n",
       "    </tr>\n",
       "    <tr>\n",
       "      <th>20</th>\n",
       "      <td>France</td>\n",
       "      <td>2000 Summer</td>\n",
       "      <td>2000</td>\n",
       "      <td>Summer</td>\n",
       "      <td>Sydney</td>\n",
       "      <td>Basketball Men's Basketball</td>\n",
       "      <td>Silver</td>\n",
       "      <td>1</td>\n",
       "    </tr>\n",
       "    <tr>\n",
       "      <th>21</th>\n",
       "      <td>France</td>\n",
       "      <td>2012 Summer</td>\n",
       "      <td>2012</td>\n",
       "      <td>Summer</td>\n",
       "      <td>London</td>\n",
       "      <td>Basketball Women's Basketball</td>\n",
       "      <td>Silver</td>\n",
       "      <td>1</td>\n",
       "    </tr>\n",
       "    <tr>\n",
       "      <th>22</th>\n",
       "      <td>Italy</td>\n",
       "      <td>1980 Summer</td>\n",
       "      <td>1980</td>\n",
       "      <td>Summer</td>\n",
       "      <td>Moskva</td>\n",
       "      <td>Basketball Men's Basketball</td>\n",
       "      <td>Silver</td>\n",
       "      <td>1</td>\n",
       "    </tr>\n",
       "    <tr>\n",
       "      <th>23</th>\n",
       "      <td>Italy</td>\n",
       "      <td>2004 Summer</td>\n",
       "      <td>2004</td>\n",
       "      <td>Summer</td>\n",
       "      <td>Athina</td>\n",
       "      <td>Basketball Men's Basketball</td>\n",
       "      <td>Silver</td>\n",
       "      <td>1</td>\n",
       "    </tr>\n",
       "    <tr>\n",
       "      <th>24</th>\n",
       "      <td>Lithuania</td>\n",
       "      <td>1992 Summer</td>\n",
       "      <td>1992</td>\n",
       "      <td>Summer</td>\n",
       "      <td>Barcelona</td>\n",
       "      <td>Basketball Men's Basketball</td>\n",
       "      <td>Bronze</td>\n",
       "      <td>1</td>\n",
       "    </tr>\n",
       "    <tr>\n",
       "      <th>25</th>\n",
       "      <td>Lithuania</td>\n",
       "      <td>1996 Summer</td>\n",
       "      <td>1996</td>\n",
       "      <td>Summer</td>\n",
       "      <td>Atlanta</td>\n",
       "      <td>Basketball Men's Basketball</td>\n",
       "      <td>Bronze</td>\n",
       "      <td>1</td>\n",
       "    </tr>\n",
       "    <tr>\n",
       "      <th>26</th>\n",
       "      <td>Lithuania</td>\n",
       "      <td>2000 Summer</td>\n",
       "      <td>2000</td>\n",
       "      <td>Summer</td>\n",
       "      <td>Sydney</td>\n",
       "      <td>Basketball Men's Basketball</td>\n",
       "      <td>Bronze</td>\n",
       "      <td>1</td>\n",
       "    </tr>\n",
       "    <tr>\n",
       "      <th>27</th>\n",
       "      <td>Mexico</td>\n",
       "      <td>1936 Summer</td>\n",
       "      <td>1936</td>\n",
       "      <td>Summer</td>\n",
       "      <td>Berlin</td>\n",
       "      <td>Basketball Men's Basketball</td>\n",
       "      <td>Bronze</td>\n",
       "      <td>1</td>\n",
       "    </tr>\n",
       "    <tr>\n",
       "      <th>28</th>\n",
       "      <td>Russia</td>\n",
       "      <td>2004 Summer</td>\n",
       "      <td>2004</td>\n",
       "      <td>Summer</td>\n",
       "      <td>Athina</td>\n",
       "      <td>Basketball Women's Basketball</td>\n",
       "      <td>Bronze</td>\n",
       "      <td>1</td>\n",
       "    </tr>\n",
       "    <tr>\n",
       "      <th>29</th>\n",
       "      <td>Russia</td>\n",
       "      <td>2008 Summer</td>\n",
       "      <td>2008</td>\n",
       "      <td>Summer</td>\n",
       "      <td>Beijing</td>\n",
       "      <td>Basketball Women's Basketball</td>\n",
       "      <td>Bronze</td>\n",
       "      <td>1</td>\n",
       "    </tr>\n",
       "    <tr>\n",
       "      <th>30</th>\n",
       "      <td>Russia</td>\n",
       "      <td>2012 Summer</td>\n",
       "      <td>2012</td>\n",
       "      <td>Summer</td>\n",
       "      <td>London</td>\n",
       "      <td>Basketball Men's Basketball</td>\n",
       "      <td>Bronze</td>\n",
       "      <td>1</td>\n",
       "    </tr>\n",
       "    <tr>\n",
       "      <th>31</th>\n",
       "      <td>Serbia</td>\n",
       "      <td>2016 Summer</td>\n",
       "      <td>2016</td>\n",
       "      <td>Summer</td>\n",
       "      <td>Rio de Janeiro</td>\n",
       "      <td>Basketball Men's Basketball</td>\n",
       "      <td>Silver</td>\n",
       "      <td>1</td>\n",
       "    </tr>\n",
       "    <tr>\n",
       "      <th>32</th>\n",
       "      <td>Serbia</td>\n",
       "      <td>2016 Summer</td>\n",
       "      <td>2016</td>\n",
       "      <td>Summer</td>\n",
       "      <td>Rio de Janeiro</td>\n",
       "      <td>Basketball Women's Basketball</td>\n",
       "      <td>Bronze</td>\n",
       "      <td>1</td>\n",
       "    </tr>\n",
       "    <tr>\n",
       "      <th>33</th>\n",
       "      <td>Serbia and Montenegro</td>\n",
       "      <td>1996 Summer</td>\n",
       "      <td>1996</td>\n",
       "      <td>Summer</td>\n",
       "      <td>Atlanta</td>\n",
       "      <td>Basketball Men's Basketball</td>\n",
       "      <td>Silver</td>\n",
       "      <td>1</td>\n",
       "    </tr>\n",
       "    <tr>\n",
       "      <th>34</th>\n",
       "      <td>South Korea</td>\n",
       "      <td>1984 Summer</td>\n",
       "      <td>1984</td>\n",
       "      <td>Summer</td>\n",
       "      <td>Los Angeles</td>\n",
       "      <td>Basketball Women's Basketball</td>\n",
       "      <td>Silver</td>\n",
       "      <td>1</td>\n",
       "    </tr>\n",
       "    <tr>\n",
       "      <th>35</th>\n",
       "      <td>Soviet Union</td>\n",
       "      <td>1952 Summer</td>\n",
       "      <td>1952</td>\n",
       "      <td>Summer</td>\n",
       "      <td>Helsinki</td>\n",
       "      <td>Basketball Men's Basketball</td>\n",
       "      <td>Silver</td>\n",
       "      <td>1</td>\n",
       "    </tr>\n",
       "    <tr>\n",
       "      <th>36</th>\n",
       "      <td>Soviet Union</td>\n",
       "      <td>1956 Summer</td>\n",
       "      <td>1956</td>\n",
       "      <td>Summer</td>\n",
       "      <td>Melbourne</td>\n",
       "      <td>Basketball Men's Basketball</td>\n",
       "      <td>Silver</td>\n",
       "      <td>1</td>\n",
       "    </tr>\n",
       "    <tr>\n",
       "      <th>37</th>\n",
       "      <td>Soviet Union</td>\n",
       "      <td>1960 Summer</td>\n",
       "      <td>1960</td>\n",
       "      <td>Summer</td>\n",
       "      <td>Roma</td>\n",
       "      <td>Basketball Men's Basketball</td>\n",
       "      <td>Silver</td>\n",
       "      <td>1</td>\n",
       "    </tr>\n",
       "    <tr>\n",
       "      <th>38</th>\n",
       "      <td>Soviet Union</td>\n",
       "      <td>1964 Summer</td>\n",
       "      <td>1964</td>\n",
       "      <td>Summer</td>\n",
       "      <td>Tokyo</td>\n",
       "      <td>Basketball Men's Basketball</td>\n",
       "      <td>Silver</td>\n",
       "      <td>1</td>\n",
       "    </tr>\n",
       "    <tr>\n",
       "      <th>39</th>\n",
       "      <td>Soviet Union</td>\n",
       "      <td>1968 Summer</td>\n",
       "      <td>1968</td>\n",
       "      <td>Summer</td>\n",
       "      <td>Mexico City</td>\n",
       "      <td>Basketball Men's Basketball</td>\n",
       "      <td>Bronze</td>\n",
       "      <td>1</td>\n",
       "    </tr>\n",
       "    <tr>\n",
       "      <th>40</th>\n",
       "      <td>Soviet Union</td>\n",
       "      <td>1972 Summer</td>\n",
       "      <td>1972</td>\n",
       "      <td>Summer</td>\n",
       "      <td>Munich</td>\n",
       "      <td>Basketball Men's Basketball</td>\n",
       "      <td>Gold</td>\n",
       "      <td>1</td>\n",
       "    </tr>\n",
       "    <tr>\n",
       "      <th>41</th>\n",
       "      <td>Soviet Union</td>\n",
       "      <td>1976 Summer</td>\n",
       "      <td>1976</td>\n",
       "      <td>Summer</td>\n",
       "      <td>Montreal</td>\n",
       "      <td>Basketball Men's Basketball</td>\n",
       "      <td>Bronze</td>\n",
       "      <td>1</td>\n",
       "    </tr>\n",
       "    <tr>\n",
       "      <th>42</th>\n",
       "      <td>Soviet Union</td>\n",
       "      <td>1976 Summer</td>\n",
       "      <td>1976</td>\n",
       "      <td>Summer</td>\n",
       "      <td>Montreal</td>\n",
       "      <td>Basketball Women's Basketball</td>\n",
       "      <td>Gold</td>\n",
       "      <td>1</td>\n",
       "    </tr>\n",
       "    <tr>\n",
       "      <th>43</th>\n",
       "      <td>Soviet Union</td>\n",
       "      <td>1980 Summer</td>\n",
       "      <td>1980</td>\n",
       "      <td>Summer</td>\n",
       "      <td>Moskva</td>\n",
       "      <td>Basketball Men's Basketball</td>\n",
       "      <td>Bronze</td>\n",
       "      <td>1</td>\n",
       "    </tr>\n",
       "    <tr>\n",
       "      <th>44</th>\n",
       "      <td>Soviet Union</td>\n",
       "      <td>1980 Summer</td>\n",
       "      <td>1980</td>\n",
       "      <td>Summer</td>\n",
       "      <td>Moskva</td>\n",
       "      <td>Basketball Women's Basketball</td>\n",
       "      <td>Gold</td>\n",
       "      <td>1</td>\n",
       "    </tr>\n",
       "    <tr>\n",
       "      <th>45</th>\n",
       "      <td>Soviet Union</td>\n",
       "      <td>1988 Summer</td>\n",
       "      <td>1988</td>\n",
       "      <td>Summer</td>\n",
       "      <td>Seoul</td>\n",
       "      <td>Basketball Men's Basketball</td>\n",
       "      <td>Gold</td>\n",
       "      <td>1</td>\n",
       "    </tr>\n",
       "    <tr>\n",
       "      <th>46</th>\n",
       "      <td>Soviet Union</td>\n",
       "      <td>1988 Summer</td>\n",
       "      <td>1988</td>\n",
       "      <td>Summer</td>\n",
       "      <td>Seoul</td>\n",
       "      <td>Basketball Women's Basketball</td>\n",
       "      <td>Bronze</td>\n",
       "      <td>1</td>\n",
       "    </tr>\n",
       "    <tr>\n",
       "      <th>47</th>\n",
       "      <td>Spain</td>\n",
       "      <td>1984 Summer</td>\n",
       "      <td>1984</td>\n",
       "      <td>Summer</td>\n",
       "      <td>Los Angeles</td>\n",
       "      <td>Basketball Men's Basketball</td>\n",
       "      <td>Silver</td>\n",
       "      <td>1</td>\n",
       "    </tr>\n",
       "    <tr>\n",
       "      <th>48</th>\n",
       "      <td>Spain</td>\n",
       "      <td>2008 Summer</td>\n",
       "      <td>2008</td>\n",
       "      <td>Summer</td>\n",
       "      <td>Beijing</td>\n",
       "      <td>Basketball Men's Basketball</td>\n",
       "      <td>Silver</td>\n",
       "      <td>1</td>\n",
       "    </tr>\n",
       "    <tr>\n",
       "      <th>49</th>\n",
       "      <td>Spain</td>\n",
       "      <td>2012 Summer</td>\n",
       "      <td>2012</td>\n",
       "      <td>Summer</td>\n",
       "      <td>London</td>\n",
       "      <td>Basketball Men's Basketball</td>\n",
       "      <td>Silver</td>\n",
       "      <td>1</td>\n",
       "    </tr>\n",
       "    <tr>\n",
       "      <th>50</th>\n",
       "      <td>Spain</td>\n",
       "      <td>2016 Summer</td>\n",
       "      <td>2016</td>\n",
       "      <td>Summer</td>\n",
       "      <td>Rio de Janeiro</td>\n",
       "      <td>Basketball Men's Basketball</td>\n",
       "      <td>Bronze</td>\n",
       "      <td>1</td>\n",
       "    </tr>\n",
       "    <tr>\n",
       "      <th>51</th>\n",
       "      <td>Spain</td>\n",
       "      <td>2016 Summer</td>\n",
       "      <td>2016</td>\n",
       "      <td>Summer</td>\n",
       "      <td>Rio de Janeiro</td>\n",
       "      <td>Basketball Women's Basketball</td>\n",
       "      <td>Silver</td>\n",
       "      <td>1</td>\n",
       "    </tr>\n",
       "    <tr>\n",
       "      <th>52</th>\n",
       "      <td>Unified Team</td>\n",
       "      <td>1992 Summer</td>\n",
       "      <td>1992</td>\n",
       "      <td>Summer</td>\n",
       "      <td>Barcelona</td>\n",
       "      <td>Basketball Women's Basketball</td>\n",
       "      <td>Gold</td>\n",
       "      <td>1</td>\n",
       "    </tr>\n",
       "    <tr>\n",
       "      <th>53</th>\n",
       "      <td>United States</td>\n",
       "      <td>1936 Summer</td>\n",
       "      <td>1936</td>\n",
       "      <td>Summer</td>\n",
       "      <td>Berlin</td>\n",
       "      <td>Basketball Men's Basketball</td>\n",
       "      <td>Gold</td>\n",
       "      <td>1</td>\n",
       "    </tr>\n",
       "    <tr>\n",
       "      <th>54</th>\n",
       "      <td>United States</td>\n",
       "      <td>1948 Summer</td>\n",
       "      <td>1948</td>\n",
       "      <td>Summer</td>\n",
       "      <td>London</td>\n",
       "      <td>Basketball Men's Basketball</td>\n",
       "      <td>Gold</td>\n",
       "      <td>1</td>\n",
       "    </tr>\n",
       "    <tr>\n",
       "      <th>55</th>\n",
       "      <td>United States</td>\n",
       "      <td>1952 Summer</td>\n",
       "      <td>1952</td>\n",
       "      <td>Summer</td>\n",
       "      <td>Helsinki</td>\n",
       "      <td>Basketball Men's Basketball</td>\n",
       "      <td>Gold</td>\n",
       "      <td>1</td>\n",
       "    </tr>\n",
       "    <tr>\n",
       "      <th>56</th>\n",
       "      <td>United States</td>\n",
       "      <td>1956 Summer</td>\n",
       "      <td>1956</td>\n",
       "      <td>Summer</td>\n",
       "      <td>Melbourne</td>\n",
       "      <td>Basketball Men's Basketball</td>\n",
       "      <td>Gold</td>\n",
       "      <td>1</td>\n",
       "    </tr>\n",
       "    <tr>\n",
       "      <th>57</th>\n",
       "      <td>United States</td>\n",
       "      <td>1960 Summer</td>\n",
       "      <td>1960</td>\n",
       "      <td>Summer</td>\n",
       "      <td>Roma</td>\n",
       "      <td>Basketball Men's Basketball</td>\n",
       "      <td>Gold</td>\n",
       "      <td>1</td>\n",
       "    </tr>\n",
       "    <tr>\n",
       "      <th>58</th>\n",
       "      <td>United States</td>\n",
       "      <td>1964 Summer</td>\n",
       "      <td>1964</td>\n",
       "      <td>Summer</td>\n",
       "      <td>Tokyo</td>\n",
       "      <td>Basketball Men's Basketball</td>\n",
       "      <td>Gold</td>\n",
       "      <td>1</td>\n",
       "    </tr>\n",
       "    <tr>\n",
       "      <th>59</th>\n",
       "      <td>United States</td>\n",
       "      <td>1968 Summer</td>\n",
       "      <td>1968</td>\n",
       "      <td>Summer</td>\n",
       "      <td>Mexico City</td>\n",
       "      <td>Basketball Men's Basketball</td>\n",
       "      <td>Gold</td>\n",
       "      <td>1</td>\n",
       "    </tr>\n",
       "  </tbody>\n",
       "</table>\n",
       "</div>"
      ],
      "text/plain": [
       "                     Team        Games  Year  Season            City  \\\n",
       "0               Argentina  2004 Summer  2004  Summer          Athina   \n",
       "1               Argentina  2008 Summer  2008  Summer         Beijing   \n",
       "2               Australia  1996 Summer  1996  Summer         Atlanta   \n",
       "3               Australia  2000 Summer  2000  Summer          Sydney   \n",
       "4               Australia  2004 Summer  2004  Summer          Athina   \n",
       "5               Australia  2008 Summer  2008  Summer         Beijing   \n",
       "6               Australia  2012 Summer  2012  Summer          London   \n",
       "7                  Brazil  1948 Summer  1948  Summer          London   \n",
       "8                  Brazil  1960 Summer  1960  Summer            Roma   \n",
       "9                  Brazil  1964 Summer  1964  Summer           Tokyo   \n",
       "10                 Brazil  1996 Summer  1996  Summer         Atlanta   \n",
       "11                 Brazil  2000 Summer  2000  Summer          Sydney   \n",
       "12               Bulgaria  1976 Summer  1976  Summer        Montreal   \n",
       "13               Bulgaria  1980 Summer  1980  Summer          Moskva   \n",
       "14                 Canada  1936 Summer  1936  Summer          Berlin   \n",
       "15                  China  1984 Summer  1984  Summer     Los Angeles   \n",
       "16                  China  1992 Summer  1992  Summer       Barcelona   \n",
       "17                Croatia  1992 Summer  1992  Summer       Barcelona   \n",
       "18                   Cuba  1972 Summer  1972  Summer          Munich   \n",
       "19                 France  1948 Summer  1948  Summer          London   \n",
       "20                 France  2000 Summer  2000  Summer          Sydney   \n",
       "21                 France  2012 Summer  2012  Summer          London   \n",
       "22                  Italy  1980 Summer  1980  Summer          Moskva   \n",
       "23                  Italy  2004 Summer  2004  Summer          Athina   \n",
       "24              Lithuania  1992 Summer  1992  Summer       Barcelona   \n",
       "25              Lithuania  1996 Summer  1996  Summer         Atlanta   \n",
       "26              Lithuania  2000 Summer  2000  Summer          Sydney   \n",
       "27                 Mexico  1936 Summer  1936  Summer          Berlin   \n",
       "28                 Russia  2004 Summer  2004  Summer          Athina   \n",
       "29                 Russia  2008 Summer  2008  Summer         Beijing   \n",
       "30                 Russia  2012 Summer  2012  Summer          London   \n",
       "31                 Serbia  2016 Summer  2016  Summer  Rio de Janeiro   \n",
       "32                 Serbia  2016 Summer  2016  Summer  Rio de Janeiro   \n",
       "33  Serbia and Montenegro  1996 Summer  1996  Summer         Atlanta   \n",
       "34            South Korea  1984 Summer  1984  Summer     Los Angeles   \n",
       "35           Soviet Union  1952 Summer  1952  Summer        Helsinki   \n",
       "36           Soviet Union  1956 Summer  1956  Summer       Melbourne   \n",
       "37           Soviet Union  1960 Summer  1960  Summer            Roma   \n",
       "38           Soviet Union  1964 Summer  1964  Summer           Tokyo   \n",
       "39           Soviet Union  1968 Summer  1968  Summer     Mexico City   \n",
       "40           Soviet Union  1972 Summer  1972  Summer          Munich   \n",
       "41           Soviet Union  1976 Summer  1976  Summer        Montreal   \n",
       "42           Soviet Union  1976 Summer  1976  Summer        Montreal   \n",
       "43           Soviet Union  1980 Summer  1980  Summer          Moskva   \n",
       "44           Soviet Union  1980 Summer  1980  Summer          Moskva   \n",
       "45           Soviet Union  1988 Summer  1988  Summer           Seoul   \n",
       "46           Soviet Union  1988 Summer  1988  Summer           Seoul   \n",
       "47                  Spain  1984 Summer  1984  Summer     Los Angeles   \n",
       "48                  Spain  2008 Summer  2008  Summer         Beijing   \n",
       "49                  Spain  2012 Summer  2012  Summer          London   \n",
       "50                  Spain  2016 Summer  2016  Summer  Rio de Janeiro   \n",
       "51                  Spain  2016 Summer  2016  Summer  Rio de Janeiro   \n",
       "52           Unified Team  1992 Summer  1992  Summer       Barcelona   \n",
       "53          United States  1936 Summer  1936  Summer          Berlin   \n",
       "54          United States  1948 Summer  1948  Summer          London   \n",
       "55          United States  1952 Summer  1952  Summer        Helsinki   \n",
       "56          United States  1956 Summer  1956  Summer       Melbourne   \n",
       "57          United States  1960 Summer  1960  Summer            Roma   \n",
       "58          United States  1964 Summer  1964  Summer           Tokyo   \n",
       "59          United States  1968 Summer  1968  Summer     Mexico City   \n",
       "\n",
       "                            Event   Medal  Count  \n",
       "0     Basketball Men's Basketball    Gold      1  \n",
       "1     Basketball Men's Basketball  Bronze      1  \n",
       "2   Basketball Women's Basketball  Bronze      1  \n",
       "3   Basketball Women's Basketball  Silver      1  \n",
       "4   Basketball Women's Basketball  Silver      1  \n",
       "5   Basketball Women's Basketball  Silver      1  \n",
       "6   Basketball Women's Basketball  Bronze      1  \n",
       "7     Basketball Men's Basketball  Bronze      1  \n",
       "8     Basketball Men's Basketball  Bronze      1  \n",
       "9     Basketball Men's Basketball  Bronze      1  \n",
       "10  Basketball Women's Basketball  Silver      1  \n",
       "11  Basketball Women's Basketball  Bronze      1  \n",
       "12  Basketball Women's Basketball  Bronze      1  \n",
       "13  Basketball Women's Basketball  Silver      1  \n",
       "14    Basketball Men's Basketball  Silver      1  \n",
       "15  Basketball Women's Basketball  Bronze      1  \n",
       "16  Basketball Women's Basketball  Silver      1  \n",
       "17    Basketball Men's Basketball  Silver      1  \n",
       "18    Basketball Men's Basketball  Bronze      1  \n",
       "19    Basketball Men's Basketball  Silver      1  \n",
       "20    Basketball Men's Basketball  Silver      1  \n",
       "21  Basketball Women's Basketball  Silver      1  \n",
       "22    Basketball Men's Basketball  Silver      1  \n",
       "23    Basketball Men's Basketball  Silver      1  \n",
       "24    Basketball Men's Basketball  Bronze      1  \n",
       "25    Basketball Men's Basketball  Bronze      1  \n",
       "26    Basketball Men's Basketball  Bronze      1  \n",
       "27    Basketball Men's Basketball  Bronze      1  \n",
       "28  Basketball Women's Basketball  Bronze      1  \n",
       "29  Basketball Women's Basketball  Bronze      1  \n",
       "30    Basketball Men's Basketball  Bronze      1  \n",
       "31    Basketball Men's Basketball  Silver      1  \n",
       "32  Basketball Women's Basketball  Bronze      1  \n",
       "33    Basketball Men's Basketball  Silver      1  \n",
       "34  Basketball Women's Basketball  Silver      1  \n",
       "35    Basketball Men's Basketball  Silver      1  \n",
       "36    Basketball Men's Basketball  Silver      1  \n",
       "37    Basketball Men's Basketball  Silver      1  \n",
       "38    Basketball Men's Basketball  Silver      1  \n",
       "39    Basketball Men's Basketball  Bronze      1  \n",
       "40    Basketball Men's Basketball    Gold      1  \n",
       "41    Basketball Men's Basketball  Bronze      1  \n",
       "42  Basketball Women's Basketball    Gold      1  \n",
       "43    Basketball Men's Basketball  Bronze      1  \n",
       "44  Basketball Women's Basketball    Gold      1  \n",
       "45    Basketball Men's Basketball    Gold      1  \n",
       "46  Basketball Women's Basketball  Bronze      1  \n",
       "47    Basketball Men's Basketball  Silver      1  \n",
       "48    Basketball Men's Basketball  Silver      1  \n",
       "49    Basketball Men's Basketball  Silver      1  \n",
       "50    Basketball Men's Basketball  Bronze      1  \n",
       "51  Basketball Women's Basketball  Silver      1  \n",
       "52  Basketball Women's Basketball    Gold      1  \n",
       "53    Basketball Men's Basketball    Gold      1  \n",
       "54    Basketball Men's Basketball    Gold      1  \n",
       "55    Basketball Men's Basketball    Gold      1  \n",
       "56    Basketball Men's Basketball    Gold      1  \n",
       "57    Basketball Men's Basketball    Gold      1  \n",
       "58    Basketball Men's Basketball    Gold      1  \n",
       "59    Basketball Men's Basketball    Gold      1  "
      ]
     },
     "execution_count": 754,
     "metadata": {},
     "output_type": "execute_result"
    }
   ],
   "source": [
    "# we are getting 281 gold medels for the US team, while the men won 16 gold medals and the women won 9\n",
    "# so the total should be 25\n",
    "\n",
    "# canada had 9 players\n",
    "df_basketball[df_basketball[\"Team\"] == \"Canada\"]\n",
    "\n",
    "# remove all columns, except Team, Games, Year, Season, City, Event, Medal\n",
    "df_basketball = df_basketball[[\"Team\", \"Games\", \"Year\", \"Season\", \"City\", \"Event\", \"Medal\"]]\n",
    "df_basketball\n",
    "\n",
    "# join similar teams, with similar games, year, season, city, event and medal type\n",
    "df_basketball = df_basketball.groupby([\"Team\", \"Games\", \"Year\", \"Season\", \"City\", \"Event\", \"Medal\"]).size().reset_index(name=\"Count\")\n",
    "df_basketball.head(60)"
   ]
  }
 ],
 "metadata": {
  "kernelspec": {
   "display_name": "Python 3.9.13 ('Databehandling-Elias-El-Haddad-9iwQgkqt')",
   "language": "python",
   "name": "python3"
  },
  "language_info": {
   "codemirror_mode": {
    "name": "ipython",
    "version": 3
   },
   "file_extension": ".py",
   "mimetype": "text/x-python",
   "name": "python",
   "nbconvert_exporter": "python",
   "pygments_lexer": "ipython3",
   "version": "3.9.13"
  },
  "orig_nbformat": 4,
  "vscode": {
   "interpreter": {
    "hash": "6df75d60d6b1e6dbb1338a2243622d2f470ea153e2a131d4eccba94b5571e331"
   }
  }
 },
 "nbformat": 4,
 "nbformat_minor": 2
}
