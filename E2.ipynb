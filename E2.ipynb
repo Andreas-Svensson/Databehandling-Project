{
 "cells": [
  {
   "cell_type": "code",
   "execution_count": 1,
   "metadata": {},
   "outputs": [
    {
     "data": {
      "text/html": [
       "<div>\n",
       "<style scoped>\n",
       "    .dataframe tbody tr th:only-of-type {\n",
       "        vertical-align: middle;\n",
       "    }\n",
       "\n",
       "    .dataframe tbody tr th {\n",
       "        vertical-align: top;\n",
       "    }\n",
       "\n",
       "    .dataframe thead th {\n",
       "        text-align: right;\n",
       "    }\n",
       "</style>\n",
       "<table border=\"1\" class=\"dataframe\">\n",
       "  <thead>\n",
       "    <tr style=\"text-align: right;\">\n",
       "      <th></th>\n",
       "      <th>Unnamed: 0</th>\n",
       "      <th>ID</th>\n",
       "      <th>Name</th>\n",
       "      <th>Sex</th>\n",
       "      <th>Age</th>\n",
       "      <th>Height</th>\n",
       "      <th>Weight</th>\n",
       "      <th>Team</th>\n",
       "      <th>NOC</th>\n",
       "      <th>Games</th>\n",
       "      <th>Year</th>\n",
       "      <th>Season</th>\n",
       "      <th>City</th>\n",
       "      <th>Sport</th>\n",
       "      <th>Event</th>\n",
       "      <th>Medal</th>\n",
       "    </tr>\n",
       "  </thead>\n",
       "  <tbody>\n",
       "    <tr>\n",
       "      <th>0</th>\n",
       "      <td>0</td>\n",
       "      <td>1</td>\n",
       "      <td>3a4eef48434c66b3f14ab0221f6762d0ef7c6135ab2790...</td>\n",
       "      <td>M</td>\n",
       "      <td>24.0</td>\n",
       "      <td>180.0</td>\n",
       "      <td>80.0</td>\n",
       "      <td>China</td>\n",
       "      <td>CHN</td>\n",
       "      <td>1992 Summer</td>\n",
       "      <td>1992</td>\n",
       "      <td>Summer</td>\n",
       "      <td>Barcelona</td>\n",
       "      <td>Basketball</td>\n",
       "      <td>Basketball Men's Basketball</td>\n",
       "      <td>NaN</td>\n",
       "    </tr>\n",
       "    <tr>\n",
       "      <th>1</th>\n",
       "      <td>1</td>\n",
       "      <td>2</td>\n",
       "      <td>a6430cc6630934275dc6283f7e97e9625e6587cdddec7a...</td>\n",
       "      <td>M</td>\n",
       "      <td>23.0</td>\n",
       "      <td>170.0</td>\n",
       "      <td>60.0</td>\n",
       "      <td>China</td>\n",
       "      <td>CHN</td>\n",
       "      <td>2012 Summer</td>\n",
       "      <td>2012</td>\n",
       "      <td>Summer</td>\n",
       "      <td>London</td>\n",
       "      <td>Judo</td>\n",
       "      <td>Judo Men's Extra-Lightweight</td>\n",
       "      <td>NaN</td>\n",
       "    </tr>\n",
       "    <tr>\n",
       "      <th>2</th>\n",
       "      <td>2</td>\n",
       "      <td>3</td>\n",
       "      <td>9c198b205332c2c8e1542e0f9534b9e270780a41d978ec...</td>\n",
       "      <td>M</td>\n",
       "      <td>24.0</td>\n",
       "      <td>NaN</td>\n",
       "      <td>NaN</td>\n",
       "      <td>Denmark</td>\n",
       "      <td>DEN</td>\n",
       "      <td>1920 Summer</td>\n",
       "      <td>1920</td>\n",
       "      <td>Summer</td>\n",
       "      <td>Antwerpen</td>\n",
       "      <td>Football</td>\n",
       "      <td>Football Men's Football</td>\n",
       "      <td>NaN</td>\n",
       "    </tr>\n",
       "    <tr>\n",
       "      <th>3</th>\n",
       "      <td>3</td>\n",
       "      <td>4</td>\n",
       "      <td>0a477bb1c5ad39716f9c775e54d18d16aa8b37ada55548...</td>\n",
       "      <td>M</td>\n",
       "      <td>34.0</td>\n",
       "      <td>NaN</td>\n",
       "      <td>NaN</td>\n",
       "      <td>Denmark/Sweden</td>\n",
       "      <td>DEN</td>\n",
       "      <td>1900 Summer</td>\n",
       "      <td>1900</td>\n",
       "      <td>Summer</td>\n",
       "      <td>Paris</td>\n",
       "      <td>Tug-Of-War</td>\n",
       "      <td>Tug-Of-War Men's Tug-Of-War</td>\n",
       "      <td>Gold</td>\n",
       "    </tr>\n",
       "    <tr>\n",
       "      <th>4</th>\n",
       "      <td>4</td>\n",
       "      <td>5</td>\n",
       "      <td>5b7be356aa28178096dc6747f0b8e4e393eaceb5f95310...</td>\n",
       "      <td>F</td>\n",
       "      <td>21.0</td>\n",
       "      <td>185.0</td>\n",
       "      <td>82.0</td>\n",
       "      <td>Netherlands</td>\n",
       "      <td>NED</td>\n",
       "      <td>1988 Winter</td>\n",
       "      <td>1988</td>\n",
       "      <td>Winter</td>\n",
       "      <td>Calgary</td>\n",
       "      <td>Speed Skating</td>\n",
       "      <td>Speed Skating Women's 500 metres</td>\n",
       "      <td>NaN</td>\n",
       "    </tr>\n",
       "  </tbody>\n",
       "</table>\n",
       "</div>"
      ],
      "text/plain": [
       "   Unnamed: 0  ID                                               Name Sex  \\\n",
       "0           0   1  3a4eef48434c66b3f14ab0221f6762d0ef7c6135ab2790...   M   \n",
       "1           1   2  a6430cc6630934275dc6283f7e97e9625e6587cdddec7a...   M   \n",
       "2           2   3  9c198b205332c2c8e1542e0f9534b9e270780a41d978ec...   M   \n",
       "3           3   4  0a477bb1c5ad39716f9c775e54d18d16aa8b37ada55548...   M   \n",
       "4           4   5  5b7be356aa28178096dc6747f0b8e4e393eaceb5f95310...   F   \n",
       "\n",
       "    Age  Height  Weight            Team  NOC        Games  Year  Season  \\\n",
       "0  24.0   180.0    80.0           China  CHN  1992 Summer  1992  Summer   \n",
       "1  23.0   170.0    60.0           China  CHN  2012 Summer  2012  Summer   \n",
       "2  24.0     NaN     NaN         Denmark  DEN  1920 Summer  1920  Summer   \n",
       "3  34.0     NaN     NaN  Denmark/Sweden  DEN  1900 Summer  1900  Summer   \n",
       "4  21.0   185.0    82.0     Netherlands  NED  1988 Winter  1988  Winter   \n",
       "\n",
       "        City          Sport                             Event Medal  \n",
       "0  Barcelona     Basketball       Basketball Men's Basketball   NaN  \n",
       "1     London           Judo      Judo Men's Extra-Lightweight   NaN  \n",
       "2  Antwerpen       Football           Football Men's Football   NaN  \n",
       "3      Paris     Tug-Of-War       Tug-Of-War Men's Tug-Of-War  Gold  \n",
       "4    Calgary  Speed Skating  Speed Skating Women's 500 metres   NaN  "
      ]
     },
     "execution_count": 1,
     "metadata": {},
     "output_type": "execute_result"
    }
   ],
   "source": [
    "import pandas as pd\n",
    "import plotly_express as px \n",
    "import plotly.graph_objects as go\n",
    "\n",
    "Athlete_events = pd.read_csv(\"Data/anonymized_olympics_data.csv\")\n",
    "Noc_regions = pd.read_csv(\"Data/noc_regions.csv\")\n",
    "\n",
    "df_athlete = pd.DataFrame(Athlete_events)\n",
    "df_regions = pd.DataFrame(Noc_regions)\n",
    "df_athlete.head()"
   ]
  },
  {
   "cell_type": "markdown",
   "metadata": {},
   "source": [
    "### Four sports to study, basketball, football, ice hockey, and boxing."
   ]
  },
  {
   "cell_type": "code",
   "execution_count": 2,
   "metadata": {},
   "outputs": [
    {
     "data": {
      "text/html": [
       "<div>\n",
       "<style scoped>\n",
       "    .dataframe tbody tr th:only-of-type {\n",
       "        vertical-align: middle;\n",
       "    }\n",
       "\n",
       "    .dataframe tbody tr th {\n",
       "        vertical-align: top;\n",
       "    }\n",
       "\n",
       "    .dataframe thead th {\n",
       "        text-align: right;\n",
       "    }\n",
       "</style>\n",
       "<table border=\"1\" class=\"dataframe\">\n",
       "  <thead>\n",
       "    <tr style=\"text-align: right;\">\n",
       "      <th></th>\n",
       "      <th>Unnamed: 0</th>\n",
       "      <th>ID</th>\n",
       "      <th>Name</th>\n",
       "      <th>Sex</th>\n",
       "      <th>Age</th>\n",
       "      <th>Height</th>\n",
       "      <th>Weight</th>\n",
       "      <th>Team</th>\n",
       "      <th>NOC</th>\n",
       "      <th>Games</th>\n",
       "      <th>Year</th>\n",
       "      <th>Season</th>\n",
       "      <th>City</th>\n",
       "      <th>Sport</th>\n",
       "      <th>Event</th>\n",
       "      <th>Medal</th>\n",
       "    </tr>\n",
       "  </thead>\n",
       "  <tbody>\n",
       "    <tr>\n",
       "      <th>0</th>\n",
       "      <td>0</td>\n",
       "      <td>1</td>\n",
       "      <td>3a4eef48434c66b3f14ab0221f6762d0ef7c6135ab2790...</td>\n",
       "      <td>M</td>\n",
       "      <td>24.0</td>\n",
       "      <td>180.0</td>\n",
       "      <td>80.0</td>\n",
       "      <td>China</td>\n",
       "      <td>CHN</td>\n",
       "      <td>1992 Summer</td>\n",
       "      <td>1992</td>\n",
       "      <td>Summer</td>\n",
       "      <td>Barcelona</td>\n",
       "      <td>Basketball</td>\n",
       "      <td>Basketball Men's Basketball</td>\n",
       "      <td>NaN</td>\n",
       "    </tr>\n",
       "    <tr>\n",
       "      <th>1</th>\n",
       "      <td>2</td>\n",
       "      <td>3</td>\n",
       "      <td>9c198b205332c2c8e1542e0f9534b9e270780a41d978ec...</td>\n",
       "      <td>M</td>\n",
       "      <td>24.0</td>\n",
       "      <td>NaN</td>\n",
       "      <td>NaN</td>\n",
       "      <td>Denmark</td>\n",
       "      <td>DEN</td>\n",
       "      <td>1920 Summer</td>\n",
       "      <td>1920</td>\n",
       "      <td>Summer</td>\n",
       "      <td>Antwerpen</td>\n",
       "      <td>Football</td>\n",
       "      <td>Football Men's Football</td>\n",
       "      <td>NaN</td>\n",
       "    </tr>\n",
       "    <tr>\n",
       "      <th>2</th>\n",
       "      <td>28</td>\n",
       "      <td>9</td>\n",
       "      <td>a11b41b7e02d7d5ffa770946f8e9cc7f793eefdf62dd90...</td>\n",
       "      <td>M</td>\n",
       "      <td>26.0</td>\n",
       "      <td>186.0</td>\n",
       "      <td>96.0</td>\n",
       "      <td>Finland</td>\n",
       "      <td>FIN</td>\n",
       "      <td>2002 Winter</td>\n",
       "      <td>2002</td>\n",
       "      <td>Winter</td>\n",
       "      <td>Salt Lake City</td>\n",
       "      <td>Ice Hockey</td>\n",
       "      <td>Ice Hockey Men's Ice Hockey</td>\n",
       "      <td>NaN</td>\n",
       "    </tr>\n",
       "    <tr>\n",
       "      <th>3</th>\n",
       "      <td>40</td>\n",
       "      <td>16</td>\n",
       "      <td>ae93a503a6f4349bbb966008ad5ed852094c75c4ef1d08...</td>\n",
       "      <td>M</td>\n",
       "      <td>28.0</td>\n",
       "      <td>184.0</td>\n",
       "      <td>85.0</td>\n",
       "      <td>Finland</td>\n",
       "      <td>FIN</td>\n",
       "      <td>2014 Winter</td>\n",
       "      <td>2014</td>\n",
       "      <td>Winter</td>\n",
       "      <td>Sochi</td>\n",
       "      <td>Ice Hockey</td>\n",
       "      <td>Ice Hockey Men's Ice Hockey</td>\n",
       "      <td>Bronze</td>\n",
       "    </tr>\n",
       "    <tr>\n",
       "      <th>4</th>\n",
       "      <td>105</td>\n",
       "      <td>37</td>\n",
       "      <td>6ad689f90c7f37c07ea0f681e85f1bbe8621514ff6f5f3...</td>\n",
       "      <td>F</td>\n",
       "      <td>23.0</td>\n",
       "      <td>182.0</td>\n",
       "      <td>64.0</td>\n",
       "      <td>Norway</td>\n",
       "      <td>NOR</td>\n",
       "      <td>1996 Summer</td>\n",
       "      <td>1996</td>\n",
       "      <td>Summer</td>\n",
       "      <td>Atlanta</td>\n",
       "      <td>Football</td>\n",
       "      <td>Football Women's Football</td>\n",
       "      <td>Bronze</td>\n",
       "    </tr>\n",
       "  </tbody>\n",
       "</table>\n",
       "</div>"
      ],
      "text/plain": [
       "   Unnamed: 0  ID                                               Name Sex  \\\n",
       "0           0   1  3a4eef48434c66b3f14ab0221f6762d0ef7c6135ab2790...   M   \n",
       "1           2   3  9c198b205332c2c8e1542e0f9534b9e270780a41d978ec...   M   \n",
       "2          28   9  a11b41b7e02d7d5ffa770946f8e9cc7f793eefdf62dd90...   M   \n",
       "3          40  16  ae93a503a6f4349bbb966008ad5ed852094c75c4ef1d08...   M   \n",
       "4         105  37  6ad689f90c7f37c07ea0f681e85f1bbe8621514ff6f5f3...   F   \n",
       "\n",
       "    Age  Height  Weight     Team  NOC        Games  Year  Season  \\\n",
       "0  24.0   180.0    80.0    China  CHN  1992 Summer  1992  Summer   \n",
       "1  24.0     NaN     NaN  Denmark  DEN  1920 Summer  1920  Summer   \n",
       "2  26.0   186.0    96.0  Finland  FIN  2002 Winter  2002  Winter   \n",
       "3  28.0   184.0    85.0  Finland  FIN  2014 Winter  2014  Winter   \n",
       "4  23.0   182.0    64.0   Norway  NOR  1996 Summer  1996  Summer   \n",
       "\n",
       "             City       Sport                        Event   Medal  \n",
       "0       Barcelona  Basketball  Basketball Men's Basketball     NaN  \n",
       "1       Antwerpen    Football      Football Men's Football     NaN  \n",
       "2  Salt Lake City  Ice Hockey  Ice Hockey Men's Ice Hockey     NaN  \n",
       "3           Sochi  Ice Hockey  Ice Hockey Men's Ice Hockey  Bronze  \n",
       "4         Atlanta    Football    Football Women's Football  Bronze  "
      ]
     },
     "execution_count": 2,
     "metadata": {},
     "output_type": "execute_result"
    }
   ],
   "source": [
    "# Create a dataframe for the sports of interest\n",
    "df_sports = df_athlete[df_athlete['Sport'].isin(['Basketball', 'Football', 'Ice Hockey', 'Boxing'])]\n",
    "df_sports.reset_index(drop=True, inplace=True)\n",
    "df_sports.head()"
   ]
  },
  {
   "cell_type": "markdown",
   "metadata": {},
   "source": [
    "Note: the Unified Team is the name used for the sports team of the former Soviet Union at the 1992 Winter Olympics in Albertville and the 1992 Summer Olympics in Barcelona\n",
    "- source: https://en.wikipedia.org/wiki/Unified_Team_at_the_Olympics"
   ]
  },
  {
   "cell_type": "code",
   "execution_count": 3,
   "metadata": {},
   "outputs": [
    {
     "name": "stdout",
     "output_type": "stream",
     "text": [
      "The percentage of missing values in Medal column is 77.57%\n",
      "The percentage of missing values in Age column is 3.97%\n"
     ]
    }
   ],
   "source": [
    "# get the percentage of missing values Age and Medal columns\n",
    "print(f\"The percentage of missing values in Medal column is {round(df_sports['Medal'].isnull().sum()/len(df_sports['Medal'])*100, 2)}%\")\n",
    "print(f\"The percentage of missing values in Age column is {round(df_sports['Age'].isnull().sum()/len(df_sports['Age'])*100, 2)}%\")"
   ]
  },
  {
   "cell_type": "markdown",
   "metadata": {},
   "source": [
    "- As we can see, that the proportion of missing values in the Age column is about 3.97%.\n",
    "- After thorough examination, the missing values in Medal column are not missing at random, they are missing because the athlete did not win a medal. We will deal with it throughout the project if needed."
   ]
  },
  {
   "cell_type": "code",
   "execution_count": 4,
   "metadata": {},
   "outputs": [],
   "source": [
    "# replace the missing values in age column with the mean age\n",
    "# mean_age = df_sports['Age'].mean()\n",
    "# df_sports['Age'].fillna(mean_age, inplace=True)"
   ]
  },
  {
   "cell_type": "markdown",
   "metadata": {},
   "source": [
    "### Boxing analysis and visualization"
   ]
  },
  {
   "cell_type": "code",
   "execution_count": 5,
   "metadata": {},
   "outputs": [
    {
     "data": {
      "text/html": [
       "<div>\n",
       "<style scoped>\n",
       "    .dataframe tbody tr th:only-of-type {\n",
       "        vertical-align: middle;\n",
       "    }\n",
       "\n",
       "    .dataframe tbody tr th {\n",
       "        vertical-align: top;\n",
       "    }\n",
       "\n",
       "    .dataframe thead th {\n",
       "        text-align: right;\n",
       "    }\n",
       "</style>\n",
       "<table border=\"1\" class=\"dataframe\">\n",
       "  <thead>\n",
       "    <tr style=\"text-align: right;\">\n",
       "      <th></th>\n",
       "      <th>Unnamed: 0</th>\n",
       "      <th>ID</th>\n",
       "      <th>Name</th>\n",
       "      <th>Sex</th>\n",
       "      <th>Age</th>\n",
       "      <th>Height</th>\n",
       "      <th>Weight</th>\n",
       "      <th>Team</th>\n",
       "      <th>NOC</th>\n",
       "      <th>Games</th>\n",
       "      <th>Year</th>\n",
       "      <th>Season</th>\n",
       "      <th>City</th>\n",
       "      <th>Sport</th>\n",
       "      <th>Event</th>\n",
       "      <th>Medal</th>\n",
       "    </tr>\n",
       "  </thead>\n",
       "  <tbody>\n",
       "    <tr>\n",
       "      <th>6</th>\n",
       "      <td>134</td>\n",
       "      <td>48</td>\n",
       "      <td>0ac6985ff1cd57288555dc653690963912f4c85b3019f0...</td>\n",
       "      <td>M</td>\n",
       "      <td>24.0</td>\n",
       "      <td>NaN</td>\n",
       "      <td>64.0</td>\n",
       "      <td>Morocco</td>\n",
       "      <td>MAR</td>\n",
       "      <td>2012 Summer</td>\n",
       "      <td>2012</td>\n",
       "      <td>Summer</td>\n",
       "      <td>London</td>\n",
       "      <td>Boxing</td>\n",
       "      <td>Boxing Men's Light-Welterweight</td>\n",
       "      <td>NaN</td>\n",
       "    </tr>\n",
       "    <tr>\n",
       "      <th>7</th>\n",
       "      <td>147</td>\n",
       "      <td>54</td>\n",
       "      <td>762682d159fc9a859fdc85e77ae45aeaf8f593e75c8c7a...</td>\n",
       "      <td>M</td>\n",
       "      <td>NaN</td>\n",
       "      <td>NaN</td>\n",
       "      <td>NaN</td>\n",
       "      <td>Iran</td>\n",
       "      <td>IRI</td>\n",
       "      <td>1948 Summer</td>\n",
       "      <td>1948</td>\n",
       "      <td>Summer</td>\n",
       "      <td>London</td>\n",
       "      <td>Boxing</td>\n",
       "      <td>Boxing Men's Heavyweight</td>\n",
       "      <td>NaN</td>\n",
       "    </tr>\n",
       "    <tr>\n",
       "      <th>8</th>\n",
       "      <td>151</td>\n",
       "      <td>57</td>\n",
       "      <td>3455ef83abbb13cb9ab0259886130d439eef0026225ae0...</td>\n",
       "      <td>M</td>\n",
       "      <td>24.0</td>\n",
       "      <td>176.0</td>\n",
       "      <td>66.0</td>\n",
       "      <td>Bulgaria</td>\n",
       "      <td>BUL</td>\n",
       "      <td>1988 Summer</td>\n",
       "      <td>1988</td>\n",
       "      <td>Summer</td>\n",
       "      <td>Seoul</td>\n",
       "      <td>Boxing</td>\n",
       "      <td>Boxing Men's Light-Welterweight</td>\n",
       "      <td>NaN</td>\n",
       "    </tr>\n",
       "    <tr>\n",
       "      <th>10</th>\n",
       "      <td>162</td>\n",
       "      <td>66</td>\n",
       "      <td>cde2924dfe52473db1370b21ede6848cde04c609b07b0d...</td>\n",
       "      <td>M</td>\n",
       "      <td>NaN</td>\n",
       "      <td>156.0</td>\n",
       "      <td>48.0</td>\n",
       "      <td>Sudan</td>\n",
       "      <td>SUD</td>\n",
       "      <td>1972 Summer</td>\n",
       "      <td>1972</td>\n",
       "      <td>Summer</td>\n",
       "      <td>Munich</td>\n",
       "      <td>Boxing</td>\n",
       "      <td>Boxing Men's Flyweight</td>\n",
       "      <td>NaN</td>\n",
       "    </tr>\n",
       "    <tr>\n",
       "      <th>13</th>\n",
       "      <td>179</td>\n",
       "      <td>77</td>\n",
       "      <td>6e7407999a06307c7ad947556c396977650b721e7b8814...</td>\n",
       "      <td>M</td>\n",
       "      <td>27.0</td>\n",
       "      <td>166.0</td>\n",
       "      <td>75.0</td>\n",
       "      <td>Cameroon</td>\n",
       "      <td>CMR</td>\n",
       "      <td>1968 Summer</td>\n",
       "      <td>1968</td>\n",
       "      <td>Summer</td>\n",
       "      <td>Mexico City</td>\n",
       "      <td>Boxing</td>\n",
       "      <td>Boxing Men's Middleweight</td>\n",
       "      <td>NaN</td>\n",
       "    </tr>\n",
       "  </tbody>\n",
       "</table>\n",
       "</div>"
      ],
      "text/plain": [
       "    Unnamed: 0  ID                                               Name Sex  \\\n",
       "6          134  48  0ac6985ff1cd57288555dc653690963912f4c85b3019f0...   M   \n",
       "7          147  54  762682d159fc9a859fdc85e77ae45aeaf8f593e75c8c7a...   M   \n",
       "8          151  57  3455ef83abbb13cb9ab0259886130d439eef0026225ae0...   M   \n",
       "10         162  66  cde2924dfe52473db1370b21ede6848cde04c609b07b0d...   M   \n",
       "13         179  77  6e7407999a06307c7ad947556c396977650b721e7b8814...   M   \n",
       "\n",
       "     Age  Height  Weight      Team  NOC        Games  Year  Season  \\\n",
       "6   24.0     NaN    64.0   Morocco  MAR  2012 Summer  2012  Summer   \n",
       "7    NaN     NaN     NaN      Iran  IRI  1948 Summer  1948  Summer   \n",
       "8   24.0   176.0    66.0  Bulgaria  BUL  1988 Summer  1988  Summer   \n",
       "10   NaN   156.0    48.0     Sudan  SUD  1972 Summer  1972  Summer   \n",
       "13  27.0   166.0    75.0  Cameroon  CMR  1968 Summer  1968  Summer   \n",
       "\n",
       "           City   Sport                            Event Medal  \n",
       "6        London  Boxing  Boxing Men's Light-Welterweight   NaN  \n",
       "7        London  Boxing         Boxing Men's Heavyweight   NaN  \n",
       "8         Seoul  Boxing  Boxing Men's Light-Welterweight   NaN  \n",
       "10       Munich  Boxing           Boxing Men's Flyweight   NaN  \n",
       "13  Mexico City  Boxing        Boxing Men's Middleweight   NaN  "
      ]
     },
     "execution_count": 5,
     "metadata": {},
     "output_type": "execute_result"
    }
   ],
   "source": [
    "df_boxing = df_sports[df_sports[\"Sport\"] == \"Boxing\"]\n",
    "df_boxing.head()"
   ]
  },
  {
   "cell_type": "code",
   "execution_count": 6,
   "metadata": {},
   "outputs": [
    {
     "data": {
      "text/plain": [
       "array(['Summer'], dtype=object)"
      ]
     },
     "execution_count": 6,
     "metadata": {},
     "output_type": "execute_result"
    }
   ],
   "source": [
    "df_boxing[\"Season\"].unique() # boxing only has Summer season"
   ]
  },
  {
   "cell_type": "markdown",
   "metadata": {},
   "source": [
    "Since we are trying to visualize the medal distribution for each land(not athlete), we have to exclude the athletes who did not win a medal."
   ]
  },
  {
   "cell_type": "code",
   "execution_count": 7,
   "metadata": {},
   "outputs": [
    {
     "data": {
      "text/html": [
       "<div>\n",
       "<style scoped>\n",
       "    .dataframe tbody tr th:only-of-type {\n",
       "        vertical-align: middle;\n",
       "    }\n",
       "\n",
       "    .dataframe tbody tr th {\n",
       "        vertical-align: top;\n",
       "    }\n",
       "\n",
       "    .dataframe thead th {\n",
       "        text-align: right;\n",
       "    }\n",
       "</style>\n",
       "<table border=\"1\" class=\"dataframe\">\n",
       "  <thead>\n",
       "    <tr style=\"text-align: right;\">\n",
       "      <th></th>\n",
       "      <th>Age</th>\n",
       "      <th>Sex</th>\n",
       "      <th>Team</th>\n",
       "      <th>Year</th>\n",
       "      <th>Medal</th>\n",
       "    </tr>\n",
       "  </thead>\n",
       "  <tbody>\n",
       "    <tr>\n",
       "      <th>69</th>\n",
       "      <td>26.0</td>\n",
       "      <td>M</td>\n",
       "      <td>Uzbekistan</td>\n",
       "      <td>2000</td>\n",
       "      <td>Gold</td>\n",
       "    </tr>\n",
       "    <tr>\n",
       "      <th>134</th>\n",
       "      <td>21.0</td>\n",
       "      <td>M</td>\n",
       "      <td>Puerto Rico</td>\n",
       "      <td>1992</td>\n",
       "      <td>Bronze</td>\n",
       "    </tr>\n",
       "    <tr>\n",
       "      <th>140</th>\n",
       "      <td>29.0</td>\n",
       "      <td>M</td>\n",
       "      <td>Morocco</td>\n",
       "      <td>1988</td>\n",
       "      <td>Bronze</td>\n",
       "    </tr>\n",
       "    <tr>\n",
       "      <th>142</th>\n",
       "      <td>27.0</td>\n",
       "      <td>M</td>\n",
       "      <td>Morocco</td>\n",
       "      <td>1992</td>\n",
       "      <td>Bronze</td>\n",
       "    </tr>\n",
       "    <tr>\n",
       "      <th>149</th>\n",
       "      <td>23.0</td>\n",
       "      <td>M</td>\n",
       "      <td>Cuba</td>\n",
       "      <td>2008</td>\n",
       "      <td>Bronze</td>\n",
       "    </tr>\n",
       "    <tr>\n",
       "      <th>...</th>\n",
       "      <td>...</td>\n",
       "      <td>...</td>\n",
       "      <td>...</td>\n",
       "      <td>...</td>\n",
       "      <td>...</td>\n",
       "    </tr>\n",
       "    <tr>\n",
       "      <th>22788</th>\n",
       "      <td>27.0</td>\n",
       "      <td>M</td>\n",
       "      <td>China</td>\n",
       "      <td>2008</td>\n",
       "      <td>Gold</td>\n",
       "    </tr>\n",
       "    <tr>\n",
       "      <th>22789</th>\n",
       "      <td>31.0</td>\n",
       "      <td>M</td>\n",
       "      <td>China</td>\n",
       "      <td>2012</td>\n",
       "      <td>Gold</td>\n",
       "    </tr>\n",
       "    <tr>\n",
       "      <th>22813</th>\n",
       "      <td>20.0</td>\n",
       "      <td>M</td>\n",
       "      <td>Italy</td>\n",
       "      <td>1948</td>\n",
       "      <td>Silver</td>\n",
       "    </tr>\n",
       "    <tr>\n",
       "      <th>22821</th>\n",
       "      <td>22.0</td>\n",
       "      <td>M</td>\n",
       "      <td>East Germany</td>\n",
       "      <td>1988</td>\n",
       "      <td>Gold</td>\n",
       "    </tr>\n",
       "    <tr>\n",
       "      <th>22836</th>\n",
       "      <td>21.0</td>\n",
       "      <td>M</td>\n",
       "      <td>Belarus</td>\n",
       "      <td>2004</td>\n",
       "      <td>Silver</td>\n",
       "    </tr>\n",
       "  </tbody>\n",
       "</table>\n",
       "<p>944 rows × 5 columns</p>\n",
       "</div>"
      ],
      "text/plain": [
       "        Age Sex          Team  Year   Medal\n",
       "69     26.0   M    Uzbekistan  2000    Gold\n",
       "134    21.0   M   Puerto Rico  1992  Bronze\n",
       "140    29.0   M       Morocco  1988  Bronze\n",
       "142    27.0   M       Morocco  1992  Bronze\n",
       "149    23.0   M          Cuba  2008  Bronze\n",
       "...     ...  ..           ...   ...     ...\n",
       "22788  27.0   M         China  2008    Gold\n",
       "22789  31.0   M         China  2012    Gold\n",
       "22813  20.0   M         Italy  1948  Silver\n",
       "22821  22.0   M  East Germany  1988    Gold\n",
       "22836  21.0   M       Belarus  2004  Silver\n",
       "\n",
       "[944 rows x 5 columns]"
      ]
     },
     "execution_count": 7,
     "metadata": {},
     "output_type": "execute_result"
    }
   ],
   "source": [
    "# remove all columns except Age, Team and Medal\n",
    "df_boxing = df_boxing[[\"Age\",\"Sex\", \"Team\", \"Year\", \"Medal\"]]\n",
    "\n",
    "# remove all rows where the medal is NaN\n",
    "df_boxing = df_boxing[df_boxing[\"Medal\"].notna()]\n",
    "df_boxing"
   ]
  },
  {
   "cell_type": "code",
   "execution_count": 8,
   "metadata": {},
   "outputs": [
    {
     "data": {
      "text/html": [
       "<div>\n",
       "<style scoped>\n",
       "    .dataframe tbody tr th:only-of-type {\n",
       "        vertical-align: middle;\n",
       "    }\n",
       "\n",
       "    .dataframe tbody tr th {\n",
       "        vertical-align: top;\n",
       "    }\n",
       "\n",
       "    .dataframe thead th {\n",
       "        text-align: right;\n",
       "    }\n",
       "</style>\n",
       "<table border=\"1\" class=\"dataframe\">\n",
       "  <thead>\n",
       "    <tr style=\"text-align: right;\">\n",
       "      <th></th>\n",
       "      <th>Team</th>\n",
       "      <th>Medal</th>\n",
       "      <th>Count</th>\n",
       "    </tr>\n",
       "  </thead>\n",
       "  <tbody>\n",
       "    <tr>\n",
       "      <th>0</th>\n",
       "      <td>United States</td>\n",
       "      <td>Gold</td>\n",
       "      <td>50</td>\n",
       "    </tr>\n",
       "    <tr>\n",
       "      <th>1</th>\n",
       "      <td>United States</td>\n",
       "      <td>Bronze</td>\n",
       "      <td>39</td>\n",
       "    </tr>\n",
       "    <tr>\n",
       "      <th>2</th>\n",
       "      <td>Cuba</td>\n",
       "      <td>Gold</td>\n",
       "      <td>37</td>\n",
       "    </tr>\n",
       "    <tr>\n",
       "      <th>3</th>\n",
       "      <td>Poland</td>\n",
       "      <td>Bronze</td>\n",
       "      <td>26</td>\n",
       "    </tr>\n",
       "    <tr>\n",
       "      <th>4</th>\n",
       "      <td>Great Britain</td>\n",
       "      <td>Bronze</td>\n",
       "      <td>25</td>\n",
       "    </tr>\n",
       "    <tr>\n",
       "      <th>...</th>\n",
       "      <td>...</td>\n",
       "      <td>...</td>\n",
       "      <td>...</td>\n",
       "    </tr>\n",
       "    <tr>\n",
       "      <th>167</th>\n",
       "      <td>Guyana</td>\n",
       "      <td>Bronze</td>\n",
       "      <td>1</td>\n",
       "    </tr>\n",
       "    <tr>\n",
       "      <th>168</th>\n",
       "      <td>Ghana</td>\n",
       "      <td>Silver</td>\n",
       "      <td>1</td>\n",
       "    </tr>\n",
       "    <tr>\n",
       "      <th>169</th>\n",
       "      <td>Georgia</td>\n",
       "      <td>Bronze</td>\n",
       "      <td>1</td>\n",
       "    </tr>\n",
       "    <tr>\n",
       "      <th>170</th>\n",
       "      <td>Finland</td>\n",
       "      <td>Silver</td>\n",
       "      <td>1</td>\n",
       "    </tr>\n",
       "    <tr>\n",
       "      <th>171</th>\n",
       "      <td>Zambia</td>\n",
       "      <td>Bronze</td>\n",
       "      <td>1</td>\n",
       "    </tr>\n",
       "  </tbody>\n",
       "</table>\n",
       "<p>172 rows × 3 columns</p>\n",
       "</div>"
      ],
      "text/plain": [
       "              Team   Medal  Count\n",
       "0    United States    Gold     50\n",
       "1    United States  Bronze     39\n",
       "2             Cuba    Gold     37\n",
       "3           Poland  Bronze     26\n",
       "4    Great Britain  Bronze     25\n",
       "..             ...     ...    ...\n",
       "167         Guyana  Bronze      1\n",
       "168          Ghana  Silver      1\n",
       "169        Georgia  Bronze      1\n",
       "170        Finland  Silver      1\n",
       "171         Zambia  Bronze      1\n",
       "\n",
       "[172 rows x 3 columns]"
      ]
     },
     "execution_count": 8,
     "metadata": {},
     "output_type": "execute_result"
    }
   ],
   "source": [
    "# got this from https://stackoverflow.com/questions/39778686/pandas-reset-index-after-groupby-value-counts\n",
    "\n",
    "df_boxing_medal = (\n",
    "    df_boxing.groupby([\"Team\", \"Medal\"]) # use groupby to group the data by Team and Medal\n",
    "    .size() # size() counts the number of rows in each group\n",
    "    .reset_index(name=\"Count\") # reset_index(name=\"Count\") resets the index and adds a new column called Count to keep track of the number of medals of each type\n",
    "    .sort_values(by=[\"Count\"], ascending=False) # sort by count of medals\n",
    "    .reset_index(drop=True) \n",
    ")\n",
    "df_boxing_medal\n"
   ]
  },
  {
   "cell_type": "code",
   "execution_count": 9,
   "metadata": {},
   "outputs": [
    {
     "data": {
      "application/vnd.plotly.v1+json": {
       "config": {
        "plotlyServerURL": "https://plot.ly"
       },
       "data": [
        {
         "alignmentgroup": "True",
         "hovertemplate": "Medal=Gold<br>Team=%{x}<br>Count=%{y}<extra></extra>",
         "legendgroup": "Gold",
         "marker": {
          "color": "gold",
          "pattern": {
           "shape": ""
          }
         },
         "name": "Gold",
         "offsetgroup": "Gold",
         "orientation": "v",
         "showlegend": true,
         "textposition": "auto",
         "type": "bar",
         "x": [
          "United States",
          "Cuba",
          "Great Britain",
          "Italy",
          "Soviet Union",
          "Hungary",
          "Russia",
          "Poland",
          "Argentina",
          "Kazakhstan",
          "France",
          "South Africa",
          "Germany",
          "East Germany",
          "Bulgaria",
          "Thailand",
          "Uzbekistan",
          "Ukraine",
          "Canada",
          "Yugoslavia",
          "China",
          "South Korea",
          "Czechoslovakia",
          "Mexico",
          "Ireland",
          "North Korea",
          "Finland",
          "Japan",
          "West Germany",
          "Venezuela",
          "Romania",
          "Denmark",
          "Brazil",
          "Belgium",
          "Dominican Republic",
          "Mongolia",
          "Norway",
          "New Zealand",
          "Netherlands",
          "Algeria",
          "Kenya"
         ],
         "xaxis": "x",
         "y": [
          50,
          37,
          18,
          15,
          14,
          10,
          10,
          8,
          7,
          7,
          6,
          6,
          5,
          5,
          4,
          4,
          4,
          4,
          3,
          3,
          3,
          3,
          3,
          2,
          2,
          2,
          2,
          2,
          1,
          1,
          1,
          1,
          1,
          1,
          1,
          1,
          1,
          1,
          1,
          1,
          1
         ],
         "yaxis": "y"
        },
        {
         "alignmentgroup": "True",
         "hovertemplate": "Medal=Silver<br>Team=%{x}<br>Count=%{y}<extra></extra>",
         "legendgroup": "Silver",
         "marker": {
          "color": "silver",
          "pattern": {
           "shape": ""
          }
         },
         "name": "Silver",
         "offsetgroup": "Silver",
         "orientation": "v",
         "showlegend": true,
         "textposition": "auto",
         "type": "bar",
         "x": [
          "United States",
          "Soviet Union",
          "Cuba",
          "Italy",
          "Great Britain",
          "Germany",
          "France",
          "Poland",
          "Romania",
          "Kazakhstan",
          "Argentina",
          "Canada",
          "South Korea",
          "Russia",
          "Ireland",
          "Sweden",
          "Denmark",
          "Bulgaria",
          "South Africa",
          "Thailand",
          "North Korea",
          "Nigeria",
          "Uganda",
          "Mexico",
          "Ukraine",
          "China",
          "Norway",
          "Philippines",
          "Hungary",
          "Uzbekistan",
          "East Germany",
          "Belarus",
          "Spain",
          "Turkey",
          "Netherlands",
          "Mongolia",
          "Yugoslavia",
          "Venezuela",
          "Tonga",
          "Unified Team",
          "Kenya",
          "Puerto Rico",
          "Czechoslovakia",
          "Czech Republic",
          "Colombia",
          "Chile",
          "Cameroon",
          "Brazil",
          "Belgium",
          "Azerbaijan",
          "Australia",
          "Australasia",
          "Egypt",
          "New Zealand",
          "Estonia",
          "Ghana",
          "Finland"
         ],
         "xaxis": "x",
         "y": [
          24,
          19,
          19,
          15,
          13,
          12,
          9,
          9,
          9,
          7,
          7,
          7,
          7,
          5,
          5,
          5,
          5,
          5,
          4,
          4,
          3,
          3,
          3,
          3,
          3,
          3,
          2,
          2,
          2,
          2,
          2,
          2,
          2,
          2,
          2,
          2,
          2,
          2,
          1,
          1,
          1,
          1,
          1,
          1,
          1,
          1,
          1,
          1,
          1,
          1,
          1,
          1,
          1,
          1,
          1,
          1,
          1
         ],
         "yaxis": "y"
        },
        {
         "alignmentgroup": "True",
         "hovertemplate": "Medal=Bronze<br>Team=%{x}<br>Count=%{y}<extra></extra>",
         "legendgroup": "Bronze",
         "marker": {
          "color": "brown",
          "pattern": {
           "shape": ""
          }
         },
         "name": "Bronze",
         "offsetgroup": "Bronze",
         "orientation": "v",
         "showlegend": true,
         "textposition": "auto",
         "type": "bar",
         "x": [
          "United States",
          "Poland",
          "Great Britain",
          "Soviet Union",
          "Cuba",
          "Italy",
          "Russia",
          "Romania",
          "Finland",
          "Germany",
          "Argentina",
          "France",
          "South Korea",
          "Ireland",
          "South Africa",
          "Bulgaria",
          "Kazakhstan",
          "Hungary",
          "Mexico",
          "Uzbekistan",
          "Azerbaijan",
          "Canada",
          "Ukraine",
          "Yugoslavia",
          "East Germany",
          "Sweden",
          "Denmark",
          "Thailand",
          "China",
          "Puerto Rico",
          "Kenya",
          "Algeria",
          "West Germany",
          "Morocco",
          "Mongolia",
          "Colombia",
          "Netherlands",
          "Venezuela",
          "Philippines",
          "Brazil",
          "North Korea",
          "Nigeria",
          "Australia",
          "Turkey",
          "Japan",
          "Spain",
          "Norway",
          "India",
          "Belgium",
          "Egypt",
          "Chile",
          "Ghana",
          "Czechoslovakia",
          "Moldova",
          "Tunisia",
          "Unified Team",
          "United Arab Republic",
          "Syria",
          "Tajikistan",
          "Uruguay",
          "Uganda",
          "Croatia",
          "Cameroon",
          "Bermuda",
          "Armenia",
          "Dominican Republic",
          "Pakistan",
          "Niger",
          "New Zealand",
          "Mauritius",
          "Lithuania",
          "Guyana",
          "Georgia",
          "Zambia"
         ],
         "xaxis": "x",
         "y": [
          39,
          26,
          25,
          18,
          17,
          17,
          15,
          15,
          12,
          12,
          10,
          10,
          10,
          9,
          9,
          9,
          8,
          8,
          8,
          8,
          7,
          7,
          7,
          6,
          6,
          6,
          6,
          6,
          6,
          5,
          5,
          5,
          5,
          4,
          4,
          4,
          4,
          3,
          3,
          3,
          3,
          3,
          3,
          3,
          3,
          2,
          2,
          2,
          2,
          2,
          2,
          2,
          2,
          2,
          2,
          1,
          1,
          1,
          1,
          1,
          1,
          1,
          1,
          1,
          1,
          1,
          1,
          1,
          1,
          1,
          1,
          1,
          1,
          1
         ],
         "yaxis": "y"
        }
       ],
       "layout": {
        "barmode": "relative",
        "legend": {
         "title": {
          "text": "Medal"
         },
         "tracegroupgap": 0
        },
        "template": {
         "data": {
          "bar": [
           {
            "error_x": {
             "color": "#2a3f5f"
            },
            "error_y": {
             "color": "#2a3f5f"
            },
            "marker": {
             "line": {
              "color": "#E5ECF6",
              "width": 0.5
             },
             "pattern": {
              "fillmode": "overlay",
              "size": 10,
              "solidity": 0.2
             }
            },
            "type": "bar"
           }
          ],
          "barpolar": [
           {
            "marker": {
             "line": {
              "color": "#E5ECF6",
              "width": 0.5
             },
             "pattern": {
              "fillmode": "overlay",
              "size": 10,
              "solidity": 0.2
             }
            },
            "type": "barpolar"
           }
          ],
          "carpet": [
           {
            "aaxis": {
             "endlinecolor": "#2a3f5f",
             "gridcolor": "white",
             "linecolor": "white",
             "minorgridcolor": "white",
             "startlinecolor": "#2a3f5f"
            },
            "baxis": {
             "endlinecolor": "#2a3f5f",
             "gridcolor": "white",
             "linecolor": "white",
             "minorgridcolor": "white",
             "startlinecolor": "#2a3f5f"
            },
            "type": "carpet"
           }
          ],
          "choropleth": [
           {
            "colorbar": {
             "outlinewidth": 0,
             "ticks": ""
            },
            "type": "choropleth"
           }
          ],
          "contour": [
           {
            "colorbar": {
             "outlinewidth": 0,
             "ticks": ""
            },
            "colorscale": [
             [
              0,
              "#0d0887"
             ],
             [
              0.1111111111111111,
              "#46039f"
             ],
             [
              0.2222222222222222,
              "#7201a8"
             ],
             [
              0.3333333333333333,
              "#9c179e"
             ],
             [
              0.4444444444444444,
              "#bd3786"
             ],
             [
              0.5555555555555556,
              "#d8576b"
             ],
             [
              0.6666666666666666,
              "#ed7953"
             ],
             [
              0.7777777777777778,
              "#fb9f3a"
             ],
             [
              0.8888888888888888,
              "#fdca26"
             ],
             [
              1,
              "#f0f921"
             ]
            ],
            "type": "contour"
           }
          ],
          "contourcarpet": [
           {
            "colorbar": {
             "outlinewidth": 0,
             "ticks": ""
            },
            "type": "contourcarpet"
           }
          ],
          "heatmap": [
           {
            "colorbar": {
             "outlinewidth": 0,
             "ticks": ""
            },
            "colorscale": [
             [
              0,
              "#0d0887"
             ],
             [
              0.1111111111111111,
              "#46039f"
             ],
             [
              0.2222222222222222,
              "#7201a8"
             ],
             [
              0.3333333333333333,
              "#9c179e"
             ],
             [
              0.4444444444444444,
              "#bd3786"
             ],
             [
              0.5555555555555556,
              "#d8576b"
             ],
             [
              0.6666666666666666,
              "#ed7953"
             ],
             [
              0.7777777777777778,
              "#fb9f3a"
             ],
             [
              0.8888888888888888,
              "#fdca26"
             ],
             [
              1,
              "#f0f921"
             ]
            ],
            "type": "heatmap"
           }
          ],
          "heatmapgl": [
           {
            "colorbar": {
             "outlinewidth": 0,
             "ticks": ""
            },
            "colorscale": [
             [
              0,
              "#0d0887"
             ],
             [
              0.1111111111111111,
              "#46039f"
             ],
             [
              0.2222222222222222,
              "#7201a8"
             ],
             [
              0.3333333333333333,
              "#9c179e"
             ],
             [
              0.4444444444444444,
              "#bd3786"
             ],
             [
              0.5555555555555556,
              "#d8576b"
             ],
             [
              0.6666666666666666,
              "#ed7953"
             ],
             [
              0.7777777777777778,
              "#fb9f3a"
             ],
             [
              0.8888888888888888,
              "#fdca26"
             ],
             [
              1,
              "#f0f921"
             ]
            ],
            "type": "heatmapgl"
           }
          ],
          "histogram": [
           {
            "marker": {
             "pattern": {
              "fillmode": "overlay",
              "size": 10,
              "solidity": 0.2
             }
            },
            "type": "histogram"
           }
          ],
          "histogram2d": [
           {
            "colorbar": {
             "outlinewidth": 0,
             "ticks": ""
            },
            "colorscale": [
             [
              0,
              "#0d0887"
             ],
             [
              0.1111111111111111,
              "#46039f"
             ],
             [
              0.2222222222222222,
              "#7201a8"
             ],
             [
              0.3333333333333333,
              "#9c179e"
             ],
             [
              0.4444444444444444,
              "#bd3786"
             ],
             [
              0.5555555555555556,
              "#d8576b"
             ],
             [
              0.6666666666666666,
              "#ed7953"
             ],
             [
              0.7777777777777778,
              "#fb9f3a"
             ],
             [
              0.8888888888888888,
              "#fdca26"
             ],
             [
              1,
              "#f0f921"
             ]
            ],
            "type": "histogram2d"
           }
          ],
          "histogram2dcontour": [
           {
            "colorbar": {
             "outlinewidth": 0,
             "ticks": ""
            },
            "colorscale": [
             [
              0,
              "#0d0887"
             ],
             [
              0.1111111111111111,
              "#46039f"
             ],
             [
              0.2222222222222222,
              "#7201a8"
             ],
             [
              0.3333333333333333,
              "#9c179e"
             ],
             [
              0.4444444444444444,
              "#bd3786"
             ],
             [
              0.5555555555555556,
              "#d8576b"
             ],
             [
              0.6666666666666666,
              "#ed7953"
             ],
             [
              0.7777777777777778,
              "#fb9f3a"
             ],
             [
              0.8888888888888888,
              "#fdca26"
             ],
             [
              1,
              "#f0f921"
             ]
            ],
            "type": "histogram2dcontour"
           }
          ],
          "mesh3d": [
           {
            "colorbar": {
             "outlinewidth": 0,
             "ticks": ""
            },
            "type": "mesh3d"
           }
          ],
          "parcoords": [
           {
            "line": {
             "colorbar": {
              "outlinewidth": 0,
              "ticks": ""
             }
            },
            "type": "parcoords"
           }
          ],
          "pie": [
           {
            "automargin": true,
            "type": "pie"
           }
          ],
          "scatter": [
           {
            "fillpattern": {
             "fillmode": "overlay",
             "size": 10,
             "solidity": 0.2
            },
            "type": "scatter"
           }
          ],
          "scatter3d": [
           {
            "line": {
             "colorbar": {
              "outlinewidth": 0,
              "ticks": ""
             }
            },
            "marker": {
             "colorbar": {
              "outlinewidth": 0,
              "ticks": ""
             }
            },
            "type": "scatter3d"
           }
          ],
          "scattercarpet": [
           {
            "marker": {
             "colorbar": {
              "outlinewidth": 0,
              "ticks": ""
             }
            },
            "type": "scattercarpet"
           }
          ],
          "scattergeo": [
           {
            "marker": {
             "colorbar": {
              "outlinewidth": 0,
              "ticks": ""
             }
            },
            "type": "scattergeo"
           }
          ],
          "scattergl": [
           {
            "marker": {
             "colorbar": {
              "outlinewidth": 0,
              "ticks": ""
             }
            },
            "type": "scattergl"
           }
          ],
          "scattermapbox": [
           {
            "marker": {
             "colorbar": {
              "outlinewidth": 0,
              "ticks": ""
             }
            },
            "type": "scattermapbox"
           }
          ],
          "scatterpolar": [
           {
            "marker": {
             "colorbar": {
              "outlinewidth": 0,
              "ticks": ""
             }
            },
            "type": "scatterpolar"
           }
          ],
          "scatterpolargl": [
           {
            "marker": {
             "colorbar": {
              "outlinewidth": 0,
              "ticks": ""
             }
            },
            "type": "scatterpolargl"
           }
          ],
          "scatterternary": [
           {
            "marker": {
             "colorbar": {
              "outlinewidth": 0,
              "ticks": ""
             }
            },
            "type": "scatterternary"
           }
          ],
          "surface": [
           {
            "colorbar": {
             "outlinewidth": 0,
             "ticks": ""
            },
            "colorscale": [
             [
              0,
              "#0d0887"
             ],
             [
              0.1111111111111111,
              "#46039f"
             ],
             [
              0.2222222222222222,
              "#7201a8"
             ],
             [
              0.3333333333333333,
              "#9c179e"
             ],
             [
              0.4444444444444444,
              "#bd3786"
             ],
             [
              0.5555555555555556,
              "#d8576b"
             ],
             [
              0.6666666666666666,
              "#ed7953"
             ],
             [
              0.7777777777777778,
              "#fb9f3a"
             ],
             [
              0.8888888888888888,
              "#fdca26"
             ],
             [
              1,
              "#f0f921"
             ]
            ],
            "type": "surface"
           }
          ],
          "table": [
           {
            "cells": {
             "fill": {
              "color": "#EBF0F8"
             },
             "line": {
              "color": "white"
             }
            },
            "header": {
             "fill": {
              "color": "#C8D4E3"
             },
             "line": {
              "color": "white"
             }
            },
            "type": "table"
           }
          ]
         },
         "layout": {
          "annotationdefaults": {
           "arrowcolor": "#2a3f5f",
           "arrowhead": 0,
           "arrowwidth": 1
          },
          "autotypenumbers": "strict",
          "coloraxis": {
           "colorbar": {
            "outlinewidth": 0,
            "ticks": ""
           }
          },
          "colorscale": {
           "diverging": [
            [
             0,
             "#8e0152"
            ],
            [
             0.1,
             "#c51b7d"
            ],
            [
             0.2,
             "#de77ae"
            ],
            [
             0.3,
             "#f1b6da"
            ],
            [
             0.4,
             "#fde0ef"
            ],
            [
             0.5,
             "#f7f7f7"
            ],
            [
             0.6,
             "#e6f5d0"
            ],
            [
             0.7,
             "#b8e186"
            ],
            [
             0.8,
             "#7fbc41"
            ],
            [
             0.9,
             "#4d9221"
            ],
            [
             1,
             "#276419"
            ]
           ],
           "sequential": [
            [
             0,
             "#0d0887"
            ],
            [
             0.1111111111111111,
             "#46039f"
            ],
            [
             0.2222222222222222,
             "#7201a8"
            ],
            [
             0.3333333333333333,
             "#9c179e"
            ],
            [
             0.4444444444444444,
             "#bd3786"
            ],
            [
             0.5555555555555556,
             "#d8576b"
            ],
            [
             0.6666666666666666,
             "#ed7953"
            ],
            [
             0.7777777777777778,
             "#fb9f3a"
            ],
            [
             0.8888888888888888,
             "#fdca26"
            ],
            [
             1,
             "#f0f921"
            ]
           ],
           "sequentialminus": [
            [
             0,
             "#0d0887"
            ],
            [
             0.1111111111111111,
             "#46039f"
            ],
            [
             0.2222222222222222,
             "#7201a8"
            ],
            [
             0.3333333333333333,
             "#9c179e"
            ],
            [
             0.4444444444444444,
             "#bd3786"
            ],
            [
             0.5555555555555556,
             "#d8576b"
            ],
            [
             0.6666666666666666,
             "#ed7953"
            ],
            [
             0.7777777777777778,
             "#fb9f3a"
            ],
            [
             0.8888888888888888,
             "#fdca26"
            ],
            [
             1,
             "#f0f921"
            ]
           ]
          },
          "colorway": [
           "#636efa",
           "#EF553B",
           "#00cc96",
           "#ab63fa",
           "#FFA15A",
           "#19d3f3",
           "#FF6692",
           "#B6E880",
           "#FF97FF",
           "#FECB52"
          ],
          "font": {
           "color": "#2a3f5f"
          },
          "geo": {
           "bgcolor": "white",
           "lakecolor": "white",
           "landcolor": "#E5ECF6",
           "showlakes": true,
           "showland": true,
           "subunitcolor": "white"
          },
          "hoverlabel": {
           "align": "left"
          },
          "hovermode": "closest",
          "mapbox": {
           "style": "light"
          },
          "paper_bgcolor": "white",
          "plot_bgcolor": "#E5ECF6",
          "polar": {
           "angularaxis": {
            "gridcolor": "white",
            "linecolor": "white",
            "ticks": ""
           },
           "bgcolor": "#E5ECF6",
           "radialaxis": {
            "gridcolor": "white",
            "linecolor": "white",
            "ticks": ""
           }
          },
          "scene": {
           "xaxis": {
            "backgroundcolor": "#E5ECF6",
            "gridcolor": "white",
            "gridwidth": 2,
            "linecolor": "white",
            "showbackground": true,
            "ticks": "",
            "zerolinecolor": "white"
           },
           "yaxis": {
            "backgroundcolor": "#E5ECF6",
            "gridcolor": "white",
            "gridwidth": 2,
            "linecolor": "white",
            "showbackground": true,
            "ticks": "",
            "zerolinecolor": "white"
           },
           "zaxis": {
            "backgroundcolor": "#E5ECF6",
            "gridcolor": "white",
            "gridwidth": 2,
            "linecolor": "white",
            "showbackground": true,
            "ticks": "",
            "zerolinecolor": "white"
           }
          },
          "shapedefaults": {
           "line": {
            "color": "#2a3f5f"
           }
          },
          "ternary": {
           "aaxis": {
            "gridcolor": "white",
            "linecolor": "white",
            "ticks": ""
           },
           "baxis": {
            "gridcolor": "white",
            "linecolor": "white",
            "ticks": ""
           },
           "bgcolor": "#E5ECF6",
           "caxis": {
            "gridcolor": "white",
            "linecolor": "white",
            "ticks": ""
           }
          },
          "title": {
           "x": 0.05
          },
          "xaxis": {
           "automargin": true,
           "gridcolor": "white",
           "linecolor": "white",
           "ticks": "",
           "title": {
            "standoff": 15
           },
           "zerolinecolor": "white",
           "zerolinewidth": 2
          },
          "yaxis": {
           "automargin": true,
           "gridcolor": "white",
           "linecolor": "white",
           "ticks": "",
           "title": {
            "standoff": 15
           },
           "zerolinecolor": "white",
           "zerolinewidth": 2
          }
         }
        },
        "title": {
         "text": "Medal distribution for boxing"
        },
        "xaxis": {
         "anchor": "y",
         "domain": [
          0,
          1
         ],
         "title": {
          "text": "Team"
         }
        },
        "yaxis": {
         "anchor": "x",
         "domain": [
          0,
          1
         ],
         "title": {
          "text": "Count"
         },
         "type": "log"
        }
       }
      }
     },
     "metadata": {},
     "output_type": "display_data"
    }
   ],
   "source": [
    "# plot medal distribution by team\n",
    "fig = px.bar(\n",
    "    df_boxing_medal,\n",
    "    x=\"Team\",\n",
    "    y=\"Count\",\n",
    "    log_y=True,\n",
    "    color=\"Medal\",\n",
    "    category_orders={\"Medal\": [\"Gold\", \"Silver\", \"Bronze\"]}, # sort the medals from highest to lowest\n",
    "    color_discrete_sequence=[\"gold\", \"silver\", \"brown\"], # set the colors of the medals\n",
    "    title=\"Medal distribution for boxing\",\n",
    ")\n",
    "fig.show()"
   ]
  },
  {
   "cell_type": "markdown",
   "metadata": {},
   "source": [
    "NOTE: Did not find a way to show all teams on the x-axis. Hover over the graph to see the data."
   ]
  },
  {
   "cell_type": "code",
   "execution_count": 10,
   "metadata": {},
   "outputs": [
    {
     "data": {
      "application/vnd.plotly.v1+json": {
       "config": {
        "plotlyServerURL": "https://plot.ly"
       },
       "data": [
        {
         "hovertemplate": "Team=%{x}<br>Age=%{y}<extra></extra>",
         "legendgroup": "Uzbekistan",
         "marker": {
          "color": "#636efa",
          "symbol": "circle"
         },
         "mode": "markers",
         "name": "Uzbekistan",
         "orientation": "v",
         "showlegend": true,
         "type": "scatter",
         "x": [
          "Uzbekistan",
          "Uzbekistan",
          "Uzbekistan",
          "Uzbekistan",
          "Uzbekistan",
          "Uzbekistan",
          "Uzbekistan",
          "Uzbekistan",
          "Uzbekistan",
          "Uzbekistan",
          "Uzbekistan",
          "Uzbekistan",
          "Uzbekistan",
          "Uzbekistan"
         ],
         "xaxis": "x",
         "y": [
          26,
          21,
          26,
          23,
          25,
          23,
          30,
          20,
          24,
          22,
          19,
          24,
          22,
          23
         ],
         "yaxis": "y"
        },
        {
         "hovertemplate": "Team=%{x}<br>Age=%{y}<extra></extra>",
         "legendgroup": "Puerto Rico",
         "marker": {
          "color": "#EF553B",
          "symbol": "circle"
         },
         "mode": "markers",
         "name": "Puerto Rico",
         "orientation": "v",
         "showlegend": true,
         "type": "scatter",
         "x": [
          "Puerto Rico",
          "Puerto Rico",
          "Puerto Rico",
          "Puerto Rico",
          "Puerto Rico",
          "Puerto Rico"
         ],
         "xaxis": "x",
         "y": [
          21,
          23,
          17,
          18,
          20,
          19
         ],
         "yaxis": "y"
        },
        {
         "hovertemplate": "Team=%{x}<br>Age=%{y}<extra></extra>",
         "legendgroup": "Morocco",
         "marker": {
          "color": "#00cc96",
          "symbol": "circle"
         },
         "mode": "markers",
         "name": "Morocco",
         "orientation": "v",
         "showlegend": true,
         "type": "scatter",
         "x": [
          "Morocco",
          "Morocco",
          "Morocco",
          "Morocco"
         ],
         "xaxis": "x",
         "y": [
          29,
          27,
          23,
          20
         ],
         "yaxis": "y"
        },
        {
         "hovertemplate": "Team=%{x}<br>Age=%{y}<extra></extra>",
         "legendgroup": "Cuba",
         "marker": {
          "color": "#ab63fa",
          "symbol": "circle"
         },
         "mode": "markers",
         "name": "Cuba",
         "orientation": "v",
         "showlegend": true,
         "type": "scatter",
         "x": [
          "Cuba",
          "Cuba",
          "Cuba",
          "Cuba",
          "Cuba",
          "Cuba",
          "Cuba",
          "Cuba",
          "Cuba",
          "Cuba",
          "Cuba",
          "Cuba",
          "Cuba",
          "Cuba",
          "Cuba",
          "Cuba",
          "Cuba",
          "Cuba",
          "Cuba",
          "Cuba",
          "Cuba",
          "Cuba",
          "Cuba",
          "Cuba",
          "Cuba",
          "Cuba",
          "Cuba",
          "Cuba",
          "Cuba",
          "Cuba",
          "Cuba",
          "Cuba",
          "Cuba",
          "Cuba",
          "Cuba",
          "Cuba",
          "Cuba",
          "Cuba",
          "Cuba",
          "Cuba",
          "Cuba",
          "Cuba",
          "Cuba",
          "Cuba",
          "Cuba",
          "Cuba",
          "Cuba",
          "Cuba",
          "Cuba",
          "Cuba",
          "Cuba",
          "Cuba",
          "Cuba",
          "Cuba",
          "Cuba",
          "Cuba",
          "Cuba",
          "Cuba",
          "Cuba",
          "Cuba",
          "Cuba",
          "Cuba",
          "Cuba",
          "Cuba",
          "Cuba",
          "Cuba",
          "Cuba",
          "Cuba",
          "Cuba",
          "Cuba",
          "Cuba",
          "Cuba",
          "Cuba"
         ],
         "xaxis": "x",
         "y": [
          23,
          20,
          20,
          24,
          21,
          25,
          30,
          19,
          23,
          21,
          24,
          21,
          21,
          19,
          22,
          21,
          28,
          22,
          20,
          28,
          21,
          25,
          24,
          22,
          26,
          21,
          23,
          17,
          23,
          27,
          18,
          22,
          22,
          19,
          23,
          23,
          29,
          33,
          26,
          30,
          27,
          26,
          23,
          27,
          23,
          27,
          18,
          21,
          27,
          28,
          18,
          22,
          24,
          20,
          19,
          23,
          22,
          25,
          23,
          27,
          26,
          24,
          28,
          32,
          24,
          22,
          20,
          24,
          28,
          22,
          22,
          19,
          23
         ],
         "yaxis": "y"
        },
        {
         "hovertemplate": "Team=%{x}<br>Age=%{y}<extra></extra>",
         "legendgroup": "Poland",
         "marker": {
          "color": "#FFA15A",
          "symbol": "circle"
         },
         "mode": "markers",
         "name": "Poland",
         "orientation": "v",
         "showlegend": true,
         "type": "scatter",
         "x": [
          "Poland",
          "Poland",
          "Poland",
          "Poland",
          "Poland",
          "Poland",
          "Poland",
          "Poland",
          "Poland",
          "Poland",
          "Poland",
          "Poland",
          "Poland",
          "Poland",
          "Poland",
          "Poland",
          "Poland",
          "Poland",
          "Poland",
          "Poland",
          "Poland",
          "Poland",
          "Poland",
          "Poland",
          "Poland",
          "Poland",
          "Poland",
          "Poland",
          "Poland",
          "Poland",
          "Poland",
          "Poland",
          "Poland",
          "Poland",
          "Poland",
          "Poland",
          "Poland",
          "Poland",
          "Poland",
          "Poland",
          "Poland",
          "Poland",
          "Poland"
         ],
         "xaxis": "x",
         "y": [
          23,
          23,
          24,
          28,
          24,
          21,
          23,
          27,
          25,
          26,
          27,
          20,
          24,
          28,
          20,
          25,
          29,
          23,
          20,
          25,
          19,
          22,
          23,
          27,
          23,
          24,
          28,
          25,
          29,
          22,
          25,
          30,
          25,
          23,
          27,
          22,
          25,
          32,
          22,
          26,
          24,
          28,
          29
         ],
         "yaxis": "y"
        },
        {
         "hovertemplate": "Team=%{x}<br>Age=%{y}<extra></extra>",
         "legendgroup": "Great Britain",
         "marker": {
          "color": "#19d3f3",
          "symbol": "circle"
         },
         "mode": "markers",
         "name": "Great Britain",
         "orientation": "v",
         "showlegend": true,
         "type": "scatter",
         "x": [
          "Great Britain",
          "Great Britain",
          "Great Britain",
          "Great Britain",
          "Great Britain",
          "Great Britain",
          "Great Britain",
          "Great Britain",
          "Great Britain",
          "Great Britain",
          "Great Britain",
          "Great Britain",
          "Great Britain",
          "Great Britain",
          "Great Britain",
          "Great Britain",
          "Great Britain",
          "Great Britain",
          "Great Britain",
          "Great Britain",
          "Great Britain",
          "Great Britain",
          "Great Britain",
          "Great Britain",
          "Great Britain",
          "Great Britain",
          "Great Britain",
          "Great Britain",
          "Great Britain",
          "Great Britain",
          "Great Britain",
          "Great Britain",
          "Great Britain",
          "Great Britain",
          "Great Britain",
          "Great Britain",
          "Great Britain",
          "Great Britain",
          "Great Britain",
          "Great Britain",
          "Great Britain",
          "Great Britain",
          "Great Britain",
          "Great Britain",
          "Great Britain",
          "Great Britain",
          "Great Britain",
          "Great Britain",
          "Great Britain",
          "Great Britain",
          "Great Britain",
          "Great Britain",
          "Great Britain",
          "Great Britain",
          "Great Britain",
          "Great Britain"
         ],
         "xaxis": "x",
         "y": [
          29,
          33,
          23,
          24,
          19,
          22,
          17,
          22,
          25,
          22,
          21,
          18,
          null,
          24,
          20,
          null,
          22,
          24,
          37,
          28,
          19,
          23,
          20,
          22,
          30,
          17,
          21,
          27,
          31,
          21,
          19,
          20,
          21,
          24,
          21,
          26,
          null,
          25,
          23,
          24,
          33,
          26,
          25,
          27,
          21,
          21,
          20,
          23,
          18,
          19,
          20,
          25,
          23,
          20,
          20,
          19
         ],
         "yaxis": "y"
        },
        {
         "hovertemplate": "Team=%{x}<br>Age=%{y}<extra></extra>",
         "legendgroup": "United States",
         "marker": {
          "color": "#FF6692",
          "symbol": "circle"
         },
         "mode": "markers",
         "name": "United States",
         "orientation": "v",
         "showlegend": true,
         "type": "scatter",
         "x": [
          "United States",
          "United States",
          "United States",
          "United States",
          "United States",
          "United States",
          "United States",
          "United States",
          "United States",
          "United States",
          "United States",
          "United States",
          "United States",
          "United States",
          "United States",
          "United States",
          "United States",
          "United States",
          "United States",
          "United States",
          "United States",
          "United States",
          "United States",
          "United States",
          "United States",
          "United States",
          "United States",
          "United States",
          "United States",
          "United States",
          "United States",
          "United States",
          "United States",
          "United States",
          "United States",
          "United States",
          "United States",
          "United States",
          "United States",
          "United States",
          "United States",
          "United States",
          "United States",
          "United States",
          "United States",
          "United States",
          "United States",
          "United States",
          "United States",
          "United States",
          "United States",
          "United States",
          "United States",
          "United States",
          "United States",
          "United States",
          "United States",
          "United States",
          "United States",
          "United States",
          "United States",
          "United States",
          "United States",
          "United States",
          "United States",
          "United States",
          "United States",
          "United States",
          "United States",
          "United States",
          "United States",
          "United States",
          "United States",
          "United States",
          "United States",
          "United States",
          "United States",
          "United States",
          "United States",
          "United States",
          "United States",
          "United States",
          "United States",
          "United States",
          "United States",
          "United States",
          "United States",
          "United States",
          "United States",
          "United States",
          "United States",
          "United States",
          "United States",
          "United States",
          "United States",
          "United States",
          "United States",
          "United States",
          "United States",
          "United States",
          "United States",
          "United States",
          "United States",
          "United States",
          "United States",
          "United States",
          "United States",
          "United States",
          "United States",
          "United States",
          "United States",
          "United States",
          "United States"
         ],
         "xaxis": "x",
         "y": [
          20,
          21,
          19,
          19,
          19,
          23,
          19,
          21,
          25,
          21,
          21,
          18,
          25,
          19,
          21,
          21,
          26,
          22,
          20,
          18,
          31,
          18,
          19,
          20,
          19,
          18,
          21,
          21,
          22,
          22,
          20,
          21,
          16,
          null,
          null,
          22,
          19,
          20,
          18,
          17,
          20,
          21,
          19,
          21,
          20,
          17,
          20,
          26,
          20,
          21,
          18,
          22,
          23,
          19,
          20,
          20,
          20,
          19,
          18,
          18,
          27,
          20,
          26,
          25,
          null,
          null,
          24,
          19,
          21,
          20,
          22,
          27,
          27,
          25,
          23,
          23,
          17,
          28,
          18,
          22,
          21,
          20,
          19,
          22,
          19,
          17,
          21,
          31,
          31,
          23,
          19,
          null,
          19,
          18,
          27,
          19,
          21,
          22,
          17,
          23,
          20,
          19,
          25,
          18,
          22,
          24,
          20,
          19,
          20,
          22,
          19,
          18,
          26
         ],
         "yaxis": "y"
        },
        {
         "hovertemplate": "Team=%{x}<br>Age=%{y}<extra></extra>",
         "legendgroup": "Sweden",
         "marker": {
          "color": "#B6E880",
          "symbol": "circle"
         },
         "mode": "markers",
         "name": "Sweden",
         "orientation": "v",
         "showlegend": true,
         "type": "scatter",
         "x": [
          "Sweden",
          "Sweden",
          "Sweden",
          "Sweden",
          "Sweden",
          "Sweden",
          "Sweden",
          "Sweden",
          "Sweden",
          "Sweden",
          "Sweden"
         ],
         "xaxis": "x",
         "y": [
          20,
          25,
          20,
          21,
          21,
          19,
          23,
          25,
          25,
          23,
          30
         ],
         "yaxis": "y"
        },
        {
         "hovertemplate": "Team=%{x}<br>Age=%{y}<extra></extra>",
         "legendgroup": "Finland",
         "marker": {
          "color": "#FF97FF",
          "symbol": "circle"
         },
         "mode": "markers",
         "name": "Finland",
         "orientation": "v",
         "showlegend": true,
         "type": "scatter",
         "x": [
          "Finland",
          "Finland",
          "Finland",
          "Finland",
          "Finland",
          "Finland",
          "Finland",
          "Finland",
          "Finland",
          "Finland",
          "Finland",
          "Finland",
          "Finland",
          "Finland",
          "Finland"
         ],
         "xaxis": "x",
         "y": [
          21,
          22,
          26,
          23,
          24,
          25,
          24,
          20,
          21,
          22,
          35,
          22,
          29,
          24,
          24
         ],
         "yaxis": "y"
        },
        {
         "hovertemplate": "Team=%{x}<br>Age=%{y}<extra></extra>",
         "legendgroup": "Syria",
         "marker": {
          "color": "#FECB52",
          "symbol": "circle"
         },
         "mode": "markers",
         "name": "Syria",
         "orientation": "v",
         "showlegend": true,
         "type": "scatter",
         "x": [
          "Syria"
         ],
         "xaxis": "x",
         "y": [
          22
         ],
         "yaxis": "y"
        },
        {
         "hovertemplate": "Team=%{x}<br>Age=%{y}<extra></extra>",
         "legendgroup": "Romania",
         "marker": {
          "color": "#636efa",
          "symbol": "circle"
         },
         "mode": "markers",
         "name": "Romania",
         "orientation": "v",
         "showlegend": true,
         "type": "scatter",
         "x": [
          "Romania",
          "Romania",
          "Romania",
          "Romania",
          "Romania",
          "Romania",
          "Romania",
          "Romania",
          "Romania",
          "Romania",
          "Romania",
          "Romania",
          "Romania",
          "Romania",
          "Romania",
          "Romania",
          "Romania",
          "Romania",
          "Romania",
          "Romania",
          "Romania",
          "Romania",
          "Romania",
          "Romania",
          "Romania"
         ],
         "xaxis": "x",
         "y": [
          26,
          22,
          20,
          24,
          22,
          26,
          22,
          26,
          25,
          19,
          23,
          25,
          20,
          27,
          19,
          27,
          27,
          22,
          23,
          23,
          20,
          24,
          22,
          24,
          28
         ],
         "yaxis": "y"
        },
        {
         "hovertemplate": "Team=%{x}<br>Age=%{y}<extra></extra>",
         "legendgroup": "Algeria",
         "marker": {
          "color": "#EF553B",
          "symbol": "circle"
         },
         "mode": "markers",
         "name": "Algeria",
         "orientation": "v",
         "showlegend": true,
         "type": "scatter",
         "x": [
          "Algeria",
          "Algeria",
          "Algeria",
          "Algeria",
          "Algeria",
          "Algeria"
         ],
         "xaxis": "x",
         "y": [
          26,
          20,
          22,
          19,
          23,
          24
         ],
         "yaxis": "y"
        },
        {
         "hovertemplate": "Team=%{x}<br>Age=%{y}<extra></extra>",
         "legendgroup": "Russia",
         "marker": {
          "color": "#00cc96",
          "symbol": "circle"
         },
         "mode": "markers",
         "name": "Russia",
         "orientation": "v",
         "showlegend": true,
         "type": "scatter",
         "x": [
          "Russia",
          "Russia",
          "Russia",
          "Russia",
          "Russia",
          "Russia",
          "Russia",
          "Russia",
          "Russia",
          "Russia",
          "Russia",
          "Russia",
          "Russia",
          "Russia",
          "Russia",
          "Russia",
          "Russia",
          "Russia",
          "Russia",
          "Russia",
          "Russia",
          "Russia",
          "Russia",
          "Russia",
          "Russia",
          "Russia",
          "Russia",
          "Russia",
          "Russia",
          "Russia"
         ],
         "xaxis": "x",
         "y": [
          23,
          28,
          28,
          23,
          25,
          24,
          21,
          23,
          27,
          25,
          28,
          21,
          31,
          23,
          21,
          26,
          25,
          27,
          26,
          25,
          28,
          24,
          22,
          26,
          30,
          20,
          24,
          25,
          33,
          25
         ],
         "yaxis": "y"
        },
        {
         "hovertemplate": "Team=%{x}<br>Age=%{y}<extra></extra>",
         "legendgroup": "Egypt",
         "marker": {
          "color": "#ab63fa",
          "symbol": "circle"
         },
         "mode": "markers",
         "name": "Egypt",
         "orientation": "v",
         "showlegend": true,
         "type": "scatter",
         "x": [
          "Egypt",
          "Egypt",
          "Egypt"
         ],
         "xaxis": "x",
         "y": [
          29,
          31,
          28
         ],
         "yaxis": "y"
        },
        {
         "hovertemplate": "Team=%{x}<br>Age=%{y}<extra></extra>",
         "legendgroup": "Ghana",
         "marker": {
          "color": "#FFA15A",
          "symbol": "circle"
         },
         "mode": "markers",
         "name": "Ghana",
         "orientation": "v",
         "showlegend": true,
         "type": "scatter",
         "x": [
          "Ghana",
          "Ghana",
          "Ghana"
         ],
         "xaxis": "x",
         "y": [
          28,
          26,
          22
         ],
         "yaxis": "y"
        },
        {
         "hovertemplate": "Team=%{x}<br>Age=%{y}<extra></extra>",
         "legendgroup": "South Korea",
         "marker": {
          "color": "#19d3f3",
          "symbol": "circle"
         },
         "mode": "markers",
         "name": "South Korea",
         "orientation": "v",
         "showlegend": true,
         "type": "scatter",
         "x": [
          "South Korea",
          "South Korea",
          "South Korea",
          "South Korea",
          "South Korea",
          "South Korea",
          "South Korea",
          "South Korea",
          "South Korea",
          "South Korea",
          "South Korea",
          "South Korea",
          "South Korea",
          "South Korea",
          "South Korea",
          "South Korea",
          "South Korea",
          "South Korea",
          "South Korea",
          "South Korea"
         ],
         "xaxis": "x",
         "y": [
          20,
          24,
          24,
          22,
          27,
          24,
          22,
          23,
          24,
          19,
          24,
          24,
          22,
          26,
          19,
          21,
          25,
          22,
          21,
          22
         ],
         "yaxis": "y"
        },
        {
         "hovertemplate": "Team=%{x}<br>Age=%{y}<extra></extra>",
         "legendgroup": "Bulgaria",
         "marker": {
          "color": "#FF6692",
          "symbol": "circle"
         },
         "mode": "markers",
         "name": "Bulgaria",
         "orientation": "v",
         "showlegend": true,
         "type": "scatter",
         "x": [
          "Bulgaria",
          "Bulgaria",
          "Bulgaria",
          "Bulgaria",
          "Bulgaria",
          "Bulgaria",
          "Bulgaria",
          "Bulgaria",
          "Bulgaria",
          "Bulgaria",
          "Bulgaria",
          "Bulgaria",
          "Bulgaria",
          "Bulgaria",
          "Bulgaria",
          "Bulgaria",
          "Bulgaria",
          "Bulgaria"
         ],
         "xaxis": "x",
         "y": [
          24,
          20,
          24,
          21,
          24,
          22,
          22,
          19,
          23,
          20,
          28,
          24,
          23,
          29,
          28,
          25,
          27,
          23
         ],
         "yaxis": "y"
        },
        {
         "hovertemplate": "Team=%{x}<br>Age=%{y}<extra></extra>",
         "legendgroup": "Guyana",
         "marker": {
          "color": "#B6E880",
          "symbol": "circle"
         },
         "mode": "markers",
         "name": "Guyana",
         "orientation": "v",
         "showlegend": true,
         "type": "scatter",
         "x": [
          "Guyana"
         ],
         "xaxis": "x",
         "y": [
          22
         ],
         "yaxis": "y"
        },
        {
         "hovertemplate": "Team=%{x}<br>Age=%{y}<extra></extra>",
         "legendgroup": "France",
         "marker": {
          "color": "#FF97FF",
          "symbol": "circle"
         },
         "mode": "markers",
         "name": "France",
         "orientation": "v",
         "showlegend": true,
         "type": "scatter",
         "x": [
          "France",
          "France",
          "France",
          "France",
          "France",
          "France",
          "France",
          "France",
          "France",
          "France",
          "France",
          "France",
          "France",
          "France",
          "France",
          "France",
          "France",
          "France",
          "France",
          "France",
          "France",
          "France",
          "France",
          "France",
          "France"
         ],
         "xaxis": "x",
         "y": [
          23,
          21,
          27,
          21,
          17,
          23,
          25,
          20,
          24,
          22,
          19,
          25,
          23,
          21,
          24,
          23,
          21,
          34,
          25,
          21,
          25,
          21,
          21,
          22,
          24
         ],
         "yaxis": "y"
        },
        {
         "hovertemplate": "Team=%{x}<br>Age=%{y}<extra></extra>",
         "legendgroup": "Brazil",
         "marker": {
          "color": "#FECB52",
          "symbol": "circle"
         },
         "mode": "markers",
         "name": "Brazil",
         "orientation": "v",
         "showlegend": true,
         "type": "scatter",
         "x": [
          "Brazil",
          "Brazil",
          "Brazil",
          "Brazil",
          "Brazil"
         ],
         "xaxis": "x",
         "y": [
          30,
          27,
          20,
          24,
          22
         ],
         "yaxis": "y"
        },
        {
         "hovertemplate": "Team=%{x}<br>Age=%{y}<extra></extra>",
         "legendgroup": "Belarus",
         "marker": {
          "color": "#636efa",
          "symbol": "circle"
         },
         "mode": "markers",
         "name": "Belarus",
         "orientation": "v",
         "showlegend": true,
         "type": "scatter",
         "x": [
          "Belarus",
          "Belarus"
         ],
         "xaxis": "x",
         "y": [
          26,
          21
         ],
         "yaxis": "y"
        },
        {
         "hovertemplate": "Team=%{x}<br>Age=%{y}<extra></extra>",
         "legendgroup": "Kazakhstan",
         "marker": {
          "color": "#EF553B",
          "symbol": "circle"
         },
         "mode": "markers",
         "name": "Kazakhstan",
         "orientation": "v",
         "showlegend": true,
         "type": "scatter",
         "x": [
          "Kazakhstan",
          "Kazakhstan",
          "Kazakhstan",
          "Kazakhstan",
          "Kazakhstan",
          "Kazakhstan",
          "Kazakhstan",
          "Kazakhstan",
          "Kazakhstan",
          "Kazakhstan",
          "Kazakhstan",
          "Kazakhstan",
          "Kazakhstan",
          "Kazakhstan",
          "Kazakhstan",
          "Kazakhstan",
          "Kazakhstan",
          "Kazakhstan",
          "Kazakhstan",
          "Kazakhstan",
          "Kazakhstan",
          "Kazakhstan"
         ],
         "xaxis": "x",
         "y": [
          21,
          24,
          21,
          25,
          22,
          24,
          28,
          28,
          23,
          27,
          23,
          28,
          26,
          20,
          27,
          20,
          22,
          23,
          25,
          22,
          23,
          27
         ],
         "yaxis": "y"
        },
        {
         "hovertemplate": "Team=%{x}<br>Age=%{y}<extra></extra>",
         "legendgroup": "South Africa",
         "marker": {
          "color": "#00cc96",
          "symbol": "circle"
         },
         "mode": "markers",
         "name": "South Africa",
         "orientation": "v",
         "showlegend": true,
         "type": "scatter",
         "x": [
          "South Africa",
          "South Africa",
          "South Africa",
          "South Africa",
          "South Africa",
          "South Africa",
          "South Africa",
          "South Africa",
          "South Africa",
          "South Africa",
          "South Africa",
          "South Africa",
          "South Africa",
          "South Africa",
          "South Africa",
          "South Africa",
          "South Africa",
          "South Africa",
          "South Africa"
         ],
         "xaxis": "x",
         "y": [
          18,
          24,
          28,
          null,
          21,
          18,
          21,
          20,
          17,
          20,
          17,
          24,
          22,
          21,
          19,
          19,
          18,
          22,
          21
         ],
         "yaxis": "y"
        },
        {
         "hovertemplate": "Team=%{x}<br>Age=%{y}<extra></extra>",
         "legendgroup": "Azerbaijan",
         "marker": {
          "color": "#ab63fa",
          "symbol": "circle"
         },
         "mode": "markers",
         "name": "Azerbaijan",
         "orientation": "v",
         "showlegend": true,
         "type": "scatter",
         "x": [
          "Azerbaijan",
          "Azerbaijan",
          "Azerbaijan",
          "Azerbaijan",
          "Azerbaijan",
          "Azerbaijan",
          "Azerbaijan",
          "Azerbaijan"
         ],
         "xaxis": "x",
         "y": [
          21,
          27,
          19,
          25,
          24,
          19,
          23,
          31
         ],
         "yaxis": "y"
        },
        {
         "hovertemplate": "Team=%{x}<br>Age=%{y}<extra></extra>",
         "legendgroup": "Italy",
         "marker": {
          "color": "#FFA15A",
          "symbol": "circle"
         },
         "mode": "markers",
         "name": "Italy",
         "orientation": "v",
         "showlegend": true,
         "type": "scatter",
         "x": [
          "Italy",
          "Italy",
          "Italy",
          "Italy",
          "Italy",
          "Italy",
          "Italy",
          "Italy",
          "Italy",
          "Italy",
          "Italy",
          "Italy",
          "Italy",
          "Italy",
          "Italy",
          "Italy",
          "Italy",
          "Italy",
          "Italy",
          "Italy",
          "Italy",
          "Italy",
          "Italy",
          "Italy",
          "Italy",
          "Italy",
          "Italy",
          "Italy",
          "Italy",
          "Italy",
          "Italy",
          "Italy",
          "Italy",
          "Italy",
          "Italy",
          "Italy",
          "Italy",
          "Italy",
          "Italy",
          "Italy",
          "Italy",
          "Italy",
          "Italy",
          "Italy",
          "Italy",
          "Italy",
          "Italy"
         ],
         "xaxis": "x",
         "y": [
          22,
          23,
          27,
          22,
          24,
          21,
          20,
          23,
          21,
          24,
          28,
          31,
          20,
          21,
          25,
          22,
          20,
          21,
          20,
          19,
          20,
          23,
          26,
          21,
          23,
          21,
          21,
          18,
          20,
          24,
          21,
          22,
          24,
          27,
          26,
          29,
          22,
          23,
          21,
          18,
          22,
          23,
          24,
          30,
          19,
          21,
          20
         ],
         "yaxis": "y"
        },
        {
         "hovertemplate": "Team=%{x}<br>Age=%{y}<extra></extra>",
         "legendgroup": "Argentina",
         "marker": {
          "color": "#19d3f3",
          "symbol": "circle"
         },
         "mode": "markers",
         "name": "Argentina",
         "orientation": "v",
         "showlegend": true,
         "type": "scatter",
         "x": [
          "Argentina",
          "Argentina",
          "Argentina",
          "Argentina",
          "Argentina",
          "Argentina",
          "Argentina",
          "Argentina",
          "Argentina",
          "Argentina",
          "Argentina",
          "Argentina",
          "Argentina",
          "Argentina",
          "Argentina",
          "Argentina",
          "Argentina",
          "Argentina",
          "Argentina",
          "Argentina",
          "Argentina",
          "Argentina",
          "Argentina",
          "Argentina"
         ],
         "xaxis": "x",
         "y": [
          20,
          18,
          22,
          21,
          29,
          21,
          22,
          22,
          24,
          18,
          21,
          20,
          18,
          26,
          24,
          20,
          22,
          23,
          18,
          19,
          20,
          20,
          26,
          23
         ],
         "yaxis": "y"
        },
        {
         "hovertemplate": "Team=%{x}<br>Age=%{y}<extra></extra>",
         "legendgroup": "Turkey",
         "marker": {
          "color": "#FF6692",
          "symbol": "circle"
         },
         "mode": "markers",
         "name": "Turkey",
         "orientation": "v",
         "showlegend": true,
         "type": "scatter",
         "x": [
          "Turkey",
          "Turkey",
          "Turkey",
          "Turkey",
          "Turkey"
         ],
         "xaxis": "x",
         "y": [
          26,
          26,
          19,
          22,
          17
         ],
         "yaxis": "y"
        },
        {
         "hovertemplate": "Team=%{x}<br>Age=%{y}<extra></extra>",
         "legendgroup": "East Germany",
         "marker": {
          "color": "#B6E880",
          "symbol": "circle"
         },
         "mode": "markers",
         "name": "East Germany",
         "orientation": "v",
         "showlegend": true,
         "type": "scatter",
         "x": [
          "East Germany",
          "East Germany",
          "East Germany",
          "East Germany",
          "East Germany",
          "East Germany",
          "East Germany",
          "East Germany",
          "East Germany",
          "East Germany",
          "East Germany",
          "East Germany",
          "East Germany"
         ],
         "xaxis": "x",
         "y": [
          23,
          23,
          28,
          22,
          22,
          26,
          24,
          20,
          24,
          20,
          26,
          25,
          22
         ],
         "yaxis": "y"
        },
        {
         "hovertemplate": "Team=%{x}<br>Age=%{y}<extra></extra>",
         "legendgroup": "Australasia",
         "marker": {
          "color": "#FF97FF",
          "symbol": "circle"
         },
         "mode": "markers",
         "name": "Australasia",
         "orientation": "v",
         "showlegend": true,
         "type": "scatter",
         "x": [
          "Australasia"
         ],
         "xaxis": "x",
         "y": [
          24
         ],
         "yaxis": "y"
        },
        {
         "hovertemplate": "Team=%{x}<br>Age=%{y}<extra></extra>",
         "legendgroup": "Soviet Union",
         "marker": {
          "color": "#FECB52",
          "symbol": "circle"
         },
         "mode": "markers",
         "name": "Soviet Union",
         "orientation": "v",
         "showlegend": true,
         "type": "scatter",
         "x": [
          "Soviet Union",
          "Soviet Union",
          "Soviet Union",
          "Soviet Union",
          "Soviet Union",
          "Soviet Union",
          "Soviet Union",
          "Soviet Union",
          "Soviet Union",
          "Soviet Union",
          "Soviet Union",
          "Soviet Union",
          "Soviet Union",
          "Soviet Union",
          "Soviet Union",
          "Soviet Union",
          "Soviet Union",
          "Soviet Union",
          "Soviet Union",
          "Soviet Union",
          "Soviet Union",
          "Soviet Union",
          "Soviet Union",
          "Soviet Union",
          "Soviet Union",
          "Soviet Union",
          "Soviet Union",
          "Soviet Union",
          "Soviet Union",
          "Soviet Union",
          "Soviet Union",
          "Soviet Union",
          "Soviet Union",
          "Soviet Union",
          "Soviet Union",
          "Soviet Union",
          "Soviet Union",
          "Soviet Union",
          "Soviet Union",
          "Soviet Union",
          "Soviet Union",
          "Soviet Union",
          "Soviet Union",
          "Soviet Union",
          "Soviet Union",
          "Soviet Union",
          "Soviet Union",
          "Soviet Union",
          "Soviet Union",
          "Soviet Union",
          "Soviet Union"
         ],
         "xaxis": "x",
         "y": [
          26,
          22,
          29,
          21,
          24,
          23,
          23,
          21,
          22,
          26,
          30,
          20,
          21,
          25,
          20,
          22,
          26,
          30,
          20,
          24,
          24,
          20,
          20,
          22,
          23,
          25,
          27,
          28,
          24,
          26,
          20,
          24,
          21,
          21,
          23,
          27,
          20,
          23,
          24,
          34,
          20,
          22,
          23,
          23,
          24,
          26,
          23,
          25,
          31,
          22,
          26
         ],
         "yaxis": "y"
        },
        {
         "hovertemplate": "Team=%{x}<br>Age=%{y}<extra></extra>",
         "legendgroup": "Ireland",
         "marker": {
          "color": "#636efa",
          "symbol": "circle"
         },
         "mode": "markers",
         "name": "Ireland",
         "orientation": "v",
         "showlegend": true,
         "type": "scatter",
         "x": [
          "Ireland",
          "Ireland",
          "Ireland",
          "Ireland",
          "Ireland",
          "Ireland",
          "Ireland",
          "Ireland",
          "Ireland",
          "Ireland",
          "Ireland",
          "Ireland",
          "Ireland",
          "Ireland",
          "Ireland",
          "Ireland"
         ],
         "xaxis": "x",
         "y": [
          21,
          25,
          26,
          18,
          25,
          20,
          26,
          20,
          20,
          22,
          19,
          23,
          20,
          26,
          26,
          21
         ],
         "yaxis": "y"
        },
        {
         "hovertemplate": "Team=%{x}<br>Age=%{y}<extra></extra>",
         "legendgroup": "Chile",
         "marker": {
          "color": "#EF553B",
          "symbol": "circle"
         },
         "mode": "markers",
         "name": "Chile",
         "orientation": "v",
         "showlegend": true,
         "type": "scatter",
         "x": [
          "Chile",
          "Chile",
          "Chile"
         ],
         "xaxis": "x",
         "y": [
          21,
          26,
          24
         ],
         "yaxis": "y"
        },
        {
         "hovertemplate": "Team=%{x}<br>Age=%{y}<extra></extra>",
         "legendgroup": "New Zealand",
         "marker": {
          "color": "#00cc96",
          "symbol": "circle"
         },
         "mode": "markers",
         "name": "New Zealand",
         "orientation": "v",
         "showlegend": true,
         "type": "scatter",
         "x": [
          "New Zealand",
          "New Zealand",
          "New Zealand"
         ],
         "xaxis": "x",
         "y": [
          24,
          22,
          19
         ],
         "yaxis": "y"
        },
        {
         "hovertemplate": "Team=%{x}<br>Age=%{y}<extra></extra>",
         "legendgroup": "Germany",
         "marker": {
          "color": "#ab63fa",
          "symbol": "circle"
         },
         "mode": "markers",
         "name": "Germany",
         "orientation": "v",
         "showlegend": true,
         "type": "scatter",
         "x": [
          "Germany",
          "Germany",
          "Germany",
          "Germany",
          "Germany",
          "Germany",
          "Germany",
          "Germany",
          "Germany",
          "Germany",
          "Germany",
          "Germany",
          "Germany",
          "Germany",
          "Germany",
          "Germany",
          "Germany",
          "Germany",
          "Germany",
          "Germany",
          "Germany",
          "Germany",
          "Germany",
          "Germany",
          "Germany",
          "Germany",
          "Germany",
          "Germany",
          "Germany"
         ],
         "xaxis": "x",
         "y": [
          21,
          20,
          20,
          25,
          19,
          30,
          24,
          21,
          25,
          23,
          26,
          22,
          22,
          25,
          21,
          22,
          29,
          22,
          23,
          22,
          26,
          29,
          23,
          22,
          23,
          21,
          26,
          23,
          26
         ],
         "yaxis": "y"
        },
        {
         "hovertemplate": "Team=%{x}<br>Age=%{y}<extra></extra>",
         "legendgroup": "Belgium",
         "marker": {
          "color": "#FFA15A",
          "symbol": "circle"
         },
         "mode": "markers",
         "name": "Belgium",
         "orientation": "v",
         "showlegend": true,
         "type": "scatter",
         "x": [
          "Belgium",
          "Belgium",
          "Belgium",
          "Belgium"
         ],
         "xaxis": "x",
         "y": [
          20,
          18,
          null,
          19
         ],
         "yaxis": "y"
        },
        {
         "hovertemplate": "Team=%{x}<br>Age=%{y}<extra></extra>",
         "legendgroup": "Mexico",
         "marker": {
          "color": "#19d3f3",
          "symbol": "circle"
         },
         "mode": "markers",
         "name": "Mexico",
         "orientation": "v",
         "showlegend": true,
         "type": "scatter",
         "x": [
          "Mexico",
          "Mexico",
          "Mexico",
          "Mexico",
          "Mexico",
          "Mexico",
          "Mexico",
          "Mexico",
          "Mexico",
          "Mexico",
          "Mexico",
          "Mexico",
          "Mexico"
         ],
         "xaxis": "x",
         "y": [
          19,
          20,
          21,
          20,
          19,
          17,
          27,
          23,
          24,
          22,
          22,
          18,
          27
         ],
         "yaxis": "y"
        },
        {
         "hovertemplate": "Team=%{x}<br>Age=%{y}<extra></extra>",
         "legendgroup": "Hungary",
         "marker": {
          "color": "#FF6692",
          "symbol": "circle"
         },
         "mode": "markers",
         "name": "Hungary",
         "orientation": "v",
         "showlegend": true,
         "type": "scatter",
         "x": [
          "Hungary",
          "Hungary",
          "Hungary",
          "Hungary",
          "Hungary",
          "Hungary",
          "Hungary",
          "Hungary",
          "Hungary",
          "Hungary",
          "Hungary",
          "Hungary",
          "Hungary",
          "Hungary",
          "Hungary",
          "Hungary",
          "Hungary",
          "Hungary",
          "Hungary",
          "Hungary"
         ],
         "xaxis": "x",
         "y": [
          24,
          20,
          20,
          21,
          26,
          23,
          22,
          23,
          32,
          22,
          21,
          25,
          23,
          20,
          22,
          22,
          26,
          30,
          22,
          19
         ],
         "yaxis": "y"
        },
        {
         "hovertemplate": "Team=%{x}<br>Age=%{y}<extra></extra>",
         "legendgroup": "Ukraine",
         "marker": {
          "color": "#B6E880",
          "symbol": "circle"
         },
         "mode": "markers",
         "name": "Ukraine",
         "orientation": "v",
         "showlegend": true,
         "type": "scatter",
         "x": [
          "Ukraine",
          "Ukraine",
          "Ukraine",
          "Ukraine",
          "Ukraine",
          "Ukraine",
          "Ukraine",
          "Ukraine",
          "Ukraine",
          "Ukraine",
          "Ukraine",
          "Ukraine",
          "Ukraine",
          "Ukraine"
         ],
         "xaxis": "x",
         "y": [
          24,
          26,
          21,
          20,
          23,
          25,
          21,
          20,
          22,
          20,
          24,
          26,
          23,
          25
         ],
         "yaxis": "y"
        },
        {
         "hovertemplate": "Team=%{x}<br>Age=%{y}<extra></extra>",
         "legendgroup": "Cameroon",
         "marker": {
          "color": "#FF97FF",
          "symbol": "circle"
         },
         "mode": "markers",
         "name": "Cameroon",
         "orientation": "v",
         "showlegend": true,
         "type": "scatter",
         "x": [
          "Cameroon",
          "Cameroon"
         ],
         "xaxis": "x",
         "y": [
          27,
          18
         ],
         "yaxis": "y"
        },
        {
         "hovertemplate": "Team=%{x}<br>Age=%{y}<extra></extra>",
         "legendgroup": "Kenya",
         "marker": {
          "color": "#FECB52",
          "symbol": "circle"
         },
         "mode": "markers",
         "name": "Kenya",
         "orientation": "v",
         "showlegend": true,
         "type": "scatter",
         "x": [
          "Kenya",
          "Kenya",
          "Kenya",
          "Kenya",
          "Kenya",
          "Kenya",
          "Kenya"
         ],
         "xaxis": "x",
         "y": [
          19,
          26,
          23,
          24,
          22,
          23,
          27
         ],
         "yaxis": "y"
        },
        {
         "hovertemplate": "Team=%{x}<br>Age=%{y}<extra></extra>",
         "legendgroup": "Venezuela",
         "marker": {
          "color": "#636efa",
          "symbol": "circle"
         },
         "mode": "markers",
         "name": "Venezuela",
         "orientation": "v",
         "showlegend": true,
         "type": "scatter",
         "x": [
          "Venezuela",
          "Venezuela",
          "Venezuela",
          "Venezuela",
          "Venezuela",
          "Venezuela"
         ],
         "xaxis": "x",
         "y": [
          20,
          20,
          19,
          21,
          20,
          23
         ],
         "yaxis": "y"
        },
        {
         "hovertemplate": "Team=%{x}<br>Age=%{y}<extra></extra>",
         "legendgroup": "Thailand",
         "marker": {
          "color": "#EF553B",
          "symbol": "circle"
         },
         "mode": "markers",
         "name": "Thailand",
         "orientation": "v",
         "showlegend": true,
         "type": "scatter",
         "x": [
          "Thailand",
          "Thailand",
          "Thailand",
          "Thailand",
          "Thailand",
          "Thailand",
          "Thailand",
          "Thailand",
          "Thailand",
          "Thailand",
          "Thailand",
          "Thailand",
          "Thailand",
          "Thailand"
         ],
         "xaxis": "x",
         "y": [
          24,
          28,
          22,
          33,
          23,
          28,
          20,
          23,
          32,
          24,
          18,
          24,
          26,
          24
         ],
         "yaxis": "y"
        },
        {
         "hovertemplate": "Team=%{x}<br>Age=%{y}<extra></extra>",
         "legendgroup": "Georgia",
         "marker": {
          "color": "#00cc96",
          "symbol": "circle"
         },
         "mode": "markers",
         "name": "Georgia",
         "orientation": "v",
         "showlegend": true,
         "type": "scatter",
         "x": [
          "Georgia"
         ],
         "xaxis": "x",
         "y": [
          22
         ],
         "yaxis": "y"
        },
        {
         "hovertemplate": "Team=%{x}<br>Age=%{y}<extra></extra>",
         "legendgroup": "Australia",
         "marker": {
          "color": "#ab63fa",
          "symbol": "circle"
         },
         "mode": "markers",
         "name": "Australia",
         "orientation": "v",
         "showlegend": true,
         "type": "scatter",
         "x": [
          "Australia",
          "Australia",
          "Australia",
          "Australia"
         ],
         "xaxis": "x",
         "y": [
          19,
          22,
          30,
          22
         ],
         "yaxis": "y"
        },
        {
         "hovertemplate": "Team=%{x}<br>Age=%{y}<extra></extra>",
         "legendgroup": "North Korea",
         "marker": {
          "color": "#FFA15A",
          "symbol": "circle"
         },
         "mode": "markers",
         "name": "North Korea",
         "orientation": "v",
         "showlegend": true,
         "type": "scatter",
         "x": [
          "North Korea",
          "North Korea",
          "North Korea",
          "North Korea",
          "North Korea",
          "North Korea",
          "North Korea",
          "North Korea"
         ],
         "xaxis": "x",
         "y": [
          22,
          21,
          20,
          22,
          20,
          21,
          25,
          22
         ],
         "yaxis": "y"
        },
        {
         "hovertemplate": "Team=%{x}<br>Age=%{y}<extra></extra>",
         "legendgroup": "Tajikistan",
         "marker": {
          "color": "#19d3f3",
          "symbol": "circle"
         },
         "mode": "markers",
         "name": "Tajikistan",
         "orientation": "v",
         "showlegend": true,
         "type": "scatter",
         "x": [
          "Tajikistan"
         ],
         "xaxis": "x",
         "y": [
          19
         ],
         "yaxis": "y"
        },
        {
         "hovertemplate": "Team=%{x}<br>Age=%{y}<extra></extra>",
         "legendgroup": "Niger",
         "marker": {
          "color": "#FF6692",
          "symbol": "circle"
         },
         "mode": "markers",
         "name": "Niger",
         "orientation": "v",
         "showlegend": true,
         "type": "scatter",
         "x": [
          "Niger"
         ],
         "xaxis": "x",
         "y": [
          null
         ],
         "yaxis": "y"
        },
        {
         "hovertemplate": "Team=%{x}<br>Age=%{y}<extra></extra>",
         "legendgroup": "Canada",
         "marker": {
          "color": "#B6E880",
          "symbol": "circle"
         },
         "mode": "markers",
         "name": "Canada",
         "orientation": "v",
         "showlegend": true,
         "type": "scatter",
         "x": [
          "Canada",
          "Canada",
          "Canada",
          "Canada",
          "Canada",
          "Canada",
          "Canada",
          "Canada",
          "Canada",
          "Canada",
          "Canada",
          "Canada",
          "Canada",
          "Canada",
          "Canada",
          "Canada",
          "Canada"
         ],
         "xaxis": "x",
         "y": [
          26,
          23,
          19,
          20,
          19,
          22,
          20,
          28,
          25,
          23,
          23,
          21,
          22,
          null,
          22,
          24,
          20
         ],
         "yaxis": "y"
        },
        {
         "hovertemplate": "Team=%{x}<br>Age=%{y}<extra></extra>",
         "legendgroup": "Netherlands",
         "marker": {
          "color": "#FF97FF",
          "symbol": "circle"
         },
         "mode": "markers",
         "name": "Netherlands",
         "orientation": "v",
         "showlegend": true,
         "type": "scatter",
         "x": [
          "Netherlands",
          "Netherlands",
          "Netherlands",
          "Netherlands",
          "Netherlands",
          "Netherlands",
          "Netherlands"
         ],
         "xaxis": "x",
         "y": [
          21,
          28,
          24,
          20,
          21,
          25,
          29
         ],
         "yaxis": "y"
        },
        {
         "hovertemplate": "Team=%{x}<br>Age=%{y}<extra></extra>",
         "legendgroup": "Dominican Republic",
         "marker": {
          "color": "#FECB52",
          "symbol": "circle"
         },
         "mode": "markers",
         "name": "Dominican Republic",
         "orientation": "v",
         "showlegend": true,
         "type": "scatter",
         "x": [
          "Dominican Republic",
          "Dominican Republic"
         ],
         "xaxis": "x",
         "y": [
          24,
          22
         ],
         "yaxis": "y"
        },
        {
         "hovertemplate": "Team=%{x}<br>Age=%{y}<extra></extra>",
         "legendgroup": "Nigeria",
         "marker": {
          "color": "#636efa",
          "symbol": "circle"
         },
         "mode": "markers",
         "name": "Nigeria",
         "orientation": "v",
         "showlegend": true,
         "type": "scatter",
         "x": [
          "Nigeria",
          "Nigeria",
          "Nigeria",
          "Nigeria",
          "Nigeria",
          "Nigeria"
         ],
         "xaxis": "x",
         "y": [
          23,
          24,
          24,
          29,
          18,
          23
         ],
         "yaxis": "y"
        },
        {
         "hovertemplate": "Team=%{x}<br>Age=%{y}<extra></extra>",
         "legendgroup": "Mongolia",
         "marker": {
          "color": "#EF553B",
          "symbol": "circle"
         },
         "mode": "markers",
         "name": "Mongolia",
         "orientation": "v",
         "showlegend": true,
         "type": "scatter",
         "x": [
          "Mongolia",
          "Mongolia",
          "Mongolia",
          "Mongolia",
          "Mongolia",
          "Mongolia",
          "Mongolia"
         ],
         "xaxis": "x",
         "y": [
          28,
          23,
          26,
          26,
          20,
          23,
          30
         ],
         "yaxis": "y"
        },
        {
         "hovertemplate": "Team=%{x}<br>Age=%{y}<extra></extra>",
         "legendgroup": "United Arab Republic",
         "marker": {
          "color": "#00cc96",
          "symbol": "circle"
         },
         "mode": "markers",
         "name": "United Arab Republic",
         "orientation": "v",
         "showlegend": true,
         "type": "scatter",
         "x": [
          "United Arab Republic"
         ],
         "xaxis": "x",
         "y": [
          24
         ],
         "yaxis": "y"
        },
        {
         "hovertemplate": "Team=%{x}<br>Age=%{y}<extra></extra>",
         "legendgroup": "Czechoslovakia",
         "marker": {
          "color": "#ab63fa",
          "symbol": "circle"
         },
         "mode": "markers",
         "name": "Czechoslovakia",
         "orientation": "v",
         "showlegend": true,
         "type": "scatter",
         "x": [
          "Czechoslovakia",
          "Czechoslovakia",
          "Czechoslovakia",
          "Czechoslovakia",
          "Czechoslovakia",
          "Czechoslovakia"
         ],
         "xaxis": "x",
         "y": [
          20,
          20,
          26,
          22,
          26,
          23
         ],
         "yaxis": "y"
        },
        {
         "hovertemplate": "Team=%{x}<br>Age=%{y}<extra></extra>",
         "legendgroup": "Tunisia",
         "marker": {
          "color": "#FFA15A",
          "symbol": "circle"
         },
         "mode": "markers",
         "name": "Tunisia",
         "orientation": "v",
         "showlegend": true,
         "type": "scatter",
         "x": [
          "Tunisia",
          "Tunisia"
         ],
         "xaxis": "x",
         "y": [
          23,
          22
         ],
         "yaxis": "y"
        },
        {
         "hovertemplate": "Team=%{x}<br>Age=%{y}<extra></extra>",
         "legendgroup": "West Germany",
         "marker": {
          "color": "#19d3f3",
          "symbol": "circle"
         },
         "mode": "markers",
         "name": "West Germany",
         "orientation": "v",
         "showlegend": true,
         "type": "scatter",
         "x": [
          "West Germany",
          "West Germany",
          "West Germany",
          "West Germany",
          "West Germany",
          "West Germany"
         ],
         "xaxis": "x",
         "y": [
          25,
          24,
          29,
          27,
          28,
          23
         ],
         "yaxis": "y"
        },
        {
         "hovertemplate": "Team=%{x}<br>Age=%{y}<extra></extra>",
         "legendgroup": "Moldova",
         "marker": {
          "color": "#FF6692",
          "symbol": "circle"
         },
         "mode": "markers",
         "name": "Moldova",
         "orientation": "v",
         "showlegend": true,
         "type": "scatter",
         "x": [
          "Moldova",
          "Moldova"
         ],
         "xaxis": "x",
         "y": [
          25,
          23
         ],
         "yaxis": "y"
        },
        {
         "hovertemplate": "Team=%{x}<br>Age=%{y}<extra></extra>",
         "legendgroup": "China",
         "marker": {
          "color": "#B6E880",
          "symbol": "circle"
         },
         "mode": "markers",
         "name": "China",
         "orientation": "v",
         "showlegend": true,
         "type": "scatter",
         "x": [
          "China",
          "China",
          "China",
          "China",
          "China",
          "China",
          "China",
          "China",
          "China",
          "China",
          "China",
          "China"
         ],
         "xaxis": "x",
         "y": [
          23,
          23,
          22,
          26,
          24,
          28,
          25,
          26,
          25,
          23,
          27,
          31
         ],
         "yaxis": "y"
        },
        {
         "hovertemplate": "Team=%{x}<br>Age=%{y}<extra></extra>",
         "legendgroup": "Bermuda",
         "marker": {
          "color": "#FF97FF",
          "symbol": "circle"
         },
         "mode": "markers",
         "name": "Bermuda",
         "orientation": "v",
         "showlegend": true,
         "type": "scatter",
         "x": [
          "Bermuda"
         ],
         "xaxis": "x",
         "y": [
          25
         ],
         "yaxis": "y"
        },
        {
         "hovertemplate": "Team=%{x}<br>Age=%{y}<extra></extra>",
         "legendgroup": "Croatia",
         "marker": {
          "color": "#FECB52",
          "symbol": "circle"
         },
         "mode": "markers",
         "name": "Croatia",
         "orientation": "v",
         "showlegend": true,
         "type": "scatter",
         "x": [
          "Croatia"
         ],
         "xaxis": "x",
         "y": [
          24
         ],
         "yaxis": "y"
        },
        {
         "hovertemplate": "Team=%{x}<br>Age=%{y}<extra></extra>",
         "legendgroup": "Pakistan",
         "marker": {
          "color": "#636efa",
          "symbol": "circle"
         },
         "mode": "markers",
         "name": "Pakistan",
         "orientation": "v",
         "showlegend": true,
         "type": "scatter",
         "x": [
          "Pakistan"
         ],
         "xaxis": "x",
         "y": [
          24
         ],
         "yaxis": "y"
        },
        {
         "hovertemplate": "Team=%{x}<br>Age=%{y}<extra></extra>",
         "legendgroup": "Armenia",
         "marker": {
          "color": "#EF553B",
          "symbol": "circle"
         },
         "mode": "markers",
         "name": "Armenia",
         "orientation": "v",
         "showlegend": true,
         "type": "scatter",
         "x": [
          "Armenia"
         ],
         "xaxis": "x",
         "y": [
          24
         ],
         "yaxis": "y"
        },
        {
         "hovertemplate": "Team=%{x}<br>Age=%{y}<extra></extra>",
         "legendgroup": "Denmark",
         "marker": {
          "color": "#00cc96",
          "symbol": "circle"
         },
         "mode": "markers",
         "name": "Denmark",
         "orientation": "v",
         "showlegend": true,
         "type": "scatter",
         "x": [
          "Denmark",
          "Denmark",
          "Denmark",
          "Denmark",
          "Denmark",
          "Denmark",
          "Denmark",
          "Denmark",
          "Denmark",
          "Denmark",
          "Denmark",
          "Denmark"
         ],
         "xaxis": "x",
         "y": [
          24,
          25,
          28,
          29,
          27,
          24,
          20,
          24,
          25,
          29,
          21,
          20
         ],
         "yaxis": "y"
        },
        {
         "hovertemplate": "Team=%{x}<br>Age=%{y}<extra></extra>",
         "legendgroup": "Yugoslavia",
         "marker": {
          "color": "#ab63fa",
          "symbol": "circle"
         },
         "mode": "markers",
         "name": "Yugoslavia",
         "orientation": "v",
         "showlegend": true,
         "type": "scatter",
         "x": [
          "Yugoslavia",
          "Yugoslavia",
          "Yugoslavia",
          "Yugoslavia",
          "Yugoslavia",
          "Yugoslavia",
          "Yugoslavia",
          "Yugoslavia",
          "Yugoslavia",
          "Yugoslavia",
          "Yugoslavia"
         ],
         "xaxis": "x",
         "y": [
          22,
          22,
          20,
          23,
          28,
          21,
          19,
          30,
          28,
          25,
          29
         ],
         "yaxis": "y"
        },
        {
         "hovertemplate": "Team=%{x}<br>Age=%{y}<extra></extra>",
         "legendgroup": "Mauritius",
         "marker": {
          "color": "#FFA15A",
          "symbol": "circle"
         },
         "mode": "markers",
         "name": "Mauritius",
         "orientation": "v",
         "showlegend": true,
         "type": "scatter",
         "x": [
          "Mauritius"
         ],
         "xaxis": "x",
         "y": [
          30
         ],
         "yaxis": "y"
        },
        {
         "hovertemplate": "Team=%{x}<br>Age=%{y}<extra></extra>",
         "legendgroup": "Colombia",
         "marker": {
          "color": "#19d3f3",
          "symbol": "circle"
         },
         "mode": "markers",
         "name": "Colombia",
         "orientation": "v",
         "showlegend": true,
         "type": "scatter",
         "x": [
          "Colombia",
          "Colombia",
          "Colombia",
          "Colombia",
          "Colombia"
         ],
         "xaxis": "x",
         "y": [
          19,
          24,
          23,
          19,
          27
         ],
         "yaxis": "y"
        },
        {
         "hovertemplate": "Team=%{x}<br>Age=%{y}<extra></extra>",
         "legendgroup": "India",
         "marker": {
          "color": "#FF6692",
          "symbol": "circle"
         },
         "mode": "markers",
         "name": "India",
         "orientation": "v",
         "showlegend": true,
         "type": "scatter",
         "x": [
          "India",
          "India"
         ],
         "xaxis": "x",
         "y": [
          29,
          22
         ],
         "yaxis": "y"
        },
        {
         "hovertemplate": "Team=%{x}<br>Age=%{y}<extra></extra>",
         "legendgroup": "Czech Republic",
         "marker": {
          "color": "#B6E880",
          "symbol": "circle"
         },
         "mode": "markers",
         "name": "Czech Republic",
         "orientation": "v",
         "showlegend": true,
         "type": "scatter",
         "x": [
          "Czech Republic"
         ],
         "xaxis": "x",
         "y": [
          22
         ],
         "yaxis": "y"
        },
        {
         "hovertemplate": "Team=%{x}<br>Age=%{y}<extra></extra>",
         "legendgroup": "Spain",
         "marker": {
          "color": "#FF97FF",
          "symbol": "circle"
         },
         "mode": "markers",
         "name": "Spain",
         "orientation": "v",
         "showlegend": true,
         "type": "scatter",
         "x": [
          "Spain",
          "Spain",
          "Spain",
          "Spain"
         ],
         "xaxis": "x",
         "y": [
          26,
          30,
          17,
          20
         ],
         "yaxis": "y"
        },
        {
         "hovertemplate": "Team=%{x}<br>Age=%{y}<extra></extra>",
         "legendgroup": "Japan",
         "marker": {
          "color": "#FECB52",
          "symbol": "circle"
         },
         "mode": "markers",
         "name": "Japan",
         "orientation": "v",
         "showlegend": true,
         "type": "scatter",
         "x": [
          "Japan",
          "Japan",
          "Japan",
          "Japan",
          "Japan"
         ],
         "xaxis": "x",
         "y": [
          22,
          26,
          23,
          26,
          19
         ],
         "yaxis": "y"
        },
        {
         "hovertemplate": "Team=%{x}<br>Age=%{y}<extra></extra>",
         "legendgroup": "Uganda",
         "marker": {
          "color": "#636efa",
          "symbol": "circle"
         },
         "mode": "markers",
         "name": "Uganda",
         "orientation": "v",
         "showlegend": true,
         "type": "scatter",
         "x": [
          "Uganda",
          "Uganda",
          "Uganda",
          "Uganda"
         ],
         "xaxis": "x",
         "y": [
          20,
          25,
          19,
          23
         ],
         "yaxis": "y"
        },
        {
         "hovertemplate": "Team=%{x}<br>Age=%{y}<extra></extra>",
         "legendgroup": "Zambia",
         "marker": {
          "color": "#EF553B",
          "symbol": "circle"
         },
         "mode": "markers",
         "name": "Zambia",
         "orientation": "v",
         "showlegend": true,
         "type": "scatter",
         "x": [
          "Zambia"
         ],
         "xaxis": "x",
         "y": [
          null
         ],
         "yaxis": "y"
        },
        {
         "hovertemplate": "Team=%{x}<br>Age=%{y}<extra></extra>",
         "legendgroup": "Norway",
         "marker": {
          "color": "#00cc96",
          "symbol": "circle"
         },
         "mode": "markers",
         "name": "Norway",
         "orientation": "v",
         "showlegend": true,
         "type": "scatter",
         "x": [
          "Norway",
          "Norway",
          "Norway",
          "Norway",
          "Norway"
         ],
         "xaxis": "x",
         "y": [
          25,
          19,
          23,
          22,
          20
         ],
         "yaxis": "y"
        },
        {
         "hovertemplate": "Team=%{x}<br>Age=%{y}<extra></extra>",
         "legendgroup": "Unified Team",
         "marker": {
          "color": "#ab63fa",
          "symbol": "circle"
         },
         "mode": "markers",
         "name": "Unified Team",
         "orientation": "v",
         "showlegend": true,
         "type": "scatter",
         "x": [
          "Unified Team",
          "Unified Team"
         ],
         "xaxis": "x",
         "y": [
          18,
          23
         ],
         "yaxis": "y"
        },
        {
         "hovertemplate": "Team=%{x}<br>Age=%{y}<extra></extra>",
         "legendgroup": "Lithuania",
         "marker": {
          "color": "#FFA15A",
          "symbol": "circle"
         },
         "mode": "markers",
         "name": "Lithuania",
         "orientation": "v",
         "showlegend": true,
         "type": "scatter",
         "x": [
          "Lithuania"
         ],
         "xaxis": "x",
         "y": [
          20
         ],
         "yaxis": "y"
        },
        {
         "hovertemplate": "Team=%{x}<br>Age=%{y}<extra></extra>",
         "legendgroup": "Uruguay",
         "marker": {
          "color": "#19d3f3",
          "symbol": "circle"
         },
         "mode": "markers",
         "name": "Uruguay",
         "orientation": "v",
         "showlegend": true,
         "type": "scatter",
         "x": [
          "Uruguay"
         ],
         "xaxis": "x",
         "y": [
          20
         ],
         "yaxis": "y"
        },
        {
         "hovertemplate": "Team=%{x}<br>Age=%{y}<extra></extra>",
         "legendgroup": "Philippines",
         "marker": {
          "color": "#FF6692",
          "symbol": "circle"
         },
         "mode": "markers",
         "name": "Philippines",
         "orientation": "v",
         "showlegend": true,
         "type": "scatter",
         "x": [
          "Philippines",
          "Philippines",
          "Philippines",
          "Philippines",
          "Philippines"
         ],
         "xaxis": "x",
         "y": [
          26,
          22,
          20,
          19,
          19
         ],
         "yaxis": "y"
        },
        {
         "hovertemplate": "Team=%{x}<br>Age=%{y}<extra></extra>",
         "legendgroup": "Estonia",
         "marker": {
          "color": "#B6E880",
          "symbol": "circle"
         },
         "mode": "markers",
         "name": "Estonia",
         "orientation": "v",
         "showlegend": true,
         "type": "scatter",
         "x": [
          "Estonia"
         ],
         "xaxis": "x",
         "y": [
          23
         ],
         "yaxis": "y"
        },
        {
         "hovertemplate": "Team=%{x}<br>Age=%{y}<extra></extra>",
         "legendgroup": "Tonga",
         "marker": {
          "color": "#FF97FF",
          "symbol": "circle"
         },
         "mode": "markers",
         "name": "Tonga",
         "orientation": "v",
         "showlegend": true,
         "type": "scatter",
         "x": [
          "Tonga"
         ],
         "xaxis": "x",
         "y": [
          26
         ],
         "yaxis": "y"
        }
       ],
       "layout": {
        "legend": {
         "title": {
          "text": "Team"
         },
         "tracegroupgap": 0
        },
        "template": {
         "data": {
          "bar": [
           {
            "error_x": {
             "color": "#2a3f5f"
            },
            "error_y": {
             "color": "#2a3f5f"
            },
            "marker": {
             "line": {
              "color": "#E5ECF6",
              "width": 0.5
             },
             "pattern": {
              "fillmode": "overlay",
              "size": 10,
              "solidity": 0.2
             }
            },
            "type": "bar"
           }
          ],
          "barpolar": [
           {
            "marker": {
             "line": {
              "color": "#E5ECF6",
              "width": 0.5
             },
             "pattern": {
              "fillmode": "overlay",
              "size": 10,
              "solidity": 0.2
             }
            },
            "type": "barpolar"
           }
          ],
          "carpet": [
           {
            "aaxis": {
             "endlinecolor": "#2a3f5f",
             "gridcolor": "white",
             "linecolor": "white",
             "minorgridcolor": "white",
             "startlinecolor": "#2a3f5f"
            },
            "baxis": {
             "endlinecolor": "#2a3f5f",
             "gridcolor": "white",
             "linecolor": "white",
             "minorgridcolor": "white",
             "startlinecolor": "#2a3f5f"
            },
            "type": "carpet"
           }
          ],
          "choropleth": [
           {
            "colorbar": {
             "outlinewidth": 0,
             "ticks": ""
            },
            "type": "choropleth"
           }
          ],
          "contour": [
           {
            "colorbar": {
             "outlinewidth": 0,
             "ticks": ""
            },
            "colorscale": [
             [
              0,
              "#0d0887"
             ],
             [
              0.1111111111111111,
              "#46039f"
             ],
             [
              0.2222222222222222,
              "#7201a8"
             ],
             [
              0.3333333333333333,
              "#9c179e"
             ],
             [
              0.4444444444444444,
              "#bd3786"
             ],
             [
              0.5555555555555556,
              "#d8576b"
             ],
             [
              0.6666666666666666,
              "#ed7953"
             ],
             [
              0.7777777777777778,
              "#fb9f3a"
             ],
             [
              0.8888888888888888,
              "#fdca26"
             ],
             [
              1,
              "#f0f921"
             ]
            ],
            "type": "contour"
           }
          ],
          "contourcarpet": [
           {
            "colorbar": {
             "outlinewidth": 0,
             "ticks": ""
            },
            "type": "contourcarpet"
           }
          ],
          "heatmap": [
           {
            "colorbar": {
             "outlinewidth": 0,
             "ticks": ""
            },
            "colorscale": [
             [
              0,
              "#0d0887"
             ],
             [
              0.1111111111111111,
              "#46039f"
             ],
             [
              0.2222222222222222,
              "#7201a8"
             ],
             [
              0.3333333333333333,
              "#9c179e"
             ],
             [
              0.4444444444444444,
              "#bd3786"
             ],
             [
              0.5555555555555556,
              "#d8576b"
             ],
             [
              0.6666666666666666,
              "#ed7953"
             ],
             [
              0.7777777777777778,
              "#fb9f3a"
             ],
             [
              0.8888888888888888,
              "#fdca26"
             ],
             [
              1,
              "#f0f921"
             ]
            ],
            "type": "heatmap"
           }
          ],
          "heatmapgl": [
           {
            "colorbar": {
             "outlinewidth": 0,
             "ticks": ""
            },
            "colorscale": [
             [
              0,
              "#0d0887"
             ],
             [
              0.1111111111111111,
              "#46039f"
             ],
             [
              0.2222222222222222,
              "#7201a8"
             ],
             [
              0.3333333333333333,
              "#9c179e"
             ],
             [
              0.4444444444444444,
              "#bd3786"
             ],
             [
              0.5555555555555556,
              "#d8576b"
             ],
             [
              0.6666666666666666,
              "#ed7953"
             ],
             [
              0.7777777777777778,
              "#fb9f3a"
             ],
             [
              0.8888888888888888,
              "#fdca26"
             ],
             [
              1,
              "#f0f921"
             ]
            ],
            "type": "heatmapgl"
           }
          ],
          "histogram": [
           {
            "marker": {
             "pattern": {
              "fillmode": "overlay",
              "size": 10,
              "solidity": 0.2
             }
            },
            "type": "histogram"
           }
          ],
          "histogram2d": [
           {
            "colorbar": {
             "outlinewidth": 0,
             "ticks": ""
            },
            "colorscale": [
             [
              0,
              "#0d0887"
             ],
             [
              0.1111111111111111,
              "#46039f"
             ],
             [
              0.2222222222222222,
              "#7201a8"
             ],
             [
              0.3333333333333333,
              "#9c179e"
             ],
             [
              0.4444444444444444,
              "#bd3786"
             ],
             [
              0.5555555555555556,
              "#d8576b"
             ],
             [
              0.6666666666666666,
              "#ed7953"
             ],
             [
              0.7777777777777778,
              "#fb9f3a"
             ],
             [
              0.8888888888888888,
              "#fdca26"
             ],
             [
              1,
              "#f0f921"
             ]
            ],
            "type": "histogram2d"
           }
          ],
          "histogram2dcontour": [
           {
            "colorbar": {
             "outlinewidth": 0,
             "ticks": ""
            },
            "colorscale": [
             [
              0,
              "#0d0887"
             ],
             [
              0.1111111111111111,
              "#46039f"
             ],
             [
              0.2222222222222222,
              "#7201a8"
             ],
             [
              0.3333333333333333,
              "#9c179e"
             ],
             [
              0.4444444444444444,
              "#bd3786"
             ],
             [
              0.5555555555555556,
              "#d8576b"
             ],
             [
              0.6666666666666666,
              "#ed7953"
             ],
             [
              0.7777777777777778,
              "#fb9f3a"
             ],
             [
              0.8888888888888888,
              "#fdca26"
             ],
             [
              1,
              "#f0f921"
             ]
            ],
            "type": "histogram2dcontour"
           }
          ],
          "mesh3d": [
           {
            "colorbar": {
             "outlinewidth": 0,
             "ticks": ""
            },
            "type": "mesh3d"
           }
          ],
          "parcoords": [
           {
            "line": {
             "colorbar": {
              "outlinewidth": 0,
              "ticks": ""
             }
            },
            "type": "parcoords"
           }
          ],
          "pie": [
           {
            "automargin": true,
            "type": "pie"
           }
          ],
          "scatter": [
           {
            "fillpattern": {
             "fillmode": "overlay",
             "size": 10,
             "solidity": 0.2
            },
            "type": "scatter"
           }
          ],
          "scatter3d": [
           {
            "line": {
             "colorbar": {
              "outlinewidth": 0,
              "ticks": ""
             }
            },
            "marker": {
             "colorbar": {
              "outlinewidth": 0,
              "ticks": ""
             }
            },
            "type": "scatter3d"
           }
          ],
          "scattercarpet": [
           {
            "marker": {
             "colorbar": {
              "outlinewidth": 0,
              "ticks": ""
             }
            },
            "type": "scattercarpet"
           }
          ],
          "scattergeo": [
           {
            "marker": {
             "colorbar": {
              "outlinewidth": 0,
              "ticks": ""
             }
            },
            "type": "scattergeo"
           }
          ],
          "scattergl": [
           {
            "marker": {
             "colorbar": {
              "outlinewidth": 0,
              "ticks": ""
             }
            },
            "type": "scattergl"
           }
          ],
          "scattermapbox": [
           {
            "marker": {
             "colorbar": {
              "outlinewidth": 0,
              "ticks": ""
             }
            },
            "type": "scattermapbox"
           }
          ],
          "scatterpolar": [
           {
            "marker": {
             "colorbar": {
              "outlinewidth": 0,
              "ticks": ""
             }
            },
            "type": "scatterpolar"
           }
          ],
          "scatterpolargl": [
           {
            "marker": {
             "colorbar": {
              "outlinewidth": 0,
              "ticks": ""
             }
            },
            "type": "scatterpolargl"
           }
          ],
          "scatterternary": [
           {
            "marker": {
             "colorbar": {
              "outlinewidth": 0,
              "ticks": ""
             }
            },
            "type": "scatterternary"
           }
          ],
          "surface": [
           {
            "colorbar": {
             "outlinewidth": 0,
             "ticks": ""
            },
            "colorscale": [
             [
              0,
              "#0d0887"
             ],
             [
              0.1111111111111111,
              "#46039f"
             ],
             [
              0.2222222222222222,
              "#7201a8"
             ],
             [
              0.3333333333333333,
              "#9c179e"
             ],
             [
              0.4444444444444444,
              "#bd3786"
             ],
             [
              0.5555555555555556,
              "#d8576b"
             ],
             [
              0.6666666666666666,
              "#ed7953"
             ],
             [
              0.7777777777777778,
              "#fb9f3a"
             ],
             [
              0.8888888888888888,
              "#fdca26"
             ],
             [
              1,
              "#f0f921"
             ]
            ],
            "type": "surface"
           }
          ],
          "table": [
           {
            "cells": {
             "fill": {
              "color": "#EBF0F8"
             },
             "line": {
              "color": "white"
             }
            },
            "header": {
             "fill": {
              "color": "#C8D4E3"
             },
             "line": {
              "color": "white"
             }
            },
            "type": "table"
           }
          ]
         },
         "layout": {
          "annotationdefaults": {
           "arrowcolor": "#2a3f5f",
           "arrowhead": 0,
           "arrowwidth": 1
          },
          "autotypenumbers": "strict",
          "coloraxis": {
           "colorbar": {
            "outlinewidth": 0,
            "ticks": ""
           }
          },
          "colorscale": {
           "diverging": [
            [
             0,
             "#8e0152"
            ],
            [
             0.1,
             "#c51b7d"
            ],
            [
             0.2,
             "#de77ae"
            ],
            [
             0.3,
             "#f1b6da"
            ],
            [
             0.4,
             "#fde0ef"
            ],
            [
             0.5,
             "#f7f7f7"
            ],
            [
             0.6,
             "#e6f5d0"
            ],
            [
             0.7,
             "#b8e186"
            ],
            [
             0.8,
             "#7fbc41"
            ],
            [
             0.9,
             "#4d9221"
            ],
            [
             1,
             "#276419"
            ]
           ],
           "sequential": [
            [
             0,
             "#0d0887"
            ],
            [
             0.1111111111111111,
             "#46039f"
            ],
            [
             0.2222222222222222,
             "#7201a8"
            ],
            [
             0.3333333333333333,
             "#9c179e"
            ],
            [
             0.4444444444444444,
             "#bd3786"
            ],
            [
             0.5555555555555556,
             "#d8576b"
            ],
            [
             0.6666666666666666,
             "#ed7953"
            ],
            [
             0.7777777777777778,
             "#fb9f3a"
            ],
            [
             0.8888888888888888,
             "#fdca26"
            ],
            [
             1,
             "#f0f921"
            ]
           ],
           "sequentialminus": [
            [
             0,
             "#0d0887"
            ],
            [
             0.1111111111111111,
             "#46039f"
            ],
            [
             0.2222222222222222,
             "#7201a8"
            ],
            [
             0.3333333333333333,
             "#9c179e"
            ],
            [
             0.4444444444444444,
             "#bd3786"
            ],
            [
             0.5555555555555556,
             "#d8576b"
            ],
            [
             0.6666666666666666,
             "#ed7953"
            ],
            [
             0.7777777777777778,
             "#fb9f3a"
            ],
            [
             0.8888888888888888,
             "#fdca26"
            ],
            [
             1,
             "#f0f921"
            ]
           ]
          },
          "colorway": [
           "#636efa",
           "#EF553B",
           "#00cc96",
           "#ab63fa",
           "#FFA15A",
           "#19d3f3",
           "#FF6692",
           "#B6E880",
           "#FF97FF",
           "#FECB52"
          ],
          "font": {
           "color": "#2a3f5f"
          },
          "geo": {
           "bgcolor": "white",
           "lakecolor": "white",
           "landcolor": "#E5ECF6",
           "showlakes": true,
           "showland": true,
           "subunitcolor": "white"
          },
          "hoverlabel": {
           "align": "left"
          },
          "hovermode": "closest",
          "mapbox": {
           "style": "light"
          },
          "paper_bgcolor": "white",
          "plot_bgcolor": "#E5ECF6",
          "polar": {
           "angularaxis": {
            "gridcolor": "white",
            "linecolor": "white",
            "ticks": ""
           },
           "bgcolor": "#E5ECF6",
           "radialaxis": {
            "gridcolor": "white",
            "linecolor": "white",
            "ticks": ""
           }
          },
          "scene": {
           "xaxis": {
            "backgroundcolor": "#E5ECF6",
            "gridcolor": "white",
            "gridwidth": 2,
            "linecolor": "white",
            "showbackground": true,
            "ticks": "",
            "zerolinecolor": "white"
           },
           "yaxis": {
            "backgroundcolor": "#E5ECF6",
            "gridcolor": "white",
            "gridwidth": 2,
            "linecolor": "white",
            "showbackground": true,
            "ticks": "",
            "zerolinecolor": "white"
           },
           "zaxis": {
            "backgroundcolor": "#E5ECF6",
            "gridcolor": "white",
            "gridwidth": 2,
            "linecolor": "white",
            "showbackground": true,
            "ticks": "",
            "zerolinecolor": "white"
           }
          },
          "shapedefaults": {
           "line": {
            "color": "#2a3f5f"
           }
          },
          "ternary": {
           "aaxis": {
            "gridcolor": "white",
            "linecolor": "white",
            "ticks": ""
           },
           "baxis": {
            "gridcolor": "white",
            "linecolor": "white",
            "ticks": ""
           },
           "bgcolor": "#E5ECF6",
           "caxis": {
            "gridcolor": "white",
            "linecolor": "white",
            "ticks": ""
           }
          },
          "title": {
           "x": 0.05
          },
          "xaxis": {
           "automargin": true,
           "gridcolor": "white",
           "linecolor": "white",
           "ticks": "",
           "title": {
            "standoff": 15
           },
           "zerolinecolor": "white",
           "zerolinewidth": 2
          },
          "yaxis": {
           "automargin": true,
           "gridcolor": "white",
           "linecolor": "white",
           "ticks": "",
           "title": {
            "standoff": 15
           },
           "zerolinecolor": "white",
           "zerolinewidth": 2
          }
         }
        },
        "title": {
         "text": "Age distribution in boxing teams"
        },
        "xaxis": {
         "anchor": "y",
         "categoryarray": [
          "Uzbekistan",
          "Puerto Rico",
          "Morocco",
          "Cuba",
          "Poland",
          "Great Britain",
          "United States",
          "Sweden",
          "Finland",
          "Syria",
          "Romania",
          "Algeria",
          "Russia",
          "Egypt",
          "Ghana",
          "South Korea",
          "Bulgaria",
          "Guyana",
          "France",
          "Brazil",
          "Belarus",
          "Kazakhstan",
          "South Africa",
          "Azerbaijan",
          "Italy",
          "Argentina",
          "Turkey",
          "East Germany",
          "Australasia",
          "Soviet Union",
          "Ireland",
          "Chile",
          "New Zealand",
          "Germany",
          "Belgium",
          "Mexico",
          "Hungary",
          "Ukraine",
          "Cameroon",
          "Kenya",
          "Venezuela",
          "Thailand",
          "Georgia",
          "Australia",
          "North Korea",
          "Tajikistan",
          "Niger",
          "Canada",
          "Netherlands",
          "Dominican Republic",
          "Nigeria",
          "Mongolia",
          "United Arab Republic",
          "Czechoslovakia",
          "Tunisia",
          "West Germany",
          "Moldova",
          "China",
          "Bermuda",
          "Croatia",
          "Pakistan",
          "Armenia",
          "Denmark",
          "Yugoslavia",
          "Mauritius",
          "Colombia",
          "India",
          "Czech Republic",
          "Spain",
          "Japan",
          "Uganda",
          "Zambia",
          "Norway",
          "Unified Team",
          "Lithuania",
          "Uruguay",
          "Philippines",
          "Estonia",
          "Tonga"
         ],
         "categoryorder": "array",
         "domain": [
          0,
          1
         ],
         "title": {
          "text": "Team"
         }
        },
        "yaxis": {
         "anchor": "x",
         "domain": [
          0,
          1
         ],
         "title": {
          "text": "Age"
         }
        }
       }
      }
     },
     "metadata": {},
     "output_type": "display_data"
    }
   ],
   "source": [
    "# plot the age distribution in teams\n",
    "# i went with scatter plot because it is easier to read than a histogram/bar chart\n",
    "fig = px.scatter(\n",
    "    df_boxing,\n",
    "    x=\"Team\",\n",
    "    y=\"Age\",\n",
    "    color=\"Team\",\n",
    "    title=\"Age distribution in boxing teams\",\n",
    ")\n",
    "fig.show()"
   ]
  },
  {
   "cell_type": "code",
   "execution_count": 11,
   "metadata": {},
   "outputs": [
    {
     "data": {
      "application/vnd.plotly.v1+json": {
       "config": {
        "plotlyServerURL": "https://plot.ly"
       },
       "data": [
        {
         "alignmentgroup": "True",
         "hovertemplate": "Team=%{x}<br>Age=%{y}<extra></extra>",
         "legendgroup": "Uzbekistan",
         "marker": {
          "color": "#636efa"
         },
         "name": "Uzbekistan",
         "notched": false,
         "offsetgroup": "Uzbekistan",
         "orientation": "v",
         "showlegend": true,
         "type": "box",
         "x": [
          "Uzbekistan",
          "Uzbekistan",
          "Uzbekistan",
          "Uzbekistan",
          "Uzbekistan",
          "Uzbekistan",
          "Uzbekistan",
          "Uzbekistan",
          "Uzbekistan",
          "Uzbekistan",
          "Uzbekistan",
          "Uzbekistan",
          "Uzbekistan",
          "Uzbekistan"
         ],
         "x0": " ",
         "xaxis": "x",
         "y": [
          26,
          21,
          26,
          23,
          25,
          23,
          30,
          20,
          24,
          22,
          19,
          24,
          22,
          23
         ],
         "y0": " ",
         "yaxis": "y"
        },
        {
         "alignmentgroup": "True",
         "hovertemplate": "Team=%{x}<br>Age=%{y}<extra></extra>",
         "legendgroup": "Puerto Rico",
         "marker": {
          "color": "#EF553B"
         },
         "name": "Puerto Rico",
         "notched": false,
         "offsetgroup": "Puerto Rico",
         "orientation": "v",
         "showlegend": true,
         "type": "box",
         "x": [
          "Puerto Rico",
          "Puerto Rico",
          "Puerto Rico",
          "Puerto Rico",
          "Puerto Rico",
          "Puerto Rico"
         ],
         "x0": " ",
         "xaxis": "x",
         "y": [
          21,
          23,
          17,
          18,
          20,
          19
         ],
         "y0": " ",
         "yaxis": "y"
        },
        {
         "alignmentgroup": "True",
         "hovertemplate": "Team=%{x}<br>Age=%{y}<extra></extra>",
         "legendgroup": "Morocco",
         "marker": {
          "color": "#00cc96"
         },
         "name": "Morocco",
         "notched": false,
         "offsetgroup": "Morocco",
         "orientation": "v",
         "showlegend": true,
         "type": "box",
         "x": [
          "Morocco",
          "Morocco",
          "Morocco",
          "Morocco"
         ],
         "x0": " ",
         "xaxis": "x",
         "y": [
          29,
          27,
          23,
          20
         ],
         "y0": " ",
         "yaxis": "y"
        },
        {
         "alignmentgroup": "True",
         "hovertemplate": "Team=%{x}<br>Age=%{y}<extra></extra>",
         "legendgroup": "Cuba",
         "marker": {
          "color": "#ab63fa"
         },
         "name": "Cuba",
         "notched": false,
         "offsetgroup": "Cuba",
         "orientation": "v",
         "showlegend": true,
         "type": "box",
         "x": [
          "Cuba",
          "Cuba",
          "Cuba",
          "Cuba",
          "Cuba",
          "Cuba",
          "Cuba",
          "Cuba",
          "Cuba",
          "Cuba",
          "Cuba",
          "Cuba",
          "Cuba",
          "Cuba",
          "Cuba",
          "Cuba",
          "Cuba",
          "Cuba",
          "Cuba",
          "Cuba",
          "Cuba",
          "Cuba",
          "Cuba",
          "Cuba",
          "Cuba",
          "Cuba",
          "Cuba",
          "Cuba",
          "Cuba",
          "Cuba",
          "Cuba",
          "Cuba",
          "Cuba",
          "Cuba",
          "Cuba",
          "Cuba",
          "Cuba",
          "Cuba",
          "Cuba",
          "Cuba",
          "Cuba",
          "Cuba",
          "Cuba",
          "Cuba",
          "Cuba",
          "Cuba",
          "Cuba",
          "Cuba",
          "Cuba",
          "Cuba",
          "Cuba",
          "Cuba",
          "Cuba",
          "Cuba",
          "Cuba",
          "Cuba",
          "Cuba",
          "Cuba",
          "Cuba",
          "Cuba",
          "Cuba",
          "Cuba",
          "Cuba",
          "Cuba",
          "Cuba",
          "Cuba",
          "Cuba",
          "Cuba",
          "Cuba",
          "Cuba",
          "Cuba",
          "Cuba",
          "Cuba"
         ],
         "x0": " ",
         "xaxis": "x",
         "y": [
          23,
          20,
          20,
          24,
          21,
          25,
          30,
          19,
          23,
          21,
          24,
          21,
          21,
          19,
          22,
          21,
          28,
          22,
          20,
          28,
          21,
          25,
          24,
          22,
          26,
          21,
          23,
          17,
          23,
          27,
          18,
          22,
          22,
          19,
          23,
          23,
          29,
          33,
          26,
          30,
          27,
          26,
          23,
          27,
          23,
          27,
          18,
          21,
          27,
          28,
          18,
          22,
          24,
          20,
          19,
          23,
          22,
          25,
          23,
          27,
          26,
          24,
          28,
          32,
          24,
          22,
          20,
          24,
          28,
          22,
          22,
          19,
          23
         ],
         "y0": " ",
         "yaxis": "y"
        },
        {
         "alignmentgroup": "True",
         "hovertemplate": "Team=%{x}<br>Age=%{y}<extra></extra>",
         "legendgroup": "Poland",
         "marker": {
          "color": "#FFA15A"
         },
         "name": "Poland",
         "notched": false,
         "offsetgroup": "Poland",
         "orientation": "v",
         "showlegend": true,
         "type": "box",
         "x": [
          "Poland",
          "Poland",
          "Poland",
          "Poland",
          "Poland",
          "Poland",
          "Poland",
          "Poland",
          "Poland",
          "Poland",
          "Poland",
          "Poland",
          "Poland",
          "Poland",
          "Poland",
          "Poland",
          "Poland",
          "Poland",
          "Poland",
          "Poland",
          "Poland",
          "Poland",
          "Poland",
          "Poland",
          "Poland",
          "Poland",
          "Poland",
          "Poland",
          "Poland",
          "Poland",
          "Poland",
          "Poland",
          "Poland",
          "Poland",
          "Poland",
          "Poland",
          "Poland",
          "Poland",
          "Poland",
          "Poland",
          "Poland",
          "Poland",
          "Poland"
         ],
         "x0": " ",
         "xaxis": "x",
         "y": [
          23,
          23,
          24,
          28,
          24,
          21,
          23,
          27,
          25,
          26,
          27,
          20,
          24,
          28,
          20,
          25,
          29,
          23,
          20,
          25,
          19,
          22,
          23,
          27,
          23,
          24,
          28,
          25,
          29,
          22,
          25,
          30,
          25,
          23,
          27,
          22,
          25,
          32,
          22,
          26,
          24,
          28,
          29
         ],
         "y0": " ",
         "yaxis": "y"
        },
        {
         "alignmentgroup": "True",
         "hovertemplate": "Team=%{x}<br>Age=%{y}<extra></extra>",
         "legendgroup": "Great Britain",
         "marker": {
          "color": "#19d3f3"
         },
         "name": "Great Britain",
         "notched": false,
         "offsetgroup": "Great Britain",
         "orientation": "v",
         "showlegend": true,
         "type": "box",
         "x": [
          "Great Britain",
          "Great Britain",
          "Great Britain",
          "Great Britain",
          "Great Britain",
          "Great Britain",
          "Great Britain",
          "Great Britain",
          "Great Britain",
          "Great Britain",
          "Great Britain",
          "Great Britain",
          "Great Britain",
          "Great Britain",
          "Great Britain",
          "Great Britain",
          "Great Britain",
          "Great Britain",
          "Great Britain",
          "Great Britain",
          "Great Britain",
          "Great Britain",
          "Great Britain",
          "Great Britain",
          "Great Britain",
          "Great Britain",
          "Great Britain",
          "Great Britain",
          "Great Britain",
          "Great Britain",
          "Great Britain",
          "Great Britain",
          "Great Britain",
          "Great Britain",
          "Great Britain",
          "Great Britain",
          "Great Britain",
          "Great Britain",
          "Great Britain",
          "Great Britain",
          "Great Britain",
          "Great Britain",
          "Great Britain",
          "Great Britain",
          "Great Britain",
          "Great Britain",
          "Great Britain",
          "Great Britain",
          "Great Britain",
          "Great Britain",
          "Great Britain",
          "Great Britain",
          "Great Britain",
          "Great Britain",
          "Great Britain",
          "Great Britain"
         ],
         "x0": " ",
         "xaxis": "x",
         "y": [
          29,
          33,
          23,
          24,
          19,
          22,
          17,
          22,
          25,
          22,
          21,
          18,
          null,
          24,
          20,
          null,
          22,
          24,
          37,
          28,
          19,
          23,
          20,
          22,
          30,
          17,
          21,
          27,
          31,
          21,
          19,
          20,
          21,
          24,
          21,
          26,
          null,
          25,
          23,
          24,
          33,
          26,
          25,
          27,
          21,
          21,
          20,
          23,
          18,
          19,
          20,
          25,
          23,
          20,
          20,
          19
         ],
         "y0": " ",
         "yaxis": "y"
        },
        {
         "alignmentgroup": "True",
         "hovertemplate": "Team=%{x}<br>Age=%{y}<extra></extra>",
         "legendgroup": "United States",
         "marker": {
          "color": "#FF6692"
         },
         "name": "United States",
         "notched": false,
         "offsetgroup": "United States",
         "orientation": "v",
         "showlegend": true,
         "type": "box",
         "x": [
          "United States",
          "United States",
          "United States",
          "United States",
          "United States",
          "United States",
          "United States",
          "United States",
          "United States",
          "United States",
          "United States",
          "United States",
          "United States",
          "United States",
          "United States",
          "United States",
          "United States",
          "United States",
          "United States",
          "United States",
          "United States",
          "United States",
          "United States",
          "United States",
          "United States",
          "United States",
          "United States",
          "United States",
          "United States",
          "United States",
          "United States",
          "United States",
          "United States",
          "United States",
          "United States",
          "United States",
          "United States",
          "United States",
          "United States",
          "United States",
          "United States",
          "United States",
          "United States",
          "United States",
          "United States",
          "United States",
          "United States",
          "United States",
          "United States",
          "United States",
          "United States",
          "United States",
          "United States",
          "United States",
          "United States",
          "United States",
          "United States",
          "United States",
          "United States",
          "United States",
          "United States",
          "United States",
          "United States",
          "United States",
          "United States",
          "United States",
          "United States",
          "United States",
          "United States",
          "United States",
          "United States",
          "United States",
          "United States",
          "United States",
          "United States",
          "United States",
          "United States",
          "United States",
          "United States",
          "United States",
          "United States",
          "United States",
          "United States",
          "United States",
          "United States",
          "United States",
          "United States",
          "United States",
          "United States",
          "United States",
          "United States",
          "United States",
          "United States",
          "United States",
          "United States",
          "United States",
          "United States",
          "United States",
          "United States",
          "United States",
          "United States",
          "United States",
          "United States",
          "United States",
          "United States",
          "United States",
          "United States",
          "United States",
          "United States",
          "United States",
          "United States",
          "United States",
          "United States"
         ],
         "x0": " ",
         "xaxis": "x",
         "y": [
          20,
          21,
          19,
          19,
          19,
          23,
          19,
          21,
          25,
          21,
          21,
          18,
          25,
          19,
          21,
          21,
          26,
          22,
          20,
          18,
          31,
          18,
          19,
          20,
          19,
          18,
          21,
          21,
          22,
          22,
          20,
          21,
          16,
          null,
          null,
          22,
          19,
          20,
          18,
          17,
          20,
          21,
          19,
          21,
          20,
          17,
          20,
          26,
          20,
          21,
          18,
          22,
          23,
          19,
          20,
          20,
          20,
          19,
          18,
          18,
          27,
          20,
          26,
          25,
          null,
          null,
          24,
          19,
          21,
          20,
          22,
          27,
          27,
          25,
          23,
          23,
          17,
          28,
          18,
          22,
          21,
          20,
          19,
          22,
          19,
          17,
          21,
          31,
          31,
          23,
          19,
          null,
          19,
          18,
          27,
          19,
          21,
          22,
          17,
          23,
          20,
          19,
          25,
          18,
          22,
          24,
          20,
          19,
          20,
          22,
          19,
          18,
          26
         ],
         "y0": " ",
         "yaxis": "y"
        },
        {
         "alignmentgroup": "True",
         "hovertemplate": "Team=%{x}<br>Age=%{y}<extra></extra>",
         "legendgroup": "Sweden",
         "marker": {
          "color": "#B6E880"
         },
         "name": "Sweden",
         "notched": false,
         "offsetgroup": "Sweden",
         "orientation": "v",
         "showlegend": true,
         "type": "box",
         "x": [
          "Sweden",
          "Sweden",
          "Sweden",
          "Sweden",
          "Sweden",
          "Sweden",
          "Sweden",
          "Sweden",
          "Sweden",
          "Sweden",
          "Sweden"
         ],
         "x0": " ",
         "xaxis": "x",
         "y": [
          20,
          25,
          20,
          21,
          21,
          19,
          23,
          25,
          25,
          23,
          30
         ],
         "y0": " ",
         "yaxis": "y"
        },
        {
         "alignmentgroup": "True",
         "hovertemplate": "Team=%{x}<br>Age=%{y}<extra></extra>",
         "legendgroup": "Finland",
         "marker": {
          "color": "#FF97FF"
         },
         "name": "Finland",
         "notched": false,
         "offsetgroup": "Finland",
         "orientation": "v",
         "showlegend": true,
         "type": "box",
         "x": [
          "Finland",
          "Finland",
          "Finland",
          "Finland",
          "Finland",
          "Finland",
          "Finland",
          "Finland",
          "Finland",
          "Finland",
          "Finland",
          "Finland",
          "Finland",
          "Finland",
          "Finland"
         ],
         "x0": " ",
         "xaxis": "x",
         "y": [
          21,
          22,
          26,
          23,
          24,
          25,
          24,
          20,
          21,
          22,
          35,
          22,
          29,
          24,
          24
         ],
         "y0": " ",
         "yaxis": "y"
        },
        {
         "alignmentgroup": "True",
         "hovertemplate": "Team=%{x}<br>Age=%{y}<extra></extra>",
         "legendgroup": "Syria",
         "marker": {
          "color": "#FECB52"
         },
         "name": "Syria",
         "notched": false,
         "offsetgroup": "Syria",
         "orientation": "v",
         "showlegend": true,
         "type": "box",
         "x": [
          "Syria"
         ],
         "x0": " ",
         "xaxis": "x",
         "y": [
          22
         ],
         "y0": " ",
         "yaxis": "y"
        },
        {
         "alignmentgroup": "True",
         "hovertemplate": "Team=%{x}<br>Age=%{y}<extra></extra>",
         "legendgroup": "Romania",
         "marker": {
          "color": "#636efa"
         },
         "name": "Romania",
         "notched": false,
         "offsetgroup": "Romania",
         "orientation": "v",
         "showlegend": true,
         "type": "box",
         "x": [
          "Romania",
          "Romania",
          "Romania",
          "Romania",
          "Romania",
          "Romania",
          "Romania",
          "Romania",
          "Romania",
          "Romania",
          "Romania",
          "Romania",
          "Romania",
          "Romania",
          "Romania",
          "Romania",
          "Romania",
          "Romania",
          "Romania",
          "Romania",
          "Romania",
          "Romania",
          "Romania",
          "Romania",
          "Romania"
         ],
         "x0": " ",
         "xaxis": "x",
         "y": [
          26,
          22,
          20,
          24,
          22,
          26,
          22,
          26,
          25,
          19,
          23,
          25,
          20,
          27,
          19,
          27,
          27,
          22,
          23,
          23,
          20,
          24,
          22,
          24,
          28
         ],
         "y0": " ",
         "yaxis": "y"
        },
        {
         "alignmentgroup": "True",
         "hovertemplate": "Team=%{x}<br>Age=%{y}<extra></extra>",
         "legendgroup": "Algeria",
         "marker": {
          "color": "#EF553B"
         },
         "name": "Algeria",
         "notched": false,
         "offsetgroup": "Algeria",
         "orientation": "v",
         "showlegend": true,
         "type": "box",
         "x": [
          "Algeria",
          "Algeria",
          "Algeria",
          "Algeria",
          "Algeria",
          "Algeria"
         ],
         "x0": " ",
         "xaxis": "x",
         "y": [
          26,
          20,
          22,
          19,
          23,
          24
         ],
         "y0": " ",
         "yaxis": "y"
        },
        {
         "alignmentgroup": "True",
         "hovertemplate": "Team=%{x}<br>Age=%{y}<extra></extra>",
         "legendgroup": "Russia",
         "marker": {
          "color": "#00cc96"
         },
         "name": "Russia",
         "notched": false,
         "offsetgroup": "Russia",
         "orientation": "v",
         "showlegend": true,
         "type": "box",
         "x": [
          "Russia",
          "Russia",
          "Russia",
          "Russia",
          "Russia",
          "Russia",
          "Russia",
          "Russia",
          "Russia",
          "Russia",
          "Russia",
          "Russia",
          "Russia",
          "Russia",
          "Russia",
          "Russia",
          "Russia",
          "Russia",
          "Russia",
          "Russia",
          "Russia",
          "Russia",
          "Russia",
          "Russia",
          "Russia",
          "Russia",
          "Russia",
          "Russia",
          "Russia",
          "Russia"
         ],
         "x0": " ",
         "xaxis": "x",
         "y": [
          23,
          28,
          28,
          23,
          25,
          24,
          21,
          23,
          27,
          25,
          28,
          21,
          31,
          23,
          21,
          26,
          25,
          27,
          26,
          25,
          28,
          24,
          22,
          26,
          30,
          20,
          24,
          25,
          33,
          25
         ],
         "y0": " ",
         "yaxis": "y"
        },
        {
         "alignmentgroup": "True",
         "hovertemplate": "Team=%{x}<br>Age=%{y}<extra></extra>",
         "legendgroup": "Egypt",
         "marker": {
          "color": "#ab63fa"
         },
         "name": "Egypt",
         "notched": false,
         "offsetgroup": "Egypt",
         "orientation": "v",
         "showlegend": true,
         "type": "box",
         "x": [
          "Egypt",
          "Egypt",
          "Egypt"
         ],
         "x0": " ",
         "xaxis": "x",
         "y": [
          29,
          31,
          28
         ],
         "y0": " ",
         "yaxis": "y"
        },
        {
         "alignmentgroup": "True",
         "hovertemplate": "Team=%{x}<br>Age=%{y}<extra></extra>",
         "legendgroup": "Ghana",
         "marker": {
          "color": "#FFA15A"
         },
         "name": "Ghana",
         "notched": false,
         "offsetgroup": "Ghana",
         "orientation": "v",
         "showlegend": true,
         "type": "box",
         "x": [
          "Ghana",
          "Ghana",
          "Ghana"
         ],
         "x0": " ",
         "xaxis": "x",
         "y": [
          28,
          26,
          22
         ],
         "y0": " ",
         "yaxis": "y"
        },
        {
         "alignmentgroup": "True",
         "hovertemplate": "Team=%{x}<br>Age=%{y}<extra></extra>",
         "legendgroup": "South Korea",
         "marker": {
          "color": "#19d3f3"
         },
         "name": "South Korea",
         "notched": false,
         "offsetgroup": "South Korea",
         "orientation": "v",
         "showlegend": true,
         "type": "box",
         "x": [
          "South Korea",
          "South Korea",
          "South Korea",
          "South Korea",
          "South Korea",
          "South Korea",
          "South Korea",
          "South Korea",
          "South Korea",
          "South Korea",
          "South Korea",
          "South Korea",
          "South Korea",
          "South Korea",
          "South Korea",
          "South Korea",
          "South Korea",
          "South Korea",
          "South Korea",
          "South Korea"
         ],
         "x0": " ",
         "xaxis": "x",
         "y": [
          20,
          24,
          24,
          22,
          27,
          24,
          22,
          23,
          24,
          19,
          24,
          24,
          22,
          26,
          19,
          21,
          25,
          22,
          21,
          22
         ],
         "y0": " ",
         "yaxis": "y"
        },
        {
         "alignmentgroup": "True",
         "hovertemplate": "Team=%{x}<br>Age=%{y}<extra></extra>",
         "legendgroup": "Bulgaria",
         "marker": {
          "color": "#FF6692"
         },
         "name": "Bulgaria",
         "notched": false,
         "offsetgroup": "Bulgaria",
         "orientation": "v",
         "showlegend": true,
         "type": "box",
         "x": [
          "Bulgaria",
          "Bulgaria",
          "Bulgaria",
          "Bulgaria",
          "Bulgaria",
          "Bulgaria",
          "Bulgaria",
          "Bulgaria",
          "Bulgaria",
          "Bulgaria",
          "Bulgaria",
          "Bulgaria",
          "Bulgaria",
          "Bulgaria",
          "Bulgaria",
          "Bulgaria",
          "Bulgaria",
          "Bulgaria"
         ],
         "x0": " ",
         "xaxis": "x",
         "y": [
          24,
          20,
          24,
          21,
          24,
          22,
          22,
          19,
          23,
          20,
          28,
          24,
          23,
          29,
          28,
          25,
          27,
          23
         ],
         "y0": " ",
         "yaxis": "y"
        },
        {
         "alignmentgroup": "True",
         "hovertemplate": "Team=%{x}<br>Age=%{y}<extra></extra>",
         "legendgroup": "Guyana",
         "marker": {
          "color": "#B6E880"
         },
         "name": "Guyana",
         "notched": false,
         "offsetgroup": "Guyana",
         "orientation": "v",
         "showlegend": true,
         "type": "box",
         "x": [
          "Guyana"
         ],
         "x0": " ",
         "xaxis": "x",
         "y": [
          22
         ],
         "y0": " ",
         "yaxis": "y"
        },
        {
         "alignmentgroup": "True",
         "hovertemplate": "Team=%{x}<br>Age=%{y}<extra></extra>",
         "legendgroup": "France",
         "marker": {
          "color": "#FF97FF"
         },
         "name": "France",
         "notched": false,
         "offsetgroup": "France",
         "orientation": "v",
         "showlegend": true,
         "type": "box",
         "x": [
          "France",
          "France",
          "France",
          "France",
          "France",
          "France",
          "France",
          "France",
          "France",
          "France",
          "France",
          "France",
          "France",
          "France",
          "France",
          "France",
          "France",
          "France",
          "France",
          "France",
          "France",
          "France",
          "France",
          "France",
          "France"
         ],
         "x0": " ",
         "xaxis": "x",
         "y": [
          23,
          21,
          27,
          21,
          17,
          23,
          25,
          20,
          24,
          22,
          19,
          25,
          23,
          21,
          24,
          23,
          21,
          34,
          25,
          21,
          25,
          21,
          21,
          22,
          24
         ],
         "y0": " ",
         "yaxis": "y"
        },
        {
         "alignmentgroup": "True",
         "hovertemplate": "Team=%{x}<br>Age=%{y}<extra></extra>",
         "legendgroup": "Brazil",
         "marker": {
          "color": "#FECB52"
         },
         "name": "Brazil",
         "notched": false,
         "offsetgroup": "Brazil",
         "orientation": "v",
         "showlegend": true,
         "type": "box",
         "x": [
          "Brazil",
          "Brazil",
          "Brazil",
          "Brazil",
          "Brazil"
         ],
         "x0": " ",
         "xaxis": "x",
         "y": [
          30,
          27,
          20,
          24,
          22
         ],
         "y0": " ",
         "yaxis": "y"
        },
        {
         "alignmentgroup": "True",
         "hovertemplate": "Team=%{x}<br>Age=%{y}<extra></extra>",
         "legendgroup": "Belarus",
         "marker": {
          "color": "#636efa"
         },
         "name": "Belarus",
         "notched": false,
         "offsetgroup": "Belarus",
         "orientation": "v",
         "showlegend": true,
         "type": "box",
         "x": [
          "Belarus",
          "Belarus"
         ],
         "x0": " ",
         "xaxis": "x",
         "y": [
          26,
          21
         ],
         "y0": " ",
         "yaxis": "y"
        },
        {
         "alignmentgroup": "True",
         "hovertemplate": "Team=%{x}<br>Age=%{y}<extra></extra>",
         "legendgroup": "Kazakhstan",
         "marker": {
          "color": "#EF553B"
         },
         "name": "Kazakhstan",
         "notched": false,
         "offsetgroup": "Kazakhstan",
         "orientation": "v",
         "showlegend": true,
         "type": "box",
         "x": [
          "Kazakhstan",
          "Kazakhstan",
          "Kazakhstan",
          "Kazakhstan",
          "Kazakhstan",
          "Kazakhstan",
          "Kazakhstan",
          "Kazakhstan",
          "Kazakhstan",
          "Kazakhstan",
          "Kazakhstan",
          "Kazakhstan",
          "Kazakhstan",
          "Kazakhstan",
          "Kazakhstan",
          "Kazakhstan",
          "Kazakhstan",
          "Kazakhstan",
          "Kazakhstan",
          "Kazakhstan",
          "Kazakhstan",
          "Kazakhstan"
         ],
         "x0": " ",
         "xaxis": "x",
         "y": [
          21,
          24,
          21,
          25,
          22,
          24,
          28,
          28,
          23,
          27,
          23,
          28,
          26,
          20,
          27,
          20,
          22,
          23,
          25,
          22,
          23,
          27
         ],
         "y0": " ",
         "yaxis": "y"
        },
        {
         "alignmentgroup": "True",
         "hovertemplate": "Team=%{x}<br>Age=%{y}<extra></extra>",
         "legendgroup": "South Africa",
         "marker": {
          "color": "#00cc96"
         },
         "name": "South Africa",
         "notched": false,
         "offsetgroup": "South Africa",
         "orientation": "v",
         "showlegend": true,
         "type": "box",
         "x": [
          "South Africa",
          "South Africa",
          "South Africa",
          "South Africa",
          "South Africa",
          "South Africa",
          "South Africa",
          "South Africa",
          "South Africa",
          "South Africa",
          "South Africa",
          "South Africa",
          "South Africa",
          "South Africa",
          "South Africa",
          "South Africa",
          "South Africa",
          "South Africa",
          "South Africa"
         ],
         "x0": " ",
         "xaxis": "x",
         "y": [
          18,
          24,
          28,
          null,
          21,
          18,
          21,
          20,
          17,
          20,
          17,
          24,
          22,
          21,
          19,
          19,
          18,
          22,
          21
         ],
         "y0": " ",
         "yaxis": "y"
        },
        {
         "alignmentgroup": "True",
         "hovertemplate": "Team=%{x}<br>Age=%{y}<extra></extra>",
         "legendgroup": "Azerbaijan",
         "marker": {
          "color": "#ab63fa"
         },
         "name": "Azerbaijan",
         "notched": false,
         "offsetgroup": "Azerbaijan",
         "orientation": "v",
         "showlegend": true,
         "type": "box",
         "x": [
          "Azerbaijan",
          "Azerbaijan",
          "Azerbaijan",
          "Azerbaijan",
          "Azerbaijan",
          "Azerbaijan",
          "Azerbaijan",
          "Azerbaijan"
         ],
         "x0": " ",
         "xaxis": "x",
         "y": [
          21,
          27,
          19,
          25,
          24,
          19,
          23,
          31
         ],
         "y0": " ",
         "yaxis": "y"
        },
        {
         "alignmentgroup": "True",
         "hovertemplate": "Team=%{x}<br>Age=%{y}<extra></extra>",
         "legendgroup": "Italy",
         "marker": {
          "color": "#FFA15A"
         },
         "name": "Italy",
         "notched": false,
         "offsetgroup": "Italy",
         "orientation": "v",
         "showlegend": true,
         "type": "box",
         "x": [
          "Italy",
          "Italy",
          "Italy",
          "Italy",
          "Italy",
          "Italy",
          "Italy",
          "Italy",
          "Italy",
          "Italy",
          "Italy",
          "Italy",
          "Italy",
          "Italy",
          "Italy",
          "Italy",
          "Italy",
          "Italy",
          "Italy",
          "Italy",
          "Italy",
          "Italy",
          "Italy",
          "Italy",
          "Italy",
          "Italy",
          "Italy",
          "Italy",
          "Italy",
          "Italy",
          "Italy",
          "Italy",
          "Italy",
          "Italy",
          "Italy",
          "Italy",
          "Italy",
          "Italy",
          "Italy",
          "Italy",
          "Italy",
          "Italy",
          "Italy",
          "Italy",
          "Italy",
          "Italy",
          "Italy"
         ],
         "x0": " ",
         "xaxis": "x",
         "y": [
          22,
          23,
          27,
          22,
          24,
          21,
          20,
          23,
          21,
          24,
          28,
          31,
          20,
          21,
          25,
          22,
          20,
          21,
          20,
          19,
          20,
          23,
          26,
          21,
          23,
          21,
          21,
          18,
          20,
          24,
          21,
          22,
          24,
          27,
          26,
          29,
          22,
          23,
          21,
          18,
          22,
          23,
          24,
          30,
          19,
          21,
          20
         ],
         "y0": " ",
         "yaxis": "y"
        },
        {
         "alignmentgroup": "True",
         "hovertemplate": "Team=%{x}<br>Age=%{y}<extra></extra>",
         "legendgroup": "Argentina",
         "marker": {
          "color": "#19d3f3"
         },
         "name": "Argentina",
         "notched": false,
         "offsetgroup": "Argentina",
         "orientation": "v",
         "showlegend": true,
         "type": "box",
         "x": [
          "Argentina",
          "Argentina",
          "Argentina",
          "Argentina",
          "Argentina",
          "Argentina",
          "Argentina",
          "Argentina",
          "Argentina",
          "Argentina",
          "Argentina",
          "Argentina",
          "Argentina",
          "Argentina",
          "Argentina",
          "Argentina",
          "Argentina",
          "Argentina",
          "Argentina",
          "Argentina",
          "Argentina",
          "Argentina",
          "Argentina",
          "Argentina"
         ],
         "x0": " ",
         "xaxis": "x",
         "y": [
          20,
          18,
          22,
          21,
          29,
          21,
          22,
          22,
          24,
          18,
          21,
          20,
          18,
          26,
          24,
          20,
          22,
          23,
          18,
          19,
          20,
          20,
          26,
          23
         ],
         "y0": " ",
         "yaxis": "y"
        },
        {
         "alignmentgroup": "True",
         "hovertemplate": "Team=%{x}<br>Age=%{y}<extra></extra>",
         "legendgroup": "Turkey",
         "marker": {
          "color": "#FF6692"
         },
         "name": "Turkey",
         "notched": false,
         "offsetgroup": "Turkey",
         "orientation": "v",
         "showlegend": true,
         "type": "box",
         "x": [
          "Turkey",
          "Turkey",
          "Turkey",
          "Turkey",
          "Turkey"
         ],
         "x0": " ",
         "xaxis": "x",
         "y": [
          26,
          26,
          19,
          22,
          17
         ],
         "y0": " ",
         "yaxis": "y"
        },
        {
         "alignmentgroup": "True",
         "hovertemplate": "Team=%{x}<br>Age=%{y}<extra></extra>",
         "legendgroup": "East Germany",
         "marker": {
          "color": "#B6E880"
         },
         "name": "East Germany",
         "notched": false,
         "offsetgroup": "East Germany",
         "orientation": "v",
         "showlegend": true,
         "type": "box",
         "x": [
          "East Germany",
          "East Germany",
          "East Germany",
          "East Germany",
          "East Germany",
          "East Germany",
          "East Germany",
          "East Germany",
          "East Germany",
          "East Germany",
          "East Germany",
          "East Germany",
          "East Germany"
         ],
         "x0": " ",
         "xaxis": "x",
         "y": [
          23,
          23,
          28,
          22,
          22,
          26,
          24,
          20,
          24,
          20,
          26,
          25,
          22
         ],
         "y0": " ",
         "yaxis": "y"
        },
        {
         "alignmentgroup": "True",
         "hovertemplate": "Team=%{x}<br>Age=%{y}<extra></extra>",
         "legendgroup": "Australasia",
         "marker": {
          "color": "#FF97FF"
         },
         "name": "Australasia",
         "notched": false,
         "offsetgroup": "Australasia",
         "orientation": "v",
         "showlegend": true,
         "type": "box",
         "x": [
          "Australasia"
         ],
         "x0": " ",
         "xaxis": "x",
         "y": [
          24
         ],
         "y0": " ",
         "yaxis": "y"
        },
        {
         "alignmentgroup": "True",
         "hovertemplate": "Team=%{x}<br>Age=%{y}<extra></extra>",
         "legendgroup": "Soviet Union",
         "marker": {
          "color": "#FECB52"
         },
         "name": "Soviet Union",
         "notched": false,
         "offsetgroup": "Soviet Union",
         "orientation": "v",
         "showlegend": true,
         "type": "box",
         "x": [
          "Soviet Union",
          "Soviet Union",
          "Soviet Union",
          "Soviet Union",
          "Soviet Union",
          "Soviet Union",
          "Soviet Union",
          "Soviet Union",
          "Soviet Union",
          "Soviet Union",
          "Soviet Union",
          "Soviet Union",
          "Soviet Union",
          "Soviet Union",
          "Soviet Union",
          "Soviet Union",
          "Soviet Union",
          "Soviet Union",
          "Soviet Union",
          "Soviet Union",
          "Soviet Union",
          "Soviet Union",
          "Soviet Union",
          "Soviet Union",
          "Soviet Union",
          "Soviet Union",
          "Soviet Union",
          "Soviet Union",
          "Soviet Union",
          "Soviet Union",
          "Soviet Union",
          "Soviet Union",
          "Soviet Union",
          "Soviet Union",
          "Soviet Union",
          "Soviet Union",
          "Soviet Union",
          "Soviet Union",
          "Soviet Union",
          "Soviet Union",
          "Soviet Union",
          "Soviet Union",
          "Soviet Union",
          "Soviet Union",
          "Soviet Union",
          "Soviet Union",
          "Soviet Union",
          "Soviet Union",
          "Soviet Union",
          "Soviet Union",
          "Soviet Union"
         ],
         "x0": " ",
         "xaxis": "x",
         "y": [
          26,
          22,
          29,
          21,
          24,
          23,
          23,
          21,
          22,
          26,
          30,
          20,
          21,
          25,
          20,
          22,
          26,
          30,
          20,
          24,
          24,
          20,
          20,
          22,
          23,
          25,
          27,
          28,
          24,
          26,
          20,
          24,
          21,
          21,
          23,
          27,
          20,
          23,
          24,
          34,
          20,
          22,
          23,
          23,
          24,
          26,
          23,
          25,
          31,
          22,
          26
         ],
         "y0": " ",
         "yaxis": "y"
        },
        {
         "alignmentgroup": "True",
         "hovertemplate": "Team=%{x}<br>Age=%{y}<extra></extra>",
         "legendgroup": "Ireland",
         "marker": {
          "color": "#636efa"
         },
         "name": "Ireland",
         "notched": false,
         "offsetgroup": "Ireland",
         "orientation": "v",
         "showlegend": true,
         "type": "box",
         "x": [
          "Ireland",
          "Ireland",
          "Ireland",
          "Ireland",
          "Ireland",
          "Ireland",
          "Ireland",
          "Ireland",
          "Ireland",
          "Ireland",
          "Ireland",
          "Ireland",
          "Ireland",
          "Ireland",
          "Ireland",
          "Ireland"
         ],
         "x0": " ",
         "xaxis": "x",
         "y": [
          21,
          25,
          26,
          18,
          25,
          20,
          26,
          20,
          20,
          22,
          19,
          23,
          20,
          26,
          26,
          21
         ],
         "y0": " ",
         "yaxis": "y"
        },
        {
         "alignmentgroup": "True",
         "hovertemplate": "Team=%{x}<br>Age=%{y}<extra></extra>",
         "legendgroup": "Chile",
         "marker": {
          "color": "#EF553B"
         },
         "name": "Chile",
         "notched": false,
         "offsetgroup": "Chile",
         "orientation": "v",
         "showlegend": true,
         "type": "box",
         "x": [
          "Chile",
          "Chile",
          "Chile"
         ],
         "x0": " ",
         "xaxis": "x",
         "y": [
          21,
          26,
          24
         ],
         "y0": " ",
         "yaxis": "y"
        },
        {
         "alignmentgroup": "True",
         "hovertemplate": "Team=%{x}<br>Age=%{y}<extra></extra>",
         "legendgroup": "New Zealand",
         "marker": {
          "color": "#00cc96"
         },
         "name": "New Zealand",
         "notched": false,
         "offsetgroup": "New Zealand",
         "orientation": "v",
         "showlegend": true,
         "type": "box",
         "x": [
          "New Zealand",
          "New Zealand",
          "New Zealand"
         ],
         "x0": " ",
         "xaxis": "x",
         "y": [
          24,
          22,
          19
         ],
         "y0": " ",
         "yaxis": "y"
        },
        {
         "alignmentgroup": "True",
         "hovertemplate": "Team=%{x}<br>Age=%{y}<extra></extra>",
         "legendgroup": "Germany",
         "marker": {
          "color": "#ab63fa"
         },
         "name": "Germany",
         "notched": false,
         "offsetgroup": "Germany",
         "orientation": "v",
         "showlegend": true,
         "type": "box",
         "x": [
          "Germany",
          "Germany",
          "Germany",
          "Germany",
          "Germany",
          "Germany",
          "Germany",
          "Germany",
          "Germany",
          "Germany",
          "Germany",
          "Germany",
          "Germany",
          "Germany",
          "Germany",
          "Germany",
          "Germany",
          "Germany",
          "Germany",
          "Germany",
          "Germany",
          "Germany",
          "Germany",
          "Germany",
          "Germany",
          "Germany",
          "Germany",
          "Germany",
          "Germany"
         ],
         "x0": " ",
         "xaxis": "x",
         "y": [
          21,
          20,
          20,
          25,
          19,
          30,
          24,
          21,
          25,
          23,
          26,
          22,
          22,
          25,
          21,
          22,
          29,
          22,
          23,
          22,
          26,
          29,
          23,
          22,
          23,
          21,
          26,
          23,
          26
         ],
         "y0": " ",
         "yaxis": "y"
        },
        {
         "alignmentgroup": "True",
         "hovertemplate": "Team=%{x}<br>Age=%{y}<extra></extra>",
         "legendgroup": "Belgium",
         "marker": {
          "color": "#FFA15A"
         },
         "name": "Belgium",
         "notched": false,
         "offsetgroup": "Belgium",
         "orientation": "v",
         "showlegend": true,
         "type": "box",
         "x": [
          "Belgium",
          "Belgium",
          "Belgium",
          "Belgium"
         ],
         "x0": " ",
         "xaxis": "x",
         "y": [
          20,
          18,
          null,
          19
         ],
         "y0": " ",
         "yaxis": "y"
        },
        {
         "alignmentgroup": "True",
         "hovertemplate": "Team=%{x}<br>Age=%{y}<extra></extra>",
         "legendgroup": "Mexico",
         "marker": {
          "color": "#19d3f3"
         },
         "name": "Mexico",
         "notched": false,
         "offsetgroup": "Mexico",
         "orientation": "v",
         "showlegend": true,
         "type": "box",
         "x": [
          "Mexico",
          "Mexico",
          "Mexico",
          "Mexico",
          "Mexico",
          "Mexico",
          "Mexico",
          "Mexico",
          "Mexico",
          "Mexico",
          "Mexico",
          "Mexico",
          "Mexico"
         ],
         "x0": " ",
         "xaxis": "x",
         "y": [
          19,
          20,
          21,
          20,
          19,
          17,
          27,
          23,
          24,
          22,
          22,
          18,
          27
         ],
         "y0": " ",
         "yaxis": "y"
        },
        {
         "alignmentgroup": "True",
         "hovertemplate": "Team=%{x}<br>Age=%{y}<extra></extra>",
         "legendgroup": "Hungary",
         "marker": {
          "color": "#FF6692"
         },
         "name": "Hungary",
         "notched": false,
         "offsetgroup": "Hungary",
         "orientation": "v",
         "showlegend": true,
         "type": "box",
         "x": [
          "Hungary",
          "Hungary",
          "Hungary",
          "Hungary",
          "Hungary",
          "Hungary",
          "Hungary",
          "Hungary",
          "Hungary",
          "Hungary",
          "Hungary",
          "Hungary",
          "Hungary",
          "Hungary",
          "Hungary",
          "Hungary",
          "Hungary",
          "Hungary",
          "Hungary",
          "Hungary"
         ],
         "x0": " ",
         "xaxis": "x",
         "y": [
          24,
          20,
          20,
          21,
          26,
          23,
          22,
          23,
          32,
          22,
          21,
          25,
          23,
          20,
          22,
          22,
          26,
          30,
          22,
          19
         ],
         "y0": " ",
         "yaxis": "y"
        },
        {
         "alignmentgroup": "True",
         "hovertemplate": "Team=%{x}<br>Age=%{y}<extra></extra>",
         "legendgroup": "Ukraine",
         "marker": {
          "color": "#B6E880"
         },
         "name": "Ukraine",
         "notched": false,
         "offsetgroup": "Ukraine",
         "orientation": "v",
         "showlegend": true,
         "type": "box",
         "x": [
          "Ukraine",
          "Ukraine",
          "Ukraine",
          "Ukraine",
          "Ukraine",
          "Ukraine",
          "Ukraine",
          "Ukraine",
          "Ukraine",
          "Ukraine",
          "Ukraine",
          "Ukraine",
          "Ukraine",
          "Ukraine"
         ],
         "x0": " ",
         "xaxis": "x",
         "y": [
          24,
          26,
          21,
          20,
          23,
          25,
          21,
          20,
          22,
          20,
          24,
          26,
          23,
          25
         ],
         "y0": " ",
         "yaxis": "y"
        },
        {
         "alignmentgroup": "True",
         "hovertemplate": "Team=%{x}<br>Age=%{y}<extra></extra>",
         "legendgroup": "Cameroon",
         "marker": {
          "color": "#FF97FF"
         },
         "name": "Cameroon",
         "notched": false,
         "offsetgroup": "Cameroon",
         "orientation": "v",
         "showlegend": true,
         "type": "box",
         "x": [
          "Cameroon",
          "Cameroon"
         ],
         "x0": " ",
         "xaxis": "x",
         "y": [
          27,
          18
         ],
         "y0": " ",
         "yaxis": "y"
        },
        {
         "alignmentgroup": "True",
         "hovertemplate": "Team=%{x}<br>Age=%{y}<extra></extra>",
         "legendgroup": "Kenya",
         "marker": {
          "color": "#FECB52"
         },
         "name": "Kenya",
         "notched": false,
         "offsetgroup": "Kenya",
         "orientation": "v",
         "showlegend": true,
         "type": "box",
         "x": [
          "Kenya",
          "Kenya",
          "Kenya",
          "Kenya",
          "Kenya",
          "Kenya",
          "Kenya"
         ],
         "x0": " ",
         "xaxis": "x",
         "y": [
          19,
          26,
          23,
          24,
          22,
          23,
          27
         ],
         "y0": " ",
         "yaxis": "y"
        },
        {
         "alignmentgroup": "True",
         "hovertemplate": "Team=%{x}<br>Age=%{y}<extra></extra>",
         "legendgroup": "Venezuela",
         "marker": {
          "color": "#636efa"
         },
         "name": "Venezuela",
         "notched": false,
         "offsetgroup": "Venezuela",
         "orientation": "v",
         "showlegend": true,
         "type": "box",
         "x": [
          "Venezuela",
          "Venezuela",
          "Venezuela",
          "Venezuela",
          "Venezuela",
          "Venezuela"
         ],
         "x0": " ",
         "xaxis": "x",
         "y": [
          20,
          20,
          19,
          21,
          20,
          23
         ],
         "y0": " ",
         "yaxis": "y"
        },
        {
         "alignmentgroup": "True",
         "hovertemplate": "Team=%{x}<br>Age=%{y}<extra></extra>",
         "legendgroup": "Thailand",
         "marker": {
          "color": "#EF553B"
         },
         "name": "Thailand",
         "notched": false,
         "offsetgroup": "Thailand",
         "orientation": "v",
         "showlegend": true,
         "type": "box",
         "x": [
          "Thailand",
          "Thailand",
          "Thailand",
          "Thailand",
          "Thailand",
          "Thailand",
          "Thailand",
          "Thailand",
          "Thailand",
          "Thailand",
          "Thailand",
          "Thailand",
          "Thailand",
          "Thailand"
         ],
         "x0": " ",
         "xaxis": "x",
         "y": [
          24,
          28,
          22,
          33,
          23,
          28,
          20,
          23,
          32,
          24,
          18,
          24,
          26,
          24
         ],
         "y0": " ",
         "yaxis": "y"
        },
        {
         "alignmentgroup": "True",
         "hovertemplate": "Team=%{x}<br>Age=%{y}<extra></extra>",
         "legendgroup": "Georgia",
         "marker": {
          "color": "#00cc96"
         },
         "name": "Georgia",
         "notched": false,
         "offsetgroup": "Georgia",
         "orientation": "v",
         "showlegend": true,
         "type": "box",
         "x": [
          "Georgia"
         ],
         "x0": " ",
         "xaxis": "x",
         "y": [
          22
         ],
         "y0": " ",
         "yaxis": "y"
        },
        {
         "alignmentgroup": "True",
         "hovertemplate": "Team=%{x}<br>Age=%{y}<extra></extra>",
         "legendgroup": "Australia",
         "marker": {
          "color": "#ab63fa"
         },
         "name": "Australia",
         "notched": false,
         "offsetgroup": "Australia",
         "orientation": "v",
         "showlegend": true,
         "type": "box",
         "x": [
          "Australia",
          "Australia",
          "Australia",
          "Australia"
         ],
         "x0": " ",
         "xaxis": "x",
         "y": [
          19,
          22,
          30,
          22
         ],
         "y0": " ",
         "yaxis": "y"
        },
        {
         "alignmentgroup": "True",
         "hovertemplate": "Team=%{x}<br>Age=%{y}<extra></extra>",
         "legendgroup": "North Korea",
         "marker": {
          "color": "#FFA15A"
         },
         "name": "North Korea",
         "notched": false,
         "offsetgroup": "North Korea",
         "orientation": "v",
         "showlegend": true,
         "type": "box",
         "x": [
          "North Korea",
          "North Korea",
          "North Korea",
          "North Korea",
          "North Korea",
          "North Korea",
          "North Korea",
          "North Korea"
         ],
         "x0": " ",
         "xaxis": "x",
         "y": [
          22,
          21,
          20,
          22,
          20,
          21,
          25,
          22
         ],
         "y0": " ",
         "yaxis": "y"
        },
        {
         "alignmentgroup": "True",
         "hovertemplate": "Team=%{x}<br>Age=%{y}<extra></extra>",
         "legendgroup": "Tajikistan",
         "marker": {
          "color": "#19d3f3"
         },
         "name": "Tajikistan",
         "notched": false,
         "offsetgroup": "Tajikistan",
         "orientation": "v",
         "showlegend": true,
         "type": "box",
         "x": [
          "Tajikistan"
         ],
         "x0": " ",
         "xaxis": "x",
         "y": [
          19
         ],
         "y0": " ",
         "yaxis": "y"
        },
        {
         "alignmentgroup": "True",
         "hovertemplate": "Team=%{x}<br>Age=%{y}<extra></extra>",
         "legendgroup": "Niger",
         "marker": {
          "color": "#FF6692"
         },
         "name": "Niger",
         "notched": false,
         "offsetgroup": "Niger",
         "orientation": "v",
         "showlegend": true,
         "type": "box",
         "x": [
          "Niger"
         ],
         "x0": " ",
         "xaxis": "x",
         "y": [
          null
         ],
         "y0": " ",
         "yaxis": "y"
        },
        {
         "alignmentgroup": "True",
         "hovertemplate": "Team=%{x}<br>Age=%{y}<extra></extra>",
         "legendgroup": "Canada",
         "marker": {
          "color": "#B6E880"
         },
         "name": "Canada",
         "notched": false,
         "offsetgroup": "Canada",
         "orientation": "v",
         "showlegend": true,
         "type": "box",
         "x": [
          "Canada",
          "Canada",
          "Canada",
          "Canada",
          "Canada",
          "Canada",
          "Canada",
          "Canada",
          "Canada",
          "Canada",
          "Canada",
          "Canada",
          "Canada",
          "Canada",
          "Canada",
          "Canada",
          "Canada"
         ],
         "x0": " ",
         "xaxis": "x",
         "y": [
          26,
          23,
          19,
          20,
          19,
          22,
          20,
          28,
          25,
          23,
          23,
          21,
          22,
          null,
          22,
          24,
          20
         ],
         "y0": " ",
         "yaxis": "y"
        },
        {
         "alignmentgroup": "True",
         "hovertemplate": "Team=%{x}<br>Age=%{y}<extra></extra>",
         "legendgroup": "Netherlands",
         "marker": {
          "color": "#FF97FF"
         },
         "name": "Netherlands",
         "notched": false,
         "offsetgroup": "Netherlands",
         "orientation": "v",
         "showlegend": true,
         "type": "box",
         "x": [
          "Netherlands",
          "Netherlands",
          "Netherlands",
          "Netherlands",
          "Netherlands",
          "Netherlands",
          "Netherlands"
         ],
         "x0": " ",
         "xaxis": "x",
         "y": [
          21,
          28,
          24,
          20,
          21,
          25,
          29
         ],
         "y0": " ",
         "yaxis": "y"
        },
        {
         "alignmentgroup": "True",
         "hovertemplate": "Team=%{x}<br>Age=%{y}<extra></extra>",
         "legendgroup": "Dominican Republic",
         "marker": {
          "color": "#FECB52"
         },
         "name": "Dominican Republic",
         "notched": false,
         "offsetgroup": "Dominican Republic",
         "orientation": "v",
         "showlegend": true,
         "type": "box",
         "x": [
          "Dominican Republic",
          "Dominican Republic"
         ],
         "x0": " ",
         "xaxis": "x",
         "y": [
          24,
          22
         ],
         "y0": " ",
         "yaxis": "y"
        },
        {
         "alignmentgroup": "True",
         "hovertemplate": "Team=%{x}<br>Age=%{y}<extra></extra>",
         "legendgroup": "Nigeria",
         "marker": {
          "color": "#636efa"
         },
         "name": "Nigeria",
         "notched": false,
         "offsetgroup": "Nigeria",
         "orientation": "v",
         "showlegend": true,
         "type": "box",
         "x": [
          "Nigeria",
          "Nigeria",
          "Nigeria",
          "Nigeria",
          "Nigeria",
          "Nigeria"
         ],
         "x0": " ",
         "xaxis": "x",
         "y": [
          23,
          24,
          24,
          29,
          18,
          23
         ],
         "y0": " ",
         "yaxis": "y"
        },
        {
         "alignmentgroup": "True",
         "hovertemplate": "Team=%{x}<br>Age=%{y}<extra></extra>",
         "legendgroup": "Mongolia",
         "marker": {
          "color": "#EF553B"
         },
         "name": "Mongolia",
         "notched": false,
         "offsetgroup": "Mongolia",
         "orientation": "v",
         "showlegend": true,
         "type": "box",
         "x": [
          "Mongolia",
          "Mongolia",
          "Mongolia",
          "Mongolia",
          "Mongolia",
          "Mongolia",
          "Mongolia"
         ],
         "x0": " ",
         "xaxis": "x",
         "y": [
          28,
          23,
          26,
          26,
          20,
          23,
          30
         ],
         "y0": " ",
         "yaxis": "y"
        },
        {
         "alignmentgroup": "True",
         "hovertemplate": "Team=%{x}<br>Age=%{y}<extra></extra>",
         "legendgroup": "United Arab Republic",
         "marker": {
          "color": "#00cc96"
         },
         "name": "United Arab Republic",
         "notched": false,
         "offsetgroup": "United Arab Republic",
         "orientation": "v",
         "showlegend": true,
         "type": "box",
         "x": [
          "United Arab Republic"
         ],
         "x0": " ",
         "xaxis": "x",
         "y": [
          24
         ],
         "y0": " ",
         "yaxis": "y"
        },
        {
         "alignmentgroup": "True",
         "hovertemplate": "Team=%{x}<br>Age=%{y}<extra></extra>",
         "legendgroup": "Czechoslovakia",
         "marker": {
          "color": "#ab63fa"
         },
         "name": "Czechoslovakia",
         "notched": false,
         "offsetgroup": "Czechoslovakia",
         "orientation": "v",
         "showlegend": true,
         "type": "box",
         "x": [
          "Czechoslovakia",
          "Czechoslovakia",
          "Czechoslovakia",
          "Czechoslovakia",
          "Czechoslovakia",
          "Czechoslovakia"
         ],
         "x0": " ",
         "xaxis": "x",
         "y": [
          20,
          20,
          26,
          22,
          26,
          23
         ],
         "y0": " ",
         "yaxis": "y"
        },
        {
         "alignmentgroup": "True",
         "hovertemplate": "Team=%{x}<br>Age=%{y}<extra></extra>",
         "legendgroup": "Tunisia",
         "marker": {
          "color": "#FFA15A"
         },
         "name": "Tunisia",
         "notched": false,
         "offsetgroup": "Tunisia",
         "orientation": "v",
         "showlegend": true,
         "type": "box",
         "x": [
          "Tunisia",
          "Tunisia"
         ],
         "x0": " ",
         "xaxis": "x",
         "y": [
          23,
          22
         ],
         "y0": " ",
         "yaxis": "y"
        },
        {
         "alignmentgroup": "True",
         "hovertemplate": "Team=%{x}<br>Age=%{y}<extra></extra>",
         "legendgroup": "West Germany",
         "marker": {
          "color": "#19d3f3"
         },
         "name": "West Germany",
         "notched": false,
         "offsetgroup": "West Germany",
         "orientation": "v",
         "showlegend": true,
         "type": "box",
         "x": [
          "West Germany",
          "West Germany",
          "West Germany",
          "West Germany",
          "West Germany",
          "West Germany"
         ],
         "x0": " ",
         "xaxis": "x",
         "y": [
          25,
          24,
          29,
          27,
          28,
          23
         ],
         "y0": " ",
         "yaxis": "y"
        },
        {
         "alignmentgroup": "True",
         "hovertemplate": "Team=%{x}<br>Age=%{y}<extra></extra>",
         "legendgroup": "Moldova",
         "marker": {
          "color": "#FF6692"
         },
         "name": "Moldova",
         "notched": false,
         "offsetgroup": "Moldova",
         "orientation": "v",
         "showlegend": true,
         "type": "box",
         "x": [
          "Moldova",
          "Moldova"
         ],
         "x0": " ",
         "xaxis": "x",
         "y": [
          25,
          23
         ],
         "y0": " ",
         "yaxis": "y"
        },
        {
         "alignmentgroup": "True",
         "hovertemplate": "Team=%{x}<br>Age=%{y}<extra></extra>",
         "legendgroup": "China",
         "marker": {
          "color": "#B6E880"
         },
         "name": "China",
         "notched": false,
         "offsetgroup": "China",
         "orientation": "v",
         "showlegend": true,
         "type": "box",
         "x": [
          "China",
          "China",
          "China",
          "China",
          "China",
          "China",
          "China",
          "China",
          "China",
          "China",
          "China",
          "China"
         ],
         "x0": " ",
         "xaxis": "x",
         "y": [
          23,
          23,
          22,
          26,
          24,
          28,
          25,
          26,
          25,
          23,
          27,
          31
         ],
         "y0": " ",
         "yaxis": "y"
        },
        {
         "alignmentgroup": "True",
         "hovertemplate": "Team=%{x}<br>Age=%{y}<extra></extra>",
         "legendgroup": "Bermuda",
         "marker": {
          "color": "#FF97FF"
         },
         "name": "Bermuda",
         "notched": false,
         "offsetgroup": "Bermuda",
         "orientation": "v",
         "showlegend": true,
         "type": "box",
         "x": [
          "Bermuda"
         ],
         "x0": " ",
         "xaxis": "x",
         "y": [
          25
         ],
         "y0": " ",
         "yaxis": "y"
        },
        {
         "alignmentgroup": "True",
         "hovertemplate": "Team=%{x}<br>Age=%{y}<extra></extra>",
         "legendgroup": "Croatia",
         "marker": {
          "color": "#FECB52"
         },
         "name": "Croatia",
         "notched": false,
         "offsetgroup": "Croatia",
         "orientation": "v",
         "showlegend": true,
         "type": "box",
         "x": [
          "Croatia"
         ],
         "x0": " ",
         "xaxis": "x",
         "y": [
          24
         ],
         "y0": " ",
         "yaxis": "y"
        },
        {
         "alignmentgroup": "True",
         "hovertemplate": "Team=%{x}<br>Age=%{y}<extra></extra>",
         "legendgroup": "Pakistan",
         "marker": {
          "color": "#636efa"
         },
         "name": "Pakistan",
         "notched": false,
         "offsetgroup": "Pakistan",
         "orientation": "v",
         "showlegend": true,
         "type": "box",
         "x": [
          "Pakistan"
         ],
         "x0": " ",
         "xaxis": "x",
         "y": [
          24
         ],
         "y0": " ",
         "yaxis": "y"
        },
        {
         "alignmentgroup": "True",
         "hovertemplate": "Team=%{x}<br>Age=%{y}<extra></extra>",
         "legendgroup": "Armenia",
         "marker": {
          "color": "#EF553B"
         },
         "name": "Armenia",
         "notched": false,
         "offsetgroup": "Armenia",
         "orientation": "v",
         "showlegend": true,
         "type": "box",
         "x": [
          "Armenia"
         ],
         "x0": " ",
         "xaxis": "x",
         "y": [
          24
         ],
         "y0": " ",
         "yaxis": "y"
        },
        {
         "alignmentgroup": "True",
         "hovertemplate": "Team=%{x}<br>Age=%{y}<extra></extra>",
         "legendgroup": "Denmark",
         "marker": {
          "color": "#00cc96"
         },
         "name": "Denmark",
         "notched": false,
         "offsetgroup": "Denmark",
         "orientation": "v",
         "showlegend": true,
         "type": "box",
         "x": [
          "Denmark",
          "Denmark",
          "Denmark",
          "Denmark",
          "Denmark",
          "Denmark",
          "Denmark",
          "Denmark",
          "Denmark",
          "Denmark",
          "Denmark",
          "Denmark"
         ],
         "x0": " ",
         "xaxis": "x",
         "y": [
          24,
          25,
          28,
          29,
          27,
          24,
          20,
          24,
          25,
          29,
          21,
          20
         ],
         "y0": " ",
         "yaxis": "y"
        },
        {
         "alignmentgroup": "True",
         "hovertemplate": "Team=%{x}<br>Age=%{y}<extra></extra>",
         "legendgroup": "Yugoslavia",
         "marker": {
          "color": "#ab63fa"
         },
         "name": "Yugoslavia",
         "notched": false,
         "offsetgroup": "Yugoslavia",
         "orientation": "v",
         "showlegend": true,
         "type": "box",
         "x": [
          "Yugoslavia",
          "Yugoslavia",
          "Yugoslavia",
          "Yugoslavia",
          "Yugoslavia",
          "Yugoslavia",
          "Yugoslavia",
          "Yugoslavia",
          "Yugoslavia",
          "Yugoslavia",
          "Yugoslavia"
         ],
         "x0": " ",
         "xaxis": "x",
         "y": [
          22,
          22,
          20,
          23,
          28,
          21,
          19,
          30,
          28,
          25,
          29
         ],
         "y0": " ",
         "yaxis": "y"
        },
        {
         "alignmentgroup": "True",
         "hovertemplate": "Team=%{x}<br>Age=%{y}<extra></extra>",
         "legendgroup": "Mauritius",
         "marker": {
          "color": "#FFA15A"
         },
         "name": "Mauritius",
         "notched": false,
         "offsetgroup": "Mauritius",
         "orientation": "v",
         "showlegend": true,
         "type": "box",
         "x": [
          "Mauritius"
         ],
         "x0": " ",
         "xaxis": "x",
         "y": [
          30
         ],
         "y0": " ",
         "yaxis": "y"
        },
        {
         "alignmentgroup": "True",
         "hovertemplate": "Team=%{x}<br>Age=%{y}<extra></extra>",
         "legendgroup": "Colombia",
         "marker": {
          "color": "#19d3f3"
         },
         "name": "Colombia",
         "notched": false,
         "offsetgroup": "Colombia",
         "orientation": "v",
         "showlegend": true,
         "type": "box",
         "x": [
          "Colombia",
          "Colombia",
          "Colombia",
          "Colombia",
          "Colombia"
         ],
         "x0": " ",
         "xaxis": "x",
         "y": [
          19,
          24,
          23,
          19,
          27
         ],
         "y0": " ",
         "yaxis": "y"
        },
        {
         "alignmentgroup": "True",
         "hovertemplate": "Team=%{x}<br>Age=%{y}<extra></extra>",
         "legendgroup": "India",
         "marker": {
          "color": "#FF6692"
         },
         "name": "India",
         "notched": false,
         "offsetgroup": "India",
         "orientation": "v",
         "showlegend": true,
         "type": "box",
         "x": [
          "India",
          "India"
         ],
         "x0": " ",
         "xaxis": "x",
         "y": [
          29,
          22
         ],
         "y0": " ",
         "yaxis": "y"
        },
        {
         "alignmentgroup": "True",
         "hovertemplate": "Team=%{x}<br>Age=%{y}<extra></extra>",
         "legendgroup": "Czech Republic",
         "marker": {
          "color": "#B6E880"
         },
         "name": "Czech Republic",
         "notched": false,
         "offsetgroup": "Czech Republic",
         "orientation": "v",
         "showlegend": true,
         "type": "box",
         "x": [
          "Czech Republic"
         ],
         "x0": " ",
         "xaxis": "x",
         "y": [
          22
         ],
         "y0": " ",
         "yaxis": "y"
        },
        {
         "alignmentgroup": "True",
         "hovertemplate": "Team=%{x}<br>Age=%{y}<extra></extra>",
         "legendgroup": "Spain",
         "marker": {
          "color": "#FF97FF"
         },
         "name": "Spain",
         "notched": false,
         "offsetgroup": "Spain",
         "orientation": "v",
         "showlegend": true,
         "type": "box",
         "x": [
          "Spain",
          "Spain",
          "Spain",
          "Spain"
         ],
         "x0": " ",
         "xaxis": "x",
         "y": [
          26,
          30,
          17,
          20
         ],
         "y0": " ",
         "yaxis": "y"
        },
        {
         "alignmentgroup": "True",
         "hovertemplate": "Team=%{x}<br>Age=%{y}<extra></extra>",
         "legendgroup": "Japan",
         "marker": {
          "color": "#FECB52"
         },
         "name": "Japan",
         "notched": false,
         "offsetgroup": "Japan",
         "orientation": "v",
         "showlegend": true,
         "type": "box",
         "x": [
          "Japan",
          "Japan",
          "Japan",
          "Japan",
          "Japan"
         ],
         "x0": " ",
         "xaxis": "x",
         "y": [
          22,
          26,
          23,
          26,
          19
         ],
         "y0": " ",
         "yaxis": "y"
        },
        {
         "alignmentgroup": "True",
         "hovertemplate": "Team=%{x}<br>Age=%{y}<extra></extra>",
         "legendgroup": "Uganda",
         "marker": {
          "color": "#636efa"
         },
         "name": "Uganda",
         "notched": false,
         "offsetgroup": "Uganda",
         "orientation": "v",
         "showlegend": true,
         "type": "box",
         "x": [
          "Uganda",
          "Uganda",
          "Uganda",
          "Uganda"
         ],
         "x0": " ",
         "xaxis": "x",
         "y": [
          20,
          25,
          19,
          23
         ],
         "y0": " ",
         "yaxis": "y"
        },
        {
         "alignmentgroup": "True",
         "hovertemplate": "Team=%{x}<br>Age=%{y}<extra></extra>",
         "legendgroup": "Zambia",
         "marker": {
          "color": "#EF553B"
         },
         "name": "Zambia",
         "notched": false,
         "offsetgroup": "Zambia",
         "orientation": "v",
         "showlegend": true,
         "type": "box",
         "x": [
          "Zambia"
         ],
         "x0": " ",
         "xaxis": "x",
         "y": [
          null
         ],
         "y0": " ",
         "yaxis": "y"
        },
        {
         "alignmentgroup": "True",
         "hovertemplate": "Team=%{x}<br>Age=%{y}<extra></extra>",
         "legendgroup": "Norway",
         "marker": {
          "color": "#00cc96"
         },
         "name": "Norway",
         "notched": false,
         "offsetgroup": "Norway",
         "orientation": "v",
         "showlegend": true,
         "type": "box",
         "x": [
          "Norway",
          "Norway",
          "Norway",
          "Norway",
          "Norway"
         ],
         "x0": " ",
         "xaxis": "x",
         "y": [
          25,
          19,
          23,
          22,
          20
         ],
         "y0": " ",
         "yaxis": "y"
        },
        {
         "alignmentgroup": "True",
         "hovertemplate": "Team=%{x}<br>Age=%{y}<extra></extra>",
         "legendgroup": "Unified Team",
         "marker": {
          "color": "#ab63fa"
         },
         "name": "Unified Team",
         "notched": false,
         "offsetgroup": "Unified Team",
         "orientation": "v",
         "showlegend": true,
         "type": "box",
         "x": [
          "Unified Team",
          "Unified Team"
         ],
         "x0": " ",
         "xaxis": "x",
         "y": [
          18,
          23
         ],
         "y0": " ",
         "yaxis": "y"
        },
        {
         "alignmentgroup": "True",
         "hovertemplate": "Team=%{x}<br>Age=%{y}<extra></extra>",
         "legendgroup": "Lithuania",
         "marker": {
          "color": "#FFA15A"
         },
         "name": "Lithuania",
         "notched": false,
         "offsetgroup": "Lithuania",
         "orientation": "v",
         "showlegend": true,
         "type": "box",
         "x": [
          "Lithuania"
         ],
         "x0": " ",
         "xaxis": "x",
         "y": [
          20
         ],
         "y0": " ",
         "yaxis": "y"
        },
        {
         "alignmentgroup": "True",
         "hovertemplate": "Team=%{x}<br>Age=%{y}<extra></extra>",
         "legendgroup": "Uruguay",
         "marker": {
          "color": "#19d3f3"
         },
         "name": "Uruguay",
         "notched": false,
         "offsetgroup": "Uruguay",
         "orientation": "v",
         "showlegend": true,
         "type": "box",
         "x": [
          "Uruguay"
         ],
         "x0": " ",
         "xaxis": "x",
         "y": [
          20
         ],
         "y0": " ",
         "yaxis": "y"
        },
        {
         "alignmentgroup": "True",
         "hovertemplate": "Team=%{x}<br>Age=%{y}<extra></extra>",
         "legendgroup": "Philippines",
         "marker": {
          "color": "#FF6692"
         },
         "name": "Philippines",
         "notched": false,
         "offsetgroup": "Philippines",
         "orientation": "v",
         "showlegend": true,
         "type": "box",
         "x": [
          "Philippines",
          "Philippines",
          "Philippines",
          "Philippines",
          "Philippines"
         ],
         "x0": " ",
         "xaxis": "x",
         "y": [
          26,
          22,
          20,
          19,
          19
         ],
         "y0": " ",
         "yaxis": "y"
        },
        {
         "alignmentgroup": "True",
         "hovertemplate": "Team=%{x}<br>Age=%{y}<extra></extra>",
         "legendgroup": "Estonia",
         "marker": {
          "color": "#B6E880"
         },
         "name": "Estonia",
         "notched": false,
         "offsetgroup": "Estonia",
         "orientation": "v",
         "showlegend": true,
         "type": "box",
         "x": [
          "Estonia"
         ],
         "x0": " ",
         "xaxis": "x",
         "y": [
          23
         ],
         "y0": " ",
         "yaxis": "y"
        },
        {
         "alignmentgroup": "True",
         "hovertemplate": "Team=%{x}<br>Age=%{y}<extra></extra>",
         "legendgroup": "Tonga",
         "marker": {
          "color": "#FF97FF"
         },
         "name": "Tonga",
         "notched": false,
         "offsetgroup": "Tonga",
         "orientation": "v",
         "showlegend": true,
         "type": "box",
         "x": [
          "Tonga"
         ],
         "x0": " ",
         "xaxis": "x",
         "y": [
          26
         ],
         "y0": " ",
         "yaxis": "y"
        }
       ],
       "layout": {
        "boxmode": "overlay",
        "legend": {
         "title": {
          "text": "Team"
         },
         "tracegroupgap": 0
        },
        "template": {
         "data": {
          "bar": [
           {
            "error_x": {
             "color": "#2a3f5f"
            },
            "error_y": {
             "color": "#2a3f5f"
            },
            "marker": {
             "line": {
              "color": "#E5ECF6",
              "width": 0.5
             },
             "pattern": {
              "fillmode": "overlay",
              "size": 10,
              "solidity": 0.2
             }
            },
            "type": "bar"
           }
          ],
          "barpolar": [
           {
            "marker": {
             "line": {
              "color": "#E5ECF6",
              "width": 0.5
             },
             "pattern": {
              "fillmode": "overlay",
              "size": 10,
              "solidity": 0.2
             }
            },
            "type": "barpolar"
           }
          ],
          "carpet": [
           {
            "aaxis": {
             "endlinecolor": "#2a3f5f",
             "gridcolor": "white",
             "linecolor": "white",
             "minorgridcolor": "white",
             "startlinecolor": "#2a3f5f"
            },
            "baxis": {
             "endlinecolor": "#2a3f5f",
             "gridcolor": "white",
             "linecolor": "white",
             "minorgridcolor": "white",
             "startlinecolor": "#2a3f5f"
            },
            "type": "carpet"
           }
          ],
          "choropleth": [
           {
            "colorbar": {
             "outlinewidth": 0,
             "ticks": ""
            },
            "type": "choropleth"
           }
          ],
          "contour": [
           {
            "colorbar": {
             "outlinewidth": 0,
             "ticks": ""
            },
            "colorscale": [
             [
              0,
              "#0d0887"
             ],
             [
              0.1111111111111111,
              "#46039f"
             ],
             [
              0.2222222222222222,
              "#7201a8"
             ],
             [
              0.3333333333333333,
              "#9c179e"
             ],
             [
              0.4444444444444444,
              "#bd3786"
             ],
             [
              0.5555555555555556,
              "#d8576b"
             ],
             [
              0.6666666666666666,
              "#ed7953"
             ],
             [
              0.7777777777777778,
              "#fb9f3a"
             ],
             [
              0.8888888888888888,
              "#fdca26"
             ],
             [
              1,
              "#f0f921"
             ]
            ],
            "type": "contour"
           }
          ],
          "contourcarpet": [
           {
            "colorbar": {
             "outlinewidth": 0,
             "ticks": ""
            },
            "type": "contourcarpet"
           }
          ],
          "heatmap": [
           {
            "colorbar": {
             "outlinewidth": 0,
             "ticks": ""
            },
            "colorscale": [
             [
              0,
              "#0d0887"
             ],
             [
              0.1111111111111111,
              "#46039f"
             ],
             [
              0.2222222222222222,
              "#7201a8"
             ],
             [
              0.3333333333333333,
              "#9c179e"
             ],
             [
              0.4444444444444444,
              "#bd3786"
             ],
             [
              0.5555555555555556,
              "#d8576b"
             ],
             [
              0.6666666666666666,
              "#ed7953"
             ],
             [
              0.7777777777777778,
              "#fb9f3a"
             ],
             [
              0.8888888888888888,
              "#fdca26"
             ],
             [
              1,
              "#f0f921"
             ]
            ],
            "type": "heatmap"
           }
          ],
          "heatmapgl": [
           {
            "colorbar": {
             "outlinewidth": 0,
             "ticks": ""
            },
            "colorscale": [
             [
              0,
              "#0d0887"
             ],
             [
              0.1111111111111111,
              "#46039f"
             ],
             [
              0.2222222222222222,
              "#7201a8"
             ],
             [
              0.3333333333333333,
              "#9c179e"
             ],
             [
              0.4444444444444444,
              "#bd3786"
             ],
             [
              0.5555555555555556,
              "#d8576b"
             ],
             [
              0.6666666666666666,
              "#ed7953"
             ],
             [
              0.7777777777777778,
              "#fb9f3a"
             ],
             [
              0.8888888888888888,
              "#fdca26"
             ],
             [
              1,
              "#f0f921"
             ]
            ],
            "type": "heatmapgl"
           }
          ],
          "histogram": [
           {
            "marker": {
             "pattern": {
              "fillmode": "overlay",
              "size": 10,
              "solidity": 0.2
             }
            },
            "type": "histogram"
           }
          ],
          "histogram2d": [
           {
            "colorbar": {
             "outlinewidth": 0,
             "ticks": ""
            },
            "colorscale": [
             [
              0,
              "#0d0887"
             ],
             [
              0.1111111111111111,
              "#46039f"
             ],
             [
              0.2222222222222222,
              "#7201a8"
             ],
             [
              0.3333333333333333,
              "#9c179e"
             ],
             [
              0.4444444444444444,
              "#bd3786"
             ],
             [
              0.5555555555555556,
              "#d8576b"
             ],
             [
              0.6666666666666666,
              "#ed7953"
             ],
             [
              0.7777777777777778,
              "#fb9f3a"
             ],
             [
              0.8888888888888888,
              "#fdca26"
             ],
             [
              1,
              "#f0f921"
             ]
            ],
            "type": "histogram2d"
           }
          ],
          "histogram2dcontour": [
           {
            "colorbar": {
             "outlinewidth": 0,
             "ticks": ""
            },
            "colorscale": [
             [
              0,
              "#0d0887"
             ],
             [
              0.1111111111111111,
              "#46039f"
             ],
             [
              0.2222222222222222,
              "#7201a8"
             ],
             [
              0.3333333333333333,
              "#9c179e"
             ],
             [
              0.4444444444444444,
              "#bd3786"
             ],
             [
              0.5555555555555556,
              "#d8576b"
             ],
             [
              0.6666666666666666,
              "#ed7953"
             ],
             [
              0.7777777777777778,
              "#fb9f3a"
             ],
             [
              0.8888888888888888,
              "#fdca26"
             ],
             [
              1,
              "#f0f921"
             ]
            ],
            "type": "histogram2dcontour"
           }
          ],
          "mesh3d": [
           {
            "colorbar": {
             "outlinewidth": 0,
             "ticks": ""
            },
            "type": "mesh3d"
           }
          ],
          "parcoords": [
           {
            "line": {
             "colorbar": {
              "outlinewidth": 0,
              "ticks": ""
             }
            },
            "type": "parcoords"
           }
          ],
          "pie": [
           {
            "automargin": true,
            "type": "pie"
           }
          ],
          "scatter": [
           {
            "fillpattern": {
             "fillmode": "overlay",
             "size": 10,
             "solidity": 0.2
            },
            "type": "scatter"
           }
          ],
          "scatter3d": [
           {
            "line": {
             "colorbar": {
              "outlinewidth": 0,
              "ticks": ""
             }
            },
            "marker": {
             "colorbar": {
              "outlinewidth": 0,
              "ticks": ""
             }
            },
            "type": "scatter3d"
           }
          ],
          "scattercarpet": [
           {
            "marker": {
             "colorbar": {
              "outlinewidth": 0,
              "ticks": ""
             }
            },
            "type": "scattercarpet"
           }
          ],
          "scattergeo": [
           {
            "marker": {
             "colorbar": {
              "outlinewidth": 0,
              "ticks": ""
             }
            },
            "type": "scattergeo"
           }
          ],
          "scattergl": [
           {
            "marker": {
             "colorbar": {
              "outlinewidth": 0,
              "ticks": ""
             }
            },
            "type": "scattergl"
           }
          ],
          "scattermapbox": [
           {
            "marker": {
             "colorbar": {
              "outlinewidth": 0,
              "ticks": ""
             }
            },
            "type": "scattermapbox"
           }
          ],
          "scatterpolar": [
           {
            "marker": {
             "colorbar": {
              "outlinewidth": 0,
              "ticks": ""
             }
            },
            "type": "scatterpolar"
           }
          ],
          "scatterpolargl": [
           {
            "marker": {
             "colorbar": {
              "outlinewidth": 0,
              "ticks": ""
             }
            },
            "type": "scatterpolargl"
           }
          ],
          "scatterternary": [
           {
            "marker": {
             "colorbar": {
              "outlinewidth": 0,
              "ticks": ""
             }
            },
            "type": "scatterternary"
           }
          ],
          "surface": [
           {
            "colorbar": {
             "outlinewidth": 0,
             "ticks": ""
            },
            "colorscale": [
             [
              0,
              "#0d0887"
             ],
             [
              0.1111111111111111,
              "#46039f"
             ],
             [
              0.2222222222222222,
              "#7201a8"
             ],
             [
              0.3333333333333333,
              "#9c179e"
             ],
             [
              0.4444444444444444,
              "#bd3786"
             ],
             [
              0.5555555555555556,
              "#d8576b"
             ],
             [
              0.6666666666666666,
              "#ed7953"
             ],
             [
              0.7777777777777778,
              "#fb9f3a"
             ],
             [
              0.8888888888888888,
              "#fdca26"
             ],
             [
              1,
              "#f0f921"
             ]
            ],
            "type": "surface"
           }
          ],
          "table": [
           {
            "cells": {
             "fill": {
              "color": "#EBF0F8"
             },
             "line": {
              "color": "white"
             }
            },
            "header": {
             "fill": {
              "color": "#C8D4E3"
             },
             "line": {
              "color": "white"
             }
            },
            "type": "table"
           }
          ]
         },
         "layout": {
          "annotationdefaults": {
           "arrowcolor": "#2a3f5f",
           "arrowhead": 0,
           "arrowwidth": 1
          },
          "autotypenumbers": "strict",
          "coloraxis": {
           "colorbar": {
            "outlinewidth": 0,
            "ticks": ""
           }
          },
          "colorscale": {
           "diverging": [
            [
             0,
             "#8e0152"
            ],
            [
             0.1,
             "#c51b7d"
            ],
            [
             0.2,
             "#de77ae"
            ],
            [
             0.3,
             "#f1b6da"
            ],
            [
             0.4,
             "#fde0ef"
            ],
            [
             0.5,
             "#f7f7f7"
            ],
            [
             0.6,
             "#e6f5d0"
            ],
            [
             0.7,
             "#b8e186"
            ],
            [
             0.8,
             "#7fbc41"
            ],
            [
             0.9,
             "#4d9221"
            ],
            [
             1,
             "#276419"
            ]
           ],
           "sequential": [
            [
             0,
             "#0d0887"
            ],
            [
             0.1111111111111111,
             "#46039f"
            ],
            [
             0.2222222222222222,
             "#7201a8"
            ],
            [
             0.3333333333333333,
             "#9c179e"
            ],
            [
             0.4444444444444444,
             "#bd3786"
            ],
            [
             0.5555555555555556,
             "#d8576b"
            ],
            [
             0.6666666666666666,
             "#ed7953"
            ],
            [
             0.7777777777777778,
             "#fb9f3a"
            ],
            [
             0.8888888888888888,
             "#fdca26"
            ],
            [
             1,
             "#f0f921"
            ]
           ],
           "sequentialminus": [
            [
             0,
             "#0d0887"
            ],
            [
             0.1111111111111111,
             "#46039f"
            ],
            [
             0.2222222222222222,
             "#7201a8"
            ],
            [
             0.3333333333333333,
             "#9c179e"
            ],
            [
             0.4444444444444444,
             "#bd3786"
            ],
            [
             0.5555555555555556,
             "#d8576b"
            ],
            [
             0.6666666666666666,
             "#ed7953"
            ],
            [
             0.7777777777777778,
             "#fb9f3a"
            ],
            [
             0.8888888888888888,
             "#fdca26"
            ],
            [
             1,
             "#f0f921"
            ]
           ]
          },
          "colorway": [
           "#636efa",
           "#EF553B",
           "#00cc96",
           "#ab63fa",
           "#FFA15A",
           "#19d3f3",
           "#FF6692",
           "#B6E880",
           "#FF97FF",
           "#FECB52"
          ],
          "font": {
           "color": "#2a3f5f"
          },
          "geo": {
           "bgcolor": "white",
           "lakecolor": "white",
           "landcolor": "#E5ECF6",
           "showlakes": true,
           "showland": true,
           "subunitcolor": "white"
          },
          "hoverlabel": {
           "align": "left"
          },
          "hovermode": "closest",
          "mapbox": {
           "style": "light"
          },
          "paper_bgcolor": "white",
          "plot_bgcolor": "#E5ECF6",
          "polar": {
           "angularaxis": {
            "gridcolor": "white",
            "linecolor": "white",
            "ticks": ""
           },
           "bgcolor": "#E5ECF6",
           "radialaxis": {
            "gridcolor": "white",
            "linecolor": "white",
            "ticks": ""
           }
          },
          "scene": {
           "xaxis": {
            "backgroundcolor": "#E5ECF6",
            "gridcolor": "white",
            "gridwidth": 2,
            "linecolor": "white",
            "showbackground": true,
            "ticks": "",
            "zerolinecolor": "white"
           },
           "yaxis": {
            "backgroundcolor": "#E5ECF6",
            "gridcolor": "white",
            "gridwidth": 2,
            "linecolor": "white",
            "showbackground": true,
            "ticks": "",
            "zerolinecolor": "white"
           },
           "zaxis": {
            "backgroundcolor": "#E5ECF6",
            "gridcolor": "white",
            "gridwidth": 2,
            "linecolor": "white",
            "showbackground": true,
            "ticks": "",
            "zerolinecolor": "white"
           }
          },
          "shapedefaults": {
           "line": {
            "color": "#2a3f5f"
           }
          },
          "ternary": {
           "aaxis": {
            "gridcolor": "white",
            "linecolor": "white",
            "ticks": ""
           },
           "baxis": {
            "gridcolor": "white",
            "linecolor": "white",
            "ticks": ""
           },
           "bgcolor": "#E5ECF6",
           "caxis": {
            "gridcolor": "white",
            "linecolor": "white",
            "ticks": ""
           }
          },
          "title": {
           "x": 0.05
          },
          "xaxis": {
           "automargin": true,
           "gridcolor": "white",
           "linecolor": "white",
           "ticks": "",
           "title": {
            "standoff": 15
           },
           "zerolinecolor": "white",
           "zerolinewidth": 2
          },
          "yaxis": {
           "automargin": true,
           "gridcolor": "white",
           "linecolor": "white",
           "ticks": "",
           "title": {
            "standoff": 15
           },
           "zerolinecolor": "white",
           "zerolinewidth": 2
          }
         }
        },
        "title": {
         "text": "Age distribution in boxing teams"
        },
        "xaxis": {
         "anchor": "y",
         "categoryarray": [
          "Uzbekistan",
          "Puerto Rico",
          "Morocco",
          "Cuba",
          "Poland",
          "Great Britain",
          "United States",
          "Sweden",
          "Finland",
          "Syria",
          "Romania",
          "Algeria",
          "Russia",
          "Egypt",
          "Ghana",
          "South Korea",
          "Bulgaria",
          "Guyana",
          "France",
          "Brazil",
          "Belarus",
          "Kazakhstan",
          "South Africa",
          "Azerbaijan",
          "Italy",
          "Argentina",
          "Turkey",
          "East Germany",
          "Australasia",
          "Soviet Union",
          "Ireland",
          "Chile",
          "New Zealand",
          "Germany",
          "Belgium",
          "Mexico",
          "Hungary",
          "Ukraine",
          "Cameroon",
          "Kenya",
          "Venezuela",
          "Thailand",
          "Georgia",
          "Australia",
          "North Korea",
          "Tajikistan",
          "Niger",
          "Canada",
          "Netherlands",
          "Dominican Republic",
          "Nigeria",
          "Mongolia",
          "United Arab Republic",
          "Czechoslovakia",
          "Tunisia",
          "West Germany",
          "Moldova",
          "China",
          "Bermuda",
          "Croatia",
          "Pakistan",
          "Armenia",
          "Denmark",
          "Yugoslavia",
          "Mauritius",
          "Colombia",
          "India",
          "Czech Republic",
          "Spain",
          "Japan",
          "Uganda",
          "Zambia",
          "Norway",
          "Unified Team",
          "Lithuania",
          "Uruguay",
          "Philippines",
          "Estonia",
          "Tonga"
         ],
         "categoryorder": "array",
         "domain": [
          0,
          1
         ],
         "title": {
          "text": "Team"
         }
        },
        "yaxis": {
         "anchor": "x",
         "domain": [
          0,
          1
         ],
         "title": {
          "text": "Age"
         }
        }
       }
      }
     },
     "metadata": {},
     "output_type": "display_data"
    }
   ],
   "source": [
    "# plot the age distribution in teams using box plot\n",
    "fig = px.box(\n",
    "    df_boxing,\n",
    "    x=\"Team\",\n",
    "    y=\"Age\",\n",
    "    color=\"Team\",\n",
    "    title=\"Age distribution in boxing teams\",\n",
    ")\n",
    "fig.show()"
   ]
  },
  {
   "cell_type": "markdown",
   "metadata": {},
   "source": [
    "### Basketball analysis and visualization"
   ]
  },
  {
   "cell_type": "code",
   "execution_count": 12,
   "metadata": {},
   "outputs": [
    {
     "data": {
      "text/html": [
       "<div>\n",
       "<style scoped>\n",
       "    .dataframe tbody tr th:only-of-type {\n",
       "        vertical-align: middle;\n",
       "    }\n",
       "\n",
       "    .dataframe tbody tr th {\n",
       "        vertical-align: top;\n",
       "    }\n",
       "\n",
       "    .dataframe thead th {\n",
       "        text-align: right;\n",
       "    }\n",
       "</style>\n",
       "<table border=\"1\" class=\"dataframe\">\n",
       "  <thead>\n",
       "    <tr style=\"text-align: right;\">\n",
       "      <th></th>\n",
       "      <th>Unnamed: 0</th>\n",
       "      <th>ID</th>\n",
       "      <th>Name</th>\n",
       "      <th>Sex</th>\n",
       "      <th>Age</th>\n",
       "      <th>Height</th>\n",
       "      <th>Weight</th>\n",
       "      <th>Team</th>\n",
       "      <th>NOC</th>\n",
       "      <th>Games</th>\n",
       "      <th>Year</th>\n",
       "      <th>Season</th>\n",
       "      <th>City</th>\n",
       "      <th>Sport</th>\n",
       "      <th>Event</th>\n",
       "      <th>Medal</th>\n",
       "    </tr>\n",
       "  </thead>\n",
       "  <tbody>\n",
       "    <tr>\n",
       "      <th>0</th>\n",
       "      <td>0</td>\n",
       "      <td>1</td>\n",
       "      <td>3a4eef48434c66b3f14ab0221f6762d0ef7c6135ab2790...</td>\n",
       "      <td>M</td>\n",
       "      <td>24.0</td>\n",
       "      <td>180.0</td>\n",
       "      <td>80.0</td>\n",
       "      <td>China</td>\n",
       "      <td>CHN</td>\n",
       "      <td>1992 Summer</td>\n",
       "      <td>1992</td>\n",
       "      <td>Summer</td>\n",
       "      <td>Barcelona</td>\n",
       "      <td>Basketball</td>\n",
       "      <td>Basketball Men's Basketball</td>\n",
       "      <td>NaN</td>\n",
       "    </tr>\n",
       "    <tr>\n",
       "      <th>11</th>\n",
       "      <td>167</td>\n",
       "      <td>69</td>\n",
       "      <td>c695053d84faff079d10d78173869021dda6e6b7a0cfbe...</td>\n",
       "      <td>F</td>\n",
       "      <td>19.0</td>\n",
       "      <td>185.0</td>\n",
       "      <td>72.0</td>\n",
       "      <td>Spain</td>\n",
       "      <td>ESP</td>\n",
       "      <td>2008 Summer</td>\n",
       "      <td>2008</td>\n",
       "      <td>Summer</td>\n",
       "      <td>Beijing</td>\n",
       "      <td>Basketball</td>\n",
       "      <td>Basketball Women's Basketball</td>\n",
       "      <td>NaN</td>\n",
       "    </tr>\n",
       "    <tr>\n",
       "      <th>23</th>\n",
       "      <td>250</td>\n",
       "      <td>124</td>\n",
       "      <td>5e43ba671924351ecca5af521475c999d36ecc78a5c8b4...</td>\n",
       "      <td>M</td>\n",
       "      <td>31.0</td>\n",
       "      <td>NaN</td>\n",
       "      <td>NaN</td>\n",
       "      <td>Egypt</td>\n",
       "      <td>EGY</td>\n",
       "      <td>1952 Summer</td>\n",
       "      <td>1952</td>\n",
       "      <td>Summer</td>\n",
       "      <td>Helsinki</td>\n",
       "      <td>Basketball</td>\n",
       "      <td>Basketball Men's Basketball</td>\n",
       "      <td>NaN</td>\n",
       "    </tr>\n",
       "    <tr>\n",
       "      <th>25</th>\n",
       "      <td>264</td>\n",
       "      <td>136</td>\n",
       "      <td>482329566fa38a003989f68443e619419467401109e39f...</td>\n",
       "      <td>M</td>\n",
       "      <td>29.0</td>\n",
       "      <td>195.0</td>\n",
       "      <td>85.0</td>\n",
       "      <td>Italy</td>\n",
       "      <td>ITA</td>\n",
       "      <td>2000 Summer</td>\n",
       "      <td>2000</td>\n",
       "      <td>Summer</td>\n",
       "      <td>Sydney</td>\n",
       "      <td>Basketball</td>\n",
       "      <td>Basketball Men's Basketball</td>\n",
       "      <td>NaN</td>\n",
       "    </tr>\n",
       "    <tr>\n",
       "      <th>33</th>\n",
       "      <td>346</td>\n",
       "      <td>192</td>\n",
       "      <td>f3797f608250eea358aaec561a85fce3e8c2248c1a19f3...</td>\n",
       "      <td>M</td>\n",
       "      <td>25.0</td>\n",
       "      <td>189.0</td>\n",
       "      <td>85.0</td>\n",
       "      <td>Egypt</td>\n",
       "      <td>EGY</td>\n",
       "      <td>1972 Summer</td>\n",
       "      <td>1972</td>\n",
       "      <td>Summer</td>\n",
       "      <td>Munich</td>\n",
       "      <td>Basketball</td>\n",
       "      <td>Basketball Men's Basketball</td>\n",
       "      <td>NaN</td>\n",
       "    </tr>\n",
       "  </tbody>\n",
       "</table>\n",
       "</div>"
      ],
      "text/plain": [
       "    Unnamed: 0   ID                                               Name Sex  \\\n",
       "0            0    1  3a4eef48434c66b3f14ab0221f6762d0ef7c6135ab2790...   M   \n",
       "11         167   69  c695053d84faff079d10d78173869021dda6e6b7a0cfbe...   F   \n",
       "23         250  124  5e43ba671924351ecca5af521475c999d36ecc78a5c8b4...   M   \n",
       "25         264  136  482329566fa38a003989f68443e619419467401109e39f...   M   \n",
       "33         346  192  f3797f608250eea358aaec561a85fce3e8c2248c1a19f3...   M   \n",
       "\n",
       "     Age  Height  Weight   Team  NOC        Games  Year  Season       City  \\\n",
       "0   24.0   180.0    80.0  China  CHN  1992 Summer  1992  Summer  Barcelona   \n",
       "11  19.0   185.0    72.0  Spain  ESP  2008 Summer  2008  Summer    Beijing   \n",
       "23  31.0     NaN     NaN  Egypt  EGY  1952 Summer  1952  Summer   Helsinki   \n",
       "25  29.0   195.0    85.0  Italy  ITA  2000 Summer  2000  Summer     Sydney   \n",
       "33  25.0   189.0    85.0  Egypt  EGY  1972 Summer  1972  Summer     Munich   \n",
       "\n",
       "         Sport                          Event Medal  \n",
       "0   Basketball    Basketball Men's Basketball   NaN  \n",
       "11  Basketball  Basketball Women's Basketball   NaN  \n",
       "23  Basketball    Basketball Men's Basketball   NaN  \n",
       "25  Basketball    Basketball Men's Basketball   NaN  \n",
       "33  Basketball    Basketball Men's Basketball   NaN  "
      ]
     },
     "execution_count": 12,
     "metadata": {},
     "output_type": "execute_result"
    }
   ],
   "source": [
    "df_basketball = df_sports[df_sports[\"Sport\"] == \"Basketball\"]\n",
    "df_basketball.head()"
   ]
  },
  {
   "cell_type": "code",
   "execution_count": 13,
   "metadata": {},
   "outputs": [
    {
     "data": {
      "text/html": [
       "<div>\n",
       "<style scoped>\n",
       "    .dataframe tbody tr th:only-of-type {\n",
       "        vertical-align: middle;\n",
       "    }\n",
       "\n",
       "    .dataframe tbody tr th {\n",
       "        vertical-align: top;\n",
       "    }\n",
       "\n",
       "    .dataframe thead th {\n",
       "        text-align: right;\n",
       "    }\n",
       "</style>\n",
       "<table border=\"1\" class=\"dataframe\">\n",
       "  <thead>\n",
       "    <tr style=\"text-align: right;\">\n",
       "      <th></th>\n",
       "      <th>Unnamed: 0</th>\n",
       "      <th>ID</th>\n",
       "      <th>Name</th>\n",
       "      <th>Sex</th>\n",
       "      <th>Age</th>\n",
       "      <th>Height</th>\n",
       "      <th>Weight</th>\n",
       "      <th>Team</th>\n",
       "      <th>NOC</th>\n",
       "      <th>Games</th>\n",
       "      <th>Year</th>\n",
       "      <th>Season</th>\n",
       "      <th>City</th>\n",
       "      <th>Sport</th>\n",
       "      <th>Event</th>\n",
       "      <th>Medal</th>\n",
       "    </tr>\n",
       "  </thead>\n",
       "  <tbody>\n",
       "    <tr>\n",
       "      <th>73</th>\n",
       "      <td>609</td>\n",
       "      <td>351</td>\n",
       "      <td>ed1b84400241f3a3cf0028d136bebf5fc81f65fdcd048c...</td>\n",
       "      <td>M</td>\n",
       "      <td>23.0</td>\n",
       "      <td>202.0</td>\n",
       "      <td>104.0</td>\n",
       "      <td>United States</td>\n",
       "      <td>USA</td>\n",
       "      <td>2000 Summer</td>\n",
       "      <td>2000</td>\n",
       "      <td>Summer</td>\n",
       "      <td>Sydney</td>\n",
       "      <td>Basketball</td>\n",
       "      <td>Basketball Men's Basketball</td>\n",
       "      <td>Gold</td>\n",
       "    </tr>\n",
       "    <tr>\n",
       "      <th>122</th>\n",
       "      <td>1029</td>\n",
       "      <td>576</td>\n",
       "      <td>8a9f9c7379a7e8954319e5bbd888b9400c765c663f3feb...</td>\n",
       "      <td>M</td>\n",
       "      <td>23.0</td>\n",
       "      <td>198.0</td>\n",
       "      <td>93.0</td>\n",
       "      <td>Spain</td>\n",
       "      <td>ESP</td>\n",
       "      <td>2016 Summer</td>\n",
       "      <td>2016</td>\n",
       "      <td>Summer</td>\n",
       "      <td>Rio de Janeiro</td>\n",
       "      <td>Basketball</td>\n",
       "      <td>Basketball Men's Basketball</td>\n",
       "      <td>Bronze</td>\n",
       "    </tr>\n",
       "    <tr>\n",
       "      <th>124</th>\n",
       "      <td>1035</td>\n",
       "      <td>580</td>\n",
       "      <td>92f7e034d79851cf78387c82cabdb2edf994b4d6d68ea2...</td>\n",
       "      <td>F</td>\n",
       "      <td>28.0</td>\n",
       "      <td>188.0</td>\n",
       "      <td>77.0</td>\n",
       "      <td>Russia</td>\n",
       "      <td>RUS</td>\n",
       "      <td>2008 Summer</td>\n",
       "      <td>2008</td>\n",
       "      <td>Summer</td>\n",
       "      <td>Beijing</td>\n",
       "      <td>Basketball</td>\n",
       "      <td>Basketball Women's Basketball</td>\n",
       "      <td>Bronze</td>\n",
       "    </tr>\n",
       "    <tr>\n",
       "      <th>152</th>\n",
       "      <td>1293</td>\n",
       "      <td>727</td>\n",
       "      <td>c1b1ed4d9435ae0f960e3e8dc03d2fa768a2c853bea77c...</td>\n",
       "      <td>M</td>\n",
       "      <td>27.0</td>\n",
       "      <td>NaN</td>\n",
       "      <td>NaN</td>\n",
       "      <td>Uruguay</td>\n",
       "      <td>URU</td>\n",
       "      <td>1952 Summer</td>\n",
       "      <td>1952</td>\n",
       "      <td>Summer</td>\n",
       "      <td>Helsinki</td>\n",
       "      <td>Basketball</td>\n",
       "      <td>Basketball Men's Basketball</td>\n",
       "      <td>Bronze</td>\n",
       "    </tr>\n",
       "    <tr>\n",
       "      <th>206</th>\n",
       "      <td>1807</td>\n",
       "      <td>1000</td>\n",
       "      <td>7263a55acf8ab546e2e4262d4658ca8daf697e1b4eccf2...</td>\n",
       "      <td>M</td>\n",
       "      <td>26.0</td>\n",
       "      <td>202.0</td>\n",
       "      <td>100.0</td>\n",
       "      <td>Lithuania</td>\n",
       "      <td>LTU</td>\n",
       "      <td>2000 Summer</td>\n",
       "      <td>2000</td>\n",
       "      <td>Summer</td>\n",
       "      <td>Sydney</td>\n",
       "      <td>Basketball</td>\n",
       "      <td>Basketball Men's Basketball</td>\n",
       "      <td>Bronze</td>\n",
       "    </tr>\n",
       "    <tr>\n",
       "      <th>...</th>\n",
       "      <td>...</td>\n",
       "      <td>...</td>\n",
       "      <td>...</td>\n",
       "      <td>...</td>\n",
       "      <td>...</td>\n",
       "      <td>...</td>\n",
       "      <td>...</td>\n",
       "      <td>...</td>\n",
       "      <td>...</td>\n",
       "      <td>...</td>\n",
       "      <td>...</td>\n",
       "      <td>...</td>\n",
       "      <td>...</td>\n",
       "      <td>...</td>\n",
       "      <td>...</td>\n",
       "      <td>...</td>\n",
       "    </tr>\n",
       "    <tr>\n",
       "      <th>22802</th>\n",
       "      <td>270613</td>\n",
       "      <td>135345</td>\n",
       "      <td>58662432751c11bc9f6ed7aad29b6ffc563a633f9422c3...</td>\n",
       "      <td>M</td>\n",
       "      <td>19.0</td>\n",
       "      <td>202.0</td>\n",
       "      <td>88.0</td>\n",
       "      <td>Soviet Union</td>\n",
       "      <td>URS</td>\n",
       "      <td>1956 Summer</td>\n",
       "      <td>1956</td>\n",
       "      <td>Summer</td>\n",
       "      <td>Melbourne</td>\n",
       "      <td>Basketball</td>\n",
       "      <td>Basketball Men's Basketball</td>\n",
       "      <td>Silver</td>\n",
       "    </tr>\n",
       "    <tr>\n",
       "      <th>22803</th>\n",
       "      <td>270614</td>\n",
       "      <td>135345</td>\n",
       "      <td>58662432751c11bc9f6ed7aad29b6ffc563a633f9422c3...</td>\n",
       "      <td>M</td>\n",
       "      <td>23.0</td>\n",
       "      <td>202.0</td>\n",
       "      <td>88.0</td>\n",
       "      <td>Soviet Union</td>\n",
       "      <td>URS</td>\n",
       "      <td>1960 Summer</td>\n",
       "      <td>1960</td>\n",
       "      <td>Summer</td>\n",
       "      <td>Roma</td>\n",
       "      <td>Basketball</td>\n",
       "      <td>Basketball Men's Basketball</td>\n",
       "      <td>Silver</td>\n",
       "    </tr>\n",
       "    <tr>\n",
       "      <th>22816</th>\n",
       "      <td>270740</td>\n",
       "      <td>135401</td>\n",
       "      <td>cc6ea64e631e1c9b9a401872e98d8948b405cd0801ce09...</td>\n",
       "      <td>M</td>\n",
       "      <td>22.0</td>\n",
       "      <td>218.0</td>\n",
       "      <td>115.0</td>\n",
       "      <td>Lithuania</td>\n",
       "      <td>LTU</td>\n",
       "      <td>1996 Summer</td>\n",
       "      <td>1996</td>\n",
       "      <td>Summer</td>\n",
       "      <td>Atlanta</td>\n",
       "      <td>Basketball</td>\n",
       "      <td>Basketball Men's Basketball</td>\n",
       "      <td>Bronze</td>\n",
       "    </tr>\n",
       "    <tr>\n",
       "      <th>22817</th>\n",
       "      <td>270741</td>\n",
       "      <td>135401</td>\n",
       "      <td>cc6ea64e631e1c9b9a401872e98d8948b405cd0801ce09...</td>\n",
       "      <td>M</td>\n",
       "      <td>27.0</td>\n",
       "      <td>218.0</td>\n",
       "      <td>115.0</td>\n",
       "      <td>Lithuania</td>\n",
       "      <td>LTU</td>\n",
       "      <td>2000 Summer</td>\n",
       "      <td>2000</td>\n",
       "      <td>Summer</td>\n",
       "      <td>Sydney</td>\n",
       "      <td>Basketball</td>\n",
       "      <td>Basketball Men's Basketball</td>\n",
       "      <td>Bronze</td>\n",
       "    </tr>\n",
       "    <tr>\n",
       "      <th>22819</th>\n",
       "      <td>270743</td>\n",
       "      <td>135402</td>\n",
       "      <td>daef00596f384dbdd5a0e737eecb87ae3e9e3d6eea1f12...</td>\n",
       "      <td>M</td>\n",
       "      <td>20.0</td>\n",
       "      <td>201.0</td>\n",
       "      <td>100.0</td>\n",
       "      <td>Lithuania</td>\n",
       "      <td>LTU</td>\n",
       "      <td>1996 Summer</td>\n",
       "      <td>1996</td>\n",
       "      <td>Summer</td>\n",
       "      <td>Atlanta</td>\n",
       "      <td>Basketball</td>\n",
       "      <td>Basketball Men's Basketball</td>\n",
       "      <td>Bronze</td>\n",
       "    </tr>\n",
       "  </tbody>\n",
       "</table>\n",
       "<p>1080 rows × 16 columns</p>\n",
       "</div>"
      ],
      "text/plain": [
       "       Unnamed: 0      ID                                               Name  \\\n",
       "73            609     351  ed1b84400241f3a3cf0028d136bebf5fc81f65fdcd048c...   \n",
       "122          1029     576  8a9f9c7379a7e8954319e5bbd888b9400c765c663f3feb...   \n",
       "124          1035     580  92f7e034d79851cf78387c82cabdb2edf994b4d6d68ea2...   \n",
       "152          1293     727  c1b1ed4d9435ae0f960e3e8dc03d2fa768a2c853bea77c...   \n",
       "206          1807    1000  7263a55acf8ab546e2e4262d4658ca8daf697e1b4eccf2...   \n",
       "...           ...     ...                                                ...   \n",
       "22802      270613  135345  58662432751c11bc9f6ed7aad29b6ffc563a633f9422c3...   \n",
       "22803      270614  135345  58662432751c11bc9f6ed7aad29b6ffc563a633f9422c3...   \n",
       "22816      270740  135401  cc6ea64e631e1c9b9a401872e98d8948b405cd0801ce09...   \n",
       "22817      270741  135401  cc6ea64e631e1c9b9a401872e98d8948b405cd0801ce09...   \n",
       "22819      270743  135402  daef00596f384dbdd5a0e737eecb87ae3e9e3d6eea1f12...   \n",
       "\n",
       "      Sex   Age  Height  Weight           Team  NOC        Games  Year  \\\n",
       "73      M  23.0   202.0   104.0  United States  USA  2000 Summer  2000   \n",
       "122     M  23.0   198.0    93.0          Spain  ESP  2016 Summer  2016   \n",
       "124     F  28.0   188.0    77.0         Russia  RUS  2008 Summer  2008   \n",
       "152     M  27.0     NaN     NaN        Uruguay  URU  1952 Summer  1952   \n",
       "206     M  26.0   202.0   100.0      Lithuania  LTU  2000 Summer  2000   \n",
       "...    ..   ...     ...     ...            ...  ...          ...   ...   \n",
       "22802   M  19.0   202.0    88.0   Soviet Union  URS  1956 Summer  1956   \n",
       "22803   M  23.0   202.0    88.0   Soviet Union  URS  1960 Summer  1960   \n",
       "22816   M  22.0   218.0   115.0      Lithuania  LTU  1996 Summer  1996   \n",
       "22817   M  27.0   218.0   115.0      Lithuania  LTU  2000 Summer  2000   \n",
       "22819   M  20.0   201.0   100.0      Lithuania  LTU  1996 Summer  1996   \n",
       "\n",
       "       Season            City       Sport                          Event  \\\n",
       "73     Summer          Sydney  Basketball    Basketball Men's Basketball   \n",
       "122    Summer  Rio de Janeiro  Basketball    Basketball Men's Basketball   \n",
       "124    Summer         Beijing  Basketball  Basketball Women's Basketball   \n",
       "152    Summer        Helsinki  Basketball    Basketball Men's Basketball   \n",
       "206    Summer          Sydney  Basketball    Basketball Men's Basketball   \n",
       "...       ...             ...         ...                            ...   \n",
       "22802  Summer       Melbourne  Basketball    Basketball Men's Basketball   \n",
       "22803  Summer            Roma  Basketball    Basketball Men's Basketball   \n",
       "22816  Summer         Atlanta  Basketball    Basketball Men's Basketball   \n",
       "22817  Summer          Sydney  Basketball    Basketball Men's Basketball   \n",
       "22819  Summer         Atlanta  Basketball    Basketball Men's Basketball   \n",
       "\n",
       "        Medal  \n",
       "73       Gold  \n",
       "122    Bronze  \n",
       "124    Bronze  \n",
       "152    Bronze  \n",
       "206    Bronze  \n",
       "...       ...  \n",
       "22802  Silver  \n",
       "22803  Silver  \n",
       "22816  Bronze  \n",
       "22817  Bronze  \n",
       "22819  Bronze  \n",
       "\n",
       "[1080 rows x 16 columns]"
      ]
     },
     "execution_count": 13,
     "metadata": {},
     "output_type": "execute_result"
    }
   ],
   "source": [
    "# remove all nan rows in the Medal column\n",
    "df_basketball = df_basketball[df_basketball[\"Medal\"].notna()]\n",
    "df_basketball"
   ]
  },
  {
   "cell_type": "markdown",
   "metadata": {},
   "source": [
    "Since we are doing analysis on each sport separately, we're going to tackle each missing value in every sport accordingly. Because the proportion may vary from sport to sport."
   ]
  },
  {
   "cell_type": "code",
   "execution_count": 14,
   "metadata": {},
   "outputs": [
    {
     "name": "stdout",
     "output_type": "stream",
     "text": [
      "The percentage of missing values in Height column is 5.19%\n",
      "The percentage of missing values in Weight column is 7.41%\n"
     ]
    }
   ],
   "source": [
    "# get the percentage of height and weight missing values\n",
    "print(f\"The percentage of missing values in Height column is {round(df_basketball['Height'].isnull().sum()/len(df_basketball['Height'])*100, 2)}%\")\n",
    "print(f\"The percentage of missing values in Weight column is {round(df_basketball['Weight'].isnull().sum()/len(df_basketball['Weight'])*100, 2)}%\")"
   ]
  },
  {
   "cell_type": "code",
   "execution_count": 15,
   "metadata": {},
   "outputs": [],
   "source": [
    "# replace all nan values in height and weight with the mean\n",
    "# df_basketball[\"Height\"].fillna(df_basketball[\"Height\"].mean(), inplace=True)\n",
    "# df_basketball[\"Weight\"].fillna(df_basketball[\"Weight\"].mean(), inplace=True)\n",
    "\n",
    "# # convert height and weight to int\n",
    "# df_basketball[\"Height\"] = df_basketball[\"Height\"].astype(int)\n",
    "# df_basketball[\"Weight\"] = df_basketball[\"Weight\"].astype(int)"
   ]
  },
  {
   "cell_type": "code",
   "execution_count": 16,
   "metadata": {},
   "outputs": [
    {
     "data": {
      "application/vnd.plotly.v1+json": {
       "config": {
        "plotlyServerURL": "https://plot.ly"
       },
       "data": [
        {
         "alignmentgroup": "True",
         "bingroup": "x",
         "hovertemplate": "Medal=Gold<br>Team=%{x}<br>count=%{y}<extra></extra>",
         "legendgroup": "Gold",
         "marker": {
          "color": "gold",
          "pattern": {
           "shape": ""
          }
         },
         "name": "Gold",
         "offsetgroup": "Gold",
         "orientation": "v",
         "showlegend": true,
         "type": "histogram",
         "x": [
          "United States",
          "United States",
          "United States",
          "United States",
          "United States",
          "United States",
          "United States",
          "United States",
          "United States",
          "United States",
          "United States",
          "United States",
          "United States",
          "United States",
          "Unified Team",
          "United States",
          "United States",
          "United States",
          "United States",
          "United States",
          "United States",
          "United States",
          "Soviet Union",
          "Soviet Union",
          "United States",
          "United States",
          "United States",
          "Soviet Union",
          "Soviet Union",
          "Soviet Union",
          "Soviet Union",
          "United States",
          "United States",
          "United States",
          "United States",
          "United States",
          "United States",
          "Soviet Union",
          "United States",
          "United States",
          "United States",
          "United States",
          "United States",
          "United States",
          "United States",
          "United States",
          "United States",
          "United States",
          "United States",
          "United States",
          "United States",
          "United States",
          "United States",
          "United States",
          "Unified Team",
          "United States",
          "United States",
          "United States",
          "United States",
          "United States",
          "United States",
          "United States",
          "United States",
          "United States",
          "United States",
          "United States",
          "United States",
          "United States",
          "United States",
          "United States",
          "Soviet Union",
          "United States",
          "United States",
          "Yugoslavia",
          "United States",
          "United States",
          "United States",
          "Yugoslavia",
          "United States",
          "United States",
          "Soviet Union",
          "United States",
          "United States",
          "United States",
          "United States",
          "Argentina",
          "Yugoslavia",
          "United States",
          "United States",
          "United States",
          "United States",
          "United States",
          "United States",
          "United States",
          "United States",
          "Soviet Union",
          "United States",
          "United States",
          "United States",
          "United States",
          "United States",
          "United States",
          "United States",
          "United States",
          "Argentina",
          "Soviet Union",
          "Soviet Union",
          "United States",
          "United States",
          "United States",
          "United States",
          "United States",
          "United States",
          "United States",
          "United States",
          "United States",
          "United States",
          "United States",
          "Unified Team",
          "United States",
          "United States",
          "Argentina",
          "United States",
          "United States",
          "United States",
          "United States",
          "United States",
          "United States",
          "United States",
          "United States",
          "Argentina",
          "United States",
          "United States",
          "United States",
          "United States",
          "United States",
          "United States",
          "United States",
          "United States",
          "Argentina",
          "United States",
          "United States",
          "Soviet Union",
          "United States",
          "United States",
          "United States",
          "United States",
          "United States",
          "United States",
          "United States",
          "United States",
          "United States",
          "Soviet Union",
          "United States",
          "United States",
          "United States",
          "United States",
          "Yugoslavia",
          "United States",
          "United States",
          "United States",
          "United States",
          "United States",
          "United States",
          "United States",
          "United States",
          "United States",
          "United States",
          "United States",
          "United States",
          "United States",
          "Unified Team",
          "Yugoslavia",
          "United States",
          "United States",
          "United States",
          "United States",
          "Soviet Union",
          "Yugoslavia",
          "United States",
          "United States",
          "Soviet Union",
          "Soviet Union",
          "Yugoslavia",
          "United States",
          "United States",
          "United States",
          "Soviet Union",
          "Soviet Union",
          "United States",
          "United States",
          "United States",
          "United States",
          "United States",
          "United States",
          "United States",
          "United States",
          "United States",
          "United States",
          "United States",
          "United States",
          "United States",
          "United States",
          "United States",
          "United States",
          "United States",
          "United States",
          "United States",
          "United States",
          "United States",
          "Soviet Union",
          "United States",
          "United States",
          "United States",
          "United States",
          "United States",
          "United States",
          "United States",
          "United States",
          "United States",
          "United States",
          "United States",
          "United States",
          "United States",
          "United States",
          "Soviet Union",
          "United States",
          "United States",
          "United States",
          "United States",
          "Unified Team",
          "United States",
          "Argentina",
          "United States",
          "United States",
          "United States",
          "United States",
          "United States",
          "United States",
          "United States",
          "Yugoslavia",
          "United States",
          "Argentina",
          "Argentina",
          "United States",
          "United States",
          "Soviet Union",
          "Soviet Union",
          "Soviet Union",
          "United States",
          "United States",
          "United States",
          "United States",
          "Soviet Union",
          "United States",
          "United States",
          "United States",
          "United States",
          "United States",
          "United States",
          "United States",
          "United States",
          "Soviet Union",
          "United States",
          "United States",
          "Yugoslavia",
          "United States",
          "United States",
          "United States",
          "United States",
          "United States",
          "United States",
          "United States",
          "United States",
          "United States",
          "United States",
          "Soviet Union",
          "United States",
          "Soviet Union",
          "Soviet Union",
          "United States",
          "Soviet Union",
          "Soviet Union",
          "Argentina",
          "United States",
          "United States",
          "Argentina",
          "Argentina",
          "United States",
          "Soviet Union",
          "Soviet Union",
          "Soviet Union",
          "United States",
          "United States",
          "Soviet Union",
          "Soviet Union",
          "Unified Team",
          "United States",
          "United States",
          "Yugoslavia",
          "Yugoslavia",
          "United States",
          "United States",
          "United States",
          "United States",
          "United States",
          "Soviet Union",
          "United States",
          "United States",
          "United States",
          "United States",
          "United States",
          "United States",
          "United States",
          "United States",
          "Soviet Union",
          "Soviet Union",
          "Unified Team",
          "United States",
          "United States",
          "United States",
          "United States",
          "Soviet Union",
          "United States",
          "United States",
          "United States",
          "United States",
          "United States",
          "United States",
          "United States",
          "Soviet Union",
          "United States",
          "Unified Team",
          "United States",
          "Unified Team",
          "United States",
          "Soviet Union",
          "Soviet Union",
          "United States",
          "United States",
          "United States",
          "United States",
          "United States",
          "United States",
          "United States",
          "United States",
          "United States",
          "United States",
          "United States",
          "United States",
          "United States",
          "United States",
          "Argentina",
          "United States",
          "United States",
          "United States",
          "Soviet Union",
          "Unified Team",
          "Soviet Union",
          "Soviet Union",
          "Soviet Union",
          "Unified Team",
          "Soviet Union",
          "Unified Team",
          "Yugoslavia"
         ],
         "xaxis": "x",
         "yaxis": "y"
        },
        {
         "alignmentgroup": "True",
         "bingroup": "x",
         "hovertemplate": "Medal=Silver<br>Team=%{x}<br>count=%{y}<extra></extra>",
         "legendgroup": "Silver",
         "marker": {
          "color": "silver",
          "pattern": {
           "shape": ""
          }
         },
         "name": "Silver",
         "offsetgroup": "Silver",
         "orientation": "v",
         "showlegend": true,
         "type": "histogram",
         "x": [
          "Brazil",
          "Canada",
          "Soviet Union",
          "Croatia",
          "Brazil",
          "Canada",
          "Yugoslavia",
          "Croatia",
          "Yugoslavia",
          "Spain",
          "Soviet Union",
          "Yugoslavia",
          "United States",
          "France",
          "Italy",
          "Australia",
          "Australia",
          "France",
          "Spain",
          "Serbia and Montenegro",
          "Australia",
          "France",
          "Serbia",
          "Soviet Union",
          "Serbia and Montenegro",
          "Bulgaria",
          "Serbia",
          "Italy",
          "France",
          "France",
          "Australia",
          "Brazil",
          "United States",
          "Australia",
          "United States",
          "Australia",
          "Australia",
          "Italy",
          "France",
          "Italy",
          "United States",
          "Soviet Union",
          "Spain",
          "Spain",
          "Yugoslavia",
          "Canada",
          "Canada",
          "Italy",
          "France",
          "South Korea",
          "South Korea",
          "Brazil",
          "Brazil",
          "Spain",
          "United States",
          "China",
          "Australia",
          "Spain",
          "Yugoslavia",
          "Yugoslavia",
          "Australia",
          "Spain",
          "Yugoslavia",
          "Yugoslavia",
          "Yugoslavia",
          "Croatia",
          "Yugoslavia",
          "Yugoslavia",
          "Serbia and Montenegro",
          "United States",
          "Canada",
          "Spain",
          "Yugoslavia",
          "Italy",
          "France",
          "Bulgaria",
          "France",
          "France",
          "Bulgaria",
          "France",
          "Yugoslavia",
          "Serbia and Montenegro",
          "Spain",
          "Yugoslavia",
          "Serbia and Montenegro",
          "France",
          "United States",
          "France",
          "Australia",
          "Australia",
          "Spain",
          "Spain",
          "France",
          "United States",
          "France",
          "Italy",
          "Spain",
          "Italy",
          "Spain",
          "Spain",
          "Spain",
          "Spain",
          "Italy",
          "Yugoslavia",
          "Bulgaria",
          "Spain",
          "Italy",
          "France",
          "France",
          "Bulgaria",
          "Yugoslavia",
          "France",
          "Australia",
          "Croatia",
          "Australia",
          "France",
          "France",
          "United States",
          "Australia",
          "Australia",
          "Australia",
          "China",
          "United States",
          "United States",
          "Australia",
          "Brazil",
          "Spain",
          "Australia",
          "Australia",
          "Australia",
          "Brazil",
          "Yugoslavia",
          "South Korea",
          "Yugoslavia",
          "Spain",
          "Spain",
          "Serbia",
          "United States",
          "United States",
          "Soviet Union",
          "Serbia",
          "United States",
          "France",
          "Serbia",
          "Soviet Union",
          "Soviet Union",
          "Yugoslavia",
          "South Korea",
          "South Korea",
          "South Korea",
          "Yugoslavia",
          "Croatia",
          "Soviet Union",
          "Yugoslavia",
          "Soviet Union",
          "Soviet Union",
          "Soviet Union",
          "Soviet Union",
          "Soviet Union",
          "Soviet Union",
          "Soviet Union",
          "Yugoslavia",
          "Croatia",
          "Soviet Union",
          "Yugoslavia",
          "Australia",
          "France",
          "Soviet Union",
          "Yugoslavia",
          "Soviet Union",
          "France",
          "South Korea",
          "South Korea",
          "Brazil",
          "Yugoslavia",
          "France",
          "United States",
          "China",
          "China",
          "United States",
          "Soviet Union",
          "China",
          "China",
          "Spain",
          "Spain",
          "Serbia and Montenegro",
          "Spain",
          "Spain",
          "Soviet Union",
          "Serbia",
          "Bulgaria",
          "Italy",
          "Spain",
          "Serbia",
          "Yugoslavia",
          "United States",
          "Spain",
          "Italy",
          "United States",
          "Italy",
          "Canada",
          "Bulgaria",
          "United States",
          "Italy",
          "Bulgaria",
          "Bulgaria",
          "Yugoslavia",
          "Soviet Union",
          "France",
          "Soviet Union",
          "South Korea",
          "Soviet Union",
          "Soviet Union",
          "Soviet Union",
          "Soviet Union",
          "Yugoslavia",
          "Spain",
          "Croatia",
          "Yugoslavia",
          "Spain",
          "Spain",
          "France",
          "Spain",
          "Serbia",
          "Spain",
          "Serbia and Montenegro",
          "Yugoslavia",
          "United States",
          "France",
          "Soviet Union",
          "Soviet Union",
          "Soviet Union",
          "Spain",
          "France",
          "South Korea",
          "Spain",
          "Yugoslavia",
          "Serbia and Montenegro",
          "Brazil",
          "Canada",
          "China",
          "Croatia",
          "France",
          "Soviet Union",
          "Soviet Union",
          "Soviet Union",
          "Soviet Union",
          "Yugoslavia",
          "Croatia",
          "Australia",
          "Yugoslavia",
          "Australia",
          "Australia",
          "Italy",
          "France",
          "Spain",
          "Bulgaria",
          "Serbia",
          "Italy",
          "Yugoslavia",
          "Yugoslavia",
          "Australia",
          "United States",
          "Yugoslavia",
          "Yugoslavia",
          "Croatia",
          "Serbia and Montenegro",
          "France",
          "Spain",
          "Spain",
          "France",
          "Italy",
          "France",
          "United States",
          "Spain",
          "Spain",
          "Spain",
          "United States",
          "Spain",
          "Italy",
          "Spain",
          "Brazil",
          "Spain",
          "Italy",
          "Spain",
          "Spain",
          "Spain",
          "Serbia and Montenegro",
          "France",
          "Australia",
          "Soviet Union",
          "Soviet Union",
          "South Korea",
          "Brazil",
          "Serbia",
          "United States",
          "Yugoslavia",
          "Bulgaria",
          "Yugoslavia",
          "Australia",
          "Australia",
          "Brazil",
          "Italy",
          "Yugoslavia",
          "Yugoslavia",
          "Spain",
          "France",
          "Italy",
          "Australia",
          "Australia",
          "Canada",
          "Serbia",
          "Soviet Union",
          "Soviet Union",
          "Bulgaria",
          "Soviet Union",
          "Australia",
          "Australia",
          "Italy",
          "Croatia",
          "Australia",
          "Australia",
          "Serbia",
          "France",
          "Australia",
          "Serbia and Montenegro",
          "Serbia and Montenegro",
          "Soviet Union",
          "Spain",
          "Soviet Union",
          "Soviet Union",
          "Soviet Union",
          "Soviet Union",
          "Soviet Union",
          "Soviet Union",
          "Yugoslavia",
          "Yugoslavia",
          "Italy",
          "Yugoslavia",
          "Italy",
          "Soviet Union",
          "Soviet Union",
          "Soviet Union",
          "Yugoslavia",
          "Croatia",
          "China",
          "France",
          "Australia",
          "Canada",
          "Spain",
          "France",
          "Yugoslavia",
          "China",
          "China",
          "China",
          "Yugoslavia",
          "Yugoslavia",
          "Soviet Union",
          "Soviet Union"
         ],
         "xaxis": "x",
         "yaxis": "y"
        },
        {
         "alignmentgroup": "True",
         "bingroup": "x",
         "hovertemplate": "Medal=Bronze<br>Team=%{x}<br>count=%{y}<extra></extra>",
         "legendgroup": "Bronze",
         "marker": {
          "color": "brown",
          "pattern": {
           "shape": ""
          }
         },
         "name": "Bronze",
         "offsetgroup": "Bronze",
         "orientation": "v",
         "showlegend": true,
         "type": "histogram",
         "x": [
          "Spain",
          "Russia",
          "Uruguay",
          "Lithuania",
          "Brazil",
          "Brazil",
          "Brazil",
          "Brazil",
          "Brazil",
          "Cuba",
          "Brazil",
          "Brazil",
          "United States",
          "Soviet Union",
          "United States",
          "Russia",
          "Russia",
          "Russia",
          "Soviet Union",
          "United States",
          "China",
          "Uruguay",
          "Russia",
          "Soviet Union",
          "Australia",
          "Yugoslavia",
          "Soviet Union",
          "Soviet Union",
          "Soviet Union",
          "Soviet Union",
          "Soviet Union",
          "Brazil",
          "Australia",
          "Yugoslavia",
          "Brazil",
          "Brazil",
          "Uruguay",
          "Brazil",
          "Bulgaria",
          "United States",
          "Uruguay",
          "Mexico",
          "Mexico",
          "Australia",
          "Brazil",
          "Lithuania",
          "Australia",
          "Australia",
          "United States",
          "Soviet Union",
          "Serbia",
          "Spain",
          "Cuba",
          "Australia",
          "Cuba",
          "Serbia",
          "Australia",
          "Cuba",
          "United States",
          "Uruguay",
          "China",
          "Lithuania",
          "Mexico",
          "Uruguay",
          "Brazil",
          "Brazil",
          "Spain",
          "United States",
          "China",
          "Australia",
          "United States",
          "Uruguay",
          "Uruguay",
          "Uruguay",
          "Serbia",
          "Brazil",
          "Serbia",
          "Serbia",
          "Yugoslavia",
          "United States",
          "Brazil",
          "Mexico",
          "Argentina",
          "Uruguay",
          "Uruguay",
          "Soviet Union",
          "Yugoslavia",
          "Brazil",
          "Bulgaria",
          "Lithuania",
          "United States",
          "Cuba",
          "United States",
          "Yugoslavia",
          "Yugoslavia",
          "Brazil",
          "Brazil",
          "United States",
          "Lithuania",
          "Lithuania",
          "Lithuania",
          "Brazil",
          "Australia",
          "Mexico",
          "Spain",
          "Brazil",
          "Russia",
          "Brazil",
          "Uruguay",
          "Uruguay",
          "Spain",
          "Brazil",
          "Soviet Union",
          "Lithuania",
          "Argentina",
          "Bulgaria",
          "Mexico",
          "Uruguay",
          "Argentina",
          "Australia",
          "United States",
          "Russia",
          "Argentina",
          "Argentina",
          "Bulgaria",
          "Yugoslavia",
          "Russia",
          "Australia",
          "United States",
          "Brazil",
          "Mexico",
          "Spain",
          "Cuba",
          "Cuba",
          "United States",
          "Australia",
          "United States",
          "United States",
          "Brazil",
          "Australia",
          "Lithuania",
          "Brazil",
          "Brazil",
          "United States",
          "United States",
          "Soviet Union",
          "Lithuania",
          "Serbia",
          "Russia",
          "Argentina",
          "Soviet Union",
          "Russia",
          "Lithuania",
          "Lithuania",
          "Russia",
          "Russia",
          "Russia",
          "Brazil",
          "Russia",
          "Soviet Union",
          "Russia",
          "Russia",
          "Yugoslavia",
          "Yugoslavia",
          "Soviet Union",
          "Russia",
          "Russia",
          "Soviet Union",
          "Lithuania",
          "Soviet Union",
          "Serbia",
          "Lithuania",
          "Lithuania",
          "Russia",
          "Soviet Union",
          "China",
          "Brazil",
          "Soviet Union",
          "Russia",
          "China",
          "Spain",
          "Uruguay",
          "Soviet Union",
          "Uruguay",
          "Lithuania",
          "Australia",
          "Australia",
          "United States",
          "Yugoslavia",
          "Bulgaria",
          "Soviet Union",
          "United States",
          "United States",
          "Lithuania",
          "Lithuania",
          "Lithuania",
          "United States",
          "Brazil",
          "Brazil",
          "Brazil",
          "Mexico",
          "Lithuania",
          "Lithuania",
          "Uruguay",
          "Uruguay",
          "United States",
          "United States",
          "Uruguay",
          "Bulgaria",
          "Bulgaria",
          "Soviet Union",
          "Soviet Union",
          "Serbia",
          "Soviet Union",
          "Spain",
          "Brazil",
          "Yugoslavia",
          "Uruguay",
          "Russia",
          "Brazil",
          "Brazil",
          "Russia",
          "Yugoslavia",
          "Soviet Union",
          "Soviet Union",
          "Yugoslavia",
          "Spain",
          "Argentina",
          "Argentina",
          "United States",
          "Australia",
          "United States",
          "Uruguay",
          "Mexico",
          "United States",
          "Russia",
          "Russia",
          "Yugoslavia",
          "Lithuania",
          "Brazil",
          "Serbia",
          "Mexico",
          "Soviet Union",
          "Lithuania",
          "Yugoslavia",
          "Uruguay",
          "Yugoslavia",
          "Cuba",
          "Yugoslavia",
          "Yugoslavia",
          "Serbia",
          "Soviet Union",
          "Russia",
          "Argentina",
          "Argentina",
          "China",
          "Argentina",
          "Serbia",
          "Yugoslavia",
          "Russia",
          "Russia",
          "United States",
          "Spain",
          "Australia",
          "United States",
          "United States",
          "Australia",
          "Cuba",
          "Spain",
          "Brazil",
          "Brazil",
          "Uruguay",
          "Spain",
          "Lithuania",
          "Lithuania",
          "Soviet Union",
          "Soviet Union",
          "Soviet Union",
          "Soviet Union",
          "Uruguay",
          "Argentina",
          "Australia",
          "Soviet Union",
          "Brazil",
          "Russia",
          "Russia",
          "Bulgaria",
          "Russia",
          "Brazil",
          "Brazil",
          "Lithuania",
          "Bulgaria",
          "Mexico",
          "United States",
          "United States",
          "Australia",
          "Brazil",
          "Russia",
          "China",
          "Lithuania",
          "Brazil",
          "Australia",
          "Cuba",
          "Serbia",
          "Russia",
          "Russia",
          "Lithuania",
          "Lithuania",
          "United States",
          "Bulgaria",
          "Bulgaria",
          "Brazil",
          "Brazil",
          "Australia",
          "Soviet Union",
          "Yugoslavia",
          "Soviet Union",
          "Lithuania",
          "Australia",
          "Soviet Union",
          "Soviet Union",
          "Soviet Union",
          "Yugoslavia",
          "Soviet Union",
          "Cuba",
          "Lithuania",
          "Cuba",
          "Lithuania",
          "Russia",
          "Russia",
          "Soviet Union",
          "Russia",
          "Yugoslavia",
          "United States",
          "China",
          "United States",
          "Australia",
          "China",
          "Soviet Union",
          "Soviet Union",
          "Soviet Union",
          "Soviet Union",
          "Bulgaria",
          "Brazil",
          "Soviet Union",
          "China",
          "China",
          "Soviet Union",
          "China",
          "Soviet Union",
          "Soviet Union",
          "Yugoslavia",
          "Yugoslavia",
          "Lithuania",
          "Lithuania",
          "Lithuania"
         ],
         "xaxis": "x",
         "yaxis": "y"
        }
       ],
       "layout": {
        "barmode": "group",
        "legend": {
         "title": {
          "text": "Medal"
         },
         "tracegroupgap": 0
        },
        "template": {
         "data": {
          "bar": [
           {
            "error_x": {
             "color": "#2a3f5f"
            },
            "error_y": {
             "color": "#2a3f5f"
            },
            "marker": {
             "line": {
              "color": "#E5ECF6",
              "width": 0.5
             },
             "pattern": {
              "fillmode": "overlay",
              "size": 10,
              "solidity": 0.2
             }
            },
            "type": "bar"
           }
          ],
          "barpolar": [
           {
            "marker": {
             "line": {
              "color": "#E5ECF6",
              "width": 0.5
             },
             "pattern": {
              "fillmode": "overlay",
              "size": 10,
              "solidity": 0.2
             }
            },
            "type": "barpolar"
           }
          ],
          "carpet": [
           {
            "aaxis": {
             "endlinecolor": "#2a3f5f",
             "gridcolor": "white",
             "linecolor": "white",
             "minorgridcolor": "white",
             "startlinecolor": "#2a3f5f"
            },
            "baxis": {
             "endlinecolor": "#2a3f5f",
             "gridcolor": "white",
             "linecolor": "white",
             "minorgridcolor": "white",
             "startlinecolor": "#2a3f5f"
            },
            "type": "carpet"
           }
          ],
          "choropleth": [
           {
            "colorbar": {
             "outlinewidth": 0,
             "ticks": ""
            },
            "type": "choropleth"
           }
          ],
          "contour": [
           {
            "colorbar": {
             "outlinewidth": 0,
             "ticks": ""
            },
            "colorscale": [
             [
              0,
              "#0d0887"
             ],
             [
              0.1111111111111111,
              "#46039f"
             ],
             [
              0.2222222222222222,
              "#7201a8"
             ],
             [
              0.3333333333333333,
              "#9c179e"
             ],
             [
              0.4444444444444444,
              "#bd3786"
             ],
             [
              0.5555555555555556,
              "#d8576b"
             ],
             [
              0.6666666666666666,
              "#ed7953"
             ],
             [
              0.7777777777777778,
              "#fb9f3a"
             ],
             [
              0.8888888888888888,
              "#fdca26"
             ],
             [
              1,
              "#f0f921"
             ]
            ],
            "type": "contour"
           }
          ],
          "contourcarpet": [
           {
            "colorbar": {
             "outlinewidth": 0,
             "ticks": ""
            },
            "type": "contourcarpet"
           }
          ],
          "heatmap": [
           {
            "colorbar": {
             "outlinewidth": 0,
             "ticks": ""
            },
            "colorscale": [
             [
              0,
              "#0d0887"
             ],
             [
              0.1111111111111111,
              "#46039f"
             ],
             [
              0.2222222222222222,
              "#7201a8"
             ],
             [
              0.3333333333333333,
              "#9c179e"
             ],
             [
              0.4444444444444444,
              "#bd3786"
             ],
             [
              0.5555555555555556,
              "#d8576b"
             ],
             [
              0.6666666666666666,
              "#ed7953"
             ],
             [
              0.7777777777777778,
              "#fb9f3a"
             ],
             [
              0.8888888888888888,
              "#fdca26"
             ],
             [
              1,
              "#f0f921"
             ]
            ],
            "type": "heatmap"
           }
          ],
          "heatmapgl": [
           {
            "colorbar": {
             "outlinewidth": 0,
             "ticks": ""
            },
            "colorscale": [
             [
              0,
              "#0d0887"
             ],
             [
              0.1111111111111111,
              "#46039f"
             ],
             [
              0.2222222222222222,
              "#7201a8"
             ],
             [
              0.3333333333333333,
              "#9c179e"
             ],
             [
              0.4444444444444444,
              "#bd3786"
             ],
             [
              0.5555555555555556,
              "#d8576b"
             ],
             [
              0.6666666666666666,
              "#ed7953"
             ],
             [
              0.7777777777777778,
              "#fb9f3a"
             ],
             [
              0.8888888888888888,
              "#fdca26"
             ],
             [
              1,
              "#f0f921"
             ]
            ],
            "type": "heatmapgl"
           }
          ],
          "histogram": [
           {
            "marker": {
             "pattern": {
              "fillmode": "overlay",
              "size": 10,
              "solidity": 0.2
             }
            },
            "type": "histogram"
           }
          ],
          "histogram2d": [
           {
            "colorbar": {
             "outlinewidth": 0,
             "ticks": ""
            },
            "colorscale": [
             [
              0,
              "#0d0887"
             ],
             [
              0.1111111111111111,
              "#46039f"
             ],
             [
              0.2222222222222222,
              "#7201a8"
             ],
             [
              0.3333333333333333,
              "#9c179e"
             ],
             [
              0.4444444444444444,
              "#bd3786"
             ],
             [
              0.5555555555555556,
              "#d8576b"
             ],
             [
              0.6666666666666666,
              "#ed7953"
             ],
             [
              0.7777777777777778,
              "#fb9f3a"
             ],
             [
              0.8888888888888888,
              "#fdca26"
             ],
             [
              1,
              "#f0f921"
             ]
            ],
            "type": "histogram2d"
           }
          ],
          "histogram2dcontour": [
           {
            "colorbar": {
             "outlinewidth": 0,
             "ticks": ""
            },
            "colorscale": [
             [
              0,
              "#0d0887"
             ],
             [
              0.1111111111111111,
              "#46039f"
             ],
             [
              0.2222222222222222,
              "#7201a8"
             ],
             [
              0.3333333333333333,
              "#9c179e"
             ],
             [
              0.4444444444444444,
              "#bd3786"
             ],
             [
              0.5555555555555556,
              "#d8576b"
             ],
             [
              0.6666666666666666,
              "#ed7953"
             ],
             [
              0.7777777777777778,
              "#fb9f3a"
             ],
             [
              0.8888888888888888,
              "#fdca26"
             ],
             [
              1,
              "#f0f921"
             ]
            ],
            "type": "histogram2dcontour"
           }
          ],
          "mesh3d": [
           {
            "colorbar": {
             "outlinewidth": 0,
             "ticks": ""
            },
            "type": "mesh3d"
           }
          ],
          "parcoords": [
           {
            "line": {
             "colorbar": {
              "outlinewidth": 0,
              "ticks": ""
             }
            },
            "type": "parcoords"
           }
          ],
          "pie": [
           {
            "automargin": true,
            "type": "pie"
           }
          ],
          "scatter": [
           {
            "fillpattern": {
             "fillmode": "overlay",
             "size": 10,
             "solidity": 0.2
            },
            "type": "scatter"
           }
          ],
          "scatter3d": [
           {
            "line": {
             "colorbar": {
              "outlinewidth": 0,
              "ticks": ""
             }
            },
            "marker": {
             "colorbar": {
              "outlinewidth": 0,
              "ticks": ""
             }
            },
            "type": "scatter3d"
           }
          ],
          "scattercarpet": [
           {
            "marker": {
             "colorbar": {
              "outlinewidth": 0,
              "ticks": ""
             }
            },
            "type": "scattercarpet"
           }
          ],
          "scattergeo": [
           {
            "marker": {
             "colorbar": {
              "outlinewidth": 0,
              "ticks": ""
             }
            },
            "type": "scattergeo"
           }
          ],
          "scattergl": [
           {
            "marker": {
             "colorbar": {
              "outlinewidth": 0,
              "ticks": ""
             }
            },
            "type": "scattergl"
           }
          ],
          "scattermapbox": [
           {
            "marker": {
             "colorbar": {
              "outlinewidth": 0,
              "ticks": ""
             }
            },
            "type": "scattermapbox"
           }
          ],
          "scatterpolar": [
           {
            "marker": {
             "colorbar": {
              "outlinewidth": 0,
              "ticks": ""
             }
            },
            "type": "scatterpolar"
           }
          ],
          "scatterpolargl": [
           {
            "marker": {
             "colorbar": {
              "outlinewidth": 0,
              "ticks": ""
             }
            },
            "type": "scatterpolargl"
           }
          ],
          "scatterternary": [
           {
            "marker": {
             "colorbar": {
              "outlinewidth": 0,
              "ticks": ""
             }
            },
            "type": "scatterternary"
           }
          ],
          "surface": [
           {
            "colorbar": {
             "outlinewidth": 0,
             "ticks": ""
            },
            "colorscale": [
             [
              0,
              "#0d0887"
             ],
             [
              0.1111111111111111,
              "#46039f"
             ],
             [
              0.2222222222222222,
              "#7201a8"
             ],
             [
              0.3333333333333333,
              "#9c179e"
             ],
             [
              0.4444444444444444,
              "#bd3786"
             ],
             [
              0.5555555555555556,
              "#d8576b"
             ],
             [
              0.6666666666666666,
              "#ed7953"
             ],
             [
              0.7777777777777778,
              "#fb9f3a"
             ],
             [
              0.8888888888888888,
              "#fdca26"
             ],
             [
              1,
              "#f0f921"
             ]
            ],
            "type": "surface"
           }
          ],
          "table": [
           {
            "cells": {
             "fill": {
              "color": "#EBF0F8"
             },
             "line": {
              "color": "white"
             }
            },
            "header": {
             "fill": {
              "color": "#C8D4E3"
             },
             "line": {
              "color": "white"
             }
            },
            "type": "table"
           }
          ]
         },
         "layout": {
          "annotationdefaults": {
           "arrowcolor": "#2a3f5f",
           "arrowhead": 0,
           "arrowwidth": 1
          },
          "autotypenumbers": "strict",
          "coloraxis": {
           "colorbar": {
            "outlinewidth": 0,
            "ticks": ""
           }
          },
          "colorscale": {
           "diverging": [
            [
             0,
             "#8e0152"
            ],
            [
             0.1,
             "#c51b7d"
            ],
            [
             0.2,
             "#de77ae"
            ],
            [
             0.3,
             "#f1b6da"
            ],
            [
             0.4,
             "#fde0ef"
            ],
            [
             0.5,
             "#f7f7f7"
            ],
            [
             0.6,
             "#e6f5d0"
            ],
            [
             0.7,
             "#b8e186"
            ],
            [
             0.8,
             "#7fbc41"
            ],
            [
             0.9,
             "#4d9221"
            ],
            [
             1,
             "#276419"
            ]
           ],
           "sequential": [
            [
             0,
             "#0d0887"
            ],
            [
             0.1111111111111111,
             "#46039f"
            ],
            [
             0.2222222222222222,
             "#7201a8"
            ],
            [
             0.3333333333333333,
             "#9c179e"
            ],
            [
             0.4444444444444444,
             "#bd3786"
            ],
            [
             0.5555555555555556,
             "#d8576b"
            ],
            [
             0.6666666666666666,
             "#ed7953"
            ],
            [
             0.7777777777777778,
             "#fb9f3a"
            ],
            [
             0.8888888888888888,
             "#fdca26"
            ],
            [
             1,
             "#f0f921"
            ]
           ],
           "sequentialminus": [
            [
             0,
             "#0d0887"
            ],
            [
             0.1111111111111111,
             "#46039f"
            ],
            [
             0.2222222222222222,
             "#7201a8"
            ],
            [
             0.3333333333333333,
             "#9c179e"
            ],
            [
             0.4444444444444444,
             "#bd3786"
            ],
            [
             0.5555555555555556,
             "#d8576b"
            ],
            [
             0.6666666666666666,
             "#ed7953"
            ],
            [
             0.7777777777777778,
             "#fb9f3a"
            ],
            [
             0.8888888888888888,
             "#fdca26"
            ],
            [
             1,
             "#f0f921"
            ]
           ]
          },
          "colorway": [
           "#636efa",
           "#EF553B",
           "#00cc96",
           "#ab63fa",
           "#FFA15A",
           "#19d3f3",
           "#FF6692",
           "#B6E880",
           "#FF97FF",
           "#FECB52"
          ],
          "font": {
           "color": "#2a3f5f"
          },
          "geo": {
           "bgcolor": "white",
           "lakecolor": "white",
           "landcolor": "#E5ECF6",
           "showlakes": true,
           "showland": true,
           "subunitcolor": "white"
          },
          "hoverlabel": {
           "align": "left"
          },
          "hovermode": "closest",
          "mapbox": {
           "style": "light"
          },
          "paper_bgcolor": "white",
          "plot_bgcolor": "#E5ECF6",
          "polar": {
           "angularaxis": {
            "gridcolor": "white",
            "linecolor": "white",
            "ticks": ""
           },
           "bgcolor": "#E5ECF6",
           "radialaxis": {
            "gridcolor": "white",
            "linecolor": "white",
            "ticks": ""
           }
          },
          "scene": {
           "xaxis": {
            "backgroundcolor": "#E5ECF6",
            "gridcolor": "white",
            "gridwidth": 2,
            "linecolor": "white",
            "showbackground": true,
            "ticks": "",
            "zerolinecolor": "white"
           },
           "yaxis": {
            "backgroundcolor": "#E5ECF6",
            "gridcolor": "white",
            "gridwidth": 2,
            "linecolor": "white",
            "showbackground": true,
            "ticks": "",
            "zerolinecolor": "white"
           },
           "zaxis": {
            "backgroundcolor": "#E5ECF6",
            "gridcolor": "white",
            "gridwidth": 2,
            "linecolor": "white",
            "showbackground": true,
            "ticks": "",
            "zerolinecolor": "white"
           }
          },
          "shapedefaults": {
           "line": {
            "color": "#2a3f5f"
           }
          },
          "ternary": {
           "aaxis": {
            "gridcolor": "white",
            "linecolor": "white",
            "ticks": ""
           },
           "baxis": {
            "gridcolor": "white",
            "linecolor": "white",
            "ticks": ""
           },
           "bgcolor": "#E5ECF6",
           "caxis": {
            "gridcolor": "white",
            "linecolor": "white",
            "ticks": ""
           }
          },
          "title": {
           "x": 0.05
          },
          "xaxis": {
           "automargin": true,
           "gridcolor": "white",
           "linecolor": "white",
           "ticks": "",
           "title": {
            "standoff": 15
           },
           "zerolinecolor": "white",
           "zerolinewidth": 2
          },
          "yaxis": {
           "automargin": true,
           "gridcolor": "white",
           "linecolor": "white",
           "ticks": "",
           "title": {
            "standoff": 15
           },
           "zerolinecolor": "white",
           "zerolinewidth": 2
          }
         }
        },
        "title": {
         "text": "Medals won by each country in basketball"
        },
        "xaxis": {
         "anchor": "y",
         "domain": [
          0,
          1
         ],
         "title": {
          "text": "Team"
         }
        },
        "yaxis": {
         "anchor": "x",
         "domain": [
          0,
          1
         ],
         "title": {
          "text": "count"
         },
         "type": "log"
        }
       }
      }
     },
     "metadata": {},
     "output_type": "display_data"
    }
   ],
   "source": [
    "# plot medal distribution for each team\n",
    "fig = px.histogram(\n",
    "    df_basketball,\n",
    "    x=\"Team\",\n",
    "    log_y=True,\n",
    "    barmode=\"group\",\n",
    "    color=\"Medal\",\n",
    "    category_orders={\"Medal\": [\"Gold\", \"Silver\", \"Bronze\"]},\n",
    "    color_discrete_sequence=[\"gold\", \"silver\", \"brown\"],\n",
    "    title=\"Medals won by each country in basketball\",\n",
    ")\n",
    "fig.show()"
   ]
  },
  {
   "cell_type": "code",
   "execution_count": 17,
   "metadata": {},
   "outputs": [
    {
     "data": {
      "application/vnd.plotly.v1+json": {
       "config": {
        "plotlyServerURL": "https://plot.ly"
       },
       "data": [
        {
         "alignmentgroup": "True",
         "hovertemplate": "Team=%{x}<br>Age=%{y}<extra></extra>",
         "legendgroup": "United States",
         "marker": {
          "color": "#636efa"
         },
         "name": "United States",
         "notched": false,
         "offsetgroup": "United States",
         "orientation": "v",
         "showlegend": true,
         "type": "box",
         "x": [
          "United States",
          "United States",
          "United States",
          "United States",
          "United States",
          "United States",
          "United States",
          "United States",
          "United States",
          "United States",
          "United States",
          "United States",
          "United States",
          "United States",
          "United States",
          "United States",
          "United States",
          "United States",
          "United States",
          "United States",
          "United States",
          "United States",
          "United States",
          "United States",
          "United States",
          "United States",
          "United States",
          "United States",
          "United States",
          "United States",
          "United States",
          "United States",
          "United States",
          "United States",
          "United States",
          "United States",
          "United States",
          "United States",
          "United States",
          "United States",
          "United States",
          "United States",
          "United States",
          "United States",
          "United States",
          "United States",
          "United States",
          "United States",
          "United States",
          "United States",
          "United States",
          "United States",
          "United States",
          "United States",
          "United States",
          "United States",
          "United States",
          "United States",
          "United States",
          "United States",
          "United States",
          "United States",
          "United States",
          "United States",
          "United States",
          "United States",
          "United States",
          "United States",
          "United States",
          "United States",
          "United States",
          "United States",
          "United States",
          "United States",
          "United States",
          "United States",
          "United States",
          "United States",
          "United States",
          "United States",
          "United States",
          "United States",
          "United States",
          "United States",
          "United States",
          "United States",
          "United States",
          "United States",
          "United States",
          "United States",
          "United States",
          "United States",
          "United States",
          "United States",
          "United States",
          "United States",
          "United States",
          "United States",
          "United States",
          "United States",
          "United States",
          "United States",
          "United States",
          "United States",
          "United States",
          "United States",
          "United States",
          "United States",
          "United States",
          "United States",
          "United States",
          "United States",
          "United States",
          "United States",
          "United States",
          "United States",
          "United States",
          "United States",
          "United States",
          "United States",
          "United States",
          "United States",
          "United States",
          "United States",
          "United States",
          "United States",
          "United States",
          "United States",
          "United States",
          "United States",
          "United States",
          "United States",
          "United States",
          "United States",
          "United States",
          "United States",
          "United States",
          "United States",
          "United States",
          "United States",
          "United States",
          "United States",
          "United States",
          "United States",
          "United States",
          "United States",
          "United States",
          "United States",
          "United States",
          "United States",
          "United States",
          "United States",
          "United States",
          "United States",
          "United States",
          "United States",
          "United States",
          "United States",
          "United States",
          "United States",
          "United States",
          "United States",
          "United States",
          "United States",
          "United States",
          "United States",
          "United States",
          "United States",
          "United States",
          "United States",
          "United States",
          "United States",
          "United States",
          "United States",
          "United States",
          "United States",
          "United States",
          "United States",
          "United States",
          "United States",
          "United States",
          "United States",
          "United States",
          "United States",
          "United States",
          "United States",
          "United States",
          "United States",
          "United States",
          "United States",
          "United States",
          "United States",
          "United States",
          "United States",
          "United States",
          "United States",
          "United States",
          "United States",
          "United States",
          "United States",
          "United States",
          "United States",
          "United States",
          "United States",
          "United States",
          "United States",
          "United States",
          "United States",
          "United States",
          "United States",
          "United States",
          "United States",
          "United States",
          "United States",
          "United States",
          "United States",
          "United States",
          "United States",
          "United States",
          "United States",
          "United States",
          "United States",
          "United States",
          "United States",
          "United States",
          "United States",
          "United States",
          "United States",
          "United States",
          "United States",
          "United States",
          "United States",
          "United States",
          "United States",
          "United States",
          "United States",
          "United States",
          "United States",
          "United States",
          "United States",
          "United States",
          "United States",
          "United States",
          "United States",
          "United States",
          "United States",
          "United States",
          "United States",
          "United States",
          "United States",
          "United States",
          "United States",
          "United States",
          "United States",
          "United States",
          "United States",
          "United States",
          "United States",
          "United States",
          "United States",
          "United States",
          "United States",
          "United States",
          "United States",
          "United States",
          "United States",
          "United States",
          "United States",
          "United States",
          "United States",
          "United States",
          "United States",
          "United States",
          "United States",
          "United States",
          "United States",
          "United States",
          "United States",
          "United States",
          "United States",
          "United States",
          "United States",
          "United States",
          "United States",
          "United States",
          "United States",
          "United States",
          "United States",
          "United States",
          "United States",
          "United States",
          "United States",
          "United States",
          "United States",
          "United States",
          "United States",
          "United States",
          "United States",
          "United States",
          "United States",
          "United States",
          "United States",
          "United States",
          "United States",
          "United States",
          "United States",
          "United States",
          "United States",
          "United States",
          "United States",
          "United States",
          "United States",
          "United States",
          "United States",
          "United States",
          "United States",
          "United States",
          "United States",
          "United States",
          "United States",
          "United States",
          "United States",
          "United States",
          "United States",
          "United States",
          "United States",
          "United States",
          "United States",
          "United States",
          "United States",
          "United States",
          "United States",
          "United States",
          "United States",
          "United States",
          "United States",
          "United States",
          "United States",
          "United States",
          "United States",
          "United States"
         ],
         "x0": " ",
         "xaxis": "x",
         "y": [
          23,
          19,
          25,
          21,
          20,
          24,
          28,
          32,
          20,
          21,
          20,
          24,
          28,
          32,
          27,
          28,
          26,
          20,
          27,
          29,
          33,
          25,
          24,
          23,
          25,
          20,
          26,
          23,
          35,
          23,
          27,
          31,
          35,
          20,
          29,
          33,
          25,
          23,
          22,
          26,
          21,
          24,
          21,
          22,
          21,
          20,
          19,
          23,
          24,
          29,
          33,
          21,
          20,
          24,
          20,
          26,
          22,
          22,
          28,
          20,
          23,
          24,
          32,
          25,
          29,
          33,
          37,
          29,
          23,
          23,
          27,
          24,
          20,
          21,
          25,
          29,
          22,
          25,
          24,
          21,
          26,
          28,
          19,
          25,
          23,
          21,
          25,
          26,
          26,
          19,
          29,
          22,
          26,
          30,
          28,
          21,
          23,
          27,
          20,
          24,
          28,
          32,
          36,
          24,
          24,
          21,
          29,
          22,
          20,
          25,
          20,
          25,
          28,
          22,
          26,
          30,
          23,
          24,
          26,
          28,
          24,
          26,
          21,
          22,
          26,
          30,
          34,
          25,
          21,
          21,
          22,
          26,
          24,
          34,
          22,
          21,
          22,
          19,
          22,
          24,
          20,
          22,
          23,
          20,
          21,
          22,
          26,
          29,
          22,
          19,
          28,
          21,
          24,
          29,
          22,
          29,
          19,
          23,
          27,
          24,
          24,
          25,
          32,
          29,
          31,
          20,
          22,
          20,
          24,
          22,
          28,
          21,
          29,
          21,
          23,
          27,
          20,
          21,
          27,
          35,
          25,
          22,
          26,
          21,
          22,
          23,
          27,
          29,
          22,
          21,
          28,
          22,
          27,
          24,
          28,
          32,
          36,
          20,
          18,
          22,
          23,
          22,
          23,
          22,
          30,
          26,
          20,
          25,
          23,
          29,
          32,
          22,
          27,
          26,
          21,
          22,
          25,
          25,
          22,
          26,
          30,
          22,
          25,
          25,
          29,
          24,
          28,
          26,
          21,
          28,
          20,
          26,
          21,
          20,
          31,
          26,
          33,
          23,
          23,
          27,
          30,
          22,
          20,
          28,
          22,
          25,
          22,
          24,
          21,
          33,
          24,
          25,
          22,
          26,
          23,
          27,
          27,
          32,
          23,
          25,
          26,
          30,
          25,
          29,
          25,
          28,
          22,
          22,
          28,
          20,
          30,
          23,
          31,
          24,
          21,
          22,
          21,
          23,
          26,
          30,
          21,
          23,
          24,
          22,
          23,
          26,
          19,
          22,
          29,
          27,
          24,
          23,
          23,
          23,
          26,
          30,
          34,
          31,
          20,
          22,
          26,
          30,
          34,
          28,
          21,
          30,
          34,
          24,
          22,
          25,
          29,
          33,
          22,
          26,
          30,
          34,
          26,
          29,
          33,
          20,
          23,
          22,
          22,
          26,
          26,
          22,
          26,
          22,
          23,
          30,
          34,
          27,
          21,
          24,
          28,
          24,
          29,
          22,
          25,
          22,
          24
         ],
         "y0": " ",
         "yaxis": "y"
        },
        {
         "alignmentgroup": "True",
         "hovertemplate": "Team=%{x}<br>Age=%{y}<extra></extra>",
         "legendgroup": "Spain",
         "marker": {
          "color": "#EF553B"
         },
         "name": "Spain",
         "notched": false,
         "offsetgroup": "Spain",
         "orientation": "v",
         "showlegend": true,
         "type": "box",
         "x": [
          "Spain",
          "Spain",
          "Spain",
          "Spain",
          "Spain",
          "Spain",
          "Spain",
          "Spain",
          "Spain",
          "Spain",
          "Spain",
          "Spain",
          "Spain",
          "Spain",
          "Spain",
          "Spain",
          "Spain",
          "Spain",
          "Spain",
          "Spain",
          "Spain",
          "Spain",
          "Spain",
          "Spain",
          "Spain",
          "Spain",
          "Spain",
          "Spain",
          "Spain",
          "Spain",
          "Spain",
          "Spain",
          "Spain",
          "Spain",
          "Spain",
          "Spain",
          "Spain",
          "Spain",
          "Spain",
          "Spain",
          "Spain",
          "Spain",
          "Spain",
          "Spain",
          "Spain",
          "Spain",
          "Spain",
          "Spain",
          "Spain",
          "Spain",
          "Spain",
          "Spain",
          "Spain",
          "Spain",
          "Spain",
          "Spain",
          "Spain",
          "Spain",
          "Spain",
          "Spain"
         ],
         "x0": " ",
         "xaxis": "x",
         "y": [
          23,
          23,
          25,
          26,
          30,
          34,
          23,
          27,
          29,
          29,
          30,
          29,
          23,
          27,
          31,
          30,
          23,
          27,
          28,
          32,
          36,
          24,
          22,
          22,
          22,
          32,
          25,
          24,
          28,
          25,
          28,
          29,
          22,
          25,
          29,
          28,
          32,
          36,
          21,
          27,
          36,
          33,
          20,
          28,
          32,
          36,
          28,
          24,
          26,
          30,
          24,
          21,
          17,
          25,
          28,
          28,
          25,
          26,
          26,
          25
         ],
         "y0": " ",
         "yaxis": "y"
        },
        {
         "alignmentgroup": "True",
         "hovertemplate": "Team=%{x}<br>Age=%{y}<extra></extra>",
         "legendgroup": "Russia",
         "marker": {
          "color": "#00cc96"
         },
         "name": "Russia",
         "notched": false,
         "offsetgroup": "Russia",
         "orientation": "v",
         "showlegend": true,
         "type": "box",
         "x": [
          "Russia",
          "Russia",
          "Russia",
          "Russia",
          "Russia",
          "Russia",
          "Russia",
          "Russia",
          "Russia",
          "Russia",
          "Russia",
          "Russia",
          "Russia",
          "Russia",
          "Russia",
          "Russia",
          "Russia",
          "Russia",
          "Russia",
          "Russia",
          "Russia",
          "Russia",
          "Russia",
          "Russia",
          "Russia",
          "Russia",
          "Russia",
          "Russia",
          "Russia",
          "Russia",
          "Russia",
          "Russia",
          "Russia",
          "Russia",
          "Russia",
          "Russia"
         ],
         "x0": " ",
         "xaxis": "x",
         "y": [
          28,
          23,
          31,
          21,
          32,
          26,
          30,
          31,
          30,
          18,
          24,
          24,
          27,
          29,
          22,
          31,
          24,
          28,
          23,
          20,
          29,
          26,
          23,
          27,
          26,
          27,
          31,
          22,
          26,
          23,
          25,
          25,
          29,
          23,
          27,
          26
         ],
         "y0": " ",
         "yaxis": "y"
        },
        {
         "alignmentgroup": "True",
         "hovertemplate": "Team=%{x}<br>Age=%{y}<extra></extra>",
         "legendgroup": "Uruguay",
         "marker": {
          "color": "#ab63fa"
         },
         "name": "Uruguay",
         "notched": false,
         "offsetgroup": "Uruguay",
         "orientation": "v",
         "showlegend": true,
         "type": "box",
         "x": [
          "Uruguay",
          "Uruguay",
          "Uruguay",
          "Uruguay",
          "Uruguay",
          "Uruguay",
          "Uruguay",
          "Uruguay",
          "Uruguay",
          "Uruguay",
          "Uruguay",
          "Uruguay",
          "Uruguay",
          "Uruguay",
          "Uruguay",
          "Uruguay",
          "Uruguay",
          "Uruguay",
          "Uruguay",
          "Uruguay",
          "Uruguay",
          "Uruguay",
          "Uruguay",
          "Uruguay"
         ],
         "x0": " ",
         "xaxis": "x",
         "y": [
          27,
          24,
          19,
          30,
          25,
          29,
          null,
          22,
          27,
          27,
          31,
          26,
          30,
          null,
          27,
          29,
          21,
          26,
          20,
          21,
          27,
          21,
          30,
          20
         ],
         "y0": " ",
         "yaxis": "y"
        },
        {
         "alignmentgroup": "True",
         "hovertemplate": "Team=%{x}<br>Age=%{y}<extra></extra>",
         "legendgroup": "Lithuania",
         "marker": {
          "color": "#FFA15A"
         },
         "name": "Lithuania",
         "notched": false,
         "offsetgroup": "Lithuania",
         "orientation": "v",
         "showlegend": true,
         "type": "box",
         "x": [
          "Lithuania",
          "Lithuania",
          "Lithuania",
          "Lithuania",
          "Lithuania",
          "Lithuania",
          "Lithuania",
          "Lithuania",
          "Lithuania",
          "Lithuania",
          "Lithuania",
          "Lithuania",
          "Lithuania",
          "Lithuania",
          "Lithuania",
          "Lithuania",
          "Lithuania",
          "Lithuania",
          "Lithuania",
          "Lithuania",
          "Lithuania",
          "Lithuania",
          "Lithuania",
          "Lithuania",
          "Lithuania",
          "Lithuania",
          "Lithuania",
          "Lithuania",
          "Lithuania",
          "Lithuania",
          "Lithuania",
          "Lithuania",
          "Lithuania",
          "Lithuania",
          "Lithuania"
         ],
         "x0": " ",
         "xaxis": "x",
         "y": [
          26,
          28,
          33,
          24,
          22,
          26,
          30,
          27,
          24,
          37,
          20,
          24,
          31,
          32,
          36,
          28,
          24,
          28,
          32,
          24,
          29,
          24,
          20,
          27,
          31,
          22,
          22,
          22,
          26,
          26,
          25,
          26,
          22,
          27,
          20
         ],
         "y0": " ",
         "yaxis": "y"
        },
        {
         "alignmentgroup": "True",
         "hovertemplate": "Team=%{x}<br>Age=%{y}<extra></extra>",
         "legendgroup": "Brazil",
         "marker": {
          "color": "#19d3f3"
         },
         "name": "Brazil",
         "notched": false,
         "offsetgroup": "Brazil",
         "orientation": "v",
         "showlegend": true,
         "type": "box",
         "x": [
          "Brazil",
          "Brazil",
          "Brazil",
          "Brazil",
          "Brazil",
          "Brazil",
          "Brazil",
          "Brazil",
          "Brazil",
          "Brazil",
          "Brazil",
          "Brazil",
          "Brazil",
          "Brazil",
          "Brazil",
          "Brazil",
          "Brazil",
          "Brazil",
          "Brazil",
          "Brazil",
          "Brazil",
          "Brazil",
          "Brazil",
          "Brazil",
          "Brazil",
          "Brazil",
          "Brazil",
          "Brazil",
          "Brazil",
          "Brazil",
          "Brazil",
          "Brazil",
          "Brazil",
          "Brazil",
          "Brazil",
          "Brazil",
          "Brazil",
          "Brazil",
          "Brazil",
          "Brazil",
          "Brazil",
          "Brazil",
          "Brazil",
          "Brazil",
          "Brazil",
          "Brazil",
          "Brazil",
          "Brazil",
          "Brazil",
          "Brazil",
          "Brazil",
          "Brazil",
          "Brazil",
          "Brazil",
          "Brazil",
          "Brazil",
          "Brazil",
          "Brazil"
         ],
         "x0": " ",
         "xaxis": "x",
         "y": [
          25,
          29,
          21,
          22,
          26,
          23,
          35,
          24,
          28,
          20,
          23,
          22,
          24,
          30,
          27,
          21,
          25,
          25,
          25,
          27,
          31,
          25,
          25,
          29,
          29,
          26,
          23,
          23,
          27,
          36,
          27,
          31,
          21,
          25,
          20,
          21,
          21,
          23,
          27,
          23,
          23,
          21,
          25,
          28,
          34,
          20,
          24,
          24,
          19,
          21,
          25,
          21,
          32,
          36,
          26,
          21,
          25,
          22
         ],
         "y0": " ",
         "yaxis": "y"
        },
        {
         "alignmentgroup": "True",
         "hovertemplate": "Team=%{x}<br>Age=%{y}<extra></extra>",
         "legendgroup": "Canada",
         "marker": {
          "color": "#FF6692"
         },
         "name": "Canada",
         "notched": false,
         "offsetgroup": "Canada",
         "orientation": "v",
         "showlegend": true,
         "type": "box",
         "x": [
          "Canada",
          "Canada",
          "Canada",
          "Canada",
          "Canada",
          "Canada",
          "Canada",
          "Canada",
          "Canada"
         ],
         "x0": " ",
         "xaxis": "x",
         "y": [
          27,
          27,
          23,
          25,
          28,
          24,
          20,
          26,
          23
         ],
         "y0": " ",
         "yaxis": "y"
        },
        {
         "alignmentgroup": "True",
         "hovertemplate": "Team=%{x}<br>Age=%{y}<extra></extra>",
         "legendgroup": "Soviet Union",
         "marker": {
          "color": "#B6E880"
         },
         "name": "Soviet Union",
         "notched": false,
         "offsetgroup": "Soviet Union",
         "orientation": "v",
         "showlegend": true,
         "type": "box",
         "x": [
          "Soviet Union",
          "Soviet Union",
          "Soviet Union",
          "Soviet Union",
          "Soviet Union",
          "Soviet Union",
          "Soviet Union",
          "Soviet Union",
          "Soviet Union",
          "Soviet Union",
          "Soviet Union",
          "Soviet Union",
          "Soviet Union",
          "Soviet Union",
          "Soviet Union",
          "Soviet Union",
          "Soviet Union",
          "Soviet Union",
          "Soviet Union",
          "Soviet Union",
          "Soviet Union",
          "Soviet Union",
          "Soviet Union",
          "Soviet Union",
          "Soviet Union",
          "Soviet Union",
          "Soviet Union",
          "Soviet Union",
          "Soviet Union",
          "Soviet Union",
          "Soviet Union",
          "Soviet Union",
          "Soviet Union",
          "Soviet Union",
          "Soviet Union",
          "Soviet Union",
          "Soviet Union",
          "Soviet Union",
          "Soviet Union",
          "Soviet Union",
          "Soviet Union",
          "Soviet Union",
          "Soviet Union",
          "Soviet Union",
          "Soviet Union",
          "Soviet Union",
          "Soviet Union",
          "Soviet Union",
          "Soviet Union",
          "Soviet Union",
          "Soviet Union",
          "Soviet Union",
          "Soviet Union",
          "Soviet Union",
          "Soviet Union",
          "Soviet Union",
          "Soviet Union",
          "Soviet Union",
          "Soviet Union",
          "Soviet Union",
          "Soviet Union",
          "Soviet Union",
          "Soviet Union",
          "Soviet Union",
          "Soviet Union",
          "Soviet Union",
          "Soviet Union",
          "Soviet Union",
          "Soviet Union",
          "Soviet Union",
          "Soviet Union",
          "Soviet Union",
          "Soviet Union",
          "Soviet Union",
          "Soviet Union",
          "Soviet Union",
          "Soviet Union",
          "Soviet Union",
          "Soviet Union",
          "Soviet Union",
          "Soviet Union",
          "Soviet Union",
          "Soviet Union",
          "Soviet Union",
          "Soviet Union",
          "Soviet Union",
          "Soviet Union",
          "Soviet Union",
          "Soviet Union",
          "Soviet Union",
          "Soviet Union",
          "Soviet Union",
          "Soviet Union",
          "Soviet Union",
          "Soviet Union",
          "Soviet Union",
          "Soviet Union",
          "Soviet Union",
          "Soviet Union",
          "Soviet Union",
          "Soviet Union",
          "Soviet Union",
          "Soviet Union",
          "Soviet Union",
          "Soviet Union",
          "Soviet Union",
          "Soviet Union",
          "Soviet Union",
          "Soviet Union",
          "Soviet Union",
          "Soviet Union",
          "Soviet Union",
          "Soviet Union",
          "Soviet Union",
          "Soviet Union",
          "Soviet Union",
          "Soviet Union",
          "Soviet Union",
          "Soviet Union",
          "Soviet Union",
          "Soviet Union",
          "Soviet Union",
          "Soviet Union",
          "Soviet Union",
          "Soviet Union",
          "Soviet Union",
          "Soviet Union",
          "Soviet Union",
          "Soviet Union",
          "Soviet Union",
          "Soviet Union",
          "Soviet Union",
          "Soviet Union",
          "Soviet Union",
          "Soviet Union",
          "Soviet Union",
          "Soviet Union",
          "Soviet Union",
          "Soviet Union",
          "Soviet Union",
          "Soviet Union",
          "Soviet Union",
          "Soviet Union",
          "Soviet Union",
          "Soviet Union",
          "Soviet Union"
         ],
         "x0": " ",
         "xaxis": "x",
         "y": [
          33,
          23,
          25,
          27,
          28,
          21,
          25,
          20,
          24,
          24,
          28,
          32,
          36,
          23,
          21,
          29,
          25,
          25,
          30,
          26,
          29,
          24,
          21,
          20,
          27,
          31,
          22,
          23,
          22,
          30,
          25,
          26,
          28,
          27,
          23,
          25,
          31,
          23,
          27,
          29,
          23,
          27,
          21,
          25,
          20,
          26,
          30,
          34,
          25,
          30,
          28,
          30,
          27,
          24,
          24,
          24,
          28,
          23,
          30,
          24,
          24,
          24,
          24,
          28,
          23,
          24,
          25,
          24,
          21,
          25,
          29,
          21,
          25,
          26,
          30,
          24,
          28,
          23,
          31,
          23,
          27,
          26,
          30,
          21,
          25,
          21,
          25,
          21,
          24,
          28,
          23,
          23,
          27,
          27,
          31,
          27,
          25,
          24,
          28,
          23,
          26,
          24,
          23,
          27,
          23,
          20,
          24,
          22,
          21,
          25,
          23,
          22,
          30,
          24,
          18,
          22,
          25,
          23,
          27,
          23,
          21,
          18,
          23,
          26,
          22,
          26,
          24,
          20,
          24,
          28,
          32,
          24,
          27,
          31,
          29,
          23,
          31,
          25,
          29,
          19,
          27,
          31,
          23,
          27,
          19,
          23
         ],
         "y0": " ",
         "yaxis": "y"
        },
        {
         "alignmentgroup": "True",
         "hovertemplate": "Team=%{x}<br>Age=%{y}<extra></extra>",
         "legendgroup": "Croatia",
         "marker": {
          "color": "#FF97FF"
         },
         "name": "Croatia",
         "notched": false,
         "offsetgroup": "Croatia",
         "orientation": "v",
         "showlegend": true,
         "type": "box",
         "x": [
          "Croatia",
          "Croatia",
          "Croatia",
          "Croatia",
          "Croatia",
          "Croatia",
          "Croatia",
          "Croatia",
          "Croatia",
          "Croatia",
          "Croatia",
          "Croatia"
         ],
         "x0": " ",
         "xaxis": "x",
         "y": [
          25,
          27,
          28,
          22,
          22,
          23,
          26,
          27,
          27,
          25,
          22,
          28
         ],
         "y0": " ",
         "yaxis": "y"
        },
        {
         "alignmentgroup": "True",
         "hovertemplate": "Team=%{x}<br>Age=%{y}<extra></extra>",
         "legendgroup": "Cuba",
         "marker": {
          "color": "#FECB52"
         },
         "name": "Cuba",
         "notched": false,
         "offsetgroup": "Cuba",
         "orientation": "v",
         "showlegend": true,
         "type": "box",
         "x": [
          "Cuba",
          "Cuba",
          "Cuba",
          "Cuba",
          "Cuba",
          "Cuba",
          "Cuba",
          "Cuba",
          "Cuba",
          "Cuba",
          "Cuba",
          "Cuba"
         ],
         "x0": " ",
         "xaxis": "x",
         "y": [
          22,
          21,
          22,
          27,
          22,
          22,
          21,
          21,
          21,
          23,
          21,
          23
         ],
         "y0": " ",
         "yaxis": "y"
        },
        {
         "alignmentgroup": "True",
         "hovertemplate": "Team=%{x}<br>Age=%{y}<extra></extra>",
         "legendgroup": "Yugoslavia",
         "marker": {
          "color": "#636efa"
         },
         "name": "Yugoslavia",
         "notched": false,
         "offsetgroup": "Yugoslavia",
         "orientation": "v",
         "showlegend": true,
         "type": "box",
         "x": [
          "Yugoslavia",
          "Yugoslavia",
          "Yugoslavia",
          "Yugoslavia",
          "Yugoslavia",
          "Yugoslavia",
          "Yugoslavia",
          "Yugoslavia",
          "Yugoslavia",
          "Yugoslavia",
          "Yugoslavia",
          "Yugoslavia",
          "Yugoslavia",
          "Yugoslavia",
          "Yugoslavia",
          "Yugoslavia",
          "Yugoslavia",
          "Yugoslavia",
          "Yugoslavia",
          "Yugoslavia",
          "Yugoslavia",
          "Yugoslavia",
          "Yugoslavia",
          "Yugoslavia",
          "Yugoslavia",
          "Yugoslavia",
          "Yugoslavia",
          "Yugoslavia",
          "Yugoslavia",
          "Yugoslavia",
          "Yugoslavia",
          "Yugoslavia",
          "Yugoslavia",
          "Yugoslavia",
          "Yugoslavia",
          "Yugoslavia",
          "Yugoslavia",
          "Yugoslavia",
          "Yugoslavia",
          "Yugoslavia",
          "Yugoslavia",
          "Yugoslavia",
          "Yugoslavia",
          "Yugoslavia",
          "Yugoslavia",
          "Yugoslavia",
          "Yugoslavia",
          "Yugoslavia",
          "Yugoslavia",
          "Yugoslavia",
          "Yugoslavia",
          "Yugoslavia",
          "Yugoslavia",
          "Yugoslavia",
          "Yugoslavia",
          "Yugoslavia",
          "Yugoslavia",
          "Yugoslavia",
          "Yugoslavia",
          "Yugoslavia",
          "Yugoslavia",
          "Yugoslavia",
          "Yugoslavia",
          "Yugoslavia",
          "Yugoslavia",
          "Yugoslavia",
          "Yugoslavia",
          "Yugoslavia",
          "Yugoslavia",
          "Yugoslavia",
          "Yugoslavia",
          "Yugoslavia",
          "Yugoslavia",
          "Yugoslavia",
          "Yugoslavia",
          "Yugoslavia",
          "Yugoslavia",
          "Yugoslavia",
          "Yugoslavia",
          "Yugoslavia",
          "Yugoslavia",
          "Yugoslavia",
          "Yugoslavia",
          "Yugoslavia"
         ],
         "x0": " ",
         "xaxis": "x",
         "y": [
          23,
          21,
          18,
          22,
          24,
          24,
          19,
          27,
          31,
          26,
          27,
          24,
          24,
          28,
          32,
          31,
          22,
          26,
          19,
          20,
          25,
          30,
          22,
          25,
          28,
          26,
          27,
          22,
          26,
          21,
          25,
          19,
          23,
          27,
          20,
          29,
          27,
          19,
          25,
          25,
          18,
          20,
          26,
          22,
          26,
          21,
          24,
          19,
          24,
          28,
          28,
          21,
          22,
          27,
          19,
          25,
          19,
          23,
          20,
          23,
          27,
          20,
          30,
          27,
          21,
          24,
          25,
          26,
          30,
          19,
          26,
          25,
          20,
          23,
          24,
          19,
          24,
          22,
          21,
          21,
          25,
          29,
          21,
          22
         ],
         "y0": " ",
         "yaxis": "y"
        },
        {
         "alignmentgroup": "True",
         "hovertemplate": "Team=%{x}<br>Age=%{y}<extra></extra>",
         "legendgroup": "China",
         "marker": {
          "color": "#EF553B"
         },
         "name": "China",
         "notched": false,
         "offsetgroup": "China",
         "orientation": "v",
         "showlegend": true,
         "type": "box",
         "x": [
          "China",
          "China",
          "China",
          "China",
          "China",
          "China",
          "China",
          "China",
          "China",
          "China",
          "China",
          "China",
          "China",
          "China",
          "China",
          "China",
          "China",
          "China",
          "China",
          "China",
          "China",
          "China",
          "China"
         ],
         "x0": " ",
         "xaxis": "x",
         "y": [
          21,
          21,
          21,
          29,
          23,
          22,
          22,
          22,
          22,
          19,
          27,
          25,
          21,
          25,
          25,
          20,
          26,
          28,
          24,
          24,
          24,
          17,
          25
         ],
         "y0": " ",
         "yaxis": "y"
        },
        {
         "alignmentgroup": "True",
         "hovertemplate": "Team=%{x}<br>Age=%{y}<extra></extra>",
         "legendgroup": "Unified Team",
         "marker": {
          "color": "#00cc96"
         },
         "name": "Unified Team",
         "notched": false,
         "offsetgroup": "Unified Team",
         "orientation": "v",
         "showlegend": true,
         "type": "box",
         "x": [
          "Unified Team",
          "Unified Team",
          "Unified Team",
          "Unified Team",
          "Unified Team",
          "Unified Team",
          "Unified Team",
          "Unified Team",
          "Unified Team",
          "Unified Team",
          "Unified Team",
          "Unified Team"
         ],
         "x0": " ",
         "xaxis": "x",
         "y": [
          20,
          22,
          26,
          27,
          28,
          26,
          27,
          26,
          27,
          25,
          23,
          24
         ],
         "y0": " ",
         "yaxis": "y"
        },
        {
         "alignmentgroup": "True",
         "hovertemplate": "Team=%{x}<br>Age=%{y}<extra></extra>",
         "legendgroup": "France",
         "marker": {
          "color": "#ab63fa"
         },
         "name": "France",
         "notched": false,
         "offsetgroup": "France",
         "orientation": "v",
         "showlegend": true,
         "type": "box",
         "x": [
          "France",
          "France",
          "France",
          "France",
          "France",
          "France",
          "France",
          "France",
          "France",
          "France",
          "France",
          "France",
          "France",
          "France",
          "France",
          "France",
          "France",
          "France",
          "France",
          "France",
          "France",
          "France",
          "France",
          "France",
          "France",
          "France",
          "France",
          "France",
          "France",
          "France",
          "France",
          "France",
          "France",
          "France",
          "France",
          "France",
          "France",
          "France"
         ],
         "x0": " ",
         "xaxis": "x",
         "y": [
          28,
          28,
          32,
          28,
          26,
          25,
          27,
          23,
          27,
          25,
          28,
          30,
          22,
          26,
          31,
          26,
          27,
          28,
          25,
          22,
          26,
          25,
          33,
          27,
          24,
          29,
          20,
          29,
          23,
          28,
          23,
          28,
          28,
          27,
          28,
          21,
          23,
          26
         ],
         "y0": " ",
         "yaxis": "y"
        },
        {
         "alignmentgroup": "True",
         "hovertemplate": "Team=%{x}<br>Age=%{y}<extra></extra>",
         "legendgroup": "Italy",
         "marker": {
          "color": "#FFA15A"
         },
         "name": "Italy",
         "notched": false,
         "offsetgroup": "Italy",
         "orientation": "v",
         "showlegend": true,
         "type": "box",
         "x": [
          "Italy",
          "Italy",
          "Italy",
          "Italy",
          "Italy",
          "Italy",
          "Italy",
          "Italy",
          "Italy",
          "Italy",
          "Italy",
          "Italy",
          "Italy",
          "Italy",
          "Italy",
          "Italy",
          "Italy",
          "Italy",
          "Italy",
          "Italy",
          "Italy",
          "Italy",
          "Italy",
          "Italy"
         ],
         "x0": " ",
         "xaxis": "x",
         "y": [
          29,
          23,
          21,
          26,
          29,
          28,
          29,
          22,
          21,
          23,
          29,
          27,
          30,
          31,
          31,
          31,
          26,
          27,
          26,
          22,
          28,
          28,
          24,
          25
         ],
         "y0": " ",
         "yaxis": "y"
        },
        {
         "alignmentgroup": "True",
         "hovertemplate": "Team=%{x}<br>Age=%{y}<extra></extra>",
         "legendgroup": "Australia",
         "marker": {
          "color": "#19d3f3"
         },
         "name": "Australia",
         "notched": false,
         "offsetgroup": "Australia",
         "orientation": "v",
         "showlegend": true,
         "type": "box",
         "x": [
          "Australia",
          "Australia",
          "Australia",
          "Australia",
          "Australia",
          "Australia",
          "Australia",
          "Australia",
          "Australia",
          "Australia",
          "Australia",
          "Australia",
          "Australia",
          "Australia",
          "Australia",
          "Australia",
          "Australia",
          "Australia",
          "Australia",
          "Australia",
          "Australia",
          "Australia",
          "Australia",
          "Australia",
          "Australia",
          "Australia",
          "Australia",
          "Australia",
          "Australia",
          "Australia",
          "Australia",
          "Australia",
          "Australia",
          "Australia",
          "Australia",
          "Australia",
          "Australia",
          "Australia",
          "Australia",
          "Australia",
          "Australia",
          "Australia",
          "Australia",
          "Australia",
          "Australia",
          "Australia",
          "Australia",
          "Australia",
          "Australia",
          "Australia",
          "Australia",
          "Australia",
          "Australia",
          "Australia",
          "Australia",
          "Australia",
          "Australia",
          "Australia",
          "Australia",
          "Australia"
         ],
         "x0": " ",
         "xaxis": "x",
         "y": [
          23,
          27,
          31,
          36,
          23,
          20,
          24,
          23,
          27,
          27,
          32,
          35,
          20,
          22,
          23,
          31,
          27,
          23,
          28,
          32,
          27,
          31,
          24,
          25,
          29,
          33,
          37,
          27,
          19,
          23,
          27,
          31,
          20,
          30,
          25,
          36,
          25,
          23,
          23,
          26,
          23,
          29,
          27,
          26,
          30,
          23,
          27,
          31,
          28,
          32,
          36,
          20,
          24,
          28,
          23,
          27,
          31,
          35,
          22,
          27
         ],
         "y0": " ",
         "yaxis": "y"
        },
        {
         "alignmentgroup": "True",
         "hovertemplate": "Team=%{x}<br>Age=%{y}<extra></extra>",
         "legendgroup": "Serbia and Montenegro",
         "marker": {
          "color": "#FF6692"
         },
         "name": "Serbia and Montenegro",
         "notched": false,
         "offsetgroup": "Serbia and Montenegro",
         "orientation": "v",
         "showlegend": true,
         "type": "box",
         "x": [
          "Serbia and Montenegro",
          "Serbia and Montenegro",
          "Serbia and Montenegro",
          "Serbia and Montenegro",
          "Serbia and Montenegro",
          "Serbia and Montenegro",
          "Serbia and Montenegro",
          "Serbia and Montenegro",
          "Serbia and Montenegro",
          "Serbia and Montenegro",
          "Serbia and Montenegro",
          "Serbia and Montenegro"
         ],
         "x0": " ",
         "xaxis": "x",
         "y": [
          23,
          23,
          26,
          28,
          28,
          24,
          27,
          30,
          24,
          29,
          23,
          27
         ],
         "y0": " ",
         "yaxis": "y"
        },
        {
         "alignmentgroup": "True",
         "hovertemplate": "Team=%{x}<br>Age=%{y}<extra></extra>",
         "legendgroup": "Serbia",
         "marker": {
          "color": "#B6E880"
         },
         "name": "Serbia",
         "notched": false,
         "offsetgroup": "Serbia",
         "orientation": "v",
         "showlegend": true,
         "type": "box",
         "x": [
          "Serbia",
          "Serbia",
          "Serbia",
          "Serbia",
          "Serbia",
          "Serbia",
          "Serbia",
          "Serbia",
          "Serbia",
          "Serbia",
          "Serbia",
          "Serbia",
          "Serbia",
          "Serbia",
          "Serbia",
          "Serbia",
          "Serbia",
          "Serbia",
          "Serbia",
          "Serbia",
          "Serbia",
          "Serbia",
          "Serbia",
          "Serbia"
         ],
         "x0": " ",
         "xaxis": "x",
         "y": [
          26,
          23,
          30,
          27,
          20,
          26,
          34,
          21,
          26,
          25,
          24,
          25,
          26,
          28,
          27,
          25,
          29,
          27,
          28,
          28,
          30,
          21,
          28,
          29
         ],
         "y0": " ",
         "yaxis": "y"
        },
        {
         "alignmentgroup": "True",
         "hovertemplate": "Team=%{x}<br>Age=%{y}<extra></extra>",
         "legendgroup": "Bulgaria",
         "marker": {
          "color": "#FF97FF"
         },
         "name": "Bulgaria",
         "notched": false,
         "offsetgroup": "Bulgaria",
         "orientation": "v",
         "showlegend": true,
         "type": "box",
         "x": [
          "Bulgaria",
          "Bulgaria",
          "Bulgaria",
          "Bulgaria",
          "Bulgaria",
          "Bulgaria",
          "Bulgaria",
          "Bulgaria",
          "Bulgaria",
          "Bulgaria",
          "Bulgaria",
          "Bulgaria",
          "Bulgaria",
          "Bulgaria",
          "Bulgaria",
          "Bulgaria",
          "Bulgaria",
          "Bulgaria",
          "Bulgaria",
          "Bulgaria",
          "Bulgaria",
          "Bulgaria",
          "Bulgaria",
          "Bulgaria"
         ],
         "x0": " ",
         "xaxis": "x",
         "y": [
          27,
          31,
          21,
          24,
          28,
          19,
          24,
          28,
          22,
          23,
          27,
          25,
          29,
          20,
          22,
          26,
          18,
          25,
          22,
          18,
          28,
          26,
          30,
          20
         ],
         "y0": " ",
         "yaxis": "y"
        },
        {
         "alignmentgroup": "True",
         "hovertemplate": "Team=%{x}<br>Age=%{y}<extra></extra>",
         "legendgroup": "Mexico",
         "marker": {
          "color": "#FECB52"
         },
         "name": "Mexico",
         "notched": false,
         "offsetgroup": "Mexico",
         "orientation": "v",
         "showlegend": true,
         "type": "box",
         "x": [
          "Mexico",
          "Mexico",
          "Mexico",
          "Mexico",
          "Mexico",
          "Mexico",
          "Mexico",
          "Mexico",
          "Mexico",
          "Mexico",
          "Mexico"
         ],
         "x0": " ",
         "xaxis": "x",
         "y": [
          23,
          24,
          31,
          22,
          30,
          22,
          27,
          26,
          26,
          25,
          19
         ],
         "y0": " ",
         "yaxis": "y"
        },
        {
         "alignmentgroup": "True",
         "hovertemplate": "Team=%{x}<br>Age=%{y}<extra></extra>",
         "legendgroup": "South Korea",
         "marker": {
          "color": "#636efa"
         },
         "name": "South Korea",
         "notched": false,
         "offsetgroup": "South Korea",
         "orientation": "v",
         "showlegend": true,
         "type": "box",
         "x": [
          "South Korea",
          "South Korea",
          "South Korea",
          "South Korea",
          "South Korea",
          "South Korea",
          "South Korea",
          "South Korea",
          "South Korea",
          "South Korea",
          "South Korea"
         ],
         "x0": " ",
         "xaxis": "x",
         "y": [
          25,
          18,
          20,
          21,
          22,
          21,
          19,
          20,
          18,
          25,
          18
         ],
         "y0": " ",
         "yaxis": "y"
        },
        {
         "alignmentgroup": "True",
         "hovertemplate": "Team=%{x}<br>Age=%{y}<extra></extra>",
         "legendgroup": "Argentina",
         "marker": {
          "color": "#EF553B"
         },
         "name": "Argentina",
         "notched": false,
         "offsetgroup": "Argentina",
         "orientation": "v",
         "showlegend": true,
         "type": "box",
         "x": [
          "Argentina",
          "Argentina",
          "Argentina",
          "Argentina",
          "Argentina",
          "Argentina",
          "Argentina",
          "Argentina",
          "Argentina",
          "Argentina",
          "Argentina",
          "Argentina",
          "Argentina",
          "Argentina",
          "Argentina",
          "Argentina",
          "Argentina",
          "Argentina",
          "Argentina",
          "Argentina",
          "Argentina",
          "Argentina",
          "Argentina",
          "Argentina"
         ],
         "x0": " ",
         "xaxis": "x",
         "y": [
          21,
          25,
          27,
          27,
          31,
          30,
          24,
          26,
          30,
          25,
          28,
          32,
          24,
          28,
          31,
          35,
          24,
          31,
          29,
          27,
          24,
          28,
          33,
          30
         ],
         "y0": " ",
         "yaxis": "y"
        }
       ],
       "layout": {
        "boxmode": "overlay",
        "legend": {
         "title": {
          "text": "Team"
         },
         "tracegroupgap": 0
        },
        "template": {
         "data": {
          "bar": [
           {
            "error_x": {
             "color": "#2a3f5f"
            },
            "error_y": {
             "color": "#2a3f5f"
            },
            "marker": {
             "line": {
              "color": "#E5ECF6",
              "width": 0.5
             },
             "pattern": {
              "fillmode": "overlay",
              "size": 10,
              "solidity": 0.2
             }
            },
            "type": "bar"
           }
          ],
          "barpolar": [
           {
            "marker": {
             "line": {
              "color": "#E5ECF6",
              "width": 0.5
             },
             "pattern": {
              "fillmode": "overlay",
              "size": 10,
              "solidity": 0.2
             }
            },
            "type": "barpolar"
           }
          ],
          "carpet": [
           {
            "aaxis": {
             "endlinecolor": "#2a3f5f",
             "gridcolor": "white",
             "linecolor": "white",
             "minorgridcolor": "white",
             "startlinecolor": "#2a3f5f"
            },
            "baxis": {
             "endlinecolor": "#2a3f5f",
             "gridcolor": "white",
             "linecolor": "white",
             "minorgridcolor": "white",
             "startlinecolor": "#2a3f5f"
            },
            "type": "carpet"
           }
          ],
          "choropleth": [
           {
            "colorbar": {
             "outlinewidth": 0,
             "ticks": ""
            },
            "type": "choropleth"
           }
          ],
          "contour": [
           {
            "colorbar": {
             "outlinewidth": 0,
             "ticks": ""
            },
            "colorscale": [
             [
              0,
              "#0d0887"
             ],
             [
              0.1111111111111111,
              "#46039f"
             ],
             [
              0.2222222222222222,
              "#7201a8"
             ],
             [
              0.3333333333333333,
              "#9c179e"
             ],
             [
              0.4444444444444444,
              "#bd3786"
             ],
             [
              0.5555555555555556,
              "#d8576b"
             ],
             [
              0.6666666666666666,
              "#ed7953"
             ],
             [
              0.7777777777777778,
              "#fb9f3a"
             ],
             [
              0.8888888888888888,
              "#fdca26"
             ],
             [
              1,
              "#f0f921"
             ]
            ],
            "type": "contour"
           }
          ],
          "contourcarpet": [
           {
            "colorbar": {
             "outlinewidth": 0,
             "ticks": ""
            },
            "type": "contourcarpet"
           }
          ],
          "heatmap": [
           {
            "colorbar": {
             "outlinewidth": 0,
             "ticks": ""
            },
            "colorscale": [
             [
              0,
              "#0d0887"
             ],
             [
              0.1111111111111111,
              "#46039f"
             ],
             [
              0.2222222222222222,
              "#7201a8"
             ],
             [
              0.3333333333333333,
              "#9c179e"
             ],
             [
              0.4444444444444444,
              "#bd3786"
             ],
             [
              0.5555555555555556,
              "#d8576b"
             ],
             [
              0.6666666666666666,
              "#ed7953"
             ],
             [
              0.7777777777777778,
              "#fb9f3a"
             ],
             [
              0.8888888888888888,
              "#fdca26"
             ],
             [
              1,
              "#f0f921"
             ]
            ],
            "type": "heatmap"
           }
          ],
          "heatmapgl": [
           {
            "colorbar": {
             "outlinewidth": 0,
             "ticks": ""
            },
            "colorscale": [
             [
              0,
              "#0d0887"
             ],
             [
              0.1111111111111111,
              "#46039f"
             ],
             [
              0.2222222222222222,
              "#7201a8"
             ],
             [
              0.3333333333333333,
              "#9c179e"
             ],
             [
              0.4444444444444444,
              "#bd3786"
             ],
             [
              0.5555555555555556,
              "#d8576b"
             ],
             [
              0.6666666666666666,
              "#ed7953"
             ],
             [
              0.7777777777777778,
              "#fb9f3a"
             ],
             [
              0.8888888888888888,
              "#fdca26"
             ],
             [
              1,
              "#f0f921"
             ]
            ],
            "type": "heatmapgl"
           }
          ],
          "histogram": [
           {
            "marker": {
             "pattern": {
              "fillmode": "overlay",
              "size": 10,
              "solidity": 0.2
             }
            },
            "type": "histogram"
           }
          ],
          "histogram2d": [
           {
            "colorbar": {
             "outlinewidth": 0,
             "ticks": ""
            },
            "colorscale": [
             [
              0,
              "#0d0887"
             ],
             [
              0.1111111111111111,
              "#46039f"
             ],
             [
              0.2222222222222222,
              "#7201a8"
             ],
             [
              0.3333333333333333,
              "#9c179e"
             ],
             [
              0.4444444444444444,
              "#bd3786"
             ],
             [
              0.5555555555555556,
              "#d8576b"
             ],
             [
              0.6666666666666666,
              "#ed7953"
             ],
             [
              0.7777777777777778,
              "#fb9f3a"
             ],
             [
              0.8888888888888888,
              "#fdca26"
             ],
             [
              1,
              "#f0f921"
             ]
            ],
            "type": "histogram2d"
           }
          ],
          "histogram2dcontour": [
           {
            "colorbar": {
             "outlinewidth": 0,
             "ticks": ""
            },
            "colorscale": [
             [
              0,
              "#0d0887"
             ],
             [
              0.1111111111111111,
              "#46039f"
             ],
             [
              0.2222222222222222,
              "#7201a8"
             ],
             [
              0.3333333333333333,
              "#9c179e"
             ],
             [
              0.4444444444444444,
              "#bd3786"
             ],
             [
              0.5555555555555556,
              "#d8576b"
             ],
             [
              0.6666666666666666,
              "#ed7953"
             ],
             [
              0.7777777777777778,
              "#fb9f3a"
             ],
             [
              0.8888888888888888,
              "#fdca26"
             ],
             [
              1,
              "#f0f921"
             ]
            ],
            "type": "histogram2dcontour"
           }
          ],
          "mesh3d": [
           {
            "colorbar": {
             "outlinewidth": 0,
             "ticks": ""
            },
            "type": "mesh3d"
           }
          ],
          "parcoords": [
           {
            "line": {
             "colorbar": {
              "outlinewidth": 0,
              "ticks": ""
             }
            },
            "type": "parcoords"
           }
          ],
          "pie": [
           {
            "automargin": true,
            "type": "pie"
           }
          ],
          "scatter": [
           {
            "fillpattern": {
             "fillmode": "overlay",
             "size": 10,
             "solidity": 0.2
            },
            "type": "scatter"
           }
          ],
          "scatter3d": [
           {
            "line": {
             "colorbar": {
              "outlinewidth": 0,
              "ticks": ""
             }
            },
            "marker": {
             "colorbar": {
              "outlinewidth": 0,
              "ticks": ""
             }
            },
            "type": "scatter3d"
           }
          ],
          "scattercarpet": [
           {
            "marker": {
             "colorbar": {
              "outlinewidth": 0,
              "ticks": ""
             }
            },
            "type": "scattercarpet"
           }
          ],
          "scattergeo": [
           {
            "marker": {
             "colorbar": {
              "outlinewidth": 0,
              "ticks": ""
             }
            },
            "type": "scattergeo"
           }
          ],
          "scattergl": [
           {
            "marker": {
             "colorbar": {
              "outlinewidth": 0,
              "ticks": ""
             }
            },
            "type": "scattergl"
           }
          ],
          "scattermapbox": [
           {
            "marker": {
             "colorbar": {
              "outlinewidth": 0,
              "ticks": ""
             }
            },
            "type": "scattermapbox"
           }
          ],
          "scatterpolar": [
           {
            "marker": {
             "colorbar": {
              "outlinewidth": 0,
              "ticks": ""
             }
            },
            "type": "scatterpolar"
           }
          ],
          "scatterpolargl": [
           {
            "marker": {
             "colorbar": {
              "outlinewidth": 0,
              "ticks": ""
             }
            },
            "type": "scatterpolargl"
           }
          ],
          "scatterternary": [
           {
            "marker": {
             "colorbar": {
              "outlinewidth": 0,
              "ticks": ""
             }
            },
            "type": "scatterternary"
           }
          ],
          "surface": [
           {
            "colorbar": {
             "outlinewidth": 0,
             "ticks": ""
            },
            "colorscale": [
             [
              0,
              "#0d0887"
             ],
             [
              0.1111111111111111,
              "#46039f"
             ],
             [
              0.2222222222222222,
              "#7201a8"
             ],
             [
              0.3333333333333333,
              "#9c179e"
             ],
             [
              0.4444444444444444,
              "#bd3786"
             ],
             [
              0.5555555555555556,
              "#d8576b"
             ],
             [
              0.6666666666666666,
              "#ed7953"
             ],
             [
              0.7777777777777778,
              "#fb9f3a"
             ],
             [
              0.8888888888888888,
              "#fdca26"
             ],
             [
              1,
              "#f0f921"
             ]
            ],
            "type": "surface"
           }
          ],
          "table": [
           {
            "cells": {
             "fill": {
              "color": "#EBF0F8"
             },
             "line": {
              "color": "white"
             }
            },
            "header": {
             "fill": {
              "color": "#C8D4E3"
             },
             "line": {
              "color": "white"
             }
            },
            "type": "table"
           }
          ]
         },
         "layout": {
          "annotationdefaults": {
           "arrowcolor": "#2a3f5f",
           "arrowhead": 0,
           "arrowwidth": 1
          },
          "autotypenumbers": "strict",
          "coloraxis": {
           "colorbar": {
            "outlinewidth": 0,
            "ticks": ""
           }
          },
          "colorscale": {
           "diverging": [
            [
             0,
             "#8e0152"
            ],
            [
             0.1,
             "#c51b7d"
            ],
            [
             0.2,
             "#de77ae"
            ],
            [
             0.3,
             "#f1b6da"
            ],
            [
             0.4,
             "#fde0ef"
            ],
            [
             0.5,
             "#f7f7f7"
            ],
            [
             0.6,
             "#e6f5d0"
            ],
            [
             0.7,
             "#b8e186"
            ],
            [
             0.8,
             "#7fbc41"
            ],
            [
             0.9,
             "#4d9221"
            ],
            [
             1,
             "#276419"
            ]
           ],
           "sequential": [
            [
             0,
             "#0d0887"
            ],
            [
             0.1111111111111111,
             "#46039f"
            ],
            [
             0.2222222222222222,
             "#7201a8"
            ],
            [
             0.3333333333333333,
             "#9c179e"
            ],
            [
             0.4444444444444444,
             "#bd3786"
            ],
            [
             0.5555555555555556,
             "#d8576b"
            ],
            [
             0.6666666666666666,
             "#ed7953"
            ],
            [
             0.7777777777777778,
             "#fb9f3a"
            ],
            [
             0.8888888888888888,
             "#fdca26"
            ],
            [
             1,
             "#f0f921"
            ]
           ],
           "sequentialminus": [
            [
             0,
             "#0d0887"
            ],
            [
             0.1111111111111111,
             "#46039f"
            ],
            [
             0.2222222222222222,
             "#7201a8"
            ],
            [
             0.3333333333333333,
             "#9c179e"
            ],
            [
             0.4444444444444444,
             "#bd3786"
            ],
            [
             0.5555555555555556,
             "#d8576b"
            ],
            [
             0.6666666666666666,
             "#ed7953"
            ],
            [
             0.7777777777777778,
             "#fb9f3a"
            ],
            [
             0.8888888888888888,
             "#fdca26"
            ],
            [
             1,
             "#f0f921"
            ]
           ]
          },
          "colorway": [
           "#636efa",
           "#EF553B",
           "#00cc96",
           "#ab63fa",
           "#FFA15A",
           "#19d3f3",
           "#FF6692",
           "#B6E880",
           "#FF97FF",
           "#FECB52"
          ],
          "font": {
           "color": "#2a3f5f"
          },
          "geo": {
           "bgcolor": "white",
           "lakecolor": "white",
           "landcolor": "#E5ECF6",
           "showlakes": true,
           "showland": true,
           "subunitcolor": "white"
          },
          "hoverlabel": {
           "align": "left"
          },
          "hovermode": "closest",
          "mapbox": {
           "style": "light"
          },
          "paper_bgcolor": "white",
          "plot_bgcolor": "#E5ECF6",
          "polar": {
           "angularaxis": {
            "gridcolor": "white",
            "linecolor": "white",
            "ticks": ""
           },
           "bgcolor": "#E5ECF6",
           "radialaxis": {
            "gridcolor": "white",
            "linecolor": "white",
            "ticks": ""
           }
          },
          "scene": {
           "xaxis": {
            "backgroundcolor": "#E5ECF6",
            "gridcolor": "white",
            "gridwidth": 2,
            "linecolor": "white",
            "showbackground": true,
            "ticks": "",
            "zerolinecolor": "white"
           },
           "yaxis": {
            "backgroundcolor": "#E5ECF6",
            "gridcolor": "white",
            "gridwidth": 2,
            "linecolor": "white",
            "showbackground": true,
            "ticks": "",
            "zerolinecolor": "white"
           },
           "zaxis": {
            "backgroundcolor": "#E5ECF6",
            "gridcolor": "white",
            "gridwidth": 2,
            "linecolor": "white",
            "showbackground": true,
            "ticks": "",
            "zerolinecolor": "white"
           }
          },
          "shapedefaults": {
           "line": {
            "color": "#2a3f5f"
           }
          },
          "ternary": {
           "aaxis": {
            "gridcolor": "white",
            "linecolor": "white",
            "ticks": ""
           },
           "baxis": {
            "gridcolor": "white",
            "linecolor": "white",
            "ticks": ""
           },
           "bgcolor": "#E5ECF6",
           "caxis": {
            "gridcolor": "white",
            "linecolor": "white",
            "ticks": ""
           }
          },
          "title": {
           "x": 0.05
          },
          "xaxis": {
           "automargin": true,
           "gridcolor": "white",
           "linecolor": "white",
           "ticks": "",
           "title": {
            "standoff": 15
           },
           "zerolinecolor": "white",
           "zerolinewidth": 2
          },
          "yaxis": {
           "automargin": true,
           "gridcolor": "white",
           "linecolor": "white",
           "ticks": "",
           "title": {
            "standoff": 15
           },
           "zerolinecolor": "white",
           "zerolinewidth": 2
          }
         }
        },
        "title": {
         "text": "Age distribution in basketball teams"
        },
        "xaxis": {
         "anchor": "y",
         "categoryarray": [
          "United States",
          "Spain",
          "Russia",
          "Uruguay",
          "Lithuania",
          "Brazil",
          "Canada",
          "Soviet Union",
          "Croatia",
          "Cuba",
          "Yugoslavia",
          "China",
          "Unified Team",
          "France",
          "Italy",
          "Australia",
          "Serbia and Montenegro",
          "Serbia",
          "Bulgaria",
          "Mexico",
          "South Korea",
          "Argentina"
         ],
         "categoryorder": "array",
         "domain": [
          0,
          1
         ],
         "title": {
          "text": "Team"
         }
        },
        "yaxis": {
         "anchor": "x",
         "domain": [
          0,
          1
         ],
         "title": {
          "text": "Age"
         }
        }
       }
      }
     },
     "metadata": {},
     "output_type": "display_data"
    }
   ],
   "source": [
    "# age distribution in basketball\n",
    "# px.box or px.scatter are the best options here, otherwise i'm getting the sum of ages, which is irrelevant\n",
    "fig = px.box(\n",
    "    df_basketball,\n",
    "    x=\"Team\",\n",
    "    y=\"Age\",\n",
    "    color=\"Team\",\n",
    "    title=\"Age distribution in basketball teams\",\n",
    ")\n",
    "fig.show()"
   ]
  },
  {
   "cell_type": "markdown",
   "metadata": {},
   "source": [
    "### Football analysis and visualization"
   ]
  },
  {
   "cell_type": "code",
   "execution_count": 18,
   "metadata": {},
   "outputs": [
    {
     "data": {
      "text/html": [
       "<div>\n",
       "<style scoped>\n",
       "    .dataframe tbody tr th:only-of-type {\n",
       "        vertical-align: middle;\n",
       "    }\n",
       "\n",
       "    .dataframe tbody tr th {\n",
       "        vertical-align: top;\n",
       "    }\n",
       "\n",
       "    .dataframe thead th {\n",
       "        text-align: right;\n",
       "    }\n",
       "</style>\n",
       "<table border=\"1\" class=\"dataframe\">\n",
       "  <thead>\n",
       "    <tr style=\"text-align: right;\">\n",
       "      <th></th>\n",
       "      <th>Unnamed: 0</th>\n",
       "      <th>ID</th>\n",
       "      <th>Name</th>\n",
       "      <th>Sex</th>\n",
       "      <th>Age</th>\n",
       "      <th>Height</th>\n",
       "      <th>Weight</th>\n",
       "      <th>Team</th>\n",
       "      <th>NOC</th>\n",
       "      <th>Games</th>\n",
       "      <th>Year</th>\n",
       "      <th>Season</th>\n",
       "      <th>City</th>\n",
       "      <th>Sport</th>\n",
       "      <th>Event</th>\n",
       "      <th>Medal</th>\n",
       "    </tr>\n",
       "  </thead>\n",
       "  <tbody>\n",
       "    <tr>\n",
       "      <th>1</th>\n",
       "      <td>2</td>\n",
       "      <td>3</td>\n",
       "      <td>9c198b205332c2c8e1542e0f9534b9e270780a41d978ec...</td>\n",
       "      <td>M</td>\n",
       "      <td>24.0</td>\n",
       "      <td>NaN</td>\n",
       "      <td>NaN</td>\n",
       "      <td>Denmark</td>\n",
       "      <td>DEN</td>\n",
       "      <td>1920 Summer</td>\n",
       "      <td>1920</td>\n",
       "      <td>Summer</td>\n",
       "      <td>Antwerpen</td>\n",
       "      <td>Football</td>\n",
       "      <td>Football Men's Football</td>\n",
       "      <td>NaN</td>\n",
       "    </tr>\n",
       "    <tr>\n",
       "      <th>4</th>\n",
       "      <td>105</td>\n",
       "      <td>37</td>\n",
       "      <td>6ad689f90c7f37c07ea0f681e85f1bbe8621514ff6f5f3...</td>\n",
       "      <td>F</td>\n",
       "      <td>23.0</td>\n",
       "      <td>182.0</td>\n",
       "      <td>64.0</td>\n",
       "      <td>Norway</td>\n",
       "      <td>NOR</td>\n",
       "      <td>1996 Summer</td>\n",
       "      <td>1996</td>\n",
       "      <td>Summer</td>\n",
       "      <td>Atlanta</td>\n",
       "      <td>Football</td>\n",
       "      <td>Football Women's Football</td>\n",
       "      <td>Bronze</td>\n",
       "    </tr>\n",
       "    <tr>\n",
       "      <th>5</th>\n",
       "      <td>116</td>\n",
       "      <td>41</td>\n",
       "      <td>aa20025f80eef8028d6cd4928d7314a8c90c4265d56a62...</td>\n",
       "      <td>M</td>\n",
       "      <td>28.0</td>\n",
       "      <td>NaN</td>\n",
       "      <td>NaN</td>\n",
       "      <td>Norway</td>\n",
       "      <td>NOR</td>\n",
       "      <td>1920 Summer</td>\n",
       "      <td>1920</td>\n",
       "      <td>Summer</td>\n",
       "      <td>Antwerpen</td>\n",
       "      <td>Football</td>\n",
       "      <td>Football Men's Football</td>\n",
       "      <td>NaN</td>\n",
       "    </tr>\n",
       "    <tr>\n",
       "      <th>9</th>\n",
       "      <td>157</td>\n",
       "      <td>61</td>\n",
       "      <td>fdef14e0c91950d56fd8728f20e2e3c4a02ece5485cb85...</td>\n",
       "      <td>M</td>\n",
       "      <td>26.0</td>\n",
       "      <td>175.0</td>\n",
       "      <td>72.0</td>\n",
       "      <td>Bulgaria</td>\n",
       "      <td>BUL</td>\n",
       "      <td>1960 Summer</td>\n",
       "      <td>1960</td>\n",
       "      <td>Summer</td>\n",
       "      <td>Roma</td>\n",
       "      <td>Football</td>\n",
       "      <td>Football Men's Football</td>\n",
       "      <td>NaN</td>\n",
       "    </tr>\n",
       "    <tr>\n",
       "      <th>12</th>\n",
       "      <td>178</td>\n",
       "      <td>76</td>\n",
       "      <td>249b67de44889b5463368af8135994be238b90cf1d16e1...</td>\n",
       "      <td>M</td>\n",
       "      <td>22.0</td>\n",
       "      <td>185.0</td>\n",
       "      <td>82.0</td>\n",
       "      <td>Cameroon</td>\n",
       "      <td>CMR</td>\n",
       "      <td>2000 Summer</td>\n",
       "      <td>2000</td>\n",
       "      <td>Summer</td>\n",
       "      <td>Sydney</td>\n",
       "      <td>Football</td>\n",
       "      <td>Football Men's Football</td>\n",
       "      <td>Gold</td>\n",
       "    </tr>\n",
       "  </tbody>\n",
       "</table>\n",
       "</div>"
      ],
      "text/plain": [
       "    Unnamed: 0  ID                                               Name Sex  \\\n",
       "1            2   3  9c198b205332c2c8e1542e0f9534b9e270780a41d978ec...   M   \n",
       "4          105  37  6ad689f90c7f37c07ea0f681e85f1bbe8621514ff6f5f3...   F   \n",
       "5          116  41  aa20025f80eef8028d6cd4928d7314a8c90c4265d56a62...   M   \n",
       "9          157  61  fdef14e0c91950d56fd8728f20e2e3c4a02ece5485cb85...   M   \n",
       "12         178  76  249b67de44889b5463368af8135994be238b90cf1d16e1...   M   \n",
       "\n",
       "     Age  Height  Weight      Team  NOC        Games  Year  Season       City  \\\n",
       "1   24.0     NaN     NaN   Denmark  DEN  1920 Summer  1920  Summer  Antwerpen   \n",
       "4   23.0   182.0    64.0    Norway  NOR  1996 Summer  1996  Summer    Atlanta   \n",
       "5   28.0     NaN     NaN    Norway  NOR  1920 Summer  1920  Summer  Antwerpen   \n",
       "9   26.0   175.0    72.0  Bulgaria  BUL  1960 Summer  1960  Summer       Roma   \n",
       "12  22.0   185.0    82.0  Cameroon  CMR  2000 Summer  2000  Summer     Sydney   \n",
       "\n",
       "       Sport                      Event   Medal  \n",
       "1   Football    Football Men's Football     NaN  \n",
       "4   Football  Football Women's Football  Bronze  \n",
       "5   Football    Football Men's Football     NaN  \n",
       "9   Football    Football Men's Football     NaN  \n",
       "12  Football    Football Men's Football    Gold  "
      ]
     },
     "execution_count": 18,
     "metadata": {},
     "output_type": "execute_result"
    }
   ],
   "source": [
    "df_football = df_sports[df_sports[\"Sport\"] == \"Football\"]\n",
    "df_football.head()"
   ]
  },
  {
   "cell_type": "code",
   "execution_count": 19,
   "metadata": {},
   "outputs": [
    {
     "data": {
      "application/vnd.plotly.v1+json": {
       "config": {
        "plotlyServerURL": "https://plot.ly"
       },
       "data": [
        {
         "alignmentgroup": "True",
         "bingroup": "x",
         "hovertemplate": "Medal=Gold<br>Team=%{x}<br>count=%{y}<extra></extra>",
         "legendgroup": "Gold",
         "marker": {
          "color": "gold",
          "pattern": {
           "shape": ""
          }
         },
         "name": "Gold",
         "offsetgroup": "Gold",
         "orientation": "v",
         "showlegend": true,
         "type": "histogram",
         "x": [
          "United States",
          "Hungary",
          "Czechoslovakia",
          "Yugoslavia",
          "Soviet Union",
          "United States",
          "Nigeria",
          "Czechoslovakia",
          "Norway",
          "Nigeria",
          "Sweden",
          "Spain",
          "United States",
          "Sweden",
          "Sweden",
          "East Germany",
          "Hungary",
          "Czechoslovakia",
          "United States",
          "East Germany",
          "United States",
          "Hungary",
          "Nigeria",
          "Mexico",
          "Hungary",
          "Denmark",
          "Great Britain",
          "Nigeria",
          "Denmark",
          "Norway",
          "Soviet Union",
          "Yugoslavia",
          "Soviet Union",
          "Yugoslavia",
          "Czechoslovakia",
          "Poland",
          "Yugoslavia",
          "Germany",
          "United States",
          "France",
          "Hungary",
          "Hungary",
          "Poland",
          "Upton Park FC",
          "Poland",
          "Yugoslavia",
          "Nigeria",
          "Norway",
          "Hungary",
          "Hungary",
          "Argentina",
          "Sweden",
          "Great Britain",
          "Norway",
          "Soviet Union",
          "East Germany",
          "United States",
          "United States",
          "Italy",
          "Yugoslavia",
          "Argentina",
          "United States",
          "United States",
          "Germany",
          "Great Britain",
          "Soviet Union",
          "United States",
          "Czechoslovakia",
          "Argentina",
          "Uruguay",
          "Hungary",
          "Argentina",
          "Spain",
          "Uruguay",
          "Poland",
          "Brazil",
          "Italy",
          "Brazil",
          "East Germany",
          "Soviet Union",
          "Belgium",
          "Hungary",
          "Spain",
          "Soviet Union",
          "United States",
          "Germany",
          "Germany",
          "Brazil",
          "Hungary",
          "Argentina",
          "Great Britain",
          "Galt Football Club",
          "Argentina",
          "United States",
          "Cameroon",
          "Cameroon",
          "Cameroon",
          "Uruguay",
          "Uruguay",
          "Czechoslovakia",
          "Mexico",
          "Yugoslavia",
          "Czechoslovakia",
          "United States",
          "Hungary",
          "Czechoslovakia",
          "Hungary",
          "United States",
          "Poland",
          "Soviet Union",
          "Argentina",
          "Cameroon",
          "Poland",
          "Germany",
          "France",
          "Argentina",
          "Soviet Union",
          "Soviet Union",
          "East Germany",
          "United States",
          "United States",
          "France",
          "Norway",
          "Cameroon",
          "Great Britain",
          "Sweden",
          "Denmark",
          "Nigeria",
          "Argentina",
          "Cameroon",
          "Germany",
          "United States",
          "Norway",
          "Italy",
          "Poland",
          "Spain",
          "Belgium",
          "Hungary",
          "Sweden",
          "Galt Football Club",
          "Nigeria",
          "France",
          "United States",
          "Belgium",
          "United States",
          "United States",
          "Spain",
          "Germany",
          "Czechoslovakia",
          "Sweden",
          "United States",
          "United States",
          "United States",
          "Soviet Union",
          "Soviet Union",
          "Uruguay",
          "Uruguay",
          "United States",
          "Great Britain",
          "Poland",
          "Galt Football Club",
          "Uruguay",
          "Hungary",
          "Soviet Union",
          "United States",
          "Italy",
          "Czechoslovakia",
          "United States",
          "Soviet Union",
          "Hungary",
          "Denmark",
          "Brazil",
          "Sweden",
          "Soviet Union",
          "Cameroon",
          "Cameroon",
          "United States",
          "Upton Park FC",
          "Argentina",
          "France",
          "Great Britain",
          "Mexico",
          "Uruguay",
          "Uruguay",
          "Uruguay",
          "Upton Park FC",
          "United States",
          "Great Britain",
          "United States",
          "United States",
          "Hungary",
          "Great Britain",
          "United States",
          "United States",
          "Soviet Union",
          "United States",
          "United States",
          "Galt Football Club",
          "Poland",
          "Argentina",
          "Sweden",
          "East Germany",
          "Italy",
          "Uruguay",
          "Brazil",
          "France",
          "Nigeria",
          "Denmark",
          "Upton Park FC",
          "Hungary",
          "United States",
          "United States",
          "East Germany",
          "Argentina",
          "Argentina",
          "United States",
          "Great Britain",
          "Upton Park FC",
          "Hungary",
          "Upton Park FC",
          "Uruguay",
          "Great Britain",
          "Brazil",
          "East Germany",
          "Belgium",
          "Yugoslavia",
          "Uruguay",
          "Argentina",
          "Spain",
          "Poland",
          "Argentina",
          "United States",
          "Argentina",
          "United States",
          "Belgium",
          "Great Britain",
          "Soviet Union",
          "Italy",
          "East Germany",
          "Mexico",
          "Sweden",
          "Brazil",
          "Galt Football Club",
          "Mexico",
          "United States",
          "Spain",
          "Czechoslovakia",
          "Great Britain",
          "Mexico",
          "Mexico",
          "United States",
          "United States",
          "East Germany",
          "Hungary",
          "Hungary",
          "France",
          "United States",
          "Hungary",
          "Argentina",
          "Germany",
          "Hungary",
          "Brazil",
          "Belgium",
          "Brazil",
          "Great Britain",
          "Cameroon",
          "Hungary",
          "Yugoslavia",
          "Hungary",
          "Denmark",
          "Sweden",
          "Uruguay",
          "Uruguay",
          "Italy",
          "Argentina",
          "Denmark",
          "Mexico",
          "Soviet Union",
          "Uruguay",
          "Uruguay",
          "Uruguay",
          "Norway",
          "France",
          "Argentina",
          "United States",
          "Nigeria",
          "Denmark",
          "Poland",
          "Soviet Union",
          "Nigeria",
          "Spain",
          "Uruguay",
          "Argentina",
          "Argentina",
          "Brazil",
          "United States",
          "Upton Park FC",
          "Brazil",
          "East Germany",
          "Spain",
          "East Germany",
          "Cameroon",
          "France",
          "Yugoslavia",
          "United States",
          "Spain",
          "Nigeria",
          "Nigeria",
          "Soviet Union",
          "Belgium",
          "France",
          "Czechoslovakia",
          "Spain",
          "Great Britain",
          "Great Britain",
          "Italy",
          "Soviet Union",
          "Italy",
          "France",
          "United States",
          "Great Britain",
          "Brazil",
          "Uruguay",
          "Soviet Union",
          "Czechoslovakia",
          "United States",
          "United States",
          "United States",
          "Hungary",
          "Cameroon",
          "Hungary",
          "Great Britain",
          "Great Britain",
          "Italy",
          "Denmark",
          "Belgium",
          "Argentina",
          "Norway",
          "Germany",
          "France",
          "Soviet Union",
          "Hungary",
          "Belgium",
          "Cameroon",
          "Argentina",
          "Brazil",
          "Great Britain",
          "Germany",
          "Norway",
          "Cameroon",
          "Yugoslavia",
          "Nigeria",
          "Hungary",
          "East Germany",
          "Germany",
          "United States",
          "Spain",
          "Mexico",
          "Denmark",
          "Hungary",
          "Argentina",
          "Great Britain",
          "Yugoslavia",
          "Argentina",
          "Mexico",
          "Poland",
          "United States",
          "United States",
          "Great Britain",
          "Germany",
          "Poland",
          "Hungary",
          "Galt Football Club",
          "United States",
          "Norway",
          "Galt Football Club",
          "Hungary",
          "Poland",
          "East Germany",
          "Galt Football Club",
          "United States",
          "United States",
          "Great Britain",
          "Belgium",
          "Great Britain",
          "Soviet Union",
          "Upton Park FC",
          "Soviet Union",
          "Norway",
          "Great Britain",
          "United States",
          "United States",
          "Belgium",
          "East Germany",
          "Nigeria",
          "Soviet Union",
          "Hungary",
          "Yugoslavia",
          "Uruguay",
          "Yugoslavia",
          "United States",
          "Cameroon",
          "Cameroon",
          "Soviet Union",
          "Nigeria",
          "Germany",
          "Hungary",
          "Poland",
          "Soviet Union",
          "Hungary",
          "Germany",
          "Germany",
          "Soviet Union",
          "Mexico",
          "Spain",
          "Galt Football Club",
          "Hungary",
          "Norway",
          "Upton Park FC",
          "Galt Football Club",
          "Soviet Union",
          "Germany",
          "Hungary",
          "Soviet Union",
          "Hungary",
          "Hungary",
          "Hungary",
          "Soviet Union",
          "France",
          "Norway",
          "Belgium",
          "Czechoslovakia",
          "Italy",
          "Norway",
          "Mexico",
          "Mexico",
          "Uruguay",
          "Brazil",
          "Argentina",
          "Norway",
          "Italy",
          "Spain",
          "Denmark",
          "Belgium",
          "Uruguay",
          "Argentina",
          "Uruguay",
          "Soviet Union",
          "Uruguay",
          "United States",
          "Brazil",
          "United States",
          "Galt Football Club",
          "Denmark",
          "Czechoslovakia",
          "Italy",
          "Uruguay",
          "Spain",
          "United States",
          "Czechoslovakia",
          "Uruguay",
          "Brazil",
          "Argentina",
          "Yugoslavia",
          "Mexico",
          "Cameroon",
          "France",
          "Belgium",
          "Norway",
          "Germany",
          "Cameroon",
          "Soviet Union",
          "Mexico",
          "Mexico",
          "Hungary",
          "Hungary",
          "Nigeria",
          "United States",
          "United States",
          "Hungary",
          "Brazil",
          "United States",
          "Germany",
          "Spain",
          "Uruguay",
          "Uruguay",
          "Italy",
          "Argentina",
          "Argentina",
          "Argentina",
          "Poland",
          "France",
          "Soviet Union",
          "Uruguay",
          "Upton Park FC",
          "Uruguay",
          "Galt Football Club",
          "East Germany",
          "Cameroon",
          "Hungary",
          "Hungary",
          "Soviet Union",
          "Poland",
          "Argentina",
          "Yugoslavia",
          "Galt Football Club",
          "France",
          "Spain",
          "Argentina",
          "Sweden",
          "Hungary",
          "Upton Park FC",
          "East Germany",
          "Argentina",
          "Norway"
         ],
         "xaxis": "x",
         "yaxis": "y"
        },
        {
         "alignmentgroup": "True",
         "bingroup": "x",
         "hovertemplate": "Medal=Silver<br>Team=%{x}<br>count=%{y}<extra></extra>",
         "legendgroup": "Silver",
         "marker": {
          "color": "silver",
          "pattern": {
           "shape": ""
          }
         },
         "name": "Silver",
         "offsetgroup": "Silver",
         "orientation": "v",
         "showlegend": true,
         "type": "histogram",
         "x": [
          "Brazil",
          "Yugoslavia",
          "Brazil",
          "Sweden",
          "Hungary",
          "Brazil",
          "Brazil",
          "Brazil",
          "United States",
          "Yugoslavia",
          "Brazil",
          "Czechoslovakia",
          "Switzerland",
          "Brazil",
          "USFSA",
          "Spain",
          "Denmark",
          "China",
          "Paraguay",
          "China",
          "United States",
          "Brazil",
          "Spain",
          "United States",
          "China",
          "Czechoslovakia",
          "Switzerland",
          "United States",
          "Spain",
          "USFSA",
          "Spain",
          "Denmark",
          "Christian Brothers' College-1",
          "Argentina",
          "Spain",
          "Sweden",
          "East Germany",
          "Austria",
          "East Germany",
          "Yugoslavia",
          "Denmark",
          "Brazil",
          "USFSA",
          "Denmark",
          "Bulgaria",
          "East Germany",
          "China",
          "Hungary",
          "Brazil",
          "Czechoslovakia",
          "Bulgaria",
          "Brazil",
          "United States",
          "Argentina",
          "China",
          "Japan",
          "Brazil",
          "Argentina",
          "East Germany",
          "Argentina",
          "Spain",
          "Spain",
          "Brazil",
          "USFSA",
          "Brazil",
          "Argentina",
          "China",
          "Argentina",
          "Brazil",
          "Paraguay",
          "Denmark",
          "Austria",
          "Argentina",
          "Poland",
          "Paraguay",
          "Hungary",
          "Germany",
          "Brazil",
          "Argentina",
          "Germany",
          "Paraguay",
          "Yugoslavia",
          "Poland",
          "Argentina",
          "Paraguay",
          "Czechoslovakia",
          "Sweden",
          "Switzerland",
          "Hungary",
          "Poland",
          "Yugoslavia",
          "Brazil",
          "Brazil",
          "Yugoslavia",
          "Czechoslovakia",
          "Argentina",
          "Yugoslavia",
          "Hungary",
          "Yugoslavia",
          "Sweden",
          "Brazil",
          "Germany",
          "Brazil",
          "Brazil",
          "Denmark",
          "Brazil",
          "Czechoslovakia",
          "Brazil",
          "Bulgaria",
          "Bulgaria",
          "Czechoslovakia",
          "Brazil",
          "Brazil",
          "Brazil",
          "Paraguay",
          "Nigeria",
          "Denmark",
          "Spain",
          "Brazil",
          "Switzerland",
          "Sweden",
          "Brazil",
          "Argentina",
          "United States",
          "Paraguay",
          "Brazil",
          "Nigeria",
          "Spain",
          "Bulgaria",
          "Paraguay",
          "Yugoslavia",
          "Yugoslavia",
          "Spain",
          "Japan",
          "Denmark",
          "Bulgaria",
          "Brazil",
          "Brazil",
          "Hungary",
          "Hungary",
          "Brazil",
          "Brazil",
          "USFSA",
          "Hungary",
          "Bulgaria",
          "Denmark",
          "Christian Brothers' College-1",
          "Nigeria",
          "Denmark",
          "Denmark",
          "Yugoslavia",
          "Brazil",
          "Denmark",
          "Czechoslovakia",
          "Brazil",
          "China",
          "Smyrna",
          "Brazil",
          "China",
          "Germany",
          "Brazil",
          "Spain",
          "Yugoslavia",
          "Yugoslavia",
          "Poland",
          "Christian Brothers' College-1",
          "Japan",
          "Poland",
          "Hungary",
          "Bulgaria",
          "Poland",
          "Bulgaria",
          "Hungary",
          "Japan",
          "Christian Brothers' College-1",
          "Sweden",
          "East Germany",
          "Nigeria",
          "Poland",
          "Poland",
          "Christian Brothers' College-1",
          "Denmark",
          "Brazil",
          "Brazil",
          "Poland",
          "Japan",
          "Poland",
          "Austria",
          "East Germany",
          "Brazil",
          "Germany",
          "Yugoslavia",
          "Poland",
          "Austria",
          "Bulgaria",
          "Bulgaria",
          "Brazil",
          "Brazil",
          "USFSA",
          "Argentina",
          "Czechoslovakia",
          "Hungary",
          "Austria",
          "Brazil",
          "Poland",
          "Hungary",
          "Germany",
          "Japan",
          "Austria",
          "Nigeria",
          "Czechoslovakia",
          "Denmark",
          "Switzerland",
          "Poland",
          "East Germany",
          "Austria",
          "Poland",
          "Yugoslavia",
          "Switzerland",
          "Hungary",
          "Hungary",
          "Poland",
          "Czechoslovakia",
          "Yugoslavia",
          "Germany",
          "USFSA",
          "Argentina",
          "Brazil",
          "Argentina",
          "Poland",
          "Brazil",
          "United States",
          "Christian Brothers' College-1",
          "Bulgaria",
          "East Germany",
          "Austria",
          "East Germany",
          "Brazil",
          "Poland",
          "Smyrna",
          "Spain",
          "Paraguay",
          "Brazil",
          "Brazil",
          "Paraguay",
          "Germany",
          "Smyrna",
          "United States",
          "Germany",
          "Brazil",
          "Paraguay",
          "Sweden",
          "Spain",
          "Germany",
          "United States",
          "Sweden",
          "Denmark",
          "Yugoslavia",
          "Spain",
          "Austria",
          "Japan",
          "Spain",
          "Japan",
          "Germany",
          "East Germany",
          "Czechoslovakia",
          "Hungary",
          "Brazil",
          "Yugoslavia",
          "USFSA",
          "Poland",
          "Austria",
          "Japan",
          "Brazil",
          "Denmark",
          "East Germany",
          "Denmark",
          "Argentina",
          "Poland",
          "Denmark",
          "Brazil",
          "Brazil",
          "United States",
          "Brazil",
          "USFSA",
          "Spain",
          "Smyrna",
          "Argentina",
          "Austria",
          "Brazil",
          "Sweden",
          "Japan",
          "Spain",
          "Switzerland",
          "Japan",
          "Brazil",
          "Argentina",
          "Denmark",
          "Yugoslavia",
          "Yugoslavia",
          "Brazil",
          "Nigeria",
          "Brazil",
          "USFSA",
          "Sweden",
          "Yugoslavia",
          "Brazil",
          "Yugoslavia",
          "Argentina",
          "Denmark",
          "Brazil",
          "Brazil",
          "Brazil",
          "Brazil",
          "Denmark",
          "Brazil",
          "Denmark",
          "Sweden",
          "Christian Brothers' College-1",
          "Czechoslovakia",
          "Yugoslavia",
          "Sweden",
          "Paraguay",
          "Japan",
          "Christian Brothers' College-1",
          "Christian Brothers' College-1",
          "Nigeria",
          "Yugoslavia",
          "Japan",
          "Smyrna",
          "Nigeria",
          "East Germany",
          "United States",
          "Smyrna",
          "Hungary",
          "Germany",
          "Spain",
          "Bulgaria",
          "Denmark",
          "Smyrna",
          "Poland",
          "Smyrna",
          "Denmark",
          "Japan",
          "Nigeria",
          "Poland",
          "Spain",
          "Yugoslavia",
          "Argentina",
          "Argentina",
          "Brazil",
          "Poland",
          "Austria",
          "Brazil",
          "Denmark",
          "Argentina",
          "Denmark",
          "Denmark",
          "Denmark",
          "Christian Brothers' College-1",
          "Bulgaria",
          "Sweden",
          "Denmark",
          "Paraguay",
          "Paraguay",
          "Paraguay",
          "Denmark",
          "China",
          "Poland",
          "Bulgaria",
          "Yugoslavia",
          "Bulgaria",
          "Argentina",
          "Argentina",
          "Switzerland",
          "Hungary",
          "Japan",
          "Poland",
          "USFSA",
          "Spain",
          "Spain",
          "Denmark",
          "Brazil",
          "Spain",
          "Germany",
          "Germany",
          "East Germany",
          "Spain",
          "Yugoslavia",
          "Brazil",
          "Nigeria",
          "Japan",
          "Yugoslavia",
          "Nigeria",
          "Sweden",
          "Spain",
          "Switzerland",
          "Sweden",
          "Brazil",
          "Denmark",
          "Spain",
          "Brazil",
          "Denmark",
          "Yugoslavia",
          "Spain",
          "East Germany",
          "Germany",
          "China",
          "Brazil",
          "Spain",
          "Yugoslavia",
          "Smyrna",
          "Yugoslavia",
          "Sweden",
          "China",
          "Denmark",
          "Argentina",
          "Germany",
          "Bulgaria",
          "Yugoslavia",
          "Brazil",
          "Argentina",
          "China",
          "Nigeria",
          "United States",
          "Spain",
          "China",
          "Sweden",
          "Brazil",
          "Switzerland",
          "Czechoslovakia",
          "United States",
          "Smyrna",
          "Denmark",
          "Spain",
          "Spain",
          "Poland",
          "Argentina",
          "Switzerland",
          "Brazil",
          "Yugoslavia",
          "Yugoslavia",
          "Yugoslavia",
          "Poland",
          "Smyrna",
          "Brazil",
          "Poland",
          "Brazil",
          "Christian Brothers' College-1",
          "Switzerland",
          "Yugoslavia",
          "Brazil",
          "Switzerland",
          "Brazil",
          "Paraguay",
          "Argentina",
          "Spain",
          "Austria",
          "Brazil",
          "Germany",
          "Poland",
          "Bulgaria",
          "Nigeria",
          "Nigeria",
          "Brazil",
          "Denmark",
          "Denmark",
          "Denmark",
          "Poland",
          "Switzerland",
          "Poland",
          "Yugoslavia",
          "East Germany",
          "Argentina",
          "Argentina",
          "Czechoslovakia",
          "Spain",
          "Czechoslovakia",
          "Argentina",
          "Yugoslavia",
          "Poland",
          "Nigeria",
          "Japan",
          "Yugoslavia",
          "Japan",
          "Argentina",
          "Yugoslavia",
          "Denmark",
          "Argentina",
          "Brazil",
          "Czechoslovakia",
          "Switzerland",
          "Argentina",
          "Denmark",
          "East Germany",
          "USFSA",
          "Paraguay",
          "Sweden",
          "Argentina",
          "Nigeria",
          "Brazil",
          "Brazil",
          "Poland",
          "Spain",
          "Spain",
          "Brazil",
          "China",
          "Spain",
          "East Germany",
          "Brazil",
          "China",
          "Poland",
          "USFSA"
         ],
         "xaxis": "x",
         "yaxis": "y"
        },
        {
         "alignmentgroup": "True",
         "bingroup": "x",
         "hovertemplate": "Medal=Bronze<br>Team=%{x}<br>count=%{y}<extra></extra>",
         "legendgroup": "Bronze",
         "marker": {
          "color": "brown",
          "pattern": {
           "shape": ""
          }
         },
         "name": "Bronze",
         "offsetgroup": "Bronze",
         "orientation": "v",
         "showlegend": true,
         "type": "histogram",
         "x": [
          "Brazil",
          "Italy",
          "Brazil",
          "Brazil",
          "Norway",
          "Canada",
          "Soviet Union",
          "Germany",
          "Italy",
          "Chile",
          "Brazil",
          "Germany",
          "Italy",
          "Germany",
          "Soviet Union",
          "West Germany",
          "Norway",
          "Sweden",
          "Netherlands",
          "Netherlands",
          "Netherlands",
          "East Germany",
          "Germany",
          "Hungary",
          "Netherlands",
          "Soviet Union",
          "Hungary",
          "Thessalonki-1",
          "Netherlands",
          "Univ. of Brussels",
          "Netherlands",
          "Netherlands",
          "Germany",
          "Germany",
          "Germany",
          "Nigeria",
          "Nigeria",
          "Norway",
          "Nigeria",
          "Soviet Union",
          "Nigeria",
          "Hungary",
          "Japan",
          "Canada",
          "Univ. of Brussels",
          "Netherlands",
          "Netherlands",
          "West Germany",
          "Japan",
          "Sweden",
          "Bulgaria",
          "Brazil",
          "Brazil",
          "Thessalonki-1",
          "East Germany",
          "Soviet Union",
          "Chile",
          "Canada",
          "South Korea",
          "Japan",
          "Bulgaria",
          "Japan",
          "Soviet Union",
          "Soviet Union",
          "Japan",
          "East Germany",
          "Soviet Union",
          "Japan",
          "West Germany",
          "Germany",
          "Germany",
          "Germany",
          "Canada",
          "Canada",
          "Netherlands",
          "Germany",
          "Netherlands",
          "East Germany",
          "Germany",
          "Chile",
          "Thessalonki-1",
          "St. Rose-2",
          "Canada",
          "Nigeria",
          "Brazil",
          "Brazil",
          "West Germany",
          "Nigeria",
          "Soviet Union",
          "Canada",
          "Soviet Union",
          "East Germany",
          "Germany",
          "Denmark",
          "Italy",
          "Canada",
          "West Germany",
          "Chile",
          "East Germany",
          "West Germany",
          "Canada",
          "Canada",
          "Italy",
          "Brazil",
          "Hungary",
          "Thessalonki-1",
          "Sweden",
          "Norway",
          "Sweden",
          "Nigeria",
          "Soviet Union",
          "Canada",
          "Canada",
          "Yugoslavia",
          "Germany",
          "Norway",
          "Canada",
          "Canada",
          "Norway",
          "Sweden",
          "Sweden",
          "Sweden",
          "Soviet Union",
          "Japan",
          "Norway",
          "East Germany",
          "Bulgaria",
          "Yugoslavia",
          "Germany",
          "Canada",
          "Germany",
          "Germany",
          "Germany",
          "Netherlands",
          "East Germany",
          "Univ. of Brussels",
          "Denmark",
          "Thessalonki-1",
          "Hungary",
          "Netherlands",
          "Brazil",
          "Netherlands",
          "Chile",
          "South Korea",
          "Soviet Union",
          "Norway",
          "Nigeria",
          "West Germany",
          "Hungary",
          "Netherlands",
          "Italy",
          "Canada",
          "Germany",
          "Canada",
          "Soviet Union",
          "Netherlands",
          "Norway",
          "Germany",
          "Germany",
          "Sweden",
          "St. Rose-2",
          "Norway",
          "West Germany",
          "Germany",
          "Soviet Union",
          "East Germany",
          "Germany",
          "Nigeria",
          "Nigeria",
          "Ghana",
          "Norway",
          "Italy",
          "Italy",
          "Netherlands",
          "Italy",
          "Univ. of Brussels",
          "Netherlands",
          "Yugoslavia",
          "Brazil",
          "Brazil",
          "St. Rose-2",
          "Bulgaria",
          "Bulgaria",
          "Italy",
          "St. Rose-2",
          "Ghana",
          "East Germany",
          "Hungary",
          "Hungary",
          "Soviet Union",
          "Yugoslavia",
          "Germany",
          "Germany",
          "Italy",
          "Netherlands",
          "Denmark",
          "Norway",
          "Sweden",
          "West Germany",
          "Norway",
          "Netherlands",
          "Germany",
          "Chile",
          "Brazil",
          "Sweden",
          "Germany",
          "Germany",
          "Germany",
          "Sweden",
          "Germany",
          "Sweden",
          "Norway",
          "Norway",
          "Norway",
          "West Germany",
          "Soviet Union",
          "South Korea",
          "Denmark",
          "East Germany",
          "Soviet Union",
          "Sweden",
          "Canada",
          "Soviet Union",
          "Germany",
          "Italy",
          "South Korea",
          "Italy",
          "Netherlands",
          "Chile",
          "Bulgaria",
          "Hungary",
          "West Germany",
          "Germany",
          "Germany",
          "Yugoslavia",
          "West Germany",
          "Germany",
          "Netherlands",
          "South Korea",
          "Brazil",
          "Germany",
          "Yugoslavia",
          "Netherlands",
          "Netherlands",
          "Brazil",
          "Chile",
          "Ghana",
          "Soviet Union",
          "Ghana",
          "Nigeria",
          "Germany",
          "South Korea",
          "Germany",
          "Yugoslavia",
          "Italy",
          "Soviet Union",
          "Italy",
          "Germany",
          "Italy",
          "Germany",
          "Yugoslavia",
          "Brazil",
          "Canada",
          "Netherlands",
          "Germany",
          "Canada",
          "Italy",
          "Ghana",
          "Germany",
          "Italy",
          "Soviet Union",
          "Thessalonki-1",
          "Ghana",
          "Ghana",
          "Ghana",
          "Sweden",
          "Nigeria",
          "Nigeria",
          "Hungary",
          "Brazil",
          "Brazil",
          "Sweden",
          "Chile",
          "Ghana",
          "Ghana",
          "Brazil",
          "Nigeria",
          "Norway",
          "Norway",
          "Brazil",
          "Brazil",
          "Soviet Union",
          "Sweden",
          "Soviet Union",
          "Netherlands",
          "Yugoslavia",
          "Sweden",
          "Canada",
          "Canada",
          "Soviet Union",
          "Soviet Union",
          "Italy",
          "Soviet Union",
          "Italy",
          "Brazil",
          "Chile",
          "St. Rose-2",
          "St. Rose-2",
          "St. Rose-2",
          "East Germany",
          "Yugoslavia",
          "Canada",
          "Sweden",
          "Hungary",
          "Nigeria",
          "Soviet Union",
          "Netherlands",
          "Norway",
          "Italy",
          "Netherlands",
          "Soviet Union",
          "Soviet Union",
          "Soviet Union",
          "West Germany",
          "Italy",
          "Netherlands",
          "Netherlands",
          "Netherlands",
          "Netherlands",
          "Italy",
          "Bulgaria",
          "St. Rose-2",
          "Germany",
          "East Germany",
          "Brazil",
          "Germany",
          "Sweden",
          "Sweden",
          "Norway",
          "Canada",
          "Netherlands",
          "Netherlands",
          "Chile",
          "East Germany",
          "Univ. of Brussels",
          "Canada",
          "Bulgaria",
          "Soviet Union",
          "Univ. of Brussels",
          "Brazil",
          "Denmark",
          "Yugoslavia",
          "Soviet Union",
          "Sweden",
          "Germany",
          "Norway",
          "Hungary",
          "Chile",
          "Ghana",
          "South Korea",
          "St. Rose-2",
          "Germany",
          "Japan",
          "Germany",
          "Chile",
          "Soviet Union",
          "Germany",
          "Chile",
          "Brazil",
          "Soviet Union",
          "South Korea",
          "Thessalonki-1",
          "Bulgaria",
          "Yugoslavia",
          "West Germany",
          "Soviet Union",
          "Germany",
          "Germany",
          "Germany",
          "Japan",
          "Japan",
          "Norway",
          "Univ. of Brussels",
          "Italy",
          "Japan",
          "Canada",
          "Yugoslavia",
          "Nigeria",
          "Germany",
          "Germany",
          "Netherlands",
          "Norway",
          "Soviet Union",
          "Chile",
          "Italy",
          "Chile",
          "Germany",
          "Germany",
          "East Germany",
          "Ghana",
          "Canada",
          "Germany",
          "Germany",
          "Germany",
          "Soviet Union",
          "Denmark",
          "Yugoslavia",
          "Ghana",
          "Canada",
          "Yugoslavia",
          "Brazil",
          "Ghana",
          "Bulgaria",
          "Hungary",
          "Brazil",
          "Netherlands",
          "Brazil",
          "Denmark",
          "Italy",
          "Hungary",
          "Italy",
          "Denmark",
          "Netherlands",
          "Denmark",
          "Hungary",
          "Italy",
          "Bulgaria",
          "Germany",
          "South Korea",
          "South Korea",
          "Canada",
          "Univ. of Brussels",
          "Italy",
          "Thessalonki-1",
          "Germany",
          "Norway",
          "Italy",
          "Soviet Union",
          "Soviet Union",
          "Denmark",
          "Thessalonki-1",
          "Italy",
          "Nigeria",
          "Ghana",
          "Norway",
          "Thessalonki-1",
          "Japan",
          "Sweden",
          "Univ. of Brussels",
          "Sweden",
          "Soviet Union",
          "Soviet Union",
          "South Korea",
          "South Korea",
          "South Korea",
          "South Korea",
          "South Korea",
          "West Germany",
          "West Germany",
          "Sweden",
          "Netherlands",
          "Bulgaria",
          "Soviet Union",
          "Soviet Union",
          "Ghana",
          "Soviet Union",
          "Germany",
          "Yugoslavia",
          "Soviet Union",
          "Hungary",
          "West Germany",
          "Soviet Union",
          "Yugoslavia",
          "St. Rose-2",
          "St. Rose-2",
          "Italy",
          "West Germany",
          "Denmark",
          "Denmark",
          "South Korea",
          "South Korea",
          "South Korea",
          "Brazil",
          "Norway",
          "St. Rose-2",
          "Germany",
          "Germany",
          "Brazil",
          "Norway",
          "Ghana",
          "Japan",
          "Japan",
          "Bulgaria",
          "Germany",
          "Sweden",
          "Sweden",
          "Netherlands",
          "Soviet Union",
          "Brazil",
          "Brazil",
          "Denmark",
          "Sweden",
          "Netherlands",
          "Nigeria",
          "Italy",
          "Chile",
          "Bulgaria",
          "Brazil",
          "Brazil",
          "Norway",
          "Canada",
          "Canada",
          "Japan",
          "Soviet Union",
          "Canada",
          "Norway",
          "Germany",
          "Univ. of Brussels",
          "Germany",
          "East Germany",
          "Germany",
          "Ghana",
          "Netherlands",
          "Soviet Union",
          "Ghana",
          "East Germany",
          "Japan",
          "Norway",
          "Canada",
          "Thessalonki-1",
          "Canada",
          "Ghana",
          "Germany",
          "Canada",
          "Canada",
          "Univ. of Brussels",
          "Italy",
          "Sweden",
          "Sweden",
          "Sweden",
          "Germany",
          "Germany",
          "Soviet Union"
         ],
         "xaxis": "x",
         "yaxis": "y"
        }
       ],
       "layout": {
        "barmode": "group",
        "legend": {
         "title": {
          "text": "Medal"
         },
         "tracegroupgap": 0
        },
        "template": {
         "data": {
          "bar": [
           {
            "error_x": {
             "color": "#2a3f5f"
            },
            "error_y": {
             "color": "#2a3f5f"
            },
            "marker": {
             "line": {
              "color": "#E5ECF6",
              "width": 0.5
             },
             "pattern": {
              "fillmode": "overlay",
              "size": 10,
              "solidity": 0.2
             }
            },
            "type": "bar"
           }
          ],
          "barpolar": [
           {
            "marker": {
             "line": {
              "color": "#E5ECF6",
              "width": 0.5
             },
             "pattern": {
              "fillmode": "overlay",
              "size": 10,
              "solidity": 0.2
             }
            },
            "type": "barpolar"
           }
          ],
          "carpet": [
           {
            "aaxis": {
             "endlinecolor": "#2a3f5f",
             "gridcolor": "white",
             "linecolor": "white",
             "minorgridcolor": "white",
             "startlinecolor": "#2a3f5f"
            },
            "baxis": {
             "endlinecolor": "#2a3f5f",
             "gridcolor": "white",
             "linecolor": "white",
             "minorgridcolor": "white",
             "startlinecolor": "#2a3f5f"
            },
            "type": "carpet"
           }
          ],
          "choropleth": [
           {
            "colorbar": {
             "outlinewidth": 0,
             "ticks": ""
            },
            "type": "choropleth"
           }
          ],
          "contour": [
           {
            "colorbar": {
             "outlinewidth": 0,
             "ticks": ""
            },
            "colorscale": [
             [
              0,
              "#0d0887"
             ],
             [
              0.1111111111111111,
              "#46039f"
             ],
             [
              0.2222222222222222,
              "#7201a8"
             ],
             [
              0.3333333333333333,
              "#9c179e"
             ],
             [
              0.4444444444444444,
              "#bd3786"
             ],
             [
              0.5555555555555556,
              "#d8576b"
             ],
             [
              0.6666666666666666,
              "#ed7953"
             ],
             [
              0.7777777777777778,
              "#fb9f3a"
             ],
             [
              0.8888888888888888,
              "#fdca26"
             ],
             [
              1,
              "#f0f921"
             ]
            ],
            "type": "contour"
           }
          ],
          "contourcarpet": [
           {
            "colorbar": {
             "outlinewidth": 0,
             "ticks": ""
            },
            "type": "contourcarpet"
           }
          ],
          "heatmap": [
           {
            "colorbar": {
             "outlinewidth": 0,
             "ticks": ""
            },
            "colorscale": [
             [
              0,
              "#0d0887"
             ],
             [
              0.1111111111111111,
              "#46039f"
             ],
             [
              0.2222222222222222,
              "#7201a8"
             ],
             [
              0.3333333333333333,
              "#9c179e"
             ],
             [
              0.4444444444444444,
              "#bd3786"
             ],
             [
              0.5555555555555556,
              "#d8576b"
             ],
             [
              0.6666666666666666,
              "#ed7953"
             ],
             [
              0.7777777777777778,
              "#fb9f3a"
             ],
             [
              0.8888888888888888,
              "#fdca26"
             ],
             [
              1,
              "#f0f921"
             ]
            ],
            "type": "heatmap"
           }
          ],
          "heatmapgl": [
           {
            "colorbar": {
             "outlinewidth": 0,
             "ticks": ""
            },
            "colorscale": [
             [
              0,
              "#0d0887"
             ],
             [
              0.1111111111111111,
              "#46039f"
             ],
             [
              0.2222222222222222,
              "#7201a8"
             ],
             [
              0.3333333333333333,
              "#9c179e"
             ],
             [
              0.4444444444444444,
              "#bd3786"
             ],
             [
              0.5555555555555556,
              "#d8576b"
             ],
             [
              0.6666666666666666,
              "#ed7953"
             ],
             [
              0.7777777777777778,
              "#fb9f3a"
             ],
             [
              0.8888888888888888,
              "#fdca26"
             ],
             [
              1,
              "#f0f921"
             ]
            ],
            "type": "heatmapgl"
           }
          ],
          "histogram": [
           {
            "marker": {
             "pattern": {
              "fillmode": "overlay",
              "size": 10,
              "solidity": 0.2
             }
            },
            "type": "histogram"
           }
          ],
          "histogram2d": [
           {
            "colorbar": {
             "outlinewidth": 0,
             "ticks": ""
            },
            "colorscale": [
             [
              0,
              "#0d0887"
             ],
             [
              0.1111111111111111,
              "#46039f"
             ],
             [
              0.2222222222222222,
              "#7201a8"
             ],
             [
              0.3333333333333333,
              "#9c179e"
             ],
             [
              0.4444444444444444,
              "#bd3786"
             ],
             [
              0.5555555555555556,
              "#d8576b"
             ],
             [
              0.6666666666666666,
              "#ed7953"
             ],
             [
              0.7777777777777778,
              "#fb9f3a"
             ],
             [
              0.8888888888888888,
              "#fdca26"
             ],
             [
              1,
              "#f0f921"
             ]
            ],
            "type": "histogram2d"
           }
          ],
          "histogram2dcontour": [
           {
            "colorbar": {
             "outlinewidth": 0,
             "ticks": ""
            },
            "colorscale": [
             [
              0,
              "#0d0887"
             ],
             [
              0.1111111111111111,
              "#46039f"
             ],
             [
              0.2222222222222222,
              "#7201a8"
             ],
             [
              0.3333333333333333,
              "#9c179e"
             ],
             [
              0.4444444444444444,
              "#bd3786"
             ],
             [
              0.5555555555555556,
              "#d8576b"
             ],
             [
              0.6666666666666666,
              "#ed7953"
             ],
             [
              0.7777777777777778,
              "#fb9f3a"
             ],
             [
              0.8888888888888888,
              "#fdca26"
             ],
             [
              1,
              "#f0f921"
             ]
            ],
            "type": "histogram2dcontour"
           }
          ],
          "mesh3d": [
           {
            "colorbar": {
             "outlinewidth": 0,
             "ticks": ""
            },
            "type": "mesh3d"
           }
          ],
          "parcoords": [
           {
            "line": {
             "colorbar": {
              "outlinewidth": 0,
              "ticks": ""
             }
            },
            "type": "parcoords"
           }
          ],
          "pie": [
           {
            "automargin": true,
            "type": "pie"
           }
          ],
          "scatter": [
           {
            "fillpattern": {
             "fillmode": "overlay",
             "size": 10,
             "solidity": 0.2
            },
            "type": "scatter"
           }
          ],
          "scatter3d": [
           {
            "line": {
             "colorbar": {
              "outlinewidth": 0,
              "ticks": ""
             }
            },
            "marker": {
             "colorbar": {
              "outlinewidth": 0,
              "ticks": ""
             }
            },
            "type": "scatter3d"
           }
          ],
          "scattercarpet": [
           {
            "marker": {
             "colorbar": {
              "outlinewidth": 0,
              "ticks": ""
             }
            },
            "type": "scattercarpet"
           }
          ],
          "scattergeo": [
           {
            "marker": {
             "colorbar": {
              "outlinewidth": 0,
              "ticks": ""
             }
            },
            "type": "scattergeo"
           }
          ],
          "scattergl": [
           {
            "marker": {
             "colorbar": {
              "outlinewidth": 0,
              "ticks": ""
             }
            },
            "type": "scattergl"
           }
          ],
          "scattermapbox": [
           {
            "marker": {
             "colorbar": {
              "outlinewidth": 0,
              "ticks": ""
             }
            },
            "type": "scattermapbox"
           }
          ],
          "scatterpolar": [
           {
            "marker": {
             "colorbar": {
              "outlinewidth": 0,
              "ticks": ""
             }
            },
            "type": "scatterpolar"
           }
          ],
          "scatterpolargl": [
           {
            "marker": {
             "colorbar": {
              "outlinewidth": 0,
              "ticks": ""
             }
            },
            "type": "scatterpolargl"
           }
          ],
          "scatterternary": [
           {
            "marker": {
             "colorbar": {
              "outlinewidth": 0,
              "ticks": ""
             }
            },
            "type": "scatterternary"
           }
          ],
          "surface": [
           {
            "colorbar": {
             "outlinewidth": 0,
             "ticks": ""
            },
            "colorscale": [
             [
              0,
              "#0d0887"
             ],
             [
              0.1111111111111111,
              "#46039f"
             ],
             [
              0.2222222222222222,
              "#7201a8"
             ],
             [
              0.3333333333333333,
              "#9c179e"
             ],
             [
              0.4444444444444444,
              "#bd3786"
             ],
             [
              0.5555555555555556,
              "#d8576b"
             ],
             [
              0.6666666666666666,
              "#ed7953"
             ],
             [
              0.7777777777777778,
              "#fb9f3a"
             ],
             [
              0.8888888888888888,
              "#fdca26"
             ],
             [
              1,
              "#f0f921"
             ]
            ],
            "type": "surface"
           }
          ],
          "table": [
           {
            "cells": {
             "fill": {
              "color": "#EBF0F8"
             },
             "line": {
              "color": "white"
             }
            },
            "header": {
             "fill": {
              "color": "#C8D4E3"
             },
             "line": {
              "color": "white"
             }
            },
            "type": "table"
           }
          ]
         },
         "layout": {
          "annotationdefaults": {
           "arrowcolor": "#2a3f5f",
           "arrowhead": 0,
           "arrowwidth": 1
          },
          "autotypenumbers": "strict",
          "coloraxis": {
           "colorbar": {
            "outlinewidth": 0,
            "ticks": ""
           }
          },
          "colorscale": {
           "diverging": [
            [
             0,
             "#8e0152"
            ],
            [
             0.1,
             "#c51b7d"
            ],
            [
             0.2,
             "#de77ae"
            ],
            [
             0.3,
             "#f1b6da"
            ],
            [
             0.4,
             "#fde0ef"
            ],
            [
             0.5,
             "#f7f7f7"
            ],
            [
             0.6,
             "#e6f5d0"
            ],
            [
             0.7,
             "#b8e186"
            ],
            [
             0.8,
             "#7fbc41"
            ],
            [
             0.9,
             "#4d9221"
            ],
            [
             1,
             "#276419"
            ]
           ],
           "sequential": [
            [
             0,
             "#0d0887"
            ],
            [
             0.1111111111111111,
             "#46039f"
            ],
            [
             0.2222222222222222,
             "#7201a8"
            ],
            [
             0.3333333333333333,
             "#9c179e"
            ],
            [
             0.4444444444444444,
             "#bd3786"
            ],
            [
             0.5555555555555556,
             "#d8576b"
            ],
            [
             0.6666666666666666,
             "#ed7953"
            ],
            [
             0.7777777777777778,
             "#fb9f3a"
            ],
            [
             0.8888888888888888,
             "#fdca26"
            ],
            [
             1,
             "#f0f921"
            ]
           ],
           "sequentialminus": [
            [
             0,
             "#0d0887"
            ],
            [
             0.1111111111111111,
             "#46039f"
            ],
            [
             0.2222222222222222,
             "#7201a8"
            ],
            [
             0.3333333333333333,
             "#9c179e"
            ],
            [
             0.4444444444444444,
             "#bd3786"
            ],
            [
             0.5555555555555556,
             "#d8576b"
            ],
            [
             0.6666666666666666,
             "#ed7953"
            ],
            [
             0.7777777777777778,
             "#fb9f3a"
            ],
            [
             0.8888888888888888,
             "#fdca26"
            ],
            [
             1,
             "#f0f921"
            ]
           ]
          },
          "colorway": [
           "#636efa",
           "#EF553B",
           "#00cc96",
           "#ab63fa",
           "#FFA15A",
           "#19d3f3",
           "#FF6692",
           "#B6E880",
           "#FF97FF",
           "#FECB52"
          ],
          "font": {
           "color": "#2a3f5f"
          },
          "geo": {
           "bgcolor": "white",
           "lakecolor": "white",
           "landcolor": "#E5ECF6",
           "showlakes": true,
           "showland": true,
           "subunitcolor": "white"
          },
          "hoverlabel": {
           "align": "left"
          },
          "hovermode": "closest",
          "mapbox": {
           "style": "light"
          },
          "paper_bgcolor": "white",
          "plot_bgcolor": "#E5ECF6",
          "polar": {
           "angularaxis": {
            "gridcolor": "white",
            "linecolor": "white",
            "ticks": ""
           },
           "bgcolor": "#E5ECF6",
           "radialaxis": {
            "gridcolor": "white",
            "linecolor": "white",
            "ticks": ""
           }
          },
          "scene": {
           "xaxis": {
            "backgroundcolor": "#E5ECF6",
            "gridcolor": "white",
            "gridwidth": 2,
            "linecolor": "white",
            "showbackground": true,
            "ticks": "",
            "zerolinecolor": "white"
           },
           "yaxis": {
            "backgroundcolor": "#E5ECF6",
            "gridcolor": "white",
            "gridwidth": 2,
            "linecolor": "white",
            "showbackground": true,
            "ticks": "",
            "zerolinecolor": "white"
           },
           "zaxis": {
            "backgroundcolor": "#E5ECF6",
            "gridcolor": "white",
            "gridwidth": 2,
            "linecolor": "white",
            "showbackground": true,
            "ticks": "",
            "zerolinecolor": "white"
           }
          },
          "shapedefaults": {
           "line": {
            "color": "#2a3f5f"
           }
          },
          "ternary": {
           "aaxis": {
            "gridcolor": "white",
            "linecolor": "white",
            "ticks": ""
           },
           "baxis": {
            "gridcolor": "white",
            "linecolor": "white",
            "ticks": ""
           },
           "bgcolor": "#E5ECF6",
           "caxis": {
            "gridcolor": "white",
            "linecolor": "white",
            "ticks": ""
           }
          },
          "title": {
           "x": 0.05
          },
          "xaxis": {
           "automargin": true,
           "gridcolor": "white",
           "linecolor": "white",
           "ticks": "",
           "title": {
            "standoff": 15
           },
           "zerolinecolor": "white",
           "zerolinewidth": 2
          },
          "yaxis": {
           "automargin": true,
           "gridcolor": "white",
           "linecolor": "white",
           "ticks": "",
           "title": {
            "standoff": 15
           },
           "zerolinecolor": "white",
           "zerolinewidth": 2
          }
         }
        },
        "title": {
         "text": "Medals won by each country in football"
        },
        "xaxis": {
         "anchor": "y",
         "domain": [
          0,
          1
         ],
         "title": {
          "text": "Team"
         }
        },
        "yaxis": {
         "anchor": "x",
         "domain": [
          0,
          1
         ],
         "title": {
          "text": "count"
         },
         "type": "log"
        }
       }
      }
     },
     "metadata": {},
     "output_type": "display_data"
    }
   ],
   "source": [
    "# medal distribution for each team\n",
    "fig = px.histogram(\n",
    "    df_football.sort_values(by=[\"Medal\"], ascending=False),\n",
    "    x=\"Team\",\n",
    "    log_y=True,\n",
    "    barmode=\"group\",\n",
    "    color=\"Medal\",\n",
    "    category_orders={\"Medal\": [\"Gold\", \"Silver\", \"Bronze\"]},\n",
    "    color_discrete_sequence=[\"gold\", \"silver\", \"brown\"],\n",
    "    title=\"Medals won by each country in football\",\n",
    ")\n",
    "fig.show()"
   ]
  },
  {
   "cell_type": "markdown",
   "metadata": {},
   "source": [
    "Here i chose to plot only the teams that won medals, otherwise the plot would be too crowded and hard to read\n",
    "- In order to plot all teams, just remove the '[df_football[\"Medal\"].notna()]' part"
   ]
  },
  {
   "cell_type": "code",
   "execution_count": 20,
   "metadata": {},
   "outputs": [
    {
     "data": {
      "application/vnd.plotly.v1+json": {
       "config": {
        "plotlyServerURL": "https://plot.ly"
       },
       "data": [
        {
         "alignmentgroup": "True",
         "hovertemplate": "Team=%{x}<br>Age=%{y}<extra></extra>",
         "legendgroup": "Norway",
         "marker": {
          "color": "#636efa"
         },
         "name": "Norway",
         "notched": false,
         "offsetgroup": "Norway",
         "orientation": "v",
         "showlegend": true,
         "type": "box",
         "x": [
          "Norway",
          "Norway",
          "Norway",
          "Norway",
          "Norway",
          "Norway",
          "Norway",
          "Norway",
          "Norway",
          "Norway",
          "Norway",
          "Norway",
          "Norway",
          "Norway",
          "Norway",
          "Norway",
          "Norway",
          "Norway",
          "Norway",
          "Norway",
          "Norway",
          "Norway",
          "Norway",
          "Norway",
          "Norway",
          "Norway",
          "Norway",
          "Norway",
          "Norway",
          "Norway",
          "Norway",
          "Norway",
          "Norway",
          "Norway",
          "Norway",
          "Norway",
          "Norway",
          "Norway",
          "Norway",
          "Norway",
          "Norway",
          "Norway",
          "Norway",
          "Norway",
          "Norway",
          "Norway",
          "Norway"
         ],
         "x0": " ",
         "xaxis": "x",
         "y": [
          23,
          23,
          23,
          23,
          24,
          25,
          25,
          23,
          27,
          23,
          21,
          23,
          19,
          23,
          32,
          30,
          21,
          24,
          20,
          25,
          25,
          32,
          23,
          29,
          25,
          28,
          22,
          23,
          24,
          31,
          22,
          26,
          23,
          21,
          26,
          21,
          25,
          23,
          27,
          31,
          24,
          28,
          33,
          29,
          25,
          26,
          24
         ],
         "y0": " ",
         "yaxis": "y"
        },
        {
         "alignmentgroup": "True",
         "hovertemplate": "Team=%{x}<br>Age=%{y}<extra></extra>",
         "legendgroup": "Cameroon",
         "marker": {
          "color": "#EF553B"
         },
         "name": "Cameroon",
         "notched": false,
         "offsetgroup": "Cameroon",
         "orientation": "v",
         "showlegend": true,
         "type": "box",
         "x": [
          "Cameroon",
          "Cameroon",
          "Cameroon",
          "Cameroon",
          "Cameroon",
          "Cameroon",
          "Cameroon",
          "Cameroon",
          "Cameroon",
          "Cameroon",
          "Cameroon",
          "Cameroon",
          "Cameroon",
          "Cameroon",
          "Cameroon",
          "Cameroon",
          "Cameroon",
          "Cameroon"
         ],
         "x0": " ",
         "xaxis": "x",
         "y": [
          22,
          20,
          19,
          22,
          19,
          22,
          19,
          21,
          16,
          23,
          17,
          29,
          19,
          26,
          20,
          22,
          22,
          21
         ],
         "y0": " ",
         "yaxis": "y"
        },
        {
         "alignmentgroup": "True",
         "hovertemplate": "Team=%{x}<br>Age=%{y}<extra></extra>",
         "legendgroup": "Thessalonki-1",
         "marker": {
          "color": "#00cc96"
         },
         "name": "Thessalonki-1",
         "notched": false,
         "offsetgroup": "Thessalonki-1",
         "orientation": "v",
         "showlegend": true,
         "type": "box",
         "x": [
          "Thessalonki-1",
          "Thessalonki-1",
          "Thessalonki-1",
          "Thessalonki-1",
          "Thessalonki-1",
          "Thessalonki-1",
          "Thessalonki-1",
          "Thessalonki-1",
          "Thessalonki-1",
          "Thessalonki-1",
          "Thessalonki-1"
         ],
         "x0": " ",
         "xaxis": "x",
         "y": [
          null,
          null,
          null,
          null,
          null,
          null,
          null,
          null,
          null,
          null,
          null
         ],
         "y0": " ",
         "yaxis": "y"
        },
        {
         "alignmentgroup": "True",
         "hovertemplate": "Team=%{x}<br>Age=%{y}<extra></extra>",
         "legendgroup": "Switzerland",
         "marker": {
          "color": "#ab63fa"
         },
         "name": "Switzerland",
         "notched": false,
         "offsetgroup": "Switzerland",
         "orientation": "v",
         "showlegend": true,
         "type": "box",
         "x": [
          "Switzerland",
          "Switzerland",
          "Switzerland",
          "Switzerland",
          "Switzerland",
          "Switzerland",
          "Switzerland",
          "Switzerland",
          "Switzerland",
          "Switzerland",
          "Switzerland",
          "Switzerland",
          "Switzerland",
          "Switzerland",
          "Switzerland"
         ],
         "x0": " ",
         "xaxis": "x",
         "y": [
          22,
          null,
          21,
          24,
          22,
          17,
          22,
          29,
          26,
          28,
          21,
          26,
          27,
          26,
          21
         ],
         "y0": " ",
         "yaxis": "y"
        },
        {
         "alignmentgroup": "True",
         "hovertemplate": "Team=%{x}<br>Age=%{y}<extra></extra>",
         "legendgroup": "Spain",
         "marker": {
          "color": "#FFA15A"
         },
         "name": "Spain",
         "notched": false,
         "offsetgroup": "Spain",
         "orientation": "v",
         "showlegend": true,
         "type": "box",
         "x": [
          "Spain",
          "Spain",
          "Spain",
          "Spain",
          "Spain",
          "Spain",
          "Spain",
          "Spain",
          "Spain",
          "Spain",
          "Spain",
          "Spain",
          "Spain",
          "Spain",
          "Spain",
          "Spain",
          "Spain",
          "Spain",
          "Spain",
          "Spain",
          "Spain",
          "Spain",
          "Spain",
          "Spain",
          "Spain",
          "Spain",
          "Spain",
          "Spain",
          "Spain",
          "Spain",
          "Spain",
          "Spain",
          "Spain",
          "Spain",
          "Spain",
          "Spain",
          "Spain",
          "Spain",
          "Spain",
          "Spain",
          "Spain",
          "Spain",
          "Spain",
          "Spain",
          "Spain",
          "Spain",
          "Spain",
          "Spain",
          "Spain",
          "Spain",
          "Spain",
          "Spain"
         ],
         "x0": " ",
         "xaxis": "x",
         "y": [
          22,
          21,
          23,
          19,
          21,
          22,
          23,
          27,
          20,
          27,
          24,
          20,
          21,
          22,
          24,
          22,
          22,
          21,
          22,
          21,
          22,
          21,
          20,
          22,
          20,
          22,
          22,
          22,
          21,
          26,
          24,
          27,
          21,
          22,
          23,
          22,
          18,
          23,
          21,
          22,
          22,
          22,
          22,
          21,
          23,
          23,
          22,
          22,
          22,
          22,
          20,
          19
         ],
         "y0": " ",
         "yaxis": "y"
        },
        {
         "alignmentgroup": "True",
         "hovertemplate": "Team=%{x}<br>Age=%{y}<extra></extra>",
         "legendgroup": "Ghana",
         "marker": {
          "color": "#19d3f3"
         },
         "name": "Ghana",
         "notched": false,
         "offsetgroup": "Ghana",
         "orientation": "v",
         "showlegend": true,
         "type": "box",
         "x": [
          "Ghana",
          "Ghana",
          "Ghana",
          "Ghana",
          "Ghana",
          "Ghana",
          "Ghana",
          "Ghana",
          "Ghana",
          "Ghana",
          "Ghana",
          "Ghana",
          "Ghana",
          "Ghana",
          "Ghana",
          "Ghana",
          "Ghana",
          "Ghana",
          "Ghana",
          "Ghana"
         ],
         "x0": " ",
         "xaxis": "x",
         "y": [
          18,
          17,
          18,
          19,
          20,
          19,
          17,
          18,
          19,
          17,
          19,
          19,
          15,
          22,
          17,
          19,
          18,
          17,
          20,
          17
         ],
         "y0": " ",
         "yaxis": "y"
        },
        {
         "alignmentgroup": "True",
         "hovertemplate": "Team=%{x}<br>Age=%{y}<extra></extra>",
         "legendgroup": "Argentina",
         "marker": {
          "color": "#FF6692"
         },
         "name": "Argentina",
         "notched": false,
         "offsetgroup": "Argentina",
         "orientation": "v",
         "showlegend": true,
         "type": "box",
         "x": [
          "Argentina",
          "Argentina",
          "Argentina",
          "Argentina",
          "Argentina",
          "Argentina",
          "Argentina",
          "Argentina",
          "Argentina",
          "Argentina",
          "Argentina",
          "Argentina",
          "Argentina",
          "Argentina",
          "Argentina",
          "Argentina",
          "Argentina",
          "Argentina",
          "Argentina",
          "Argentina",
          "Argentina",
          "Argentina",
          "Argentina",
          "Argentina",
          "Argentina",
          "Argentina",
          "Argentina",
          "Argentina",
          "Argentina",
          "Argentina",
          "Argentina",
          "Argentina",
          "Argentina",
          "Argentina",
          "Argentina",
          "Argentina",
          "Argentina",
          "Argentina",
          "Argentina",
          "Argentina",
          "Argentina",
          "Argentina",
          "Argentina",
          "Argentina",
          "Argentina",
          "Argentina",
          "Argentina",
          "Argentina",
          "Argentina",
          "Argentina",
          "Argentina",
          "Argentina",
          "Argentina",
          "Argentina",
          "Argentina",
          "Argentina",
          "Argentina",
          "Argentina",
          "Argentina",
          "Argentina",
          "Argentina",
          "Argentina",
          "Argentina",
          "Argentina",
          "Argentina",
          "Argentina",
          "Argentina",
          "Argentina"
         ],
         "x0": " ",
         "xaxis": "x",
         "y": [
          20,
          20,
          22,
          23,
          31,
          20,
          23,
          28,
          23,
          22,
          20,
          23,
          23,
          27,
          22,
          27,
          21,
          22,
          21,
          23,
          22,
          23,
          20,
          27,
          25,
          21,
          22,
          22,
          23,
          20,
          21,
          30,
          23,
          23,
          26,
          23,
          22,
          23,
          22,
          20,
          24,
          30,
          22,
          21,
          27,
          21,
          21,
          23,
          26,
          22,
          24,
          24,
          23,
          26,
          21,
          30,
          23,
          21,
          23,
          22,
          29,
          26,
          23,
          24,
          20,
          22,
          23,
          22
         ],
         "y0": " ",
         "yaxis": "y"
        },
        {
         "alignmentgroup": "True",
         "hovertemplate": "Team=%{x}<br>Age=%{y}<extra></extra>",
         "legendgroup": "Poland",
         "marker": {
          "color": "#B6E880"
         },
         "name": "Poland",
         "notched": false,
         "offsetgroup": "Poland",
         "orientation": "v",
         "showlegend": true,
         "type": "box",
         "x": [
          "Poland",
          "Poland",
          "Poland",
          "Poland",
          "Poland",
          "Poland",
          "Poland",
          "Poland",
          "Poland",
          "Poland",
          "Poland",
          "Poland",
          "Poland",
          "Poland",
          "Poland",
          "Poland",
          "Poland",
          "Poland",
          "Poland",
          "Poland",
          "Poland",
          "Poland",
          "Poland",
          "Poland",
          "Poland",
          "Poland",
          "Poland",
          "Poland",
          "Poland",
          "Poland",
          "Poland",
          "Poland",
          "Poland",
          "Poland",
          "Poland",
          "Poland",
          "Poland",
          "Poland",
          "Poland",
          "Poland",
          "Poland",
          "Poland",
          "Poland",
          "Poland",
          "Poland",
          "Poland",
          "Poland",
          "Poland",
          "Poland",
          "Poland"
         ],
         "x0": " ",
         "xaxis": "x",
         "y": [
          22,
          26,
          22,
          26,
          21,
          24,
          27,
          24,
          28,
          26,
          22,
          23,
          27,
          23,
          21,
          21,
          30,
          21,
          20,
          24,
          21,
          32,
          20,
          21,
          20,
          22,
          26,
          22,
          25,
          27,
          27,
          31,
          21,
          25,
          23,
          25,
          23,
          21,
          20,
          25,
          29,
          21,
          25,
          27,
          28,
          22,
          26,
          21,
          26,
          22
         ],
         "y0": " ",
         "yaxis": "y"
        },
        {
         "alignmentgroup": "True",
         "hovertemplate": "Team=%{x}<br>Age=%{y}<extra></extra>",
         "legendgroup": "Nigeria",
         "marker": {
          "color": "#FF97FF"
         },
         "name": "Nigeria",
         "notched": false,
         "offsetgroup": "Nigeria",
         "orientation": "v",
         "showlegend": true,
         "type": "box",
         "x": [
          "Nigeria",
          "Nigeria",
          "Nigeria",
          "Nigeria",
          "Nigeria",
          "Nigeria",
          "Nigeria",
          "Nigeria",
          "Nigeria",
          "Nigeria",
          "Nigeria",
          "Nigeria",
          "Nigeria",
          "Nigeria",
          "Nigeria",
          "Nigeria",
          "Nigeria",
          "Nigeria",
          "Nigeria",
          "Nigeria",
          "Nigeria",
          "Nigeria",
          "Nigeria",
          "Nigeria",
          "Nigeria",
          "Nigeria",
          "Nigeria",
          "Nigeria",
          "Nigeria",
          "Nigeria",
          "Nigeria",
          "Nigeria",
          "Nigeria",
          "Nigeria",
          "Nigeria",
          "Nigeria",
          "Nigeria",
          "Nigeria",
          "Nigeria",
          "Nigeria",
          "Nigeria",
          "Nigeria",
          "Nigeria",
          "Nigeria",
          "Nigeria",
          "Nigeria",
          "Nigeria",
          "Nigeria",
          "Nigeria",
          "Nigeria"
         ],
         "x0": " ",
         "xaxis": "x",
         "y": [
          22,
          19,
          20,
          23,
          30,
          19,
          23,
          25,
          20,
          20,
          21,
          19,
          22,
          17,
          22,
          23,
          20,
          18,
          20,
          22,
          18,
          23,
          20,
          21,
          22,
          19,
          22,
          20,
          29,
          22,
          22,
          21,
          27,
          22,
          28,
          22,
          19,
          21,
          21,
          19,
          19,
          21,
          23,
          18,
          22,
          17,
          21,
          19,
          22,
          22
         ],
         "y0": " ",
         "yaxis": "y"
        },
        {
         "alignmentgroup": "True",
         "hovertemplate": "Team=%{x}<br>Age=%{y}<extra></extra>",
         "legendgroup": "Brazil",
         "marker": {
          "color": "#FECB52"
         },
         "name": "Brazil",
         "notched": false,
         "offsetgroup": "Brazil",
         "orientation": "v",
         "showlegend": true,
         "type": "box",
         "x": [
          "Brazil",
          "Brazil",
          "Brazil",
          "Brazil",
          "Brazil",
          "Brazil",
          "Brazil",
          "Brazil",
          "Brazil",
          "Brazil",
          "Brazil",
          "Brazil",
          "Brazil",
          "Brazil",
          "Brazil",
          "Brazil",
          "Brazil",
          "Brazil",
          "Brazil",
          "Brazil",
          "Brazil",
          "Brazil",
          "Brazil",
          "Brazil",
          "Brazil",
          "Brazil",
          "Brazil",
          "Brazil",
          "Brazil",
          "Brazil",
          "Brazil",
          "Brazil",
          "Brazil",
          "Brazil",
          "Brazil",
          "Brazil",
          "Brazil",
          "Brazil",
          "Brazil",
          "Brazil",
          "Brazil",
          "Brazil",
          "Brazil",
          "Brazil",
          "Brazil",
          "Brazil",
          "Brazil",
          "Brazil",
          "Brazil",
          "Brazil",
          "Brazil",
          "Brazil",
          "Brazil",
          "Brazil",
          "Brazil",
          "Brazil",
          "Brazil",
          "Brazil",
          "Brazil",
          "Brazil",
          "Brazil",
          "Brazil",
          "Brazil",
          "Brazil",
          "Brazil",
          "Brazil",
          "Brazil",
          "Brazil",
          "Brazil",
          "Brazil",
          "Brazil",
          "Brazil",
          "Brazil",
          "Brazil",
          "Brazil",
          "Brazil",
          "Brazil",
          "Brazil",
          "Brazil",
          "Brazil",
          "Brazil",
          "Brazil",
          "Brazil",
          "Brazil",
          "Brazil",
          "Brazil",
          "Brazil",
          "Brazil",
          "Brazil",
          "Brazil",
          "Brazil",
          "Brazil",
          "Brazil",
          "Brazil",
          "Brazil",
          "Brazil",
          "Brazil",
          "Brazil",
          "Brazil",
          "Brazil",
          "Brazil",
          "Brazil",
          "Brazil",
          "Brazil",
          "Brazil",
          "Brazil",
          "Brazil",
          "Brazil",
          "Brazil",
          "Brazil",
          "Brazil",
          "Brazil",
          "Brazil",
          "Brazil",
          "Brazil",
          "Brazil",
          "Brazil",
          "Brazil",
          "Brazil",
          "Brazil",
          "Brazil",
          "Brazil",
          "Brazil",
          "Brazil",
          "Brazil",
          "Brazil",
          "Brazil",
          "Brazil",
          "Brazil",
          "Brazil",
          "Brazil",
          "Brazil",
          "Brazil",
          "Brazil",
          "Brazil",
          "Brazil"
         ],
         "x0": " ",
         "xaxis": "x",
         "y": [
          24,
          28,
          30,
          21,
          18,
          22,
          22,
          25,
          23,
          20,
          31,
          21,
          24,
          26,
          30,
          20,
          27,
          24,
          32,
          18,
          19,
          21,
          22,
          19,
          23,
          19,
          26,
          23,
          20,
          24,
          21,
          20,
          22,
          23,
          22,
          20,
          28,
          21,
          20,
          25,
          19,
          23,
          26,
          30,
          18,
          19,
          19,
          19,
          22,
          22,
          24,
          25,
          20,
          23,
          22,
          23,
          26,
          22,
          21,
          24,
          24,
          21,
          22,
          23,
          19,
          26,
          18,
          22,
          23,
          23,
          21,
          19,
          20,
          22,
          20,
          24,
          22,
          18,
          22,
          22,
          27,
          31,
          26,
          26,
          22,
          22,
          23,
          23,
          20,
          24,
          20,
          19,
          29,
          33,
          22,
          22,
          23,
          21,
          23,
          28,
          24,
          23,
          22,
          22,
          22,
          21,
          19,
          28,
          22,
          24,
          22,
          26,
          34,
          23,
          24,
          22,
          23,
          23,
          27,
          25,
          27,
          23,
          22,
          29,
          33,
          19,
          26,
          21,
          21,
          28,
          21,
          21,
          25,
          19,
          22,
          22
         ],
         "y0": " ",
         "yaxis": "y"
        },
        {
         "alignmentgroup": "True",
         "hovertemplate": "Team=%{x}<br>Age=%{y}<extra></extra>",
         "legendgroup": "Sweden",
         "marker": {
          "color": "#636efa"
         },
         "name": "Sweden",
         "notched": false,
         "offsetgroup": "Sweden",
         "orientation": "v",
         "showlegend": true,
         "type": "box",
         "x": [
          "Sweden",
          "Sweden",
          "Sweden",
          "Sweden",
          "Sweden",
          "Sweden",
          "Sweden",
          "Sweden",
          "Sweden",
          "Sweden",
          "Sweden",
          "Sweden",
          "Sweden",
          "Sweden",
          "Sweden",
          "Sweden",
          "Sweden",
          "Sweden",
          "Sweden",
          "Sweden",
          "Sweden",
          "Sweden",
          "Sweden",
          "Sweden",
          "Sweden",
          "Sweden",
          "Sweden",
          "Sweden",
          "Sweden",
          "Sweden",
          "Sweden",
          "Sweden",
          "Sweden",
          "Sweden",
          "Sweden",
          "Sweden",
          "Sweden",
          "Sweden",
          "Sweden",
          "Sweden",
          "Sweden",
          "Sweden",
          "Sweden",
          "Sweden",
          "Sweden",
          "Sweden",
          "Sweden",
          "Sweden",
          "Sweden",
          "Sweden",
          "Sweden",
          "Sweden",
          "Sweden",
          "Sweden",
          "Sweden",
          "Sweden",
          "Sweden",
          "Sweden",
          "Sweden",
          "Sweden"
         ],
         "x0": " ",
         "xaxis": "x",
         "y": [
          31,
          22,
          23,
          27,
          26,
          27,
          22,
          27,
          20,
          22,
          20,
          29,
          30,
          24,
          29,
          22,
          32,
          29,
          27,
          24,
          22,
          25,
          30,
          23,
          26,
          26,
          21,
          19,
          22,
          30,
          25,
          33,
          27,
          31,
          28,
          21,
          28,
          24,
          23,
          31,
          35,
          31,
          26,
          28,
          22,
          27,
          30,
          23,
          30,
          19,
          24,
          28,
          19,
          32,
          25,
          31,
          29,
          26,
          26,
          22
         ],
         "y0": " ",
         "yaxis": "y"
        },
        {
         "alignmentgroup": "True",
         "hovertemplate": "Team=%{x}<br>Age=%{y}<extra></extra>",
         "legendgroup": "United States",
         "marker": {
          "color": "#EF553B"
         },
         "name": "United States",
         "notched": false,
         "offsetgroup": "United States",
         "orientation": "v",
         "showlegend": true,
         "type": "box",
         "x": [
          "United States",
          "United States",
          "United States",
          "United States",
          "United States",
          "United States",
          "United States",
          "United States",
          "United States",
          "United States",
          "United States",
          "United States",
          "United States",
          "United States",
          "United States",
          "United States",
          "United States",
          "United States",
          "United States",
          "United States",
          "United States",
          "United States",
          "United States",
          "United States",
          "United States",
          "United States",
          "United States",
          "United States",
          "United States",
          "United States",
          "United States",
          "United States",
          "United States",
          "United States",
          "United States",
          "United States",
          "United States",
          "United States",
          "United States",
          "United States",
          "United States",
          "United States",
          "United States",
          "United States",
          "United States",
          "United States",
          "United States",
          "United States",
          "United States",
          "United States",
          "United States",
          "United States",
          "United States",
          "United States",
          "United States",
          "United States",
          "United States",
          "United States",
          "United States",
          "United States",
          "United States",
          "United States",
          "United States",
          "United States",
          "United States",
          "United States",
          "United States",
          "United States",
          "United States",
          "United States",
          "United States",
          "United States",
          "United States",
          "United States",
          "United States",
          "United States",
          "United States",
          "United States",
          "United States"
         ],
         "x0": " ",
         "xaxis": "x",
         "y": [
          30,
          27,
          31,
          35,
          22,
          26,
          24,
          27,
          32,
          36,
          20,
          24,
          22,
          22,
          28,
          32,
          36,
          25,
          29,
          33,
          31,
          24,
          28,
          32,
          20,
          24,
          26,
          30,
          25,
          30,
          22,
          24,
          29,
          33,
          26,
          30,
          21,
          25,
          23,
          27,
          26,
          30,
          34,
          23,
          22,
          23,
          19,
          23,
          27,
          28,
          18,
          22,
          26,
          25,
          29,
          33,
          37,
          27,
          22,
          19,
          21,
          25,
          27,
          24,
          32,
          22,
          24,
          27,
          31,
          27,
          30,
          20,
          24,
          23,
          24,
          27,
          24,
          32,
          20
         ],
         "y0": " ",
         "yaxis": "y"
        },
        {
         "alignmentgroup": "True",
         "hovertemplate": "Team=%{x}<br>Age=%{y}<extra></extra>",
         "legendgroup": "Hungary",
         "marker": {
          "color": "#00cc96"
         },
         "name": "Hungary",
         "notched": false,
         "offsetgroup": "Hungary",
         "orientation": "v",
         "showlegend": true,
         "type": "box",
         "x": [
          "Hungary",
          "Hungary",
          "Hungary",
          "Hungary",
          "Hungary",
          "Hungary",
          "Hungary",
          "Hungary",
          "Hungary",
          "Hungary",
          "Hungary",
          "Hungary",
          "Hungary",
          "Hungary",
          "Hungary",
          "Hungary",
          "Hungary",
          "Hungary",
          "Hungary",
          "Hungary",
          "Hungary",
          "Hungary",
          "Hungary",
          "Hungary",
          "Hungary",
          "Hungary",
          "Hungary",
          "Hungary",
          "Hungary",
          "Hungary",
          "Hungary",
          "Hungary",
          "Hungary",
          "Hungary",
          "Hungary",
          "Hungary",
          "Hungary",
          "Hungary",
          "Hungary",
          "Hungary",
          "Hungary",
          "Hungary",
          "Hungary",
          "Hungary",
          "Hungary",
          "Hungary",
          "Hungary",
          "Hungary",
          "Hungary",
          "Hungary",
          "Hungary",
          "Hungary",
          "Hungary",
          "Hungary",
          "Hungary",
          "Hungary",
          "Hungary",
          "Hungary",
          "Hungary",
          "Hungary",
          "Hungary",
          "Hungary",
          "Hungary",
          "Hungary",
          "Hungary",
          "Hungary",
          "Hungary",
          "Hungary",
          "Hungary",
          "Hungary",
          "Hungary",
          "Hungary",
          "Hungary",
          "Hungary",
          "Hungary",
          "Hungary",
          "Hungary",
          "Hungary",
          "Hungary"
         ],
         "x0": " ",
         "xaxis": "x",
         "y": [
          18,
          24,
          24,
          19,
          26,
          22,
          23,
          27,
          25,
          19,
          22,
          19,
          27,
          27,
          25,
          29,
          23,
          23,
          25,
          28,
          22,
          28,
          20,
          28,
          26,
          21,
          26,
          30,
          23,
          23,
          24,
          21,
          28,
          21,
          25,
          22,
          24,
          26,
          30,
          23,
          22,
          24,
          23,
          29,
          26,
          18,
          23,
          23,
          21,
          25,
          29,
          26,
          26,
          24,
          29,
          23,
          24,
          28,
          25,
          21,
          24,
          20,
          23,
          20,
          21,
          26,
          25,
          25,
          24,
          28,
          24,
          28,
          19,
          19,
          28,
          22,
          24,
          29,
          28
         ],
         "y0": " ",
         "yaxis": "y"
        },
        {
         "alignmentgroup": "True",
         "hovertemplate": "Team=%{x}<br>Age=%{y}<extra></extra>",
         "legendgroup": "USFSA",
         "marker": {
          "color": "#ab63fa"
         },
         "name": "USFSA",
         "notched": false,
         "offsetgroup": "USFSA",
         "orientation": "v",
         "showlegend": true,
         "type": "box",
         "x": [
          "USFSA",
          "USFSA",
          "USFSA",
          "USFSA",
          "USFSA",
          "USFSA",
          "USFSA",
          "USFSA",
          "USFSA",
          "USFSA",
          "USFSA",
          "USFSA",
          "USFSA"
         ],
         "x0": " ",
         "xaxis": "x",
         "y": [
          18,
          17,
          null,
          18,
          null,
          20,
          22,
          null,
          null,
          21,
          null,
          18,
          null
         ],
         "y0": " ",
         "yaxis": "y"
        },
        {
         "alignmentgroup": "True",
         "hovertemplate": "Team=%{x}<br>Age=%{y}<extra></extra>",
         "legendgroup": "Chile",
         "marker": {
          "color": "#FFA15A"
         },
         "name": "Chile",
         "notched": false,
         "offsetgroup": "Chile",
         "orientation": "v",
         "showlegend": true,
         "type": "box",
         "x": [
          "Chile",
          "Chile",
          "Chile",
          "Chile",
          "Chile",
          "Chile",
          "Chile",
          "Chile",
          "Chile",
          "Chile",
          "Chile",
          "Chile",
          "Chile",
          "Chile",
          "Chile",
          "Chile",
          "Chile"
         ],
         "x0": " ",
         "xaxis": "x",
         "y": [
          20,
          23,
          22,
          21,
          23,
          22,
          20,
          22,
          23,
          22,
          21,
          21,
          27,
          22,
          33,
          20,
          33
         ],
         "y0": " ",
         "yaxis": "y"
        },
        {
         "alignmentgroup": "True",
         "hovertemplate": "Team=%{x}<br>Age=%{y}<extra></extra>",
         "legendgroup": "Denmark",
         "marker": {
          "color": "#19d3f3"
         },
         "name": "Denmark",
         "notched": false,
         "offsetgroup": "Denmark",
         "orientation": "v",
         "showlegend": true,
         "type": "box",
         "x": [
          "Denmark",
          "Denmark",
          "Denmark",
          "Denmark",
          "Denmark",
          "Denmark",
          "Denmark",
          "Denmark",
          "Denmark",
          "Denmark",
          "Denmark",
          "Denmark",
          "Denmark",
          "Denmark",
          "Denmark",
          "Denmark",
          "Denmark",
          "Denmark",
          "Denmark",
          "Denmark",
          "Denmark",
          "Denmark",
          "Denmark",
          "Denmark",
          "Denmark",
          "Denmark",
          "Denmark",
          "Denmark",
          "Denmark",
          "Denmark",
          "Denmark",
          "Denmark",
          "Denmark",
          "Denmark",
          "Denmark",
          "Denmark",
          "Denmark",
          "Denmark",
          "Denmark",
          "Denmark",
          "Denmark",
          "Denmark",
          "Denmark",
          "Denmark",
          "Denmark",
          "Denmark",
          "Denmark",
          "Denmark",
          "Denmark",
          "Denmark",
          "Denmark",
          "Denmark",
          "Denmark",
          "Denmark",
          "Denmark",
          "Denmark",
          "Denmark",
          "Denmark",
          "Denmark",
          "Denmark",
          "Denmark",
          "Denmark",
          "Denmark",
          "Denmark",
          "Denmark"
         ],
         "x0": " ",
         "xaxis": "x",
         "y": [
          22,
          23,
          30,
          21,
          22,
          21,
          25,
          27,
          31,
          22,
          21,
          26,
          24,
          23,
          25,
          34,
          34,
          26,
          24,
          28,
          24,
          27,
          22,
          20,
          25,
          26,
          27,
          30,
          22,
          24,
          28,
          23,
          27,
          20,
          24,
          29,
          26,
          32,
          18,
          23,
          25,
          29,
          20,
          20,
          24,
          22,
          26,
          30,
          22,
          23,
          27,
          24,
          22,
          26,
          26,
          24,
          22,
          26,
          26,
          25,
          23,
          20,
          22,
          18,
          22
         ],
         "y0": " ",
         "yaxis": "y"
        },
        {
         "alignmentgroup": "True",
         "hovertemplate": "Team=%{x}<br>Age=%{y}<extra></extra>",
         "legendgroup": "Japan",
         "marker": {
          "color": "#FF6692"
         },
         "name": "Japan",
         "notched": false,
         "offsetgroup": "Japan",
         "orientation": "v",
         "showlegend": true,
         "type": "box",
         "x": [
          "Japan",
          "Japan",
          "Japan",
          "Japan",
          "Japan",
          "Japan",
          "Japan",
          "Japan",
          "Japan",
          "Japan",
          "Japan",
          "Japan",
          "Japan",
          "Japan",
          "Japan",
          "Japan",
          "Japan",
          "Japan",
          "Japan",
          "Japan",
          "Japan",
          "Japan",
          "Japan",
          "Japan",
          "Japan",
          "Japan",
          "Japan",
          "Japan",
          "Japan",
          "Japan",
          "Japan",
          "Japan",
          "Japan",
          "Japan"
         ],
         "x0": " ",
         "xaxis": "x",
         "y": [
          30,
          28,
          19,
          25,
          25,
          24,
          30,
          28,
          26,
          28,
          21,
          25,
          29,
          26,
          27,
          30,
          27,
          24,
          25,
          25,
          28,
          24,
          25,
          33,
          27,
          21,
          24,
          24,
          32,
          35,
          24,
          28,
          25,
          23
         ],
         "y0": " ",
         "yaxis": "y"
        },
        {
         "alignmentgroup": "True",
         "hovertemplate": "Team=%{x}<br>Age=%{y}<extra></extra>",
         "legendgroup": "Uruguay",
         "marker": {
          "color": "#B6E880"
         },
         "name": "Uruguay",
         "notched": false,
         "offsetgroup": "Uruguay",
         "orientation": "v",
         "showlegend": true,
         "type": "box",
         "x": [
          "Uruguay",
          "Uruguay",
          "Uruguay",
          "Uruguay",
          "Uruguay",
          "Uruguay",
          "Uruguay",
          "Uruguay",
          "Uruguay",
          "Uruguay",
          "Uruguay",
          "Uruguay",
          "Uruguay",
          "Uruguay",
          "Uruguay",
          "Uruguay",
          "Uruguay",
          "Uruguay",
          "Uruguay",
          "Uruguay",
          "Uruguay",
          "Uruguay",
          "Uruguay",
          "Uruguay",
          "Uruguay",
          "Uruguay",
          "Uruguay",
          "Uruguay",
          "Uruguay",
          "Uruguay",
          "Uruguay"
         ],
         "x0": " ",
         "xaxis": "x",
         "y": [
          22,
          26,
          23,
          27,
          29,
          30,
          31,
          24,
          23,
          23,
          27,
          27,
          22,
          21,
          32,
          21,
          25,
          22,
          26,
          27,
          18,
          23,
          26,
          29,
          25,
          29,
          25,
          24,
          28,
          27,
          28
         ],
         "y0": " ",
         "yaxis": "y"
        },
        {
         "alignmentgroup": "True",
         "hovertemplate": "Team=%{x}<br>Age=%{y}<extra></extra>",
         "legendgroup": "Soviet Union",
         "marker": {
          "color": "#FF97FF"
         },
         "name": "Soviet Union",
         "notched": false,
         "offsetgroup": "Soviet Union",
         "orientation": "v",
         "showlegend": true,
         "type": "box",
         "x": [
          "Soviet Union",
          "Soviet Union",
          "Soviet Union",
          "Soviet Union",
          "Soviet Union",
          "Soviet Union",
          "Soviet Union",
          "Soviet Union",
          "Soviet Union",
          "Soviet Union",
          "Soviet Union",
          "Soviet Union",
          "Soviet Union",
          "Soviet Union",
          "Soviet Union",
          "Soviet Union",
          "Soviet Union",
          "Soviet Union",
          "Soviet Union",
          "Soviet Union",
          "Soviet Union",
          "Soviet Union",
          "Soviet Union",
          "Soviet Union",
          "Soviet Union",
          "Soviet Union",
          "Soviet Union",
          "Soviet Union",
          "Soviet Union",
          "Soviet Union",
          "Soviet Union",
          "Soviet Union",
          "Soviet Union",
          "Soviet Union",
          "Soviet Union",
          "Soviet Union",
          "Soviet Union",
          "Soviet Union",
          "Soviet Union",
          "Soviet Union",
          "Soviet Union",
          "Soviet Union",
          "Soviet Union",
          "Soviet Union",
          "Soviet Union",
          "Soviet Union",
          "Soviet Union",
          "Soviet Union",
          "Soviet Union",
          "Soviet Union",
          "Soviet Union",
          "Soviet Union",
          "Soviet Union",
          "Soviet Union",
          "Soviet Union",
          "Soviet Union",
          "Soviet Union",
          "Soviet Union",
          "Soviet Union",
          "Soviet Union",
          "Soviet Union",
          "Soviet Union",
          "Soviet Union",
          "Soviet Union",
          "Soviet Union",
          "Soviet Union",
          "Soviet Union",
          "Soviet Union",
          "Soviet Union",
          "Soviet Union",
          "Soviet Union",
          "Soviet Union",
          "Soviet Union",
          "Soviet Union",
          "Soviet Union",
          "Soviet Union",
          "Soviet Union",
          "Soviet Union",
          "Soviet Union",
          "Soviet Union",
          "Soviet Union",
          "Soviet Union",
          "Soviet Union",
          "Soviet Union",
          "Soviet Union",
          "Soviet Union",
          "Soviet Union"
         ],
         "x0": " ",
         "xaxis": "x",
         "y": [
          24,
          25,
          30,
          22,
          32,
          27,
          22,
          19,
          23,
          25,
          23,
          24,
          28,
          21,
          25,
          23,
          21,
          27,
          27,
          27,
          20,
          27,
          25,
          26,
          25,
          25,
          24,
          28,
          22,
          27,
          28,
          22,
          20,
          21,
          29,
          23,
          27,
          26,
          22,
          28,
          27,
          26,
          29,
          23,
          26,
          27,
          21,
          25,
          23,
          21,
          26,
          29,
          24,
          24,
          22,
          26,
          31,
          24,
          32,
          28,
          26,
          23,
          29,
          26,
          30,
          25,
          32,
          31,
          23,
          25,
          23,
          30,
          22,
          19,
          23,
          22,
          23,
          29,
          28,
          26,
          22,
          26,
          27,
          22,
          28,
          25,
          25
         ],
         "y0": " ",
         "yaxis": "y"
        },
        {
         "alignmentgroup": "True",
         "hovertemplate": "Team=%{x}<br>Age=%{y}<extra></extra>",
         "legendgroup": "Germany",
         "marker": {
          "color": "#FECB52"
         },
         "name": "Germany",
         "notched": false,
         "offsetgroup": "Germany",
         "orientation": "v",
         "showlegend": true,
         "type": "box",
         "x": [
          "Germany",
          "Germany",
          "Germany",
          "Germany",
          "Germany",
          "Germany",
          "Germany",
          "Germany",
          "Germany",
          "Germany",
          "Germany",
          "Germany",
          "Germany",
          "Germany",
          "Germany",
          "Germany",
          "Germany",
          "Germany",
          "Germany",
          "Germany",
          "Germany",
          "Germany",
          "Germany",
          "Germany",
          "Germany",
          "Germany",
          "Germany",
          "Germany",
          "Germany",
          "Germany",
          "Germany",
          "Germany",
          "Germany",
          "Germany",
          "Germany",
          "Germany",
          "Germany",
          "Germany",
          "Germany",
          "Germany",
          "Germany",
          "Germany",
          "Germany",
          "Germany",
          "Germany",
          "Germany",
          "Germany",
          "Germany",
          "Germany",
          "Germany",
          "Germany",
          "Germany",
          "Germany",
          "Germany",
          "Germany",
          "Germany",
          "Germany",
          "Germany",
          "Germany",
          "Germany",
          "Germany",
          "Germany",
          "Germany",
          "Germany",
          "Germany",
          "Germany",
          "Germany",
          "Germany",
          "Germany",
          "Germany",
          "Germany",
          "Germany",
          "Germany",
          "Germany",
          "Germany",
          "Germany",
          "Germany",
          "Germany",
          "Germany",
          "Germany",
          "Germany",
          "Germany",
          "Germany",
          "Germany",
          "Germany",
          "Germany",
          "Germany",
          "Germany",
          "Germany",
          "Germany",
          "Germany",
          "Germany",
          "Germany",
          "Germany",
          "Germany",
          "Germany",
          "Germany",
          "Germany",
          "Germany",
          "Germany",
          "Germany",
          "Germany",
          "Germany",
          "Germany"
         ],
         "x0": " ",
         "xaxis": "x",
         "y": [
          29,
          21,
          20,
          23,
          33,
          25,
          21,
          22,
          30,
          27,
          27,
          25,
          20,
          24,
          19,
          21,
          26,
          31,
          22,
          22,
          25,
          24,
          28,
          23,
          22,
          21,
          30,
          21,
          21,
          22,
          21,
          21,
          24,
          26,
          21,
          25,
          29,
          25,
          23,
          25,
          27,
          27,
          31,
          24,
          28,
          20,
          23,
          23,
          31,
          22,
          30,
          22,
          24,
          28,
          32,
          21,
          23,
          24,
          22,
          27,
          20,
          27,
          31,
          23,
          31,
          26,
          24,
          23,
          21,
          20,
          22,
          23,
          20,
          28,
          27,
          25,
          29,
          25,
          22,
          26,
          30,
          21,
          22,
          28,
          32,
          25,
          22,
          21,
          31,
          22,
          26,
          30,
          26,
          20,
          21,
          33,
          24,
          21,
          27,
          24,
          28,
          21,
          29,
          22
         ],
         "y0": " ",
         "yaxis": "y"
        },
        {
         "alignmentgroup": "True",
         "hovertemplate": "Team=%{x}<br>Age=%{y}<extra></extra>",
         "legendgroup": "Yugoslavia",
         "marker": {
          "color": "#636efa"
         },
         "name": "Yugoslavia",
         "notched": false,
         "offsetgroup": "Yugoslavia",
         "orientation": "v",
         "showlegend": true,
         "type": "box",
         "x": [
          "Yugoslavia",
          "Yugoslavia",
          "Yugoslavia",
          "Yugoslavia",
          "Yugoslavia",
          "Yugoslavia",
          "Yugoslavia",
          "Yugoslavia",
          "Yugoslavia",
          "Yugoslavia",
          "Yugoslavia",
          "Yugoslavia",
          "Yugoslavia",
          "Yugoslavia",
          "Yugoslavia",
          "Yugoslavia",
          "Yugoslavia",
          "Yugoslavia",
          "Yugoslavia",
          "Yugoslavia",
          "Yugoslavia",
          "Yugoslavia",
          "Yugoslavia",
          "Yugoslavia",
          "Yugoslavia",
          "Yugoslavia",
          "Yugoslavia",
          "Yugoslavia",
          "Yugoslavia",
          "Yugoslavia",
          "Yugoslavia",
          "Yugoslavia",
          "Yugoslavia",
          "Yugoslavia",
          "Yugoslavia",
          "Yugoslavia",
          "Yugoslavia",
          "Yugoslavia",
          "Yugoslavia",
          "Yugoslavia",
          "Yugoslavia",
          "Yugoslavia",
          "Yugoslavia",
          "Yugoslavia",
          "Yugoslavia",
          "Yugoslavia",
          "Yugoslavia",
          "Yugoslavia",
          "Yugoslavia",
          "Yugoslavia",
          "Yugoslavia",
          "Yugoslavia",
          "Yugoslavia",
          "Yugoslavia",
          "Yugoslavia",
          "Yugoslavia",
          "Yugoslavia",
          "Yugoslavia",
          "Yugoslavia",
          "Yugoslavia",
          "Yugoslavia",
          "Yugoslavia",
          "Yugoslavia",
          "Yugoslavia",
          "Yugoslavia",
          "Yugoslavia",
          "Yugoslavia",
          "Yugoslavia",
          "Yugoslavia",
          "Yugoslavia",
          "Yugoslavia",
          "Yugoslavia",
          "Yugoslavia"
         ],
         "x0": " ",
         "xaxis": "x",
         "y": [
          23,
          26,
          28,
          22,
          23,
          23,
          25,
          24,
          28,
          21,
          30,
          23,
          24,
          28,
          22,
          30,
          23,
          21,
          22,
          22,
          24,
          22,
          22,
          21,
          25,
          23,
          26,
          20,
          21,
          22,
          20,
          30,
          21,
          24,
          23,
          28,
          21,
          25,
          27,
          23,
          25,
          29,
          19,
          23,
          25,
          25,
          22,
          24,
          22,
          24,
          22,
          23,
          28,
          24,
          18,
          20,
          21,
          22,
          28,
          30,
          26,
          30,
          19,
          19,
          25,
          30,
          26,
          22,
          26,
          21,
          25,
          23,
          23
         ],
         "y0": " ",
         "yaxis": "y"
        },
        {
         "alignmentgroup": "True",
         "hovertemplate": "Team=%{x}<br>Age=%{y}<extra></extra>",
         "legendgroup": "Mexico",
         "marker": {
          "color": "#EF553B"
         },
         "name": "Mexico",
         "notched": false,
         "offsetgroup": "Mexico",
         "orientation": "v",
         "showlegend": true,
         "type": "box",
         "x": [
          "Mexico",
          "Mexico",
          "Mexico",
          "Mexico",
          "Mexico",
          "Mexico",
          "Mexico",
          "Mexico",
          "Mexico",
          "Mexico",
          "Mexico",
          "Mexico",
          "Mexico",
          "Mexico",
          "Mexico",
          "Mexico"
         ],
         "x0": " ",
         "xaxis": "x",
         "y": [
          22,
          22,
          30,
          23,
          23,
          21,
          23,
          22,
          22,
          21,
          22,
          28,
          23,
          19,
          32,
          23
         ],
         "y0": " ",
         "yaxis": "y"
        },
        {
         "alignmentgroup": "True",
         "hovertemplate": "Team=%{x}<br>Age=%{y}<extra></extra>",
         "legendgroup": "France",
         "marker": {
          "color": "#00cc96"
         },
         "name": "France",
         "notched": false,
         "offsetgroup": "France",
         "orientation": "v",
         "showlegend": true,
         "type": "box",
         "x": [
          "France",
          "France",
          "France",
          "France",
          "France",
          "France",
          "France",
          "France",
          "France",
          "France",
          "France",
          "France",
          "France",
          "France",
          "France",
          "France"
         ],
         "x0": " ",
         "xaxis": "x",
         "y": [
          23,
          25,
          23,
          26,
          24,
          23,
          25,
          29,
          23,
          22,
          30,
          25,
          25,
          23,
          25,
          23
         ],
         "y0": " ",
         "yaxis": "y"
        },
        {
         "alignmentgroup": "True",
         "hovertemplate": "Team=%{x}<br>Age=%{y}<extra></extra>",
         "legendgroup": "South Korea",
         "marker": {
          "color": "#ab63fa"
         },
         "name": "South Korea",
         "notched": false,
         "offsetgroup": "South Korea",
         "orientation": "v",
         "showlegend": true,
         "type": "box",
         "x": [
          "South Korea",
          "South Korea",
          "South Korea",
          "South Korea",
          "South Korea",
          "South Korea",
          "South Korea",
          "South Korea",
          "South Korea",
          "South Korea",
          "South Korea",
          "South Korea",
          "South Korea",
          "South Korea",
          "South Korea",
          "South Korea",
          "South Korea",
          "South Korea"
         ],
         "x0": " ",
         "xaxis": "x",
         "y": [
          20,
          23,
          23,
          23,
          27,
          22,
          21,
          22,
          26,
          23,
          22,
          22,
          23,
          21,
          22,
          23,
          27,
          22
         ],
         "y0": " ",
         "yaxis": "y"
        },
        {
         "alignmentgroup": "True",
         "hovertemplate": "Team=%{x}<br>Age=%{y}<extra></extra>",
         "legendgroup": "East Germany",
         "marker": {
          "color": "#FFA15A"
         },
         "name": "East Germany",
         "notched": false,
         "offsetgroup": "East Germany",
         "orientation": "v",
         "showlegend": true,
         "type": "box",
         "x": [
          "East Germany",
          "East Germany",
          "East Germany",
          "East Germany",
          "East Germany",
          "East Germany",
          "East Germany",
          "East Germany",
          "East Germany",
          "East Germany",
          "East Germany",
          "East Germany",
          "East Germany",
          "East Germany",
          "East Germany",
          "East Germany",
          "East Germany",
          "East Germany",
          "East Germany",
          "East Germany",
          "East Germany",
          "East Germany",
          "East Germany",
          "East Germany",
          "East Germany",
          "East Germany",
          "East Germany",
          "East Germany",
          "East Germany",
          "East Germany",
          "East Germany",
          "East Germany",
          "East Germany",
          "East Germany",
          "East Germany",
          "East Germany",
          "East Germany",
          "East Germany",
          "East Germany",
          "East Germany",
          "East Germany",
          "East Germany",
          "East Germany",
          "East Germany",
          "East Germany",
          "East Germany",
          "East Germany",
          "East Germany",
          "East Germany",
          "East Germany",
          "East Germany"
         ],
         "x0": " ",
         "xaxis": "x",
         "y": [
          29,
          24,
          27,
          31,
          25,
          29,
          25,
          30,
          24,
          32,
          26,
          20,
          24,
          24,
          28,
          21,
          26,
          27,
          24,
          25,
          24,
          21,
          25,
          29,
          21,
          31,
          25,
          29,
          30,
          19,
          28,
          20,
          22,
          21,
          26,
          23,
          26,
          24,
          25,
          21,
          29,
          21,
          22,
          24,
          22,
          29,
          24,
          20,
          21,
          24,
          26
         ],
         "y0": " ",
         "yaxis": "y"
        },
        {
         "alignmentgroup": "True",
         "hovertemplate": "Team=%{x}<br>Age=%{y}<extra></extra>",
         "legendgroup": "Great Britain",
         "marker": {
          "color": "#19d3f3"
         },
         "name": "Great Britain",
         "notched": false,
         "offsetgroup": "Great Britain",
         "orientation": "v",
         "showlegend": true,
         "type": "box",
         "x": [
          "Great Britain",
          "Great Britain",
          "Great Britain",
          "Great Britain",
          "Great Britain",
          "Great Britain",
          "Great Britain",
          "Great Britain",
          "Great Britain",
          "Great Britain",
          "Great Britain",
          "Great Britain",
          "Great Britain",
          "Great Britain",
          "Great Britain",
          "Great Britain",
          "Great Britain",
          "Great Britain",
          "Great Britain",
          "Great Britain",
          "Great Britain",
          "Great Britain",
          "Great Britain",
          "Great Britain",
          "Great Britain"
         ],
         "x0": " ",
         "xaxis": "x",
         "y": [
          26,
          20,
          24,
          30,
          23,
          24,
          27,
          26,
          23,
          26,
          27,
          28,
          24,
          24,
          29,
          25,
          30,
          22,
          30,
          22,
          24,
          24,
          28,
          32,
          27
         ],
         "y0": " ",
         "yaxis": "y"
        },
        {
         "alignmentgroup": "True",
         "hovertemplate": "Team=%{x}<br>Age=%{y}<extra></extra>",
         "legendgroup": "Italy",
         "marker": {
          "color": "#FF6692"
         },
         "name": "Italy",
         "notched": false,
         "offsetgroup": "Italy",
         "orientation": "v",
         "showlegend": true,
         "type": "box",
         "x": [
          "Italy",
          "Italy",
          "Italy",
          "Italy",
          "Italy",
          "Italy",
          "Italy",
          "Italy",
          "Italy",
          "Italy",
          "Italy",
          "Italy",
          "Italy",
          "Italy",
          "Italy",
          "Italy",
          "Italy",
          "Italy",
          "Italy",
          "Italy",
          "Italy",
          "Italy",
          "Italy",
          "Italy",
          "Italy",
          "Italy",
          "Italy",
          "Italy",
          "Italy",
          "Italy",
          "Italy",
          "Italy",
          "Italy",
          "Italy",
          "Italy",
          "Italy",
          "Italy",
          "Italy",
          "Italy",
          "Italy",
          "Italy",
          "Italy",
          "Italy",
          "Italy",
          "Italy",
          "Italy",
          "Italy",
          "Italy"
         ],
         "x0": " ",
         "xaxis": "x",
         "y": [
          22,
          30,
          24,
          23,
          28,
          22,
          20,
          22,
          23,
          21,
          26,
          25,
          19,
          25,
          27,
          21,
          23,
          21,
          24,
          25,
          25,
          21,
          23,
          25,
          22,
          23,
          23,
          20,
          26,
          22,
          22,
          23,
          21,
          22,
          23,
          24,
          24,
          23,
          25,
          21,
          20,
          22,
          26,
          23,
          20,
          22,
          23,
          24
         ],
         "y0": " ",
         "yaxis": "y"
        },
        {
         "alignmentgroup": "True",
         "hovertemplate": "Team=%{x}<br>Age=%{y}<extra></extra>",
         "legendgroup": "Belgium",
         "marker": {
          "color": "#B6E880"
         },
         "name": "Belgium",
         "notched": false,
         "offsetgroup": "Belgium",
         "orientation": "v",
         "showlegend": true,
         "type": "box",
         "x": [
          "Belgium",
          "Belgium",
          "Belgium",
          "Belgium",
          "Belgium",
          "Belgium",
          "Belgium",
          "Belgium",
          "Belgium",
          "Belgium",
          "Belgium",
          "Belgium",
          "Belgium",
          "Belgium"
         ],
         "x0": " ",
         "xaxis": "x",
         "y": [
          28,
          20,
          25,
          25,
          27,
          22,
          27,
          31,
          22,
          26,
          25,
          27,
          30,
          28
         ],
         "y0": " ",
         "yaxis": "y"
        },
        {
         "alignmentgroup": "True",
         "hovertemplate": "Team=%{x}<br>Age=%{y}<extra></extra>",
         "legendgroup": "Paraguay",
         "marker": {
          "color": "#FF97FF"
         },
         "name": "Paraguay",
         "notched": false,
         "offsetgroup": "Paraguay",
         "orientation": "v",
         "showlegend": true,
         "type": "box",
         "x": [
          "Paraguay",
          "Paraguay",
          "Paraguay",
          "Paraguay",
          "Paraguay",
          "Paraguay",
          "Paraguay",
          "Paraguay",
          "Paraguay",
          "Paraguay",
          "Paraguay",
          "Paraguay",
          "Paraguay",
          "Paraguay",
          "Paraguay",
          "Paraguay",
          "Paraguay"
         ],
         "x0": " ",
         "xaxis": "x",
         "y": [
          22,
          23,
          20,
          23,
          33,
          20,
          21,
          22,
          30,
          23,
          22,
          33,
          23,
          22,
          23,
          23,
          22
         ],
         "y0": " ",
         "yaxis": "y"
        },
        {
         "alignmentgroup": "True",
         "hovertemplate": "Team=%{x}<br>Age=%{y}<extra></extra>",
         "legendgroup": "Christian Brothers' College-1",
         "marker": {
          "color": "#FECB52"
         },
         "name": "Christian Brothers' College-1",
         "notched": false,
         "offsetgroup": "Christian Brothers' College-1",
         "orientation": "v",
         "showlegend": true,
         "type": "box",
         "x": [
          "Christian Brothers' College-1",
          "Christian Brothers' College-1",
          "Christian Brothers' College-1",
          "Christian Brothers' College-1",
          "Christian Brothers' College-1",
          "Christian Brothers' College-1",
          "Christian Brothers' College-1",
          "Christian Brothers' College-1",
          "Christian Brothers' College-1",
          "Christian Brothers' College-1",
          "Christian Brothers' College-1"
         ],
         "x0": " ",
         "xaxis": "x",
         "y": [
          17,
          17,
          20,
          16,
          16,
          22,
          18,
          16,
          26,
          15,
          17
         ],
         "y0": " ",
         "yaxis": "y"
        },
        {
         "alignmentgroup": "True",
         "hovertemplate": "Team=%{x}<br>Age=%{y}<extra></extra>",
         "legendgroup": "Canada",
         "marker": {
          "color": "#636efa"
         },
         "name": "Canada",
         "notched": false,
         "offsetgroup": "Canada",
         "orientation": "v",
         "showlegend": true,
         "type": "box",
         "x": [
          "Canada",
          "Canada",
          "Canada",
          "Canada",
          "Canada",
          "Canada",
          "Canada",
          "Canada",
          "Canada",
          "Canada",
          "Canada",
          "Canada",
          "Canada",
          "Canada",
          "Canada",
          "Canada",
          "Canada",
          "Canada",
          "Canada",
          "Canada",
          "Canada",
          "Canada",
          "Canada",
          "Canada",
          "Canada",
          "Canada",
          "Canada",
          "Canada",
          "Canada",
          "Canada",
          "Canada",
          "Canada",
          "Canada",
          "Canada",
          "Canada",
          "Canada"
         ],
         "x0": " ",
         "xaxis": "x",
         "y": [
          21,
          30,
          20,
          27,
          29,
          23,
          21,
          18,
          26,
          23,
          29,
          21,
          32,
          28,
          32,
          29,
          28,
          30,
          31,
          21,
          20,
          17,
          24,
          28,
          24,
          29,
          28,
          29,
          33,
          22,
          30,
          34,
          26,
          30,
          34,
          23
         ],
         "y0": " ",
         "yaxis": "y"
        },
        {
         "alignmentgroup": "True",
         "hovertemplate": "Team=%{x}<br>Age=%{y}<extra></extra>",
         "legendgroup": "Netherlands",
         "marker": {
          "color": "#EF553B"
         },
         "name": "Netherlands",
         "notched": false,
         "offsetgroup": "Netherlands",
         "orientation": "v",
         "showlegend": true,
         "type": "box",
         "x": [
          "Netherlands",
          "Netherlands",
          "Netherlands",
          "Netherlands",
          "Netherlands",
          "Netherlands",
          "Netherlands",
          "Netherlands",
          "Netherlands",
          "Netherlands",
          "Netherlands",
          "Netherlands",
          "Netherlands",
          "Netherlands",
          "Netherlands",
          "Netherlands",
          "Netherlands",
          "Netherlands",
          "Netherlands",
          "Netherlands",
          "Netherlands",
          "Netherlands",
          "Netherlands",
          "Netherlands",
          "Netherlands",
          "Netherlands",
          "Netherlands",
          "Netherlands",
          "Netherlands",
          "Netherlands",
          "Netherlands",
          "Netherlands",
          "Netherlands",
          "Netherlands",
          "Netherlands",
          "Netherlands",
          "Netherlands",
          "Netherlands",
          "Netherlands",
          "Netherlands",
          "Netherlands"
         ],
         "x0": " ",
         "xaxis": "x",
         "y": [
          24,
          21,
          31,
          19,
          18,
          19,
          25,
          23,
          21,
          21,
          25,
          29,
          24,
          24,
          23,
          27,
          24,
          20,
          22,
          24,
          18,
          20,
          29,
          22,
          27,
          24,
          21,
          21,
          26,
          26,
          21,
          21,
          18,
          23,
          30,
          24,
          24,
          30,
          24,
          22,
          20
         ],
         "y0": " ",
         "yaxis": "y"
        },
        {
         "alignmentgroup": "True",
         "hovertemplate": "Team=%{x}<br>Age=%{y}<extra></extra>",
         "legendgroup": "Czechoslovakia",
         "marker": {
          "color": "#00cc96"
         },
         "name": "Czechoslovakia",
         "notched": false,
         "offsetgroup": "Czechoslovakia",
         "orientation": "v",
         "showlegend": true,
         "type": "box",
         "x": [
          "Czechoslovakia",
          "Czechoslovakia",
          "Czechoslovakia",
          "Czechoslovakia",
          "Czechoslovakia",
          "Czechoslovakia",
          "Czechoslovakia",
          "Czechoslovakia",
          "Czechoslovakia",
          "Czechoslovakia",
          "Czechoslovakia",
          "Czechoslovakia",
          "Czechoslovakia",
          "Czechoslovakia",
          "Czechoslovakia",
          "Czechoslovakia",
          "Czechoslovakia",
          "Czechoslovakia",
          "Czechoslovakia",
          "Czechoslovakia",
          "Czechoslovakia",
          "Czechoslovakia",
          "Czechoslovakia",
          "Czechoslovakia",
          "Czechoslovakia",
          "Czechoslovakia",
          "Czechoslovakia",
          "Czechoslovakia",
          "Czechoslovakia",
          "Czechoslovakia",
          "Czechoslovakia",
          "Czechoslovakia",
          "Czechoslovakia"
         ],
         "x0": " ",
         "xaxis": "x",
         "y": [
          24,
          27,
          26,
          21,
          20,
          22,
          25,
          28,
          25,
          29,
          26,
          30,
          24,
          23,
          23,
          25,
          31,
          22,
          30,
          29,
          29,
          24,
          27,
          26,
          27,
          26,
          27,
          30,
          33,
          27,
          25,
          29,
          25
         ],
         "y0": " ",
         "yaxis": "y"
        },
        {
         "alignmentgroup": "True",
         "hovertemplate": "Team=%{x}<br>Age=%{y}<extra></extra>",
         "legendgroup": "West Germany",
         "marker": {
          "color": "#ab63fa"
         },
         "name": "West Germany",
         "notched": false,
         "offsetgroup": "West Germany",
         "orientation": "v",
         "showlegend": true,
         "type": "box",
         "x": [
          "West Germany",
          "West Germany",
          "West Germany",
          "West Germany",
          "West Germany",
          "West Germany",
          "West Germany",
          "West Germany",
          "West Germany",
          "West Germany",
          "West Germany",
          "West Germany",
          "West Germany",
          "West Germany",
          "West Germany",
          "West Germany",
          "West Germany",
          "West Germany"
         ],
         "x0": " ",
         "xaxis": "x",
         "y": [
          31,
          26,
          30,
          29,
          24,
          22,
          31,
          21,
          24,
          30,
          24,
          30,
          23,
          29,
          27,
          26,
          28,
          26
         ],
         "y0": " ",
         "yaxis": "y"
        },
        {
         "alignmentgroup": "True",
         "hovertemplate": "Team=%{x}<br>Age=%{y}<extra></extra>",
         "legendgroup": "Bulgaria",
         "marker": {
          "color": "#FFA15A"
         },
         "name": "Bulgaria",
         "notched": false,
         "offsetgroup": "Bulgaria",
         "orientation": "v",
         "showlegend": true,
         "type": "box",
         "x": [
          "Bulgaria",
          "Bulgaria",
          "Bulgaria",
          "Bulgaria",
          "Bulgaria",
          "Bulgaria",
          "Bulgaria",
          "Bulgaria",
          "Bulgaria",
          "Bulgaria",
          "Bulgaria",
          "Bulgaria",
          "Bulgaria",
          "Bulgaria",
          "Bulgaria",
          "Bulgaria",
          "Bulgaria",
          "Bulgaria",
          "Bulgaria",
          "Bulgaria",
          "Bulgaria",
          "Bulgaria",
          "Bulgaria",
          "Bulgaria",
          "Bulgaria",
          "Bulgaria",
          "Bulgaria",
          "Bulgaria",
          "Bulgaria",
          "Bulgaria",
          "Bulgaria",
          "Bulgaria"
         ],
         "x0": " ",
         "xaxis": "x",
         "y": [
          33,
          22,
          25,
          21,
          25,
          23,
          22,
          25,
          23,
          28,
          26,
          21,
          22,
          24,
          19,
          26,
          22,
          31,
          19,
          28,
          24,
          23,
          25,
          24,
          27,
          23,
          29,
          27,
          24,
          24,
          20,
          24
         ],
         "y0": " ",
         "yaxis": "y"
        },
        {
         "alignmentgroup": "True",
         "hovertemplate": "Team=%{x}<br>Age=%{y}<extra></extra>",
         "legendgroup": "St. Rose-2",
         "marker": {
          "color": "#19d3f3"
         },
         "name": "St. Rose-2",
         "notched": false,
         "offsetgroup": "St. Rose-2",
         "orientation": "v",
         "showlegend": true,
         "type": "box",
         "x": [
          "St. Rose-2",
          "St. Rose-2",
          "St. Rose-2",
          "St. Rose-2",
          "St. Rose-2",
          "St. Rose-2",
          "St. Rose-2",
          "St. Rose-2",
          "St. Rose-2",
          "St. Rose-2",
          "St. Rose-2",
          "St. Rose-2"
         ],
         "x0": " ",
         "xaxis": "x",
         "y": [
          null,
          21,
          18,
          35,
          18,
          17,
          null,
          18,
          21,
          null,
          20,
          17
         ],
         "y0": " ",
         "yaxis": "y"
        },
        {
         "alignmentgroup": "True",
         "hovertemplate": "Team=%{x}<br>Age=%{y}<extra></extra>",
         "legendgroup": "Upton Park FC",
         "marker": {
          "color": "#FF6692"
         },
         "name": "Upton Park FC",
         "notched": false,
         "offsetgroup": "Upton Park FC",
         "orientation": "v",
         "showlegend": true,
         "type": "box",
         "x": [
          "Upton Park FC",
          "Upton Park FC",
          "Upton Park FC",
          "Upton Park FC",
          "Upton Park FC",
          "Upton Park FC",
          "Upton Park FC",
          "Upton Park FC",
          "Upton Park FC",
          "Upton Park FC",
          "Upton Park FC"
         ],
         "x0": " ",
         "xaxis": "x",
         "y": [
          24,
          19,
          25,
          30,
          null,
          null,
          20,
          31,
          null,
          18,
          null
         ],
         "y0": " ",
         "yaxis": "y"
        },
        {
         "alignmentgroup": "True",
         "hovertemplate": "Team=%{x}<br>Age=%{y}<extra></extra>",
         "legendgroup": "Smyrna",
         "marker": {
          "color": "#B6E880"
         },
         "name": "Smyrna",
         "notched": false,
         "offsetgroup": "Smyrna",
         "orientation": "v",
         "showlegend": true,
         "type": "box",
         "x": [
          "Smyrna",
          "Smyrna",
          "Smyrna",
          "Smyrna",
          "Smyrna",
          "Smyrna",
          "Smyrna",
          "Smyrna",
          "Smyrna",
          "Smyrna",
          "Smyrna"
         ],
         "x0": " ",
         "xaxis": "x",
         "y": [
          null,
          null,
          25,
          23,
          null,
          null,
          26,
          25,
          17,
          23,
          null
         ],
         "y0": " ",
         "yaxis": "y"
        },
        {
         "alignmentgroup": "True",
         "hovertemplate": "Team=%{x}<br>Age=%{y}<extra></extra>",
         "legendgroup": "China",
         "marker": {
          "color": "#FF97FF"
         },
         "name": "China",
         "notched": false,
         "offsetgroup": "China",
         "orientation": "v",
         "showlegend": true,
         "type": "box",
         "x": [
          "China",
          "China",
          "China",
          "China",
          "China",
          "China",
          "China",
          "China",
          "China",
          "China",
          "China",
          "China",
          "China",
          "China",
          "China"
         ],
         "x0": " ",
         "xaxis": "x",
         "y": [
          26,
          24,
          28,
          29,
          22,
          28,
          29,
          30,
          23,
          22,
          25,
          26,
          21,
          23,
          23
         ],
         "y0": " ",
         "yaxis": "y"
        },
        {
         "alignmentgroup": "True",
         "hovertemplate": "Team=%{x}<br>Age=%{y}<extra></extra>",
         "legendgroup": "Galt Football Club",
         "marker": {
          "color": "#FECB52"
         },
         "name": "Galt Football Club",
         "notched": false,
         "offsetgroup": "Galt Football Club",
         "orientation": "v",
         "showlegend": true,
         "type": "box",
         "x": [
          "Galt Football Club",
          "Galt Football Club",
          "Galt Football Club",
          "Galt Football Club",
          "Galt Football Club",
          "Galt Football Club",
          "Galt Football Club",
          "Galt Football Club",
          "Galt Football Club",
          "Galt Football Club",
          "Galt Football Club",
          "Galt Football Club",
          "Galt Football Club"
         ],
         "x0": " ",
         "xaxis": "x",
         "y": [
          24,
          32,
          22,
          31,
          23,
          22,
          24,
          22,
          24,
          null,
          29,
          23,
          25
         ],
         "y0": " ",
         "yaxis": "y"
        },
        {
         "alignmentgroup": "True",
         "hovertemplate": "Team=%{x}<br>Age=%{y}<extra></extra>",
         "legendgroup": "Univ. of Brussels",
         "marker": {
          "color": "#636efa"
         },
         "name": "Univ. of Brussels",
         "notched": false,
         "offsetgroup": "Univ. of Brussels",
         "orientation": "v",
         "showlegend": true,
         "type": "box",
         "x": [
          "Univ. of Brussels",
          "Univ. of Brussels",
          "Univ. of Brussels",
          "Univ. of Brussels",
          "Univ. of Brussels",
          "Univ. of Brussels",
          "Univ. of Brussels",
          "Univ. of Brussels",
          "Univ. of Brussels",
          "Univ. of Brussels",
          "Univ. of Brussels"
         ],
         "x0": " ",
         "xaxis": "x",
         "y": [
          null,
          null,
          null,
          null,
          null,
          null,
          null,
          null,
          null,
          17,
          21
         ],
         "y0": " ",
         "yaxis": "y"
        },
        {
         "alignmentgroup": "True",
         "hovertemplate": "Team=%{x}<br>Age=%{y}<extra></extra>",
         "legendgroup": "Austria",
         "marker": {
          "color": "#EF553B"
         },
         "name": "Austria",
         "notched": false,
         "offsetgroup": "Austria",
         "orientation": "v",
         "showlegend": true,
         "type": "box",
         "x": [
          "Austria",
          "Austria",
          "Austria",
          "Austria",
          "Austria",
          "Austria",
          "Austria",
          "Austria",
          "Austria",
          "Austria",
          "Austria",
          "Austria",
          "Austria"
         ],
         "x0": " ",
         "xaxis": "x",
         "y": [
          25,
          23,
          24,
          23,
          23,
          24,
          25,
          24,
          23,
          19,
          21,
          22,
          23
         ],
         "y0": " ",
         "yaxis": "y"
        }
       ],
       "layout": {
        "boxmode": "overlay",
        "legend": {
         "title": {
          "text": "Team"
         },
         "tracegroupgap": 0
        },
        "template": {
         "data": {
          "bar": [
           {
            "error_x": {
             "color": "#2a3f5f"
            },
            "error_y": {
             "color": "#2a3f5f"
            },
            "marker": {
             "line": {
              "color": "#E5ECF6",
              "width": 0.5
             },
             "pattern": {
              "fillmode": "overlay",
              "size": 10,
              "solidity": 0.2
             }
            },
            "type": "bar"
           }
          ],
          "barpolar": [
           {
            "marker": {
             "line": {
              "color": "#E5ECF6",
              "width": 0.5
             },
             "pattern": {
              "fillmode": "overlay",
              "size": 10,
              "solidity": 0.2
             }
            },
            "type": "barpolar"
           }
          ],
          "carpet": [
           {
            "aaxis": {
             "endlinecolor": "#2a3f5f",
             "gridcolor": "white",
             "linecolor": "white",
             "minorgridcolor": "white",
             "startlinecolor": "#2a3f5f"
            },
            "baxis": {
             "endlinecolor": "#2a3f5f",
             "gridcolor": "white",
             "linecolor": "white",
             "minorgridcolor": "white",
             "startlinecolor": "#2a3f5f"
            },
            "type": "carpet"
           }
          ],
          "choropleth": [
           {
            "colorbar": {
             "outlinewidth": 0,
             "ticks": ""
            },
            "type": "choropleth"
           }
          ],
          "contour": [
           {
            "colorbar": {
             "outlinewidth": 0,
             "ticks": ""
            },
            "colorscale": [
             [
              0,
              "#0d0887"
             ],
             [
              0.1111111111111111,
              "#46039f"
             ],
             [
              0.2222222222222222,
              "#7201a8"
             ],
             [
              0.3333333333333333,
              "#9c179e"
             ],
             [
              0.4444444444444444,
              "#bd3786"
             ],
             [
              0.5555555555555556,
              "#d8576b"
             ],
             [
              0.6666666666666666,
              "#ed7953"
             ],
             [
              0.7777777777777778,
              "#fb9f3a"
             ],
             [
              0.8888888888888888,
              "#fdca26"
             ],
             [
              1,
              "#f0f921"
             ]
            ],
            "type": "contour"
           }
          ],
          "contourcarpet": [
           {
            "colorbar": {
             "outlinewidth": 0,
             "ticks": ""
            },
            "type": "contourcarpet"
           }
          ],
          "heatmap": [
           {
            "colorbar": {
             "outlinewidth": 0,
             "ticks": ""
            },
            "colorscale": [
             [
              0,
              "#0d0887"
             ],
             [
              0.1111111111111111,
              "#46039f"
             ],
             [
              0.2222222222222222,
              "#7201a8"
             ],
             [
              0.3333333333333333,
              "#9c179e"
             ],
             [
              0.4444444444444444,
              "#bd3786"
             ],
             [
              0.5555555555555556,
              "#d8576b"
             ],
             [
              0.6666666666666666,
              "#ed7953"
             ],
             [
              0.7777777777777778,
              "#fb9f3a"
             ],
             [
              0.8888888888888888,
              "#fdca26"
             ],
             [
              1,
              "#f0f921"
             ]
            ],
            "type": "heatmap"
           }
          ],
          "heatmapgl": [
           {
            "colorbar": {
             "outlinewidth": 0,
             "ticks": ""
            },
            "colorscale": [
             [
              0,
              "#0d0887"
             ],
             [
              0.1111111111111111,
              "#46039f"
             ],
             [
              0.2222222222222222,
              "#7201a8"
             ],
             [
              0.3333333333333333,
              "#9c179e"
             ],
             [
              0.4444444444444444,
              "#bd3786"
             ],
             [
              0.5555555555555556,
              "#d8576b"
             ],
             [
              0.6666666666666666,
              "#ed7953"
             ],
             [
              0.7777777777777778,
              "#fb9f3a"
             ],
             [
              0.8888888888888888,
              "#fdca26"
             ],
             [
              1,
              "#f0f921"
             ]
            ],
            "type": "heatmapgl"
           }
          ],
          "histogram": [
           {
            "marker": {
             "pattern": {
              "fillmode": "overlay",
              "size": 10,
              "solidity": 0.2
             }
            },
            "type": "histogram"
           }
          ],
          "histogram2d": [
           {
            "colorbar": {
             "outlinewidth": 0,
             "ticks": ""
            },
            "colorscale": [
             [
              0,
              "#0d0887"
             ],
             [
              0.1111111111111111,
              "#46039f"
             ],
             [
              0.2222222222222222,
              "#7201a8"
             ],
             [
              0.3333333333333333,
              "#9c179e"
             ],
             [
              0.4444444444444444,
              "#bd3786"
             ],
             [
              0.5555555555555556,
              "#d8576b"
             ],
             [
              0.6666666666666666,
              "#ed7953"
             ],
             [
              0.7777777777777778,
              "#fb9f3a"
             ],
             [
              0.8888888888888888,
              "#fdca26"
             ],
             [
              1,
              "#f0f921"
             ]
            ],
            "type": "histogram2d"
           }
          ],
          "histogram2dcontour": [
           {
            "colorbar": {
             "outlinewidth": 0,
             "ticks": ""
            },
            "colorscale": [
             [
              0,
              "#0d0887"
             ],
             [
              0.1111111111111111,
              "#46039f"
             ],
             [
              0.2222222222222222,
              "#7201a8"
             ],
             [
              0.3333333333333333,
              "#9c179e"
             ],
             [
              0.4444444444444444,
              "#bd3786"
             ],
             [
              0.5555555555555556,
              "#d8576b"
             ],
             [
              0.6666666666666666,
              "#ed7953"
             ],
             [
              0.7777777777777778,
              "#fb9f3a"
             ],
             [
              0.8888888888888888,
              "#fdca26"
             ],
             [
              1,
              "#f0f921"
             ]
            ],
            "type": "histogram2dcontour"
           }
          ],
          "mesh3d": [
           {
            "colorbar": {
             "outlinewidth": 0,
             "ticks": ""
            },
            "type": "mesh3d"
           }
          ],
          "parcoords": [
           {
            "line": {
             "colorbar": {
              "outlinewidth": 0,
              "ticks": ""
             }
            },
            "type": "parcoords"
           }
          ],
          "pie": [
           {
            "automargin": true,
            "type": "pie"
           }
          ],
          "scatter": [
           {
            "fillpattern": {
             "fillmode": "overlay",
             "size": 10,
             "solidity": 0.2
            },
            "type": "scatter"
           }
          ],
          "scatter3d": [
           {
            "line": {
             "colorbar": {
              "outlinewidth": 0,
              "ticks": ""
             }
            },
            "marker": {
             "colorbar": {
              "outlinewidth": 0,
              "ticks": ""
             }
            },
            "type": "scatter3d"
           }
          ],
          "scattercarpet": [
           {
            "marker": {
             "colorbar": {
              "outlinewidth": 0,
              "ticks": ""
             }
            },
            "type": "scattercarpet"
           }
          ],
          "scattergeo": [
           {
            "marker": {
             "colorbar": {
              "outlinewidth": 0,
              "ticks": ""
             }
            },
            "type": "scattergeo"
           }
          ],
          "scattergl": [
           {
            "marker": {
             "colorbar": {
              "outlinewidth": 0,
              "ticks": ""
             }
            },
            "type": "scattergl"
           }
          ],
          "scattermapbox": [
           {
            "marker": {
             "colorbar": {
              "outlinewidth": 0,
              "ticks": ""
             }
            },
            "type": "scattermapbox"
           }
          ],
          "scatterpolar": [
           {
            "marker": {
             "colorbar": {
              "outlinewidth": 0,
              "ticks": ""
             }
            },
            "type": "scatterpolar"
           }
          ],
          "scatterpolargl": [
           {
            "marker": {
             "colorbar": {
              "outlinewidth": 0,
              "ticks": ""
             }
            },
            "type": "scatterpolargl"
           }
          ],
          "scatterternary": [
           {
            "marker": {
             "colorbar": {
              "outlinewidth": 0,
              "ticks": ""
             }
            },
            "type": "scatterternary"
           }
          ],
          "surface": [
           {
            "colorbar": {
             "outlinewidth": 0,
             "ticks": ""
            },
            "colorscale": [
             [
              0,
              "#0d0887"
             ],
             [
              0.1111111111111111,
              "#46039f"
             ],
             [
              0.2222222222222222,
              "#7201a8"
             ],
             [
              0.3333333333333333,
              "#9c179e"
             ],
             [
              0.4444444444444444,
              "#bd3786"
             ],
             [
              0.5555555555555556,
              "#d8576b"
             ],
             [
              0.6666666666666666,
              "#ed7953"
             ],
             [
              0.7777777777777778,
              "#fb9f3a"
             ],
             [
              0.8888888888888888,
              "#fdca26"
             ],
             [
              1,
              "#f0f921"
             ]
            ],
            "type": "surface"
           }
          ],
          "table": [
           {
            "cells": {
             "fill": {
              "color": "#EBF0F8"
             },
             "line": {
              "color": "white"
             }
            },
            "header": {
             "fill": {
              "color": "#C8D4E3"
             },
             "line": {
              "color": "white"
             }
            },
            "type": "table"
           }
          ]
         },
         "layout": {
          "annotationdefaults": {
           "arrowcolor": "#2a3f5f",
           "arrowhead": 0,
           "arrowwidth": 1
          },
          "autotypenumbers": "strict",
          "coloraxis": {
           "colorbar": {
            "outlinewidth": 0,
            "ticks": ""
           }
          },
          "colorscale": {
           "diverging": [
            [
             0,
             "#8e0152"
            ],
            [
             0.1,
             "#c51b7d"
            ],
            [
             0.2,
             "#de77ae"
            ],
            [
             0.3,
             "#f1b6da"
            ],
            [
             0.4,
             "#fde0ef"
            ],
            [
             0.5,
             "#f7f7f7"
            ],
            [
             0.6,
             "#e6f5d0"
            ],
            [
             0.7,
             "#b8e186"
            ],
            [
             0.8,
             "#7fbc41"
            ],
            [
             0.9,
             "#4d9221"
            ],
            [
             1,
             "#276419"
            ]
           ],
           "sequential": [
            [
             0,
             "#0d0887"
            ],
            [
             0.1111111111111111,
             "#46039f"
            ],
            [
             0.2222222222222222,
             "#7201a8"
            ],
            [
             0.3333333333333333,
             "#9c179e"
            ],
            [
             0.4444444444444444,
             "#bd3786"
            ],
            [
             0.5555555555555556,
             "#d8576b"
            ],
            [
             0.6666666666666666,
             "#ed7953"
            ],
            [
             0.7777777777777778,
             "#fb9f3a"
            ],
            [
             0.8888888888888888,
             "#fdca26"
            ],
            [
             1,
             "#f0f921"
            ]
           ],
           "sequentialminus": [
            [
             0,
             "#0d0887"
            ],
            [
             0.1111111111111111,
             "#46039f"
            ],
            [
             0.2222222222222222,
             "#7201a8"
            ],
            [
             0.3333333333333333,
             "#9c179e"
            ],
            [
             0.4444444444444444,
             "#bd3786"
            ],
            [
             0.5555555555555556,
             "#d8576b"
            ],
            [
             0.6666666666666666,
             "#ed7953"
            ],
            [
             0.7777777777777778,
             "#fb9f3a"
            ],
            [
             0.8888888888888888,
             "#fdca26"
            ],
            [
             1,
             "#f0f921"
            ]
           ]
          },
          "colorway": [
           "#636efa",
           "#EF553B",
           "#00cc96",
           "#ab63fa",
           "#FFA15A",
           "#19d3f3",
           "#FF6692",
           "#B6E880",
           "#FF97FF",
           "#FECB52"
          ],
          "font": {
           "color": "#2a3f5f"
          },
          "geo": {
           "bgcolor": "white",
           "lakecolor": "white",
           "landcolor": "#E5ECF6",
           "showlakes": true,
           "showland": true,
           "subunitcolor": "white"
          },
          "hoverlabel": {
           "align": "left"
          },
          "hovermode": "closest",
          "mapbox": {
           "style": "light"
          },
          "paper_bgcolor": "white",
          "plot_bgcolor": "#E5ECF6",
          "polar": {
           "angularaxis": {
            "gridcolor": "white",
            "linecolor": "white",
            "ticks": ""
           },
           "bgcolor": "#E5ECF6",
           "radialaxis": {
            "gridcolor": "white",
            "linecolor": "white",
            "ticks": ""
           }
          },
          "scene": {
           "xaxis": {
            "backgroundcolor": "#E5ECF6",
            "gridcolor": "white",
            "gridwidth": 2,
            "linecolor": "white",
            "showbackground": true,
            "ticks": "",
            "zerolinecolor": "white"
           },
           "yaxis": {
            "backgroundcolor": "#E5ECF6",
            "gridcolor": "white",
            "gridwidth": 2,
            "linecolor": "white",
            "showbackground": true,
            "ticks": "",
            "zerolinecolor": "white"
           },
           "zaxis": {
            "backgroundcolor": "#E5ECF6",
            "gridcolor": "white",
            "gridwidth": 2,
            "linecolor": "white",
            "showbackground": true,
            "ticks": "",
            "zerolinecolor": "white"
           }
          },
          "shapedefaults": {
           "line": {
            "color": "#2a3f5f"
           }
          },
          "ternary": {
           "aaxis": {
            "gridcolor": "white",
            "linecolor": "white",
            "ticks": ""
           },
           "baxis": {
            "gridcolor": "white",
            "linecolor": "white",
            "ticks": ""
           },
           "bgcolor": "#E5ECF6",
           "caxis": {
            "gridcolor": "white",
            "linecolor": "white",
            "ticks": ""
           }
          },
          "title": {
           "x": 0.05
          },
          "xaxis": {
           "automargin": true,
           "gridcolor": "white",
           "linecolor": "white",
           "ticks": "",
           "title": {
            "standoff": 15
           },
           "zerolinecolor": "white",
           "zerolinewidth": 2
          },
          "yaxis": {
           "automargin": true,
           "gridcolor": "white",
           "linecolor": "white",
           "ticks": "",
           "title": {
            "standoff": 15
           },
           "zerolinecolor": "white",
           "zerolinewidth": 2
          }
         }
        },
        "title": {
         "text": "Age distribution in football teams"
        },
        "xaxis": {
         "anchor": "y",
         "categoryarray": [
          "Norway",
          "Cameroon",
          "Thessalonki-1",
          "Switzerland",
          "Spain",
          "Ghana",
          "Argentina",
          "Poland",
          "Nigeria",
          "Brazil",
          "Sweden",
          "United States",
          "Hungary",
          "USFSA",
          "Chile",
          "Denmark",
          "Japan",
          "Uruguay",
          "Soviet Union",
          "Germany",
          "Yugoslavia",
          "Mexico",
          "France",
          "South Korea",
          "East Germany",
          "Great Britain",
          "Italy",
          "Belgium",
          "Paraguay",
          "Christian Brothers' College-1",
          "Canada",
          "Netherlands",
          "Czechoslovakia",
          "West Germany",
          "Bulgaria",
          "St. Rose-2",
          "Upton Park FC",
          "Smyrna",
          "China",
          "Galt Football Club",
          "Univ. of Brussels",
          "Austria"
         ],
         "categoryorder": "array",
         "domain": [
          0,
          1
         ],
         "title": {
          "text": "Team"
         }
        },
        "yaxis": {
         "anchor": "x",
         "domain": [
          0,
          1
         ],
         "title": {
          "text": "Age"
         }
        }
       }
      }
     },
     "metadata": {},
     "output_type": "display_data"
    }
   ],
   "source": [
    "# plot the age distribution in teams\n",
    "fig = px.box(\n",
    "    df_football[df_football[\"Medal\"].notna()],\n",
    "    x=\"Team\",\n",
    "    y=\"Age\",\n",
    "    color=\"Team\",\n",
    "    title=\"Age distribution in football teams\",\n",
    ")\n",
    "fig.show()"
   ]
  },
  {
   "cell_type": "markdown",
   "metadata": {},
   "source": [
    "### Ice Hockey analysis and visualization"
   ]
  },
  {
   "cell_type": "code",
   "execution_count": 21,
   "metadata": {},
   "outputs": [
    {
     "data": {
      "text/html": [
       "<div>\n",
       "<style scoped>\n",
       "    .dataframe tbody tr th:only-of-type {\n",
       "        vertical-align: middle;\n",
       "    }\n",
       "\n",
       "    .dataframe tbody tr th {\n",
       "        vertical-align: top;\n",
       "    }\n",
       "\n",
       "    .dataframe thead th {\n",
       "        text-align: right;\n",
       "    }\n",
       "</style>\n",
       "<table border=\"1\" class=\"dataframe\">\n",
       "  <thead>\n",
       "    <tr style=\"text-align: right;\">\n",
       "      <th></th>\n",
       "      <th>Unnamed: 0</th>\n",
       "      <th>ID</th>\n",
       "      <th>Name</th>\n",
       "      <th>Sex</th>\n",
       "      <th>Age</th>\n",
       "      <th>Height</th>\n",
       "      <th>Weight</th>\n",
       "      <th>Team</th>\n",
       "      <th>NOC</th>\n",
       "      <th>Games</th>\n",
       "      <th>Year</th>\n",
       "      <th>Season</th>\n",
       "      <th>City</th>\n",
       "      <th>Sport</th>\n",
       "      <th>Event</th>\n",
       "      <th>Medal</th>\n",
       "    </tr>\n",
       "  </thead>\n",
       "  <tbody>\n",
       "    <tr>\n",
       "      <th>2</th>\n",
       "      <td>28</td>\n",
       "      <td>9</td>\n",
       "      <td>a11b41b7e02d7d5ffa770946f8e9cc7f793eefdf62dd90...</td>\n",
       "      <td>M</td>\n",
       "      <td>26.0</td>\n",
       "      <td>186.0</td>\n",
       "      <td>96.0</td>\n",
       "      <td>Finland</td>\n",
       "      <td>FIN</td>\n",
       "      <td>2002 Winter</td>\n",
       "      <td>2002</td>\n",
       "      <td>Winter</td>\n",
       "      <td>Salt Lake City</td>\n",
       "      <td>Ice Hockey</td>\n",
       "      <td>Ice Hockey Men's Ice Hockey</td>\n",
       "      <td>NaN</td>\n",
       "    </tr>\n",
       "    <tr>\n",
       "      <th>3</th>\n",
       "      <td>40</td>\n",
       "      <td>16</td>\n",
       "      <td>ae93a503a6f4349bbb966008ad5ed852094c75c4ef1d08...</td>\n",
       "      <td>M</td>\n",
       "      <td>28.0</td>\n",
       "      <td>184.0</td>\n",
       "      <td>85.0</td>\n",
       "      <td>Finland</td>\n",
       "      <td>FIN</td>\n",
       "      <td>2014 Winter</td>\n",
       "      <td>2014</td>\n",
       "      <td>Winter</td>\n",
       "      <td>Sochi</td>\n",
       "      <td>Ice Hockey</td>\n",
       "      <td>Ice Hockey Men's Ice Hockey</td>\n",
       "      <td>Bronze</td>\n",
       "    </tr>\n",
       "    <tr>\n",
       "      <th>85</th>\n",
       "      <td>672</td>\n",
       "      <td>391</td>\n",
       "      <td>a922ef5f04268dd92156d7fba10b5c03e8a523d968d55b...</td>\n",
       "      <td>M</td>\n",
       "      <td>23.0</td>\n",
       "      <td>185.0</td>\n",
       "      <td>102.0</td>\n",
       "      <td>United States</td>\n",
       "      <td>USA</td>\n",
       "      <td>1924 Winter</td>\n",
       "      <td>1924</td>\n",
       "      <td>Winter</td>\n",
       "      <td>Chamonix</td>\n",
       "      <td>Ice Hockey</td>\n",
       "      <td>Ice Hockey Men's Ice Hockey</td>\n",
       "      <td>Silver</td>\n",
       "    </tr>\n",
       "    <tr>\n",
       "      <th>86</th>\n",
       "      <td>673</td>\n",
       "      <td>392</td>\n",
       "      <td>c460be799f4065bfcaf54577a8a9ccbbf4de47eff252aa...</td>\n",
       "      <td>M</td>\n",
       "      <td>35.0</td>\n",
       "      <td>NaN</td>\n",
       "      <td>NaN</td>\n",
       "      <td>Canada</td>\n",
       "      <td>CAN</td>\n",
       "      <td>1952 Winter</td>\n",
       "      <td>1952</td>\n",
       "      <td>Winter</td>\n",
       "      <td>Oslo</td>\n",
       "      <td>Ice Hockey</td>\n",
       "      <td>Ice Hockey Men's Ice Hockey</td>\n",
       "      <td>Gold</td>\n",
       "    </tr>\n",
       "    <tr>\n",
       "      <th>111</th>\n",
       "      <td>923</td>\n",
       "      <td>523</td>\n",
       "      <td>301db93827df209fc2574ffc777b8a85a70bda0132e7de...</td>\n",
       "      <td>M</td>\n",
       "      <td>19.0</td>\n",
       "      <td>183.0</td>\n",
       "      <td>87.0</td>\n",
       "      <td>Norway</td>\n",
       "      <td>NOR</td>\n",
       "      <td>1980 Winter</td>\n",
       "      <td>1980</td>\n",
       "      <td>Winter</td>\n",
       "      <td>Lake Placid</td>\n",
       "      <td>Ice Hockey</td>\n",
       "      <td>Ice Hockey Men's Ice Hockey</td>\n",
       "      <td>NaN</td>\n",
       "    </tr>\n",
       "  </tbody>\n",
       "</table>\n",
       "</div>"
      ],
      "text/plain": [
       "     Unnamed: 0   ID                                               Name Sex  \\\n",
       "2            28    9  a11b41b7e02d7d5ffa770946f8e9cc7f793eefdf62dd90...   M   \n",
       "3            40   16  ae93a503a6f4349bbb966008ad5ed852094c75c4ef1d08...   M   \n",
       "85          672  391  a922ef5f04268dd92156d7fba10b5c03e8a523d968d55b...   M   \n",
       "86          673  392  c460be799f4065bfcaf54577a8a9ccbbf4de47eff252aa...   M   \n",
       "111         923  523  301db93827df209fc2574ffc777b8a85a70bda0132e7de...   M   \n",
       "\n",
       "      Age  Height  Weight           Team  NOC        Games  Year  Season  \\\n",
       "2    26.0   186.0    96.0        Finland  FIN  2002 Winter  2002  Winter   \n",
       "3    28.0   184.0    85.0        Finland  FIN  2014 Winter  2014  Winter   \n",
       "85   23.0   185.0   102.0  United States  USA  1924 Winter  1924  Winter   \n",
       "86   35.0     NaN     NaN         Canada  CAN  1952 Winter  1952  Winter   \n",
       "111  19.0   183.0    87.0         Norway  NOR  1980 Winter  1980  Winter   \n",
       "\n",
       "               City       Sport                        Event   Medal  \n",
       "2    Salt Lake City  Ice Hockey  Ice Hockey Men's Ice Hockey     NaN  \n",
       "3             Sochi  Ice Hockey  Ice Hockey Men's Ice Hockey  Bronze  \n",
       "85         Chamonix  Ice Hockey  Ice Hockey Men's Ice Hockey  Silver  \n",
       "86             Oslo  Ice Hockey  Ice Hockey Men's Ice Hockey    Gold  \n",
       "111     Lake Placid  Ice Hockey  Ice Hockey Men's Ice Hockey     NaN  "
      ]
     },
     "execution_count": 21,
     "metadata": {},
     "output_type": "execute_result"
    }
   ],
   "source": [
    "df_ice_hockey = df_sports[df_sports[\"Sport\"] == \"Ice Hockey\"]\n",
    "df_ice_hockey.head()"
   ]
  },
  {
   "cell_type": "code",
   "execution_count": 22,
   "metadata": {},
   "outputs": [
    {
     "data": {
      "application/vnd.plotly.v1+json": {
       "config": {
        "plotlyServerURL": "https://plot.ly"
       },
       "data": [
        {
         "alignmentgroup": "True",
         "bingroup": "x",
         "hovertemplate": "Medal=Gold<br>Team=%{x}<br>count=%{y}<extra></extra>",
         "legendgroup": "Gold",
         "marker": {
          "color": "gold",
          "pattern": {
           "shape": ""
          }
         },
         "name": "Gold",
         "offsetgroup": "Gold",
         "orientation": "v",
         "showlegend": true,
         "type": "histogram",
         "x": [
          "Canada",
          "Canada",
          "Canada",
          "Canada",
          "Soviet Union",
          "Soviet Union",
          "Soviet Union",
          "Sweden",
          "Sweden",
          "Soviet Union",
          "Canada",
          "Canada",
          "Canada",
          "Canada",
          "Great Britain",
          "Sweden",
          "Soviet Union",
          "Soviet Union",
          "Sweden",
          "United States",
          "United States",
          "United States",
          "Unified Team",
          "Canada",
          "Canada",
          "Canada",
          "Czech Republic",
          "Canada",
          "Canada",
          "Sweden",
          "Sweden",
          "Soviet Union",
          "United States",
          "Canada",
          "Soviet Union",
          "Soviet Union",
          "Soviet Union",
          "Unified Team",
          "Canada",
          "Great Britain",
          "Unified Team",
          "Canada",
          "Canada",
          "Canada",
          "Canada",
          "Canada",
          "Great Britain",
          "Canada",
          "Canada",
          "Canada",
          "Canada",
          "United States",
          "United States",
          "Unified Team",
          "Soviet Union",
          "United States",
          "Soviet Union",
          "Unified Team",
          "Canada",
          "Czech Republic",
          "Canada",
          "Canada",
          "Canada",
          "Canada",
          "Great Britain",
          "Canada",
          "Soviet Union",
          "United States",
          "United States",
          "United States",
          "United States",
          "United States",
          "United States",
          "Canada",
          "Canada",
          "Great Britain",
          "United States",
          "United States",
          "Canada",
          "Canada",
          "Canada",
          "Sweden",
          "Great Britain",
          "Canada",
          "Great Britain",
          "Canada",
          "Soviet Union",
          "Soviet Union",
          "Soviet Union",
          "Unified Team",
          "Canada",
          "United States",
          "Canada",
          "Canada",
          "Czech Republic",
          "Canada",
          "Canada",
          "Canada",
          "Soviet Union",
          "Canada",
          "Sweden",
          "Canada",
          "United States",
          "Canada",
          "Canada",
          "Great Britain",
          "Sweden",
          "United States",
          "Canada",
          "Soviet Union",
          "Soviet Union",
          "Soviet Union",
          "Soviet Union",
          "Soviet Union",
          "Canada",
          "Canada",
          "Canada",
          "Sweden",
          "Sweden",
          "Canada",
          "Great Britain",
          "Canada",
          "Canada",
          "Canada",
          "Canada",
          "Canada",
          "Soviet Union",
          "Canada",
          "Canada",
          "Canada",
          "Canada",
          "Canada",
          "Canada",
          "United States",
          "Canada",
          "United States",
          "Soviet Union",
          "Soviet Union",
          "Soviet Union",
          "Canada",
          "Canada",
          "Canada",
          "Canada",
          "Czech Republic",
          "Sweden",
          "Canada",
          "Sweden",
          "United States",
          "Czech Republic",
          "Sweden",
          "Canada",
          "Canada",
          "Canada",
          "Canada",
          "Canada",
          "Canada",
          "Czech Republic",
          "Canada",
          "Canada",
          "Sweden",
          "Canada",
          "Canada",
          "Canada",
          "Soviet Union",
          "Canada",
          "Canada",
          "Soviet Union",
          "Czech Republic",
          "Canada",
          "Canada",
          "Sweden",
          "United States",
          "United States",
          "Canada",
          "Canada",
          "Sweden",
          "Sweden",
          "Sweden",
          "Sweden",
          "Sweden",
          "Canada",
          "Canada",
          "Sweden",
          "Soviet Union",
          "Soviet Union",
          "Canada",
          "Soviet Union",
          "Soviet Union",
          "Unified Team",
          "Canada",
          "Canada",
          "Canada",
          "Canada",
          "Canada",
          "Soviet Union",
          "Soviet Union",
          "Soviet Union",
          "Unified Team",
          "Soviet Union",
          "Soviet Union",
          "Unified Team",
          "Great Britain",
          "United States",
          "Canada",
          "Canada",
          "United States",
          "Sweden",
          "Soviet Union",
          "Soviet Union",
          "Unified Team",
          "Unified Team",
          "Soviet Union",
          "Soviet Union",
          "Soviet Union",
          "Soviet Union",
          "Unified Team",
          "Sweden",
          "Soviet Union",
          "Soviet Union",
          "Soviet Union",
          "Czech Republic",
          "Soviet Union",
          "Canada",
          "Soviet Union",
          "Soviet Union",
          "Soviet Union",
          "Soviet Union",
          "Canada",
          "Canada",
          "Canada",
          "Czech Republic",
          "Canada",
          "Soviet Union",
          "Soviet Union",
          "Canada",
          "Canada",
          "Canada",
          "Sweden",
          "Canada",
          "Canada",
          "Sweden",
          "Soviet Union",
          "Soviet Union",
          "Sweden",
          "United States",
          "Sweden",
          "Canada",
          "Canada",
          "Soviet Union",
          "Soviet Union",
          "Soviet Union",
          "Canada",
          "Canada",
          "Canada",
          "Soviet Union",
          "Soviet Union",
          "Unified Team",
          "Canada",
          "Soviet Union",
          "Soviet Union",
          "Canada",
          "Canada",
          "Canada",
          "United States",
          "Soviet Union",
          "Soviet Union",
          "Soviet Union",
          "Canada",
          "United States",
          "United States",
          "Canada",
          "United States",
          "United States",
          "United States",
          "Canada",
          "Soviet Union",
          "Soviet Union",
          "Canada",
          "Canada",
          "Canada",
          "Unified Team",
          "Soviet Union",
          "Soviet Union",
          "Soviet Union",
          "United States",
          "Sweden",
          "Soviet Union",
          "Soviet Union",
          "Canada",
          "Canada",
          "Czech Republic",
          "Canada",
          "United States",
          "United States",
          "United States",
          "Canada",
          "Canada",
          "Soviet Union",
          "Soviet Union",
          "Canada",
          "Canada",
          "Sweden",
          "Canada",
          "Canada",
          "Canada",
          "Soviet Union",
          "Canada",
          "United States",
          "Sweden",
          "United States",
          "Sweden",
          "Canada",
          "Canada",
          "Canada",
          "Canada",
          "United States",
          "United States",
          "Sweden",
          "United States",
          "Soviet Union",
          "Soviet Union",
          "Czech Republic",
          "Canada",
          "United States",
          "Canada",
          "Canada",
          "Canada",
          "Soviet Union",
          "Unified Team",
          "Soviet Union",
          "Soviet Union",
          "Soviet Union",
          "Canada",
          "Canada",
          "Canada",
          "Canada",
          "Canada",
          "Canada",
          "Canada",
          "Canada",
          "Soviet Union",
          "Canada",
          "Canada",
          "Canada",
          "Canada",
          "Canada",
          "Canada",
          "Czech Republic",
          "Czech Republic",
          "Unified Team",
          "Canada",
          "Canada",
          "Soviet Union",
          "Canada",
          "Soviet Union",
          "Soviet Union",
          "Soviet Union",
          "Canada",
          "United States",
          "Czech Republic",
          "Canada",
          "Canada",
          "Canada",
          "Canada",
          "United States",
          "Sweden",
          "Soviet Union",
          "Soviet Union",
          "Canada",
          "Czech Republic",
          "United States",
          "Czech Republic",
          "Sweden",
          "Canada",
          "Sweden",
          "Sweden",
          "United States",
          "United States",
          "Canada",
          "Canada",
          "Canada",
          "Sweden",
          "Sweden",
          "Soviet Union",
          "Soviet Union",
          "Soviet Union",
          "Soviet Union",
          "Canada",
          "Canada",
          "Soviet Union",
          "Canada",
          "Unified Team",
          "Soviet Union",
          "Soviet Union",
          "Soviet Union",
          "United States",
          "Canada",
          "Soviet Union",
          "Canada",
          "Czech Republic",
          "Canada",
          "Czech Republic",
          "Canada",
          "Canada",
          "Soviet Union",
          "Canada",
          "Canada",
          "Canada",
          "Czech Republic",
          "Canada",
          "Canada",
          "Canada",
          "Canada",
          "Canada",
          "Canada",
          "Soviet Union",
          "Soviet Union",
          "Soviet Union",
          "Soviet Union",
          "Soviet Union",
          "Soviet Union",
          "Sweden",
          "Great Britain",
          "Czech Republic",
          "United States",
          "Canada",
          "Canada",
          "Canada",
          "Canada",
          "Sweden",
          "Sweden",
          "Canada",
          "Canada",
          "United States",
          "Canada",
          "Sweden",
          "Soviet Union",
          "Czech Republic",
          "Canada",
          "Canada",
          "Canada",
          "Canada",
          "Canada",
          "Sweden",
          "Canada",
          "Sweden",
          "Canada",
          "Canada",
          "Unified Team",
          "Soviet Union",
          "Soviet Union",
          "Soviet Union",
          "Soviet Union",
          "Canada",
          "Soviet Union",
          "Soviet Union",
          "United States",
          "Soviet Union",
          "Soviet Union",
          "United States",
          "Soviet Union",
          "Canada",
          "Canada",
          "Soviet Union",
          "Soviet Union",
          "Soviet Union",
          "United States",
          "Soviet Union",
          "Soviet Union",
          "Canada",
          "Soviet Union",
          "Canada",
          "Canada",
          "Canada",
          "Canada",
          "Canada",
          "Canada",
          "Canada",
          "Canada",
          "Canada",
          "Canada",
          "United States",
          "United States",
          "Canada",
          "Canada",
          "Canada",
          "Canada",
          "United States",
          "Canada",
          "Canada",
          "Great Britain",
          "Soviet Union",
          "Soviet Union",
          "Soviet Union",
          "Soviet Union",
          "Unified Team",
          "Canada",
          "Soviet Union",
          "Soviet Union",
          "Soviet Union",
          "Sweden",
          "Unified Team",
          "Unified Team",
          "Soviet Union",
          "Soviet Union",
          "Soviet Union",
          "Soviet Union",
          "Unified Team"
         ],
         "xaxis": "x",
         "yaxis": "y"
        },
        {
         "alignmentgroup": "True",
         "bingroup": "x",
         "hovertemplate": "Medal=Silver<br>Team=%{x}<br>count=%{y}<extra></extra>",
         "legendgroup": "Silver",
         "marker": {
          "color": "silver",
          "pattern": {
           "shape": ""
          }
         },
         "name": "Silver",
         "offsetgroup": "Silver",
         "orientation": "v",
         "showlegend": true,
         "type": "histogram",
         "x": [
          "United States",
          "Sweden",
          "United States",
          "Sweden",
          "United States",
          "United States",
          "United States",
          "Sweden",
          "Sweden",
          "Sweden",
          "Canada",
          "Sweden",
          "Canada",
          "Canada",
          "Canada",
          "Czechoslovakia",
          "United States",
          "Sweden",
          "United States",
          "United States",
          "Soviet Union",
          "United States",
          "United States",
          "United States",
          "Czechoslovakia",
          "Canada",
          "United States",
          "Finland",
          "Sweden",
          "Sweden",
          "Soviet Union",
          "United States",
          "Sweden",
          "Finland",
          "United States",
          "Canada",
          "United States",
          "Czechoslovakia",
          "United States",
          "Canada",
          "Canada",
          "United States",
          "United States",
          "Czechoslovakia",
          "Czechoslovakia",
          "Russia",
          "Russia",
          "Canada",
          "United States",
          "United States",
          "United States",
          "Czechoslovakia",
          "United States",
          "Canada",
          "United States",
          "United States",
          "United States",
          "Czechoslovakia",
          "Czechoslovakia",
          "Czechoslovakia",
          "Czechoslovakia",
          "United States",
          "United States",
          "United States",
          "United States",
          "United States",
          "United States",
          "United States",
          "United States",
          "United States",
          "Canada",
          "United States",
          "United States",
          "United States",
          "Czechoslovakia",
          "United States",
          "United States",
          "Canada",
          "United States",
          "United States",
          "Canada",
          "United States",
          "United States",
          "United States",
          "United States",
          "Canada",
          "United States",
          "Canada",
          "Czechoslovakia",
          "Canada",
          "United States",
          "United States",
          "United States",
          "United States",
          "United States",
          "United States",
          "United States",
          "United States",
          "Canada",
          "Czechoslovakia",
          "Czechoslovakia",
          "Czechoslovakia",
          "Sweden",
          "Sweden",
          "Sweden",
          "Sweden",
          "Sweden",
          "Finland",
          "United States",
          "Sweden",
          "Sweden",
          "Sweden",
          "Canada",
          "United States",
          "Canada",
          "Canada",
          "United States",
          "Soviet Union",
          "United States",
          "United States",
          "Canada",
          "United States",
          "United States",
          "United States",
          "Russia",
          "United States",
          "United States",
          "United States",
          "Canada",
          "United States",
          "United States",
          "Soviet Union",
          "Soviet Union",
          "Czechoslovakia",
          "Russia",
          "Canada",
          "United States",
          "United States",
          "Russia",
          "Sweden",
          "Canada",
          "Sweden",
          "Finland",
          "Czechoslovakia",
          "United States",
          "Canada",
          "Canada",
          "United States",
          "Czechoslovakia",
          "Canada",
          "Canada",
          "Canada",
          "Czechoslovakia",
          "Finland",
          "Finland",
          "Canada",
          "Sweden",
          "Czechoslovakia",
          "Canada",
          "Czechoslovakia",
          "Czechoslovakia",
          "Czechoslovakia",
          "Sweden",
          "Sweden",
          "Czechoslovakia",
          "Czechoslovakia",
          "United States",
          "United States",
          "Czechoslovakia",
          "Czechoslovakia",
          "United States",
          "Canada",
          "Canada",
          "United States",
          "United States",
          "Sweden",
          "Czechoslovakia",
          "Finland",
          "Czechoslovakia",
          "Sweden",
          "Sweden",
          "Sweden",
          "Sweden",
          "Sweden",
          "Sweden",
          "Sweden",
          "United States",
          "Canada",
          "United States",
          "Finland",
          "Finland",
          "Canada",
          "Canada",
          "Canada",
          "Czechoslovakia",
          "Czechoslovakia",
          "Russia",
          "United States",
          "Finland",
          "Canada",
          "Sweden",
          "Sweden",
          "Soviet Union",
          "Russia",
          "Canada",
          "United States",
          "Finland",
          "United States",
          "United States",
          "United States",
          "Soviet Union",
          "Canada",
          "United States",
          "United States",
          "United States",
          "Canada",
          "Czechoslovakia",
          "United States",
          "United States",
          "Czechoslovakia",
          "Czechoslovakia",
          "Finland",
          "Finland",
          "Czechoslovakia",
          "Canada",
          "Czechoslovakia",
          "Russia",
          "Czechoslovakia",
          "Russia",
          "Russia",
          "Sweden",
          "Sweden",
          "Soviet Union",
          "Finland",
          "Czechoslovakia",
          "Finland",
          "United States",
          "Finland",
          "Finland",
          "Czechoslovakia",
          "United States",
          "United States",
          "United States",
          "United States",
          "Sweden",
          "United States",
          "United States",
          "Sweden",
          "Canada",
          "United States",
          "Canada",
          "Soviet Union",
          "United States",
          "United States",
          "Finland",
          "Finland",
          "Czechoslovakia",
          "Canada",
          "Sweden",
          "Sweden",
          "Sweden",
          "Canada",
          "United States",
          "United States",
          "Canada",
          "Czechoslovakia",
          "Finland",
          "Sweden",
          "Sweden",
          "Sweden",
          "Finland",
          "United States",
          "Sweden",
          "Czechoslovakia",
          "Czechoslovakia",
          "Soviet Union",
          "United States",
          "Soviet Union",
          "Canada",
          "Canada",
          "Sweden",
          "Czechoslovakia",
          "United States",
          "United States",
          "Czechoslovakia",
          "United States",
          "United States",
          "Canada",
          "United States",
          "Canada",
          "United States",
          "United States",
          "United States",
          "United States",
          "United States",
          "Canada",
          "United States",
          "United States",
          "United States",
          "United States",
          "Soviet Union",
          "Finland",
          "Sweden",
          "United States",
          "United States",
          "Canada",
          "Russia",
          "Russia",
          "United States",
          "United States",
          "Czechoslovakia",
          "Canada",
          "Russia",
          "United States",
          "United States",
          "Canada",
          "Finland",
          "Soviet Union",
          "Czechoslovakia",
          "Canada",
          "United States",
          "Czechoslovakia",
          "Canada",
          "United States",
          "Russia",
          "Sweden",
          "Canada",
          "Finland",
          "Finland",
          "Finland",
          "Sweden",
          "United States",
          "Sweden",
          "Finland",
          "Canada",
          "Czechoslovakia",
          "Czechoslovakia",
          "Czechoslovakia",
          "Finland",
          "Finland",
          "Finland",
          "Sweden",
          "Canada",
          "Sweden",
          "Sweden",
          "Sweden",
          "Sweden",
          "Finland",
          "Sweden",
          "United States",
          "United States",
          "United States",
          "United States",
          "United States",
          "United States",
          "Canada",
          "Czechoslovakia",
          "United States",
          "Finland",
          "Canada",
          "Soviet Union",
          "Sweden",
          "United States",
          "Soviet Union",
          "Sweden",
          "United States",
          "Canada",
          "Czechoslovakia",
          "Czechoslovakia",
          "Czechoslovakia",
          "United States",
          "Czechoslovakia",
          "United States",
          "United States",
          "United States",
          "United States",
          "Canada",
          "Canada",
          "Canada",
          "United States",
          "United States",
          "Czechoslovakia",
          "United States",
          "United States",
          "United States",
          "United States",
          "United States",
          "Sweden",
          "Canada",
          "Canada",
          "Canada",
          "Czechoslovakia",
          "United States",
          "United States",
          "Sweden",
          "Finland",
          "Finland",
          "Czechoslovakia",
          "Finland",
          "Czechoslovakia",
          "United States",
          "Finland",
          "Canada",
          "Finland",
          "Canada",
          "United States",
          "United States",
          "United States",
          "Canada",
          "United States",
          "United States",
          "Canada",
          "Canada",
          "United States",
          "United States",
          "United States",
          "Canada",
          "Canada",
          "Canada",
          "United States",
          "Sweden",
          "United States",
          "Finland",
          "Czechoslovakia",
          "United States",
          "Russia",
          "Sweden",
          "Canada",
          "Czechoslovakia",
          "Canada",
          "Sweden",
          "Soviet Union",
          "Czechoslovakia",
          "Canada",
          "United States",
          "Canada",
          "United States",
          "Canada",
          "Canada",
          "United States",
          "United States",
          "Soviet Union",
          "Czechoslovakia",
          "United States",
          "United States",
          "Sweden",
          "Sweden",
          "Czechoslovakia",
          "Sweden",
          "Czechoslovakia",
          "Czechoslovakia",
          "Sweden",
          "Finland",
          "Canada",
          "Finland",
          "United States",
          "United States",
          "Sweden",
          "Czechoslovakia",
          "Czechoslovakia",
          "United States",
          "United States",
          "Sweden",
          "Finland",
          "United States",
          "Canada",
          "United States",
          "Canada",
          "Sweden",
          "Finland",
          "Canada",
          "Russia",
          "United States",
          "Finland",
          "Russia",
          "Soviet Union",
          "Czechoslovakia",
          "Czechoslovakia",
          "United States",
          "United States",
          "Finland",
          "Canada",
          "Czechoslovakia",
          "United States",
          "Soviet Union",
          "United States",
          "United States",
          "Sweden",
          "Finland",
          "United States",
          "Canada",
          "United States",
          "United States",
          "United States",
          "United States",
          "Canada",
          "United States",
          "United States",
          "Canada",
          "Canada",
          "Sweden",
          "Canada",
          "United States",
          "Russia",
          "United States",
          "United States",
          "Russia",
          "Czechoslovakia",
          "Czechoslovakia",
          "United States",
          "Russia",
          "Sweden",
          "Russia",
          "Russia",
          "Soviet Union"
         ],
         "xaxis": "x",
         "yaxis": "y"
        },
        {
         "alignmentgroup": "True",
         "bingroup": "x",
         "hovertemplate": "Medal=Bronze<br>Team=%{x}<br>count=%{y}<extra></extra>",
         "legendgroup": "Bronze",
         "marker": {
          "color": "brown",
          "pattern": {
           "shape": ""
          }
         },
         "name": "Bronze",
         "offsetgroup": "Bronze",
         "orientation": "v",
         "showlegend": true,
         "type": "histogram",
         "x": [
          "Finland",
          "Russia",
          "Sweden",
          "Sweden",
          "Sweden",
          "Finland",
          "Soviet Union",
          "Sweden",
          "Soviet Union",
          "Sweden",
          "Switzerland",
          "Great Britain",
          "Sweden",
          "Sweden",
          "Sweden",
          "Sweden",
          "Sweden",
          "Sweden",
          "Sweden",
          "Sweden",
          "Switzerland",
          "Switzerland",
          "Sweden",
          "Czechoslovakia",
          "West Germany",
          "Finland",
          "Germany",
          "Switzerland",
          "Finland",
          "Soviet Union",
          "Czechoslovakia",
          "Switzerland",
          "Switzerland",
          "Finland",
          "Sweden",
          "Sweden",
          "Sweden",
          "Sweden",
          "Sweden",
          "West Germany",
          "Switzerland",
          "Sweden",
          "Sweden",
          "Switzerland",
          "West Germany",
          "Canada",
          "Switzerland",
          "Czechoslovakia",
          "Canada",
          "Canada",
          "Canada",
          "Czechoslovakia",
          "Czech Republic",
          "Switzerland",
          "Russia",
          "Russia",
          "Soviet Union",
          "Canada",
          "United States",
          "Czech Republic",
          "Great Britain",
          "Great Britain",
          "Great Britain",
          "Switzerland",
          "Switzerland",
          "Czechoslovakia",
          "Czechoslovakia",
          "United States",
          "Great Britain",
          "Canada",
          "Canada",
          "Great Britain",
          "United States",
          "Russia",
          "Canada",
          "Czechoslovakia",
          "United States",
          "Switzerland",
          "United States",
          "Switzerland",
          "Switzerland",
          "Czechoslovakia",
          "Czechoslovakia",
          "Sweden",
          "Switzerland",
          "Sweden",
          "Sweden",
          "Sweden",
          "Sweden",
          "Sweden",
          "Czech Republic",
          "United States",
          "Czech Republic",
          "Sweden",
          "Sweden",
          "Sweden",
          "Sweden",
          "Sweden",
          "Sweden",
          "Sweden",
          "Czechoslovakia",
          "Switzerland",
          "Finland",
          "Finland",
          "Sweden",
          "Switzerland",
          "Switzerland",
          "West Germany",
          "Russia",
          "United States",
          "Switzerland",
          "Canada",
          "Czechoslovakia",
          "Russia",
          "Sweden",
          "Finland",
          "Soviet Union",
          "Czechoslovakia",
          "Finland",
          "Soviet Union",
          "Czechoslovakia",
          "United States",
          "United States",
          "Finland",
          "Finland",
          "Switzerland",
          "Finland",
          "Canada",
          "Czechoslovakia",
          "Czech Republic",
          "Germany",
          "Czech Republic",
          "Finland",
          "Finland",
          "Finland",
          "Czech Republic",
          "Germany",
          "Sweden",
          "Finland",
          "Finland",
          "West Germany",
          "Sweden",
          "Sweden",
          "Czechoslovakia",
          "Czech Republic",
          "Czechoslovakia",
          "Czechoslovakia",
          "Czechoslovakia",
          "Czechoslovakia",
          "Great Britain",
          "Sweden",
          "Sweden",
          "Czechoslovakia",
          "Czechoslovakia",
          "Canada",
          "Finland",
          "Czechoslovakia",
          "Canada",
          "Finland",
          "Canada",
          "Finland",
          "Finland",
          "Finland",
          "Finland",
          "United States",
          "Sweden",
          "Germany",
          "Czech Republic",
          "Czechoslovakia",
          "Sweden",
          "Czechoslovakia",
          "Czechoslovakia",
          "Sweden",
          "Sweden",
          "Sweden",
          "Sweden",
          "Sweden",
          "Canada",
          "Finland",
          "Finland",
          "Finland",
          "Sweden",
          "Great Britain",
          "Finland",
          "Czech Republic",
          "Czech Republic",
          "Czechoslovakia",
          "United States",
          "Finland",
          "Finland",
          "Finland",
          "Sweden",
          "Soviet Union",
          "Finland",
          "Russia",
          "Czechoslovakia",
          "United States",
          "West Germany",
          "United States",
          "Finland",
          "Russia",
          "West Germany",
          "Sweden",
          "United States",
          "United States",
          "Finland",
          "Finland",
          "Czechoslovakia",
          "Canada",
          "Canada",
          "West Germany",
          "Czechoslovakia",
          "Finland",
          "Finland",
          "Finland",
          "Finland",
          "Finland",
          "Finland",
          "West Germany",
          "Germany",
          "Finland",
          "Czech Republic",
          "Russia",
          "Russia",
          "Switzerland",
          "Russia",
          "Finland",
          "Czech Republic",
          "Czech Republic",
          "Soviet Union",
          "West Germany",
          "Finland",
          "Finland",
          "Finland",
          "Russia",
          "Finland",
          "Finland",
          "United States",
          "Czechoslovakia",
          "Czech Republic",
          "Finland",
          "Russia",
          "Sweden",
          "Sweden",
          "Canada",
          "Finland",
          "Finland",
          "United States",
          "Canada",
          "Finland",
          "Finland",
          "Finland",
          "Finland",
          "Finland",
          "Finland",
          "Finland",
          "Finland",
          "Germany",
          "Finland",
          "Finland",
          "Czechoslovakia",
          "Finland",
          "Sweden",
          "Sweden",
          "Sweden",
          "Sweden",
          "Finland",
          "Sweden",
          "Sweden",
          "Canada",
          "Switzerland",
          "Switzerland",
          "Soviet Union",
          "Czechoslovakia",
          "Czechoslovakia",
          "Sweden",
          "Finland",
          "Sweden",
          "Sweden",
          "Switzerland",
          "Finland",
          "Finland",
          "Czechoslovakia",
          "Canada",
          "Canada",
          "Finland",
          "Russia",
          "Czech Republic",
          "Russia",
          "Switzerland",
          "Canada",
          "Sweden",
          "Czechoslovakia",
          "Switzerland",
          "Switzerland",
          "Canada",
          "Switzerland",
          "Finland",
          "West Germany",
          "Finland",
          "Russia",
          "Sweden",
          "Sweden",
          "Canada",
          "United States",
          "Switzerland",
          "Sweden",
          "Canada",
          "Switzerland",
          "Finland",
          "Finland",
          "Switzerland",
          "Czechoslovakia",
          "Sweden",
          "Czechoslovakia",
          "Finland",
          "Finland",
          "Finland",
          "Finland",
          "Russia",
          "Finland",
          "Sweden",
          "Sweden",
          "Czechoslovakia",
          "Finland",
          "Sweden",
          "Sweden",
          "Sweden",
          "Sweden",
          "Finland",
          "Czech Republic",
          "Canada",
          "Canada",
          "Finland",
          "Czechoslovakia",
          "Finland",
          "United States",
          "Czechoslovakia",
          "Finland",
          "Finland",
          "Finland",
          "Finland",
          "Switzerland",
          "Czechoslovakia",
          "Sweden",
          "Sweden",
          "Sweden",
          "Soviet Union",
          "West Germany",
          "Finland",
          "Canada",
          "Canada",
          "Great Britain",
          "Finland",
          "Switzerland",
          "Switzerland",
          "Finland",
          "Czechoslovakia",
          "Czechoslovakia",
          "Czechoslovakia",
          "Czech Republic",
          "Soviet Union",
          "Czechoslovakia",
          "Soviet Union",
          "Finland",
          "Finland",
          "Finland",
          "Finland",
          "Switzerland",
          "Finland",
          "Finland",
          "Finland",
          "West Germany",
          "United States",
          "Sweden",
          "Finland",
          "Finland",
          "Germany",
          "Sweden",
          "Canada",
          "Czechoslovakia",
          "United States",
          "United States",
          "Czech Republic",
          "Switzerland",
          "Switzerland",
          "United States",
          "Sweden",
          "Sweden",
          "Sweden",
          "Finland",
          "Finland",
          "Finland",
          "Finland",
          "Finland",
          "Finland",
          "Finland",
          "Finland",
          "Russia",
          "Sweden",
          "Sweden",
          "Sweden",
          "Sweden",
          "Sweden",
          "Czechoslovakia",
          "Switzerland",
          "West Germany",
          "United States",
          "Canada",
          "Germany",
          "Switzerland",
          "Finland",
          "Finland",
          "Finland",
          "Finland",
          "Great Britain",
          "United States",
          "Soviet Union",
          "Finland",
          "Sweden",
          "Czechoslovakia",
          "Germany",
          "Czechoslovakia",
          "Czechoslovakia",
          "United States",
          "Finland",
          "Sweden",
          "Sweden",
          "Sweden",
          "Soviet Union",
          "Finland",
          "Czech Republic",
          "United States",
          "Czechoslovakia",
          "Switzerland",
          "Switzerland",
          "Czechoslovakia",
          "United States",
          "Canada",
          "Switzerland",
          "Czech Republic",
          "Germany",
          "Finland",
          "United States",
          "Finland",
          "Czechoslovakia",
          "Sweden",
          "Czechoslovakia",
          "Czechoslovakia",
          "Czechoslovakia",
          "Finland",
          "Switzerland",
          "West Germany",
          "Canada",
          "Sweden",
          "Sweden",
          "Sweden",
          "Czechoslovakia",
          "Finland",
          "Finland",
          "Finland",
          "Finland",
          "Finland",
          "Finland",
          "Switzerland",
          "Switzerland",
          "Czechoslovakia",
          "Switzerland",
          "Soviet Union",
          "Finland",
          "Finland",
          "Russia",
          "Finland",
          "Finland",
          "Finland",
          "Finland",
          "Finland",
          "Czechoslovakia",
          "Sweden",
          "Czechoslovakia",
          "Finland",
          "Czechoslovakia",
          "Czechoslovakia",
          "Czech Republic",
          "West Germany",
          "Finland",
          "West Germany",
          "Czech Republic",
          "Switzerland",
          "Sweden",
          "United States",
          "Czechoslovakia",
          "Sweden",
          "Sweden",
          "Czechoslovakia",
          "Sweden",
          "West Germany",
          "United States",
          "Canada",
          "Canada",
          "Soviet Union",
          "Russia",
          "Finland",
          "Soviet Union",
          "Czechoslovakia",
          "Russia",
          "Czech Republic"
         ],
         "xaxis": "x",
         "yaxis": "y"
        }
       ],
       "layout": {
        "barmode": "group",
        "legend": {
         "title": {
          "text": "Medal"
         },
         "tracegroupgap": 0
        },
        "template": {
         "data": {
          "bar": [
           {
            "error_x": {
             "color": "#2a3f5f"
            },
            "error_y": {
             "color": "#2a3f5f"
            },
            "marker": {
             "line": {
              "color": "#E5ECF6",
              "width": 0.5
             },
             "pattern": {
              "fillmode": "overlay",
              "size": 10,
              "solidity": 0.2
             }
            },
            "type": "bar"
           }
          ],
          "barpolar": [
           {
            "marker": {
             "line": {
              "color": "#E5ECF6",
              "width": 0.5
             },
             "pattern": {
              "fillmode": "overlay",
              "size": 10,
              "solidity": 0.2
             }
            },
            "type": "barpolar"
           }
          ],
          "carpet": [
           {
            "aaxis": {
             "endlinecolor": "#2a3f5f",
             "gridcolor": "white",
             "linecolor": "white",
             "minorgridcolor": "white",
             "startlinecolor": "#2a3f5f"
            },
            "baxis": {
             "endlinecolor": "#2a3f5f",
             "gridcolor": "white",
             "linecolor": "white",
             "minorgridcolor": "white",
             "startlinecolor": "#2a3f5f"
            },
            "type": "carpet"
           }
          ],
          "choropleth": [
           {
            "colorbar": {
             "outlinewidth": 0,
             "ticks": ""
            },
            "type": "choropleth"
           }
          ],
          "contour": [
           {
            "colorbar": {
             "outlinewidth": 0,
             "ticks": ""
            },
            "colorscale": [
             [
              0,
              "#0d0887"
             ],
             [
              0.1111111111111111,
              "#46039f"
             ],
             [
              0.2222222222222222,
              "#7201a8"
             ],
             [
              0.3333333333333333,
              "#9c179e"
             ],
             [
              0.4444444444444444,
              "#bd3786"
             ],
             [
              0.5555555555555556,
              "#d8576b"
             ],
             [
              0.6666666666666666,
              "#ed7953"
             ],
             [
              0.7777777777777778,
              "#fb9f3a"
             ],
             [
              0.8888888888888888,
              "#fdca26"
             ],
             [
              1,
              "#f0f921"
             ]
            ],
            "type": "contour"
           }
          ],
          "contourcarpet": [
           {
            "colorbar": {
             "outlinewidth": 0,
             "ticks": ""
            },
            "type": "contourcarpet"
           }
          ],
          "heatmap": [
           {
            "colorbar": {
             "outlinewidth": 0,
             "ticks": ""
            },
            "colorscale": [
             [
              0,
              "#0d0887"
             ],
             [
              0.1111111111111111,
              "#46039f"
             ],
             [
              0.2222222222222222,
              "#7201a8"
             ],
             [
              0.3333333333333333,
              "#9c179e"
             ],
             [
              0.4444444444444444,
              "#bd3786"
             ],
             [
              0.5555555555555556,
              "#d8576b"
             ],
             [
              0.6666666666666666,
              "#ed7953"
             ],
             [
              0.7777777777777778,
              "#fb9f3a"
             ],
             [
              0.8888888888888888,
              "#fdca26"
             ],
             [
              1,
              "#f0f921"
             ]
            ],
            "type": "heatmap"
           }
          ],
          "heatmapgl": [
           {
            "colorbar": {
             "outlinewidth": 0,
             "ticks": ""
            },
            "colorscale": [
             [
              0,
              "#0d0887"
             ],
             [
              0.1111111111111111,
              "#46039f"
             ],
             [
              0.2222222222222222,
              "#7201a8"
             ],
             [
              0.3333333333333333,
              "#9c179e"
             ],
             [
              0.4444444444444444,
              "#bd3786"
             ],
             [
              0.5555555555555556,
              "#d8576b"
             ],
             [
              0.6666666666666666,
              "#ed7953"
             ],
             [
              0.7777777777777778,
              "#fb9f3a"
             ],
             [
              0.8888888888888888,
              "#fdca26"
             ],
             [
              1,
              "#f0f921"
             ]
            ],
            "type": "heatmapgl"
           }
          ],
          "histogram": [
           {
            "marker": {
             "pattern": {
              "fillmode": "overlay",
              "size": 10,
              "solidity": 0.2
             }
            },
            "type": "histogram"
           }
          ],
          "histogram2d": [
           {
            "colorbar": {
             "outlinewidth": 0,
             "ticks": ""
            },
            "colorscale": [
             [
              0,
              "#0d0887"
             ],
             [
              0.1111111111111111,
              "#46039f"
             ],
             [
              0.2222222222222222,
              "#7201a8"
             ],
             [
              0.3333333333333333,
              "#9c179e"
             ],
             [
              0.4444444444444444,
              "#bd3786"
             ],
             [
              0.5555555555555556,
              "#d8576b"
             ],
             [
              0.6666666666666666,
              "#ed7953"
             ],
             [
              0.7777777777777778,
              "#fb9f3a"
             ],
             [
              0.8888888888888888,
              "#fdca26"
             ],
             [
              1,
              "#f0f921"
             ]
            ],
            "type": "histogram2d"
           }
          ],
          "histogram2dcontour": [
           {
            "colorbar": {
             "outlinewidth": 0,
             "ticks": ""
            },
            "colorscale": [
             [
              0,
              "#0d0887"
             ],
             [
              0.1111111111111111,
              "#46039f"
             ],
             [
              0.2222222222222222,
              "#7201a8"
             ],
             [
              0.3333333333333333,
              "#9c179e"
             ],
             [
              0.4444444444444444,
              "#bd3786"
             ],
             [
              0.5555555555555556,
              "#d8576b"
             ],
             [
              0.6666666666666666,
              "#ed7953"
             ],
             [
              0.7777777777777778,
              "#fb9f3a"
             ],
             [
              0.8888888888888888,
              "#fdca26"
             ],
             [
              1,
              "#f0f921"
             ]
            ],
            "type": "histogram2dcontour"
           }
          ],
          "mesh3d": [
           {
            "colorbar": {
             "outlinewidth": 0,
             "ticks": ""
            },
            "type": "mesh3d"
           }
          ],
          "parcoords": [
           {
            "line": {
             "colorbar": {
              "outlinewidth": 0,
              "ticks": ""
             }
            },
            "type": "parcoords"
           }
          ],
          "pie": [
           {
            "automargin": true,
            "type": "pie"
           }
          ],
          "scatter": [
           {
            "fillpattern": {
             "fillmode": "overlay",
             "size": 10,
             "solidity": 0.2
            },
            "type": "scatter"
           }
          ],
          "scatter3d": [
           {
            "line": {
             "colorbar": {
              "outlinewidth": 0,
              "ticks": ""
             }
            },
            "marker": {
             "colorbar": {
              "outlinewidth": 0,
              "ticks": ""
             }
            },
            "type": "scatter3d"
           }
          ],
          "scattercarpet": [
           {
            "marker": {
             "colorbar": {
              "outlinewidth": 0,
              "ticks": ""
             }
            },
            "type": "scattercarpet"
           }
          ],
          "scattergeo": [
           {
            "marker": {
             "colorbar": {
              "outlinewidth": 0,
              "ticks": ""
             }
            },
            "type": "scattergeo"
           }
          ],
          "scattergl": [
           {
            "marker": {
             "colorbar": {
              "outlinewidth": 0,
              "ticks": ""
             }
            },
            "type": "scattergl"
           }
          ],
          "scattermapbox": [
           {
            "marker": {
             "colorbar": {
              "outlinewidth": 0,
              "ticks": ""
             }
            },
            "type": "scattermapbox"
           }
          ],
          "scatterpolar": [
           {
            "marker": {
             "colorbar": {
              "outlinewidth": 0,
              "ticks": ""
             }
            },
            "type": "scatterpolar"
           }
          ],
          "scatterpolargl": [
           {
            "marker": {
             "colorbar": {
              "outlinewidth": 0,
              "ticks": ""
             }
            },
            "type": "scatterpolargl"
           }
          ],
          "scatterternary": [
           {
            "marker": {
             "colorbar": {
              "outlinewidth": 0,
              "ticks": ""
             }
            },
            "type": "scatterternary"
           }
          ],
          "surface": [
           {
            "colorbar": {
             "outlinewidth": 0,
             "ticks": ""
            },
            "colorscale": [
             [
              0,
              "#0d0887"
             ],
             [
              0.1111111111111111,
              "#46039f"
             ],
             [
              0.2222222222222222,
              "#7201a8"
             ],
             [
              0.3333333333333333,
              "#9c179e"
             ],
             [
              0.4444444444444444,
              "#bd3786"
             ],
             [
              0.5555555555555556,
              "#d8576b"
             ],
             [
              0.6666666666666666,
              "#ed7953"
             ],
             [
              0.7777777777777778,
              "#fb9f3a"
             ],
             [
              0.8888888888888888,
              "#fdca26"
             ],
             [
              1,
              "#f0f921"
             ]
            ],
            "type": "surface"
           }
          ],
          "table": [
           {
            "cells": {
             "fill": {
              "color": "#EBF0F8"
             },
             "line": {
              "color": "white"
             }
            },
            "header": {
             "fill": {
              "color": "#C8D4E3"
             },
             "line": {
              "color": "white"
             }
            },
            "type": "table"
           }
          ]
         },
         "layout": {
          "annotationdefaults": {
           "arrowcolor": "#2a3f5f",
           "arrowhead": 0,
           "arrowwidth": 1
          },
          "autotypenumbers": "strict",
          "coloraxis": {
           "colorbar": {
            "outlinewidth": 0,
            "ticks": ""
           }
          },
          "colorscale": {
           "diverging": [
            [
             0,
             "#8e0152"
            ],
            [
             0.1,
             "#c51b7d"
            ],
            [
             0.2,
             "#de77ae"
            ],
            [
             0.3,
             "#f1b6da"
            ],
            [
             0.4,
             "#fde0ef"
            ],
            [
             0.5,
             "#f7f7f7"
            ],
            [
             0.6,
             "#e6f5d0"
            ],
            [
             0.7,
             "#b8e186"
            ],
            [
             0.8,
             "#7fbc41"
            ],
            [
             0.9,
             "#4d9221"
            ],
            [
             1,
             "#276419"
            ]
           ],
           "sequential": [
            [
             0,
             "#0d0887"
            ],
            [
             0.1111111111111111,
             "#46039f"
            ],
            [
             0.2222222222222222,
             "#7201a8"
            ],
            [
             0.3333333333333333,
             "#9c179e"
            ],
            [
             0.4444444444444444,
             "#bd3786"
            ],
            [
             0.5555555555555556,
             "#d8576b"
            ],
            [
             0.6666666666666666,
             "#ed7953"
            ],
            [
             0.7777777777777778,
             "#fb9f3a"
            ],
            [
             0.8888888888888888,
             "#fdca26"
            ],
            [
             1,
             "#f0f921"
            ]
           ],
           "sequentialminus": [
            [
             0,
             "#0d0887"
            ],
            [
             0.1111111111111111,
             "#46039f"
            ],
            [
             0.2222222222222222,
             "#7201a8"
            ],
            [
             0.3333333333333333,
             "#9c179e"
            ],
            [
             0.4444444444444444,
             "#bd3786"
            ],
            [
             0.5555555555555556,
             "#d8576b"
            ],
            [
             0.6666666666666666,
             "#ed7953"
            ],
            [
             0.7777777777777778,
             "#fb9f3a"
            ],
            [
             0.8888888888888888,
             "#fdca26"
            ],
            [
             1,
             "#f0f921"
            ]
           ]
          },
          "colorway": [
           "#636efa",
           "#EF553B",
           "#00cc96",
           "#ab63fa",
           "#FFA15A",
           "#19d3f3",
           "#FF6692",
           "#B6E880",
           "#FF97FF",
           "#FECB52"
          ],
          "font": {
           "color": "#2a3f5f"
          },
          "geo": {
           "bgcolor": "white",
           "lakecolor": "white",
           "landcolor": "#E5ECF6",
           "showlakes": true,
           "showland": true,
           "subunitcolor": "white"
          },
          "hoverlabel": {
           "align": "left"
          },
          "hovermode": "closest",
          "mapbox": {
           "style": "light"
          },
          "paper_bgcolor": "white",
          "plot_bgcolor": "#E5ECF6",
          "polar": {
           "angularaxis": {
            "gridcolor": "white",
            "linecolor": "white",
            "ticks": ""
           },
           "bgcolor": "#E5ECF6",
           "radialaxis": {
            "gridcolor": "white",
            "linecolor": "white",
            "ticks": ""
           }
          },
          "scene": {
           "xaxis": {
            "backgroundcolor": "#E5ECF6",
            "gridcolor": "white",
            "gridwidth": 2,
            "linecolor": "white",
            "showbackground": true,
            "ticks": "",
            "zerolinecolor": "white"
           },
           "yaxis": {
            "backgroundcolor": "#E5ECF6",
            "gridcolor": "white",
            "gridwidth": 2,
            "linecolor": "white",
            "showbackground": true,
            "ticks": "",
            "zerolinecolor": "white"
           },
           "zaxis": {
            "backgroundcolor": "#E5ECF6",
            "gridcolor": "white",
            "gridwidth": 2,
            "linecolor": "white",
            "showbackground": true,
            "ticks": "",
            "zerolinecolor": "white"
           }
          },
          "shapedefaults": {
           "line": {
            "color": "#2a3f5f"
           }
          },
          "ternary": {
           "aaxis": {
            "gridcolor": "white",
            "linecolor": "white",
            "ticks": ""
           },
           "baxis": {
            "gridcolor": "white",
            "linecolor": "white",
            "ticks": ""
           },
           "bgcolor": "#E5ECF6",
           "caxis": {
            "gridcolor": "white",
            "linecolor": "white",
            "ticks": ""
           }
          },
          "title": {
           "x": 0.05
          },
          "xaxis": {
           "automargin": true,
           "gridcolor": "white",
           "linecolor": "white",
           "ticks": "",
           "title": {
            "standoff": 15
           },
           "zerolinecolor": "white",
           "zerolinewidth": 2
          },
          "yaxis": {
           "automargin": true,
           "gridcolor": "white",
           "linecolor": "white",
           "ticks": "",
           "title": {
            "standoff": 15
           },
           "zerolinecolor": "white",
           "zerolinewidth": 2
          }
         }
        },
        "title": {
         "text": "Medals won by each country in ice hockey"
        },
        "xaxis": {
         "anchor": "y",
         "domain": [
          0,
          1
         ],
         "title": {
          "text": "Team"
         }
        },
        "yaxis": {
         "anchor": "x",
         "domain": [
          0,
          1
         ],
         "title": {
          "text": "count"
         },
         "type": "log"
        }
       }
      }
     },
     "metadata": {},
     "output_type": "display_data"
    }
   ],
   "source": [
    "# medal distribution for each team\n",
    "fig = px.histogram(\n",
    "    df_ice_hockey,\n",
    "    x=\"Team\",\n",
    "    log_y=True,\n",
    "    barmode=\"group\",\n",
    "    color=\"Medal\",\n",
    "    category_orders={\"Medal\": [\"Gold\", \"Silver\", \"Bronze\"]},\n",
    "    color_discrete_sequence=[\"gold\", \"silver\", \"brown\"],\n",
    "    title=\"Medals won by each country in ice hockey\",\n",
    ")\n",
    "fig.show()"
   ]
  },
  {
   "cell_type": "code",
   "execution_count": 23,
   "metadata": {},
   "outputs": [
    {
     "name": "stdout",
     "output_type": "stream",
     "text": [
      "The percentage of missing values in Height column is 16.41%\n",
      "The percentage of missing values in Weight column is 16.73%\n"
     ]
    }
   ],
   "source": [
    "# percentage of missing values in height and weight\n",
    "print(f\"The percentage of missing values in Height column is {round(df_ice_hockey['Height'].isnull().sum()/len(df_ice_hockey['Height'])*100, 2)}%\")\n",
    "print(f\"The percentage of missing values in Weight column is {round(df_ice_hockey['Weight'].isnull().sum()/len(df_ice_hockey['Weight'])*100, 2)}%\")"
   ]
  },
  {
   "cell_type": "code",
   "execution_count": 24,
   "metadata": {},
   "outputs": [],
   "source": [
    "# replace all nan values in height and weight with the mean\n",
    "# df_ice_hockey[\"Height\"].fillna(df_ice_hockey[\"Height\"].mean(), inplace=True)\n",
    "# df_ice_hockey[\"Weight\"].fillna(df_ice_hockey[\"Weight\"].mean(), inplace=True)"
   ]
  },
  {
   "cell_type": "code",
   "execution_count": 25,
   "metadata": {},
   "outputs": [
    {
     "data": {
      "application/vnd.plotly.v1+json": {
       "config": {
        "plotlyServerURL": "https://plot.ly"
       },
       "data": [
        {
         "alignmentgroup": "True",
         "hovertemplate": "Team=%{x}<br>Age=%{y}<extra></extra>",
         "legendgroup": "Finland",
         "marker": {
          "color": "#636efa"
         },
         "name": "Finland",
         "notched": false,
         "offsetgroup": "Finland",
         "orientation": "v",
         "showlegend": true,
         "type": "box",
         "x": [
          "Finland",
          "Finland",
          "Finland",
          "Finland",
          "Finland",
          "Finland",
          "Finland",
          "Finland",
          "Finland",
          "Finland",
          "Finland",
          "Finland",
          "Finland",
          "Finland",
          "Finland",
          "Finland",
          "Finland",
          "Finland",
          "Finland",
          "Finland",
          "Finland",
          "Finland",
          "Finland",
          "Finland",
          "Finland",
          "Finland",
          "Finland",
          "Finland",
          "Finland",
          "Finland",
          "Finland",
          "Finland",
          "Finland",
          "Finland",
          "Finland",
          "Finland",
          "Finland",
          "Finland",
          "Finland",
          "Finland",
          "Finland",
          "Finland",
          "Finland",
          "Finland",
          "Finland",
          "Finland",
          "Finland",
          "Finland",
          "Finland",
          "Finland",
          "Finland",
          "Finland",
          "Finland",
          "Finland",
          "Finland",
          "Finland",
          "Finland",
          "Finland",
          "Finland",
          "Finland",
          "Finland",
          "Finland",
          "Finland",
          "Finland",
          "Finland",
          "Finland",
          "Finland",
          "Finland",
          "Finland",
          "Finland",
          "Finland",
          "Finland",
          "Finland",
          "Finland",
          "Finland",
          "Finland",
          "Finland",
          "Finland",
          "Finland",
          "Finland",
          "Finland",
          "Finland",
          "Finland",
          "Finland",
          "Finland",
          "Finland",
          "Finland",
          "Finland",
          "Finland",
          "Finland",
          "Finland",
          "Finland",
          "Finland",
          "Finland",
          "Finland",
          "Finland",
          "Finland",
          "Finland",
          "Finland",
          "Finland",
          "Finland",
          "Finland",
          "Finland",
          "Finland",
          "Finland",
          "Finland",
          "Finland",
          "Finland",
          "Finland",
          "Finland",
          "Finland",
          "Finland",
          "Finland",
          "Finland",
          "Finland",
          "Finland",
          "Finland",
          "Finland",
          "Finland",
          "Finland",
          "Finland",
          "Finland",
          "Finland",
          "Finland",
          "Finland",
          "Finland",
          "Finland",
          "Finland",
          "Finland",
          "Finland",
          "Finland",
          "Finland",
          "Finland",
          "Finland",
          "Finland",
          "Finland",
          "Finland",
          "Finland",
          "Finland",
          "Finland",
          "Finland",
          "Finland",
          "Finland",
          "Finland",
          "Finland",
          "Finland",
          "Finland",
          "Finland",
          "Finland",
          "Finland",
          "Finland",
          "Finland",
          "Finland",
          "Finland",
          "Finland",
          "Finland",
          "Finland",
          "Finland",
          "Finland",
          "Finland",
          "Finland",
          "Finland",
          "Finland",
          "Finland",
          "Finland",
          "Finland",
          "Finland",
          "Finland",
          "Finland",
          "Finland",
          "Finland",
          "Finland",
          "Finland",
          "Finland",
          "Finland",
          "Finland",
          "Finland",
          "Finland",
          "Finland",
          "Finland",
          "Finland",
          "Finland",
          "Finland",
          "Finland",
          "Finland",
          "Finland",
          "Finland",
          "Finland",
          "Finland",
          "Finland",
          "Finland",
          "Finland",
          "Finland",
          "Finland",
          "Finland",
          "Finland",
          "Finland",
          "Finland",
          "Finland",
          "Finland",
          "Finland",
          "Finland",
          "Finland",
          "Finland",
          "Finland",
          "Finland",
          "Finland",
          "Finland",
          "Finland",
          "Finland",
          "Finland",
          "Finland",
          "Finland",
          "Finland",
          "Finland",
          "Finland",
          "Finland",
          "Finland",
          "Finland",
          "Finland",
          "Finland",
          "Finland",
          "Finland",
          "Finland",
          "Finland",
          "Finland",
          "Finland",
          "Finland",
          "Finland",
          "Finland",
          "Finland",
          "Finland",
          "Finland",
          "Finland",
          "Finland",
          "Finland",
          "Finland",
          "Finland",
          "Finland",
          "Finland",
          "Finland",
          "Finland",
          "Finland",
          "Finland",
          "Finland",
          "Finland",
          "Finland",
          "Finland",
          "Finland",
          "Finland",
          "Finland",
          "Finland",
          "Finland",
          "Finland",
          "Finland",
          "Finland",
          "Finland",
          "Finland",
          "Finland",
          "Finland",
          "Finland",
          "Finland",
          "Finland",
          "Finland",
          "Finland",
          "Finland",
          "Finland",
          "Finland",
          "Finland",
          "Finland",
          "Finland",
          "Finland",
          "Finland",
          "Finland",
          "Finland",
          "Finland",
          "Finland",
          "Finland",
          "Finland",
          "Finland",
          "Finland",
          "Finland",
          "Finland",
          "Finland",
          "Finland",
          "Finland",
          "Finland",
          "Finland",
          "Finland",
          "Finland",
          "Finland",
          "Finland",
          "Finland",
          "Finland",
          "Finland",
          "Finland",
          "Finland",
          "Finland",
          "Finland",
          "Finland",
          "Finland",
          "Finland",
          "Finland",
          "Finland",
          "Finland",
          "Finland",
          "Finland",
          "Finland",
          "Finland",
          "Finland",
          "Finland",
          "Finland",
          "Finland",
          "Finland",
          "Finland",
          "Finland",
          "Finland",
          "Finland",
          "Finland",
          "Finland",
          "Finland",
          "Finland",
          "Finland",
          "Finland",
          "Finland",
          "Finland",
          "Finland",
          "Finland",
          "Finland",
          "Finland",
          "Finland",
          "Finland",
          "Finland",
          "Finland",
          "Finland",
          "Finland",
          "Finland",
          "Finland",
          "Finland",
          "Finland",
          "Finland",
          "Finland",
          "Finland",
          "Finland",
          "Finland",
          "Finland",
          "Finland",
          "Finland",
          "Finland",
          "Finland",
          "Finland",
          "Finland",
          "Finland",
          "Finland",
          "Finland",
          "Finland",
          "Finland",
          "Finland",
          "Finland",
          "Finland",
          "Finland",
          "Finland",
          "Finland",
          "Finland",
          "Finland",
          "Finland",
          "Finland",
          "Finland",
          "Finland",
          "Finland",
          "Finland",
          "Finland",
          "Finland",
          "Finland",
          "Finland",
          "Finland",
          "Finland",
          "Finland",
          "Finland",
          "Finland",
          "Finland",
          "Finland",
          "Finland",
          "Finland",
          "Finland",
          "Finland",
          "Finland",
          "Finland",
          "Finland",
          "Finland",
          "Finland",
          "Finland",
          "Finland",
          "Finland",
          "Finland",
          "Finland",
          "Finland",
          "Finland",
          "Finland",
          "Finland",
          "Finland",
          "Finland",
          "Finland",
          "Finland",
          "Finland",
          "Finland",
          "Finland",
          "Finland",
          "Finland",
          "Finland",
          "Finland",
          "Finland",
          "Finland",
          "Finland",
          "Finland",
          "Finland",
          "Finland",
          "Finland",
          "Finland",
          "Finland"
         ],
         "x0": " ",
         "xaxis": "x",
         "y": [
          26,
          28,
          24,
          31,
          22,
          31,
          18,
          20,
          24,
          28,
          27,
          31,
          23,
          31,
          35,
          29,
          25,
          26,
          30,
          34,
          21,
          23,
          24,
          28,
          20,
          22,
          26,
          30,
          19,
          27,
          23,
          28,
          21,
          25,
          24,
          22,
          23,
          19,
          23,
          27,
          29,
          33,
          37,
          31,
          28,
          22,
          26,
          22,
          26,
          27,
          22,
          26,
          30,
          27,
          18,
          30,
          29,
          27,
          31,
          24,
          21,
          25,
          30,
          28,
          22,
          24,
          20,
          22,
          30,
          23,
          27,
          31,
          35,
          20,
          28,
          30,
          25,
          21,
          24,
          27,
          31,
          20,
          24,
          28,
          27,
          19,
          23,
          22,
          26,
          30,
          23,
          29,
          19,
          23,
          24,
          24,
          25,
          24,
          27,
          18,
          21,
          33,
          24,
          25,
          22,
          26,
          19,
          23,
          31,
          35,
          24,
          27,
          29,
          27,
          23,
          27,
          25,
          26,
          23,
          31,
          30,
          24,
          28,
          32,
          30,
          19,
          37,
          31,
          23,
          32,
          16,
          20,
          24,
          28,
          32,
          21,
          25,
          26,
          30,
          23,
          23,
          28,
          19,
          21,
          23,
          27,
          26,
          26,
          21,
          23,
          20,
          24,
          28,
          32,
          36,
          21,
          25,
          21,
          22,
          31,
          30,
          27,
          20,
          24,
          25,
          29,
          28,
          28,
          28,
          24,
          24,
          28,
          31,
          22,
          26,
          26,
          30,
          34,
          25,
          25,
          21,
          31,
          35,
          24,
          28,
          28,
          32,
          19,
          26,
          28,
          24,
          19,
          23,
          24,
          28,
          22,
          20,
          24,
          28,
          20,
          29,
          23,
          21,
          22,
          26,
          19,
          22,
          28,
          32,
          28,
          25,
          26,
          28,
          32,
          23,
          24,
          28,
          24,
          28,
          40,
          22,
          26,
          25,
          27,
          28,
          32,
          33,
          27,
          20,
          23,
          19,
          29,
          33,
          37,
          26,
          17,
          19,
          25,
          26,
          21,
          25,
          29,
          26,
          27,
          31,
          35,
          26,
          24,
          28,
          21,
          23,
          20,
          24,
          28,
          32,
          20,
          24,
          28,
          20,
          24,
          32,
          36,
          20,
          24,
          29,
          26,
          26,
          21,
          21,
          25,
          20,
          24,
          20,
          24,
          19,
          23,
          27,
          31,
          35,
          22,
          26,
          23,
          26,
          24,
          26,
          16,
          20,
          24,
          20,
          25,
          29,
          19,
          24,
          23,
          27,
          23,
          22,
          26,
          27,
          24,
          22,
          26,
          30,
          27,
          26,
          30,
          34,
          26,
          30,
          23,
          27,
          22,
          24,
          28,
          26,
          20,
          24,
          28,
          21,
          35,
          26,
          25,
          24,
          28,
          27,
          31,
          35,
          39,
          23,
          21,
          25,
          21,
          27,
          31,
          35,
          39,
          43,
          20,
          23,
          19,
          27,
          19,
          27,
          22,
          19,
          23,
          27,
          31,
          21,
          29,
          29,
          22,
          23,
          23,
          28,
          29,
          21,
          29,
          23,
          28,
          21,
          29,
          21,
          25,
          25,
          29,
          31,
          21,
          18,
          20,
          33,
          23,
          27,
          22,
          26,
          30,
          34,
          38,
          20,
          22,
          27,
          24,
          19,
          23,
          20,
          24,
          20,
          27,
          31,
          23,
          21,
          33,
          22,
          26,
          23,
          19,
          23,
          25,
          33,
          37,
          24,
          22,
          26,
          30,
          25,
          22,
          30,
          28,
          20,
          28,
          22,
          26,
          30,
          20,
          26,
          24,
          25,
          29,
          24,
          32
         ],
         "y0": " ",
         "yaxis": "y"
        },
        {
         "alignmentgroup": "True",
         "hovertemplate": "Team=%{x}<br>Age=%{y}<extra></extra>",
         "legendgroup": "United States",
         "marker": {
          "color": "#EF553B"
         },
         "name": "United States",
         "notched": false,
         "offsetgroup": "United States",
         "orientation": "v",
         "showlegend": true,
         "type": "box",
         "x": [
          "United States",
          "United States",
          "United States",
          "United States",
          "United States",
          "United States",
          "United States",
          "United States",
          "United States",
          "United States",
          "United States",
          "United States",
          "United States",
          "United States",
          "United States",
          "United States",
          "United States",
          "United States",
          "United States",
          "United States",
          "United States",
          "United States",
          "United States",
          "United States",
          "United States",
          "United States",
          "United States",
          "United States",
          "United States",
          "United States",
          "United States",
          "United States",
          "United States",
          "United States",
          "United States",
          "United States",
          "United States",
          "United States",
          "United States",
          "United States",
          "United States",
          "United States",
          "United States",
          "United States",
          "United States",
          "United States",
          "United States",
          "United States",
          "United States",
          "United States",
          "United States",
          "United States",
          "United States",
          "United States",
          "United States",
          "United States",
          "United States",
          "United States",
          "United States",
          "United States",
          "United States",
          "United States",
          "United States",
          "United States",
          "United States",
          "United States",
          "United States",
          "United States",
          "United States",
          "United States",
          "United States",
          "United States",
          "United States",
          "United States",
          "United States",
          "United States",
          "United States",
          "United States",
          "United States",
          "United States",
          "United States",
          "United States",
          "United States",
          "United States",
          "United States",
          "United States",
          "United States",
          "United States",
          "United States",
          "United States",
          "United States",
          "United States",
          "United States",
          "United States",
          "United States",
          "United States",
          "United States",
          "United States",
          "United States",
          "United States",
          "United States",
          "United States",
          "United States",
          "United States",
          "United States",
          "United States",
          "United States",
          "United States",
          "United States",
          "United States",
          "United States",
          "United States",
          "United States",
          "United States",
          "United States",
          "United States",
          "United States",
          "United States",
          "United States",
          "United States",
          "United States",
          "United States",
          "United States",
          "United States",
          "United States",
          "United States",
          "United States",
          "United States",
          "United States",
          "United States",
          "United States",
          "United States",
          "United States",
          "United States",
          "United States",
          "United States",
          "United States",
          "United States",
          "United States",
          "United States",
          "United States",
          "United States",
          "United States",
          "United States",
          "United States",
          "United States",
          "United States",
          "United States",
          "United States",
          "United States",
          "United States",
          "United States",
          "United States",
          "United States",
          "United States",
          "United States",
          "United States",
          "United States",
          "United States",
          "United States",
          "United States",
          "United States",
          "United States",
          "United States",
          "United States",
          "United States",
          "United States",
          "United States",
          "United States",
          "United States",
          "United States",
          "United States",
          "United States",
          "United States",
          "United States",
          "United States",
          "United States",
          "United States",
          "United States",
          "United States",
          "United States",
          "United States",
          "United States",
          "United States",
          "United States",
          "United States",
          "United States",
          "United States",
          "United States",
          "United States",
          "United States",
          "United States",
          "United States",
          "United States",
          "United States",
          "United States",
          "United States",
          "United States",
          "United States",
          "United States",
          "United States",
          "United States",
          "United States",
          "United States",
          "United States",
          "United States",
          "United States",
          "United States",
          "United States",
          "United States",
          "United States",
          "United States",
          "United States",
          "United States",
          "United States",
          "United States",
          "United States",
          "United States",
          "United States",
          "United States",
          "United States",
          "United States",
          "United States",
          "United States",
          "United States",
          "United States",
          "United States",
          "United States",
          "United States",
          "United States",
          "United States",
          "United States",
          "United States",
          "United States",
          "United States",
          "United States",
          "United States",
          "United States",
          "United States",
          "United States",
          "United States",
          "United States",
          "United States",
          "United States",
          "United States",
          "United States",
          "United States",
          "United States",
          "United States",
          "United States",
          "United States",
          "United States",
          "United States",
          "United States",
          "United States",
          "United States",
          "United States",
          "United States",
          "United States",
          "United States",
          "United States",
          "United States",
          "United States",
          "United States",
          "United States",
          "United States",
          "United States",
          "United States",
          "United States",
          "United States",
          "United States",
          "United States",
          "United States",
          "United States",
          "United States",
          "United States",
          "United States",
          "United States",
          "United States",
          "United States",
          "United States",
          "United States",
          "United States",
          "United States",
          "United States",
          "United States",
          "United States",
          "United States",
          "United States",
          "United States",
          "United States",
          "United States",
          "United States",
          "United States",
          "United States",
          "United States",
          "United States",
          "United States",
          "United States",
          "United States",
          "United States",
          "United States",
          "United States",
          "United States",
          "United States",
          "United States",
          "United States",
          "United States",
          "United States",
          "United States",
          "United States",
          "United States",
          "United States",
          "United States",
          "United States",
          "United States",
          "United States",
          "United States",
          "United States",
          "United States",
          "United States",
          "United States",
          "United States",
          "United States",
          "United States",
          "United States",
          "United States",
          "United States",
          "United States",
          "United States",
          "United States",
          "United States",
          "United States",
          "United States",
          "United States",
          "United States",
          "United States",
          "United States",
          "United States",
          "United States",
          "United States",
          "United States",
          "United States",
          "United States",
          "United States",
          "United States",
          "United States",
          "United States",
          "United States",
          "United States",
          "United States",
          "United States",
          "United States",
          "United States",
          "United States",
          "United States",
          "United States",
          "United States",
          "United States",
          "United States",
          "United States",
          "United States",
          "United States",
          "United States",
          "United States",
          "United States",
          "United States",
          "United States",
          "United States",
          "United States",
          "United States",
          "United States",
          "United States",
          "United States",
          "United States",
          "United States",
          "United States",
          "United States",
          "United States",
          "United States",
          "United States",
          "United States",
          "United States",
          "United States",
          "United States",
          "United States",
          "United States",
          "United States",
          "United States",
          "United States",
          "United States",
          "United States",
          "United States",
          "United States",
          "United States",
          "United States",
          "United States",
          "United States",
          "United States",
          "United States",
          "United States",
          "United States",
          "United States",
          "United States",
          "United States",
          "United States",
          "United States",
          "United States",
          "United States",
          "United States",
          "United States",
          "United States",
          "United States",
          "United States",
          "United States",
          "United States",
          "United States",
          "United States",
          "United States",
          "United States",
          "United States",
          "United States",
          "United States",
          "United States",
          "United States",
          "United States",
          "United States",
          "United States",
          "United States",
          "United States",
          "United States",
          "United States",
          "United States",
          "United States",
          "United States",
          "United States",
          "United States",
          "United States",
          "United States",
          "United States",
          "United States",
          "United States",
          "United States",
          "United States",
          "United States",
          "United States",
          "United States",
          "United States",
          "United States",
          "United States",
          "United States",
          "United States",
          "United States",
          "United States",
          "United States",
          "United States",
          "United States",
          "United States",
          "United States",
          "United States",
          "United States",
          "United States",
          "United States",
          "United States",
          "United States",
          "United States",
          "United States",
          "United States",
          "United States",
          "United States",
          "United States",
          "United States",
          "United States",
          "United States",
          "United States",
          "United States",
          "United States",
          "United States",
          "United States",
          "United States",
          "United States",
          "United States",
          "United States",
          "United States",
          "United States",
          "United States",
          "United States",
          "United States",
          "United States",
          "United States",
          "United States",
          "United States",
          "United States",
          "United States",
          "United States",
          "United States",
          "United States",
          "United States"
         ],
         "x0": " ",
         "xaxis": "x",
         "y": [
          23,
          23,
          22,
          27,
          31,
          23,
          22,
          25,
          29,
          26,
          30,
          23,
          21,
          21,
          25,
          36,
          23,
          23,
          22,
          26,
          23,
          20,
          22,
          22,
          23,
          32,
          20,
          22,
          28,
          20,
          22,
          22,
          23,
          24,
          26,
          30,
          20,
          24,
          25,
          29,
          19,
          23,
          31,
          25,
          26,
          30,
          20,
          24,
          24,
          28,
          23,
          20,
          24,
          28,
          19,
          25,
          25,
          22,
          36,
          40,
          44,
          23,
          22,
          25,
          20,
          28,
          24,
          28,
          27,
          22,
          19,
          23,
          27,
          31,
          24,
          23,
          21,
          25,
          27,
          26,
          34,
          24,
          22,
          25,
          26,
          21,
          22,
          23,
          22,
          23,
          27,
          26,
          22,
          18,
          22,
          26,
          22,
          26,
          22,
          20,
          24,
          24,
          21,
          24,
          23,
          22,
          26,
          22,
          23,
          24,
          25,
          29,
          33,
          24,
          27,
          20,
          22,
          22,
          26,
          21,
          29,
          23,
          27,
          31,
          23,
          22,
          26,
          25,
          28,
          26,
          24,
          23,
          21,
          21,
          29,
          27,
          22,
          25,
          21,
          23,
          20,
          22,
          21,
          25,
          23,
          22,
          26,
          21,
          23,
          21,
          23,
          27,
          27,
          26,
          26,
          29,
          24,
          28,
          30,
          26,
          30,
          23,
          25,
          22,
          20,
          27,
          31,
          35,
          26,
          24,
          26,
          27,
          22,
          26,
          22,
          24,
          25,
          33,
          31,
          22,
          21,
          35,
          22,
          21,
          21,
          21,
          37,
          16,
          33,
          37,
          22,
          23,
          21,
          17,
          23,
          21,
          25,
          23,
          20,
          18,
          22,
          20,
          20,
          23,
          27,
          21,
          21,
          23,
          22,
          24,
          28,
          23,
          21,
          25,
          26,
          22,
          26,
          25,
          29,
          22,
          22,
          26,
          21,
          25,
          22,
          26,
          30,
          26,
          19,
          31,
          20,
          24,
          33,
          22,
          24,
          19,
          26,
          18,
          32,
          20,
          20,
          24,
          20,
          24,
          22,
          34,
          27,
          23,
          29,
          23,
          24,
          25,
          22,
          27,
          28,
          32,
          19,
          29,
          33,
          25,
          25,
          21,
          26,
          23,
          26,
          26,
          30,
          23,
          23,
          21,
          30,
          31,
          20,
          22,
          32,
          25,
          22,
          26,
          22,
          24,
          21,
          22,
          26,
          24,
          25,
          22,
          25,
          29,
          22,
          24,
          22,
          22,
          23,
          21,
          33,
          22,
          23,
          22,
          23,
          27,
          24,
          25,
          29,
          19,
          23,
          30,
          22,
          19,
          29,
          33,
          22,
          26,
          27,
          31,
          35,
          27,
          22,
          23,
          19,
          23,
          25,
          24,
          26,
          28,
          22,
          24,
          22,
          22,
          23,
          17,
          22,
          23,
          27,
          23,
          29,
          33,
          27,
          23,
          36,
          23,
          20,
          25,
          22,
          25,
          23,
          25,
          29,
          29,
          18,
          21,
          25,
          29,
          24,
          21,
          20,
          20,
          24,
          26,
          23,
          23,
          28,
          28,
          32,
          36,
          19,
          28,
          20,
          28,
          23,
          23,
          21,
          31,
          35,
          21,
          27,
          23,
          23,
          23,
          27,
          28,
          32,
          20,
          28,
          32,
          22,
          21,
          25,
          24,
          22,
          26,
          21,
          18,
          22,
          26,
          30,
          21,
          25,
          22,
          23,
          23,
          34,
          24,
          22,
          22,
          21,
          25,
          24,
          24,
          19,
          23,
          27,
          31,
          21,
          25,
          28,
          36,
          24,
          21,
          23,
          25,
          24,
          23,
          22,
          32,
          23,
          27,
          24,
          21,
          26,
          22,
          26,
          24,
          28,
          19,
          23,
          22,
          22,
          25,
          21,
          26,
          33,
          37,
          22,
          25,
          29,
          24,
          28,
          32,
          21,
          23,
          25,
          35,
          23,
          19,
          25,
          29,
          33,
          22,
          28,
          21,
          25,
          25,
          36,
          24,
          34,
          23,
          23,
          27,
          24,
          28,
          23,
          16,
          20,
          23,
          21,
          25,
          27,
          31,
          35,
          29,
          21,
          22,
          20,
          24,
          26,
          27,
          24,
          26,
          27,
          19,
          21,
          24,
          24,
          20,
          24,
          34,
          28,
          23
         ],
         "y0": " ",
         "yaxis": "y"
        },
        {
         "alignmentgroup": "True",
         "hovertemplate": "Team=%{x}<br>Age=%{y}<extra></extra>",
         "legendgroup": "Canada",
         "marker": {
          "color": "#00cc96"
         },
         "name": "Canada",
         "notched": false,
         "offsetgroup": "Canada",
         "orientation": "v",
         "showlegend": true,
         "type": "box",
         "x": [
          "Canada",
          "Canada",
          "Canada",
          "Canada",
          "Canada",
          "Canada",
          "Canada",
          "Canada",
          "Canada",
          "Canada",
          "Canada",
          "Canada",
          "Canada",
          "Canada",
          "Canada",
          "Canada",
          "Canada",
          "Canada",
          "Canada",
          "Canada",
          "Canada",
          "Canada",
          "Canada",
          "Canada",
          "Canada",
          "Canada",
          "Canada",
          "Canada",
          "Canada",
          "Canada",
          "Canada",
          "Canada",
          "Canada",
          "Canada",
          "Canada",
          "Canada",
          "Canada",
          "Canada",
          "Canada",
          "Canada",
          "Canada",
          "Canada",
          "Canada",
          "Canada",
          "Canada",
          "Canada",
          "Canada",
          "Canada",
          "Canada",
          "Canada",
          "Canada",
          "Canada",
          "Canada",
          "Canada",
          "Canada",
          "Canada",
          "Canada",
          "Canada",
          "Canada",
          "Canada",
          "Canada",
          "Canada",
          "Canada",
          "Canada",
          "Canada",
          "Canada",
          "Canada",
          "Canada",
          "Canada",
          "Canada",
          "Canada",
          "Canada",
          "Canada",
          "Canada",
          "Canada",
          "Canada",
          "Canada",
          "Canada",
          "Canada",
          "Canada",
          "Canada",
          "Canada",
          "Canada",
          "Canada",
          "Canada",
          "Canada",
          "Canada",
          "Canada",
          "Canada",
          "Canada",
          "Canada",
          "Canada",
          "Canada",
          "Canada",
          "Canada",
          "Canada",
          "Canada",
          "Canada",
          "Canada",
          "Canada",
          "Canada",
          "Canada",
          "Canada",
          "Canada",
          "Canada",
          "Canada",
          "Canada",
          "Canada",
          "Canada",
          "Canada",
          "Canada",
          "Canada",
          "Canada",
          "Canada",
          "Canada",
          "Canada",
          "Canada",
          "Canada",
          "Canada",
          "Canada",
          "Canada",
          "Canada",
          "Canada",
          "Canada",
          "Canada",
          "Canada",
          "Canada",
          "Canada",
          "Canada",
          "Canada",
          "Canada",
          "Canada",
          "Canada",
          "Canada",
          "Canada",
          "Canada",
          "Canada",
          "Canada",
          "Canada",
          "Canada",
          "Canada",
          "Canada",
          "Canada",
          "Canada",
          "Canada",
          "Canada",
          "Canada",
          "Canada",
          "Canada",
          "Canada",
          "Canada",
          "Canada",
          "Canada",
          "Canada",
          "Canada",
          "Canada",
          "Canada",
          "Canada",
          "Canada",
          "Canada",
          "Canada",
          "Canada",
          "Canada",
          "Canada",
          "Canada",
          "Canada",
          "Canada",
          "Canada",
          "Canada",
          "Canada",
          "Canada",
          "Canada",
          "Canada",
          "Canada",
          "Canada",
          "Canada",
          "Canada",
          "Canada",
          "Canada",
          "Canada",
          "Canada",
          "Canada",
          "Canada",
          "Canada",
          "Canada",
          "Canada",
          "Canada",
          "Canada",
          "Canada",
          "Canada",
          "Canada",
          "Canada",
          "Canada",
          "Canada",
          "Canada",
          "Canada",
          "Canada",
          "Canada",
          "Canada",
          "Canada",
          "Canada",
          "Canada",
          "Canada",
          "Canada",
          "Canada",
          "Canada",
          "Canada",
          "Canada",
          "Canada",
          "Canada",
          "Canada",
          "Canada",
          "Canada",
          "Canada",
          "Canada",
          "Canada",
          "Canada",
          "Canada",
          "Canada",
          "Canada",
          "Canada",
          "Canada",
          "Canada",
          "Canada",
          "Canada",
          "Canada",
          "Canada",
          "Canada",
          "Canada",
          "Canada",
          "Canada",
          "Canada",
          "Canada",
          "Canada",
          "Canada",
          "Canada",
          "Canada",
          "Canada",
          "Canada",
          "Canada",
          "Canada",
          "Canada",
          "Canada",
          "Canada",
          "Canada",
          "Canada",
          "Canada",
          "Canada",
          "Canada",
          "Canada",
          "Canada",
          "Canada",
          "Canada",
          "Canada",
          "Canada",
          "Canada",
          "Canada",
          "Canada",
          "Canada",
          "Canada",
          "Canada",
          "Canada",
          "Canada",
          "Canada",
          "Canada",
          "Canada",
          "Canada",
          "Canada",
          "Canada",
          "Canada",
          "Canada",
          "Canada",
          "Canada",
          "Canada",
          "Canada",
          "Canada",
          "Canada",
          "Canada",
          "Canada",
          "Canada",
          "Canada",
          "Canada",
          "Canada",
          "Canada",
          "Canada",
          "Canada",
          "Canada",
          "Canada",
          "Canada",
          "Canada",
          "Canada",
          "Canada",
          "Canada",
          "Canada",
          "Canada",
          "Canada",
          "Canada",
          "Canada",
          "Canada",
          "Canada",
          "Canada",
          "Canada",
          "Canada",
          "Canada",
          "Canada",
          "Canada",
          "Canada",
          "Canada",
          "Canada",
          "Canada",
          "Canada",
          "Canada",
          "Canada",
          "Canada",
          "Canada",
          "Canada",
          "Canada",
          "Canada",
          "Canada",
          "Canada",
          "Canada",
          "Canada",
          "Canada",
          "Canada",
          "Canada",
          "Canada",
          "Canada",
          "Canada",
          "Canada",
          "Canada",
          "Canada",
          "Canada",
          "Canada",
          "Canada",
          "Canada",
          "Canada",
          "Canada",
          "Canada",
          "Canada",
          "Canada",
          "Canada",
          "Canada",
          "Canada",
          "Canada",
          "Canada",
          "Canada",
          "Canada",
          "Canada",
          "Canada",
          "Canada",
          "Canada",
          "Canada",
          "Canada",
          "Canada",
          "Canada",
          "Canada",
          "Canada",
          "Canada",
          "Canada",
          "Canada",
          "Canada",
          "Canada",
          "Canada",
          "Canada",
          "Canada",
          "Canada",
          "Canada",
          "Canada",
          "Canada",
          "Canada",
          "Canada",
          "Canada",
          "Canada",
          "Canada",
          "Canada",
          "Canada",
          "Canada",
          "Canada",
          "Canada",
          "Canada",
          "Canada",
          "Canada",
          "Canada",
          "Canada",
          "Canada",
          "Canada",
          "Canada",
          "Canada",
          "Canada",
          "Canada",
          "Canada",
          "Canada",
          "Canada",
          "Canada",
          "Canada",
          "Canada",
          "Canada",
          "Canada",
          "Canada",
          "Canada",
          "Canada",
          "Canada",
          "Canada",
          "Canada",
          "Canada",
          "Canada",
          "Canada",
          "Canada",
          "Canada",
          "Canada",
          "Canada",
          "Canada",
          "Canada",
          "Canada",
          "Canada",
          "Canada",
          "Canada",
          "Canada",
          "Canada",
          "Canada",
          "Canada",
          "Canada",
          "Canada",
          "Canada",
          "Canada",
          "Canada",
          "Canada",
          "Canada",
          "Canada",
          "Canada",
          "Canada",
          "Canada",
          "Canada",
          "Canada",
          "Canada",
          "Canada",
          "Canada",
          "Canada",
          "Canada",
          "Canada",
          "Canada",
          "Canada",
          "Canada",
          "Canada",
          "Canada",
          "Canada",
          "Canada",
          "Canada",
          "Canada",
          "Canada",
          "Canada",
          "Canada",
          "Canada",
          "Canada",
          "Canada",
          "Canada",
          "Canada",
          "Canada",
          "Canada",
          "Canada",
          "Canada",
          "Canada",
          "Canada",
          "Canada",
          "Canada",
          "Canada",
          "Canada",
          "Canada",
          "Canada"
         ],
         "x0": " ",
         "xaxis": "x",
         "y": [
          35,
          18,
          23,
          26,
          26,
          19,
          27,
          31,
          24,
          22,
          26,
          30,
          22,
          24,
          26,
          20,
          22,
          24,
          23,
          24,
          26,
          25,
          24,
          28,
          19,
          27,
          31,
          28,
          32,
          36,
          28,
          24,
          18,
          22,
          26,
          30,
          21,
          25,
          37,
          22,
          30,
          33,
          23,
          22,
          27,
          31,
          35,
          21,
          25,
          25,
          29,
          33,
          37,
          23,
          24,
          21,
          25,
          35,
          22,
          26,
          21,
          24,
          28,
          32,
          29,
          23,
          20,
          29,
          28,
          21,
          22,
          21,
          25,
          27,
          31,
          18,
          22,
          26,
          25,
          24,
          23,
          18,
          22,
          22,
          23,
          27,
          25,
          22,
          28,
          21,
          20,
          31,
          20,
          24,
          20,
          29,
          21,
          20,
          24,
          28,
          22,
          34,
          21,
          24,
          23,
          20,
          26,
          27,
          25,
          29,
          22,
          27,
          23,
          24,
          23,
          25,
          20,
          20,
          29,
          33,
          26,
          30,
          34,
          23,
          27,
          23,
          24,
          21,
          21,
          25,
          19,
          28,
          25,
          24,
          28,
          24,
          33,
          21,
          22,
          20,
          32,
          36,
          40,
          23,
          20,
          23,
          31,
          37,
          30,
          24,
          21,
          22,
          20,
          31,
          30,
          27,
          24,
          22,
          26,
          30,
          34,
          25,
          29,
          20,
          24,
          28,
          32,
          36,
          26,
          21,
          21,
          21,
          24,
          22,
          22,
          29,
          30,
          32,
          25,
          24,
          28,
          32,
          21,
          25,
          22,
          23,
          22,
          22,
          26,
          20,
          24,
          34,
          26,
          28,
          25,
          21,
          24,
          19,
          27,
          22,
          26,
          26,
          30,
          23,
          27,
          31,
          35,
          19,
          24,
          28,
          23,
          21,
          22,
          30,
          34,
          23,
          27,
          31,
          22,
          25,
          23,
          28,
          21,
          25,
          33,
          26,
          36,
          23,
          24,
          27,
          23,
          18,
          24,
          28,
          22,
          27,
          23,
          26,
          30,
          34,
          34,
          38,
          22,
          26,
          21,
          23,
          27,
          24,
          29,
          26,
          20,
          26,
          30,
          34,
          26,
          30,
          30,
          19,
          26,
          30,
          29,
          23,
          25,
          21,
          21,
          27,
          25,
          29,
          26,
          23,
          23,
          24,
          27,
          35,
          21,
          31,
          21,
          21,
          17,
          23,
          26,
          21,
          21,
          25,
          29,
          22,
          27,
          28,
          36,
          31,
          35,
          21,
          29,
          24,
          28,
          23,
          27,
          39,
          22,
          22,
          26,
          30,
          34,
          28,
          26,
          22,
          20,
          27,
          19,
          27,
          24,
          28,
          24,
          19,
          21,
          20,
          24,
          28,
          24,
          22,
          26,
          23,
          23,
          26,
          24,
          18,
          22,
          25,
          29,
          26,
          26,
          23,
          23,
          27,
          31,
          35,
          23,
          28,
          21,
          30,
          28,
          27,
          18,
          25,
          27,
          25,
          25,
          25,
          24,
          25,
          26,
          31,
          23,
          19,
          24,
          32,
          25,
          32,
          28,
          32,
          36,
          29,
          22,
          23,
          25,
          27,
          25,
          29,
          31,
          26,
          27,
          24,
          25,
          19,
          29,
          33,
          32,
          24,
          24,
          21,
          24,
          27,
          26,
          20,
          25,
          24,
          19,
          26,
          25,
          29,
          22,
          26,
          30,
          23,
          20,
          23,
          27,
          31,
          39,
          30,
          38,
          25,
          23,
          33,
          28,
          24,
          34,
          29,
          27,
          27,
          31,
          35,
          25,
          21,
          23,
          27,
          29,
          23,
          28,
          25,
          25,
          22,
          21,
          26,
          30,
          22,
          30,
          21,
          25,
          21,
          29,
          20,
          24,
          24,
          26,
          23,
          24,
          22,
          26,
          20,
          23,
          25,
          24,
          20,
          28,
          22,
          24,
          28,
          25,
          20,
          19,
          23,
          27,
          31,
          35,
          21,
          32,
          27,
          21,
          29,
          21,
          22,
          24,
          22,
          32,
          36,
          19,
          28,
          21
         ],
         "y0": " ",
         "yaxis": "y"
        },
        {
         "alignmentgroup": "True",
         "hovertemplate": "Team=%{x}<br>Age=%{y}<extra></extra>",
         "legendgroup": "Norway",
         "marker": {
          "color": "#ab63fa"
         },
         "name": "Norway",
         "notched": false,
         "offsetgroup": "Norway",
         "orientation": "v",
         "showlegend": true,
         "type": "box",
         "x": [
          "Norway",
          "Norway",
          "Norway",
          "Norway",
          "Norway",
          "Norway",
          "Norway",
          "Norway",
          "Norway",
          "Norway",
          "Norway",
          "Norway",
          "Norway",
          "Norway",
          "Norway",
          "Norway",
          "Norway",
          "Norway",
          "Norway",
          "Norway",
          "Norway",
          "Norway",
          "Norway",
          "Norway",
          "Norway",
          "Norway",
          "Norway",
          "Norway",
          "Norway",
          "Norway",
          "Norway",
          "Norway",
          "Norway",
          "Norway",
          "Norway",
          "Norway",
          "Norway",
          "Norway",
          "Norway",
          "Norway",
          "Norway",
          "Norway",
          "Norway",
          "Norway",
          "Norway",
          "Norway",
          "Norway",
          "Norway",
          "Norway",
          "Norway",
          "Norway",
          "Norway",
          "Norway",
          "Norway",
          "Norway",
          "Norway",
          "Norway",
          "Norway",
          "Norway",
          "Norway",
          "Norway",
          "Norway",
          "Norway",
          "Norway",
          "Norway",
          "Norway",
          "Norway",
          "Norway",
          "Norway",
          "Norway",
          "Norway",
          "Norway",
          "Norway",
          "Norway",
          "Norway",
          "Norway",
          "Norway",
          "Norway",
          "Norway",
          "Norway",
          "Norway",
          "Norway",
          "Norway",
          "Norway",
          "Norway",
          "Norway",
          "Norway",
          "Norway",
          "Norway",
          "Norway",
          "Norway",
          "Norway",
          "Norway",
          "Norway",
          "Norway",
          "Norway",
          "Norway",
          "Norway",
          "Norway",
          "Norway",
          "Norway",
          "Norway",
          "Norway",
          "Norway",
          "Norway",
          "Norway",
          "Norway",
          "Norway",
          "Norway",
          "Norway",
          "Norway",
          "Norway",
          "Norway",
          "Norway",
          "Norway",
          "Norway",
          "Norway",
          "Norway",
          "Norway",
          "Norway",
          "Norway",
          "Norway",
          "Norway",
          "Norway",
          "Norway",
          "Norway",
          "Norway",
          "Norway",
          "Norway",
          "Norway",
          "Norway",
          "Norway",
          "Norway",
          "Norway",
          "Norway",
          "Norway",
          "Norway",
          "Norway",
          "Norway",
          "Norway",
          "Norway",
          "Norway",
          "Norway",
          "Norway",
          "Norway",
          "Norway",
          "Norway",
          "Norway",
          "Norway",
          "Norway",
          "Norway",
          "Norway",
          "Norway",
          "Norway",
          "Norway",
          "Norway",
          "Norway",
          "Norway",
          "Norway",
          "Norway",
          "Norway",
          "Norway",
          "Norway",
          "Norway",
          "Norway",
          "Norway",
          "Norway",
          "Norway",
          "Norway",
          "Norway",
          "Norway",
          "Norway",
          "Norway",
          "Norway",
          "Norway",
          "Norway",
          "Norway",
          "Norway",
          "Norway",
          "Norway",
          "Norway",
          "Norway",
          "Norway",
          "Norway",
          "Norway",
          "Norway",
          "Norway",
          "Norway",
          "Norway",
          "Norway",
          "Norway",
          "Norway",
          "Norway",
          "Norway",
          "Norway",
          "Norway",
          "Norway",
          "Norway",
          "Norway",
          "Norway",
          "Norway",
          "Norway",
          "Norway",
          "Norway",
          "Norway",
          "Norway",
          "Norway",
          "Norway",
          "Norway",
          "Norway",
          "Norway",
          "Norway",
          "Norway",
          "Norway",
          "Norway",
          "Norway",
          "Norway",
          "Norway",
          "Norway",
          "Norway",
          "Norway",
          "Norway",
          "Norway"
         ],
         "x0": " ",
         "xaxis": "x",
         "y": [
          19,
          23,
          21,
          23,
          24,
          20,
          26,
          28,
          20,
          21,
          25,
          27,
          20,
          25,
          33,
          21,
          29,
          33,
          20,
          25,
          25,
          22,
          24,
          27,
          31,
          33,
          18,
          30,
          21,
          25,
          23,
          23,
          27,
          27,
          35,
          21,
          23,
          26,
          25,
          29,
          27,
          21,
          25,
          19,
          24,
          25,
          27,
          26,
          27,
          19,
          23,
          27,
          20,
          24,
          28,
          23,
          27,
          26,
          30,
          32,
          25,
          26,
          25,
          29,
          24,
          18,
          28,
          32,
          28,
          32,
          23,
          31,
          35,
          20,
          24,
          28,
          26,
          22,
          26,
          28,
          25,
          22,
          26,
          21,
          23,
          39,
          24,
          21,
          18,
          22,
          24,
          28,
          27,
          23,
          27,
          33,
          24,
          26,
          28,
          25,
          33,
          30,
          27,
          22,
          28,
          22,
          26,
          30,
          32,
          24,
          23,
          21,
          35,
          24,
          25,
          22,
          26,
          21,
          25,
          29,
          35,
          26,
          26,
          21,
          23,
          21,
          23,
          27,
          35,
          37,
          18,
          22,
          26,
          34,
          25,
          23,
          27,
          27,
          30,
          25,
          29,
          20,
          27,
          31,
          21,
          25,
          19,
          21,
          25,
          24,
          28,
          22,
          24,
          28,
          23,
          20,
          24,
          28,
          21,
          24,
          24,
          20,
          26,
          30,
          21,
          23,
          25,
          27,
          23,
          27,
          21,
          29,
          21,
          24,
          22,
          26,
          28,
          25,
          27,
          19,
          27,
          27,
          25,
          31,
          35,
          26,
          30,
          26,
          19,
          23,
          23,
          27,
          23,
          24,
          24,
          28,
          19,
          22,
          30,
          23,
          27,
          23,
          26,
          30,
          18,
          22,
          26,
          30,
          32,
          25,
          29,
          33,
          37,
          22,
          34,
          25,
          21,
          21,
          18,
          26,
          21,
          22,
          26
         ],
         "y0": " ",
         "yaxis": "y"
        },
        {
         "alignmentgroup": "True",
         "hovertemplate": "Team=%{x}<br>Age=%{y}<extra></extra>",
         "legendgroup": "Sweden",
         "marker": {
          "color": "#FFA15A"
         },
         "name": "Sweden",
         "notched": false,
         "offsetgroup": "Sweden",
         "orientation": "v",
         "showlegend": true,
         "type": "box",
         "x": [
          "Sweden",
          "Sweden",
          "Sweden",
          "Sweden",
          "Sweden",
          "Sweden",
          "Sweden",
          "Sweden",
          "Sweden",
          "Sweden",
          "Sweden",
          "Sweden",
          "Sweden",
          "Sweden",
          "Sweden",
          "Sweden",
          "Sweden",
          "Sweden",
          "Sweden",
          "Sweden",
          "Sweden",
          "Sweden",
          "Sweden",
          "Sweden",
          "Sweden",
          "Sweden",
          "Sweden",
          "Sweden",
          "Sweden",
          "Sweden",
          "Sweden",
          "Sweden",
          "Sweden",
          "Sweden",
          "Sweden",
          "Sweden",
          "Sweden",
          "Sweden",
          "Sweden",
          "Sweden",
          "Sweden",
          "Sweden",
          "Sweden",
          "Sweden",
          "Sweden",
          "Sweden",
          "Sweden",
          "Sweden",
          "Sweden",
          "Sweden",
          "Sweden",
          "Sweden",
          "Sweden",
          "Sweden",
          "Sweden",
          "Sweden",
          "Sweden",
          "Sweden",
          "Sweden",
          "Sweden",
          "Sweden",
          "Sweden",
          "Sweden",
          "Sweden",
          "Sweden",
          "Sweden",
          "Sweden",
          "Sweden",
          "Sweden",
          "Sweden",
          "Sweden",
          "Sweden",
          "Sweden",
          "Sweden",
          "Sweden",
          "Sweden",
          "Sweden",
          "Sweden",
          "Sweden",
          "Sweden",
          "Sweden",
          "Sweden",
          "Sweden",
          "Sweden",
          "Sweden",
          "Sweden",
          "Sweden",
          "Sweden",
          "Sweden",
          "Sweden",
          "Sweden",
          "Sweden",
          "Sweden",
          "Sweden",
          "Sweden",
          "Sweden",
          "Sweden",
          "Sweden",
          "Sweden",
          "Sweden",
          "Sweden",
          "Sweden",
          "Sweden",
          "Sweden",
          "Sweden",
          "Sweden",
          "Sweden",
          "Sweden",
          "Sweden",
          "Sweden",
          "Sweden",
          "Sweden",
          "Sweden",
          "Sweden",
          "Sweden",
          "Sweden",
          "Sweden",
          "Sweden",
          "Sweden",
          "Sweden",
          "Sweden",
          "Sweden",
          "Sweden",
          "Sweden",
          "Sweden",
          "Sweden",
          "Sweden",
          "Sweden",
          "Sweden",
          "Sweden",
          "Sweden",
          "Sweden",
          "Sweden",
          "Sweden",
          "Sweden",
          "Sweden",
          "Sweden",
          "Sweden",
          "Sweden",
          "Sweden",
          "Sweden",
          "Sweden",
          "Sweden",
          "Sweden",
          "Sweden",
          "Sweden",
          "Sweden",
          "Sweden",
          "Sweden",
          "Sweden",
          "Sweden",
          "Sweden",
          "Sweden",
          "Sweden",
          "Sweden",
          "Sweden",
          "Sweden",
          "Sweden",
          "Sweden",
          "Sweden",
          "Sweden",
          "Sweden",
          "Sweden",
          "Sweden",
          "Sweden",
          "Sweden",
          "Sweden",
          "Sweden",
          "Sweden",
          "Sweden",
          "Sweden",
          "Sweden",
          "Sweden",
          "Sweden",
          "Sweden",
          "Sweden",
          "Sweden",
          "Sweden",
          "Sweden",
          "Sweden",
          "Sweden",
          "Sweden",
          "Sweden",
          "Sweden",
          "Sweden",
          "Sweden",
          "Sweden",
          "Sweden",
          "Sweden",
          "Sweden",
          "Sweden",
          "Sweden",
          "Sweden",
          "Sweden",
          "Sweden",
          "Sweden",
          "Sweden",
          "Sweden",
          "Sweden",
          "Sweden",
          "Sweden",
          "Sweden",
          "Sweden",
          "Sweden",
          "Sweden",
          "Sweden",
          "Sweden",
          "Sweden",
          "Sweden",
          "Sweden",
          "Sweden",
          "Sweden",
          "Sweden",
          "Sweden",
          "Sweden",
          "Sweden",
          "Sweden",
          "Sweden",
          "Sweden",
          "Sweden",
          "Sweden",
          "Sweden",
          "Sweden",
          "Sweden",
          "Sweden",
          "Sweden",
          "Sweden",
          "Sweden",
          "Sweden",
          "Sweden",
          "Sweden",
          "Sweden",
          "Sweden",
          "Sweden",
          "Sweden",
          "Sweden",
          "Sweden",
          "Sweden",
          "Sweden",
          "Sweden",
          "Sweden",
          "Sweden",
          "Sweden",
          "Sweden",
          "Sweden",
          "Sweden",
          "Sweden",
          "Sweden",
          "Sweden",
          "Sweden",
          "Sweden",
          "Sweden",
          "Sweden",
          "Sweden",
          "Sweden",
          "Sweden",
          "Sweden",
          "Sweden",
          "Sweden",
          "Sweden",
          "Sweden",
          "Sweden",
          "Sweden",
          "Sweden",
          "Sweden",
          "Sweden",
          "Sweden",
          "Sweden",
          "Sweden",
          "Sweden",
          "Sweden",
          "Sweden",
          "Sweden",
          "Sweden",
          "Sweden",
          "Sweden",
          "Sweden",
          "Sweden",
          "Sweden",
          "Sweden",
          "Sweden",
          "Sweden",
          "Sweden",
          "Sweden",
          "Sweden",
          "Sweden",
          "Sweden",
          "Sweden",
          "Sweden",
          "Sweden",
          "Sweden",
          "Sweden",
          "Sweden",
          "Sweden",
          "Sweden",
          "Sweden",
          "Sweden",
          "Sweden",
          "Sweden",
          "Sweden",
          "Sweden",
          "Sweden",
          "Sweden",
          "Sweden",
          "Sweden",
          "Sweden",
          "Sweden",
          "Sweden",
          "Sweden",
          "Sweden",
          "Sweden",
          "Sweden",
          "Sweden",
          "Sweden",
          "Sweden",
          "Sweden",
          "Sweden",
          "Sweden",
          "Sweden",
          "Sweden",
          "Sweden",
          "Sweden",
          "Sweden",
          "Sweden",
          "Sweden",
          "Sweden",
          "Sweden",
          "Sweden",
          "Sweden",
          "Sweden",
          "Sweden",
          "Sweden",
          "Sweden",
          "Sweden",
          "Sweden",
          "Sweden",
          "Sweden",
          "Sweden",
          "Sweden",
          "Sweden",
          "Sweden",
          "Sweden",
          "Sweden",
          "Sweden",
          "Sweden",
          "Sweden",
          "Sweden",
          "Sweden",
          "Sweden",
          "Sweden",
          "Sweden",
          "Sweden",
          "Sweden",
          "Sweden",
          "Sweden",
          "Sweden",
          "Sweden",
          "Sweden",
          "Sweden",
          "Sweden",
          "Sweden",
          "Sweden",
          "Sweden",
          "Sweden",
          "Sweden",
          "Sweden",
          "Sweden",
          "Sweden",
          "Sweden",
          "Sweden",
          "Sweden",
          "Sweden",
          "Sweden",
          "Sweden",
          "Sweden",
          "Sweden",
          "Sweden",
          "Sweden",
          "Sweden",
          "Sweden",
          "Sweden",
          "Sweden",
          "Sweden",
          "Sweden",
          "Sweden",
          "Sweden",
          "Sweden",
          "Sweden",
          "Sweden",
          "Sweden",
          "Sweden",
          "Sweden",
          "Sweden",
          "Sweden",
          "Sweden",
          "Sweden",
          "Sweden",
          "Sweden",
          "Sweden",
          "Sweden",
          "Sweden",
          "Sweden",
          "Sweden",
          "Sweden",
          "Sweden",
          "Sweden",
          "Sweden",
          "Sweden",
          "Sweden",
          "Sweden",
          "Sweden",
          "Sweden",
          "Sweden",
          "Sweden",
          "Sweden",
          "Sweden",
          "Sweden",
          "Sweden",
          "Sweden",
          "Sweden",
          "Sweden",
          "Sweden",
          "Sweden",
          "Sweden",
          "Sweden",
          "Sweden",
          "Sweden",
          "Sweden",
          "Sweden",
          "Sweden",
          "Sweden",
          "Sweden",
          "Sweden",
          "Sweden",
          "Sweden",
          "Sweden",
          "Sweden",
          "Sweden",
          "Sweden",
          "Sweden",
          "Sweden",
          "Sweden",
          "Sweden",
          "Sweden",
          "Sweden",
          "Sweden",
          "Sweden",
          "Sweden",
          "Sweden",
          "Sweden",
          "Sweden",
          "Sweden",
          "Sweden",
          "Sweden",
          "Sweden",
          "Sweden",
          "Sweden",
          "Sweden",
          "Sweden",
          "Sweden",
          "Sweden",
          "Sweden",
          "Sweden",
          "Sweden",
          "Sweden",
          "Sweden",
          "Sweden",
          "Sweden",
          "Sweden",
          "Sweden",
          "Sweden",
          "Sweden",
          "Sweden",
          "Sweden",
          "Sweden",
          "Sweden",
          "Sweden",
          "Sweden",
          "Sweden",
          "Sweden",
          "Sweden",
          "Sweden",
          "Sweden",
          "Sweden",
          "Sweden",
          "Sweden"
         ],
         "x0": " ",
         "xaxis": "x",
         "y": [
          24,
          31,
          24,
          24,
          32,
          23,
          27,
          24,
          33,
          25,
          29,
          33,
          37,
          41,
          27,
          32,
          25,
          29,
          30,
          29,
          33,
          23,
          27,
          20,
          23,
          21,
          25,
          22,
          26,
          30,
          34,
          31,
          28,
          26,
          25,
          29,
          21,
          33,
          30,
          23,
          27,
          23,
          27,
          30,
          22,
          25,
          25,
          17,
          21,
          25,
          26,
          30,
          19,
          25,
          22,
          22,
          26,
          23,
          19,
          24,
          32,
          27,
          29,
          25,
          19,
          24,
          21,
          25,
          31,
          34,
          38,
          20,
          24,
          28,
          25,
          29,
          24,
          21,
          24,
          28,
          23,
          22,
          26,
          25,
          29,
          23,
          24,
          32,
          24,
          23,
          30,
          21,
          31,
          35,
          27,
          27,
          27,
          22,
          26,
          30,
          25,
          20,
          25,
          29,
          26,
          22,
          27,
          18,
          22,
          26,
          28,
          16,
          20,
          24,
          27,
          25,
          18,
          25,
          22,
          22,
          34,
          26,
          33,
          29,
          29,
          24,
          28,
          22,
          24,
          28,
          24,
          22,
          20,
          28,
          28,
          25,
          20,
          24,
          32,
          36,
          30,
          23,
          25,
          23,
          21,
          23,
          20,
          26,
          23,
          18,
          33,
          25,
          25,
          23,
          24,
          26,
          22,
          26,
          32,
          28,
          22,
          21,
          24,
          22,
          20,
          24,
          26,
          20,
          26,
          22,
          23,
          27,
          25,
          29,
          29,
          33,
          18,
          22,
          26,
          30,
          23,
          27,
          24,
          22,
          18,
          22,
          24,
          32,
          30,
          24,
          21,
          22,
          23,
          27,
          18,
          30,
          22,
          36,
          23,
          27,
          21,
          25,
          23,
          25,
          29,
          26,
          27,
          31,
          28,
          20,
          24,
          28,
          32,
          23,
          25,
          21,
          25,
          29,
          33,
          19,
          27,
          31,
          19,
          33,
          18,
          28,
          23,
          22,
          26,
          23,
          27,
          27,
          24,
          22,
          24,
          28,
          25,
          29,
          33,
          23,
          29,
          21,
          23,
          22,
          23,
          24,
          27,
          31,
          29,
          27,
          31,
          35,
          39,
          22,
          26,
          27,
          21,
          25,
          29,
          20,
          27,
          20,
          23,
          20,
          24,
          31,
          25,
          24,
          27,
          27,
          22,
          25,
          23,
          29,
          32,
          31,
          33,
          18,
          22,
          20,
          27,
          26,
          24,
          23,
          27,
          31,
          29,
          22,
          26,
          21,
          25,
          29,
          28,
          22,
          29,
          15,
          19,
          23,
          27,
          29,
          29,
          23,
          31,
          35,
          30,
          34,
          23,
          31,
          31,
          24,
          29,
          18,
          28,
          20,
          32,
          34,
          19,
          23,
          23,
          27,
          19,
          23,
          27,
          25,
          31,
          18,
          22,
          23,
          21,
          25,
          29,
          33,
          25,
          26,
          30,
          27,
          31,
          35,
          25,
          29,
          24,
          21,
          25,
          29,
          25,
          29,
          20,
          28,
          32,
          21,
          25,
          21,
          25,
          29,
          33,
          26,
          22,
          35,
          22,
          27,
          24,
          24,
          19,
          23,
          23,
          26,
          28,
          32,
          23,
          27,
          21,
          29,
          23,
          22,
          18,
          26,
          27,
          21,
          20,
          24,
          28,
          26,
          30,
          22,
          25,
          29,
          25,
          25,
          18,
          22,
          26,
          30,
          17,
          21,
          25,
          23,
          27,
          31,
          21,
          23,
          23,
          40,
          23,
          27,
          31,
          17,
          29,
          20,
          28,
          33,
          19,
          33,
          20,
          25,
          29,
          33,
          25,
          29,
          23,
          23,
          27,
          26,
          16,
          20,
          24,
          24,
          28,
          31,
          22,
          29,
          19,
          22,
          25,
          27,
          28,
          32,
          36,
          23,
          26,
          30,
          34,
          35,
          22,
          26,
          34,
          28,
          23,
          20,
          25,
          21,
          25,
          25,
          29,
          30,
          31,
          35,
          26,
          22,
          23,
          27,
          31,
          20,
          24,
          29,
          20,
          24,
          21,
          25,
          27,
          27,
          26,
          30,
          29,
          27,
          21,
          25,
          29,
          16,
          20,
          24,
          21,
          25,
          21,
          25,
          29,
          33
         ],
         "y0": " ",
         "yaxis": "y"
        },
        {
         "alignmentgroup": "True",
         "hovertemplate": "Team=%{x}<br>Age=%{y}<extra></extra>",
         "legendgroup": "Russia",
         "marker": {
          "color": "#19d3f3"
         },
         "name": "Russia",
         "notched": false,
         "offsetgroup": "Russia",
         "orientation": "v",
         "showlegend": true,
         "type": "box",
         "x": [
          "Russia",
          "Russia",
          "Russia",
          "Russia",
          "Russia",
          "Russia",
          "Russia",
          "Russia",
          "Russia",
          "Russia",
          "Russia",
          "Russia",
          "Russia",
          "Russia",
          "Russia",
          "Russia",
          "Russia",
          "Russia",
          "Russia",
          "Russia",
          "Russia",
          "Russia",
          "Russia",
          "Russia",
          "Russia",
          "Russia",
          "Russia",
          "Russia",
          "Russia",
          "Russia",
          "Russia",
          "Russia",
          "Russia",
          "Russia",
          "Russia",
          "Russia",
          "Russia",
          "Russia",
          "Russia",
          "Russia",
          "Russia",
          "Russia",
          "Russia",
          "Russia",
          "Russia",
          "Russia",
          "Russia",
          "Russia",
          "Russia",
          "Russia",
          "Russia",
          "Russia",
          "Russia",
          "Russia",
          "Russia",
          "Russia",
          "Russia",
          "Russia",
          "Russia",
          "Russia",
          "Russia",
          "Russia",
          "Russia",
          "Russia",
          "Russia",
          "Russia",
          "Russia",
          "Russia",
          "Russia",
          "Russia",
          "Russia",
          "Russia",
          "Russia",
          "Russia",
          "Russia",
          "Russia",
          "Russia",
          "Russia",
          "Russia",
          "Russia",
          "Russia",
          "Russia",
          "Russia",
          "Russia",
          "Russia",
          "Russia",
          "Russia",
          "Russia",
          "Russia",
          "Russia",
          "Russia",
          "Russia",
          "Russia",
          "Russia",
          "Russia",
          "Russia",
          "Russia",
          "Russia",
          "Russia",
          "Russia",
          "Russia",
          "Russia",
          "Russia",
          "Russia",
          "Russia",
          "Russia",
          "Russia",
          "Russia",
          "Russia",
          "Russia",
          "Russia",
          "Russia",
          "Russia",
          "Russia",
          "Russia",
          "Russia",
          "Russia",
          "Russia",
          "Russia",
          "Russia",
          "Russia",
          "Russia",
          "Russia",
          "Russia",
          "Russia",
          "Russia",
          "Russia",
          "Russia",
          "Russia",
          "Russia",
          "Russia",
          "Russia",
          "Russia",
          "Russia",
          "Russia",
          "Russia",
          "Russia",
          "Russia",
          "Russia",
          "Russia",
          "Russia",
          "Russia",
          "Russia",
          "Russia",
          "Russia",
          "Russia",
          "Russia",
          "Russia",
          "Russia",
          "Russia",
          "Russia",
          "Russia",
          "Russia",
          "Russia",
          "Russia",
          "Russia",
          "Russia",
          "Russia",
          "Russia",
          "Russia",
          "Russia",
          "Russia",
          "Russia",
          "Russia",
          "Russia",
          "Russia",
          "Russia",
          "Russia",
          "Russia",
          "Russia",
          "Russia",
          "Russia",
          "Russia",
          "Russia",
          "Russia",
          "Russia",
          "Russia",
          "Russia",
          "Russia",
          "Russia",
          "Russia",
          "Russia",
          "Russia",
          "Russia",
          "Russia",
          "Russia",
          "Russia",
          "Russia",
          "Russia",
          "Russia",
          "Russia",
          "Russia",
          "Russia",
          "Russia",
          "Russia",
          "Russia",
          "Russia",
          "Russia",
          "Russia",
          "Russia",
          "Russia",
          "Russia",
          "Russia",
          "Russia",
          "Russia",
          "Russia",
          "Russia",
          "Russia",
          "Russia",
          "Russia",
          "Russia",
          "Russia",
          "Russia",
          "Russia",
          "Russia"
         ],
         "x0": " ",
         "xaxis": "x",
         "y": [
          34,
          22,
          26,
          30,
          20,
          18,
          25,
          28,
          32,
          27,
          22,
          25,
          27,
          25,
          25,
          29,
          26,
          30,
          23,
          27,
          21,
          25,
          29,
          33,
          24,
          28,
          23,
          27,
          31,
          35,
          22,
          23,
          18,
          25,
          19,
          23,
          23,
          28,
          32,
          40,
          26,
          30,
          34,
          18,
          22,
          26,
          20,
          24,
          23,
          27,
          31,
          35,
          19,
          26,
          33,
          21,
          27,
          23,
          29,
          31,
          21,
          25,
          29,
          22,
          25,
          29,
          33,
          29,
          29,
          20,
          24,
          28,
          32,
          25,
          30,
          18,
          22,
          26,
          30,
          27,
          28,
          32,
          30,
          34,
          31,
          35,
          23,
          22,
          27,
          23,
          41,
          20,
          24,
          22,
          33,
          19,
          23,
          27,
          27,
          31,
          35,
          25,
          29,
          31,
          25,
          29,
          32,
          26,
          30,
          20,
          32,
          30,
          34,
          34,
          24,
          18,
          27,
          20,
          28,
          27,
          31,
          31,
          20,
          24,
          28,
          29,
          33,
          41,
          19,
          23,
          27,
          21,
          25,
          29,
          18,
          33,
          16,
          20,
          23,
          27,
          23,
          19,
          23,
          24,
          32,
          37,
          26,
          30,
          19,
          16,
          32,
          21,
          29,
          29,
          20,
          24,
          28,
          32,
          17,
          25,
          33,
          24,
          17,
          21,
          21,
          25,
          29,
          31,
          25,
          29,
          25,
          22,
          25,
          22,
          18,
          26,
          33,
          23,
          25,
          32,
          25,
          29,
          28,
          28,
          28,
          32,
          22,
          26,
          24,
          25,
          22,
          26,
          30,
          19,
          23,
          22,
          23,
          25,
          23,
          27,
          24,
          24,
          28,
          32,
          27,
          23,
          26,
          28,
          29,
          27,
          31,
          25,
          30,
          29,
          29
         ],
         "y0": " ",
         "yaxis": "y"
        },
        {
         "alignmentgroup": "True",
         "hovertemplate": "Team=%{x}<br>Age=%{y}<extra></extra>",
         "legendgroup": "Germany",
         "marker": {
          "color": "#FF6692"
         },
         "name": "Germany",
         "notched": false,
         "offsetgroup": "Germany",
         "orientation": "v",
         "showlegend": true,
         "type": "box",
         "x": [
          "Germany",
          "Germany",
          "Germany",
          "Germany",
          "Germany",
          "Germany",
          "Germany",
          "Germany",
          "Germany",
          "Germany",
          "Germany",
          "Germany",
          "Germany",
          "Germany",
          "Germany",
          "Germany",
          "Germany",
          "Germany",
          "Germany",
          "Germany",
          "Germany",
          "Germany",
          "Germany",
          "Germany",
          "Germany",
          "Germany",
          "Germany",
          "Germany",
          "Germany",
          "Germany",
          "Germany",
          "Germany",
          "Germany",
          "Germany",
          "Germany",
          "Germany",
          "Germany",
          "Germany",
          "Germany",
          "Germany",
          "Germany",
          "Germany",
          "Germany",
          "Germany",
          "Germany",
          "Germany",
          "Germany",
          "Germany",
          "Germany",
          "Germany",
          "Germany",
          "Germany",
          "Germany",
          "Germany",
          "Germany",
          "Germany",
          "Germany",
          "Germany",
          "Germany",
          "Germany",
          "Germany",
          "Germany",
          "Germany",
          "Germany",
          "Germany",
          "Germany",
          "Germany",
          "Germany",
          "Germany",
          "Germany",
          "Germany",
          "Germany",
          "Germany",
          "Germany",
          "Germany",
          "Germany",
          "Germany",
          "Germany",
          "Germany",
          "Germany",
          "Germany",
          "Germany",
          "Germany",
          "Germany",
          "Germany",
          "Germany",
          "Germany",
          "Germany",
          "Germany",
          "Germany",
          "Germany",
          "Germany",
          "Germany",
          "Germany",
          "Germany",
          "Germany",
          "Germany",
          "Germany",
          "Germany",
          "Germany",
          "Germany",
          "Germany",
          "Germany",
          "Germany",
          "Germany",
          "Germany",
          "Germany",
          "Germany",
          "Germany",
          "Germany",
          "Germany",
          "Germany",
          "Germany",
          "Germany",
          "Germany",
          "Germany",
          "Germany",
          "Germany",
          "Germany",
          "Germany",
          "Germany",
          "Germany",
          "Germany",
          "Germany",
          "Germany",
          "Germany",
          "Germany",
          "Germany",
          "Germany",
          "Germany",
          "Germany",
          "Germany",
          "Germany",
          "Germany",
          "Germany",
          "Germany",
          "Germany",
          "Germany",
          "Germany",
          "Germany",
          "Germany",
          "Germany",
          "Germany",
          "Germany",
          "Germany",
          "Germany",
          "Germany",
          "Germany",
          "Germany",
          "Germany",
          "Germany",
          "Germany",
          "Germany",
          "Germany",
          "Germany",
          "Germany",
          "Germany",
          "Germany",
          "Germany",
          "Germany",
          "Germany",
          "Germany",
          "Germany",
          "Germany",
          "Germany",
          "Germany",
          "Germany",
          "Germany",
          "Germany",
          "Germany",
          "Germany",
          "Germany",
          "Germany",
          "Germany",
          "Germany",
          "Germany",
          "Germany",
          "Germany",
          "Germany",
          "Germany",
          "Germany",
          "Germany",
          "Germany",
          "Germany",
          "Germany",
          "Germany",
          "Germany",
          "Germany",
          "Germany",
          "Germany",
          "Germany",
          "Germany",
          "Germany",
          "Germany",
          "Germany",
          "Germany",
          "Germany",
          "Germany",
          "Germany",
          "Germany",
          "Germany",
          "Germany",
          "Germany",
          "Germany",
          "Germany",
          "Germany",
          "Germany",
          "Germany",
          "Germany",
          "Germany",
          "Germany",
          "Germany",
          "Germany",
          "Germany",
          "Germany",
          "Germany",
          "Germany",
          "Germany",
          "Germany",
          "Germany",
          "Germany",
          "Germany",
          "Germany",
          "Germany",
          "Germany",
          "Germany",
          "Germany",
          "Germany",
          "Germany",
          "Germany",
          "Germany",
          "Germany",
          "Germany",
          "Germany",
          "Germany",
          "Germany",
          "Germany",
          "Germany",
          "Germany",
          "Germany",
          "Germany",
          "Germany",
          "Germany",
          "Germany",
          "Germany",
          "Germany",
          "Germany",
          "Germany",
          "Germany",
          "Germany",
          "Germany",
          "Germany",
          "Germany",
          "Germany",
          "Germany",
          "Germany",
          "Germany",
          "Germany",
          "Germany",
          "Germany",
          "Germany",
          "Germany",
          "Germany",
          "Germany",
          "Germany",
          "Germany",
          "Germany",
          "Germany",
          "Germany",
          "Germany",
          "Germany",
          "Germany",
          "Germany",
          "Germany",
          "Germany",
          "Germany",
          "Germany",
          "Germany",
          "Germany",
          "Germany",
          "Germany",
          "Germany",
          "Germany",
          "Germany",
          "Germany",
          "Germany",
          "Germany",
          "Germany",
          "Germany",
          "Germany",
          "Germany",
          "Germany",
          "Germany",
          "Germany",
          "Germany",
          "Germany",
          "Germany"
         ],
         "x0": " ",
         "xaxis": "x",
         "y": [
          31,
          31,
          33,
          21,
          25,
          29,
          22,
          30,
          20,
          24,
          23,
          22,
          20,
          24,
          32,
          21,
          25,
          29,
          31,
          28,
          19,
          23,
          26,
          30,
          22,
          25,
          28,
          24,
          21,
          21,
          20,
          28,
          33,
          30,
          32,
          30,
          34,
          26,
          32,
          23,
          24,
          28,
          32,
          27,
          23,
          19,
          23,
          27,
          20,
          23,
          26,
          20,
          24,
          32,
          20,
          28,
          31,
          35,
          28,
          33,
          32,
          29,
          33,
          21,
          25,
          23,
          22,
          22,
          26,
          26,
          21,
          25,
          23,
          31,
          28,
          20,
          24,
          25,
          29,
          25,
          31,
          25,
          25,
          27,
          18,
          26,
          20,
          24,
          32,
          29,
          31,
          35,
          28,
          25,
          28,
          30,
          34,
          26,
          22,
          29,
          31,
          26,
          28,
          24,
          28,
          37,
          41,
          27,
          24,
          21,
          30,
          24,
          26,
          30,
          32,
          19,
          23,
          27,
          24,
          28,
          32,
          20,
          27,
          28,
          27,
          25,
          29,
          22,
          36,
          32,
          28,
          25,
          18,
          27,
          35,
          23,
          23,
          25,
          20,
          28,
          24,
          38,
          29,
          22,
          26,
          20,
          24,
          32,
          25,
          33,
          23,
          30,
          26,
          30,
          18,
          26,
          18,
          22,
          34,
          24,
          25,
          21,
          26,
          29,
          20,
          24,
          28,
          29,
          33,
          37,
          29,
          22,
          24,
          32,
          26,
          30,
          28,
          24,
          23,
          21,
          21,
          25,
          24,
          28,
          30,
          25,
          28,
          32,
          27,
          20,
          20,
          25,
          29,
          34,
          24,
          29,
          24,
          28,
          22,
          26,
          19,
          24,
          28,
          21,
          25,
          33,
          37,
          24,
          23,
          29,
          33,
          26,
          28,
          36,
          23,
          21,
          21,
          25,
          21,
          37,
          29,
          33,
          30,
          20,
          24,
          26,
          19,
          26,
          30,
          20,
          24,
          20,
          24,
          20,
          24,
          26,
          22,
          20,
          24,
          28,
          23,
          31,
          27,
          20,
          24,
          28,
          18,
          18,
          22,
          34,
          18,
          18,
          23,
          46,
          21,
          25,
          19,
          23,
          31,
          21,
          25,
          16,
          22,
          19,
          19,
          23,
          27,
          32,
          26,
          28,
          33,
          22,
          30,
          20,
          24,
          28,
          32,
          25,
          24,
          26,
          26,
          20,
          24,
          23,
          27,
          22,
          24,
          21,
          30,
          34,
          29,
          23,
          27,
          23,
          24,
          19,
          24
         ],
         "y0": " ",
         "yaxis": "y"
        },
        {
         "alignmentgroup": "True",
         "hovertemplate": "Team=%{x}<br>Age=%{y}<extra></extra>",
         "legendgroup": "Australia",
         "marker": {
          "color": "#B6E880"
         },
         "name": "Australia",
         "notched": false,
         "offsetgroup": "Australia",
         "orientation": "v",
         "showlegend": true,
         "type": "box",
         "x": [
          "Australia",
          "Australia",
          "Australia",
          "Australia",
          "Australia",
          "Australia",
          "Australia",
          "Australia",
          "Australia",
          "Australia",
          "Australia",
          "Australia",
          "Australia",
          "Australia",
          "Australia",
          "Australia",
          "Australia"
         ],
         "x0": " ",
         "xaxis": "x",
         "y": [
          32,
          22,
          31,
          33,
          27,
          33,
          28,
          33,
          30,
          31,
          23,
          19,
          27,
          23,
          30,
          33,
          29
         ],
         "y0": " ",
         "yaxis": "y"
        },
        {
         "alignmentgroup": "True",
         "hovertemplate": "Team=%{x}<br>Age=%{y}<extra></extra>",
         "legendgroup": "Japan",
         "marker": {
          "color": "#FF97FF"
         },
         "name": "Japan",
         "notched": false,
         "offsetgroup": "Japan",
         "orientation": "v",
         "showlegend": true,
         "type": "box",
         "x": [
          "Japan",
          "Japan",
          "Japan",
          "Japan",
          "Japan",
          "Japan",
          "Japan",
          "Japan",
          "Japan",
          "Japan",
          "Japan",
          "Japan",
          "Japan",
          "Japan",
          "Japan",
          "Japan",
          "Japan",
          "Japan",
          "Japan",
          "Japan",
          "Japan",
          "Japan",
          "Japan",
          "Japan",
          "Japan",
          "Japan",
          "Japan",
          "Japan",
          "Japan",
          "Japan",
          "Japan",
          "Japan",
          "Japan",
          "Japan",
          "Japan",
          "Japan",
          "Japan",
          "Japan",
          "Japan",
          "Japan",
          "Japan",
          "Japan",
          "Japan",
          "Japan",
          "Japan",
          "Japan",
          "Japan",
          "Japan",
          "Japan",
          "Japan",
          "Japan",
          "Japan",
          "Japan",
          "Japan",
          "Japan",
          "Japan",
          "Japan",
          "Japan",
          "Japan",
          "Japan",
          "Japan",
          "Japan",
          "Japan",
          "Japan",
          "Japan",
          "Japan",
          "Japan",
          "Japan",
          "Japan",
          "Japan",
          "Japan",
          "Japan",
          "Japan",
          "Japan",
          "Japan",
          "Japan",
          "Japan",
          "Japan",
          "Japan",
          "Japan",
          "Japan",
          "Japan",
          "Japan",
          "Japan",
          "Japan",
          "Japan",
          "Japan",
          "Japan",
          "Japan",
          "Japan",
          "Japan",
          "Japan",
          "Japan",
          "Japan",
          "Japan",
          "Japan",
          "Japan",
          "Japan",
          "Japan",
          "Japan",
          "Japan",
          "Japan",
          "Japan",
          "Japan",
          "Japan",
          "Japan",
          "Japan",
          "Japan",
          "Japan",
          "Japan",
          "Japan",
          "Japan",
          "Japan",
          "Japan",
          "Japan",
          "Japan",
          "Japan",
          "Japan",
          "Japan",
          "Japan",
          "Japan",
          "Japan",
          "Japan",
          "Japan",
          "Japan",
          "Japan",
          "Japan",
          "Japan",
          "Japan",
          "Japan",
          "Japan",
          "Japan",
          "Japan",
          "Japan",
          "Japan",
          "Japan",
          "Japan",
          "Japan",
          "Japan",
          "Japan",
          "Japan",
          "Japan",
          "Japan",
          "Japan",
          "Japan",
          "Japan",
          "Japan",
          "Japan",
          "Japan",
          "Japan",
          "Japan",
          "Japan",
          "Japan",
          "Japan",
          "Japan",
          "Japan",
          "Japan",
          "Japan",
          "Japan",
          "Japan",
          "Japan",
          "Japan",
          "Japan",
          "Japan",
          "Japan",
          "Japan",
          "Japan",
          "Japan",
          "Japan",
          "Japan",
          "Japan",
          "Japan",
          "Japan",
          "Japan",
          "Japan",
          "Japan",
          "Japan",
          "Japan",
          "Japan",
          "Japan"
         ],
         "x0": " ",
         "xaxis": "x",
         "y": [
          28,
          25,
          23,
          27,
          31,
          28,
          26,
          24,
          25,
          23,
          27,
          24,
          27,
          26,
          21,
          24,
          25,
          26,
          23,
          23,
          27,
          31,
          22,
          26,
          23,
          27,
          25,
          27,
          22,
          26,
          25,
          29,
          24,
          22,
          24,
          28,
          22,
          26,
          30,
          21,
          21,
          25,
          29,
          30,
          19,
          32,
          20,
          27,
          21,
          25,
          22,
          26,
          21,
          19,
          23,
          27,
          31,
          22,
          26,
          30,
          30,
          26,
          29,
          32,
          27,
          22,
          25,
          25,
          24,
          25,
          27,
          24,
          26,
          26,
          27,
          23,
          19,
          28,
          20,
          18,
          34,
          18,
          31,
          33,
          24,
          28,
          27,
          25,
          24,
          28,
          26,
          30,
          29,
          26,
          22,
          26,
          30,
          36,
          24,
          30,
          29,
          21,
          25,
          24,
          17,
          26,
          26,
          30,
          27,
          22,
          26,
          30,
          24,
          24,
          25,
          22,
          25,
          29,
          26,
          30,
          22,
          21,
          22,
          22,
          26,
          30,
          30,
          33,
          25,
          27,
          31,
          25,
          20,
          27,
          24,
          24,
          26,
          22,
          25,
          24,
          28,
          21,
          26,
          23,
          30,
          22,
          22,
          25,
          21,
          25,
          29,
          22,
          25,
          29,
          26,
          30,
          19,
          19,
          24,
          24,
          20,
          18,
          35,
          17,
          24,
          28,
          27,
          31,
          35,
          22,
          26,
          25,
          23,
          27,
          27,
          27,
          24,
          22,
          26,
          22
         ],
         "y0": " ",
         "yaxis": "y"
        },
        {
         "alignmentgroup": "True",
         "hovertemplate": "Team=%{x}<br>Age=%{y}<extra></extra>",
         "legendgroup": "Poland",
         "marker": {
          "color": "#FECB52"
         },
         "name": "Poland",
         "notched": false,
         "offsetgroup": "Poland",
         "orientation": "v",
         "showlegend": true,
         "type": "box",
         "x": [
          "Poland",
          "Poland",
          "Poland",
          "Poland",
          "Poland",
          "Poland",
          "Poland",
          "Poland",
          "Poland",
          "Poland",
          "Poland",
          "Poland",
          "Poland",
          "Poland",
          "Poland",
          "Poland",
          "Poland",
          "Poland",
          "Poland",
          "Poland",
          "Poland",
          "Poland",
          "Poland",
          "Poland",
          "Poland",
          "Poland",
          "Poland",
          "Poland",
          "Poland",
          "Poland",
          "Poland",
          "Poland",
          "Poland",
          "Poland",
          "Poland",
          "Poland",
          "Poland",
          "Poland",
          "Poland",
          "Poland",
          "Poland",
          "Poland",
          "Poland",
          "Poland",
          "Poland",
          "Poland",
          "Poland",
          "Poland",
          "Poland",
          "Poland",
          "Poland",
          "Poland",
          "Poland",
          "Poland",
          "Poland",
          "Poland",
          "Poland",
          "Poland",
          "Poland",
          "Poland",
          "Poland",
          "Poland",
          "Poland",
          "Poland",
          "Poland",
          "Poland",
          "Poland",
          "Poland",
          "Poland",
          "Poland",
          "Poland",
          "Poland",
          "Poland",
          "Poland",
          "Poland",
          "Poland",
          "Poland",
          "Poland",
          "Poland",
          "Poland",
          "Poland",
          "Poland",
          "Poland",
          "Poland",
          "Poland",
          "Poland",
          "Poland",
          "Poland",
          "Poland",
          "Poland",
          "Poland",
          "Poland",
          "Poland",
          "Poland",
          "Poland",
          "Poland",
          "Poland",
          "Poland",
          "Poland",
          "Poland",
          "Poland",
          "Poland",
          "Poland",
          "Poland",
          "Poland",
          "Poland",
          "Poland",
          "Poland",
          "Poland",
          "Poland",
          "Poland",
          "Poland",
          "Poland",
          "Poland",
          "Poland",
          "Poland",
          "Poland",
          "Poland",
          "Poland",
          "Poland",
          "Poland",
          "Poland",
          "Poland",
          "Poland",
          "Poland",
          "Poland",
          "Poland",
          "Poland",
          "Poland",
          "Poland",
          "Poland",
          "Poland",
          "Poland",
          "Poland",
          "Poland",
          "Poland",
          "Poland",
          "Poland",
          "Poland",
          "Poland",
          "Poland",
          "Poland",
          "Poland",
          "Poland",
          "Poland",
          "Poland",
          "Poland",
          "Poland",
          "Poland",
          "Poland",
          "Poland",
          "Poland",
          "Poland",
          "Poland",
          "Poland",
          "Poland",
          "Poland",
          "Poland",
          "Poland",
          "Poland",
          "Poland",
          "Poland",
          "Poland",
          "Poland",
          "Poland",
          "Poland",
          "Poland",
          "Poland",
          "Poland",
          "Poland",
          "Poland",
          "Poland",
          "Poland",
          "Poland",
          "Poland",
          "Poland",
          "Poland",
          "Poland",
          "Poland",
          "Poland",
          "Poland",
          "Poland",
          "Poland",
          "Poland",
          "Poland",
          "Poland",
          "Poland",
          "Poland",
          "Poland",
          "Poland",
          "Poland",
          "Poland",
          "Poland",
          "Poland",
          "Poland",
          "Poland",
          "Poland",
          "Poland",
          "Poland",
          "Poland",
          "Poland",
          "Poland",
          "Poland",
          "Poland",
          "Poland",
          "Poland",
          "Poland",
          "Poland",
          "Poland",
          "Poland",
          "Poland",
          "Poland",
          "Poland",
          "Poland",
          "Poland",
          "Poland",
          "Poland",
          "Poland",
          "Poland"
         ],
         "x0": " ",
         "xaxis": "x",
         "y": [
          21,
          25,
          29,
          26,
          42,
          21,
          22,
          27,
          23,
          27,
          31,
          21,
          30,
          31,
          22,
          22,
          26,
          20,
          24,
          28,
          26,
          18,
          22,
          26,
          25,
          29,
          22,
          26,
          30,
          27,
          21,
          25,
          19,
          22,
          25,
          24,
          27,
          28,
          32,
          21,
          30,
          21,
          28,
          32,
          20,
          28,
          22,
          26,
          30,
          34,
          23,
          23,
          18,
          23,
          26,
          22,
          24,
          21,
          25,
          29,
          25,
          25,
          26,
          30,
          31,
          25,
          23,
          21,
          25,
          29,
          27,
          25,
          27,
          31,
          29,
          25,
          37,
          22,
          23,
          24,
          24,
          28,
          27,
          24,
          28,
          27,
          23,
          27,
          31,
          19,
          23,
          35,
          25,
          29,
          28,
          28,
          32,
          34,
          31,
          23,
          31,
          23,
          25,
          20,
          22,
          26,
          21,
          25,
          18,
          35,
          29,
          19,
          23,
          35,
          22,
          26,
          25,
          24,
          22,
          23,
          28,
          27,
          21,
          25,
          29,
          26,
          23,
          31,
          28,
          25,
          33,
          21,
          26,
          22,
          29,
          25,
          25,
          19,
          23,
          27,
          35,
          26,
          38,
          25,
          20,
          24,
          28,
          23,
          22,
          26,
          30,
          21,
          22,
          26,
          24,
          22,
          26,
          30,
          27,
          25,
          26,
          27,
          21,
          23,
          27,
          21,
          24,
          22,
          22,
          28,
          32,
          36,
          25,
          29,
          22,
          30,
          31,
          28,
          22,
          26,
          22,
          19,
          21,
          31,
          24,
          22,
          26,
          30,
          25,
          29,
          22,
          18,
          20,
          26,
          23,
          27,
          19,
          23,
          27,
          23,
          27,
          23,
          29,
          22,
          23,
          24,
          28,
          29,
          20,
          24,
          28,
          24,
          36,
          28,
          26,
          23,
          27,
          23,
          27
         ],
         "y0": " ",
         "yaxis": "y"
        },
        {
         "alignmentgroup": "True",
         "hovertemplate": "Team=%{x}<br>Age=%{y}<extra></extra>",
         "legendgroup": "Kazakhstan",
         "marker": {
          "color": "#636efa"
         },
         "name": "Kazakhstan",
         "notched": false,
         "offsetgroup": "Kazakhstan",
         "orientation": "v",
         "showlegend": true,
         "type": "box",
         "x": [
          "Kazakhstan",
          "Kazakhstan",
          "Kazakhstan",
          "Kazakhstan",
          "Kazakhstan",
          "Kazakhstan",
          "Kazakhstan",
          "Kazakhstan",
          "Kazakhstan",
          "Kazakhstan",
          "Kazakhstan",
          "Kazakhstan",
          "Kazakhstan",
          "Kazakhstan",
          "Kazakhstan",
          "Kazakhstan",
          "Kazakhstan",
          "Kazakhstan",
          "Kazakhstan",
          "Kazakhstan",
          "Kazakhstan",
          "Kazakhstan",
          "Kazakhstan",
          "Kazakhstan",
          "Kazakhstan",
          "Kazakhstan",
          "Kazakhstan",
          "Kazakhstan",
          "Kazakhstan",
          "Kazakhstan",
          "Kazakhstan",
          "Kazakhstan",
          "Kazakhstan",
          "Kazakhstan",
          "Kazakhstan",
          "Kazakhstan",
          "Kazakhstan",
          "Kazakhstan",
          "Kazakhstan",
          "Kazakhstan",
          "Kazakhstan",
          "Kazakhstan",
          "Kazakhstan",
          "Kazakhstan",
          "Kazakhstan",
          "Kazakhstan",
          "Kazakhstan",
          "Kazakhstan",
          "Kazakhstan",
          "Kazakhstan",
          "Kazakhstan",
          "Kazakhstan",
          "Kazakhstan",
          "Kazakhstan",
          "Kazakhstan",
          "Kazakhstan",
          "Kazakhstan",
          "Kazakhstan",
          "Kazakhstan",
          "Kazakhstan",
          "Kazakhstan",
          "Kazakhstan",
          "Kazakhstan",
          "Kazakhstan"
         ],
         "x0": " ",
         "xaxis": "x",
         "y": [
          20,
          27,
          17,
          27,
          35,
          25,
          30,
          22,
          26,
          30,
          20,
          19,
          35,
          21,
          29,
          28,
          28,
          20,
          29,
          26,
          29,
          29,
          37,
          27,
          35,
          31,
          27,
          27,
          27,
          31,
          16,
          24,
          23,
          25,
          33,
          26,
          25,
          30,
          27,
          30,
          22,
          30,
          18,
          29,
          37,
          27,
          28,
          24,
          30,
          35,
          27,
          24,
          24,
          27,
          20,
          27,
          34,
          24,
          30,
          26,
          22,
          30,
          23,
          30
         ],
         "y0": " ",
         "yaxis": "y"
        },
        {
         "alignmentgroup": "True",
         "hovertemplate": "Team=%{x}<br>Age=%{y}<extra></extra>",
         "legendgroup": "Switzerland",
         "marker": {
          "color": "#EF553B"
         },
         "name": "Switzerland",
         "notched": false,
         "offsetgroup": "Switzerland",
         "orientation": "v",
         "showlegend": true,
         "type": "box",
         "x": [
          "Switzerland",
          "Switzerland",
          "Switzerland",
          "Switzerland",
          "Switzerland",
          "Switzerland",
          "Switzerland",
          "Switzerland",
          "Switzerland",
          "Switzerland",
          "Switzerland",
          "Switzerland",
          "Switzerland",
          "Switzerland",
          "Switzerland",
          "Switzerland",
          "Switzerland",
          "Switzerland",
          "Switzerland",
          "Switzerland",
          "Switzerland",
          "Switzerland",
          "Switzerland",
          "Switzerland",
          "Switzerland",
          "Switzerland",
          "Switzerland",
          "Switzerland",
          "Switzerland",
          "Switzerland",
          "Switzerland",
          "Switzerland",
          "Switzerland",
          "Switzerland",
          "Switzerland",
          "Switzerland",
          "Switzerland",
          "Switzerland",
          "Switzerland",
          "Switzerland",
          "Switzerland",
          "Switzerland",
          "Switzerland",
          "Switzerland",
          "Switzerland",
          "Switzerland",
          "Switzerland",
          "Switzerland",
          "Switzerland",
          "Switzerland",
          "Switzerland",
          "Switzerland",
          "Switzerland",
          "Switzerland",
          "Switzerland",
          "Switzerland",
          "Switzerland",
          "Switzerland",
          "Switzerland",
          "Switzerland",
          "Switzerland",
          "Switzerland",
          "Switzerland",
          "Switzerland",
          "Switzerland",
          "Switzerland",
          "Switzerland",
          "Switzerland",
          "Switzerland",
          "Switzerland",
          "Switzerland",
          "Switzerland",
          "Switzerland",
          "Switzerland",
          "Switzerland",
          "Switzerland",
          "Switzerland",
          "Switzerland",
          "Switzerland",
          "Switzerland",
          "Switzerland",
          "Switzerland",
          "Switzerland",
          "Switzerland",
          "Switzerland",
          "Switzerland",
          "Switzerland",
          "Switzerland",
          "Switzerland",
          "Switzerland",
          "Switzerland",
          "Switzerland",
          "Switzerland",
          "Switzerland",
          "Switzerland",
          "Switzerland",
          "Switzerland",
          "Switzerland",
          "Switzerland",
          "Switzerland",
          "Switzerland",
          "Switzerland",
          "Switzerland",
          "Switzerland",
          "Switzerland",
          "Switzerland",
          "Switzerland",
          "Switzerland",
          "Switzerland",
          "Switzerland",
          "Switzerland",
          "Switzerland",
          "Switzerland",
          "Switzerland",
          "Switzerland",
          "Switzerland",
          "Switzerland",
          "Switzerland",
          "Switzerland",
          "Switzerland",
          "Switzerland",
          "Switzerland",
          "Switzerland",
          "Switzerland",
          "Switzerland",
          "Switzerland",
          "Switzerland",
          "Switzerland",
          "Switzerland",
          "Switzerland",
          "Switzerland",
          "Switzerland",
          "Switzerland",
          "Switzerland",
          "Switzerland",
          "Switzerland",
          "Switzerland",
          "Switzerland",
          "Switzerland",
          "Switzerland",
          "Switzerland",
          "Switzerland",
          "Switzerland",
          "Switzerland",
          "Switzerland",
          "Switzerland",
          "Switzerland",
          "Switzerland",
          "Switzerland",
          "Switzerland",
          "Switzerland",
          "Switzerland",
          "Switzerland",
          "Switzerland",
          "Switzerland",
          "Switzerland",
          "Switzerland",
          "Switzerland",
          "Switzerland",
          "Switzerland",
          "Switzerland",
          "Switzerland",
          "Switzerland",
          "Switzerland",
          "Switzerland",
          "Switzerland",
          "Switzerland",
          "Switzerland",
          "Switzerland",
          "Switzerland",
          "Switzerland",
          "Switzerland",
          "Switzerland",
          "Switzerland",
          "Switzerland",
          "Switzerland",
          "Switzerland",
          "Switzerland",
          "Switzerland",
          "Switzerland",
          "Switzerland",
          "Switzerland",
          "Switzerland",
          "Switzerland",
          "Switzerland",
          "Switzerland",
          "Switzerland",
          "Switzerland",
          "Switzerland",
          "Switzerland",
          "Switzerland",
          "Switzerland",
          "Switzerland",
          "Switzerland",
          "Switzerland",
          "Switzerland",
          "Switzerland",
          "Switzerland",
          "Switzerland",
          "Switzerland",
          "Switzerland",
          "Switzerland",
          "Switzerland",
          "Switzerland",
          "Switzerland",
          "Switzerland",
          "Switzerland",
          "Switzerland",
          "Switzerland",
          "Switzerland",
          "Switzerland",
          "Switzerland",
          "Switzerland",
          "Switzerland",
          "Switzerland",
          "Switzerland",
          "Switzerland",
          "Switzerland",
          "Switzerland",
          "Switzerland",
          "Switzerland",
          "Switzerland",
          "Switzerland",
          "Switzerland",
          "Switzerland",
          "Switzerland",
          "Switzerland",
          "Switzerland",
          "Switzerland",
          "Switzerland",
          "Switzerland",
          "Switzerland",
          "Switzerland",
          "Switzerland",
          "Switzerland",
          "Switzerland",
          "Switzerland",
          "Switzerland",
          "Switzerland",
          "Switzerland",
          "Switzerland",
          "Switzerland",
          "Switzerland",
          "Switzerland",
          "Switzerland",
          "Switzerland",
          "Switzerland",
          "Switzerland",
          "Switzerland",
          "Switzerland",
          "Switzerland",
          "Switzerland",
          "Switzerland",
          "Switzerland",
          "Switzerland",
          "Switzerland",
          "Switzerland",
          "Switzerland",
          "Switzerland",
          "Switzerland",
          "Switzerland",
          "Switzerland",
          "Switzerland",
          "Switzerland",
          "Switzerland",
          "Switzerland",
          "Switzerland",
          "Switzerland",
          "Switzerland",
          "Switzerland",
          "Switzerland",
          "Switzerland",
          "Switzerland",
          "Switzerland",
          "Switzerland",
          "Switzerland",
          "Switzerland",
          "Switzerland",
          "Switzerland",
          "Switzerland",
          "Switzerland",
          "Switzerland",
          "Switzerland",
          "Switzerland",
          "Switzerland",
          "Switzerland",
          "Switzerland",
          "Switzerland",
          "Switzerland",
          "Switzerland",
          "Switzerland",
          "Switzerland",
          "Switzerland",
          "Switzerland",
          "Switzerland",
          "Switzerland",
          "Switzerland",
          "Switzerland",
          "Switzerland",
          "Switzerland",
          "Switzerland",
          "Switzerland",
          "Switzerland",
          "Switzerland",
          "Switzerland",
          "Switzerland",
          "Switzerland",
          "Switzerland",
          "Switzerland",
          "Switzerland",
          "Switzerland",
          "Switzerland",
          "Switzerland",
          "Switzerland",
          "Switzerland",
          "Switzerland",
          "Switzerland",
          "Switzerland",
          "Switzerland",
          "Switzerland",
          "Switzerland",
          "Switzerland",
          "Switzerland",
          "Switzerland",
          "Switzerland",
          "Switzerland",
          "Switzerland",
          "Switzerland",
          "Switzerland",
          "Switzerland",
          "Switzerland",
          "Switzerland",
          "Switzerland",
          "Switzerland",
          "Switzerland",
          "Switzerland",
          "Switzerland",
          "Switzerland",
          "Switzerland",
          "Switzerland",
          "Switzerland"
         ],
         "x0": " ",
         "xaxis": "x",
         "y": [
          24,
          28,
          34,
          25,
          19,
          22,
          26,
          30,
          25,
          30,
          31,
          24,
          23,
          23,
          23,
          27,
          20,
          17,
          21,
          17,
          21,
          21,
          29,
          27,
          17,
          25,
          27,
          29,
          25,
          27,
          24,
          21,
          22,
          26,
          30,
          25,
          26,
          31,
          24,
          28,
          18,
          25,
          27,
          27,
          32,
          26,
          18,
          22,
          26,
          25,
          31,
          19,
          31,
          22,
          34,
          23,
          21,
          25,
          23,
          21,
          21,
          25,
          24,
          29,
          null,
          24,
          25,
          26,
          30,
          27,
          27,
          23,
          24,
          28,
          23,
          35,
          33,
          28,
          22,
          26,
          18,
          26,
          26,
          25,
          20,
          24,
          26,
          29,
          18,
          26,
          24,
          29,
          28,
          26,
          30,
          23,
          20,
          18,
          22,
          26,
          23,
          30,
          26,
          18,
          26,
          24,
          35,
          27,
          31,
          31,
          24,
          28,
          27,
          19,
          23,
          27,
          21,
          26,
          30,
          28,
          31,
          24,
          25,
          23,
          27,
          22,
          21,
          24,
          22,
          null,
          23,
          23,
          22,
          25,
          27,
          22,
          25,
          37,
          21,
          25,
          25,
          29,
          33,
          20,
          27,
          31,
          24,
          25,
          23,
          27,
          30,
          34,
          30,
          22,
          25,
          25,
          23,
          25,
          22,
          34,
          22,
          21,
          25,
          33,
          24,
          25,
          29,
          26,
          20,
          21,
          25,
          25,
          32,
          22,
          34,
          38,
          26,
          29,
          30,
          21,
          26,
          30,
          24,
          26,
          26,
          30,
          17,
          21,
          25,
          17,
          21,
          25,
          26,
          21,
          27,
          19,
          23,
          25,
          21,
          19,
          23,
          27,
          28,
          22,
          26,
          20,
          24,
          30,
          32,
          15,
          27,
          23,
          27,
          21,
          20,
          21,
          25,
          23,
          21,
          23,
          25,
          19,
          23,
          30,
          34,
          24,
          24,
          21,
          22,
          23,
          22,
          24,
          28,
          32,
          36,
          24,
          28,
          25,
          29,
          24,
          21,
          21,
          22,
          27,
          24,
          22,
          29,
          22,
          30,
          26,
          33,
          29,
          29,
          21,
          31,
          24,
          27,
          27,
          21,
          22,
          25,
          29,
          33,
          31,
          27,
          26,
          24,
          27,
          20,
          16,
          20,
          24,
          24,
          27,
          20,
          24,
          27,
          23,
          27,
          27,
          24,
          28,
          32,
          36,
          27,
          46,
          21,
          24,
          19,
          26,
          20,
          29,
          19,
          23,
          24,
          28,
          32,
          36,
          26,
          24,
          31,
          17,
          21,
          29,
          16,
          24,
          36,
          27,
          29,
          25,
          29,
          27,
          27,
          29,
          22,
          26,
          34,
          null,
          25,
          25,
          28,
          24,
          21,
          25,
          24,
          21,
          21,
          25,
          23,
          20,
          25,
          24,
          28,
          22,
          26,
          23,
          24,
          24,
          27,
          21,
          16
         ],
         "y0": " ",
         "yaxis": "y"
        },
        {
         "alignmentgroup": "True",
         "hovertemplate": "Team=%{x}<br>Age=%{y}<extra></extra>",
         "legendgroup": "Italy",
         "marker": {
          "color": "#00cc96"
         },
         "name": "Italy",
         "notched": false,
         "offsetgroup": "Italy",
         "orientation": "v",
         "showlegend": true,
         "type": "box",
         "x": [
          "Italy",
          "Italy",
          "Italy",
          "Italy",
          "Italy",
          "Italy",
          "Italy",
          "Italy",
          "Italy",
          "Italy",
          "Italy",
          "Italy",
          "Italy",
          "Italy",
          "Italy",
          "Italy",
          "Italy",
          "Italy",
          "Italy",
          "Italy",
          "Italy",
          "Italy",
          "Italy",
          "Italy",
          "Italy",
          "Italy",
          "Italy",
          "Italy",
          "Italy",
          "Italy",
          "Italy",
          "Italy",
          "Italy",
          "Italy",
          "Italy",
          "Italy",
          "Italy",
          "Italy",
          "Italy",
          "Italy",
          "Italy",
          "Italy",
          "Italy",
          "Italy",
          "Italy",
          "Italy",
          "Italy",
          "Italy",
          "Italy",
          "Italy",
          "Italy",
          "Italy",
          "Italy",
          "Italy",
          "Italy",
          "Italy",
          "Italy",
          "Italy",
          "Italy",
          "Italy",
          "Italy",
          "Italy",
          "Italy",
          "Italy",
          "Italy",
          "Italy",
          "Italy",
          "Italy",
          "Italy",
          "Italy",
          "Italy",
          "Italy",
          "Italy",
          "Italy",
          "Italy",
          "Italy",
          "Italy",
          "Italy",
          "Italy",
          "Italy",
          "Italy",
          "Italy",
          "Italy",
          "Italy",
          "Italy",
          "Italy",
          "Italy",
          "Italy",
          "Italy",
          "Italy",
          "Italy",
          "Italy",
          "Italy",
          "Italy",
          "Italy",
          "Italy",
          "Italy",
          "Italy",
          "Italy",
          "Italy",
          "Italy",
          "Italy",
          "Italy",
          "Italy",
          "Italy",
          "Italy",
          "Italy",
          "Italy",
          "Italy",
          "Italy",
          "Italy",
          "Italy",
          "Italy",
          "Italy",
          "Italy",
          "Italy",
          "Italy",
          "Italy",
          "Italy",
          "Italy",
          "Italy",
          "Italy",
          "Italy",
          "Italy",
          "Italy",
          "Italy",
          "Italy",
          "Italy",
          "Italy",
          "Italy",
          "Italy",
          "Italy",
          "Italy",
          "Italy",
          "Italy",
          "Italy",
          "Italy",
          "Italy",
          "Italy",
          "Italy",
          "Italy",
          "Italy",
          "Italy",
          "Italy",
          "Italy",
          "Italy",
          "Italy",
          "Italy",
          "Italy",
          "Italy",
          "Italy",
          "Italy",
          "Italy",
          "Italy",
          "Italy",
          "Italy",
          "Italy",
          "Italy",
          "Italy",
          "Italy",
          "Italy",
          "Italy",
          "Italy",
          "Italy",
          "Italy",
          "Italy",
          "Italy",
          "Italy",
          "Italy",
          "Italy",
          "Italy",
          "Italy",
          "Italy",
          "Italy",
          "Italy",
          "Italy",
          "Italy",
          "Italy",
          "Italy",
          "Italy",
          "Italy",
          "Italy",
          "Italy",
          "Italy",
          "Italy",
          "Italy",
          "Italy",
          "Italy",
          "Italy",
          "Italy",
          "Italy"
         ],
         "x0": " ",
         "xaxis": "x",
         "y": [
          23,
          31,
          19,
          18,
          21,
          24,
          26,
          23,
          26,
          28,
          21,
          29,
          24,
          32,
          29,
          23,
          28,
          15,
          29,
          17,
          24,
          32,
          24,
          19,
          27,
          23,
          27,
          31,
          24,
          22,
          19,
          27,
          35,
          22,
          28,
          30,
          30,
          25,
          18,
          30,
          38,
          27,
          30,
          32,
          34,
          23,
          19,
          20,
          24,
          20,
          28,
          16,
          26,
          28,
          32,
          33,
          17,
          30,
          29,
          20,
          21,
          27,
          26,
          28,
          30,
          22,
          34,
          31,
          21,
          26,
          27,
          35,
          27,
          20,
          25,
          29,
          25,
          22,
          25,
          20,
          30,
          27,
          27,
          19,
          20,
          26,
          22,
          26,
          20,
          22,
          26,
          29,
          20,
          25,
          27,
          34,
          32,
          19,
          23,
          35,
          29,
          31,
          25,
          29,
          25,
          24,
          31,
          23,
          31,
          22,
          27,
          29,
          21,
          35,
          28,
          32,
          23,
          22,
          30,
          20,
          26,
          24,
          27,
          31,
          25,
          21,
          28,
          24,
          36,
          30,
          38,
          31,
          20,
          28,
          26,
          28,
          32,
          31,
          35,
          34,
          28,
          21,
          31,
          35,
          26,
          24,
          30,
          27,
          26,
          21,
          25,
          34,
          26,
          30,
          20,
          32,
          30,
          27,
          22,
          27,
          24,
          27,
          23,
          15,
          34,
          36,
          30,
          25,
          21,
          31,
          22,
          26,
          28,
          32,
          40,
          23,
          29,
          22,
          30,
          27,
          21,
          32,
          31,
          29,
          25,
          27,
          31,
          25,
          32,
          20,
          25
         ],
         "y0": " ",
         "yaxis": "y"
        },
        {
         "alignmentgroup": "True",
         "hovertemplate": "Team=%{x}<br>Age=%{y}<extra></extra>",
         "legendgroup": "France",
         "marker": {
          "color": "#ab63fa"
         },
         "name": "France",
         "notched": false,
         "offsetgroup": "France",
         "orientation": "v",
         "showlegend": true,
         "type": "box",
         "x": [
          "France",
          "France",
          "France",
          "France",
          "France",
          "France",
          "France",
          "France",
          "France",
          "France",
          "France",
          "France",
          "France",
          "France",
          "France",
          "France",
          "France",
          "France",
          "France",
          "France",
          "France",
          "France",
          "France",
          "France",
          "France",
          "France",
          "France",
          "France",
          "France",
          "France",
          "France",
          "France",
          "France",
          "France",
          "France",
          "France",
          "France",
          "France",
          "France",
          "France",
          "France",
          "France",
          "France",
          "France",
          "France",
          "France",
          "France",
          "France",
          "France",
          "France",
          "France",
          "France",
          "France",
          "France",
          "France",
          "France",
          "France",
          "France",
          "France",
          "France",
          "France",
          "France",
          "France",
          "France",
          "France",
          "France",
          "France",
          "France",
          "France",
          "France",
          "France",
          "France",
          "France",
          "France",
          "France",
          "France",
          "France",
          "France",
          "France",
          "France",
          "France",
          "France",
          "France",
          "France",
          "France",
          "France",
          "France",
          "France",
          "France",
          "France",
          "France",
          "France",
          "France",
          "France",
          "France",
          "France",
          "France",
          "France",
          "France",
          "France",
          "France",
          "France",
          "France",
          "France",
          "France",
          "France",
          "France",
          "France",
          "France",
          "France",
          "France",
          "France",
          "France",
          "France",
          "France",
          "France",
          "France",
          "France",
          "France",
          "France",
          "France",
          "France",
          "France",
          "France",
          "France",
          "France",
          "France",
          "France",
          "France",
          "France",
          "France",
          "France",
          "France",
          "France",
          "France",
          "France",
          "France",
          "France",
          "France",
          "France",
          "France",
          "France",
          "France",
          "France",
          "France",
          "France",
          "France",
          "France",
          "France",
          "France",
          "France",
          "France",
          "France",
          "France",
          "France",
          "France",
          "France",
          "France",
          "France",
          "France",
          "France",
          "France",
          "France",
          "France",
          "France",
          "France",
          "France",
          "France",
          "France"
         ],
         "x0": " ",
         "xaxis": "x",
         "y": [
          20,
          25,
          29,
          25,
          27,
          30,
          22,
          21,
          21,
          27,
          23,
          21,
          23,
          27,
          31,
          26,
          22,
          20,
          30,
          35,
          26,
          30,
          32,
          19,
          21,
          25,
          31,
          35,
          21,
          23,
          27,
          31,
          17,
          26,
          21,
          38,
          25,
          29,
          32,
          35,
          34,
          24,
          18,
          23,
          null,
          null,
          28,
          30,
          32,
          36,
          40,
          40,
          28,
          23,
          25,
          29,
          31,
          21,
          25,
          32,
          22,
          28,
          30,
          23,
          28,
          33,
          19,
          null,
          28,
          null,
          21,
          22,
          19,
          21,
          25,
          29,
          24,
          26,
          32,
          22,
          20,
          24,
          32,
          22,
          26,
          23,
          21,
          29,
          29,
          31,
          33,
          18,
          28,
          32,
          19,
          24,
          23,
          27,
          33,
          22,
          24,
          26,
          22,
          23,
          26,
          20,
          30,
          20,
          19,
          23,
          22,
          28,
          23,
          27,
          30,
          29,
          27,
          24,
          30,
          22,
          26,
          30,
          34,
          36,
          22,
          26,
          28,
          32,
          36,
          25,
          27,
          31,
          22,
          26,
          32,
          27,
          21,
          25,
          27,
          19,
          24,
          28,
          32,
          26,
          30,
          32,
          22,
          22,
          26,
          22,
          26,
          28,
          30,
          27,
          22,
          23,
          24,
          21,
          31,
          24,
          28,
          30,
          19,
          24,
          30,
          29,
          31,
          22,
          26
         ],
         "y0": " ",
         "yaxis": "y"
        },
        {
         "alignmentgroup": "True",
         "hovertemplate": "Team=%{x}<br>Age=%{y}<extra></extra>",
         "legendgroup": "West Germany",
         "marker": {
          "color": "#FFA15A"
         },
         "name": "West Germany",
         "notched": false,
         "offsetgroup": "West Germany",
         "orientation": "v",
         "showlegend": true,
         "type": "box",
         "x": [
          "West Germany",
          "West Germany",
          "West Germany",
          "West Germany",
          "West Germany",
          "West Germany",
          "West Germany",
          "West Germany",
          "West Germany",
          "West Germany",
          "West Germany",
          "West Germany",
          "West Germany",
          "West Germany",
          "West Germany",
          "West Germany",
          "West Germany",
          "West Germany",
          "West Germany",
          "West Germany",
          "West Germany",
          "West Germany",
          "West Germany",
          "West Germany",
          "West Germany",
          "West Germany",
          "West Germany",
          "West Germany",
          "West Germany",
          "West Germany",
          "West Germany",
          "West Germany",
          "West Germany",
          "West Germany",
          "West Germany",
          "West Germany",
          "West Germany",
          "West Germany",
          "West Germany",
          "West Germany",
          "West Germany",
          "West Germany",
          "West Germany",
          "West Germany",
          "West Germany",
          "West Germany",
          "West Germany",
          "West Germany",
          "West Germany",
          "West Germany",
          "West Germany",
          "West Germany",
          "West Germany",
          "West Germany",
          "West Germany",
          "West Germany",
          "West Germany",
          "West Germany",
          "West Germany",
          "West Germany",
          "West Germany",
          "West Germany",
          "West Germany",
          "West Germany",
          "West Germany",
          "West Germany",
          "West Germany",
          "West Germany",
          "West Germany",
          "West Germany",
          "West Germany",
          "West Germany",
          "West Germany",
          "West Germany",
          "West Germany",
          "West Germany",
          "West Germany",
          "West Germany",
          "West Germany",
          "West Germany",
          "West Germany",
          "West Germany",
          "West Germany",
          "West Germany",
          "West Germany",
          "West Germany",
          "West Germany",
          "West Germany",
          "West Germany",
          "West Germany",
          "West Germany",
          "West Germany",
          "West Germany",
          "West Germany",
          "West Germany",
          "West Germany",
          "West Germany",
          "West Germany",
          "West Germany",
          "West Germany",
          "West Germany",
          "West Germany",
          "West Germany",
          "West Germany",
          "West Germany",
          "West Germany",
          "West Germany",
          "West Germany",
          "West Germany",
          "West Germany",
          "West Germany",
          "West Germany",
          "West Germany",
          "West Germany",
          "West Germany",
          "West Germany",
          "West Germany",
          "West Germany",
          "West Germany"
         ],
         "x0": " ",
         "xaxis": "x",
         "y": [
          22,
          20,
          24,
          28,
          27,
          21,
          21,
          29,
          21,
          30,
          21,
          26,
          22,
          23,
          22,
          25,
          21,
          25,
          28,
          23,
          25,
          29,
          20,
          24,
          28,
          26,
          23,
          21,
          25,
          21,
          23,
          21,
          25,
          24,
          22,
          26,
          26,
          24,
          28,
          20,
          24,
          28,
          32,
          22,
          24,
          27,
          27,
          35,
          25,
          29,
          24,
          32,
          23,
          23,
          27,
          23,
          27,
          21,
          25,
          33,
          22,
          26,
          25,
          30,
          21,
          22,
          24,
          22,
          20,
          24,
          27,
          21,
          25,
          29,
          30,
          24,
          28,
          32,
          21,
          25,
          29,
          25,
          29,
          20,
          26,
          30,
          24,
          30,
          29,
          20,
          24,
          28,
          28,
          32,
          29,
          29,
          25,
          29,
          27,
          23,
          27,
          31,
          22,
          21,
          25,
          29,
          27,
          19,
          23,
          27,
          30,
          28,
          22,
          23,
          19,
          27,
          26,
          30,
          30
         ],
         "y0": " ",
         "yaxis": "y"
        },
        {
         "alignmentgroup": "True",
         "hovertemplate": "Team=%{x}<br>Age=%{y}<extra></extra>",
         "legendgroup": "Yugoslavia",
         "marker": {
          "color": "#19d3f3"
         },
         "name": "Yugoslavia",
         "notched": false,
         "offsetgroup": "Yugoslavia",
         "orientation": "v",
         "showlegend": true,
         "type": "box",
         "x": [
          "Yugoslavia",
          "Yugoslavia",
          "Yugoslavia",
          "Yugoslavia",
          "Yugoslavia",
          "Yugoslavia",
          "Yugoslavia",
          "Yugoslavia",
          "Yugoslavia",
          "Yugoslavia",
          "Yugoslavia",
          "Yugoslavia",
          "Yugoslavia",
          "Yugoslavia",
          "Yugoslavia",
          "Yugoslavia",
          "Yugoslavia",
          "Yugoslavia",
          "Yugoslavia",
          "Yugoslavia",
          "Yugoslavia",
          "Yugoslavia",
          "Yugoslavia",
          "Yugoslavia",
          "Yugoslavia",
          "Yugoslavia",
          "Yugoslavia",
          "Yugoslavia",
          "Yugoslavia",
          "Yugoslavia",
          "Yugoslavia",
          "Yugoslavia",
          "Yugoslavia",
          "Yugoslavia",
          "Yugoslavia",
          "Yugoslavia",
          "Yugoslavia",
          "Yugoslavia",
          "Yugoslavia",
          "Yugoslavia",
          "Yugoslavia",
          "Yugoslavia",
          "Yugoslavia",
          "Yugoslavia",
          "Yugoslavia",
          "Yugoslavia",
          "Yugoslavia",
          "Yugoslavia",
          "Yugoslavia",
          "Yugoslavia",
          "Yugoslavia",
          "Yugoslavia",
          "Yugoslavia",
          "Yugoslavia",
          "Yugoslavia",
          "Yugoslavia",
          "Yugoslavia",
          "Yugoslavia",
          "Yugoslavia",
          "Yugoslavia",
          "Yugoslavia",
          "Yugoslavia",
          "Yugoslavia",
          "Yugoslavia",
          "Yugoslavia",
          "Yugoslavia",
          "Yugoslavia",
          "Yugoslavia",
          "Yugoslavia",
          "Yugoslavia",
          "Yugoslavia",
          "Yugoslavia",
          "Yugoslavia",
          "Yugoslavia",
          "Yugoslavia",
          "Yugoslavia",
          "Yugoslavia",
          "Yugoslavia",
          "Yugoslavia",
          "Yugoslavia",
          "Yugoslavia",
          "Yugoslavia",
          "Yugoslavia",
          "Yugoslavia",
          "Yugoslavia",
          "Yugoslavia",
          "Yugoslavia",
          "Yugoslavia",
          "Yugoslavia",
          "Yugoslavia",
          "Yugoslavia",
          "Yugoslavia",
          "Yugoslavia"
         ],
         "x0": " ",
         "xaxis": "x",
         "y": [
          35,
          23,
          23,
          27,
          21,
          25,
          19,
          22,
          20,
          25,
          22,
          26,
          30,
          19,
          23,
          27,
          18,
          26,
          19,
          21,
          29,
          23,
          27,
          35,
          21,
          25,
          24,
          25,
          28,
          19,
          23,
          27,
          21,
          25,
          29,
          20,
          22,
          27,
          30,
          23,
          27,
          22,
          26,
          22,
          21,
          25,
          21,
          25,
          20,
          28,
          27,
          23,
          23,
          22,
          26,
          20,
          24,
          27,
          19,
          23,
          25,
          22,
          26,
          30,
          22,
          26,
          30,
          23,
          24,
          18,
          22,
          26,
          22,
          26,
          20,
          28,
          23,
          24,
          23,
          23,
          27,
          21,
          25,
          29,
          25,
          22,
          26,
          30,
          29,
          27,
          19,
          23,
          21
         ],
         "y0": " ",
         "yaxis": "y"
        },
        {
         "alignmentgroup": "True",
         "hovertemplate": "Team=%{x}<br>Age=%{y}<extra></extra>",
         "legendgroup": "Soviet Union",
         "marker": {
          "color": "#FF6692"
         },
         "name": "Soviet Union",
         "notched": false,
         "offsetgroup": "Soviet Union",
         "orientation": "v",
         "showlegend": true,
         "type": "box",
         "x": [
          "Soviet Union",
          "Soviet Union",
          "Soviet Union",
          "Soviet Union",
          "Soviet Union",
          "Soviet Union",
          "Soviet Union",
          "Soviet Union",
          "Soviet Union",
          "Soviet Union",
          "Soviet Union",
          "Soviet Union",
          "Soviet Union",
          "Soviet Union",
          "Soviet Union",
          "Soviet Union",
          "Soviet Union",
          "Soviet Union",
          "Soviet Union",
          "Soviet Union",
          "Soviet Union",
          "Soviet Union",
          "Soviet Union",
          "Soviet Union",
          "Soviet Union",
          "Soviet Union",
          "Soviet Union",
          "Soviet Union",
          "Soviet Union",
          "Soviet Union",
          "Soviet Union",
          "Soviet Union",
          "Soviet Union",
          "Soviet Union",
          "Soviet Union",
          "Soviet Union",
          "Soviet Union",
          "Soviet Union",
          "Soviet Union",
          "Soviet Union",
          "Soviet Union",
          "Soviet Union",
          "Soviet Union",
          "Soviet Union",
          "Soviet Union",
          "Soviet Union",
          "Soviet Union",
          "Soviet Union",
          "Soviet Union",
          "Soviet Union",
          "Soviet Union",
          "Soviet Union",
          "Soviet Union",
          "Soviet Union",
          "Soviet Union",
          "Soviet Union",
          "Soviet Union",
          "Soviet Union",
          "Soviet Union",
          "Soviet Union",
          "Soviet Union",
          "Soviet Union",
          "Soviet Union",
          "Soviet Union",
          "Soviet Union",
          "Soviet Union",
          "Soviet Union",
          "Soviet Union",
          "Soviet Union",
          "Soviet Union",
          "Soviet Union",
          "Soviet Union",
          "Soviet Union",
          "Soviet Union",
          "Soviet Union",
          "Soviet Union",
          "Soviet Union",
          "Soviet Union",
          "Soviet Union",
          "Soviet Union",
          "Soviet Union",
          "Soviet Union",
          "Soviet Union",
          "Soviet Union",
          "Soviet Union",
          "Soviet Union",
          "Soviet Union",
          "Soviet Union",
          "Soviet Union",
          "Soviet Union",
          "Soviet Union",
          "Soviet Union",
          "Soviet Union",
          "Soviet Union",
          "Soviet Union",
          "Soviet Union",
          "Soviet Union",
          "Soviet Union",
          "Soviet Union",
          "Soviet Union",
          "Soviet Union",
          "Soviet Union",
          "Soviet Union",
          "Soviet Union",
          "Soviet Union",
          "Soviet Union",
          "Soviet Union",
          "Soviet Union",
          "Soviet Union",
          "Soviet Union",
          "Soviet Union",
          "Soviet Union",
          "Soviet Union",
          "Soviet Union",
          "Soviet Union",
          "Soviet Union",
          "Soviet Union",
          "Soviet Union",
          "Soviet Union",
          "Soviet Union",
          "Soviet Union",
          "Soviet Union",
          "Soviet Union",
          "Soviet Union",
          "Soviet Union",
          "Soviet Union",
          "Soviet Union",
          "Soviet Union",
          "Soviet Union",
          "Soviet Union",
          "Soviet Union",
          "Soviet Union",
          "Soviet Union",
          "Soviet Union",
          "Soviet Union",
          "Soviet Union",
          "Soviet Union",
          "Soviet Union",
          "Soviet Union",
          "Soviet Union",
          "Soviet Union",
          "Soviet Union",
          "Soviet Union",
          "Soviet Union",
          "Soviet Union",
          "Soviet Union",
          "Soviet Union",
          "Soviet Union",
          "Soviet Union",
          "Soviet Union",
          "Soviet Union",
          "Soviet Union",
          "Soviet Union",
          "Soviet Union",
          "Soviet Union",
          "Soviet Union",
          "Soviet Union",
          "Soviet Union",
          "Soviet Union",
          "Soviet Union",
          "Soviet Union",
          "Soviet Union",
          "Soviet Union",
          "Soviet Union",
          "Soviet Union",
          "Soviet Union",
          "Soviet Union",
          "Soviet Union"
         ],
         "x0": " ",
         "xaxis": "x",
         "y": [
          20,
          22,
          26,
          30,
          20,
          24,
          35,
          20,
          27,
          26,
          24,
          28,
          22,
          23,
          33,
          25,
          33,
          27,
          22,
          24,
          28,
          32,
          26,
          21,
          25,
          29,
          22,
          27,
          31,
          24,
          27,
          25,
          27,
          22,
          30,
          23,
          29,
          28,
          25,
          21,
          22,
          30,
          20,
          24,
          28,
          24,
          28,
          32,
          23,
          22,
          26,
          25,
          29,
          29,
          25,
          29,
          21,
          19,
          23,
          27,
          25,
          24,
          28,
          29,
          23,
          27,
          31,
          23,
          27,
          28,
          26,
          30,
          23,
          23,
          27,
          31,
          21,
          25,
          29,
          22,
          26,
          30,
          25,
          29,
          25,
          27,
          31,
          35,
          26,
          30,
          31,
          18,
          27,
          29,
          24,
          28,
          24,
          24,
          27,
          24,
          28,
          24,
          28,
          32,
          22,
          26,
          22,
          26,
          25,
          30,
          22,
          26,
          30,
          27,
          31,
          25,
          23,
          27,
          24,
          28,
          32,
          25,
          24,
          28,
          25,
          29,
          31,
          35,
          21,
          25,
          29,
          23,
          27,
          20,
          25,
          27,
          26,
          19,
          23,
          27,
          31,
          22,
          24,
          28,
          26,
          26,
          33,
          21,
          22,
          26,
          30,
          21,
          25,
          29,
          25,
          29,
          22,
          26,
          25,
          27,
          26,
          24,
          28,
          22,
          26,
          20,
          24,
          26
         ],
         "y0": " ",
         "yaxis": "y"
        },
        {
         "alignmentgroup": "True",
         "hovertemplate": "Team=%{x}<br>Age=%{y}<extra></extra>",
         "legendgroup": "Belarus",
         "marker": {
          "color": "#B6E880"
         },
         "name": "Belarus",
         "notched": false,
         "offsetgroup": "Belarus",
         "orientation": "v",
         "showlegend": true,
         "type": "box",
         "x": [
          "Belarus",
          "Belarus",
          "Belarus",
          "Belarus",
          "Belarus",
          "Belarus",
          "Belarus",
          "Belarus",
          "Belarus",
          "Belarus",
          "Belarus",
          "Belarus",
          "Belarus",
          "Belarus",
          "Belarus",
          "Belarus",
          "Belarus",
          "Belarus",
          "Belarus",
          "Belarus",
          "Belarus",
          "Belarus",
          "Belarus",
          "Belarus",
          "Belarus",
          "Belarus",
          "Belarus",
          "Belarus",
          "Belarus",
          "Belarus",
          "Belarus",
          "Belarus",
          "Belarus",
          "Belarus",
          "Belarus",
          "Belarus",
          "Belarus",
          "Belarus",
          "Belarus",
          "Belarus",
          "Belarus",
          "Belarus",
          "Belarus",
          "Belarus",
          "Belarus",
          "Belarus",
          "Belarus",
          "Belarus",
          "Belarus",
          "Belarus",
          "Belarus",
          "Belarus",
          "Belarus",
          "Belarus",
          "Belarus",
          "Belarus",
          "Belarus",
          "Belarus",
          "Belarus",
          "Belarus",
          "Belarus",
          "Belarus",
          "Belarus",
          "Belarus",
          "Belarus",
          "Belarus",
          "Belarus",
          "Belarus",
          "Belarus"
         ],
         "x0": " ",
         "xaxis": "x",
         "y": [
          30,
          29,
          33,
          26,
          30,
          38,
          27,
          31,
          23,
          25,
          24,
          30,
          20,
          24,
          32,
          29,
          25,
          28,
          32,
          23,
          20,
          28,
          30,
          22,
          30,
          29,
          31,
          35,
          26,
          23,
          30,
          38,
          33,
          37,
          27,
          23,
          27,
          35,
          31,
          37,
          27,
          29,
          33,
          33,
          27,
          31,
          35,
          31,
          23,
          27,
          35,
          27,
          33,
          27,
          31,
          21,
          23,
          27,
          22,
          28,
          32,
          25,
          23,
          33,
          24,
          28,
          32,
          22,
          26
         ],
         "y0": " ",
         "yaxis": "y"
        },
        {
         "alignmentgroup": "True",
         "hovertemplate": "Team=%{x}<br>Age=%{y}<extra></extra>",
         "legendgroup": "Czech Republic",
         "marker": {
          "color": "#FF97FF"
         },
         "name": "Czech Republic",
         "notched": false,
         "offsetgroup": "Czech Republic",
         "orientation": "v",
         "showlegend": true,
         "type": "box",
         "x": [
          "Czech Republic",
          "Czech Republic",
          "Czech Republic",
          "Czech Republic",
          "Czech Republic",
          "Czech Republic",
          "Czech Republic",
          "Czech Republic",
          "Czech Republic",
          "Czech Republic",
          "Czech Republic",
          "Czech Republic",
          "Czech Republic",
          "Czech Republic",
          "Czech Republic",
          "Czech Republic",
          "Czech Republic",
          "Czech Republic",
          "Czech Republic",
          "Czech Republic",
          "Czech Republic",
          "Czech Republic",
          "Czech Republic",
          "Czech Republic",
          "Czech Republic",
          "Czech Republic",
          "Czech Republic",
          "Czech Republic",
          "Czech Republic",
          "Czech Republic",
          "Czech Republic",
          "Czech Republic",
          "Czech Republic",
          "Czech Republic",
          "Czech Republic",
          "Czech Republic",
          "Czech Republic",
          "Czech Republic",
          "Czech Republic",
          "Czech Republic",
          "Czech Republic",
          "Czech Republic",
          "Czech Republic",
          "Czech Republic",
          "Czech Republic",
          "Czech Republic",
          "Czech Republic",
          "Czech Republic",
          "Czech Republic",
          "Czech Republic",
          "Czech Republic",
          "Czech Republic",
          "Czech Republic",
          "Czech Republic",
          "Czech Republic",
          "Czech Republic",
          "Czech Republic",
          "Czech Republic",
          "Czech Republic",
          "Czech Republic",
          "Czech Republic",
          "Czech Republic",
          "Czech Republic",
          "Czech Republic",
          "Czech Republic",
          "Czech Republic",
          "Czech Republic",
          "Czech Republic",
          "Czech Republic",
          "Czech Republic",
          "Czech Republic",
          "Czech Republic",
          "Czech Republic",
          "Czech Republic",
          "Czech Republic",
          "Czech Republic",
          "Czech Republic",
          "Czech Republic",
          "Czech Republic",
          "Czech Republic",
          "Czech Republic",
          "Czech Republic",
          "Czech Republic",
          "Czech Republic",
          "Czech Republic",
          "Czech Republic",
          "Czech Republic",
          "Czech Republic",
          "Czech Republic",
          "Czech Republic",
          "Czech Republic",
          "Czech Republic",
          "Czech Republic",
          "Czech Republic",
          "Czech Republic",
          "Czech Republic",
          "Czech Republic",
          "Czech Republic",
          "Czech Republic",
          "Czech Republic",
          "Czech Republic",
          "Czech Republic",
          "Czech Republic",
          "Czech Republic",
          "Czech Republic",
          "Czech Republic",
          "Czech Republic",
          "Czech Republic",
          "Czech Republic",
          "Czech Republic",
          "Czech Republic",
          "Czech Republic",
          "Czech Republic",
          "Czech Republic",
          "Czech Republic",
          "Czech Republic",
          "Czech Republic",
          "Czech Republic",
          "Czech Republic",
          "Czech Republic",
          "Czech Republic",
          "Czech Republic",
          "Czech Republic",
          "Czech Republic",
          "Czech Republic",
          "Czech Republic",
          "Czech Republic",
          "Czech Republic",
          "Czech Republic",
          "Czech Republic",
          "Czech Republic",
          "Czech Republic",
          "Czech Republic",
          "Czech Republic"
         ],
         "x0": " ",
         "xaxis": "x",
         "y": [
          21,
          29,
          28,
          27,
          29,
          27,
          26,
          30,
          34,
          25,
          24,
          28,
          31,
          29,
          33,
          24,
          25,
          29,
          33,
          37,
          24,
          28,
          32,
          25,
          25,
          25,
          23,
          23,
          27,
          26,
          33,
          37,
          41,
          20,
          28,
          31,
          21,
          25,
          29,
          22,
          30,
          32,
          24,
          32,
          26,
          24,
          26,
          25,
          29,
          33,
          37,
          41,
          33,
          32,
          23,
          27,
          31,
          35,
          28,
          26,
          27,
          27,
          25,
          30,
          23,
          27,
          29,
          33,
          24,
          28,
          32,
          30,
          27,
          27,
          31,
          35,
          30,
          25,
          29,
          27,
          31,
          24,
          42,
          30,
          20,
          22,
          26,
          30,
          26,
          27,
          31,
          23,
          23,
          25,
          30,
          26,
          30,
          29,
          35,
          26,
          30,
          34,
          34,
          27,
          29,
          22,
          26,
          28,
          32,
          28,
          23,
          27,
          32,
          27,
          31,
          25,
          33,
          31,
          28,
          25,
          27,
          23,
          29,
          25,
          29,
          33,
          20,
          24,
          31,
          22,
          29,
          29,
          33,
          37
         ],
         "y0": " ",
         "yaxis": "y"
        },
        {
         "alignmentgroup": "True",
         "hovertemplate": "Team=%{x}<br>Age=%{y}<extra></extra>",
         "legendgroup": "Austria",
         "marker": {
          "color": "#FECB52"
         },
         "name": "Austria",
         "notched": false,
         "offsetgroup": "Austria",
         "orientation": "v",
         "showlegend": true,
         "type": "box",
         "x": [
          "Austria",
          "Austria",
          "Austria",
          "Austria",
          "Austria",
          "Austria",
          "Austria",
          "Austria",
          "Austria",
          "Austria",
          "Austria",
          "Austria",
          "Austria",
          "Austria",
          "Austria",
          "Austria",
          "Austria",
          "Austria",
          "Austria",
          "Austria",
          "Austria",
          "Austria",
          "Austria",
          "Austria",
          "Austria",
          "Austria",
          "Austria",
          "Austria",
          "Austria",
          "Austria",
          "Austria",
          "Austria",
          "Austria",
          "Austria",
          "Austria",
          "Austria",
          "Austria",
          "Austria",
          "Austria",
          "Austria",
          "Austria",
          "Austria",
          "Austria",
          "Austria",
          "Austria",
          "Austria",
          "Austria",
          "Austria",
          "Austria",
          "Austria",
          "Austria",
          "Austria",
          "Austria",
          "Austria",
          "Austria",
          "Austria",
          "Austria",
          "Austria",
          "Austria",
          "Austria",
          "Austria",
          "Austria",
          "Austria",
          "Austria",
          "Austria",
          "Austria",
          "Austria",
          "Austria",
          "Austria",
          "Austria",
          "Austria",
          "Austria",
          "Austria",
          "Austria",
          "Austria",
          "Austria",
          "Austria",
          "Austria",
          "Austria",
          "Austria",
          "Austria",
          "Austria",
          "Austria",
          "Austria",
          "Austria",
          "Austria",
          "Austria",
          "Austria",
          "Austria",
          "Austria",
          "Austria",
          "Austria",
          "Austria",
          "Austria",
          "Austria",
          "Austria",
          "Austria",
          "Austria",
          "Austria",
          "Austria",
          "Austria",
          "Austria",
          "Austria",
          "Austria",
          "Austria",
          "Austria",
          "Austria",
          "Austria",
          "Austria",
          "Austria",
          "Austria",
          "Austria",
          "Austria",
          "Austria",
          "Austria",
          "Austria",
          "Austria",
          "Austria",
          "Austria",
          "Austria",
          "Austria",
          "Austria",
          "Austria",
          "Austria",
          "Austria",
          "Austria",
          "Austria",
          "Austria",
          "Austria",
          "Austria",
          "Austria",
          "Austria",
          "Austria",
          "Austria",
          "Austria",
          "Austria",
          "Austria",
          "Austria",
          "Austria",
          "Austria",
          "Austria",
          "Austria",
          "Austria",
          "Austria",
          "Austria",
          "Austria",
          "Austria",
          "Austria",
          "Austria",
          "Austria",
          "Austria",
          "Austria",
          "Austria",
          "Austria",
          "Austria",
          "Austria",
          "Austria",
          "Austria",
          "Austria",
          "Austria",
          "Austria",
          "Austria",
          "Austria",
          "Austria",
          "Austria",
          "Austria",
          "Austria",
          "Austria",
          "Austria",
          "Austria",
          "Austria",
          "Austria",
          "Austria",
          "Austria",
          "Austria",
          "Austria",
          "Austria",
          "Austria",
          "Austria",
          "Austria",
          "Austria",
          "Austria",
          "Austria",
          "Austria",
          "Austria",
          "Austria",
          "Austria",
          "Austria",
          "Austria",
          "Austria",
          "Austria",
          "Austria",
          "Austria",
          "Austria",
          "Austria",
          "Austria",
          "Austria",
          "Austria",
          "Austria",
          "Austria",
          "Austria",
          "Austria",
          "Austria",
          "Austria",
          "Austria",
          "Austria",
          "Austria",
          "Austria",
          "Austria",
          "Austria",
          "Austria",
          "Austria",
          "Austria",
          "Austria",
          "Austria",
          "Austria",
          "Austria",
          "Austria",
          "Austria",
          "Austria",
          "Austria",
          "Austria",
          "Austria",
          "Austria",
          "Austria",
          "Austria",
          "Austria",
          "Austria",
          "Austria",
          "Austria",
          "Austria",
          "Austria",
          "Austria",
          "Austria",
          "Austria",
          "Austria",
          "Austria",
          "Austria",
          "Austria",
          "Austria",
          "Austria"
         ],
         "x0": " ",
         "xaxis": "x",
         "y": [
          27,
          30,
          22,
          26,
          25,
          27,
          25,
          32,
          23,
          27,
          22,
          34,
          32,
          30,
          22,
          26,
          24,
          36,
          null,
          22,
          26,
          21,
          25,
          30,
          29,
          24,
          19,
          27,
          23,
          26,
          23,
          22,
          30,
          26,
          28,
          32,
          21,
          22,
          26,
          30,
          26,
          30,
          20,
          28,
          33,
          25,
          23,
          25,
          28,
          21,
          25,
          17,
          24,
          22,
          26,
          31,
          28,
          25,
          26,
          null,
          22,
          19,
          23,
          27,
          22,
          26,
          27,
          21,
          27,
          23,
          20,
          null,
          22,
          24,
          32,
          30,
          27,
          18,
          26,
          30,
          23,
          25,
          25,
          26,
          26,
          23,
          27,
          31,
          28,
          28,
          22,
          34,
          25,
          28,
          22,
          30,
          30,
          30,
          34,
          25,
          25,
          29,
          30,
          31,
          35,
          23,
          35,
          28,
          24,
          27,
          26,
          29,
          23,
          24,
          20,
          26,
          31,
          35,
          25,
          23,
          26,
          22,
          34,
          24,
          21,
          25,
          29,
          33,
          22,
          27,
          20,
          24,
          18,
          26,
          30,
          20,
          32,
          28,
          23,
          22,
          30,
          25,
          17,
          21,
          29,
          21,
          25,
          21,
          27,
          31,
          25,
          24,
          28,
          27,
          25,
          23,
          27,
          31,
          24,
          29,
          23,
          21,
          32,
          32,
          36,
          23,
          30,
          20,
          31,
          25,
          29,
          23,
          24,
          32,
          34,
          34,
          22,
          22,
          25,
          25,
          21,
          29,
          34,
          38,
          21,
          22,
          null,
          18,
          30,
          26,
          32,
          22,
          25,
          29,
          22,
          30,
          28,
          22,
          34,
          31,
          37,
          27,
          28,
          30,
          18,
          26,
          22,
          30,
          31,
          22,
          34,
          27,
          23,
          23,
          26,
          24,
          28,
          32,
          21,
          25,
          37,
          30,
          23,
          22,
          33,
          23,
          25,
          23,
          18,
          26,
          30,
          31,
          35,
          26,
          28,
          25,
          24,
          24,
          21,
          29,
          26
         ],
         "y0": " ",
         "yaxis": "y"
        },
        {
         "alignmentgroup": "True",
         "hovertemplate": "Team=%{x}<br>Age=%{y}<extra></extra>",
         "legendgroup": "Great Britain",
         "marker": {
          "color": "#636efa"
         },
         "name": "Great Britain",
         "notched": false,
         "offsetgroup": "Great Britain",
         "orientation": "v",
         "showlegend": true,
         "type": "box",
         "x": [
          "Great Britain",
          "Great Britain",
          "Great Britain",
          "Great Britain",
          "Great Britain",
          "Great Britain",
          "Great Britain",
          "Great Britain",
          "Great Britain",
          "Great Britain",
          "Great Britain",
          "Great Britain",
          "Great Britain",
          "Great Britain",
          "Great Britain",
          "Great Britain",
          "Great Britain",
          "Great Britain",
          "Great Britain",
          "Great Britain",
          "Great Britain",
          "Great Britain",
          "Great Britain",
          "Great Britain",
          "Great Britain",
          "Great Britain",
          "Great Britain",
          "Great Britain",
          "Great Britain",
          "Great Britain",
          "Great Britain",
          "Great Britain",
          "Great Britain",
          "Great Britain",
          "Great Britain",
          "Great Britain",
          "Great Britain",
          "Great Britain",
          "Great Britain",
          "Great Britain",
          "Great Britain",
          "Great Britain",
          "Great Britain",
          "Great Britain",
          "Great Britain",
          "Great Britain",
          "Great Britain",
          "Great Britain"
         ],
         "x0": " ",
         "xaxis": "x",
         "y": [
          22,
          25,
          26,
          29,
          25,
          23,
          24,
          33,
          37,
          28,
          32,
          20,
          32,
          33,
          28,
          31,
          36,
          24,
          21,
          33,
          27,
          38,
          18,
          30,
          26,
          29,
          33,
          29,
          28,
          23,
          28,
          18,
          23,
          24,
          25,
          27,
          17,
          31,
          35,
          27,
          22,
          21,
          23,
          35,
          19,
          35,
          24,
          26
         ],
         "y0": " ",
         "yaxis": "y"
        },
        {
         "alignmentgroup": "True",
         "hovertemplate": "Team=%{x}<br>Age=%{y}<extra></extra>",
         "legendgroup": "Romania",
         "marker": {
          "color": "#EF553B"
         },
         "name": "Romania",
         "notched": false,
         "offsetgroup": "Romania",
         "orientation": "v",
         "showlegend": true,
         "type": "box",
         "x": [
          "Romania",
          "Romania",
          "Romania",
          "Romania",
          "Romania",
          "Romania",
          "Romania",
          "Romania",
          "Romania",
          "Romania",
          "Romania",
          "Romania",
          "Romania",
          "Romania",
          "Romania",
          "Romania",
          "Romania",
          "Romania",
          "Romania",
          "Romania",
          "Romania",
          "Romania",
          "Romania",
          "Romania",
          "Romania",
          "Romania",
          "Romania",
          "Romania",
          "Romania",
          "Romania",
          "Romania",
          "Romania",
          "Romania",
          "Romania",
          "Romania",
          "Romania",
          "Romania",
          "Romania",
          "Romania",
          "Romania",
          "Romania",
          "Romania",
          "Romania",
          "Romania",
          "Romania",
          "Romania",
          "Romania",
          "Romania",
          "Romania",
          "Romania",
          "Romania",
          "Romania",
          "Romania",
          "Romania",
          "Romania",
          "Romania",
          "Romania",
          "Romania",
          "Romania",
          "Romania",
          "Romania",
          "Romania",
          "Romania",
          "Romania",
          "Romania",
          "Romania",
          "Romania",
          "Romania",
          "Romania",
          "Romania",
          "Romania",
          "Romania",
          "Romania"
         ],
         "x0": " ",
         "xaxis": "x",
         "y": [
          24,
          20,
          24,
          21,
          23,
          27,
          23,
          22,
          24,
          26,
          22,
          26,
          21,
          23,
          27,
          22,
          31,
          35,
          22,
          26,
          31,
          20,
          24,
          20,
          24,
          20,
          28,
          18,
          22,
          25,
          21,
          21,
          28,
          32,
          25,
          22,
          26,
          18,
          21,
          19,
          23,
          22,
          26,
          30,
          22,
          24,
          23,
          27,
          25,
          23,
          19,
          23,
          31,
          22,
          26,
          19,
          23,
          null,
          24,
          23,
          19,
          23,
          27,
          23,
          27,
          20,
          24,
          22,
          26,
          24,
          28,
          36,
          22
         ],
         "y0": " ",
         "yaxis": "y"
        },
        {
         "alignmentgroup": "True",
         "hovertemplate": "Team=%{x}<br>Age=%{y}<extra></extra>",
         "legendgroup": "Latvia",
         "marker": {
          "color": "#00cc96"
         },
         "name": "Latvia",
         "notched": false,
         "offsetgroup": "Latvia",
         "orientation": "v",
         "showlegend": true,
         "type": "box",
         "x": [
          "Latvia",
          "Latvia",
          "Latvia",
          "Latvia",
          "Latvia",
          "Latvia",
          "Latvia",
          "Latvia",
          "Latvia",
          "Latvia",
          "Latvia",
          "Latvia",
          "Latvia",
          "Latvia",
          "Latvia",
          "Latvia",
          "Latvia",
          "Latvia",
          "Latvia",
          "Latvia",
          "Latvia",
          "Latvia",
          "Latvia",
          "Latvia",
          "Latvia",
          "Latvia",
          "Latvia",
          "Latvia",
          "Latvia",
          "Latvia",
          "Latvia",
          "Latvia",
          "Latvia",
          "Latvia",
          "Latvia",
          "Latvia",
          "Latvia",
          "Latvia",
          "Latvia",
          "Latvia",
          "Latvia",
          "Latvia",
          "Latvia",
          "Latvia",
          "Latvia",
          "Latvia",
          "Latvia",
          "Latvia",
          "Latvia",
          "Latvia",
          "Latvia",
          "Latvia",
          "Latvia",
          "Latvia",
          "Latvia",
          "Latvia",
          "Latvia",
          "Latvia",
          "Latvia",
          "Latvia",
          "Latvia",
          "Latvia",
          "Latvia",
          "Latvia",
          "Latvia",
          "Latvia",
          "Latvia",
          "Latvia",
          "Latvia",
          "Latvia",
          "Latvia",
          "Latvia",
          "Latvia",
          "Latvia",
          "Latvia",
          "Latvia",
          "Latvia",
          "Latvia",
          "Latvia",
          "Latvia",
          "Latvia",
          "Latvia",
          "Latvia",
          "Latvia",
          "Latvia",
          "Latvia",
          "Latvia",
          "Latvia",
          "Latvia",
          "Latvia",
          "Latvia",
          "Latvia",
          "Latvia",
          "Latvia",
          "Latvia",
          "Latvia",
          "Latvia",
          "Latvia",
          "Latvia",
          "Latvia",
          "Latvia"
         ],
         "x0": " ",
         "xaxis": "x",
         "y": [
          30,
          34,
          26,
          25,
          23,
          27,
          18,
          38,
          22,
          26,
          30,
          22,
          28,
          30,
          34,
          25,
          29,
          33,
          25,
          29,
          21,
          25,
          32,
          22,
          24,
          20,
          21,
          31,
          23,
          35,
          39,
          23,
          30,
          23,
          27,
          22,
          34,
          25,
          22,
          22,
          27,
          31,
          35,
          26,
          25,
          25,
          29,
          33,
          39,
          22,
          32,
          36,
          25,
          29,
          33,
          29,
          33,
          41,
          24,
          29,
          33,
          24,
          22,
          23,
          24,
          28,
          32,
          25,
          29,
          33,
          21,
          25,
          29,
          27,
          31,
          35,
          22,
          24,
          29,
          33,
          29,
          28,
          27,
          31,
          35,
          28,
          23,
          27,
          28,
          32,
          31,
          31,
          35,
          25,
          29,
          29,
          33,
          37,
          17,
          33,
          27
         ],
         "y0": " ",
         "yaxis": "y"
        },
        {
         "alignmentgroup": "True",
         "hovertemplate": "Team=%{x}<br>Age=%{y}<extra></extra>",
         "legendgroup": "Bulgaria",
         "marker": {
          "color": "#ab63fa"
         },
         "name": "Bulgaria",
         "notched": false,
         "offsetgroup": "Bulgaria",
         "orientation": "v",
         "showlegend": true,
         "type": "box",
         "x": [
          "Bulgaria",
          "Bulgaria",
          "Bulgaria",
          "Bulgaria",
          "Bulgaria",
          "Bulgaria",
          "Bulgaria",
          "Bulgaria",
          "Bulgaria",
          "Bulgaria",
          "Bulgaria",
          "Bulgaria",
          "Bulgaria",
          "Bulgaria",
          "Bulgaria",
          "Bulgaria",
          "Bulgaria",
          "Bulgaria"
         ],
         "x0": " ",
         "xaxis": "x",
         "y": [
          18,
          29,
          32,
          28,
          30,
          33,
          30,
          29,
          31,
          29,
          17,
          40,
          27,
          29,
          18,
          27,
          18,
          27
         ],
         "y0": " ",
         "yaxis": "y"
        },
        {
         "alignmentgroup": "True",
         "hovertemplate": "Team=%{x}<br>Age=%{y}<extra></extra>",
         "legendgroup": "Czechoslovakia",
         "marker": {
          "color": "#FFA15A"
         },
         "name": "Czechoslovakia",
         "notched": false,
         "offsetgroup": "Czechoslovakia",
         "orientation": "v",
         "showlegend": true,
         "type": "box",
         "x": [
          "Czechoslovakia",
          "Czechoslovakia",
          "Czechoslovakia",
          "Czechoslovakia",
          "Czechoslovakia",
          "Czechoslovakia",
          "Czechoslovakia",
          "Czechoslovakia",
          "Czechoslovakia",
          "Czechoslovakia",
          "Czechoslovakia",
          "Czechoslovakia",
          "Czechoslovakia",
          "Czechoslovakia",
          "Czechoslovakia",
          "Czechoslovakia",
          "Czechoslovakia",
          "Czechoslovakia",
          "Czechoslovakia",
          "Czechoslovakia",
          "Czechoslovakia",
          "Czechoslovakia",
          "Czechoslovakia",
          "Czechoslovakia",
          "Czechoslovakia",
          "Czechoslovakia",
          "Czechoslovakia",
          "Czechoslovakia",
          "Czechoslovakia",
          "Czechoslovakia",
          "Czechoslovakia",
          "Czechoslovakia",
          "Czechoslovakia",
          "Czechoslovakia",
          "Czechoslovakia",
          "Czechoslovakia",
          "Czechoslovakia",
          "Czechoslovakia",
          "Czechoslovakia",
          "Czechoslovakia",
          "Czechoslovakia",
          "Czechoslovakia",
          "Czechoslovakia",
          "Czechoslovakia",
          "Czechoslovakia",
          "Czechoslovakia",
          "Czechoslovakia",
          "Czechoslovakia",
          "Czechoslovakia",
          "Czechoslovakia",
          "Czechoslovakia",
          "Czechoslovakia",
          "Czechoslovakia",
          "Czechoslovakia",
          "Czechoslovakia",
          "Czechoslovakia",
          "Czechoslovakia",
          "Czechoslovakia",
          "Czechoslovakia",
          "Czechoslovakia",
          "Czechoslovakia",
          "Czechoslovakia",
          "Czechoslovakia",
          "Czechoslovakia",
          "Czechoslovakia",
          "Czechoslovakia",
          "Czechoslovakia",
          "Czechoslovakia",
          "Czechoslovakia",
          "Czechoslovakia",
          "Czechoslovakia",
          "Czechoslovakia",
          "Czechoslovakia",
          "Czechoslovakia",
          "Czechoslovakia",
          "Czechoslovakia",
          "Czechoslovakia",
          "Czechoslovakia",
          "Czechoslovakia",
          "Czechoslovakia",
          "Czechoslovakia",
          "Czechoslovakia",
          "Czechoslovakia",
          "Czechoslovakia",
          "Czechoslovakia",
          "Czechoslovakia",
          "Czechoslovakia",
          "Czechoslovakia",
          "Czechoslovakia",
          "Czechoslovakia",
          "Czechoslovakia",
          "Czechoslovakia",
          "Czechoslovakia",
          "Czechoslovakia",
          "Czechoslovakia",
          "Czechoslovakia",
          "Czechoslovakia",
          "Czechoslovakia",
          "Czechoslovakia",
          "Czechoslovakia",
          "Czechoslovakia",
          "Czechoslovakia",
          "Czechoslovakia",
          "Czechoslovakia",
          "Czechoslovakia",
          "Czechoslovakia",
          "Czechoslovakia",
          "Czechoslovakia",
          "Czechoslovakia",
          "Czechoslovakia",
          "Czechoslovakia",
          "Czechoslovakia",
          "Czechoslovakia",
          "Czechoslovakia",
          "Czechoslovakia",
          "Czechoslovakia",
          "Czechoslovakia",
          "Czechoslovakia",
          "Czechoslovakia",
          "Czechoslovakia",
          "Czechoslovakia",
          "Czechoslovakia",
          "Czechoslovakia",
          "Czechoslovakia",
          "Czechoslovakia",
          "Czechoslovakia",
          "Czechoslovakia",
          "Czechoslovakia",
          "Czechoslovakia",
          "Czechoslovakia",
          "Czechoslovakia",
          "Czechoslovakia",
          "Czechoslovakia",
          "Czechoslovakia",
          "Czechoslovakia",
          "Czechoslovakia",
          "Czechoslovakia",
          "Czechoslovakia",
          "Czechoslovakia",
          "Czechoslovakia",
          "Czechoslovakia",
          "Czechoslovakia",
          "Czechoslovakia",
          "Czechoslovakia",
          "Czechoslovakia",
          "Czechoslovakia",
          "Czechoslovakia",
          "Czechoslovakia",
          "Czechoslovakia",
          "Czechoslovakia",
          "Czechoslovakia",
          "Czechoslovakia",
          "Czechoslovakia",
          "Czechoslovakia",
          "Czechoslovakia",
          "Czechoslovakia",
          "Czechoslovakia",
          "Czechoslovakia",
          "Czechoslovakia",
          "Czechoslovakia",
          "Czechoslovakia",
          "Czechoslovakia",
          "Czechoslovakia",
          "Czechoslovakia",
          "Czechoslovakia",
          "Czechoslovakia",
          "Czechoslovakia",
          "Czechoslovakia",
          "Czechoslovakia",
          "Czechoslovakia",
          "Czechoslovakia",
          "Czechoslovakia",
          "Czechoslovakia",
          "Czechoslovakia",
          "Czechoslovakia",
          "Czechoslovakia",
          "Czechoslovakia",
          "Czechoslovakia",
          "Czechoslovakia",
          "Czechoslovakia",
          "Czechoslovakia",
          "Czechoslovakia",
          "Czechoslovakia",
          "Czechoslovakia",
          "Czechoslovakia",
          "Czechoslovakia",
          "Czechoslovakia",
          "Czechoslovakia",
          "Czechoslovakia",
          "Czechoslovakia",
          "Czechoslovakia",
          "Czechoslovakia",
          "Czechoslovakia",
          "Czechoslovakia",
          "Czechoslovakia",
          "Czechoslovakia",
          "Czechoslovakia",
          "Czechoslovakia",
          "Czechoslovakia",
          "Czechoslovakia",
          "Czechoslovakia",
          "Czechoslovakia",
          "Czechoslovakia",
          "Czechoslovakia",
          "Czechoslovakia",
          "Czechoslovakia",
          "Czechoslovakia",
          "Czechoslovakia",
          "Czechoslovakia",
          "Czechoslovakia",
          "Czechoslovakia",
          "Czechoslovakia",
          "Czechoslovakia",
          "Czechoslovakia",
          "Czechoslovakia",
          "Czechoslovakia",
          "Czechoslovakia",
          "Czechoslovakia",
          "Czechoslovakia",
          "Czechoslovakia",
          "Czechoslovakia",
          "Czechoslovakia",
          "Czechoslovakia",
          "Czechoslovakia",
          "Czechoslovakia",
          "Czechoslovakia",
          "Czechoslovakia",
          "Czechoslovakia",
          "Czechoslovakia",
          "Czechoslovakia",
          "Czechoslovakia",
          "Czechoslovakia",
          "Czechoslovakia",
          "Czechoslovakia",
          "Czechoslovakia",
          "Czechoslovakia",
          "Czechoslovakia",
          "Czechoslovakia",
          "Czechoslovakia",
          "Czechoslovakia",
          "Czechoslovakia",
          "Czechoslovakia",
          "Czechoslovakia",
          "Czechoslovakia",
          "Czechoslovakia",
          "Czechoslovakia",
          "Czechoslovakia",
          "Czechoslovakia",
          "Czechoslovakia",
          "Czechoslovakia",
          "Czechoslovakia",
          "Czechoslovakia",
          "Czechoslovakia",
          "Czechoslovakia",
          "Czechoslovakia",
          "Czechoslovakia",
          "Czechoslovakia",
          "Czechoslovakia",
          "Czechoslovakia",
          "Czechoslovakia",
          "Czechoslovakia",
          "Czechoslovakia",
          "Czechoslovakia",
          "Czechoslovakia",
          "Czechoslovakia",
          "Czechoslovakia"
         ],
         "x0": " ",
         "xaxis": "x",
         "y": [
          29,
          22,
          26,
          26,
          30,
          23,
          21,
          25,
          29,
          21,
          27,
          25,
          27,
          26,
          30,
          19,
          26,
          30,
          20,
          24,
          28,
          32,
          25,
          25,
          30,
          20,
          24,
          28,
          32,
          27,
          22,
          26,
          30,
          23,
          30,
          25,
          22,
          26,
          30,
          26,
          25,
          24,
          26,
          26,
          25,
          24,
          28,
          21,
          25,
          29,
          27,
          31,
          26,
          38,
          37,
          20,
          22,
          26,
          30,
          25,
          26,
          24,
          28,
          32,
          22,
          23,
          34,
          24,
          23,
          25,
          23,
          22,
          26,
          27,
          31,
          29,
          19,
          23,
          27,
          31,
          24,
          22,
          26,
          30,
          21,
          25,
          26,
          22,
          26,
          30,
          22,
          30,
          31,
          29,
          29,
          24,
          20,
          24,
          28,
          32,
          20,
          21,
          28,
          21,
          25,
          26,
          25,
          23,
          27,
          25,
          22,
          26,
          33,
          20,
          21,
          25,
          24,
          26,
          22,
          27,
          31,
          24,
          28,
          21,
          27,
          24,
          28,
          21,
          21,
          23,
          27,
          31,
          null,
          22,
          24,
          28,
          24,
          25,
          29,
          21,
          25,
          29,
          20,
          24,
          32,
          22,
          26,
          30,
          27,
          25,
          31,
          21,
          25,
          29,
          24,
          23,
          27,
          26,
          25,
          29,
          25,
          29,
          24,
          28,
          21,
          28,
          31,
          35,
          21,
          25,
          23,
          27,
          25,
          33,
          41,
          24,
          21,
          23,
          27,
          31,
          22,
          26,
          24,
          28,
          30,
          24,
          21,
          26,
          34,
          25,
          21,
          26,
          37,
          28,
          29,
          23,
          27,
          25,
          24,
          20,
          24,
          23,
          27,
          29,
          25,
          22,
          26,
          24,
          28,
          30,
          20,
          22,
          25,
          28,
          32,
          36,
          26,
          20,
          22,
          26,
          27,
          23,
          25,
          22,
          24,
          30,
          24,
          26,
          23,
          23,
          33,
          27,
          25,
          26,
          23,
          26,
          30,
          25,
          26,
          34,
          21,
          33,
          29,
          23,
          22,
          26,
          24,
          28,
          27,
          36,
          39,
          24,
          28,
          25,
          24,
          23,
          26,
          21,
          26,
          25,
          31,
          21,
          24,
          32,
          23,
          27
         ],
         "y0": " ",
         "yaxis": "y"
        },
        {
         "alignmentgroup": "True",
         "hovertemplate": "Team=%{x}<br>Age=%{y}<extra></extra>",
         "legendgroup": "Hungary",
         "marker": {
          "color": "#19d3f3"
         },
         "name": "Hungary",
         "notched": false,
         "offsetgroup": "Hungary",
         "orientation": "v",
         "showlegend": true,
         "type": "box",
         "x": [
          "Hungary",
          "Hungary",
          "Hungary",
          "Hungary",
          "Hungary",
          "Hungary",
          "Hungary",
          "Hungary",
          "Hungary",
          "Hungary",
          "Hungary",
          "Hungary",
          "Hungary",
          "Hungary",
          "Hungary",
          "Hungary",
          "Hungary",
          "Hungary",
          "Hungary",
          "Hungary",
          "Hungary",
          "Hungary",
          "Hungary",
          "Hungary",
          "Hungary",
          "Hungary",
          "Hungary",
          "Hungary",
          "Hungary",
          "Hungary",
          "Hungary",
          "Hungary",
          "Hungary",
          "Hungary",
          "Hungary",
          "Hungary",
          "Hungary",
          "Hungary",
          "Hungary",
          "Hungary"
         ],
         "x0": " ",
         "xaxis": "x",
         "y": [
          28,
          22,
          20,
          28,
          null,
          25,
          18,
          24,
          20,
          25,
          32,
          20,
          20,
          20,
          29,
          22,
          25,
          25,
          23,
          24,
          null,
          28,
          null,
          31,
          23,
          20,
          28,
          20,
          27,
          48,
          18,
          25,
          22,
          20,
          22,
          20,
          20,
          null,
          22,
          24
         ],
         "y0": " ",
         "yaxis": "y"
        },
        {
         "alignmentgroup": "True",
         "hovertemplate": "Team=%{x}<br>Age=%{y}<extra></extra>",
         "legendgroup": "Slovakia",
         "marker": {
          "color": "#FF6692"
         },
         "name": "Slovakia",
         "notched": false,
         "offsetgroup": "Slovakia",
         "orientation": "v",
         "showlegend": true,
         "type": "box",
         "x": [
          "Slovakia",
          "Slovakia",
          "Slovakia",
          "Slovakia",
          "Slovakia",
          "Slovakia",
          "Slovakia",
          "Slovakia",
          "Slovakia",
          "Slovakia",
          "Slovakia",
          "Slovakia",
          "Slovakia",
          "Slovakia",
          "Slovakia",
          "Slovakia",
          "Slovakia",
          "Slovakia",
          "Slovakia",
          "Slovakia",
          "Slovakia",
          "Slovakia",
          "Slovakia",
          "Slovakia",
          "Slovakia",
          "Slovakia",
          "Slovakia",
          "Slovakia",
          "Slovakia",
          "Slovakia",
          "Slovakia",
          "Slovakia",
          "Slovakia",
          "Slovakia",
          "Slovakia",
          "Slovakia",
          "Slovakia",
          "Slovakia",
          "Slovakia",
          "Slovakia",
          "Slovakia",
          "Slovakia",
          "Slovakia",
          "Slovakia",
          "Slovakia",
          "Slovakia",
          "Slovakia",
          "Slovakia",
          "Slovakia",
          "Slovakia",
          "Slovakia",
          "Slovakia",
          "Slovakia",
          "Slovakia",
          "Slovakia",
          "Slovakia",
          "Slovakia",
          "Slovakia",
          "Slovakia",
          "Slovakia",
          "Slovakia",
          "Slovakia",
          "Slovakia",
          "Slovakia",
          "Slovakia",
          "Slovakia",
          "Slovakia",
          "Slovakia",
          "Slovakia",
          "Slovakia",
          "Slovakia",
          "Slovakia",
          "Slovakia",
          "Slovakia",
          "Slovakia",
          "Slovakia",
          "Slovakia",
          "Slovakia",
          "Slovakia",
          "Slovakia",
          "Slovakia",
          "Slovakia",
          "Slovakia",
          "Slovakia",
          "Slovakia",
          "Slovakia",
          "Slovakia",
          "Slovakia",
          "Slovakia",
          "Slovakia",
          "Slovakia",
          "Slovakia",
          "Slovakia",
          "Slovakia",
          "Slovakia",
          "Slovakia",
          "Slovakia",
          "Slovakia",
          "Slovakia",
          "Slovakia",
          "Slovakia",
          "Slovakia",
          "Slovakia",
          "Slovakia",
          "Slovakia",
          "Slovakia",
          "Slovakia",
          "Slovakia",
          "Slovakia",
          "Slovakia",
          "Slovakia",
          "Slovakia",
          "Slovakia",
          "Slovakia",
          "Slovakia",
          "Slovakia",
          "Slovakia",
          "Slovakia",
          "Slovakia",
          "Slovakia",
          "Slovakia",
          "Slovakia",
          "Slovakia",
          "Slovakia",
          "Slovakia",
          "Slovakia",
          "Slovakia",
          "Slovakia",
          "Slovakia",
          "Slovakia",
          "Slovakia",
          "Slovakia",
          "Slovakia",
          "Slovakia",
          "Slovakia",
          "Slovakia",
          "Slovakia",
          "Slovakia",
          "Slovakia",
          "Slovakia",
          "Slovakia",
          "Slovakia",
          "Slovakia",
          "Slovakia",
          "Slovakia",
          "Slovakia",
          "Slovakia",
          "Slovakia",
          "Slovakia",
          "Slovakia",
          "Slovakia",
          "Slovakia",
          "Slovakia",
          "Slovakia",
          "Slovakia"
         ],
         "x0": " ",
         "xaxis": "x",
         "y": [
          32,
          26,
          29,
          24,
          28,
          25,
          29,
          33,
          32,
          30,
          38,
          18,
          23,
          31,
          24,
          26,
          28,
          32,
          36,
          29,
          28,
          22,
          17,
          25,
          29,
          27,
          31,
          35,
          30,
          26,
          27,
          23,
          27,
          20,
          24,
          28,
          24,
          32,
          36,
          28,
          30,
          34,
          19,
          24,
          28,
          32,
          23,
          27,
          31,
          35,
          23,
          27,
          25,
          22,
          26,
          30,
          21,
          22,
          29,
          33,
          26,
          21,
          26,
          30,
          23,
          27,
          28,
          32,
          25,
          32,
          22,
          26,
          24,
          25,
          29,
          30,
          25,
          21,
          23,
          27,
          20,
          24,
          28,
          28,
          31,
          28,
          29,
          29,
          24,
          25,
          28,
          28,
          21,
          29,
          37,
          22,
          26,
          30,
          24,
          26,
          20,
          24,
          28,
          28,
          25,
          29,
          21,
          24,
          23,
          23,
          29,
          33,
          31,
          30,
          30,
          19,
          27,
          31,
          35,
          30,
          23,
          27,
          25,
          29,
          23,
          22,
          22,
          33,
          32,
          37,
          31,
          35,
          29,
          33,
          37,
          29,
          24,
          32,
          23,
          25,
          29,
          23,
          21,
          30,
          23,
          27,
          20,
          21,
          25,
          29,
          33,
          32,
          26,
          30,
          34
         ],
         "y0": " ",
         "yaxis": "y"
        },
        {
         "alignmentgroup": "True",
         "hovertemplate": "Team=%{x}<br>Age=%{y}<extra></extra>",
         "legendgroup": "Belgium",
         "marker": {
          "color": "#B6E880"
         },
         "name": "Belgium",
         "notched": false,
         "offsetgroup": "Belgium",
         "orientation": "v",
         "showlegend": true,
         "type": "box",
         "x": [
          "Belgium",
          "Belgium",
          "Belgium",
          "Belgium",
          "Belgium",
          "Belgium",
          "Belgium",
          "Belgium",
          "Belgium",
          "Belgium",
          "Belgium",
          "Belgium",
          "Belgium",
          "Belgium",
          "Belgium",
          "Belgium",
          "Belgium",
          "Belgium",
          "Belgium",
          "Belgium",
          "Belgium",
          "Belgium",
          "Belgium",
          "Belgium",
          "Belgium",
          "Belgium",
          "Belgium",
          "Belgium",
          "Belgium",
          "Belgium",
          "Belgium",
          "Belgium",
          "Belgium",
          "Belgium",
          "Belgium",
          "Belgium",
          "Belgium",
          "Belgium",
          "Belgium",
          "Belgium"
         ],
         "x0": " ",
         "xaxis": "x",
         "y": [
          25,
          35,
          null,
          23,
          30,
          30,
          null,
          null,
          21,
          33,
          null,
          19,
          23,
          null,
          28,
          null,
          24,
          32,
          24,
          31,
          23,
          null,
          null,
          18,
          18,
          30,
          null,
          19,
          22,
          34,
          null,
          22,
          21,
          29,
          21,
          25,
          null,
          null,
          29,
          30
         ],
         "y0": " ",
         "yaxis": "y"
        },
        {
         "alignmentgroup": "True",
         "hovertemplate": "Team=%{x}<br>Age=%{y}<extra></extra>",
         "legendgroup": "Unified Team",
         "marker": {
          "color": "#FF97FF"
         },
         "name": "Unified Team",
         "notched": false,
         "offsetgroup": "Unified Team",
         "orientation": "v",
         "showlegend": true,
         "type": "box",
         "x": [
          "Unified Team",
          "Unified Team",
          "Unified Team",
          "Unified Team",
          "Unified Team",
          "Unified Team",
          "Unified Team",
          "Unified Team",
          "Unified Team",
          "Unified Team",
          "Unified Team",
          "Unified Team",
          "Unified Team",
          "Unified Team",
          "Unified Team",
          "Unified Team",
          "Unified Team",
          "Unified Team",
          "Unified Team",
          "Unified Team",
          "Unified Team",
          "Unified Team"
         ],
         "x0": " ",
         "xaxis": "x",
         "y": [
          24,
          28,
          27,
          21,
          31,
          24,
          19,
          27,
          30,
          21,
          18,
          25,
          23,
          26,
          23,
          25,
          26,
          22,
          20,
          21,
          19,
          21
         ],
         "y0": " ",
         "yaxis": "y"
        },
        {
         "alignmentgroup": "True",
         "hovertemplate": "Team=%{x}<br>Age=%{y}<extra></extra>",
         "legendgroup": "Netherlands",
         "marker": {
          "color": "#FECB52"
         },
         "name": "Netherlands",
         "notched": false,
         "offsetgroup": "Netherlands",
         "orientation": "v",
         "showlegend": true,
         "type": "box",
         "x": [
          "Netherlands",
          "Netherlands",
          "Netherlands",
          "Netherlands",
          "Netherlands",
          "Netherlands",
          "Netherlands",
          "Netherlands",
          "Netherlands",
          "Netherlands",
          "Netherlands",
          "Netherlands",
          "Netherlands",
          "Netherlands",
          "Netherlands",
          "Netherlands",
          "Netherlands",
          "Netherlands",
          "Netherlands",
          "Netherlands"
         ],
         "x0": " ",
         "xaxis": "x",
         "y": [
          22,
          25,
          24,
          28,
          26,
          26,
          20,
          26,
          27,
          22,
          23,
          26,
          27,
          32,
          22,
          24,
          21,
          20,
          26,
          28
         ],
         "y0": " ",
         "yaxis": "y"
        },
        {
         "alignmentgroup": "True",
         "hovertemplate": "Team=%{x}<br>Age=%{y}<extra></extra>",
         "legendgroup": "Ukraine",
         "marker": {
          "color": "#636efa"
         },
         "name": "Ukraine",
         "notched": false,
         "offsetgroup": "Ukraine",
         "orientation": "v",
         "showlegend": true,
         "type": "box",
         "x": [
          "Ukraine",
          "Ukraine",
          "Ukraine",
          "Ukraine",
          "Ukraine",
          "Ukraine",
          "Ukraine",
          "Ukraine",
          "Ukraine",
          "Ukraine",
          "Ukraine",
          "Ukraine",
          "Ukraine",
          "Ukraine",
          "Ukraine",
          "Ukraine",
          "Ukraine",
          "Ukraine",
          "Ukraine",
          "Ukraine",
          "Ukraine",
          "Ukraine"
         ],
         "x0": " ",
         "xaxis": "x",
         "y": [
          30,
          33,
          23,
          29,
          25,
          32,
          26,
          31,
          30,
          21,
          25,
          27,
          23,
          27,
          38,
          27,
          31,
          26,
          22,
          30,
          23,
          27
         ],
         "y0": " ",
         "yaxis": "y"
        },
        {
         "alignmentgroup": "True",
         "hovertemplate": "Team=%{x}<br>Age=%{y}<extra></extra>",
         "legendgroup": "East Germany",
         "marker": {
          "color": "#EF553B"
         },
         "name": "East Germany",
         "notched": false,
         "offsetgroup": "East Germany",
         "orientation": "v",
         "showlegend": true,
         "type": "box",
         "x": [
          "East Germany",
          "East Germany",
          "East Germany",
          "East Germany",
          "East Germany",
          "East Germany",
          "East Germany",
          "East Germany",
          "East Germany",
          "East Germany",
          "East Germany",
          "East Germany",
          "East Germany",
          "East Germany",
          "East Germany",
          "East Germany",
          "East Germany",
          "East Germany"
         ],
         "x0": " ",
         "xaxis": "x",
         "y": [
          31,
          26,
          25,
          28,
          23,
          18,
          23,
          23,
          25,
          23,
          18,
          26,
          26,
          23,
          26,
          23,
          28,
          28
         ],
         "y0": " ",
         "yaxis": "y"
        },
        {
         "alignmentgroup": "True",
         "hovertemplate": "Team=%{x}<br>Age=%{y}<extra></extra>",
         "legendgroup": "China",
         "marker": {
          "color": "#00cc96"
         },
         "name": "China",
         "notched": false,
         "offsetgroup": "China",
         "orientation": "v",
         "showlegend": true,
         "type": "box",
         "x": [
          "China",
          "China",
          "China",
          "China",
          "China",
          "China",
          "China",
          "China",
          "China",
          "China",
          "China",
          "China",
          "China",
          "China",
          "China",
          "China",
          "China",
          "China",
          "China",
          "China",
          "China",
          "China",
          "China",
          "China",
          "China",
          "China",
          "China",
          "China",
          "China",
          "China",
          "China",
          "China",
          "China",
          "China",
          "China",
          "China",
          "China",
          "China",
          "China",
          "China",
          "China",
          "China",
          "China",
          "China",
          "China",
          "China",
          "China",
          "China",
          "China",
          "China",
          "China",
          "China",
          "China",
          "China",
          "China",
          "China",
          "China",
          "China"
         ],
         "x0": " ",
         "xaxis": "x",
         "y": [
          26,
          30,
          22,
          19,
          29,
          23,
          25,
          24,
          20,
          24,
          28,
          21,
          28,
          22,
          21,
          21,
          24,
          27,
          21,
          19,
          27,
          25,
          29,
          23,
          24,
          28,
          19,
          16,
          22,
          25,
          29,
          26,
          20,
          19,
          23,
          23,
          22,
          27,
          19,
          23,
          19,
          27,
          23,
          24,
          22,
          30,
          20,
          20,
          21,
          25,
          22,
          27,
          21,
          24,
          20,
          24,
          29,
          22
         ],
         "y0": " ",
         "yaxis": "y"
        },
        {
         "alignmentgroup": "True",
         "hovertemplate": "Team=%{x}<br>Age=%{y}<extra></extra>",
         "legendgroup": "Slovenia",
         "marker": {
          "color": "#ab63fa"
         },
         "name": "Slovenia",
         "notched": false,
         "offsetgroup": "Slovenia",
         "orientation": "v",
         "showlegend": true,
         "type": "box",
         "x": [
          "Slovenia",
          "Slovenia",
          "Slovenia",
          "Slovenia",
          "Slovenia",
          "Slovenia",
          "Slovenia",
          "Slovenia",
          "Slovenia",
          "Slovenia",
          "Slovenia",
          "Slovenia",
          "Slovenia",
          "Slovenia",
          "Slovenia",
          "Slovenia",
          "Slovenia",
          "Slovenia",
          "Slovenia",
          "Slovenia",
          "Slovenia",
          "Slovenia"
         ],
         "x0": " ",
         "xaxis": "x",
         "y": [
          24,
          20,
          24,
          33,
          26,
          27,
          32,
          30,
          26,
          31,
          25,
          28,
          21,
          27,
          34,
          31,
          30,
          32,
          25,
          29,
          24,
          25
         ],
         "y0": " ",
         "yaxis": "y"
        }
       ],
       "layout": {
        "boxmode": "overlay",
        "legend": {
         "title": {
          "text": "Team"
         },
         "tracegroupgap": 0
        },
        "template": {
         "data": {
          "bar": [
           {
            "error_x": {
             "color": "#2a3f5f"
            },
            "error_y": {
             "color": "#2a3f5f"
            },
            "marker": {
             "line": {
              "color": "#E5ECF6",
              "width": 0.5
             },
             "pattern": {
              "fillmode": "overlay",
              "size": 10,
              "solidity": 0.2
             }
            },
            "type": "bar"
           }
          ],
          "barpolar": [
           {
            "marker": {
             "line": {
              "color": "#E5ECF6",
              "width": 0.5
             },
             "pattern": {
              "fillmode": "overlay",
              "size": 10,
              "solidity": 0.2
             }
            },
            "type": "barpolar"
           }
          ],
          "carpet": [
           {
            "aaxis": {
             "endlinecolor": "#2a3f5f",
             "gridcolor": "white",
             "linecolor": "white",
             "minorgridcolor": "white",
             "startlinecolor": "#2a3f5f"
            },
            "baxis": {
             "endlinecolor": "#2a3f5f",
             "gridcolor": "white",
             "linecolor": "white",
             "minorgridcolor": "white",
             "startlinecolor": "#2a3f5f"
            },
            "type": "carpet"
           }
          ],
          "choropleth": [
           {
            "colorbar": {
             "outlinewidth": 0,
             "ticks": ""
            },
            "type": "choropleth"
           }
          ],
          "contour": [
           {
            "colorbar": {
             "outlinewidth": 0,
             "ticks": ""
            },
            "colorscale": [
             [
              0,
              "#0d0887"
             ],
             [
              0.1111111111111111,
              "#46039f"
             ],
             [
              0.2222222222222222,
              "#7201a8"
             ],
             [
              0.3333333333333333,
              "#9c179e"
             ],
             [
              0.4444444444444444,
              "#bd3786"
             ],
             [
              0.5555555555555556,
              "#d8576b"
             ],
             [
              0.6666666666666666,
              "#ed7953"
             ],
             [
              0.7777777777777778,
              "#fb9f3a"
             ],
             [
              0.8888888888888888,
              "#fdca26"
             ],
             [
              1,
              "#f0f921"
             ]
            ],
            "type": "contour"
           }
          ],
          "contourcarpet": [
           {
            "colorbar": {
             "outlinewidth": 0,
             "ticks": ""
            },
            "type": "contourcarpet"
           }
          ],
          "heatmap": [
           {
            "colorbar": {
             "outlinewidth": 0,
             "ticks": ""
            },
            "colorscale": [
             [
              0,
              "#0d0887"
             ],
             [
              0.1111111111111111,
              "#46039f"
             ],
             [
              0.2222222222222222,
              "#7201a8"
             ],
             [
              0.3333333333333333,
              "#9c179e"
             ],
             [
              0.4444444444444444,
              "#bd3786"
             ],
             [
              0.5555555555555556,
              "#d8576b"
             ],
             [
              0.6666666666666666,
              "#ed7953"
             ],
             [
              0.7777777777777778,
              "#fb9f3a"
             ],
             [
              0.8888888888888888,
              "#fdca26"
             ],
             [
              1,
              "#f0f921"
             ]
            ],
            "type": "heatmap"
           }
          ],
          "heatmapgl": [
           {
            "colorbar": {
             "outlinewidth": 0,
             "ticks": ""
            },
            "colorscale": [
             [
              0,
              "#0d0887"
             ],
             [
              0.1111111111111111,
              "#46039f"
             ],
             [
              0.2222222222222222,
              "#7201a8"
             ],
             [
              0.3333333333333333,
              "#9c179e"
             ],
             [
              0.4444444444444444,
              "#bd3786"
             ],
             [
              0.5555555555555556,
              "#d8576b"
             ],
             [
              0.6666666666666666,
              "#ed7953"
             ],
             [
              0.7777777777777778,
              "#fb9f3a"
             ],
             [
              0.8888888888888888,
              "#fdca26"
             ],
             [
              1,
              "#f0f921"
             ]
            ],
            "type": "heatmapgl"
           }
          ],
          "histogram": [
           {
            "marker": {
             "pattern": {
              "fillmode": "overlay",
              "size": 10,
              "solidity": 0.2
             }
            },
            "type": "histogram"
           }
          ],
          "histogram2d": [
           {
            "colorbar": {
             "outlinewidth": 0,
             "ticks": ""
            },
            "colorscale": [
             [
              0,
              "#0d0887"
             ],
             [
              0.1111111111111111,
              "#46039f"
             ],
             [
              0.2222222222222222,
              "#7201a8"
             ],
             [
              0.3333333333333333,
              "#9c179e"
             ],
             [
              0.4444444444444444,
              "#bd3786"
             ],
             [
              0.5555555555555556,
              "#d8576b"
             ],
             [
              0.6666666666666666,
              "#ed7953"
             ],
             [
              0.7777777777777778,
              "#fb9f3a"
             ],
             [
              0.8888888888888888,
              "#fdca26"
             ],
             [
              1,
              "#f0f921"
             ]
            ],
            "type": "histogram2d"
           }
          ],
          "histogram2dcontour": [
           {
            "colorbar": {
             "outlinewidth": 0,
             "ticks": ""
            },
            "colorscale": [
             [
              0,
              "#0d0887"
             ],
             [
              0.1111111111111111,
              "#46039f"
             ],
             [
              0.2222222222222222,
              "#7201a8"
             ],
             [
              0.3333333333333333,
              "#9c179e"
             ],
             [
              0.4444444444444444,
              "#bd3786"
             ],
             [
              0.5555555555555556,
              "#d8576b"
             ],
             [
              0.6666666666666666,
              "#ed7953"
             ],
             [
              0.7777777777777778,
              "#fb9f3a"
             ],
             [
              0.8888888888888888,
              "#fdca26"
             ],
             [
              1,
              "#f0f921"
             ]
            ],
            "type": "histogram2dcontour"
           }
          ],
          "mesh3d": [
           {
            "colorbar": {
             "outlinewidth": 0,
             "ticks": ""
            },
            "type": "mesh3d"
           }
          ],
          "parcoords": [
           {
            "line": {
             "colorbar": {
              "outlinewidth": 0,
              "ticks": ""
             }
            },
            "type": "parcoords"
           }
          ],
          "pie": [
           {
            "automargin": true,
            "type": "pie"
           }
          ],
          "scatter": [
           {
            "fillpattern": {
             "fillmode": "overlay",
             "size": 10,
             "solidity": 0.2
            },
            "type": "scatter"
           }
          ],
          "scatter3d": [
           {
            "line": {
             "colorbar": {
              "outlinewidth": 0,
              "ticks": ""
             }
            },
            "marker": {
             "colorbar": {
              "outlinewidth": 0,
              "ticks": ""
             }
            },
            "type": "scatter3d"
           }
          ],
          "scattercarpet": [
           {
            "marker": {
             "colorbar": {
              "outlinewidth": 0,
              "ticks": ""
             }
            },
            "type": "scattercarpet"
           }
          ],
          "scattergeo": [
           {
            "marker": {
             "colorbar": {
              "outlinewidth": 0,
              "ticks": ""
             }
            },
            "type": "scattergeo"
           }
          ],
          "scattergl": [
           {
            "marker": {
             "colorbar": {
              "outlinewidth": 0,
              "ticks": ""
             }
            },
            "type": "scattergl"
           }
          ],
          "scattermapbox": [
           {
            "marker": {
             "colorbar": {
              "outlinewidth": 0,
              "ticks": ""
             }
            },
            "type": "scattermapbox"
           }
          ],
          "scatterpolar": [
           {
            "marker": {
             "colorbar": {
              "outlinewidth": 0,
              "ticks": ""
             }
            },
            "type": "scatterpolar"
           }
          ],
          "scatterpolargl": [
           {
            "marker": {
             "colorbar": {
              "outlinewidth": 0,
              "ticks": ""
             }
            },
            "type": "scatterpolargl"
           }
          ],
          "scatterternary": [
           {
            "marker": {
             "colorbar": {
              "outlinewidth": 0,
              "ticks": ""
             }
            },
            "type": "scatterternary"
           }
          ],
          "surface": [
           {
            "colorbar": {
             "outlinewidth": 0,
             "ticks": ""
            },
            "colorscale": [
             [
              0,
              "#0d0887"
             ],
             [
              0.1111111111111111,
              "#46039f"
             ],
             [
              0.2222222222222222,
              "#7201a8"
             ],
             [
              0.3333333333333333,
              "#9c179e"
             ],
             [
              0.4444444444444444,
              "#bd3786"
             ],
             [
              0.5555555555555556,
              "#d8576b"
             ],
             [
              0.6666666666666666,
              "#ed7953"
             ],
             [
              0.7777777777777778,
              "#fb9f3a"
             ],
             [
              0.8888888888888888,
              "#fdca26"
             ],
             [
              1,
              "#f0f921"
             ]
            ],
            "type": "surface"
           }
          ],
          "table": [
           {
            "cells": {
             "fill": {
              "color": "#EBF0F8"
             },
             "line": {
              "color": "white"
             }
            },
            "header": {
             "fill": {
              "color": "#C8D4E3"
             },
             "line": {
              "color": "white"
             }
            },
            "type": "table"
           }
          ]
         },
         "layout": {
          "annotationdefaults": {
           "arrowcolor": "#2a3f5f",
           "arrowhead": 0,
           "arrowwidth": 1
          },
          "autotypenumbers": "strict",
          "coloraxis": {
           "colorbar": {
            "outlinewidth": 0,
            "ticks": ""
           }
          },
          "colorscale": {
           "diverging": [
            [
             0,
             "#8e0152"
            ],
            [
             0.1,
             "#c51b7d"
            ],
            [
             0.2,
             "#de77ae"
            ],
            [
             0.3,
             "#f1b6da"
            ],
            [
             0.4,
             "#fde0ef"
            ],
            [
             0.5,
             "#f7f7f7"
            ],
            [
             0.6,
             "#e6f5d0"
            ],
            [
             0.7,
             "#b8e186"
            ],
            [
             0.8,
             "#7fbc41"
            ],
            [
             0.9,
             "#4d9221"
            ],
            [
             1,
             "#276419"
            ]
           ],
           "sequential": [
            [
             0,
             "#0d0887"
            ],
            [
             0.1111111111111111,
             "#46039f"
            ],
            [
             0.2222222222222222,
             "#7201a8"
            ],
            [
             0.3333333333333333,
             "#9c179e"
            ],
            [
             0.4444444444444444,
             "#bd3786"
            ],
            [
             0.5555555555555556,
             "#d8576b"
            ],
            [
             0.6666666666666666,
             "#ed7953"
            ],
            [
             0.7777777777777778,
             "#fb9f3a"
            ],
            [
             0.8888888888888888,
             "#fdca26"
            ],
            [
             1,
             "#f0f921"
            ]
           ],
           "sequentialminus": [
            [
             0,
             "#0d0887"
            ],
            [
             0.1111111111111111,
             "#46039f"
            ],
            [
             0.2222222222222222,
             "#7201a8"
            ],
            [
             0.3333333333333333,
             "#9c179e"
            ],
            [
             0.4444444444444444,
             "#bd3786"
            ],
            [
             0.5555555555555556,
             "#d8576b"
            ],
            [
             0.6666666666666666,
             "#ed7953"
            ],
            [
             0.7777777777777778,
             "#fb9f3a"
            ],
            [
             0.8888888888888888,
             "#fdca26"
            ],
            [
             1,
             "#f0f921"
            ]
           ]
          },
          "colorway": [
           "#636efa",
           "#EF553B",
           "#00cc96",
           "#ab63fa",
           "#FFA15A",
           "#19d3f3",
           "#FF6692",
           "#B6E880",
           "#FF97FF",
           "#FECB52"
          ],
          "font": {
           "color": "#2a3f5f"
          },
          "geo": {
           "bgcolor": "white",
           "lakecolor": "white",
           "landcolor": "#E5ECF6",
           "showlakes": true,
           "showland": true,
           "subunitcolor": "white"
          },
          "hoverlabel": {
           "align": "left"
          },
          "hovermode": "closest",
          "mapbox": {
           "style": "light"
          },
          "paper_bgcolor": "white",
          "plot_bgcolor": "#E5ECF6",
          "polar": {
           "angularaxis": {
            "gridcolor": "white",
            "linecolor": "white",
            "ticks": ""
           },
           "bgcolor": "#E5ECF6",
           "radialaxis": {
            "gridcolor": "white",
            "linecolor": "white",
            "ticks": ""
           }
          },
          "scene": {
           "xaxis": {
            "backgroundcolor": "#E5ECF6",
            "gridcolor": "white",
            "gridwidth": 2,
            "linecolor": "white",
            "showbackground": true,
            "ticks": "",
            "zerolinecolor": "white"
           },
           "yaxis": {
            "backgroundcolor": "#E5ECF6",
            "gridcolor": "white",
            "gridwidth": 2,
            "linecolor": "white",
            "showbackground": true,
            "ticks": "",
            "zerolinecolor": "white"
           },
           "zaxis": {
            "backgroundcolor": "#E5ECF6",
            "gridcolor": "white",
            "gridwidth": 2,
            "linecolor": "white",
            "showbackground": true,
            "ticks": "",
            "zerolinecolor": "white"
           }
          },
          "shapedefaults": {
           "line": {
            "color": "#2a3f5f"
           }
          },
          "ternary": {
           "aaxis": {
            "gridcolor": "white",
            "linecolor": "white",
            "ticks": ""
           },
           "baxis": {
            "gridcolor": "white",
            "linecolor": "white",
            "ticks": ""
           },
           "bgcolor": "#E5ECF6",
           "caxis": {
            "gridcolor": "white",
            "linecolor": "white",
            "ticks": ""
           }
          },
          "title": {
           "x": 0.05
          },
          "xaxis": {
           "automargin": true,
           "gridcolor": "white",
           "linecolor": "white",
           "ticks": "",
           "title": {
            "standoff": 15
           },
           "zerolinecolor": "white",
           "zerolinewidth": 2
          },
          "yaxis": {
           "automargin": true,
           "gridcolor": "white",
           "linecolor": "white",
           "ticks": "",
           "title": {
            "standoff": 15
           },
           "zerolinecolor": "white",
           "zerolinewidth": 2
          }
         }
        },
        "title": {
         "text": "Age distribution in ice hockey teams"
        },
        "xaxis": {
         "anchor": "y",
         "categoryarray": [
          "Finland",
          "United States",
          "Canada",
          "Norway",
          "Sweden",
          "Russia",
          "Germany",
          "Australia",
          "Japan",
          "Poland",
          "Kazakhstan",
          "Switzerland",
          "Italy",
          "France",
          "West Germany",
          "Yugoslavia",
          "Soviet Union",
          "Belarus",
          "Czech Republic",
          "Austria",
          "Great Britain",
          "Romania",
          "Latvia",
          "Bulgaria",
          "Czechoslovakia",
          "Hungary",
          "Slovakia",
          "Belgium",
          "Unified Team",
          "Netherlands",
          "Ukraine",
          "East Germany",
          "China",
          "Slovenia"
         ],
         "categoryorder": "array",
         "domain": [
          0,
          1
         ],
         "title": {
          "text": "Team"
         }
        },
        "yaxis": {
         "anchor": "x",
         "domain": [
          0,
          1
         ],
         "title": {
          "text": "Age"
         }
        }
       }
      }
     },
     "metadata": {},
     "output_type": "display_data"
    }
   ],
   "source": [
    "# plot the age distribution in teams\n",
    "fig = px.box(\n",
    "    df_ice_hockey,\n",
    "    x=\"Team\",\n",
    "    y=\"Age\",\n",
    "    color=\"Team\",\n",
    "    title=\"Age distribution in ice hockey teams\",\n",
    ")\n",
    "fig.show()"
   ]
  },
  {
   "cell_type": "markdown",
   "metadata": {},
   "source": [
    "## Analysis and visualization of other aspects of these sports"
   ]
  },
  {
   "cell_type": "markdown",
   "metadata": {},
   "source": [
    "### Top 10 countries with most gold medals"
   ]
  },
  {
   "cell_type": "code",
   "execution_count": 26,
   "metadata": {},
   "outputs": [
    {
     "data": {
      "text/html": [
       "<div>\n",
       "<style scoped>\n",
       "    .dataframe tbody tr th:only-of-type {\n",
       "        vertical-align: middle;\n",
       "    }\n",
       "\n",
       "    .dataframe tbody tr th {\n",
       "        vertical-align: top;\n",
       "    }\n",
       "\n",
       "    .dataframe thead th {\n",
       "        text-align: right;\n",
       "    }\n",
       "</style>\n",
       "<table border=\"1\" class=\"dataframe\">\n",
       "  <thead>\n",
       "    <tr style=\"text-align: right;\">\n",
       "      <th></th>\n",
       "      <th>Country</th>\n",
       "      <th>Gold Medals</th>\n",
       "    </tr>\n",
       "  </thead>\n",
       "  <tbody>\n",
       "    <tr>\n",
       "      <th>0</th>\n",
       "      <td>United States</td>\n",
       "      <td>453</td>\n",
       "    </tr>\n",
       "    <tr>\n",
       "      <th>1</th>\n",
       "      <td>Soviet Union</td>\n",
       "      <td>229</td>\n",
       "    </tr>\n",
       "    <tr>\n",
       "      <th>2</th>\n",
       "      <td>Canada</td>\n",
       "      <td>223</td>\n",
       "    </tr>\n",
       "    <tr>\n",
       "      <th>3</th>\n",
       "      <td>Sweden</td>\n",
       "      <td>58</td>\n",
       "    </tr>\n",
       "    <tr>\n",
       "      <th>4</th>\n",
       "      <td>Hungary</td>\n",
       "      <td>56</td>\n",
       "    </tr>\n",
       "    <tr>\n",
       "      <th>5</th>\n",
       "      <td>Great Britain</td>\n",
       "      <td>55</td>\n",
       "    </tr>\n",
       "    <tr>\n",
       "      <th>6</th>\n",
       "      <td>Argentina</td>\n",
       "      <td>53</td>\n",
       "    </tr>\n",
       "    <tr>\n",
       "      <th>7</th>\n",
       "      <td>Cuba</td>\n",
       "      <td>37</td>\n",
       "    </tr>\n",
       "    <tr>\n",
       "      <th>8</th>\n",
       "      <td>Unified Team</td>\n",
       "      <td>34</td>\n",
       "    </tr>\n",
       "    <tr>\n",
       "      <th>9</th>\n",
       "      <td>Uruguay</td>\n",
       "      <td>31</td>\n",
       "    </tr>\n",
       "  </tbody>\n",
       "</table>\n",
       "</div>"
      ],
      "text/plain": [
       "         Country  Gold Medals\n",
       "0  United States          453\n",
       "1   Soviet Union          229\n",
       "2         Canada          223\n",
       "3         Sweden           58\n",
       "4        Hungary           56\n",
       "5  Great Britain           55\n",
       "6      Argentina           53\n",
       "7           Cuba           37\n",
       "8   Unified Team           34\n",
       "9        Uruguay           31"
      ]
     },
     "execution_count": 26,
     "metadata": {},
     "output_type": "execute_result"
    }
   ],
   "source": [
    "df_top_10_countries = df_sports[df_sports[\"Medal\"] == \"Gold\"] # get all gold medals\n",
    "df_top_10_countries = df_top_10_countries[\"Team\"].value_counts().head(10) # return a serie of top 10 countries with most gold medals\n",
    "df_top_10_countries = pd.DataFrame(df_top_10_countries) # convert to dataframe\n",
    "df_top_10_countries = df_top_10_countries.reset_index() # reset index\n",
    "df_top_10_countries.columns = [\"Country\", \"Gold Medals\"] # rename columns\n",
    "df_top_10_countries"
   ]
  },
  {
   "cell_type": "code",
   "execution_count": 27,
   "metadata": {},
   "outputs": [
    {
     "data": {
      "application/vnd.plotly.v1+json": {
       "config": {
        "plotlyServerURL": "https://plot.ly"
       },
       "data": [
        {
         "alignmentgroup": "True",
         "hovertemplate": "Country=%{x}<br>Gold Medals=%{y}<extra></extra>",
         "legendgroup": "United States",
         "marker": {
          "color": "#636efa",
          "pattern": {
           "shape": ""
          }
         },
         "name": "United States",
         "offsetgroup": "United States",
         "orientation": "v",
         "showlegend": true,
         "textposition": "auto",
         "type": "bar",
         "x": [
          "United States"
         ],
         "xaxis": "x",
         "y": [
          453
         ],
         "yaxis": "y"
        },
        {
         "alignmentgroup": "True",
         "hovertemplate": "Country=%{x}<br>Gold Medals=%{y}<extra></extra>",
         "legendgroup": "Soviet Union",
         "marker": {
          "color": "#EF553B",
          "pattern": {
           "shape": ""
          }
         },
         "name": "Soviet Union",
         "offsetgroup": "Soviet Union",
         "orientation": "v",
         "showlegend": true,
         "textposition": "auto",
         "type": "bar",
         "x": [
          "Soviet Union"
         ],
         "xaxis": "x",
         "y": [
          229
         ],
         "yaxis": "y"
        },
        {
         "alignmentgroup": "True",
         "hovertemplate": "Country=%{x}<br>Gold Medals=%{y}<extra></extra>",
         "legendgroup": "Canada",
         "marker": {
          "color": "#00cc96",
          "pattern": {
           "shape": ""
          }
         },
         "name": "Canada",
         "offsetgroup": "Canada",
         "orientation": "v",
         "showlegend": true,
         "textposition": "auto",
         "type": "bar",
         "x": [
          "Canada"
         ],
         "xaxis": "x",
         "y": [
          223
         ],
         "yaxis": "y"
        },
        {
         "alignmentgroup": "True",
         "hovertemplate": "Country=%{x}<br>Gold Medals=%{y}<extra></extra>",
         "legendgroup": "Sweden",
         "marker": {
          "color": "#ab63fa",
          "pattern": {
           "shape": ""
          }
         },
         "name": "Sweden",
         "offsetgroup": "Sweden",
         "orientation": "v",
         "showlegend": true,
         "textposition": "auto",
         "type": "bar",
         "x": [
          "Sweden"
         ],
         "xaxis": "x",
         "y": [
          58
         ],
         "yaxis": "y"
        },
        {
         "alignmentgroup": "True",
         "hovertemplate": "Country=%{x}<br>Gold Medals=%{y}<extra></extra>",
         "legendgroup": "Hungary",
         "marker": {
          "color": "#FFA15A",
          "pattern": {
           "shape": ""
          }
         },
         "name": "Hungary",
         "offsetgroup": "Hungary",
         "orientation": "v",
         "showlegend": true,
         "textposition": "auto",
         "type": "bar",
         "x": [
          "Hungary"
         ],
         "xaxis": "x",
         "y": [
          56
         ],
         "yaxis": "y"
        },
        {
         "alignmentgroup": "True",
         "hovertemplate": "Country=%{x}<br>Gold Medals=%{y}<extra></extra>",
         "legendgroup": "Great Britain",
         "marker": {
          "color": "#19d3f3",
          "pattern": {
           "shape": ""
          }
         },
         "name": "Great Britain",
         "offsetgroup": "Great Britain",
         "orientation": "v",
         "showlegend": true,
         "textposition": "auto",
         "type": "bar",
         "x": [
          "Great Britain"
         ],
         "xaxis": "x",
         "y": [
          55
         ],
         "yaxis": "y"
        },
        {
         "alignmentgroup": "True",
         "hovertemplate": "Country=%{x}<br>Gold Medals=%{y}<extra></extra>",
         "legendgroup": "Argentina",
         "marker": {
          "color": "#FF6692",
          "pattern": {
           "shape": ""
          }
         },
         "name": "Argentina",
         "offsetgroup": "Argentina",
         "orientation": "v",
         "showlegend": true,
         "textposition": "auto",
         "type": "bar",
         "x": [
          "Argentina"
         ],
         "xaxis": "x",
         "y": [
          53
         ],
         "yaxis": "y"
        },
        {
         "alignmentgroup": "True",
         "hovertemplate": "Country=%{x}<br>Gold Medals=%{y}<extra></extra>",
         "legendgroup": "Cuba",
         "marker": {
          "color": "#B6E880",
          "pattern": {
           "shape": ""
          }
         },
         "name": "Cuba",
         "offsetgroup": "Cuba",
         "orientation": "v",
         "showlegend": true,
         "textposition": "auto",
         "type": "bar",
         "x": [
          "Cuba"
         ],
         "xaxis": "x",
         "y": [
          37
         ],
         "yaxis": "y"
        },
        {
         "alignmentgroup": "True",
         "hovertemplate": "Country=%{x}<br>Gold Medals=%{y}<extra></extra>",
         "legendgroup": "Unified Team",
         "marker": {
          "color": "#FF97FF",
          "pattern": {
           "shape": ""
          }
         },
         "name": "Unified Team",
         "offsetgroup": "Unified Team",
         "orientation": "v",
         "showlegend": true,
         "textposition": "auto",
         "type": "bar",
         "x": [
          "Unified Team"
         ],
         "xaxis": "x",
         "y": [
          34
         ],
         "yaxis": "y"
        },
        {
         "alignmentgroup": "True",
         "hovertemplate": "Country=%{x}<br>Gold Medals=%{y}<extra></extra>",
         "legendgroup": "Uruguay",
         "marker": {
          "color": "#FECB52",
          "pattern": {
           "shape": ""
          }
         },
         "name": "Uruguay",
         "offsetgroup": "Uruguay",
         "orientation": "v",
         "showlegend": true,
         "textposition": "auto",
         "type": "bar",
         "x": [
          "Uruguay"
         ],
         "xaxis": "x",
         "y": [
          31
         ],
         "yaxis": "y"
        }
       ],
       "layout": {
        "barmode": "relative",
        "legend": {
         "title": {
          "text": "Country"
         },
         "tracegroupgap": 0
        },
        "template": {
         "data": {
          "bar": [
           {
            "error_x": {
             "color": "#2a3f5f"
            },
            "error_y": {
             "color": "#2a3f5f"
            },
            "marker": {
             "line": {
              "color": "#E5ECF6",
              "width": 0.5
             },
             "pattern": {
              "fillmode": "overlay",
              "size": 10,
              "solidity": 0.2
             }
            },
            "type": "bar"
           }
          ],
          "barpolar": [
           {
            "marker": {
             "line": {
              "color": "#E5ECF6",
              "width": 0.5
             },
             "pattern": {
              "fillmode": "overlay",
              "size": 10,
              "solidity": 0.2
             }
            },
            "type": "barpolar"
           }
          ],
          "carpet": [
           {
            "aaxis": {
             "endlinecolor": "#2a3f5f",
             "gridcolor": "white",
             "linecolor": "white",
             "minorgridcolor": "white",
             "startlinecolor": "#2a3f5f"
            },
            "baxis": {
             "endlinecolor": "#2a3f5f",
             "gridcolor": "white",
             "linecolor": "white",
             "minorgridcolor": "white",
             "startlinecolor": "#2a3f5f"
            },
            "type": "carpet"
           }
          ],
          "choropleth": [
           {
            "colorbar": {
             "outlinewidth": 0,
             "ticks": ""
            },
            "type": "choropleth"
           }
          ],
          "contour": [
           {
            "colorbar": {
             "outlinewidth": 0,
             "ticks": ""
            },
            "colorscale": [
             [
              0,
              "#0d0887"
             ],
             [
              0.1111111111111111,
              "#46039f"
             ],
             [
              0.2222222222222222,
              "#7201a8"
             ],
             [
              0.3333333333333333,
              "#9c179e"
             ],
             [
              0.4444444444444444,
              "#bd3786"
             ],
             [
              0.5555555555555556,
              "#d8576b"
             ],
             [
              0.6666666666666666,
              "#ed7953"
             ],
             [
              0.7777777777777778,
              "#fb9f3a"
             ],
             [
              0.8888888888888888,
              "#fdca26"
             ],
             [
              1,
              "#f0f921"
             ]
            ],
            "type": "contour"
           }
          ],
          "contourcarpet": [
           {
            "colorbar": {
             "outlinewidth": 0,
             "ticks": ""
            },
            "type": "contourcarpet"
           }
          ],
          "heatmap": [
           {
            "colorbar": {
             "outlinewidth": 0,
             "ticks": ""
            },
            "colorscale": [
             [
              0,
              "#0d0887"
             ],
             [
              0.1111111111111111,
              "#46039f"
             ],
             [
              0.2222222222222222,
              "#7201a8"
             ],
             [
              0.3333333333333333,
              "#9c179e"
             ],
             [
              0.4444444444444444,
              "#bd3786"
             ],
             [
              0.5555555555555556,
              "#d8576b"
             ],
             [
              0.6666666666666666,
              "#ed7953"
             ],
             [
              0.7777777777777778,
              "#fb9f3a"
             ],
             [
              0.8888888888888888,
              "#fdca26"
             ],
             [
              1,
              "#f0f921"
             ]
            ],
            "type": "heatmap"
           }
          ],
          "heatmapgl": [
           {
            "colorbar": {
             "outlinewidth": 0,
             "ticks": ""
            },
            "colorscale": [
             [
              0,
              "#0d0887"
             ],
             [
              0.1111111111111111,
              "#46039f"
             ],
             [
              0.2222222222222222,
              "#7201a8"
             ],
             [
              0.3333333333333333,
              "#9c179e"
             ],
             [
              0.4444444444444444,
              "#bd3786"
             ],
             [
              0.5555555555555556,
              "#d8576b"
             ],
             [
              0.6666666666666666,
              "#ed7953"
             ],
             [
              0.7777777777777778,
              "#fb9f3a"
             ],
             [
              0.8888888888888888,
              "#fdca26"
             ],
             [
              1,
              "#f0f921"
             ]
            ],
            "type": "heatmapgl"
           }
          ],
          "histogram": [
           {
            "marker": {
             "pattern": {
              "fillmode": "overlay",
              "size": 10,
              "solidity": 0.2
             }
            },
            "type": "histogram"
           }
          ],
          "histogram2d": [
           {
            "colorbar": {
             "outlinewidth": 0,
             "ticks": ""
            },
            "colorscale": [
             [
              0,
              "#0d0887"
             ],
             [
              0.1111111111111111,
              "#46039f"
             ],
             [
              0.2222222222222222,
              "#7201a8"
             ],
             [
              0.3333333333333333,
              "#9c179e"
             ],
             [
              0.4444444444444444,
              "#bd3786"
             ],
             [
              0.5555555555555556,
              "#d8576b"
             ],
             [
              0.6666666666666666,
              "#ed7953"
             ],
             [
              0.7777777777777778,
              "#fb9f3a"
             ],
             [
              0.8888888888888888,
              "#fdca26"
             ],
             [
              1,
              "#f0f921"
             ]
            ],
            "type": "histogram2d"
           }
          ],
          "histogram2dcontour": [
           {
            "colorbar": {
             "outlinewidth": 0,
             "ticks": ""
            },
            "colorscale": [
             [
              0,
              "#0d0887"
             ],
             [
              0.1111111111111111,
              "#46039f"
             ],
             [
              0.2222222222222222,
              "#7201a8"
             ],
             [
              0.3333333333333333,
              "#9c179e"
             ],
             [
              0.4444444444444444,
              "#bd3786"
             ],
             [
              0.5555555555555556,
              "#d8576b"
             ],
             [
              0.6666666666666666,
              "#ed7953"
             ],
             [
              0.7777777777777778,
              "#fb9f3a"
             ],
             [
              0.8888888888888888,
              "#fdca26"
             ],
             [
              1,
              "#f0f921"
             ]
            ],
            "type": "histogram2dcontour"
           }
          ],
          "mesh3d": [
           {
            "colorbar": {
             "outlinewidth": 0,
             "ticks": ""
            },
            "type": "mesh3d"
           }
          ],
          "parcoords": [
           {
            "line": {
             "colorbar": {
              "outlinewidth": 0,
              "ticks": ""
             }
            },
            "type": "parcoords"
           }
          ],
          "pie": [
           {
            "automargin": true,
            "type": "pie"
           }
          ],
          "scatter": [
           {
            "fillpattern": {
             "fillmode": "overlay",
             "size": 10,
             "solidity": 0.2
            },
            "type": "scatter"
           }
          ],
          "scatter3d": [
           {
            "line": {
             "colorbar": {
              "outlinewidth": 0,
              "ticks": ""
             }
            },
            "marker": {
             "colorbar": {
              "outlinewidth": 0,
              "ticks": ""
             }
            },
            "type": "scatter3d"
           }
          ],
          "scattercarpet": [
           {
            "marker": {
             "colorbar": {
              "outlinewidth": 0,
              "ticks": ""
             }
            },
            "type": "scattercarpet"
           }
          ],
          "scattergeo": [
           {
            "marker": {
             "colorbar": {
              "outlinewidth": 0,
              "ticks": ""
             }
            },
            "type": "scattergeo"
           }
          ],
          "scattergl": [
           {
            "marker": {
             "colorbar": {
              "outlinewidth": 0,
              "ticks": ""
             }
            },
            "type": "scattergl"
           }
          ],
          "scattermapbox": [
           {
            "marker": {
             "colorbar": {
              "outlinewidth": 0,
              "ticks": ""
             }
            },
            "type": "scattermapbox"
           }
          ],
          "scatterpolar": [
           {
            "marker": {
             "colorbar": {
              "outlinewidth": 0,
              "ticks": ""
             }
            },
            "type": "scatterpolar"
           }
          ],
          "scatterpolargl": [
           {
            "marker": {
             "colorbar": {
              "outlinewidth": 0,
              "ticks": ""
             }
            },
            "type": "scatterpolargl"
           }
          ],
          "scatterternary": [
           {
            "marker": {
             "colorbar": {
              "outlinewidth": 0,
              "ticks": ""
             }
            },
            "type": "scatterternary"
           }
          ],
          "surface": [
           {
            "colorbar": {
             "outlinewidth": 0,
             "ticks": ""
            },
            "colorscale": [
             [
              0,
              "#0d0887"
             ],
             [
              0.1111111111111111,
              "#46039f"
             ],
             [
              0.2222222222222222,
              "#7201a8"
             ],
             [
              0.3333333333333333,
              "#9c179e"
             ],
             [
              0.4444444444444444,
              "#bd3786"
             ],
             [
              0.5555555555555556,
              "#d8576b"
             ],
             [
              0.6666666666666666,
              "#ed7953"
             ],
             [
              0.7777777777777778,
              "#fb9f3a"
             ],
             [
              0.8888888888888888,
              "#fdca26"
             ],
             [
              1,
              "#f0f921"
             ]
            ],
            "type": "surface"
           }
          ],
          "table": [
           {
            "cells": {
             "fill": {
              "color": "#EBF0F8"
             },
             "line": {
              "color": "white"
             }
            },
            "header": {
             "fill": {
              "color": "#C8D4E3"
             },
             "line": {
              "color": "white"
             }
            },
            "type": "table"
           }
          ]
         },
         "layout": {
          "annotationdefaults": {
           "arrowcolor": "#2a3f5f",
           "arrowhead": 0,
           "arrowwidth": 1
          },
          "autotypenumbers": "strict",
          "coloraxis": {
           "colorbar": {
            "outlinewidth": 0,
            "ticks": ""
           }
          },
          "colorscale": {
           "diverging": [
            [
             0,
             "#8e0152"
            ],
            [
             0.1,
             "#c51b7d"
            ],
            [
             0.2,
             "#de77ae"
            ],
            [
             0.3,
             "#f1b6da"
            ],
            [
             0.4,
             "#fde0ef"
            ],
            [
             0.5,
             "#f7f7f7"
            ],
            [
             0.6,
             "#e6f5d0"
            ],
            [
             0.7,
             "#b8e186"
            ],
            [
             0.8,
             "#7fbc41"
            ],
            [
             0.9,
             "#4d9221"
            ],
            [
             1,
             "#276419"
            ]
           ],
           "sequential": [
            [
             0,
             "#0d0887"
            ],
            [
             0.1111111111111111,
             "#46039f"
            ],
            [
             0.2222222222222222,
             "#7201a8"
            ],
            [
             0.3333333333333333,
             "#9c179e"
            ],
            [
             0.4444444444444444,
             "#bd3786"
            ],
            [
             0.5555555555555556,
             "#d8576b"
            ],
            [
             0.6666666666666666,
             "#ed7953"
            ],
            [
             0.7777777777777778,
             "#fb9f3a"
            ],
            [
             0.8888888888888888,
             "#fdca26"
            ],
            [
             1,
             "#f0f921"
            ]
           ],
           "sequentialminus": [
            [
             0,
             "#0d0887"
            ],
            [
             0.1111111111111111,
             "#46039f"
            ],
            [
             0.2222222222222222,
             "#7201a8"
            ],
            [
             0.3333333333333333,
             "#9c179e"
            ],
            [
             0.4444444444444444,
             "#bd3786"
            ],
            [
             0.5555555555555556,
             "#d8576b"
            ],
            [
             0.6666666666666666,
             "#ed7953"
            ],
            [
             0.7777777777777778,
             "#fb9f3a"
            ],
            [
             0.8888888888888888,
             "#fdca26"
            ],
            [
             1,
             "#f0f921"
            ]
           ]
          },
          "colorway": [
           "#636efa",
           "#EF553B",
           "#00cc96",
           "#ab63fa",
           "#FFA15A",
           "#19d3f3",
           "#FF6692",
           "#B6E880",
           "#FF97FF",
           "#FECB52"
          ],
          "font": {
           "color": "#2a3f5f"
          },
          "geo": {
           "bgcolor": "white",
           "lakecolor": "white",
           "landcolor": "#E5ECF6",
           "showlakes": true,
           "showland": true,
           "subunitcolor": "white"
          },
          "hoverlabel": {
           "align": "left"
          },
          "hovermode": "closest",
          "mapbox": {
           "style": "light"
          },
          "paper_bgcolor": "white",
          "plot_bgcolor": "#E5ECF6",
          "polar": {
           "angularaxis": {
            "gridcolor": "white",
            "linecolor": "white",
            "ticks": ""
           },
           "bgcolor": "#E5ECF6",
           "radialaxis": {
            "gridcolor": "white",
            "linecolor": "white",
            "ticks": ""
           }
          },
          "scene": {
           "xaxis": {
            "backgroundcolor": "#E5ECF6",
            "gridcolor": "white",
            "gridwidth": 2,
            "linecolor": "white",
            "showbackground": true,
            "ticks": "",
            "zerolinecolor": "white"
           },
           "yaxis": {
            "backgroundcolor": "#E5ECF6",
            "gridcolor": "white",
            "gridwidth": 2,
            "linecolor": "white",
            "showbackground": true,
            "ticks": "",
            "zerolinecolor": "white"
           },
           "zaxis": {
            "backgroundcolor": "#E5ECF6",
            "gridcolor": "white",
            "gridwidth": 2,
            "linecolor": "white",
            "showbackground": true,
            "ticks": "",
            "zerolinecolor": "white"
           }
          },
          "shapedefaults": {
           "line": {
            "color": "#2a3f5f"
           }
          },
          "ternary": {
           "aaxis": {
            "gridcolor": "white",
            "linecolor": "white",
            "ticks": ""
           },
           "baxis": {
            "gridcolor": "white",
            "linecolor": "white",
            "ticks": ""
           },
           "bgcolor": "#E5ECF6",
           "caxis": {
            "gridcolor": "white",
            "linecolor": "white",
            "ticks": ""
           }
          },
          "title": {
           "x": 0.05
          },
          "xaxis": {
           "automargin": true,
           "gridcolor": "white",
           "linecolor": "white",
           "ticks": "",
           "title": {
            "standoff": 15
           },
           "zerolinecolor": "white",
           "zerolinewidth": 2
          },
          "yaxis": {
           "automargin": true,
           "gridcolor": "white",
           "linecolor": "white",
           "ticks": "",
           "title": {
            "standoff": 15
           },
           "zerolinecolor": "white",
           "zerolinewidth": 2
          }
         }
        },
        "title": {
         "text": "Top 10 countries with most gold medals"
        },
        "xaxis": {
         "anchor": "y",
         "categoryarray": [
          "United States",
          "Soviet Union",
          "Canada",
          "Sweden",
          "Hungary",
          "Great Britain",
          "Argentina",
          "Cuba",
          "Unified Team",
          "Uruguay"
         ],
         "categoryorder": "array",
         "domain": [
          0,
          1
         ],
         "title": {
          "text": "Country"
         }
        },
        "yaxis": {
         "anchor": "x",
         "domain": [
          0,
          1
         ],
         "title": {
          "text": "Gold Medals"
         }
        }
       }
      }
     },
     "metadata": {},
     "output_type": "display_data"
    }
   ],
   "source": [
    "fig = px.bar(\n",
    "    df_top_10_countries,\n",
    "    x=\"Country\",\n",
    "    y=\"Gold Medals\",\n",
    "    color=\"Country\",\n",
    "    title=\"Top 10 countries with most gold medals\",\n",
    ")\n",
    "fig.show()"
   ]
  },
  {
   "cell_type": "markdown",
   "metadata": {},
   "source": [
    "### Comparison of the number of medals between the USA and the rest of the world"
   ]
  },
  {
   "cell_type": "code",
   "execution_count": 28,
   "metadata": {},
   "outputs": [],
   "source": [
    "df_usa = df_sports[df_sports[\"Team\"] == \"United States\"] \n",
    "df_usa = df_usa[\"Year\"].value_counts().sort_index()\n",
    "df_usa = pd.DataFrame(df_usa) \n",
    "df_usa = df_usa.reset_index()\n",
    "df_usa.columns = [\"Year\", \"Medals\"]\n",
    "\n",
    "# create a dataframe with all countries excluding USA\n",
    "df_world = df_sports[df_sports[\"Team\"] != \"United States\"]\n",
    "df_world = df_world[\"Year\"].value_counts().sort_index()\n",
    "df_world = pd.DataFrame(df_world)\n",
    "df_world = df_world.reset_index() \n",
    "df_world.columns = [\"Year\", \"Medals\"]"
   ]
  },
  {
   "cell_type": "code",
   "execution_count": 29,
   "metadata": {},
   "outputs": [
    {
     "data": {
      "application/vnd.plotly.v1+json": {
       "config": {
        "plotlyServerURL": "https://plot.ly"
       },
       "data": [
        {
         "name": "USA",
         "type": "scatter",
         "x": [
          1904,
          1920,
          1924,
          1928,
          1932,
          1936,
          1948,
          1952,
          1956,
          1960,
          1964,
          1968,
          1972,
          1976,
          1980,
          1984,
          1988,
          1992,
          1994,
          1996,
          1998,
          2000,
          2002,
          2004,
          2006,
          2008,
          2010,
          2012,
          2014,
          2016
         ],
         "y": [
          24,
          27,
          38,
          19,
          22,
          44,
          47,
          50,
          48,
          39,
          39,
          41,
          59,
          53,
          19,
          70,
          73,
          75,
          22,
          66,
          42,
          65,
          43,
          50,
          43,
          65,
          43,
          53,
          44,
          49
         ]
        },
        {
         "name": "World",
         "type": "scatter",
         "x": [
          1900,
          1904,
          1906,
          1908,
          1912,
          1920,
          1924,
          1928,
          1932,
          1936,
          1948,
          1952,
          1956,
          1960,
          1964,
          1968,
          1972,
          1976,
          1980,
          1984,
          1988,
          1992,
          1994,
          1996,
          1998,
          2000,
          2002,
          2004,
          2006,
          2008,
          2010,
          2012,
          2014,
          2016
         ],
         "y": [
          35,
          36,
          45,
          114,
          163,
          339,
          504,
          468,
          111,
          708,
          802,
          934,
          594,
          821,
          903,
          980,
          962,
          845,
          962,
          982,
          1130,
          1036,
          246,
          961,
          384,
          919,
          425,
          942,
          399,
          974,
          377,
          984,
          399,
          988
         ]
        }
       ],
       "layout": {
        "template": {
         "data": {
          "bar": [
           {
            "error_x": {
             "color": "#2a3f5f"
            },
            "error_y": {
             "color": "#2a3f5f"
            },
            "marker": {
             "line": {
              "color": "#E5ECF6",
              "width": 0.5
             },
             "pattern": {
              "fillmode": "overlay",
              "size": 10,
              "solidity": 0.2
             }
            },
            "type": "bar"
           }
          ],
          "barpolar": [
           {
            "marker": {
             "line": {
              "color": "#E5ECF6",
              "width": 0.5
             },
             "pattern": {
              "fillmode": "overlay",
              "size": 10,
              "solidity": 0.2
             }
            },
            "type": "barpolar"
           }
          ],
          "carpet": [
           {
            "aaxis": {
             "endlinecolor": "#2a3f5f",
             "gridcolor": "white",
             "linecolor": "white",
             "minorgridcolor": "white",
             "startlinecolor": "#2a3f5f"
            },
            "baxis": {
             "endlinecolor": "#2a3f5f",
             "gridcolor": "white",
             "linecolor": "white",
             "minorgridcolor": "white",
             "startlinecolor": "#2a3f5f"
            },
            "type": "carpet"
           }
          ],
          "choropleth": [
           {
            "colorbar": {
             "outlinewidth": 0,
             "ticks": ""
            },
            "type": "choropleth"
           }
          ],
          "contour": [
           {
            "colorbar": {
             "outlinewidth": 0,
             "ticks": ""
            },
            "colorscale": [
             [
              0,
              "#0d0887"
             ],
             [
              0.1111111111111111,
              "#46039f"
             ],
             [
              0.2222222222222222,
              "#7201a8"
             ],
             [
              0.3333333333333333,
              "#9c179e"
             ],
             [
              0.4444444444444444,
              "#bd3786"
             ],
             [
              0.5555555555555556,
              "#d8576b"
             ],
             [
              0.6666666666666666,
              "#ed7953"
             ],
             [
              0.7777777777777778,
              "#fb9f3a"
             ],
             [
              0.8888888888888888,
              "#fdca26"
             ],
             [
              1,
              "#f0f921"
             ]
            ],
            "type": "contour"
           }
          ],
          "contourcarpet": [
           {
            "colorbar": {
             "outlinewidth": 0,
             "ticks": ""
            },
            "type": "contourcarpet"
           }
          ],
          "heatmap": [
           {
            "colorbar": {
             "outlinewidth": 0,
             "ticks": ""
            },
            "colorscale": [
             [
              0,
              "#0d0887"
             ],
             [
              0.1111111111111111,
              "#46039f"
             ],
             [
              0.2222222222222222,
              "#7201a8"
             ],
             [
              0.3333333333333333,
              "#9c179e"
             ],
             [
              0.4444444444444444,
              "#bd3786"
             ],
             [
              0.5555555555555556,
              "#d8576b"
             ],
             [
              0.6666666666666666,
              "#ed7953"
             ],
             [
              0.7777777777777778,
              "#fb9f3a"
             ],
             [
              0.8888888888888888,
              "#fdca26"
             ],
             [
              1,
              "#f0f921"
             ]
            ],
            "type": "heatmap"
           }
          ],
          "heatmapgl": [
           {
            "colorbar": {
             "outlinewidth": 0,
             "ticks": ""
            },
            "colorscale": [
             [
              0,
              "#0d0887"
             ],
             [
              0.1111111111111111,
              "#46039f"
             ],
             [
              0.2222222222222222,
              "#7201a8"
             ],
             [
              0.3333333333333333,
              "#9c179e"
             ],
             [
              0.4444444444444444,
              "#bd3786"
             ],
             [
              0.5555555555555556,
              "#d8576b"
             ],
             [
              0.6666666666666666,
              "#ed7953"
             ],
             [
              0.7777777777777778,
              "#fb9f3a"
             ],
             [
              0.8888888888888888,
              "#fdca26"
             ],
             [
              1,
              "#f0f921"
             ]
            ],
            "type": "heatmapgl"
           }
          ],
          "histogram": [
           {
            "marker": {
             "pattern": {
              "fillmode": "overlay",
              "size": 10,
              "solidity": 0.2
             }
            },
            "type": "histogram"
           }
          ],
          "histogram2d": [
           {
            "colorbar": {
             "outlinewidth": 0,
             "ticks": ""
            },
            "colorscale": [
             [
              0,
              "#0d0887"
             ],
             [
              0.1111111111111111,
              "#46039f"
             ],
             [
              0.2222222222222222,
              "#7201a8"
             ],
             [
              0.3333333333333333,
              "#9c179e"
             ],
             [
              0.4444444444444444,
              "#bd3786"
             ],
             [
              0.5555555555555556,
              "#d8576b"
             ],
             [
              0.6666666666666666,
              "#ed7953"
             ],
             [
              0.7777777777777778,
              "#fb9f3a"
             ],
             [
              0.8888888888888888,
              "#fdca26"
             ],
             [
              1,
              "#f0f921"
             ]
            ],
            "type": "histogram2d"
           }
          ],
          "histogram2dcontour": [
           {
            "colorbar": {
             "outlinewidth": 0,
             "ticks": ""
            },
            "colorscale": [
             [
              0,
              "#0d0887"
             ],
             [
              0.1111111111111111,
              "#46039f"
             ],
             [
              0.2222222222222222,
              "#7201a8"
             ],
             [
              0.3333333333333333,
              "#9c179e"
             ],
             [
              0.4444444444444444,
              "#bd3786"
             ],
             [
              0.5555555555555556,
              "#d8576b"
             ],
             [
              0.6666666666666666,
              "#ed7953"
             ],
             [
              0.7777777777777778,
              "#fb9f3a"
             ],
             [
              0.8888888888888888,
              "#fdca26"
             ],
             [
              1,
              "#f0f921"
             ]
            ],
            "type": "histogram2dcontour"
           }
          ],
          "mesh3d": [
           {
            "colorbar": {
             "outlinewidth": 0,
             "ticks": ""
            },
            "type": "mesh3d"
           }
          ],
          "parcoords": [
           {
            "line": {
             "colorbar": {
              "outlinewidth": 0,
              "ticks": ""
             }
            },
            "type": "parcoords"
           }
          ],
          "pie": [
           {
            "automargin": true,
            "type": "pie"
           }
          ],
          "scatter": [
           {
            "fillpattern": {
             "fillmode": "overlay",
             "size": 10,
             "solidity": 0.2
            },
            "type": "scatter"
           }
          ],
          "scatter3d": [
           {
            "line": {
             "colorbar": {
              "outlinewidth": 0,
              "ticks": ""
             }
            },
            "marker": {
             "colorbar": {
              "outlinewidth": 0,
              "ticks": ""
             }
            },
            "type": "scatter3d"
           }
          ],
          "scattercarpet": [
           {
            "marker": {
             "colorbar": {
              "outlinewidth": 0,
              "ticks": ""
             }
            },
            "type": "scattercarpet"
           }
          ],
          "scattergeo": [
           {
            "marker": {
             "colorbar": {
              "outlinewidth": 0,
              "ticks": ""
             }
            },
            "type": "scattergeo"
           }
          ],
          "scattergl": [
           {
            "marker": {
             "colorbar": {
              "outlinewidth": 0,
              "ticks": ""
             }
            },
            "type": "scattergl"
           }
          ],
          "scattermapbox": [
           {
            "marker": {
             "colorbar": {
              "outlinewidth": 0,
              "ticks": ""
             }
            },
            "type": "scattermapbox"
           }
          ],
          "scatterpolar": [
           {
            "marker": {
             "colorbar": {
              "outlinewidth": 0,
              "ticks": ""
             }
            },
            "type": "scatterpolar"
           }
          ],
          "scatterpolargl": [
           {
            "marker": {
             "colorbar": {
              "outlinewidth": 0,
              "ticks": ""
             }
            },
            "type": "scatterpolargl"
           }
          ],
          "scatterternary": [
           {
            "marker": {
             "colorbar": {
              "outlinewidth": 0,
              "ticks": ""
             }
            },
            "type": "scatterternary"
           }
          ],
          "surface": [
           {
            "colorbar": {
             "outlinewidth": 0,
             "ticks": ""
            },
            "colorscale": [
             [
              0,
              "#0d0887"
             ],
             [
              0.1111111111111111,
              "#46039f"
             ],
             [
              0.2222222222222222,
              "#7201a8"
             ],
             [
              0.3333333333333333,
              "#9c179e"
             ],
             [
              0.4444444444444444,
              "#bd3786"
             ],
             [
              0.5555555555555556,
              "#d8576b"
             ],
             [
              0.6666666666666666,
              "#ed7953"
             ],
             [
              0.7777777777777778,
              "#fb9f3a"
             ],
             [
              0.8888888888888888,
              "#fdca26"
             ],
             [
              1,
              "#f0f921"
             ]
            ],
            "type": "surface"
           }
          ],
          "table": [
           {
            "cells": {
             "fill": {
              "color": "#EBF0F8"
             },
             "line": {
              "color": "white"
             }
            },
            "header": {
             "fill": {
              "color": "#C8D4E3"
             },
             "line": {
              "color": "white"
             }
            },
            "type": "table"
           }
          ]
         },
         "layout": {
          "annotationdefaults": {
           "arrowcolor": "#2a3f5f",
           "arrowhead": 0,
           "arrowwidth": 1
          },
          "autotypenumbers": "strict",
          "coloraxis": {
           "colorbar": {
            "outlinewidth": 0,
            "ticks": ""
           }
          },
          "colorscale": {
           "diverging": [
            [
             0,
             "#8e0152"
            ],
            [
             0.1,
             "#c51b7d"
            ],
            [
             0.2,
             "#de77ae"
            ],
            [
             0.3,
             "#f1b6da"
            ],
            [
             0.4,
             "#fde0ef"
            ],
            [
             0.5,
             "#f7f7f7"
            ],
            [
             0.6,
             "#e6f5d0"
            ],
            [
             0.7,
             "#b8e186"
            ],
            [
             0.8,
             "#7fbc41"
            ],
            [
             0.9,
             "#4d9221"
            ],
            [
             1,
             "#276419"
            ]
           ],
           "sequential": [
            [
             0,
             "#0d0887"
            ],
            [
             0.1111111111111111,
             "#46039f"
            ],
            [
             0.2222222222222222,
             "#7201a8"
            ],
            [
             0.3333333333333333,
             "#9c179e"
            ],
            [
             0.4444444444444444,
             "#bd3786"
            ],
            [
             0.5555555555555556,
             "#d8576b"
            ],
            [
             0.6666666666666666,
             "#ed7953"
            ],
            [
             0.7777777777777778,
             "#fb9f3a"
            ],
            [
             0.8888888888888888,
             "#fdca26"
            ],
            [
             1,
             "#f0f921"
            ]
           ],
           "sequentialminus": [
            [
             0,
             "#0d0887"
            ],
            [
             0.1111111111111111,
             "#46039f"
            ],
            [
             0.2222222222222222,
             "#7201a8"
            ],
            [
             0.3333333333333333,
             "#9c179e"
            ],
            [
             0.4444444444444444,
             "#bd3786"
            ],
            [
             0.5555555555555556,
             "#d8576b"
            ],
            [
             0.6666666666666666,
             "#ed7953"
            ],
            [
             0.7777777777777778,
             "#fb9f3a"
            ],
            [
             0.8888888888888888,
             "#fdca26"
            ],
            [
             1,
             "#f0f921"
            ]
           ]
          },
          "colorway": [
           "#636efa",
           "#EF553B",
           "#00cc96",
           "#ab63fa",
           "#FFA15A",
           "#19d3f3",
           "#FF6692",
           "#B6E880",
           "#FF97FF",
           "#FECB52"
          ],
          "font": {
           "color": "#2a3f5f"
          },
          "geo": {
           "bgcolor": "white",
           "lakecolor": "white",
           "landcolor": "#E5ECF6",
           "showlakes": true,
           "showland": true,
           "subunitcolor": "white"
          },
          "hoverlabel": {
           "align": "left"
          },
          "hovermode": "closest",
          "mapbox": {
           "style": "light"
          },
          "paper_bgcolor": "white",
          "plot_bgcolor": "#E5ECF6",
          "polar": {
           "angularaxis": {
            "gridcolor": "white",
            "linecolor": "white",
            "ticks": ""
           },
           "bgcolor": "#E5ECF6",
           "radialaxis": {
            "gridcolor": "white",
            "linecolor": "white",
            "ticks": ""
           }
          },
          "scene": {
           "xaxis": {
            "backgroundcolor": "#E5ECF6",
            "gridcolor": "white",
            "gridwidth": 2,
            "linecolor": "white",
            "showbackground": true,
            "ticks": "",
            "zerolinecolor": "white"
           },
           "yaxis": {
            "backgroundcolor": "#E5ECF6",
            "gridcolor": "white",
            "gridwidth": 2,
            "linecolor": "white",
            "showbackground": true,
            "ticks": "",
            "zerolinecolor": "white"
           },
           "zaxis": {
            "backgroundcolor": "#E5ECF6",
            "gridcolor": "white",
            "gridwidth": 2,
            "linecolor": "white",
            "showbackground": true,
            "ticks": "",
            "zerolinecolor": "white"
           }
          },
          "shapedefaults": {
           "line": {
            "color": "#2a3f5f"
           }
          },
          "ternary": {
           "aaxis": {
            "gridcolor": "white",
            "linecolor": "white",
            "ticks": ""
           },
           "baxis": {
            "gridcolor": "white",
            "linecolor": "white",
            "ticks": ""
           },
           "bgcolor": "#E5ECF6",
           "caxis": {
            "gridcolor": "white",
            "linecolor": "white",
            "ticks": ""
           }
          },
          "title": {
           "x": 0.05
          },
          "xaxis": {
           "automargin": true,
           "gridcolor": "white",
           "linecolor": "white",
           "ticks": "",
           "title": {
            "standoff": 15
           },
           "zerolinecolor": "white",
           "zerolinewidth": 2
          },
          "yaxis": {
           "automargin": true,
           "gridcolor": "white",
           "linecolor": "white",
           "ticks": "",
           "title": {
            "standoff": 15
           },
           "zerolinecolor": "white",
           "zerolinewidth": 2
          }
         }
        },
        "title": {
         "text": "Medals won by the USA vs the world over time"
        }
       }
      }
     },
     "metadata": {},
     "output_type": "display_data"
    }
   ],
   "source": [
    "# using plotly.graph_objects turns out to be easier to use when comparing from two different dataframes\n",
    "# https://stackoverflow.com/questions/60372991/plotly-how-to-plot-two-lines-from-two-dataframe-columns-and-assign-hover-info-f\n",
    "\n",
    "fig = go.Figure()\n",
    "fig.add_trace(go.Scatter(x=df_usa[\"Year\"], y=df_usa[\"Medals\"], name=\"USA\"))\n",
    "fig.add_trace(go.Scatter(x=df_world[\"Year\"], y=df_world[\"Medals\"], name=\"World\"))\n",
    "fig.update_layout(title=\"Medals won by the USA vs the world over time\")\n",
    "fig.show()"
   ]
  },
  {
   "cell_type": "markdown",
   "metadata": {},
   "source": [
    "### Number of minors in each sport"
   ]
  },
  {
   "cell_type": "code",
   "execution_count": 30,
   "metadata": {},
   "outputs": [
    {
     "data": {
      "application/vnd.plotly.v1+json": {
       "config": {
        "plotlyServerURL": "https://plot.ly"
       },
       "data": [
        {
         "alignmentgroup": "True",
         "hovertemplate": "Sport=%{x}<br>Number of minors=%{y}<extra></extra>",
         "legendgroup": "Boxing",
         "marker": {
          "color": "#636efa",
          "pattern": {
           "shape": ""
          }
         },
         "name": "Boxing",
         "offsetgroup": "Boxing",
         "orientation": "v",
         "showlegend": true,
         "textposition": "auto",
         "type": "bar",
         "x": [
          "Boxing"
         ],
         "xaxis": "x",
         "y": [
          129
         ],
         "yaxis": "y"
        },
        {
         "alignmentgroup": "True",
         "hovertemplate": "Sport=%{x}<br>Number of minors=%{y}<extra></extra>",
         "legendgroup": "Football",
         "marker": {
          "color": "#EF553B",
          "pattern": {
           "shape": ""
          }
         },
         "name": "Football",
         "offsetgroup": "Football",
         "orientation": "v",
         "showlegend": true,
         "textposition": "auto",
         "type": "bar",
         "x": [
          "Football"
         ],
         "xaxis": "x",
         "y": [
          68
         ],
         "yaxis": "y"
        },
        {
         "alignmentgroup": "True",
         "hovertemplate": "Sport=%{x}<br>Number of minors=%{y}<extra></extra>",
         "legendgroup": "Ice Hockey",
         "marker": {
          "color": "#00cc96",
          "pattern": {
           "shape": ""
          }
         },
         "name": "Ice Hockey",
         "offsetgroup": "Ice Hockey",
         "orientation": "v",
         "showlegend": true,
         "textposition": "auto",
         "type": "bar",
         "x": [
          "Ice Hockey"
         ],
         "xaxis": "x",
         "y": [
          47
         ],
         "yaxis": "y"
        },
        {
         "alignmentgroup": "True",
         "hovertemplate": "Sport=%{x}<br>Number of minors=%{y}<extra></extra>",
         "legendgroup": "Basketball",
         "marker": {
          "color": "#ab63fa",
          "pattern": {
           "shape": ""
          }
         },
         "name": "Basketball",
         "offsetgroup": "Basketball",
         "orientation": "v",
         "showlegend": true,
         "textposition": "auto",
         "type": "bar",
         "x": [
          "Basketball"
         ],
         "xaxis": "x",
         "y": [
          12
         ],
         "yaxis": "y"
        }
       ],
       "layout": {
        "barmode": "relative",
        "legend": {
         "title": {
          "text": "Sport"
         },
         "tracegroupgap": 0
        },
        "template": {
         "data": {
          "bar": [
           {
            "error_x": {
             "color": "#2a3f5f"
            },
            "error_y": {
             "color": "#2a3f5f"
            },
            "marker": {
             "line": {
              "color": "#E5ECF6",
              "width": 0.5
             },
             "pattern": {
              "fillmode": "overlay",
              "size": 10,
              "solidity": 0.2
             }
            },
            "type": "bar"
           }
          ],
          "barpolar": [
           {
            "marker": {
             "line": {
              "color": "#E5ECF6",
              "width": 0.5
             },
             "pattern": {
              "fillmode": "overlay",
              "size": 10,
              "solidity": 0.2
             }
            },
            "type": "barpolar"
           }
          ],
          "carpet": [
           {
            "aaxis": {
             "endlinecolor": "#2a3f5f",
             "gridcolor": "white",
             "linecolor": "white",
             "minorgridcolor": "white",
             "startlinecolor": "#2a3f5f"
            },
            "baxis": {
             "endlinecolor": "#2a3f5f",
             "gridcolor": "white",
             "linecolor": "white",
             "minorgridcolor": "white",
             "startlinecolor": "#2a3f5f"
            },
            "type": "carpet"
           }
          ],
          "choropleth": [
           {
            "colorbar": {
             "outlinewidth": 0,
             "ticks": ""
            },
            "type": "choropleth"
           }
          ],
          "contour": [
           {
            "colorbar": {
             "outlinewidth": 0,
             "ticks": ""
            },
            "colorscale": [
             [
              0,
              "#0d0887"
             ],
             [
              0.1111111111111111,
              "#46039f"
             ],
             [
              0.2222222222222222,
              "#7201a8"
             ],
             [
              0.3333333333333333,
              "#9c179e"
             ],
             [
              0.4444444444444444,
              "#bd3786"
             ],
             [
              0.5555555555555556,
              "#d8576b"
             ],
             [
              0.6666666666666666,
              "#ed7953"
             ],
             [
              0.7777777777777778,
              "#fb9f3a"
             ],
             [
              0.8888888888888888,
              "#fdca26"
             ],
             [
              1,
              "#f0f921"
             ]
            ],
            "type": "contour"
           }
          ],
          "contourcarpet": [
           {
            "colorbar": {
             "outlinewidth": 0,
             "ticks": ""
            },
            "type": "contourcarpet"
           }
          ],
          "heatmap": [
           {
            "colorbar": {
             "outlinewidth": 0,
             "ticks": ""
            },
            "colorscale": [
             [
              0,
              "#0d0887"
             ],
             [
              0.1111111111111111,
              "#46039f"
             ],
             [
              0.2222222222222222,
              "#7201a8"
             ],
             [
              0.3333333333333333,
              "#9c179e"
             ],
             [
              0.4444444444444444,
              "#bd3786"
             ],
             [
              0.5555555555555556,
              "#d8576b"
             ],
             [
              0.6666666666666666,
              "#ed7953"
             ],
             [
              0.7777777777777778,
              "#fb9f3a"
             ],
             [
              0.8888888888888888,
              "#fdca26"
             ],
             [
              1,
              "#f0f921"
             ]
            ],
            "type": "heatmap"
           }
          ],
          "heatmapgl": [
           {
            "colorbar": {
             "outlinewidth": 0,
             "ticks": ""
            },
            "colorscale": [
             [
              0,
              "#0d0887"
             ],
             [
              0.1111111111111111,
              "#46039f"
             ],
             [
              0.2222222222222222,
              "#7201a8"
             ],
             [
              0.3333333333333333,
              "#9c179e"
             ],
             [
              0.4444444444444444,
              "#bd3786"
             ],
             [
              0.5555555555555556,
              "#d8576b"
             ],
             [
              0.6666666666666666,
              "#ed7953"
             ],
             [
              0.7777777777777778,
              "#fb9f3a"
             ],
             [
              0.8888888888888888,
              "#fdca26"
             ],
             [
              1,
              "#f0f921"
             ]
            ],
            "type": "heatmapgl"
           }
          ],
          "histogram": [
           {
            "marker": {
             "pattern": {
              "fillmode": "overlay",
              "size": 10,
              "solidity": 0.2
             }
            },
            "type": "histogram"
           }
          ],
          "histogram2d": [
           {
            "colorbar": {
             "outlinewidth": 0,
             "ticks": ""
            },
            "colorscale": [
             [
              0,
              "#0d0887"
             ],
             [
              0.1111111111111111,
              "#46039f"
             ],
             [
              0.2222222222222222,
              "#7201a8"
             ],
             [
              0.3333333333333333,
              "#9c179e"
             ],
             [
              0.4444444444444444,
              "#bd3786"
             ],
             [
              0.5555555555555556,
              "#d8576b"
             ],
             [
              0.6666666666666666,
              "#ed7953"
             ],
             [
              0.7777777777777778,
              "#fb9f3a"
             ],
             [
              0.8888888888888888,
              "#fdca26"
             ],
             [
              1,
              "#f0f921"
             ]
            ],
            "type": "histogram2d"
           }
          ],
          "histogram2dcontour": [
           {
            "colorbar": {
             "outlinewidth": 0,
             "ticks": ""
            },
            "colorscale": [
             [
              0,
              "#0d0887"
             ],
             [
              0.1111111111111111,
              "#46039f"
             ],
             [
              0.2222222222222222,
              "#7201a8"
             ],
             [
              0.3333333333333333,
              "#9c179e"
             ],
             [
              0.4444444444444444,
              "#bd3786"
             ],
             [
              0.5555555555555556,
              "#d8576b"
             ],
             [
              0.6666666666666666,
              "#ed7953"
             ],
             [
              0.7777777777777778,
              "#fb9f3a"
             ],
             [
              0.8888888888888888,
              "#fdca26"
             ],
             [
              1,
              "#f0f921"
             ]
            ],
            "type": "histogram2dcontour"
           }
          ],
          "mesh3d": [
           {
            "colorbar": {
             "outlinewidth": 0,
             "ticks": ""
            },
            "type": "mesh3d"
           }
          ],
          "parcoords": [
           {
            "line": {
             "colorbar": {
              "outlinewidth": 0,
              "ticks": ""
             }
            },
            "type": "parcoords"
           }
          ],
          "pie": [
           {
            "automargin": true,
            "type": "pie"
           }
          ],
          "scatter": [
           {
            "fillpattern": {
             "fillmode": "overlay",
             "size": 10,
             "solidity": 0.2
            },
            "type": "scatter"
           }
          ],
          "scatter3d": [
           {
            "line": {
             "colorbar": {
              "outlinewidth": 0,
              "ticks": ""
             }
            },
            "marker": {
             "colorbar": {
              "outlinewidth": 0,
              "ticks": ""
             }
            },
            "type": "scatter3d"
           }
          ],
          "scattercarpet": [
           {
            "marker": {
             "colorbar": {
              "outlinewidth": 0,
              "ticks": ""
             }
            },
            "type": "scattercarpet"
           }
          ],
          "scattergeo": [
           {
            "marker": {
             "colorbar": {
              "outlinewidth": 0,
              "ticks": ""
             }
            },
            "type": "scattergeo"
           }
          ],
          "scattergl": [
           {
            "marker": {
             "colorbar": {
              "outlinewidth": 0,
              "ticks": ""
             }
            },
            "type": "scattergl"
           }
          ],
          "scattermapbox": [
           {
            "marker": {
             "colorbar": {
              "outlinewidth": 0,
              "ticks": ""
             }
            },
            "type": "scattermapbox"
           }
          ],
          "scatterpolar": [
           {
            "marker": {
             "colorbar": {
              "outlinewidth": 0,
              "ticks": ""
             }
            },
            "type": "scatterpolar"
           }
          ],
          "scatterpolargl": [
           {
            "marker": {
             "colorbar": {
              "outlinewidth": 0,
              "ticks": ""
             }
            },
            "type": "scatterpolargl"
           }
          ],
          "scatterternary": [
           {
            "marker": {
             "colorbar": {
              "outlinewidth": 0,
              "ticks": ""
             }
            },
            "type": "scatterternary"
           }
          ],
          "surface": [
           {
            "colorbar": {
             "outlinewidth": 0,
             "ticks": ""
            },
            "colorscale": [
             [
              0,
              "#0d0887"
             ],
             [
              0.1111111111111111,
              "#46039f"
             ],
             [
              0.2222222222222222,
              "#7201a8"
             ],
             [
              0.3333333333333333,
              "#9c179e"
             ],
             [
              0.4444444444444444,
              "#bd3786"
             ],
             [
              0.5555555555555556,
              "#d8576b"
             ],
             [
              0.6666666666666666,
              "#ed7953"
             ],
             [
              0.7777777777777778,
              "#fb9f3a"
             ],
             [
              0.8888888888888888,
              "#fdca26"
             ],
             [
              1,
              "#f0f921"
             ]
            ],
            "type": "surface"
           }
          ],
          "table": [
           {
            "cells": {
             "fill": {
              "color": "#EBF0F8"
             },
             "line": {
              "color": "white"
             }
            },
            "header": {
             "fill": {
              "color": "#C8D4E3"
             },
             "line": {
              "color": "white"
             }
            },
            "type": "table"
           }
          ]
         },
         "layout": {
          "annotationdefaults": {
           "arrowcolor": "#2a3f5f",
           "arrowhead": 0,
           "arrowwidth": 1
          },
          "autotypenumbers": "strict",
          "coloraxis": {
           "colorbar": {
            "outlinewidth": 0,
            "ticks": ""
           }
          },
          "colorscale": {
           "diverging": [
            [
             0,
             "#8e0152"
            ],
            [
             0.1,
             "#c51b7d"
            ],
            [
             0.2,
             "#de77ae"
            ],
            [
             0.3,
             "#f1b6da"
            ],
            [
             0.4,
             "#fde0ef"
            ],
            [
             0.5,
             "#f7f7f7"
            ],
            [
             0.6,
             "#e6f5d0"
            ],
            [
             0.7,
             "#b8e186"
            ],
            [
             0.8,
             "#7fbc41"
            ],
            [
             0.9,
             "#4d9221"
            ],
            [
             1,
             "#276419"
            ]
           ],
           "sequential": [
            [
             0,
             "#0d0887"
            ],
            [
             0.1111111111111111,
             "#46039f"
            ],
            [
             0.2222222222222222,
             "#7201a8"
            ],
            [
             0.3333333333333333,
             "#9c179e"
            ],
            [
             0.4444444444444444,
             "#bd3786"
            ],
            [
             0.5555555555555556,
             "#d8576b"
            ],
            [
             0.6666666666666666,
             "#ed7953"
            ],
            [
             0.7777777777777778,
             "#fb9f3a"
            ],
            [
             0.8888888888888888,
             "#fdca26"
            ],
            [
             1,
             "#f0f921"
            ]
           ],
           "sequentialminus": [
            [
             0,
             "#0d0887"
            ],
            [
             0.1111111111111111,
             "#46039f"
            ],
            [
             0.2222222222222222,
             "#7201a8"
            ],
            [
             0.3333333333333333,
             "#9c179e"
            ],
            [
             0.4444444444444444,
             "#bd3786"
            ],
            [
             0.5555555555555556,
             "#d8576b"
            ],
            [
             0.6666666666666666,
             "#ed7953"
            ],
            [
             0.7777777777777778,
             "#fb9f3a"
            ],
            [
             0.8888888888888888,
             "#fdca26"
            ],
            [
             1,
             "#f0f921"
            ]
           ]
          },
          "colorway": [
           "#636efa",
           "#EF553B",
           "#00cc96",
           "#ab63fa",
           "#FFA15A",
           "#19d3f3",
           "#FF6692",
           "#B6E880",
           "#FF97FF",
           "#FECB52"
          ],
          "font": {
           "color": "#2a3f5f"
          },
          "geo": {
           "bgcolor": "white",
           "lakecolor": "white",
           "landcolor": "#E5ECF6",
           "showlakes": true,
           "showland": true,
           "subunitcolor": "white"
          },
          "hoverlabel": {
           "align": "left"
          },
          "hovermode": "closest",
          "mapbox": {
           "style": "light"
          },
          "paper_bgcolor": "white",
          "plot_bgcolor": "#E5ECF6",
          "polar": {
           "angularaxis": {
            "gridcolor": "white",
            "linecolor": "white",
            "ticks": ""
           },
           "bgcolor": "#E5ECF6",
           "radialaxis": {
            "gridcolor": "white",
            "linecolor": "white",
            "ticks": ""
           }
          },
          "scene": {
           "xaxis": {
            "backgroundcolor": "#E5ECF6",
            "gridcolor": "white",
            "gridwidth": 2,
            "linecolor": "white",
            "showbackground": true,
            "ticks": "",
            "zerolinecolor": "white"
           },
           "yaxis": {
            "backgroundcolor": "#E5ECF6",
            "gridcolor": "white",
            "gridwidth": 2,
            "linecolor": "white",
            "showbackground": true,
            "ticks": "",
            "zerolinecolor": "white"
           },
           "zaxis": {
            "backgroundcolor": "#E5ECF6",
            "gridcolor": "white",
            "gridwidth": 2,
            "linecolor": "white",
            "showbackground": true,
            "ticks": "",
            "zerolinecolor": "white"
           }
          },
          "shapedefaults": {
           "line": {
            "color": "#2a3f5f"
           }
          },
          "ternary": {
           "aaxis": {
            "gridcolor": "white",
            "linecolor": "white",
            "ticks": ""
           },
           "baxis": {
            "gridcolor": "white",
            "linecolor": "white",
            "ticks": ""
           },
           "bgcolor": "#E5ECF6",
           "caxis": {
            "gridcolor": "white",
            "linecolor": "white",
            "ticks": ""
           }
          },
          "title": {
           "x": 0.05
          },
          "xaxis": {
           "automargin": true,
           "gridcolor": "white",
           "linecolor": "white",
           "ticks": "",
           "title": {
            "standoff": 15
           },
           "zerolinecolor": "white",
           "zerolinewidth": 2
          },
          "yaxis": {
           "automargin": true,
           "gridcolor": "white",
           "linecolor": "white",
           "ticks": "",
           "title": {
            "standoff": 15
           },
           "zerolinecolor": "white",
           "zerolinewidth": 2
          }
         }
        },
        "title": {
         "text": "Number of minors in each sport"
        },
        "xaxis": {
         "anchor": "y",
         "categoryarray": [
          "Boxing",
          "Football",
          "Ice Hockey",
          "Basketball"
         ],
         "categoryorder": "array",
         "domain": [
          0,
          1
         ],
         "title": {
          "text": "Sport"
         }
        },
        "yaxis": {
         "anchor": "x",
         "domain": [
          0,
          1
         ],
         "title": {
          "text": "Number of minors"
         }
        }
       }
      }
     },
     "metadata": {},
     "output_type": "display_data"
    }
   ],
   "source": [
    "# plot the number of minors in each sport\n",
    "df_minor = df_sports[df_sports[\"Age\"] < 18]\n",
    "df_minor = df_minor[\"Sport\"].value_counts()\n",
    "df_minor = pd.DataFrame(df_minor)\n",
    "df_minor = df_minor.reset_index()\n",
    "df_minor.columns = [\"Sport\", \"Number of minors\"]\n",
    "\n",
    "fig = px.bar(\n",
    "    df_minor,\n",
    "    x=\"Sport\",\n",
    "    y=\"Number of minors\",\n",
    "    color=\"Sport\",\n",
    "    title=\"Number of minors in each sport\",\n",
    ")\n",
    "fig.show()"
   ]
  },
  {
   "cell_type": "markdown",
   "metadata": {},
   "source": [
    "### Weight and height average in each sport"
   ]
  },
  {
   "cell_type": "code",
   "execution_count": 31,
   "metadata": {},
   "outputs": [
    {
     "data": {
      "application/vnd.plotly.v1+json": {
       "config": {
        "plotlyServerURL": "https://plot.ly"
       },
       "data": [
        {
         "alignmentgroup": "True",
         "hovertemplate": "variable=Average weight<br>Sport=%{x}<br>value=%{y}<extra></extra>",
         "legendgroup": "Average weight",
         "marker": {
          "color": "#636efa",
          "pattern": {
           "shape": ""
          }
         },
         "name": "Average weight",
         "offsetgroup": "Average weight",
         "orientation": "v",
         "showlegend": true,
         "textposition": "auto",
         "type": "bar",
         "x": [
          "Basketball",
          "Boxing",
          "Football",
          "Ice Hockey"
         ],
         "xaxis": "x",
         "y": [
          85.77705274605763,
          65.2498901098901,
          70.44683432605339,
          80.8103635967777
         ],
         "yaxis": "y"
        },
        {
         "alignmentgroup": "True",
         "hovertemplate": "variable=Average height<br>Sport=%{x}<br>value=%{y}<extra></extra>",
         "legendgroup": "Average height",
         "marker": {
          "color": "#EF553B",
          "pattern": {
           "shape": ""
          }
         },
         "name": "Average height",
         "offsetgroup": "Average height",
         "orientation": "v",
         "showlegend": true,
         "textposition": "auto",
         "type": "bar",
         "x": [
          "Basketball",
          "Boxing",
          "Football",
          "Ice Hockey"
         ],
         "xaxis": "x",
         "y": [
          190.86987889719146,
          172.8256880733945,
          175.40219496449322,
          178.90132292344393
         ],
         "yaxis": "y"
        }
       ],
       "layout": {
        "barmode": "group",
        "legend": {
         "title": {
          "text": "variable"
         },
         "tracegroupgap": 0
        },
        "template": {
         "data": {
          "bar": [
           {
            "error_x": {
             "color": "#2a3f5f"
            },
            "error_y": {
             "color": "#2a3f5f"
            },
            "marker": {
             "line": {
              "color": "#E5ECF6",
              "width": 0.5
             },
             "pattern": {
              "fillmode": "overlay",
              "size": 10,
              "solidity": 0.2
             }
            },
            "type": "bar"
           }
          ],
          "barpolar": [
           {
            "marker": {
             "line": {
              "color": "#E5ECF6",
              "width": 0.5
             },
             "pattern": {
              "fillmode": "overlay",
              "size": 10,
              "solidity": 0.2
             }
            },
            "type": "barpolar"
           }
          ],
          "carpet": [
           {
            "aaxis": {
             "endlinecolor": "#2a3f5f",
             "gridcolor": "white",
             "linecolor": "white",
             "minorgridcolor": "white",
             "startlinecolor": "#2a3f5f"
            },
            "baxis": {
             "endlinecolor": "#2a3f5f",
             "gridcolor": "white",
             "linecolor": "white",
             "minorgridcolor": "white",
             "startlinecolor": "#2a3f5f"
            },
            "type": "carpet"
           }
          ],
          "choropleth": [
           {
            "colorbar": {
             "outlinewidth": 0,
             "ticks": ""
            },
            "type": "choropleth"
           }
          ],
          "contour": [
           {
            "colorbar": {
             "outlinewidth": 0,
             "ticks": ""
            },
            "colorscale": [
             [
              0,
              "#0d0887"
             ],
             [
              0.1111111111111111,
              "#46039f"
             ],
             [
              0.2222222222222222,
              "#7201a8"
             ],
             [
              0.3333333333333333,
              "#9c179e"
             ],
             [
              0.4444444444444444,
              "#bd3786"
             ],
             [
              0.5555555555555556,
              "#d8576b"
             ],
             [
              0.6666666666666666,
              "#ed7953"
             ],
             [
              0.7777777777777778,
              "#fb9f3a"
             ],
             [
              0.8888888888888888,
              "#fdca26"
             ],
             [
              1,
              "#f0f921"
             ]
            ],
            "type": "contour"
           }
          ],
          "contourcarpet": [
           {
            "colorbar": {
             "outlinewidth": 0,
             "ticks": ""
            },
            "type": "contourcarpet"
           }
          ],
          "heatmap": [
           {
            "colorbar": {
             "outlinewidth": 0,
             "ticks": ""
            },
            "colorscale": [
             [
              0,
              "#0d0887"
             ],
             [
              0.1111111111111111,
              "#46039f"
             ],
             [
              0.2222222222222222,
              "#7201a8"
             ],
             [
              0.3333333333333333,
              "#9c179e"
             ],
             [
              0.4444444444444444,
              "#bd3786"
             ],
             [
              0.5555555555555556,
              "#d8576b"
             ],
             [
              0.6666666666666666,
              "#ed7953"
             ],
             [
              0.7777777777777778,
              "#fb9f3a"
             ],
             [
              0.8888888888888888,
              "#fdca26"
             ],
             [
              1,
              "#f0f921"
             ]
            ],
            "type": "heatmap"
           }
          ],
          "heatmapgl": [
           {
            "colorbar": {
             "outlinewidth": 0,
             "ticks": ""
            },
            "colorscale": [
             [
              0,
              "#0d0887"
             ],
             [
              0.1111111111111111,
              "#46039f"
             ],
             [
              0.2222222222222222,
              "#7201a8"
             ],
             [
              0.3333333333333333,
              "#9c179e"
             ],
             [
              0.4444444444444444,
              "#bd3786"
             ],
             [
              0.5555555555555556,
              "#d8576b"
             ],
             [
              0.6666666666666666,
              "#ed7953"
             ],
             [
              0.7777777777777778,
              "#fb9f3a"
             ],
             [
              0.8888888888888888,
              "#fdca26"
             ],
             [
              1,
              "#f0f921"
             ]
            ],
            "type": "heatmapgl"
           }
          ],
          "histogram": [
           {
            "marker": {
             "pattern": {
              "fillmode": "overlay",
              "size": 10,
              "solidity": 0.2
             }
            },
            "type": "histogram"
           }
          ],
          "histogram2d": [
           {
            "colorbar": {
             "outlinewidth": 0,
             "ticks": ""
            },
            "colorscale": [
             [
              0,
              "#0d0887"
             ],
             [
              0.1111111111111111,
              "#46039f"
             ],
             [
              0.2222222222222222,
              "#7201a8"
             ],
             [
              0.3333333333333333,
              "#9c179e"
             ],
             [
              0.4444444444444444,
              "#bd3786"
             ],
             [
              0.5555555555555556,
              "#d8576b"
             ],
             [
              0.6666666666666666,
              "#ed7953"
             ],
             [
              0.7777777777777778,
              "#fb9f3a"
             ],
             [
              0.8888888888888888,
              "#fdca26"
             ],
             [
              1,
              "#f0f921"
             ]
            ],
            "type": "histogram2d"
           }
          ],
          "histogram2dcontour": [
           {
            "colorbar": {
             "outlinewidth": 0,
             "ticks": ""
            },
            "colorscale": [
             [
              0,
              "#0d0887"
             ],
             [
              0.1111111111111111,
              "#46039f"
             ],
             [
              0.2222222222222222,
              "#7201a8"
             ],
             [
              0.3333333333333333,
              "#9c179e"
             ],
             [
              0.4444444444444444,
              "#bd3786"
             ],
             [
              0.5555555555555556,
              "#d8576b"
             ],
             [
              0.6666666666666666,
              "#ed7953"
             ],
             [
              0.7777777777777778,
              "#fb9f3a"
             ],
             [
              0.8888888888888888,
              "#fdca26"
             ],
             [
              1,
              "#f0f921"
             ]
            ],
            "type": "histogram2dcontour"
           }
          ],
          "mesh3d": [
           {
            "colorbar": {
             "outlinewidth": 0,
             "ticks": ""
            },
            "type": "mesh3d"
           }
          ],
          "parcoords": [
           {
            "line": {
             "colorbar": {
              "outlinewidth": 0,
              "ticks": ""
             }
            },
            "type": "parcoords"
           }
          ],
          "pie": [
           {
            "automargin": true,
            "type": "pie"
           }
          ],
          "scatter": [
           {
            "fillpattern": {
             "fillmode": "overlay",
             "size": 10,
             "solidity": 0.2
            },
            "type": "scatter"
           }
          ],
          "scatter3d": [
           {
            "line": {
             "colorbar": {
              "outlinewidth": 0,
              "ticks": ""
             }
            },
            "marker": {
             "colorbar": {
              "outlinewidth": 0,
              "ticks": ""
             }
            },
            "type": "scatter3d"
           }
          ],
          "scattercarpet": [
           {
            "marker": {
             "colorbar": {
              "outlinewidth": 0,
              "ticks": ""
             }
            },
            "type": "scattercarpet"
           }
          ],
          "scattergeo": [
           {
            "marker": {
             "colorbar": {
              "outlinewidth": 0,
              "ticks": ""
             }
            },
            "type": "scattergeo"
           }
          ],
          "scattergl": [
           {
            "marker": {
             "colorbar": {
              "outlinewidth": 0,
              "ticks": ""
             }
            },
            "type": "scattergl"
           }
          ],
          "scattermapbox": [
           {
            "marker": {
             "colorbar": {
              "outlinewidth": 0,
              "ticks": ""
             }
            },
            "type": "scattermapbox"
           }
          ],
          "scatterpolar": [
           {
            "marker": {
             "colorbar": {
              "outlinewidth": 0,
              "ticks": ""
             }
            },
            "type": "scatterpolar"
           }
          ],
          "scatterpolargl": [
           {
            "marker": {
             "colorbar": {
              "outlinewidth": 0,
              "ticks": ""
             }
            },
            "type": "scatterpolargl"
           }
          ],
          "scatterternary": [
           {
            "marker": {
             "colorbar": {
              "outlinewidth": 0,
              "ticks": ""
             }
            },
            "type": "scatterternary"
           }
          ],
          "surface": [
           {
            "colorbar": {
             "outlinewidth": 0,
             "ticks": ""
            },
            "colorscale": [
             [
              0,
              "#0d0887"
             ],
             [
              0.1111111111111111,
              "#46039f"
             ],
             [
              0.2222222222222222,
              "#7201a8"
             ],
             [
              0.3333333333333333,
              "#9c179e"
             ],
             [
              0.4444444444444444,
              "#bd3786"
             ],
             [
              0.5555555555555556,
              "#d8576b"
             ],
             [
              0.6666666666666666,
              "#ed7953"
             ],
             [
              0.7777777777777778,
              "#fb9f3a"
             ],
             [
              0.8888888888888888,
              "#fdca26"
             ],
             [
              1,
              "#f0f921"
             ]
            ],
            "type": "surface"
           }
          ],
          "table": [
           {
            "cells": {
             "fill": {
              "color": "#EBF0F8"
             },
             "line": {
              "color": "white"
             }
            },
            "header": {
             "fill": {
              "color": "#C8D4E3"
             },
             "line": {
              "color": "white"
             }
            },
            "type": "table"
           }
          ]
         },
         "layout": {
          "annotationdefaults": {
           "arrowcolor": "#2a3f5f",
           "arrowhead": 0,
           "arrowwidth": 1
          },
          "autotypenumbers": "strict",
          "coloraxis": {
           "colorbar": {
            "outlinewidth": 0,
            "ticks": ""
           }
          },
          "colorscale": {
           "diverging": [
            [
             0,
             "#8e0152"
            ],
            [
             0.1,
             "#c51b7d"
            ],
            [
             0.2,
             "#de77ae"
            ],
            [
             0.3,
             "#f1b6da"
            ],
            [
             0.4,
             "#fde0ef"
            ],
            [
             0.5,
             "#f7f7f7"
            ],
            [
             0.6,
             "#e6f5d0"
            ],
            [
             0.7,
             "#b8e186"
            ],
            [
             0.8,
             "#7fbc41"
            ],
            [
             0.9,
             "#4d9221"
            ],
            [
             1,
             "#276419"
            ]
           ],
           "sequential": [
            [
             0,
             "#0d0887"
            ],
            [
             0.1111111111111111,
             "#46039f"
            ],
            [
             0.2222222222222222,
             "#7201a8"
            ],
            [
             0.3333333333333333,
             "#9c179e"
            ],
            [
             0.4444444444444444,
             "#bd3786"
            ],
            [
             0.5555555555555556,
             "#d8576b"
            ],
            [
             0.6666666666666666,
             "#ed7953"
            ],
            [
             0.7777777777777778,
             "#fb9f3a"
            ],
            [
             0.8888888888888888,
             "#fdca26"
            ],
            [
             1,
             "#f0f921"
            ]
           ],
           "sequentialminus": [
            [
             0,
             "#0d0887"
            ],
            [
             0.1111111111111111,
             "#46039f"
            ],
            [
             0.2222222222222222,
             "#7201a8"
            ],
            [
             0.3333333333333333,
             "#9c179e"
            ],
            [
             0.4444444444444444,
             "#bd3786"
            ],
            [
             0.5555555555555556,
             "#d8576b"
            ],
            [
             0.6666666666666666,
             "#ed7953"
            ],
            [
             0.7777777777777778,
             "#fb9f3a"
            ],
            [
             0.8888888888888888,
             "#fdca26"
            ],
            [
             1,
             "#f0f921"
            ]
           ]
          },
          "colorway": [
           "#636efa",
           "#EF553B",
           "#00cc96",
           "#ab63fa",
           "#FFA15A",
           "#19d3f3",
           "#FF6692",
           "#B6E880",
           "#FF97FF",
           "#FECB52"
          ],
          "font": {
           "color": "#2a3f5f"
          },
          "geo": {
           "bgcolor": "white",
           "lakecolor": "white",
           "landcolor": "#E5ECF6",
           "showlakes": true,
           "showland": true,
           "subunitcolor": "white"
          },
          "hoverlabel": {
           "align": "left"
          },
          "hovermode": "closest",
          "mapbox": {
           "style": "light"
          },
          "paper_bgcolor": "white",
          "plot_bgcolor": "#E5ECF6",
          "polar": {
           "angularaxis": {
            "gridcolor": "white",
            "linecolor": "white",
            "ticks": ""
           },
           "bgcolor": "#E5ECF6",
           "radialaxis": {
            "gridcolor": "white",
            "linecolor": "white",
            "ticks": ""
           }
          },
          "scene": {
           "xaxis": {
            "backgroundcolor": "#E5ECF6",
            "gridcolor": "white",
            "gridwidth": 2,
            "linecolor": "white",
            "showbackground": true,
            "ticks": "",
            "zerolinecolor": "white"
           },
           "yaxis": {
            "backgroundcolor": "#E5ECF6",
            "gridcolor": "white",
            "gridwidth": 2,
            "linecolor": "white",
            "showbackground": true,
            "ticks": "",
            "zerolinecolor": "white"
           },
           "zaxis": {
            "backgroundcolor": "#E5ECF6",
            "gridcolor": "white",
            "gridwidth": 2,
            "linecolor": "white",
            "showbackground": true,
            "ticks": "",
            "zerolinecolor": "white"
           }
          },
          "shapedefaults": {
           "line": {
            "color": "#2a3f5f"
           }
          },
          "ternary": {
           "aaxis": {
            "gridcolor": "white",
            "linecolor": "white",
            "ticks": ""
           },
           "baxis": {
            "gridcolor": "white",
            "linecolor": "white",
            "ticks": ""
           },
           "bgcolor": "#E5ECF6",
           "caxis": {
            "gridcolor": "white",
            "linecolor": "white",
            "ticks": ""
           }
          },
          "title": {
           "x": 0.05
          },
          "xaxis": {
           "automargin": true,
           "gridcolor": "white",
           "linecolor": "white",
           "ticks": "",
           "title": {
            "standoff": 15
           },
           "zerolinecolor": "white",
           "zerolinewidth": 2
          },
          "yaxis": {
           "automargin": true,
           "gridcolor": "white",
           "linecolor": "white",
           "ticks": "",
           "title": {
            "standoff": 15
           },
           "zerolinecolor": "white",
           "zerolinewidth": 2
          }
         }
        },
        "title": {
         "text": "Average weight and height in each sport"
        },
        "xaxis": {
         "anchor": "y",
         "domain": [
          0,
          1
         ],
         "title": {
          "text": "Sport"
         }
        },
        "yaxis": {
         "anchor": "x",
         "domain": [
          0,
          1
         ],
         "title": {
          "text": "value"
         }
        }
       }
      }
     },
     "metadata": {},
     "output_type": "display_data"
    }
   ],
   "source": [
    "df_weight = df_sports.groupby(\"Sport\")[\"Weight\"].mean()\n",
    "df_weight = pd.DataFrame(df_weight)\n",
    "df_weight = df_weight.reset_index()\n",
    "df_weight.columns = [\"Sport\", \"Average weight\"]\n",
    "\n",
    "df_height = df_sports.groupby(\"Sport\")[\"Height\"].mean()\n",
    "df_height = pd.DataFrame(df_height)\n",
    "df_height = df_height.reset_index()\n",
    "df_height.columns = [\"Sport\", \"Average height\"]\n",
    "\n",
    "df_height_weight = pd.merge(df_weight, df_height, on=\"Sport\")\n",
    "df_height_weight\n",
    "\n",
    "fig = px.bar(\n",
    "    df_height_weight,\n",
    "    x=\"Sport\",\n",
    "    y=[\"Average weight\", \"Average height\"],\n",
    "    barmode=\"group\",\n",
    "    title=\"Average weight and height in each sport\",\n",
    ")\n",
    "fig.show()"
   ]
  }
 ],
 "metadata": {
  "kernelspec": {
   "display_name": "Python 3.9.13 ('Databehandling-Project-r2W3t3mK')",
   "language": "python",
   "name": "python3"
  },
  "language_info": {
   "codemirror_mode": {
    "name": "ipython",
    "version": 3
   },
   "file_extension": ".py",
   "mimetype": "text/x-python",
   "name": "python",
   "nbconvert_exporter": "python",
   "pygments_lexer": "ipython3",
   "version": "3.9.13"
  },
  "orig_nbformat": 4,
  "vscode": {
   "interpreter": {
    "hash": "50e9a28d14dd1bd27d6abbf720f08db569716bfa8259fecc2d2577d0e310da28"
   }
  }
 },
 "nbformat": 4,
 "nbformat_minor": 2
}
